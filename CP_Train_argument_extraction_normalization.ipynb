{
  "cells": [
    {
      "cell_type": "markdown",
      "metadata": {
        "id": "aHFEf8hG4RUB"
      },
      "source": [
        "# Triple and Perspective Extraction and Scoring with Normalization\n",
        "\n",
        "In this notebook you will be fine-tuning a language model to perform triple argument (Subject, Predicate, Object) extraction and candidate triple scoring. For the predicates, you will create various categories, and the aim of the model is to find the predicate token span as well as the most likely category for the predicate. You will use the `pytorch` implementation of `albert-base` provided by the Huggingface `transformers` library and fine-tune this model on PersonaChat, DailyDialog and Circa data annotated with ground-truth triples. You will also try adapt the code to allow for other models and train those models to compare model performances on the normalized predicates. \n",
        "\n",
        "## Overview \n",
        "Adopting a two-stage setup allows maximum flexibility of the triple extraction while making efficient use of the annotated data. The two stages include:\n",
        "\n",
        "1. A sequence labeling (BIO-tagging) model which extracts lists of subjects, predicates and objects from the input dialogue.\n",
        "\n",
        "2. A model which takes combinations of subjects, predicates and objects found and scores these combinations (i.e. all candidate triples) to decide whether the triple can indeed be entailed from the dialogue and what its polarity is.\n",
        "\n",
        "By using this two-stage approach, arbitrary numbers of triples can be extracted and linguistic phenomena such as ellipsis can be accounted for.<br>\n",
        "\n",
        "The first part is most relevant for the extraction of abstract predicates, whereas the second part is relevant for the evaluation."
      ]
    },
    {
      "cell_type": "markdown",
      "metadata": {
        "id": "u6XnlD6P5Tl2"
      },
      "source": [
        "## Getting the Data\n",
        "\n",
        "To get a dataset of ground truth triples a small development set was created. This data has been stored in Google Drive for easy access."
      ]
    },
    {
      "cell_type": "code",
      "execution_count": null,
      "metadata": {
        "colab": {
          "base_uri": "https://localhost:8080/"
        },
        "id": "n9SAUVRc4Jtc",
        "outputId": "6169dfa4-ceb4-4111-ebd9-4f4e160eaa68"
      },
      "outputs": [
        {
          "output_type": "stream",
          "name": "stdout",
          "text": [
            "Mounted at /content/gdrive\n"
          ]
        }
      ],
      "source": [
        "from google.colab import drive\n",
        "\n",
        "drive.mount('/content/gdrive')\n",
        "root_dir = '/content/gdrive/MyDrive/Combots Triple Extraction and Normalization' # change to your own directory"
      ]
    },
    {
      "cell_type": "code",
      "execution_count": null,
      "metadata": {
        "colab": {
          "base_uri": "https://localhost:8080/"
        },
        "id": "elKejMJz6tfG",
        "outputId": "39fb73a7-9ea6-4de9-cbab-0c975611e806"
      },
      "outputs": [
        {
          "output_type": "execute_result",
          "data": {
            "text/plain": [
              "{'tokens': [['i', 'can', 'not', 'pick', '.', 'i', 'love', 'them', 'both'],\n",
              "  ['fair',\n",
              "   'enough',\n",
              "   ',',\n",
              "   'have',\n",
              "   'you',\n",
              "   'ever',\n",
              "   'been',\n",
              "   'to',\n",
              "   'a',\n",
              "   'bake',\n",
              "   'sale',\n",
              "   '?'],\n",
              "  ['yeah', ',', 'i', 'love', 'baked', 'goods', '!']],\n",
              " 'annotations': [[[[0, 0]], [[0, 1]], [[0, 3]], [[0, 2]], []],\n",
              "  [[[0, 5]], [[0, 6]], [[0, 7]], [], []],\n",
              "  [[[1, 4]], [[1, 6], [1, 7]], [[1, 8], [1, 9], [1, 10]], [], []],\n",
              "  [[[2, 2]], [[2, 3]], [[2, 4], [2, 5]], [], []],\n",
              "  [[], [], [], [], []],\n",
              "  [[], [], [], [], []],\n",
              "  [[], [], [], [], []],\n",
              "  [[], [], [], [], []],\n",
              "  [[], [], [], [], []],\n",
              "  [[], [], [], [], []],\n",
              "  [[], [], [], [], []]],\n",
              " 'skipped': False}"
            ]
          },
          "metadata": {},
          "execution_count": 2
        }
      ],
      "source": [
        "import glob\n",
        "import json\n",
        "import random\n",
        "\n",
        "def load_annotations(path, remove_unk=True, keep_skipped=False):\n",
        "    \"\"\" Reads all annotation files from path. By default, it filters skipped\n",
        "        files and removes the [unk] tokens appended at the end of each turn.\n",
        "\n",
        "        params:\n",
        "        str path:           name of directory containing annotations\n",
        "        bool remove_unk:    whether to remove [unk] tokens (default: True)\n",
        "        bool keep_skipped:  whether to keep skipped annotations (default: False)\n",
        "\n",
        "        returns:    list of annotations dicts\n",
        "    \"\"\"\n",
        "    annotations = []\n",
        "    for fname in glob.glob(path + '/*.json'):\n",
        "        with open(fname, 'r', encoding='utf-8') as file:\n",
        "            data = json.load(file)\n",
        "\n",
        "            if data['skipped'] and not keep_skipped:\n",
        "                continue\n",
        "\n",
        "            if remove_unk:\n",
        "                data['tokens'] = [[t for t in turn if t != '[unk]'] for turn in data['tokens']]\n",
        "\n",
        "            annotations.append(data)\n",
        "\n",
        "    return annotations\n",
        "\n",
        "annotations = load_annotations(root_dir + '/annotated_data/trainval') #include in new dir\n",
        "annotations[998]"
      ]
    },
    {
      "cell_type": "code",
      "execution_count": null,
      "metadata": {
        "colab": {
          "base_uri": "https://localhost:8080/"
        },
        "id": "qXwUWdkOEcmo",
        "outputId": "cd000e65-6f27-4781-8932-8ec7ae2ee7fb"
      },
      "outputs": [
        {
          "output_type": "stream",
          "name": "stdout",
          "text": [
            "#dialogs: 1117\n",
            "#triples: 4786\n"
          ]
        }
      ],
      "source": [
        "print('#dialogs:', len(annotations))\n",
        "print('#triples:', sum([sum([any(t) for t in d['annotations']]) for d in annotations]))"
      ]
    },
    {
      "cell_type": "code",
      "execution_count": null,
      "metadata": {
        "id": "mikx1fcmENVY"
      },
      "outputs": [],
      "source": [
        "def get_predicate_tokens(annotation, triple):\n",
        "    if triple[1]:\n",
        "        turn = triple[1][0][0]\n",
        "        start = triple[1][0][1]\n",
        "        end = triple[1][-1][1]\n",
        "        # print(\"turn, start, end\", turn, start, end)\n",
        "        # print(\"whole sentence:\", ' '.join(annotation['tokens'][turn]))\n",
        "        # ending = end + 1\n",
        "        # print(\"the predicate:\", ' '.join(annotation['tokens'][turn][start:end + 1]))\n",
        "        return ' '.join(annotation['tokens'][turn][start:end + 1])\n",
        "    else:\n",
        "        return None"
      ]
    },
    {
      "cell_type": "code",
      "execution_count": null,
      "metadata": {
        "colab": {
          "base_uri": "https://localhost:8080/"
        },
        "id": "Je4fp0f6GEy7",
        "outputId": "f38b92be-9806-4daf-de81-18ea30012a98"
      },
      "outputs": [
        {
          "output_type": "stream",
          "name": "stdout",
          "text": [
            "{'tokens': [['yes', ',', 'i', \"'m\", 'pretty', 'sure', '.'], ['do', 'you', 'have', 'her', 'address', '?'], ['yes', ',', 'i', 'do', '.', 'it', \"'s\", '109', 'locks', 'ave', ',', 'l8v', '4n9', '.']], 'annotations': [[[[0, 2]], [[0, 3]], [[0, 4], [0, 5]], [], []], [[[1, 1]], [[1, 2]], [[1, 3], [1, 4]], [], []], [[[2, 2]], [[1, 2]], [[1, 3], [1, 4]], [], []], [[[2, 5]], [[2, 6]], [[2, 7], [2, 8], [2, 9], [2, 10], [2, 11], [2, 12]], [], []], [[[1, 3], [1, 4]], [[2, 6]], [[2, 7], [2, 8], [2, 9], [2, 10], [2, 11], [2, 12]], [], []], [[], [], [], [], []], [[], [], [], [], []], [[], [], [], [], []], [[], [], [], [], []], [[], [], [], [], []], [[], [], [], [], []]], 'skipped': False}\n"
          ]
        },
        {
          "output_type": "execute_result",
          "data": {
            "text/plain": [
              "'need'"
            ],
            "application/vnd.google.colaboratory.intrinsic+json": {
              "type": "string"
            }
          },
          "metadata": {},
          "execution_count": 5
        }
      ],
      "source": [
        "print(annotations[3])\n",
        "get_predicate_tokens(annotations[1], annotations[1]['annotations'][0])"
      ]
    },
    {
      "cell_type": "markdown",
      "metadata": {
        "id": "CvSlrU9dH2xp"
      },
      "source": [
        "## Who are 'You'?: Disambiguating You and I\n",
        "\n",
        "In the text the speakers are referred to as ambiguous tokens *You* and *I*. As these words are ambiguous and their meaning depends on the speaker who utters them, we replace these tokens by [SPEAKER1] and [SPEAKER2] contingent on the speaker (e.g. speaker 2 saying you indicates, [speaker1])"
      ]
    },
    {
      "cell_type": "code",
      "execution_count": null,
      "metadata": {
        "id": "XlETfhBLIDeE"
      },
      "outputs": [],
      "source": [
        "SPEAKER1 = 'SPEAKER1'\n",
        "SPEAKER2 = 'SPEAKER2'\n",
        "\n",
        "def disambiguate_pronouns(token, turn_idx):\n",
        "    # Even turns -> speaker1\n",
        "    if turn_idx % 2 == 0:\n",
        "        if token in ['i', 'me', 'myself', 'we', 'ourselves']:\n",
        "            return SPEAKER1\n",
        "        elif token in ['my', 'mine', 'our', 'ours']:\n",
        "            return SPEAKER1 + \"'s\"\n",
        "        elif token in ['you', 'yourself', 'yourselves']:\n",
        "            return SPEAKER2\n",
        "        elif token in ['your', 'yours']:\n",
        "            return SPEAKER2 + \"'s\"\n",
        "    else:\n",
        "        if token in ['i', 'me', 'myself', 'we', 'ourselves']:\n",
        "            return SPEAKER2\n",
        "        elif token in ['my', 'mine', 'our', 'ours']:\n",
        "            return SPEAKER2 + \"'s\"\n",
        "        elif token in ['you', 'yourself', 'yourselves']:\n",
        "            return SPEAKER1\n",
        "        elif token in ['your', 'yours']:\n",
        "            return SPEAKER1 + \"'s\"\n",
        "    return token"
      ]
    },
    {
      "cell_type": "code",
      "execution_count": null,
      "metadata": {
        "colab": {
          "base_uri": "https://localhost:8080/"
        },
        "id": "Y0XasWY9IGNm",
        "outputId": "062950ea-550f-497f-ed02-70ce647252c4"
      },
      "outputs": [
        {
          "output_type": "execute_result",
          "data": {
            "text/plain": [
              "{'tokens': [['what', 'about', 'this', '?'],\n",
              "  ['let',\n",
              "   'SPEAKER2',\n",
              "   'try',\n",
              "   'it',\n",
              "   'on',\n",
              "   ',',\n",
              "   'it',\n",
              "   \"'s\",\n",
              "   'too',\n",
              "   'small',\n",
              "   'for',\n",
              "   'SPEAKER2',\n",
              "   ',',\n",
              "   'have',\n",
              "   \"n't\",\n",
              "   'SPEAKER1',\n",
              "   'got',\n",
              "   'any',\n",
              "   'larger',\n",
              "   'ones',\n",
              "   '?'],\n",
              "  ['yes', ',', 'try', 'this', 'one', 'please', '.']],\n",
              " 'annotations': [[[[1, 6]], [[1, 7]], [[1, 8], [1, 9]], [], []],\n",
              "  [[[1, 15]], [[1, 16]], [[1, 18], [1, 19]], [], []],\n",
              "  [[], [], [], [], []],\n",
              "  [[], [], [], [], []],\n",
              "  [[], [], [], [], []],\n",
              "  [[], [], [], [], []],\n",
              "  [[], [], [], [], []],\n",
              "  [[], [], [], [], []],\n",
              "  [[], [], [], [], []],\n",
              "  [[], [], [], [], []],\n",
              "  [[], [], [], [], []]],\n",
              " 'skipped': False}"
            ]
          },
          "metadata": {},
          "execution_count": 7
        }
      ],
      "source": [
        "for annotation in annotations:\n",
        "    annotation['tokens'] = [[disambiguate_pronouns(token, i % 2) for token in turn] for i, turn in enumerate(annotation['tokens'])]\n",
        "annotations[0]"
      ]
    },
    {
      "cell_type": "markdown",
      "metadata": {
        "id": "sNHyj5A8x6a6"
      },
      "source": [
        "# Creating sets of abstract predicates\n",
        "\n",
        "First, we create a set consisting of all unique token spans annotated as 'predicate'. This is the set from which you need to create a set of abstract predicates. Notice that a lot of 'unique predicates' are also annotation errors, where the subject or object has been included in the predicate annotation. \n",
        "\n",
        "For each of the abstract predicates you define, you will need to create a numerical B- and I-tag for the BIO tag annotation that we will use. Start from (3,4) for the first tag (e.g. B-like, I-like). The tag 0 is reserved for 'O', and 1 and 2 are reserved for the B- and I-tags for subjects and objects. \n",
        "\n",
        "Once you've created a set of abstract predicates and their corresponding B- and I-tags, you will need to create two lookup dictionaries for the BIO tagging that we will do later on. The dictionary `lookup` is used to get the correct BIO tag from the predicate token span and is used for converting triples to BIO-tags. The dictionary `bio_lookup` is used to get the abstract predicate from the BIO tag, and is used to convert BIO tags to tokens."
      ]
    },
    {
      "cell_type": "code",
      "execution_count": null,
      "metadata": {
        "id": "3iaMqomRRgGX"
      },
      "outputs": [],
      "source": [
        "unique_predicates = set()\n",
        "for ann in annotations:\n",
        "  for triple in ann['annotations']:\n",
        "    pred = get_predicate_tokens(ann, triple)\n",
        "    if pred is not None:\n",
        "      unique_predicates.add(pred)"
      ]
    },
    {
      "cell_type": "code",
      "execution_count": null,
      "metadata": {
        "colab": {
          "base_uri": "https://localhost:8080/"
        },
        "id": "CbnMK66kRiOZ",
        "outputId": "058ca210-718a-40cc-ceae-9850a8937a6b"
      },
      "outputs": [
        {
          "output_type": "stream",
          "name": "stdout",
          "text": [
            "1231\n",
            "{'', 'was still in', 'do for a job', 'think about', 'like us to', 'read it often', 'should go to buy', 'ai', 'exfoliating', 'in need of', 'called', 'worked with', 'look for', 'like to drink', 'help SPEAKER1 in this city', 'find out', 'getting', 'could supply', 'seems', 'will have', 'go', 'made', 'dropped', 'love to go to', 'presented', 'practiced a lot as a kid', 'calms SPEAKER1 down', 'fell on', \"'m scared of\", 'live in', 'moved from', 'daydream about', 'listening to', 'have anything to', 'only eat', 'sort', 'keen on', 'ready to', 'are SPEAKER1 up to', 'volunteer with', 'meet', 'followed', 'spend', 'made in', 'would', 'get along with', 'like to try', 'is', 'suitable for', 'ask bill if', 'ran', 'would be', 'expect to', 'go to college for', 'get to', 'want to be', 'like doing', \"ca n't wait for\", \"could n't stand\", 'comes by', \"'m a huge fan of\", 'trying to be', 'needed to', \"help SPEAKER1's mom out\", 'be here for', 'love watching birds from indoors', \"'ll just put SPEAKER2's coat away\", \"'ll be expecting\", 'look forward to', 'scared to', 'going out to', 'close', 'work out', 'involve', 'do for SPEAKER1', 'eaten', 'spent too much on', 'working on', 'watching', 'worried about', 'hate', 'would SPEAKER1 like', 'works in', 'staying at', 'kidding', 'vote for', 'nervous for', \"'s out for\", 'prefer not to', 'seeking', 'give SPEAKER2', 'drives', \"dressed SPEAKER1's yorkie as a lion\", 'took them to her grave', 'are 30 pounds over weight', 'sell', 'can speak', 'travel more for', 'should leave', \"'s mixed with\", 'would not change', 'fit in', 'have caught', 'moved back here from', 'got done', 'says', 'like to have', 'do better than', 'imagining', 'are they in', 'got SPEAKER1 interested in', 'should get', 'use to have', 'make it a secret between us', \"ca n't endure\", \"ca n't imagine\", 'into', 'looking for', 'make SPEAKER2', 'like some magic to take away', 'wants to be', 'like going out to', 'helped out with', 'go first thing in', \"'m good , at work on\", 'was fake straight for a long time', 'read', 'staying in', \"'m good , at\", 'loves', 'can SPEAKER1 help', 'moved here when', 'working in', 'show up for', 'had', 'wish', \"'s taking mom out\", 'new to', \"'re on\", 'meditate to', 'like to make', \"'m not really a fan\", 'always worked in', 'paying attention to', 'washed', 'have family in the area', 'have', 'moved in', 'may SPEAKER2 take', \"' s\", 'have experience', 'transferred into', 'portray women as weak', 'am off for', 'willing to do', 'can SPEAKER1 listen to', 'frustrated with', 'missed', 'scares', 'visiting from', 'comes in', 'waiting', 'divorced', 'write', 'slept like', 'have SPEAKER1 always worked in', 'left', 'copy', 'been together', 'listen to', 'passing', 'located', 'think', 'pays', 'like to cook for', 'going to', 'am into', 'learning', 'bring', 'glad SPEAKER1', 'waiting for SPEAKER1 in', 'charge it to', 'go out to', 'have to be', 'can not deal with', 'allow SPEAKER1', 'is in', 're', \"'s a story about breakdancing in\", 'dig', \"'m coming here for\", 'sounds like', 'good at', 'show on', 'fit SPEAKER2 right', 'being from', 'can take', 'growing up as', 'had breakfast at a great restaurant', \"'ll be at\", 'will hold', 'bad at', 'has SPEAKER1', 'stay in', \"'m content\", 'ride', 'are required to', 'want to do', 'dye', 'be at', 'from', 'pleased that', 'keep', 'blast', 'it', 'went', 'assist', 'hiked', 'started', 'will open', \"is SPEAKER2's family at\", 'like to meet SPEAKER2 for a drink', 'check out', 'speak', 'going', 'wake up', 'can catch', 'found in', 'serve', 'bought', 'working', 'able to find', 'am just relaxing at home in', 'made up', 'got in because', 'help while in', 'costs', 'like to pay', 'live by', 'busy with', 'purchasing', 'support', \"trying them on SPEAKER1's travels\", 'need to make per year', \"was n't feeling\", 'will request hr to', \"drive SPEAKER1's big truck around\", 'be able to take the test again', 'like to send', 'be seen', 'am more in to', 'devote more time to', 'wrecked', 'be deciding about switching', 'have soap in them', 'try', 'hang', 'died', \"'s just off of\", 'is just below', 'drinking', 'proposed to', 'imported from', 'want the money to be transferred', 'live above', 'stop for', 'is a run at', 'for', 'hike', 'felt', \"'ve got\", 'used to be', 'run', 'were SPEAKER1 in attendance at', \"must n't sit on\", 'believe in', 'came here to be', 'should pay', 'arriving at', 'can always play', 'could start with', 'build houses upon request', 'pass', 'm', 'wanna try out', 'become', 'dial', 'fix', 'goes great with', 'work for', 'taught in', 'wanna talk about', 'is serious business for', 'knew', 'meet for', 'is someone coming to get', 'know nothing about', 'can SPEAKER1 show SPEAKER2', 'pet sitting', 'love to', 'sleep', 'sing in', 'ordered', 'call SPEAKER2', 's it going', 'note', 'majoring in', \"' m\", 'sleep with', 'lived', 'talking about', 'might', 'cook to', 'can alphabetize', 'say', 'am also from', 'SPEAKER1', 'like listening to', 'ordering', 'been having', 'can', 'starving', 'quit', 'can SPEAKER1 recommend SPEAKER2', 'can SPEAKER1 pay with', 'on', 'living in', 'tell SPEAKER1', 'checked in', 'love to go to the beach with', 'sound appealing to', 'need to', \"spend all SPEAKER1's money on shopping\", 'are they from', 'has to', 'are SPEAKER1 trying to get', 'relaxing with', 'share a one bedroom with', 'hold', 'will comes', 'scrap', \"'s naturally\", 'migrate from', 'look like', 'was a serious disturbance in', 'should SPEAKER2 call', 'used', 'send it to', 'hope SPEAKER2', 'have seats for', 'would SPEAKER2 please keep', 'is the novel about', 'started in', 'm in', 'miss', 'love to live on', \"'s a copy machine on\", 'getting ready for', \"'m taking the kids to\", \"'ve to\", 'tired from', 'feel', 'love to sit around', 'saw', \"ca n't\", \"ca n't afford to\", 'want to be here tomorrow', \"'m excited to\", 'need a full time job for health insurance', 'do', 'grow', 'are', 'is far away from', 'can phone', 'speak to', 'living here for', 'have to give SPEAKER1', 'concerned about', 'played', 'watched', 'getting into', 'washing', 'land', \"'s plenty for\", 'can try', 'in touch with', 'let SPEAKER1', 'can have weekends free', 'migrated to', 'going to transfer', 'be a type of', 'be', 'recommend', \"lived there SPEAKER1's whole life\", 'trying', 'drink', 'visit', 'depends on', 's', 'feel like', 'been living', 'aced', 'work', 'got us', 'take SPEAKER1 to', 'is arriving', 'like cash back', 'taken', 'prefer', 'eats', 'doing', \"ca n't drink\", 'retired', 'joined', 'have got', 'are SPEAKER1 sure', 'should really limit', \"doing SPEAKER1's body good\", 'went to town on', 'like to be', 'afraid of', 'shooting', 'throw it off', 'wanted to', 'is on', 'should drink more', 'move from', 'make bank', \"wo n't pull\", 'living here for a long time', 'went for', 'must leave for', 'teaches', 'can accommodate', \"'ve a crush on\", 'teach', 'ready for', \"'m in between\", 'used to', 'help SPEAKER2', 'forget', 'would rather', 'read those as a child', 'gone to', 'spent', \"'re\", 'must be', 'like to find', 'planning on', \"purchased SPEAKER1's from ikea\", 'available at', 'are SPEAKER1 in', 'caused', 'smells', 'interested in going to', 'chase', 'can SPEAKER1 do', 'fill up', 'bring SPEAKER1', 'is one of', \"' m in\", 'been learning', 'caught on', 'paint', 'could SPEAKER2 speak to', 'falling in', 'saves', 'need', 'have dreamed of going', 'wasted', 'is a block away', 'remember', 'roleplaying as', 'can SPEAKER1 give SPEAKER2', \"would n't mind\", 'been employed', 'be there before', 'turn', 'worry about', 'deserving of', 'threw a milk carton at SPEAKER1', 'different from', 'can SPEAKER1 handle', 'booked', 'start in', 'seemed', 'can not kick', \"'re going to\", 'in', 'got back from', 'close to', 'teach in', 'worn it much', 'draw them all the time , all over', 'was just walking', 'is for', 'cooking', 'could make it as', 'need to go back to', 'feel about', 'loved', 'fine for', 'talk to', 'add', 'play hoops with', 'pay for', 'are SPEAKER2 up to', 'better than', \"'m really into\", 'comes to', 'loses', 'about to fix', 'are SPEAKER1 from', 'was', 'burned down', 'work in', 'will be', 'able to', 'buying', 'got ta', 'tired', 'came to', 'good', 'had to', 'trying to', 'rush', 'planing on watching', 'like to see in beijing', 'moved', 'work at', 'take advantage of', 'describe', 'could', 'have SPEAKER1 planned to go', 'volunteer at', \"'ve\", 'like to leave on', 'taste like', 'have ideas about', 'graduated from', 'hates', 'do for a living', 'arrested', 'teaching at', 'allowed to', 'heard', 'its', 'want to take', 'displays', 'race the cars for a living', 'works', 'was always with', \"'m part of\", 'can stay', 'will', \"'m from\", 'like to go', 'obsessed with', 'will never have', 'considered', \"can ' t seem to make\", 'got home from', 'like it cut', \"do SPEAKER1's job remotely\", 'wear it that way', 'can get', 'enjoyed', 'have experience in', 'teach during', \"'s in\", 'inspired SPEAKER1 to', 'did', 'can call it in', 'would love', 'study', 'would never stab SPEAKER1 in the back', 'kept SPEAKER1 up all night', 'live around', 'singing', 'hiking with', \"'ll get SPEAKER2\", 'teach at', 'be in', 'go just for', 'change', 'take', 'can SPEAKER2 hold', 'makes', \"would n't eat\", 'have any experience in', \"'ve stay with\", 'let SPEAKER2 do', 'will there be', 'is there good hiking spots near', 'can play', 'will bring SPEAKER1 back', 'can really get in touch with', 'let', 'permitted in', 'make a recommendation for SPEAKER1', 'lose track of', \"spend SPEAKER1's holidays from\", 'meet up for', 'should try', \"'m usually out\", 'listened to', 'can only spend', 'watch', 'cut out', 'stay home with', 'hear about', 'take lots at the bar', 'have any rooms available', 'glad to', 'turn right at', 'play in', 'named', 'are SPEAKER1 glad', 'parked in', 'try to', 'studying', \"'d like to be\", 'be available', 'bake', 'know much about', 'heard about', 'like to stay', 'want something to', 'serving in', 'spent the day in', 'can SPEAKER2 take the test again', 'calling from', 'made some for', 'cook', 'like', 'enjoying', 'uses', 'are SPEAKER1 glad the week is over', 'like to depart', 'wass', 'wanting to', 'goes to', 'can relax', 'eat at', \"ca n't stand\", 'bumped into', 'turning', 'arrange', 'exchange', 'came home from', 'know', 'walking around', 'been in', 'are SPEAKER1 still on', 'use to', 'should SPEAKER2 buy', 'want to', 'may SPEAKER1 speak to', 'got ta go get', 'work tonight at', 'come', 'is like', 'hope to', 'send somebody over', 'hard to', \"get SPEAKER1's keys out\", 'need to be', 'should leave for a tip', 'are SPEAKER1 in to', 'retired for', 'get', 'like to eat at', 'open about', 'can be', 'seeing SPEAKER1 tomorrow', \"'re arriving\", 'stay at', 'market for', 'live here in', 'dancing', 'can refund', 'cook for', 'do SPEAKER1 for a living', 'ca nt do', 'are SPEAKER1 looking for', 'am very sociable at the weekend', 'smoke', 'hope', 'work with vets as', 'gives SPEAKER1', 'accept', 'interested in', 'was planning on going', 'decided', 'like having people around SPEAKER1', 'like to go for', 'geocache', 'move here with', 'grow well only in', 'must water', \"'m not familar with\", 'sit on', 'would like', 'love being with', 'thought about', 'exercise', 'are SPEAKER1 into', 'get along', 'take care of', 'setting here with', 'may consider', 'hurts', 'rule', 'use to buy', 'want to pay', 'takes', 'married', 'pay', 'coming to', 'backed into', 'pass out', 'can SPEAKER2 help SPEAKER1 contact', 'tried', \"need to get SPEAKER1's dance gear ready\", 'align with', 'got', 'finished', 'gone out on', 'like to', 'seem to', 'tore off', 'is always a need for', 'playing with', 'scalded on', 'manage', 'tried to', \"'s not looking good for\", 'broke up with', 'guaranteed', 'like to buy', 'should sms over', 'been here for', 'start', 'likes', 'go to far from', 'knew it was', 'should appreciate', 'would SPEAKER1 ever learn to', 'know about', 'would pay', 'looks like', 'am still in', 'know a lot about', 'count', 'should choose from', 'worked in', 'can stay there for hours', 'take SPEAKER2', 'tastes like', 'can not afford', 'looking forward to', 'get a good look at', 'train', 'pray for', 'm also into', 'fell', 'have family', 'should see', 'learned', 'gave SPEAKER1', 'voted for', 'told', 'getting to', 'dance', 'been looking forward to', \"'s this for\", 'charge', 'joining', 'race', 'shopping for', 'like being at', 'exhausted from', 'make SPEAKER1', 'graduated', \"'s for\", 'keep SPEAKER2', 'know how to use', 'be something wrong with', 'post', 'get enough of', 'get dogs at the clinic', 'forget to', 'open to', 'pull out', 'can SPEAKER2 have', 'tell SPEAKER1 to', 'switched from', 'depositing', 'distinguished for', 'am currently looking for', 'work as', 'catching up on', 'write to', 'took', 'moved to', 'brought', 'planned', 'staying', 'type', 'about', 'keep SPEAKER1 safe', 'would like to', 'could get', 'reserved', 'mind if SPEAKER2 walk to', 'beat', 'has c complications from surgery', 'take fridays off', 'be gone in', 'plan to go', 'is that considered', 'swim', 'tour', 'want to go out to', 'be quiet for SPEAKER1', 'dancing on', 'breakdance', 'play the piano in', 'love listening to', \"'re planning\", 'should join', 'try not to', 'lives in', 'should', 'have no reason to distrust', 'bring SPEAKER2', 'similar to', 'found', 'is two pounds over', 'be lead by', 'happen to', 'am a fan of', 'had so much fun at', \"'s got\", 'still at', \"'m going to\", 'going to be taking', 'like SPEAKER1', 'get in english 101', 'like to live in', 'being', 'can not find', 'are SPEAKER1 a fan of', \"is n't much room for\", 'need this weekend to', 'follow in', 'need SPEAKER2 help', \"ca n't afford\", 'allow', 'hear SPEAKER2 clearly', 'may SPEAKER1 borrow', 'could go', 'am on', 'looks', 'been able to', 'going on', 'stayed last night in', 'tell', 'can also try', 'hanging with', 'like to read', 'am', 'want them all in fifties', \"is going to make SPEAKER2's life easy\", 'buy', 'meet up with', 'am in', 'had to give SPEAKER1 3 shoots', 'playing', 'come with', 'seen', 'would make SPEAKER1', 'love to own', 'is it in', 'passed', 'pay by', 'go there with', 'order', \"'s lunch time for SPEAKER1\", 'plan to', 'take up', 'going at', 'wo', 'raise', 'been up to', 'want', 'moved back to', 'worked', 'love to sing', 'gets', \"do all SPEAKER1's shopping through\", 'stay', 'played piano in', 'should consider', 'talking to', 'came back in', 'enjoy working with', 'will have to take', 'church on', 'want to watch a movie together', 'play off', 'to withdraw', 'can use', 'spending', 'having', \"ca n't handle\", 'like watching', \"'ll be\", 'proficiency in', 'can have', 'forgot', 'could SPEAKER1 fill out', 'majored in', 'eating', 'go hiking often', 'help with', 'played on', \"'m not into\", 'make SPEAKER1 look', 'could take', 'am obsessed with', 'been', 'smoking', 'got more', 'have direct contact with', 'play', 'replaying', 'wants to', 'dislike', 'like to purchase', 'live', 'can SPEAKER1 play', 'studied', 'lived here for a month', 'are still in', 'want SPEAKER2 to sign', 'makes SPEAKER1', 'travel here for', 'got SPEAKER1', \"'ll make it work\", 'is it for', 'opened up', 'will take', 'give SPEAKER1 time to do', 'living on', 'binging', 'plan on making', 'get off', 'fancy', 'gone', 'owe SPEAKER1', 'will come', 'are SPEAKER2 shopping for', 'go there', 'rather stay', 'has', \"'m on\", 'get ready', 'hated', 'catches', 'keep SPEAKER2 from', 'stand up at', 'sounds', \"ca n't put up with\", 'must SPEAKER2 pay', 'go to', 'have a seat available', 'driving under', 'could SPEAKER2 try it on', 'kept in', 'born in', 'bring it over', 'never', 'hear', 'play the cd loud', 'prefer to', 'sheds', 'taking', 'got off', 'built', 'lost', 'come to', 'do for fun', 'cancelled', 'getting ready to take', 'got a 4 . 0 in that class', \"'m\", 'said', 'are SPEAKER2 on', 'reach', 'hard for', 'mean', 'enjoys', 'saving for', 'teaching', 'send', 'help SPEAKER1', 'provide', 'killed', 'shop', 'drive', 'can SPEAKER1 spend', 'sing', 'arrives at', 'intend to', 'is to play', 'making', 'worked here long time', 'allowed', 'am just relaxing at', 'went to', 'inherited', 'reading', 'relaxing', \"'d tike to buy\", 'staying with', 'can see', 'want it', 'try out', 'sign', 'put on', 'require', 'lived there', 'work with', 'wearing', 'was a camera on', 'living', 'going to across', \"have n't picked\", 'like going to', 'looking in to', 'does', 'help', 'mind going on', 'is one at', 'wanting', 'going thru', 'care if', 'wake SPEAKER1 up at', 'ride to', 'can talk about', 'like to use', 'mixing', 'finished up', 'in between', 'give', 'dancing in', 'started as', 'owns', \"dye SPEAKER1's hair red\", 'like talking about', 'love working on', 'should light', 'make it', 'volunteer', \"have n't made\", 'will spend most of the weekend with', 'matched', 'been to', 'could add', 'won', 'love', 'know a country song about that', 'retired from', 'travel', 'selling', 'felt connected to', 'are SPEAKER2 ready to', 'was in', 'been an employee of', 'can SPEAKER1 show', 'have no problem with that', 'glad', 'are SPEAKER1 still into', 'gon na be', 'would give SPEAKER1', 'lead', 'want to extend', 'may SPEAKER2 have', 'allow people to check out', 'began', 'with', 'can go', 'is to leave nothing for a tip', 'have a small team under SPEAKER1', 'get off on', \"'m in\", 'good for', 'should SPEAKER2 meet', 'bring in', 'planning', 'work a lot during', 'like to do', 'include', 'live with', 'here for', 'thinking', 'cook 100 meals for', 'will suit SPEAKER1 best', 'pay more attention to', 'tutor', 'has been', 'supporting', 'see', 'were SPEAKER1 in the chair', 'excited to', 'cost', 'heard of', 'know SPEAKER1 by face', \"burn SPEAKER1's house down\", 'like to go further in', 'passionate about', \"'ll learn to deal with\", 'get real good at', 'gave him to us', 'plays', 'getting ready to', 'find', 'fighting people off', 'taught', \"'ll\", 'will all be', 'went to watch it out of curiosity', 'survived', 'grow up in', \"'d like\", 'to', 'am from', 'have to', 'read biographies to', 'had not time for', 'locked SPEAKER1 out', 'mow', 'should have', 'make', 'wears', 'rather save', 'working at', \"could n't recognize\", 'working nights at', \"should SPEAKER2 take SPEAKER2's shoes off\", 'interest', 'build', 'double cross', 'leaking for', \"need all of SPEAKER1's supplies right away\", 'could live', 'can make', 'is something wrong with', \"was n't for\", 'going for', 'like to meet up with', 'grew up in', 'read the classics in college', \"'m hoping to visit\", 'were', 'responding to', 'should sell', 'helped', \"ca n't eat\", 'like reading', 'are SPEAKER2 in', 'switched', 'spell anything wrong', 'was on', 'married SPEAKER1 for', 'thinking about', 'like to go to', 'like to do for fun', 'can always use', 'is about', 'speaking of', 'stand for', 'share', 'be around for', 'look', 'faster than', 'mean to', 'wants', 'recycle', \"like to buy a keepsake for SPEAKER1's girlfriend\", 'guided', 'can do', \"sent SPEAKER1's car to be fixed\", 'am sneaking away to', 'share with', 'cost SPEAKER1', 'harder than', 'lived there for', 'stick to', \"is n't more expensive than\", 'writing', 'is set on', 'eat', 'send it by airmail', 'located in', 'made of', 'play soccer on', 'interviewed with', 'would love to', 'love to look at', 'code', 'play on', 'adopted', 'like to return', 'prefer not to bother', 'making more than', \"'s\", 'rained', 'go next', 'like being', 'draw', 'set in', 'own', 'enjoy', 'shuts down in', 'use', 'like to sing', 'robbed', 'about to', 'runs'}\n",
            "<class 'set'>\n"
          ]
        }
      ],
      "source": [
        "print(len(unique_predicates))\n",
        "print(unique_predicates)\n",
        "print(type(unique_predicates))"
      ]
    },
    {
      "cell_type": "markdown",
      "metadata": {
        "id": "fyTxtPxtVag6"
      },
      "source": [
        "### Stemming and cleaning of the unique predicates"
      ]
    },
    {
      "cell_type": "code",
      "execution_count": null,
      "metadata": {
        "id": "6FEml0feZWkg"
      },
      "outputs": [],
      "source": [
        "import spacy\n",
        "\n",
        "nlp = spacy.load('en_core_web_sm')"
      ]
    },
    {
      "cell_type": "code",
      "execution_count": null,
      "metadata": {
        "colab": {
          "base_uri": "https://localhost:8080/"
        },
        "id": "ZwhAhmWNVZ8T",
        "outputId": "5aacdc21-1a9e-46e8-d25a-a49b55ea1311"
      },
      "outputs": [
        {
          "output_type": "stream",
          "name": "stdout",
          "text": [
            "1000 1231\n",
            "{'', 'catch on', 'do for a job', 'will suit well', 'think about', 'cook', 'want they all in fifty', 'read it often', 'should go to buy', 'ai', 'can', 'dislike', 'have seat for', 'like', 'like to purchase', 'read biography to', 'live', 'quit', 'go on', 'in need of', 'on', 'like to depart', 'be ready to', 'live here for', 'wass', 'look for', 'be a serious disturbance in', 'like to meet for a drink', 'like to drink', 'love to go to the beach with', 'relax with', 'find out', 'can relax', 'binge', 'mind go on', 'talk about', 'eat at', 'need to', 'move in', 'migrate to', 'save for', 'be try to get', 'could supply', 'get more', 'dress be yorkie as a lion', 'share a one bedroom with', 'relax', 'will have', 'go', 'obsess with', 'feel connected to', 'be just relax at', 'arrange', 'be one at', 'travel here for', 'love listen to', 'be in the chair', 'hold', 'well than', 'make of', 'love to go to', 'exchange', 'can t seem to make', 'like read', 'know', 'portray woman as weak', 'will take', 'scrap', 'migrate from', 'be quiet for', 'be hope to visit', 'look like', 'use to', 'be always a need for', 'can not drink', 'move back to', 'want to', 'help in this city', 'catch', 'propose to', 'get off', 'will get', 'live in', 'would please keep', 'work tonight at', 'sound like', 'send it to', 'graduate from', 'come', 'fall', 'will learn to deal with', 'could not recognize', 'follow', 'daydream about', 'miss', 'see tomorrow', 'be currently look for', 'have anything to', 'will come', 'go there', 'rather stay', 'only eat', 'retire', 'have not pick', 'may take', 'hope to', 'adopt', 'sort', 'import from', 'love to live on', 'cause', 'park in', 'send somebody over', 'keen on', 'be come here for', 'hard to', 'reserve', 'need to be', 'shop for', 'should leave for a tip', 'ready to', 'have soap in they', 'make up', 'will just put be coat away', 'get', 'hurt', 'have not make', 'get ready', 'go to watch it out of curiosity', 'give time to do', 'tired from', 'be not really a fan', 'like to eat at', 'feel', 'stand up at', 'exfoliate', 'love to sit around', 'open about', 'will bring back', 'sound', 'can be', 'volunteer with', 'meet', 'be content', 'go to', 'want to be here tomorrow', 'stay at', 'would not mind', 'market for', 'need a full time job for health insurance', 'live here in', 'play piano in', 'save', 'spend', 'open up', 'would', 'get along with', 'have a seat available', 'arrest', 'be the novel about', 'do', 'grow', 'join', 'go out on', 'sound appeal to', 'do well than', 'like to try', 'can refund', 'cook for', 'find in', 'call from', 'go at', 'suitable for', 'can phone', 'work here long time', 'have plan to go', 'be 30 pound over weight', 'be learn', 'can not imagine', 'be one of', 'catch up on', 'ask bill if', 'speak to', 'bring it over', 'would be', 'have stay with', 'expect to', 'speak of', 'get to', 'go to college for', 'wear it much', 'would give', 'never', 'can handle', 'want to be', 'smoke', 'be not familar with', 'get back from', 'washing', 'hope', 'hear', 'move to', 'play the cd loud', 'land', 'can try', 'in touch with', 'accept', 'roleplay as', 'interested in', 'be it in', 'prefer to', 'like to go for', 'geocache', 'come to', 'be be family at', 'would like to be', 'do for fun', 'move here with', 'be a type of', 'be really into', 'be here for', 'be good at work on', 'be', 'grow well only in', 'recommend', 'must water', 'be sure', 'respond to', 'look forward to', 'sit on', 'drink', 'scared to', 'would like', 'reach', 'be scared of', 'close', 'work out', 'hike with', 'hard for', 'mean', 'involve', 'help be mom out', 'wreck', 'exercise', 'get a 4 . 0 in that class', 'visit', 'get along', 'can help contact', 's', 'get we', 'feel like', 'take care of', 'go for', 'should take be shoe off', 'work', 'scare', 'may consider', 'need all of be supply right away', 'rule', 'like cash back', 'grow up as', 'use to buy', 'send', 'want to pay', 'be to leave nothing for a tip', 'sleep like', 'could fill out', 'practice a lot as a kid', 'hate', 'prefer', 'survive', 'replay', 'provide', 'pay', 'hard than', 'be far away from', 'vote for', 'nervous for', 'frustrate with', 'pass out', 'should really limit', 'do all be shopping through', 'like to be', 'prefer not to', 'afraid of', 'throw it off', 'look in to', 'shop', 'get into', 'be a block away', 'align with', 'drive', 'bear in', 'be set on', 'move from', 'should drink more', 'sing', 'make bank', 'live on', 'drop', 'can not do', 'keep safe', 'fancy', 'leak for', 'intend to', 'go great with', 'would tike to buy', 'shut down in', 'singe', 'like to', 'seem to', 'make some for', 'be still into', 'sell', 'manage', 'can speak', 'travel more for', 'like watch', 'must leave for', 'should leave', 'can accommodate', 'would not change', 'visit from', 'teach', 'fit in', 'ready for', 'give he to we', 'can see', 'want it', 'starve', 'consider', 'name', 'try they on be travel', 'forget', 'be fake straight for a long time', 'would rather', 'try out', 'spend all be money on shopping', 'come back in', 'be for', 'sign', 'like to have', 'put on', 'read those as a child', 'require', 'be sneak away to', 'like to buy', 'work with', 'be about', 'should sms over', 'should get', 'tear off', 'be out for', 'use to have', 'start', 'stay last night in', 'be naturally', 'ace', 'finish', 'must be', 'go to far from', 'can hold', 'want the money to be transfer', 'be an employee of', 'permit in', 'retire for', 'shoot', 'like to find', 'should buy', 'finish up', 'should appreciate', 'like talk about', 'into', 'be see', 'know about', 'be off for', 'concern about', 'help', 'always work in', 'can not endure', 'available at', 'may borrow', 'owe', 'decide', 'back into', 'chase', 'would pay', 'get dog at the clinic', 'like some magic to take away', 'like be', 'deposit', 'be still in', 'be also from', 'have dream of go', 'fill up', 'go first thing in', 'have idea about', 'spend too much on', 'inherit', 'will be expect', 'read', 'fall in', 'have so much fun at', 'wash', 'care if', 'know a lot about', 'would ever learn to', 'count', 'should choose from', 'ride to', 'paint', 'can talk about', 'be they from', 'like to use', 'fight people off', 'show up for', 'spend be holiday from', 'wish', 'new to', 'smell', 'can not afford', 'rob', 'guarantee', 'like go out to', 'in between', 'meditate to', 'need', 'get a good look at', 'marry', 'give', 'could try it on', 'train', 'pray for', 'remember', 'like to make', 'move', 'kid', 'be obsess with', 'take lot at the bar', 'do for', 'be employ', 'get be key out', 'have family', 'will be at', 'should see', 'take they to her grave', 'graduate', 'will not pull', 'should light', 'make it', 'volunteer', 'have family in the area', 'be there before', 'have', 'can not stand', 'will spend most of the weekend with', 'get in because', 'cook 100 meal for', 'like to buy a keepsake for be girlfriend', 'could speak to', 'got do', 'dance', 'be not look good for', 'keep from', 'match', 'could add', 'turn', 'guide', 'worry about', 'have experience', 'go to be take', 'love', 'charge', 'different from', 'start in', 'be go to', 'know a country song about that', 'waste', 'be from', 'fall on', 'willing to do', 'can not kick', 'race', 'be look for', 'travel', 'make in', 'be glad the week be over', 'exhausted from', 'work on', 'in', 'try to be', 'dance on', 'be not feel', 'get ready to', 'can have weekend free', 'know how to use', 'be something wrong with', 'come home from', 'post', 'be not for', 'be like', 'glad', 'have no problem with that', 'like be at', 'like listen to', 'close to', 'get enough of', 'enjoy work with', 'teach in', 'plane on watch', 'write', 'divorce', 'could make it as', 'be lunch time for', 'be take mom out', 'marry for', 'forget to', 'open to', 'calm down', 'lead', 'need to go back to', 'want to extend', 'feel about', 'copy', 'be a copy machine on', 'pull out', 'allow people to check out', 'be a story about breakdance in', 'fine for', 'talk to', 'like to go far in', 'be not more expensive than', 'with', 'listen to', 'can go', 'add', 'set here with', 'major in', 'be good at', 'know by face', 'rain', 'be into', 'learn', 'pay for', 'get off on', 'think', 'like to cook for', 'good for', 'live there for', 'bring', 'bring in', 'go to town on', 'work as', 'die', 'write to', 'should meet', 'about to fix', 'charge it to', 'have catch', 'be mixed with', 'work a lot during', 'go out to', 'have to be', 'must not sit on', 'arrive at', 'distinguish for', 'be just below', 'get ready to take', 'can not deal with', 'like to do', 'burn be house down', 'include', 'type', 'must pay', 'live with', 'dig', 'be look forward to', 'send be car to be fix', 'work in', 'can help', 'take to', 'will be', 'about', 'here for', 'able to', 'have to give', 'display', 'would like to', 'good at', 'could get', 'tired', 'pay more attention to', 'show on', 'good', 'tutor', 'beat', 'can spend', 'have a small team under', 'rush', 'see', 'plan to go', 'like to see in beijing', 'can take', 'be just walk', 'swim', 'excited to', 'work at', 'tour', 'take advantage of', 'will hold', 'cost', 'describe', 'bad at', 'wait', 'want to go out to', 'could', 'plan on make', 'help out with', 'stay in', 'be someone come to get', 'volunteer at', 'have to give 3 shoot', 'wait for in', 'would not eat', 'go thru', 'like to leave on', 'would make', 'breakdance', 'passionate about', 'ride', 'taste like', 'play the piano in', 'locate', 'want to do', 'get real good at', 'dye', 'be at', 'from', 'can not afford to', 'be up to', 'fast than', 'should join', 'try not to', 'have c complication from surgery', 'keep', 'be go in', 'be arrive', 'shed', 'blast', 'it', 'do for a living', 'should', 'have no reason to distrust', 'make a recommendation for', 'similar to', 'assist', 'be live', 'be in between', 'be lead by', 'live here for a month', 'happen to', 'need help', 'locate in', 'find', 'be it for', 'will open', 'its', 'want to take', 'be a camera on', 'will all be', 'be still on', 'grow up in', 'bump into', 'to', 'be to', 'have to', 'still at', 'have not time for', 'check out', 'leave', 'be take the kid to', 'speak', 'work with vet as', 'live here for a long time', 'get in english 101', 'throw a milk carton at', 'like to live in', 'purchase be from ikea', 'be not into', 'can not find', 'wake up', 'deserve of', 'burn down', 'mow', 'can not eat', 'go to transfer', 'be serious business for', 'go hike often', 'should have', 'need this weekend to', 'follow in', 'book', 'hear clearly', 'can stay', 'like have people around', 'can catch', 'make', 'can pay with', 'will', 'allow', 'like to go', 'make it a secret between we', 'plan', 'like go to', 'will never have', 'can not handle', 'imagine', 'serve', 'rather save', 'should call', 'get interested in', 'have breakfast at a great restaurant', 'be go to make be life easy', 'inspire to', 'could go', 'play hoop with', 'want to sign', 'interest', 'build', 'love work on', 'move back here from', 'like it cut', 'be two pound over', 'use to be', 'be glad', 'wear it that way', 'start as', 'begin', 'come by', 'able to find', 'double cross', 'could live', 'can get', 'let do', 'be there good hiking spot near', 'tell', 'can take the test again', 'will make it work', 'can make', 'spend the day in', 'be usually out', 'have experience in', 'can also try', 'help while in', 'know it be', 'teach during', 'can listen to', 'like to pay', 'live by', 'switch from', 'like to read', 'like to meet up with', 'be to play', 'busy with', 'be shop for', 'retire from', 'have be', 'have get', 'cancel', 'buy', 'be a huge fan of', 'meet up with', 'drive under', 'kill', 'support', 'can call it in', 'live there', 'can not wait for', 'need to make per year', 'come with', 'be a run at', 'be not much room for', 'scald on', 'race the car for a living', 'would love', 'will request hr to', 'love to own', 'study', 'should sell', 'be able to take the test again', 'be they in', 'like to send', 'be plan on go', 'hear of', 'dye be hair red', 'wake up at', 'live around', 'pay by', 'do be job remotely', 'move here when', 'can stay there for hour', 'spell anything wrong', 'devote more time to', 'teach at', 'interested in go to', 'seem', 'be in', 'go just for', 'change', 'go there with', 'try', 'take', 'order', 'like to go to', 'plan to', 'hang', 'have any experience in', 'take up', 'like to do for fun', 'can always use', 'plan on', 'break up with', 'stand for', 'will there be', 'share', 'be also into', 'raise', 'wear', 'be around for', 'can play', 'can show', 'want', 'look', 'drive be big truck around', 'mean to', 'could not stand', 'recycle', 'purchase', 'love watch bird from indoor', 'lose', 'do be body good', 'love to sing', 'can really get in touch with', 'live above', 'can do', 'be more in to', 'stay', 'be on', 'can not', 'like we to', 'be a fan of', 'let', 's it go', 'stop for', 'be this for', 'be that consider', 'should consider', 'share with', 'for', 'lose track of', 'read the classic in college', 'hike', 'interview with', 'will have to take', 'lock out', 'check in', 'keep up all night', 'church on', 'be plenty for', 'meet up for', 'dance in', 'can recommend', 'run', 'build house upon request', 'want to watch a movie together', 'stick to', 'make more than', 'should try', 'play off', 'to withdraw', 'allow to', 'believe in', 'can use', 'should pay', 'need to get be dance gear ready', 'can only spend', 'watch', 'cut out', 'stay home with', 'can always play', 'hear about', 'get home from', 'be decide about switch', 'call', 'eat', 'have always work in', 'could start with', 'be have', 'be part of', 'be plan', 'proficiency in', 'be in attendance at', 'pass', 'mix', 'can have', 'send it by airmail', 'make look', 'come here to be', 'get ready for', 'glad to', 'wanna try out', 'would never stab in the back', 'turn right at', 'become', 'dial', 'play in', 'serve in', 'fix', 'may speak to', 'keep in', 'work for', 'take friday off', 'play soccer on', 'wanna talk about', 'be just off of', 'would love to', 'love to look at', 'love be with', 'code', 'meet for', 'can not put up with', 'try to', 'may have', 'stay with', 'go to across', 'help with', 'play on', 'work night at', 'transfer into', 'know nothing about', 'be available', 'like to return', 'can give', 'pet sitting', 'fit right', 'please that', 'be very sociable at the weekend', 'prefer not to bother', 'be excited to', 'go next', 'walk around', 'love to', 'bake', 'pay attention to', 'depend on', 'know much about', 'sleep', 'mind if walk to', 'sing in', 'draw', 'set in', 'be together', 'note', 'draw they all the time all over', 'tell to', 'be require to', 'get to go get', 'present', 'be able to', 'hang with', 'own', 'go to be', 'have a crush on', 'could take', 'be in to', 'sleep with', 'enjoy', 'use', 'like to sing', 'might', 'cook to', 'like to stay', 'be get', 'live there be whole life', 'be just relax at home in', 'can alphabetize', 'smoking', 'about to', 'want something to', 'say', 'be always with', 'play with', 'like do', 'play', 'have any room available', 'have direct contact with', 'switch', 'come in', 'seek', 'win'}\n"
          ]
        }
      ],
      "source": [
        "def cleaning(list_predicates):\n",
        "  nlp = spacy.load('en_core_web_sm')\n",
        "  cleaned = set()\n",
        "\n",
        "  for predicate in list(list_predicates):\n",
        "    working = nlp(predicate)\n",
        "    subset = []\n",
        "\n",
        "    for token in working:\n",
        "      # don't include punctuation marks \n",
        "      if token.pos_ == \"PUNCT\":\n",
        "        continue\n",
        "\n",
        "      subset.append(token.lemma_)\n",
        "\n",
        "\n",
        "      # stem all the shortened versions of to be and to have \n",
        "      if len(subset) >= 2:\n",
        "        for i, sep in enumerate(subset):\n",
        "          # change 'm \n",
        "          if (subset[-1]  == \"m\") & (subset[-2] == \"'\") :\n",
        "            subset.pop(-2)\n",
        "            subset[-1] = 'be'\n",
        "          # change 've \n",
        "          elif (subset[-1]  == \"ve\") & (subset[-2] == \"'\") :\n",
        "            subset.pop(-2)\n",
        "            subset[-1] = 'have'\n",
        "          \n",
        "          # change 's \n",
        "      if subset[-1] == \"'s\" or subset[-1] == \"m\" or subset[-1] == \"re\":\n",
        "        subset[-1] = 'be'\n",
        "      # take out speaker since these are subj or obj \n",
        "      if subset[-1] == \"SPEAKER1\" or subset[-1] == \"SPEAKER2\" or subset[-1] == \"speaker1\":\n",
        "        subset.pop(-1)\n",
        "    cleaned.add(' '.join(subset))\n",
        "  return cleaned\n",
        "\n",
        "unique_predicates_clean = cleaning(unique_predicates)\n",
        "print(len(unique_predicates_clean), len(unique_predicates))\n",
        "print(unique_predicates_clean)"
      ]
    },
    {
      "cell_type": "markdown",
      "metadata": {
        "id": "3s1ntCYkYdyV"
      },
      "source": [
        "### Calculating similarity and clustering "
      ]
    },
    {
      "cell_type": "code",
      "execution_count": null,
      "metadata": {
        "colab": {
          "base_uri": "https://localhost:8080/"
        },
        "id": "GCiRJFbBZ_4D",
        "outputId": "1a86b463-c09d-4516-b715-f699308c7923"
      },
      "outputs": [
        {
          "name": "stdout",
          "output_type": "stream",
          "text": [
            "Looking in indexes: https://pypi.org/simple, https://us-python.pkg.dev/colab-wheels/public/simple/\n",
            "Collecting en-core-web-md==3.4.1\n",
            "  Downloading https://github.com/explosion/spacy-models/releases/download/en_core_web_md-3.4.1/en_core_web_md-3.4.1-py3-none-any.whl (42.8 MB)\n",
            "\u001b[K     |████████████████████████████████| 42.8 MB 1.6 MB/s \n",
            "\u001b[?25hRequirement already satisfied: spacy<3.5.0,>=3.4.0 in /usr/local/lib/python3.8/dist-packages (from en-core-web-md==3.4.1) (3.4.3)\n",
            "Requirement already satisfied: jinja2 in /usr/local/lib/python3.8/dist-packages (from spacy<3.5.0,>=3.4.0->en-core-web-md==3.4.1) (2.11.3)\n",
            "Requirement already satisfied: requests<3.0.0,>=2.13.0 in /usr/local/lib/python3.8/dist-packages (from spacy<3.5.0,>=3.4.0->en-core-web-md==3.4.1) (2.23.0)\n",
            "Requirement already satisfied: packaging>=20.0 in /usr/local/lib/python3.8/dist-packages (from spacy<3.5.0,>=3.4.0->en-core-web-md==3.4.1) (21.3)\n",
            "Requirement already satisfied: tqdm<5.0.0,>=4.38.0 in /usr/local/lib/python3.8/dist-packages (from spacy<3.5.0,>=3.4.0->en-core-web-md==3.4.1) (4.64.1)\n",
            "Requirement already satisfied: cymem<2.1.0,>=2.0.2 in /usr/local/lib/python3.8/dist-packages (from spacy<3.5.0,>=3.4.0->en-core-web-md==3.4.1) (2.0.7)\n",
            "Requirement already satisfied: preshed<3.1.0,>=3.0.2 in /usr/local/lib/python3.8/dist-packages (from spacy<3.5.0,>=3.4.0->en-core-web-md==3.4.1) (3.0.8)\n",
            "Requirement already satisfied: typer<0.8.0,>=0.3.0 in /usr/local/lib/python3.8/dist-packages (from spacy<3.5.0,>=3.4.0->en-core-web-md==3.4.1) (0.7.0)\n",
            "Requirement already satisfied: setuptools in /usr/local/lib/python3.8/dist-packages (from spacy<3.5.0,>=3.4.0->en-core-web-md==3.4.1) (57.4.0)\n",
            "Requirement already satisfied: murmurhash<1.1.0,>=0.28.0 in /usr/local/lib/python3.8/dist-packages (from spacy<3.5.0,>=3.4.0->en-core-web-md==3.4.1) (1.0.9)\n",
            "Requirement already satisfied: spacy-loggers<2.0.0,>=1.0.0 in /usr/local/lib/python3.8/dist-packages (from spacy<3.5.0,>=3.4.0->en-core-web-md==3.4.1) (1.0.3)\n",
            "Requirement already satisfied: pydantic!=1.8,!=1.8.1,<1.11.0,>=1.7.4 in /usr/local/lib/python3.8/dist-packages (from spacy<3.5.0,>=3.4.0->en-core-web-md==3.4.1) (1.10.2)\n",
            "Requirement already satisfied: langcodes<4.0.0,>=3.2.0 in /usr/local/lib/python3.8/dist-packages (from spacy<3.5.0,>=3.4.0->en-core-web-md==3.4.1) (3.3.0)\n",
            "Requirement already satisfied: thinc<8.2.0,>=8.1.0 in /usr/local/lib/python3.8/dist-packages (from spacy<3.5.0,>=3.4.0->en-core-web-md==3.4.1) (8.1.5)\n",
            "Requirement already satisfied: wasabi<1.1.0,>=0.9.1 in /usr/local/lib/python3.8/dist-packages (from spacy<3.5.0,>=3.4.0->en-core-web-md==3.4.1) (0.10.1)\n",
            "Requirement already satisfied: catalogue<2.1.0,>=2.0.6 in /usr/local/lib/python3.8/dist-packages (from spacy<3.5.0,>=3.4.0->en-core-web-md==3.4.1) (2.0.8)\n",
            "Requirement already satisfied: srsly<3.0.0,>=2.4.3 in /usr/local/lib/python3.8/dist-packages (from spacy<3.5.0,>=3.4.0->en-core-web-md==3.4.1) (2.4.5)\n",
            "Requirement already satisfied: pathy>=0.3.5 in /usr/local/lib/python3.8/dist-packages (from spacy<3.5.0,>=3.4.0->en-core-web-md==3.4.1) (0.10.0)\n",
            "Requirement already satisfied: numpy>=1.15.0 in /usr/local/lib/python3.8/dist-packages (from spacy<3.5.0,>=3.4.0->en-core-web-md==3.4.1) (1.21.6)\n",
            "Requirement already satisfied: spacy-legacy<3.1.0,>=3.0.10 in /usr/local/lib/python3.8/dist-packages (from spacy<3.5.0,>=3.4.0->en-core-web-md==3.4.1) (3.0.10)\n",
            "Requirement already satisfied: pyparsing!=3.0.5,>=2.0.2 in /usr/local/lib/python3.8/dist-packages (from packaging>=20.0->spacy<3.5.0,>=3.4.0->en-core-web-md==3.4.1) (3.0.9)\n",
            "Requirement already satisfied: smart-open<6.0.0,>=5.2.1 in /usr/local/lib/python3.8/dist-packages (from pathy>=0.3.5->spacy<3.5.0,>=3.4.0->en-core-web-md==3.4.1) (5.2.1)\n",
            "Requirement already satisfied: typing-extensions>=4.1.0 in /usr/local/lib/python3.8/dist-packages (from pydantic!=1.8,!=1.8.1,<1.11.0,>=1.7.4->spacy<3.5.0,>=3.4.0->en-core-web-md==3.4.1) (4.4.0)\n",
            "Requirement already satisfied: urllib3!=1.25.0,!=1.25.1,<1.26,>=1.21.1 in /usr/local/lib/python3.8/dist-packages (from requests<3.0.0,>=2.13.0->spacy<3.5.0,>=3.4.0->en-core-web-md==3.4.1) (1.24.3)\n",
            "Requirement already satisfied: idna<3,>=2.5 in /usr/local/lib/python3.8/dist-packages (from requests<3.0.0,>=2.13.0->spacy<3.5.0,>=3.4.0->en-core-web-md==3.4.1) (2.10)\n",
            "Requirement already satisfied: certifi>=2017.4.17 in /usr/local/lib/python3.8/dist-packages (from requests<3.0.0,>=2.13.0->spacy<3.5.0,>=3.4.0->en-core-web-md==3.4.1) (2022.9.24)\n",
            "Requirement already satisfied: chardet<4,>=3.0.2 in /usr/local/lib/python3.8/dist-packages (from requests<3.0.0,>=2.13.0->spacy<3.5.0,>=3.4.0->en-core-web-md==3.4.1) (3.0.4)\n",
            "Requirement already satisfied: blis<0.8.0,>=0.7.8 in /usr/local/lib/python3.8/dist-packages (from thinc<8.2.0,>=8.1.0->spacy<3.5.0,>=3.4.0->en-core-web-md==3.4.1) (0.7.9)\n",
            "Requirement already satisfied: confection<1.0.0,>=0.0.1 in /usr/local/lib/python3.8/dist-packages (from thinc<8.2.0,>=8.1.0->spacy<3.5.0,>=3.4.0->en-core-web-md==3.4.1) (0.0.3)\n",
            "Requirement already satisfied: click<9.0.0,>=7.1.1 in /usr/local/lib/python3.8/dist-packages (from typer<0.8.0,>=0.3.0->spacy<3.5.0,>=3.4.0->en-core-web-md==3.4.1) (7.1.2)\n",
            "Requirement already satisfied: MarkupSafe>=0.23 in /usr/local/lib/python3.8/dist-packages (from jinja2->spacy<3.5.0,>=3.4.0->en-core-web-md==3.4.1) (2.0.1)\n",
            "Installing collected packages: en-core-web-md\n",
            "Successfully installed en-core-web-md-3.4.1\n",
            "\u001b[38;5;2m✔ Download and installation successful\u001b[0m\n",
            "You can now load the package via spacy.load('en_core_web_md')\n",
            "Looking in indexes: https://pypi.org/simple, https://us-python.pkg.dev/colab-wheels/public/simple/\n",
            "Collecting distance\n",
            "  Downloading Distance-0.1.3.tar.gz (180 kB)\n",
            "\u001b[K     |████████████████████████████████| 180 kB 30.7 MB/s \n",
            "\u001b[?25hBuilding wheels for collected packages: distance\n",
            "  Building wheel for distance (setup.py) ... \u001b[?25l\u001b[?25hdone\n",
            "  Created wheel for distance: filename=Distance-0.1.3-py3-none-any.whl size=16275 sha256=30ab863e86b0e6ef4f30dc4f4c47a4a813f0a2c4f4abe7535064c8461d0c896c\n",
            "  Stored in directory: /root/.cache/pip/wheels/fb/a8/64/6edcab63ec51512a87cacf9b3563c711ad6b7b05d61b704493\n",
            "Successfully built distance\n",
            "Installing collected packages: distance\n",
            "Successfully installed distance-0.1.3\n"
          ]
        }
      ],
      "source": [
        "!python -m spacy download en_core_web_md\n",
        "!pip install distance "
      ]
    },
    {
      "cell_type": "markdown",
      "metadata": {
        "id": "7lm63neDu9dy"
      },
      "source": [
        "#### Affinity propagation\n"
      ]
    },
    {
      "cell_type": "code",
      "execution_count": null,
      "metadata": {
        "colab": {
          "base_uri": "https://localhost:8080/"
        },
        "id": "ukTSO4Ziu9Eb",
        "outputId": "da2cd245-bb6f-45e6-d362-90272f64615b"
      },
      "outputs": [
        {
          "name": "stderr",
          "output_type": "stream",
          "text": [
            "/usr/local/lib/python3.7/dist-packages/ipykernel_launcher.py:14: UserWarning: [W008] Evaluating Doc.similarity based on empty vectors.\n",
            "  \n"
          ]
        },
        {
          "name": "stdout",
          "output_type": "stream",
          "text": [
            "0\n",
            " - *:* \n",
            "1\n",
            " - *think:* forget, glad, hope, imagine, kid, know, mean, remember, say, scare, sort, spell anything wrong, think\n",
            "2\n",
            " - *from:* call from, different from, exhausted from, from, graduate from, import from, migrate from, retire from, switch from, tired from, visit from\n",
            "3\n",
            " - *should have:* have, have any room available, have catch, have experience, have family, have no problem with that, like have people around, may have, should have, should sms over, will have, will never have\n",
            "4\n",
            " - *fast than:* fast than, hard than, make more than, well than\n",
            "5\n",
            " - *take advantage of:* afraid of, deserve of, get enough of, have dream of go, hear of, in need of, inherit, involve, its, lose track of, make of, present, speak of, take advantage of, take care of, will spend most of the weekend with\n",
            "6\n",
            " - *make it:* bring it over, could make it as, could try it on, it, like it cut, make it, make it a secret between we, read it often, want it, wear it much, wear it that way, will make it work\n",
            "7\n",
            " - *bring:* bring, build, come, grow, hold, raise, reach, share, shed, turn\n",
            "8\n",
            " - *be still on:* be a camera on, be a copy machine on, be good at work on, be on, be plan on go, be set on, be still on, must not sit on, spend all be money on shopping, try they on be travel\n",
            "9\n",
            " - *get off:* fight people off, get off, get off on, play off, take friday off, tear off, throw it off\n",
            "10\n",
            " - *recycle:* recycle, scrap, waste\n",
            "11\n",
            " - *geocache:* code, geocache\n",
            "12\n",
            " - *ride:* chase, drive, hike, ride, swim, tour, train\n",
            "13\n",
            " - *keep:* keep, keep from, keep safe, would please keep\n",
            "14\n",
            " - *match:* draw, match, race, replay\n",
            "15\n",
            " - *play with:* lead, play, play hoop with, play the cd loud, play with\n",
            "16\n",
            " - *stay with:* get along with, hang with, have stay with, live with, rather stay, stay, stay home with, stay with\n",
            "17\n",
            " - *hear clearly:* describe, hear, hear clearly, sound, speak\n",
            "18\n",
            " - *want:* let, prefer, should try, try, want, wish\n",
            "19\n",
            " - *wass:* wass\n",
            "20\n",
            " - *get:* catch, could get, dig, find, fix, get, get along, get more, get ready, get to go get, get we, give, have get, lose, send, should get\n",
            "21\n",
            " - *still at:* arrive at, available at, bad at, eat at, go at, good at, stay at, still at, take lot at the bar, teach at, turn right at, volunteer at, work at, work night at, work tonight at\n",
            "22\n",
            " - *beat:* beat, win\n",
            "23\n",
            " - *read:* book, copy, like read, note, post, read, write\n",
            "24\n",
            " - *travel here for:* cook 100 meal for, exchange, get ready for, here for, live here for, look for, make some for, must leave for, reserve, travel, travel here for, travel more for, visit\n",
            "25\n",
            " - *go there:* can go, could go, fall, go, go for, go great with, go hike often, go just for, go next, go there, go there with, go thru, hang, leave, pass, run, rush, s it go\n",
            "26\n",
            " - *for:* cook for, distinguish for, fine for, for, good for, hard for, have seat for, leak for, market for, marry for, meet for, nervous for, pray for, ready for, retire for, save for, shop for, stand for, stop for, suitable for, vote for, work for\n",
            "27\n",
            " - *see tomorrow:* call, miss, see, see tomorrow, should see, tell, wait, watch\n",
            "28\n",
            " - *add:* add, could add, mix\n",
            "29\n",
            " - *will take:* can take, can take the test again, could take, may take, take, will, will bring back, will come, will get, will hold, will open, will take, would give\n",
            "30\n",
            " - *can accommodate:* can, can accommodate, can alphabetize, can also try, can catch, can get, can give, can handle, can have, can have weekend free, can help, can hold, can make, can only spend, can phone, can play, can recommend, can refund, can relax, can see, can show, can speak, can spend, can stay, can stay there for hour, can try, can use, may borrow, will suit well\n",
            "31\n",
            " - *frustrate with:* align with, breakdance, busy with, come with, could start with, display, double cross, enjoy work with, frustrate with, have direct contact with, help with, hike with, interview with, obsess with, relax with, set here with, share with, sleep with, volunteer with, with, work with\n",
            "32\n",
            " - *think about:* about, concern about, daydream about, feel about, have idea about, hear about, know a lot about, know about, know much about, know nothing about, like talk about, open about, passionate about, talk about, think about, wanna talk about, worry about\n",
            "33\n",
            " - *start:* begin, finish, start\n",
            "34\n",
            " - *into:* back into, bump into, get into, into, transfer into\n",
            "35\n",
            " - *like to see in beijing:* can call it in, can really get in touch with, interested in go to, like to go far in, like to live in, like to see in beijing, look in to, want they all in fifty, would never stab in the back\n",
            "36\n",
            " - *teach:* graduate, learn, teach, teach during, tutor\n",
            "37\n",
            " - *smoke:* blast, rain, smell, smoke, smoking\n",
            "38\n",
            " - *want something to:* can listen to, can not afford to, can t seem to make, charge it to, feel connected to, give he to we, give time to do, have anything to, have no reason to distrust, know how to use, like to do, like to do for fun, like to try, like we to, love listen to, love to, love to own, love to sing, mind if walk to, need this weekend to, own, prefer not to, prefer not to bother, send it to, take they to her grave, try not to, want something to, want to, want to do, want to extend, want to pay, want to sign, want to watch a movie together, willing to do, would ever learn to, would love to\n",
            "39\n",
            " - *have experience in:* always work in, get a 4 . 0 in that class, grow well only in, have always work in, have any experience in, have c complication from surgery, have experience in, have family in the area, have soap in they, help in this city, help while in, in touch with, read the classic in college, study\n",
            "40\n",
            " - *move back here from:* close, come home from, drive under, get back from, get home from, land, like cash back, love watch bird from indoor, move, move back here from, move from, move here when, move here with, send somebody over, walk around\n",
            "41\n",
            " - *get a good look at:* get a good look at, get dog at the clinic, get real good at, good, have breakfast at a great restaurant, throw a milk carton at\n",
            "42\n",
            " - *expect to:* able to, able to find, about to, about to fix, allow to, close to, come to, cook to, could speak to, devote more time to, excited to, expect to, forget to, glad to, happen to, hard to, have to, have to give, hope to, inspire to, intend to, listen to, look forward to, may speak to, mean to, meditate to, migrate to, move to, need to, need to make per year, new to, open to, pay attention to, pay more attention to, plan to, prefer to, propose to, read biography to, ready to, respond to, ride to, scared to, seem to, similar to, sound appeal to, speak to, stick to, take to, talk to, tell to, to, to withdraw, try to, will have to take, will learn to deal with, will request hr to, write to\n",
            "43\n",
            " - *could not recognize:* accept, care if, cause, could, could not recognize, could not stand, have not make, have not pick, have not time for, never, please that, would, would like, would love, would not change, would not eat, would not mind, would rather\n",
            "44\n",
            " - *eat:* bake, binge, cook, drink, eat, only eat\n",
            "45\n",
            " - *sleep like:* like, like watch, pet sitting, relax, sleep, sleep like, tired\n",
            "46\n",
            " - *wash:* dye, exfoliate, paint, wash, washing, wear\n",
            "47\n",
            " - *divorce:* divorce, marry\n",
            "48\n",
            " - *switch:* dial, drop, switch\n",
            "49\n",
            " - *should buy:* buy, purchase, sell, shop, should buy, should sell\n",
            "50\n",
            " - *need help:* allow, assist, can help contact, guide, help, manage, need, need help, seek\n",
            "51\n",
            " - *in:* bear in, believe in, check in, dance in, fall in, follow in, in, in between, interested in, live in, locate in, major in, park in, permit in, play in, play piano in, proficiency in, serve in, set in, sing in, start in, teach in, work in\n",
            "52\n",
            " - *should join:* adopt, follow, join, meet, should join, should meet, sign, volunteer\n",
            "53\n",
            " - *ace:* ace\n",
            "54\n",
            " - *come in:* bring in, come back in, come in, find in, fit in, get in because, get in english 101, get interested in, go first thing in, keep in, live here in, make in, move in, play the piano in, shut down in, spend the day in, stay in, stay last night in, wait for in\n",
            "55\n",
            " - *need to go back to:* allow people to check out, get ready to, get ready to take, get to, go out to, go to, go to across, go to college for, go to far from, go to town on, go to transfer, go to watch it out of curiosity, have plan to go, like go out to, like go to, like to go, like to go for, like to go to, love to go to, love to go to the beach with, love to sit around, move back to, need to go back to, plan to go, should go to buy, want to go out to, want to take\n",
            "56\n",
            " - *be still in:* be a serious disturbance in, be a story about breakdance in, be go in, be in, be in attendance at, be in between, be in the chair, be in to, be it in, be more in to, be still in, be they in\n",
            "57\n",
            " - *make look:* fit right, look, make, make bank, make look, would make\n",
            "58\n",
            " - *pull out:* burn down, calm down, check out, could fill out, cut out, find out, help out with, lock out, pass out, pull out, try out, wanna try out, work out\n",
            "59\n",
            " - *should pay:* ask bill if, can pay with, cancel, charge, cost, deposit, guarantee, must pay, owe, pay, pay for, should pay, would pay\n",
            "60\n",
            " - *live there:* could live, live, live above, live around, live there, live there for, starve, survive\n",
            "61\n",
            " - *live here for a long time:* be fake straight for a long time, do for a job, do for a living, draw they all the time all over, have a crush on, have a seat available, have a small team under, know a country song about that, live here for a long time, live here for a month, make a recommendation for, need a full time job for health insurance, practice a lot as a kid, race the car for a living, share a one bedroom with, should leave for a tip, work a lot during, work here long time\n",
            "62\n",
            " - *work as:* portray woman as weak, read those as a child, roleplay as, start as, work, work as, work with vet as\n",
            "63\n",
            " - *wreck:* wreck\n",
            "64\n",
            " - *want to be:* be able to, be able to take the test again, be excited to, be go to, be go to make be life easy, be hope to visit, be look forward to, be ready to, be require to, be sneak away to, be someone come to get, be take the kid to, be to, be to leave nothing for a tip, be to play, be try to get, be up to, come here to be, do be job remotely, go to be, go to be take, have to be, like to be, like to buy a keepsake for be girlfriend, need to be, need to get be dance gear ready, send be car to be fix, try to be, use to be, want the money to be transfer, want to be, want to be here tomorrow, will just put be coat away, would like to be\n",
            "65\n",
            " - *should consider:* change, consider, count, decide, exercise, interest, may consider, might, plan, recommend, rule, should, should appreciate, should call, should choose from, should consider, should drink more, should leave, should light, should really limit\n",
            "66\n",
            " - *mow:* mow\n",
            "67\n",
            " - *ai:* ai\n",
            "68\n",
            " - *like do:* can do, do, do for, do for fun, do well than, fancy, got do, hate, let do, like do\n",
            "69\n",
            " - *come by:* be lead by, come by, know by face, live by, pay by, send it by airmail\n",
            "70\n",
            " - *be here for:* be always a need for, be around for, be come here for, be currently look for, be for, be here for, be it for, be look for, be lunch time for, be not for, be not look good for, be not much room for, be off for, be out for, be plenty for, be quiet for, be serious business for, be shop for, be take mom out, be there before, be there good hiking spot near, be this for, do all be shopping through, drive be big truck around, get be key out, live there be whole life, should take be shoe off, spend be holiday from\n",
            "71\n",
            " - *be naturally:* be, be 30 pound over weight, be a block away, be about, be also from, be also into, be always with, be arrive, be available, be content, be decide about switch, be employ, be far away from, be from, be get, be glad, be glad the week be over, be have, be into, be just below, be just walk, be learn, be like, be live, be mixed with, be naturally, be not familar with, be not feel, be not into, be not more expensive than, be not really a fan, be obsess with, be plan, be really into, be see, be something wrong with, be still into, be sure, be that consider, be the novel about, be they from, be together, be two pound over, be usually out, burn be house down, can be, do be body good, dress be yorkie as a lion, dye be hair red, have be, help be mom out, know it be, like be, love be with, must be, purchase be from ikea, will all be, will be, will be expect, will there be, would be\n",
            "72\n",
            " - *save:* rather save, save, spend\n",
            "73\n",
            " - *kill:* arrest, die, hurt, kill, rob, shoot\n",
            "74\n",
            " - *sing:* dance, sing, singe\n",
            "75\n",
            " - *like to purchase:* build house upon request, have to give 3 shoot, like listen to, like some magic to take away, like to, like to buy, like to cook for, like to depart, like to drink, like to eat at, like to find, like to have, like to leave on, like to make, like to meet for a drink, like to pay, like to purchase, like to read, like to return, like to send, like to sing, like to stay, like to use, love to live on, love to look at, order, use to, use to buy, use to have, would like to, would tike to buy\n",
            "76\n",
            " - *be one of:* be a fan of, be a huge fan of, be a type of, be an employee of, be just off of, be one of, be part of, be scared of, become, need all of be supply right away\n",
            "77\n",
            " - *s:* s\n",
            "78\n",
            " - *break up with:* break up with, can not put up with, catch up on, fill up, finish up, grow up as, grow up in, keep up all night, like to meet up with, make up, meet up for, meet up with, open up, show up for, stand up at, take up, wake up, wake up at\n",
            "79\n",
            " - *retire:* quit, retire\n",
            "80\n",
            " - *can not handle:* can always play, can always use, can not, can not afford, can not deal with, can not do, can not drink, can not eat, can not endure, can not find, can not handle, can not imagine, can not kick, can not stand, can not wait for, can talk about, could supply, must water, type, will not pull\n",
            "81\n",
            " - *be just relax at:* be a run at, be at, be be family at, be good at, be just relax at, be just relax at home in, be one at, be very sociable at the weekend, have so much fun at, like be at, will be at\n",
            "82\n",
            " - *name:* name\n",
            "83\n",
            " - *feel like:* dislike, enjoy, feel, feel like, look like, love, seem, sound like, taste like\n",
            "84\n",
            " - *go on:* go on, go out on, mind go on, spend too much on\n",
            "85\n",
            " - *provide:* arrange, include, locate, provide, require, serve, support, use\n",
            "86\n",
            " - *on:* catch on, church on, dance on, depend on, fall on, keen on, live on, love work on, on, plan on, plan on make, plane on watch, play on, play soccer on, put on, scald on, show on, sit on, work on\n",
            "{'': [''], 'think': ['forget', 'glad', 'hope', 'imagine', 'kid', 'know', 'mean', 'remember', 'say', 'scare', 'sort', 'spell anything wrong', 'think'], 'from': ['call from', 'different from', 'exhausted from', 'from', 'graduate from', 'import from', 'migrate from', 'retire from', 'switch from', 'tired from', 'visit from'], 'should have': ['have', 'have any room available', 'have catch', 'have experience', 'have family', 'have no problem with that', 'like have people around', 'may have', 'should have', 'should sms over', 'will have', 'will never have'], 'fast than': ['fast than', 'hard than', 'make more than', 'well than'], 'take advantage of': ['afraid of', 'deserve of', 'get enough of', 'have dream of go', 'hear of', 'in need of', 'inherit', 'involve', 'its', 'lose track of', 'make of', 'present', 'speak of', 'take advantage of', 'take care of', 'will spend most of the weekend with'], 'make it': ['bring it over', 'could make it as', 'could try it on', 'it', 'like it cut', 'make it', 'make it a secret between we', 'read it often', 'want it', 'wear it much', 'wear it that way', 'will make it work'], 'bring': ['bring', 'build', 'come', 'grow', 'hold', 'raise', 'reach', 'share', 'shed', 'turn'], 'be still on': ['be a camera on', 'be a copy machine on', 'be good at work on', 'be on', 'be plan on go', 'be set on', 'be still on', 'must not sit on', 'spend all be money on shopping', 'try they on be travel'], 'get off': ['fight people off', 'get off', 'get off on', 'play off', 'take friday off', 'tear off', 'throw it off'], 'recycle': ['recycle', 'scrap', 'waste'], 'geocache': ['code', 'geocache'], 'ride': ['chase', 'drive', 'hike', 'ride', 'swim', 'tour', 'train'], 'keep': ['keep', 'keep from', 'keep safe', 'would please keep'], 'match': ['draw', 'match', 'race', 'replay'], 'play with': ['lead', 'play', 'play hoop with', 'play the cd loud', 'play with'], 'stay with': ['get along with', 'hang with', 'have stay with', 'live with', 'rather stay', 'stay', 'stay home with', 'stay with'], 'hear clearly': ['describe', 'hear', 'hear clearly', 'sound', 'speak'], 'want': ['let', 'prefer', 'should try', 'try', 'want', 'wish'], 'wass': ['wass'], 'get': ['catch', 'could get', 'dig', 'find', 'fix', 'get', 'get along', 'get more', 'get ready', 'get to go get', 'get we', 'give', 'have get', 'lose', 'send', 'should get'], 'still at': ['arrive at', 'available at', 'bad at', 'eat at', 'go at', 'good at', 'stay at', 'still at', 'take lot at the bar', 'teach at', 'turn right at', 'volunteer at', 'work at', 'work night at', 'work tonight at'], 'beat': ['beat', 'win'], 'read': ['book', 'copy', 'like read', 'note', 'post', 'read', 'write'], 'travel here for': ['cook 100 meal for', 'exchange', 'get ready for', 'here for', 'live here for', 'look for', 'make some for', 'must leave for', 'reserve', 'travel', 'travel here for', 'travel more for', 'visit'], 'go there': ['can go', 'could go', 'fall', 'go', 'go for', 'go great with', 'go hike often', 'go just for', 'go next', 'go there', 'go there with', 'go thru', 'hang', 'leave', 'pass', 'run', 'rush', 's it go'], 'for': ['cook for', 'distinguish for', 'fine for', 'for', 'good for', 'hard for', 'have seat for', 'leak for', 'market for', 'marry for', 'meet for', 'nervous for', 'pray for', 'ready for', 'retire for', 'save for', 'shop for', 'stand for', 'stop for', 'suitable for', 'vote for', 'work for'], 'see tomorrow': ['call', 'miss', 'see', 'see tomorrow', 'should see', 'tell', 'wait', 'watch'], 'add': ['add', 'could add', 'mix'], 'will take': ['can take', 'can take the test again', 'could take', 'may take', 'take', 'will', 'will bring back', 'will come', 'will get', 'will hold', 'will open', 'will take', 'would give'], 'can accommodate': ['can', 'can accommodate', 'can alphabetize', 'can also try', 'can catch', 'can get', 'can give', 'can handle', 'can have', 'can have weekend free', 'can help', 'can hold', 'can make', 'can only spend', 'can phone', 'can play', 'can recommend', 'can refund', 'can relax', 'can see', 'can show', 'can speak', 'can spend', 'can stay', 'can stay there for hour', 'can try', 'can use', 'may borrow', 'will suit well'], 'frustrate with': ['align with', 'breakdance', 'busy with', 'come with', 'could start with', 'display', 'double cross', 'enjoy work with', 'frustrate with', 'have direct contact with', 'help with', 'hike with', 'interview with', 'obsess with', 'relax with', 'set here with', 'share with', 'sleep with', 'volunteer with', 'with', 'work with'], 'think about': ['about', 'concern about', 'daydream about', 'feel about', 'have idea about', 'hear about', 'know a lot about', 'know about', 'know much about', 'know nothing about', 'like talk about', 'open about', 'passionate about', 'talk about', 'think about', 'wanna talk about', 'worry about'], 'start': ['begin', 'finish', 'start'], 'into': ['back into', 'bump into', 'get into', 'into', 'transfer into'], 'like to see in beijing': ['can call it in', 'can really get in touch with', 'interested in go to', 'like to go far in', 'like to live in', 'like to see in beijing', 'look in to', 'want they all in fifty', 'would never stab in the back'], 'teach': ['graduate', 'learn', 'teach', 'teach during', 'tutor'], 'smoke': ['blast', 'rain', 'smell', 'smoke', 'smoking'], 'want something to': ['can listen to', 'can not afford to', 'can t seem to make', 'charge it to', 'feel connected to', 'give he to we', 'give time to do', 'have anything to', 'have no reason to distrust', 'know how to use', 'like to do', 'like to do for fun', 'like to try', 'like we to', 'love listen to', 'love to', 'love to own', 'love to sing', 'mind if walk to', 'need this weekend to', 'own', 'prefer not to', 'prefer not to bother', 'send it to', 'take they to her grave', 'try not to', 'want something to', 'want to', 'want to do', 'want to extend', 'want to pay', 'want to sign', 'want to watch a movie together', 'willing to do', 'would ever learn to', 'would love to'], 'have experience in': ['always work in', 'get a 4 . 0 in that class', 'grow well only in', 'have always work in', 'have any experience in', 'have c complication from surgery', 'have experience in', 'have family in the area', 'have soap in they', 'help in this city', 'help while in', 'in touch with', 'read the classic in college', 'study'], 'move back here from': ['close', 'come home from', 'drive under', 'get back from', 'get home from', 'land', 'like cash back', 'love watch bird from indoor', 'move', 'move back here from', 'move from', 'move here when', 'move here with', 'send somebody over', 'walk around'], 'get a good look at': ['get a good look at', 'get dog at the clinic', 'get real good at', 'good', 'have breakfast at a great restaurant', 'throw a milk carton at'], 'expect to': ['able to', 'able to find', 'about to', 'about to fix', 'allow to', 'close to', 'come to', 'cook to', 'could speak to', 'devote more time to', 'excited to', 'expect to', 'forget to', 'glad to', 'happen to', 'hard to', 'have to', 'have to give', 'hope to', 'inspire to', 'intend to', 'listen to', 'look forward to', 'may speak to', 'mean to', 'meditate to', 'migrate to', 'move to', 'need to', 'need to make per year', 'new to', 'open to', 'pay attention to', 'pay more attention to', 'plan to', 'prefer to', 'propose to', 'read biography to', 'ready to', 'respond to', 'ride to', 'scared to', 'seem to', 'similar to', 'sound appeal to', 'speak to', 'stick to', 'take to', 'talk to', 'tell to', 'to', 'to withdraw', 'try to', 'will have to take', 'will learn to deal with', 'will request hr to', 'write to'], 'could not recognize': ['accept', 'care if', 'cause', 'could', 'could not recognize', 'could not stand', 'have not make', 'have not pick', 'have not time for', 'never', 'please that', 'would', 'would like', 'would love', 'would not change', 'would not eat', 'would not mind', 'would rather'], 'eat': ['bake', 'binge', 'cook', 'drink', 'eat', 'only eat'], 'sleep like': ['like', 'like watch', 'pet sitting', 'relax', 'sleep', 'sleep like', 'tired'], 'wash': ['dye', 'exfoliate', 'paint', 'wash', 'washing', 'wear'], 'divorce': ['divorce', 'marry'], 'switch': ['dial', 'drop', 'switch'], 'should buy': ['buy', 'purchase', 'sell', 'shop', 'should buy', 'should sell'], 'need help': ['allow', 'assist', 'can help contact', 'guide', 'help', 'manage', 'need', 'need help', 'seek'], 'in': ['bear in', 'believe in', 'check in', 'dance in', 'fall in', 'follow in', 'in', 'in between', 'interested in', 'live in', 'locate in', 'major in', 'park in', 'permit in', 'play in', 'play piano in', 'proficiency in', 'serve in', 'set in', 'sing in', 'start in', 'teach in', 'work in'], 'should join': ['adopt', 'follow', 'join', 'meet', 'should join', 'should meet', 'sign', 'volunteer'], 'ace': ['ace'], 'come in': ['bring in', 'come back in', 'come in', 'find in', 'fit in', 'get in because', 'get in english 101', 'get interested in', 'go first thing in', 'keep in', 'live here in', 'make in', 'move in', 'play the piano in', 'shut down in', 'spend the day in', 'stay in', 'stay last night in', 'wait for in'], 'need to go back to': ['allow people to check out', 'get ready to', 'get ready to take', 'get to', 'go out to', 'go to', 'go to across', 'go to college for', 'go to far from', 'go to town on', 'go to transfer', 'go to watch it out of curiosity', 'have plan to go', 'like go out to', 'like go to', 'like to go', 'like to go for', 'like to go to', 'love to go to', 'love to go to the beach with', 'love to sit around', 'move back to', 'need to go back to', 'plan to go', 'should go to buy', 'want to go out to', 'want to take'], 'be still in': ['be a serious disturbance in', 'be a story about breakdance in', 'be go in', 'be in', 'be in attendance at', 'be in between', 'be in the chair', 'be in to', 'be it in', 'be more in to', 'be still in', 'be they in'], 'make look': ['fit right', 'look', 'make', 'make bank', 'make look', 'would make'], 'pull out': ['burn down', 'calm down', 'check out', 'could fill out', 'cut out', 'find out', 'help out with', 'lock out', 'pass out', 'pull out', 'try out', 'wanna try out', 'work out'], 'should pay': ['ask bill if', 'can pay with', 'cancel', 'charge', 'cost', 'deposit', 'guarantee', 'must pay', 'owe', 'pay', 'pay for', 'should pay', 'would pay'], 'live there': ['could live', 'live', 'live above', 'live around', 'live there', 'live there for', 'starve', 'survive'], 'live here for a long time': ['be fake straight for a long time', 'do for a job', 'do for a living', 'draw they all the time all over', 'have a crush on', 'have a seat available', 'have a small team under', 'know a country song about that', 'live here for a long time', 'live here for a month', 'make a recommendation for', 'need a full time job for health insurance', 'practice a lot as a kid', 'race the car for a living', 'share a one bedroom with', 'should leave for a tip', 'work a lot during', 'work here long time'], 'work as': ['portray woman as weak', 'read those as a child', 'roleplay as', 'start as', 'work', 'work as', 'work with vet as'], 'wreck': ['wreck'], 'want to be': ['be able to', 'be able to take the test again', 'be excited to', 'be go to', 'be go to make be life easy', 'be hope to visit', 'be look forward to', 'be ready to', 'be require to', 'be sneak away to', 'be someone come to get', 'be take the kid to', 'be to', 'be to leave nothing for a tip', 'be to play', 'be try to get', 'be up to', 'come here to be', 'do be job remotely', 'go to be', 'go to be take', 'have to be', 'like to be', 'like to buy a keepsake for be girlfriend', 'need to be', 'need to get be dance gear ready', 'send be car to be fix', 'try to be', 'use to be', 'want the money to be transfer', 'want to be', 'want to be here tomorrow', 'will just put be coat away', 'would like to be'], 'should consider': ['change', 'consider', 'count', 'decide', 'exercise', 'interest', 'may consider', 'might', 'plan', 'recommend', 'rule', 'should', 'should appreciate', 'should call', 'should choose from', 'should consider', 'should drink more', 'should leave', 'should light', 'should really limit'], 'mow': ['mow'], 'ai': ['ai'], 'like do': ['can do', 'do', 'do for', 'do for fun', 'do well than', 'fancy', 'got do', 'hate', 'let do', 'like do'], 'come by': ['be lead by', 'come by', 'know by face', 'live by', 'pay by', 'send it by airmail'], 'be here for': ['be always a need for', 'be around for', 'be come here for', 'be currently look for', 'be for', 'be here for', 'be it for', 'be look for', 'be lunch time for', 'be not for', 'be not look good for', 'be not much room for', 'be off for', 'be out for', 'be plenty for', 'be quiet for', 'be serious business for', 'be shop for', 'be take mom out', 'be there before', 'be there good hiking spot near', 'be this for', 'do all be shopping through', 'drive be big truck around', 'get be key out', 'live there be whole life', 'should take be shoe off', 'spend be holiday from'], 'be naturally': ['be', 'be 30 pound over weight', 'be a block away', 'be about', 'be also from', 'be also into', 'be always with', 'be arrive', 'be available', 'be content', 'be decide about switch', 'be employ', 'be far away from', 'be from', 'be get', 'be glad', 'be glad the week be over', 'be have', 'be into', 'be just below', 'be just walk', 'be learn', 'be like', 'be live', 'be mixed with', 'be naturally', 'be not familar with', 'be not feel', 'be not into', 'be not more expensive than', 'be not really a fan', 'be obsess with', 'be plan', 'be really into', 'be see', 'be something wrong with', 'be still into', 'be sure', 'be that consider', 'be the novel about', 'be they from', 'be together', 'be two pound over', 'be usually out', 'burn be house down', 'can be', 'do be body good', 'dress be yorkie as a lion', 'dye be hair red', 'have be', 'help be mom out', 'know it be', 'like be', 'love be with', 'must be', 'purchase be from ikea', 'will all be', 'will be', 'will be expect', 'will there be', 'would be'], 'save': ['rather save', 'save', 'spend'], 'kill': ['arrest', 'die', 'hurt', 'kill', 'rob', 'shoot'], 'sing': ['dance', 'sing', 'singe'], 'like to purchase': ['build house upon request', 'have to give 3 shoot', 'like listen to', 'like some magic to take away', 'like to', 'like to buy', 'like to cook for', 'like to depart', 'like to drink', 'like to eat at', 'like to find', 'like to have', 'like to leave on', 'like to make', 'like to meet for a drink', 'like to pay', 'like to purchase', 'like to read', 'like to return', 'like to send', 'like to sing', 'like to stay', 'like to use', 'love to live on', 'love to look at', 'order', 'use to', 'use to buy', 'use to have', 'would like to', 'would tike to buy'], 'be one of': ['be a fan of', 'be a huge fan of', 'be a type of', 'be an employee of', 'be just off of', 'be one of', 'be part of', 'be scared of', 'become', 'need all of be supply right away'], 's': ['s'], 'break up with': ['break up with', 'can not put up with', 'catch up on', 'fill up', 'finish up', 'grow up as', 'grow up in', 'keep up all night', 'like to meet up with', 'make up', 'meet up for', 'meet up with', 'open up', 'show up for', 'stand up at', 'take up', 'wake up', 'wake up at'], 'retire': ['quit', 'retire'], 'can not handle': ['can always play', 'can always use', 'can not', 'can not afford', 'can not deal with', 'can not do', 'can not drink', 'can not eat', 'can not endure', 'can not find', 'can not handle', 'can not imagine', 'can not kick', 'can not stand', 'can not wait for', 'can talk about', 'could supply', 'must water', 'type', 'will not pull'], 'be just relax at': ['be a run at', 'be at', 'be be family at', 'be good at', 'be just relax at', 'be just relax at home in', 'be one at', 'be very sociable at the weekend', 'have so much fun at', 'like be at', 'will be at'], 'name': ['name'], 'feel like': ['dislike', 'enjoy', 'feel', 'feel like', 'look like', 'love', 'seem', 'sound like', 'taste like'], 'go on': ['go on', 'go out on', 'mind go on', 'spend too much on'], 'provide': ['arrange', 'include', 'locate', 'provide', 'require', 'serve', 'support', 'use'], 'on': ['catch on', 'church on', 'dance on', 'depend on', 'fall on', 'keen on', 'live on', 'love work on', 'on', 'plan on', 'plan on make', 'plane on watch', 'play on', 'play soccer on', 'put on', 'scald on', 'show on', 'sit on', 'work on']}\n"
          ]
        }
      ],
      "source": [
        "import numpy as np\n",
        "from sklearn.cluster import AffinityPropagation\n",
        "import distance\n",
        "nlp_2 = spacy.load(\"en_core_web_md\") # diff nlp package to calculate similarity \n",
        "\n",
        "words = list(unique_predicates_clean)\n",
        "\n",
        "array = np.empty([len(words), len(words)]) \n",
        "# ToDo: make this more efficient, for example by using recursive loops \n",
        "for w1 in range(len(words)): # for each word \n",
        "  w1_nlp = nlp_2(words[w1])\n",
        "  for w2 in range(len(words)): # match with every other word\n",
        "    w2_nlp = nlp_2(words[w2])\n",
        "    array[w1, w2] = w1_nlp.similarity(w2_nlp) # save similarity \n",
        "\n",
        "\n",
        "affprop = AffinityPropagation(affinity=\"precomputed\", damping=0.5)\n",
        "affprop.fit(array) # Use pre-computed sim\n",
        "words = np.asarray(words) #So that indexing with a list will work\n",
        "\n",
        "abstract_predicates = {}\n",
        "for cluster_id in np.unique(affprop.labels_):\n",
        "    print(cluster_id)\n",
        "    exemplar = words[affprop.cluster_centers_indices_[cluster_id]] # Use centroid as abstract \n",
        "    cluster = np.unique(words[np.nonzero(affprop.labels_==cluster_id)]) \n",
        "    cluster_str = \", \".join(cluster)\n",
        "    print(\" - *%s:* %s\" % (exemplar, cluster_str))\n",
        "    abstract_predicates[str(exemplar)] = list(cluster)\n",
        "\n",
        "print(abstract_predicates)\n",
        "\n",
        "# Save\n",
        "with open('abstract_predicates.txt', 'w') as convert_file:\n",
        "     convert_file.write(json.dumps(abstract_predicates))\n"
      ]
    },
    {
      "cell_type": "markdown",
      "metadata": {
        "id": "D9xYROdx8CfU"
      },
      "source": [
        "#### With just verbs"
      ]
    },
    {
      "cell_type": "code",
      "execution_count": null,
      "metadata": {
        "colab": {
          "background_save": true,
          "base_uri": "https://localhost:8080/"
        },
        "id": "lLmOEeTg7hrH",
        "outputId": "a7c63e01-5e56-4cb8-b450-8d0d4072744a"
      },
      "outputs": [
        {
          "name": "stderr",
          "output_type": "stream",
          "text": [
            "<ipython-input-13-d94feb2fe5a6>:25: UserWarning: [W008] Evaluating Doc.similarity based on empty vectors.\n",
            "  array[w1, w2] = current_w1.similarity(current_w2)\n"
          ]
        }
      ],
      "source": [
        "import numpy as np\n",
        "from sklearn.cluster import AffinityPropagation\n",
        "import distance\n",
        "nlp_2 = spacy.load(\"en_core_web_md\") # diff nlp package to calculate similarity \n",
        "\n",
        "words = list(unique_predicates_clean)\n",
        "\n",
        "array = np.empty([len(words), len(words)])\n",
        "for w1 in range(len(words)):\n",
        "  w1_nlp = nlp_2(words[w1])\n",
        "  current = []\n",
        "  for token in w1_nlp:\n",
        "    if token.pos_ == \"VERB\" or token.pos_ == \"AUX\":\n",
        "      current.append(token)\n",
        "  current_w1 = nlp_2(''.join([tok.text_with_ws for tok in current]))\n",
        "  # print(w1_nlp, \"---\", current_w1)\n",
        "  for w2 in range(len(words)):\n",
        "    w2_nlp = nlp_2(words[w2])\n",
        "    current = []\n",
        "    for token in w2_nlp:\n",
        "      if token.pos_ == \"VERB\" or token.pos_ == \"AUX\":\n",
        "        current.append(token)\n",
        "    current_w2 = nlp_2(''.join([tok.text_with_ws for tok in current]))\n",
        "    # print(w2_nlp, \"---\", current_w2)\n",
        "    array[w1, w2] = current_w1.similarity(current_w2)\n",
        "\n",
        "affprop = AffinityPropagation(affinity=\"precomputed\", damping=0.5)\n",
        "affprop.fit(-1*array)\n",
        "words = np.asarray(words) #So that indexing with a list will \n",
        "\n",
        "abstract_predicates_VERBS = {}\n",
        "for cluster_id in np.unique(affprop.labels_):\n",
        "    print(cluster_id)\n",
        "    exemplar = words[affprop.cluster_centers_indices_[cluster_id]]\n",
        "    cluster = np.unique(words[np.nonzero(affprop.labels_==cluster_id)])\n",
        "    cluster_str = \", \".join(cluster)\n",
        "    print(\" - *%s:* %s\" % (exemplar, cluster_str))\n",
        "    abstract_predicates_VERBS[exemplar] = cluster_str\n",
        "\n",
        "# Save as .json format to prevent running again. \n",
        "with open('abstract_predicates_VERBS.txt', 'w') as convert_file:\n",
        "     convert_file.write(json.dumps(abstract_predicates_VERBS))"
      ]
    },
    {
      "cell_type": "markdown",
      "metadata": {
        "id": "-y45HFdChct-"
      },
      "source": [
        "## Abstract predicates\n",
        "Run just this code to get output of above:"
      ]
    },
    {
      "cell_type": "markdown",
      "metadata": {
        "id": "FVzgZi9evArA"
      },
      "source": [
        "#### old"
      ]
    },
    {
      "cell_type": "code",
      "execution_count": null,
      "metadata": {
        "id": "7Gmkshzbhe0_"
      },
      "outputs": [],
      "source": [
        "# abstract_predicates_R = {\"\": [\"\"], \"break up with\": [\"break up with\", \"can not put up with\", \"catch up on\", \"fill up\", \"finish up\", \"grow up as\", \"grow up in\", \"keep up all night\", \"like to meet up with\", \"make up\", \"meet up for\", \"meet up with\", \"open up\", \"show up for\", \"stand up at\", \"take up\", \"wake up\", \"wake up at\"], \"could not recognize\": [\"accept\", \"care if\", \"cause\", \"could\", \"could not recognize\", \"could not stand\", \"have not make\", \"have not pick\", \"have not time for\", \"never\", \"please that\", \"would\", \"would like\", \"would love\", \"would not change\", \"would not eat\", \"would not mind\", \"would rather\"], \"work as\": [\"portray woman as weak\", \"read those as a child\", \"roleplay as\", \"start as\", \"work\", \"work as\", \"work with vet as\"], \"come in\": [\"bring in\", \"come back in\", \"come in\", \"find in\", \"fit in\", \"get in because\", \"get in english 101\", \"get interested in\", \"go first thing in\", \"keep in\", \"live here in\", \"make in\", \"move in\", \"play the piano in\", \"shut down in\", \"spend the day in\", \"stay in\", \"stay last night in\", \"wait for in\"], \"save\": [\"rather save\", \"save\", \"spend\"], \"should buy\": [\"buy\", \"purchase\", \"sell\", \"shop\", \"should buy\", \"should sell\"], \"wash\": [\"dye\", \"exfoliate\", \"paint\", \"wash\", \"washing\", \"wear\"], \"ride\": [\"chase\", \"drive\", \"hike\", \"ride\", \"swim\", \"tour\", \"train\"], \"take advantage of\": [\"afraid of\", \"deserve of\", \"get enough of\", \"have dream of go\", \"hear of\", \"in need of\", \"inherit\", \"involve\", \"its\", \"lose track of\", \"make of\", \"present\", \"speak of\", \"take advantage of\", \"take care of\", \"will spend most of the weekend with\"], \"divorce\": [\"divorce\", \"marry\"], \"want to be\": [\"be able to\", \"be able to take the test again\", \"be excited to\", \"be go to\", \"be go to make be life easy\", \"be hope to visit\", \"be look forward to\", \"be ready to\", \"be require to\", \"be sneak away to\", \"be someone come to get\", \"be take the kid to\", \"be to\", \"be to leave nothing for a tip\", \"be to play\", \"be try to get\", \"be up to\", \"come here to be\", \"do be job remotely\", \"go to be\", \"go to be take\", \"have to be\", \"like to be\", \"like to buy a keepsake for be girlfriend\", \"need to be\", \"need to get be dance gear ready\", \"send be car to be fix\", \"try to be\", \"use to be\", \"want the money to be transfer\", \"want to be\", \"want to be here tomorrow\", \"will just put be coat away\", \"would like to be\"], \"code\": [\"code\", \"geocache\"], \"be still on\": [\"be a camera on\", \"be a copy machine on\", \"be good at work on\", \"be on\", \"be plan on go\", \"be set on\", \"be still on\", \"must not sit on\", \"spend all be money on shopping\", \"try they on be travel\"], \"move back here from\": [\"close\", \"come home from\", \"drive under\", \"get back from\", \"get home from\", \"land\", \"like cash back\", \"move\", \"move back here from\", \"move from\", \"move here when\", \"move here with\", \"send somebody over\", \"walk around\"], \"switch\": [\"dial\", \"drop\", \"switch\"], \"hear clearly\": [\"describe\", \"hear\", \"hear clearly\", \"sound\", \"speak\"], \"be here for\": [\"be always a need for\", \"be around for\", \"be come here for\", \"be currently look for\", \"be for\", \"be here for\", \"be it for\", \"be look for\", \"be not for\", \"be not look good for\", \"be not much room for\", \"be off for\", \"be out for\", \"be plenty for\", \"be quiet for\", \"be serious business for\", \"be shop for\", \"be take mom out\", \"be there before\", \"be there good hiking spot near\", \"be this for\", \"do all be shopping through\", \"drive be big truck around\", \"get be key out\", \"live there be whole life\", \"should take be shoe off\", \"spend be holiday from\"], \"on\": [\"catch on\", \"church on\", \"dance on\", \"depend on\", \"fall on\", \"keen on\", \"live on\", \"love work on\", \"on\", \"plan on\", \"plan on make\", \"plane on watch\", \"play on\", \"play soccer on\", \"put on\", \"scald on\", \"show on\", \"sit on\", \"work on\"], \"still at\": [\"arrive at\", \"available at\", \"bad at\", \"eat at\", \"go at\", \"good at\", \"stay at\", \"still at\", \"take lot at the bar\", \"teach at\", \"turn right at\", \"volunteer at\", \"work at\", \"work night at\", \"work tonight at\"], \"ai\": [\"ai\"], \"need to go back to\": [\"allow people to check out\", \"get ready to\", \"get ready to take\", \"get to\", \"go out to\", \"go to\", \"go to across\", \"go to college for\", \"go to far from\", \"go to town on\", \"go to transfer\", \"go to watch it out of curiosity\", \"have plan to go\", \"interested in go to\", \"like go out to\", \"like go to\", \"like to go\", \"like to go far in\", \"like to go for\", \"like to go to\", \"love to go to\", \"love to go to the beach with\", \"love to sit around\", \"move back to\", \"need to go back to\", \"plan to go\", \"should go to buy\", \"want to go out to\", \"want to take\"], \"want something to\": [\"can listen to\", \"can not afford to\", \"can t seem to make\", \"charge it to\", \"feel connected to\", \"give he to we\", \"give time to do\", \"have anything to\", \"have no reason to distrust\", \"know how to use\", \"like to do\", \"like to do for fun\", \"like to try\", \"like we to\", \"love listen to\", \"love to\", \"love to own\", \"love to sing\", \"mind if walk to\", \"need this weekend to\", \"own\", \"prefer not to\", \"prefer not to bother\", \"send it to\", \"take they to her grave\", \"try not to\", \"want something to\", \"want to\", \"want to do\", \"want to extend\", \"want to pay\", \"want to sign\", \"want to watch a movie together\", \"willing to do\", \"would ever learn to\", \"would love to\"], \"keep\": [\"keep\", \"keep from\", \"keep safe\", \"would please keep\"], \"into\": [\"back into\", \"bump into\", \"get into\", \"into\", \"transfer into\"], \"expect to\": [\"able to\", \"able to find\", \"about to\", \"about to fix\", \"allow to\", \"close to\", \"come to\", \"cook to\", \"could speak to\", \"devote more time to\", \"excited to\", \"expect to\", \"forget to\", \"glad to\", \"happen to\", \"hard to\", \"have to\", \"have to give\", \"hope to\", \"inspire to\", \"intend to\", \"listen to\", \"look forward to\", \"look in to\", \"may speak to\", \"mean to\", \"meditate to\", \"migrate to\", \"move to\", \"need to\", \"need to make per year\", \"new to\", \"open to\", \"pay attention to\", \"pay more attention to\", \"plan to\", \"prefer to\", \"propose to\", \"read biography to\", \"ready to\", \"respond to\", \"ride to\", \"scared to\", \"seem to\", \"similar to\", \"sound appeal to\", \"speak to\", \"stick to\", \"take to\", \"talk to\", \"tell to\", \"to\", \"to withdraw\", \"try to\", \"will have to take\", \"will learn to deal with\", \"will request hr to\", \"write to\"], \"like to purchase\": [\"build house upon request\", \"have to give 3 shoot\", \"like listen to\", \"like some magic to take away\", \"like to\", \"like to buy\", \"like to cook for\", \"like to depart\", \"like to drink\", \"like to eat at\", \"like to find\", \"like to have\", \"like to leave on\", \"like to live in\", \"like to make\", \"like to meet for a drink\", \"like to pay\", \"like to purchase\", \"like to read\", \"like to return\", \"like to see in beijing\", \"like to send\", \"like to sing\", \"like to stay\", \"like to use\", \"love to live on\", \"love to look at\", \"order\", \"use to\", \"use to buy\", \"use to have\", \"would like to\", \"would tike to buy\"], \"start\": [\"begin\", \"finish\", \"start\"], \"add\": [\"add\", \"could add\", \"mix\"], \"wass\": [\"wass\"], \"get a good look at\": [\"get a good look at\", \"get dog at the clinic\", \"get real good at\", \"good\", \"have breakfast at a great restaurant\", \"throw a milk carton at\"], \"be one of\": [\"be a fan of\", \"be a huge fan of\", \"be a type of\", \"be an employee of\", \"be just off of\", \"be one of\", \"be part of\", \"be scared of\", \"become\", \"need all of be supply right away\"], \"from\": [\"call from\", \"different from\", \"exhausted from\", \"from\", \"graduate from\", \"import from\", \"migrate from\", \"retire from\", \"switch from\", \"tired from\", \"visit from\"], \"name\": [\"name\"], \"like watch\": [\"enjoy\", \"like\", \"like watch\", \"look like\", \"love\", \"love watch bird from indoor\", \"sound like\", \"taste like\", \"watch\"], \"make it\": [\"bring it over\", \"could make it as\", \"could try it on\", \"it\", \"like it cut\", \"make it\", \"make it a secret between we\", \"read it often\", \"want it\", \"wear it much\", \"wear it that way\", \"will make it work\"], \"go there\": [\"can go\", \"could go\", \"fall\", \"go\", \"go for\", \"go great with\", \"go hike often\", \"go just for\", \"go next\", \"go there\", \"go there with\", \"go thru\", \"hang\", \"leave\", \"pass\", \"run\", \"rush\", \"s it go\"], \"like do\": [\"can do\", \"do\", \"do for\", \"do for fun\", \"do well than\", \"fancy\", \"got do\", \"hate\", \"let do\", \"like do\"], \"s\": [\"s\"], \"retire\": [\"quit\", \"retire\"], \"recycle\": [\"recycle\", \"scrap\", \"waste\"], \"go on\": [\"go on\", \"go out on\", \"mind go on\", \"spend too much on\"], \"ace\": [\"ace\"], \"kill\": [\"arrest\", \"die\", \"hurt\", \"kill\", \"rob\", \"shoot\"], \"be still in\": [\"be a serious disturbance in\", \"be a story about breakdance in\", \"be go in\", \"be in\", \"be in attendance at\", \"be in between\", \"be in the chair\", \"be in to\", \"be it in\", \"be more in to\", \"be still in\", \"be they in\"], \"see tomorrow\": [\"call\", \"miss\", \"see\", \"see tomorrow\", \"should see\", \"tell\", \"wait\"], \"live here for a long time\": [\"'s lunch time for\", \"be fake straight for a long time\", \"do for a job\", \"do for a living\", \"draw they all the time all over\", \"have a crush on\", \"have a seat available\", \"have a small team under\", \"know a country song about that\", \"live here for a long time\", \"live here for a month\", \"make a recommendation for\", \"need a full time job for health insurance\", \"practice a lot as a kid\", \"race the car for a living\", \"share a one bedroom with\", \"should leave for a tip\", \"work a lot during\", \"work here long time\"], \"frustrate with\": [\"align with\", \"breakdance\", \"busy with\", \"come with\", \"could start with\", \"display\", \"double cross\", \"enjoy work with\", \"frustrate with\", \"have direct contact with\", \"help with\", \"hike with\", \"interview with\", \"obsess with\", \"relax with\", \"set here with\", \"share with\", \"sleep with\", \"volunteer with\", \"with\", \"work with\"], \"sing\": [\"dance\", \"sing\", \"singe\"], \"eat\": [\"bake\", \"binge\", \"cook\", \"drink\", \"eat\", \"only eat\"], \"live there\": [\"could live\", \"live\", \"live above\", \"live around\", \"live there\", \"live there for\", \"starve\", \"survive\"], \"smoke\": [\"blast\", \"rain\", \"smell\", \"smoke\", \"smoking\"], \"make look\": [\"fit right\", \"look\", \"make\", \"make bank\", \"make look\", \"would make\"], \"come by\": [\"be lead by\", \"come by\", \"know by face\", \"live by\", \"pay by\", \"send it by airmail\"], \"re\": [\"re\"], \"mow\": [\"mow\"], \"should have\": [\"have\", \"have any room available\", \"have catch\", \"have experience\", \"have family\", \"have no problem with that\", \"like have people around\", \"may have\", \"should have\", \"should sms over\", \"will have\", \"will never have\"], \"should consider\": [\"change\", \"consider\", \"count\", \"decide\", \"exercise\", \"interest\", \"may consider\", \"might\", \"plan\", \"recommend\", \"rule\", \"should\", \"should appreciate\", \"should call\", \"should choose from\", \"should consider\", \"should drink more\", \"should leave\", \"should light\", \"should really limit\"], \"need help\": [\"allow\", \"assist\", \"can help contact\", \"guide\", \"help\", \"manage\", \"need\", \"need help\", \"seek\"], \"for\": [\"cook for\", \"distinguish for\", \"fine for\", \"for\", \"good for\", \"hard for\", \"have seat for\", \"leak for\", \"market for\", \"marry for\", \"meet for\", \"nervous for\", \"pray for\", \"ready for\", \"retire for\", \"save for\", \"shop for\", \"stand for\", \"stop for\", \"suitable for\", \"vote for\", \"work for\"], \"be naturally\": [\"be\", \"be 30 pound over weight\", \"be a block away\", \"be about\", \"be also from\", \"be always with\", \"be arrive\", \"be available\", \"be content\", \"be decide about switch\", \"be employ\", \"be far away from\", \"be from\", \"be get\", \"be glad\", \"be glad the week be over\", \"be have\", \"be into\", \"be just below\", \"be just walk\", \"be learn\", \"be like\", \"be live\", \"be mixed with\", \"be naturally\", \"be not familar with\", \"be not feel\", \"be not into\", \"be not more expensive than\", \"be not really a fan\", \"be obsess with\", \"be plan\", \"be really into\", \"be see\", \"be something wrong with\", \"be still into\", \"be sure\", \"be that consider\", \"be the novel about\", \"be they from\", \"be together\", \"be two pound over\", \"be usually out\", \"burn be house down\", \"can be\", \"do be body good\", \"dress be yorkie as a lion\", \"dye be hair red\", \"have be\", \"help be mom out\", \"know it be\", \"like be\", \"love be with\", \"must be\", \"purchase be from ikea\", \"will all be\", \"will be\", \"will be expect\", \"will there be\", \"would be\"], \"play with\": [\"lead\", \"play\", \"play hoop with\", \"play the cd loud\", \"play with\"], \"have experience in\": [\"always work in\", \"can really get in touch with\", \"get a 4 . 0 in that class\", \"grow well only in\", \"have always work in\", \"have any experience in\", \"have c complication from surgery\", \"have experience in\", \"have family in the area\", \"have soap in they\", \"help in this city\", \"help while in\", \"in touch with\", \"read the classic in college\", \"study\", \"want they all in fifty\", \"would never stab in the back\"], \"m also into\": [\"m\", \"m also into\", \"m in\"], \"be just relax at\": [\"be a run at\", \"be at\", \"be be family at\", \"be good at\", \"be just relax at\", \"be just relax at home in\", \"be one at\", \"be very sociable at the weekend\", \"have so much fun at\", \"like be at\", \"will be at\"], \"SPEAKER1\": [\"SPEAKER1\"], \"teach\": [\"graduate\", \"learn\", \"teach\", \"teach during\", \"tutor\"], \"get off\": [\"fight people off\", \"get off\", \"get off on\", \"play off\", \"take friday off\", \"tear off\", \"throw it off\"], \"get\": [\"catch\", \"could get\", \"dig\", \"find\", \"fix\", \"get\", \"get along\", \"get more\", \"get ready\", \"get to go get\", \"get we\", \"give\", \"have get\", \"lose\", \"send\", \"should get\"], \"bring\": [\"bring\", \"build\", \"come\", \"grow\", \"hold\", \"raise\", \"reach\", \"share\", \"shed\", \"turn\"], \"can not handle\": [\"can always play\", \"can always use\", \"can call it in\", \"can not\", \"can not afford\", \"can not deal with\", \"can not do\", \"can not drink\", \"can not eat\", \"can not endure\", \"can not find\", \"can not handle\", \"can not imagine\", \"can not kick\", \"can not stand\", \"can not wait for\", \"can talk about\", \"could supply\", \"must water\", \"type\", \"will not pull\"], \"will take\": [\"can take\", \"can take the test again\", \"could take\", \"may take\", \"take\", \"will\", \"will bring back\", \"will come\", \"will get\", \"will hold\", \"will open\", \"will take\", \"would give\"], \"fast than\": [\"fast than\", \"hard than\", \"make more than\", \"well than\"], \"match\": [\"beat\", \"draw\", \"match\", \"race\", \"replay\", \"win\"], \"should pay\": [\"ask bill if\", \"can pay with\", \"cancel\", \"charge\", \"cost\", \"deposit\", \"guarantee\", \"must pay\", \"owe\", \"pay\", \"pay for\", \"should pay\", \"would pay\"], \"wreck\": [\"wreck\"], \"think about\": [\"about\", \"concern about\", \"daydream about\", \"feel about\", \"have idea about\", \"hear about\", \"know a lot about\", \"know about\", \"know much about\", \"know nothing about\", \"like talk about\", \"open about\", \"passionate about\", \"talk about\", \"think about\", \"wanna talk about\", \"worry about\"], \"can accommodate\": [\"can\", \"can accommodate\", \"can alphabetize\", \"can also try\", \"can catch\", \"can get\", \"can give\", \"can handle\", \"can have\", \"can have weekend free\", \"can help\", \"can hold\", \"can make\", \"can only spend\", \"can phone\", \"can play\", \"can recommend\", \"can refund\", \"can relax\", \"can see\", \"can show\", \"can speak\", \"can spend\", \"can stay\", \"can stay there for hour\", \"can try\", \"can use\", \"may borrow\", \"will suit well\"], \"provide\": [\"arrange\", \"include\", \"locate\", \"provide\", \"require\", \"serve\", \"support\", \"use\"], \"should join\": [\"adopt\", \"follow\", \"join\", \"meet\", \"should join\", \"should meet\", \"sign\", \"volunteer\"], \"sleep like\": [\"feel like\", \"pet sitting\", \"relax\", \"sleep\", \"sleep like\", \"tired\"], \"read\": [\"book\", \"copy\", \"like read\", \"note\", \"post\", \"read\", \"write\"], \"stay with\": [\"get along with\", \"hang with\", \"have stay with\", \"live with\", \"rather stay\", \"stay\", \"stay home with\", \"stay with\"], \"pull out\": [\"burn down\", \"calm down\", \"check out\", \"could fill out\", \"cut out\", \"find out\", \"help out with\", \"lock out\", \"pass out\", \"pull out\", \"try out\", \"wanna try out\", \"work out\"], \"travel here for\": [\"cook 100 meal for\", \"exchange\", \"get ready for\", \"here for\", \"live here for\", \"look for\", \"make some for\", \"must leave for\", \"reserve\", \"travel\", \"travel here for\", \"travel more for\", \"visit\"], \"in\": [\"bear in\", \"believe in\", \"check in\", \"dance in\", \"fall in\", \"follow in\", \"in\", \"in between\", \"interested in\", \"live in\", \"locate in\", \"major in\", \"park in\", \"permit in\", \"play in\", \"play piano in\", \"proficiency in\", \"serve in\", \"set in\", \"sing in\", \"start in\", \"teach in\", \"work in\"], \"want\": [\"let\", \"prefer\", \"should try\", \"try\", \"want\", \"wish\"], \"think\": [\"dislike\", \"feel\", \"forget\", \"glad\", \"hope\", \"imagine\", \"kid\", \"know\", \"mean\", \"remember\", \"say\", \"scare\", \"seem\", \"sort\", \"spell anything wrong\", \"think\"]}"
      ]
    },
    {
      "cell_type": "markdown",
      "metadata": {
        "id": "eG2lnhVZvGpq"
      },
      "source": [
        "#### New"
      ]
    },
    {
      "cell_type": "code",
      "execution_count": null,
      "metadata": {
        "id": "zdq5A0lcvIUg"
      },
      "outputs": [],
      "source": [
        "abstract_predicates_R = {\"\": [\"\"], \"think\": [\"forget\", \"glad\", \"hope\", \"imagine\", \"kid\", \"know\", \"mean\", \"remember\", \"say\", \"scare\", \"sort\", \"spell anything wrong\", \"think\"], \"from\": [\"call from\", \"different from\", \"exhausted from\", \"from\", \"graduate from\", \"import from\", \"migrate from\", \"retire from\", \"switch from\", \"tired from\", \"visit from\"], \"should have\": [\"have\", \"have any room available\", \"have catch\", \"have experience\", \"have family\", \"have no problem with that\", \"like have people around\", \"may have\", \"should have\", \"should sms over\", \"will have\", \"will never have\"], \"fast than\": [\"fast than\", \"hard than\", \"make more than\", \"well than\"], \"take advantage of\": [\"afraid of\", \"deserve of\", \"get enough of\", \"have dream of go\", \"hear of\", \"in need of\", \"inherit\", \"involve\", \"its\", \"lose track of\", \"make of\", \"present\", \"speak of\", \"take advantage of\", \"take care of\", \"will spend most of the weekend with\"], \"make it\": [\"bring it over\", \"could make it as\", \"could try it on\", \"it\", \"like it cut\", \"make it\", \"make it a secret between we\", \"read it often\", \"want it\", \"wear it much\", \"wear it that way\", \"will make it work\"], \"bring\": [\"bring\", \"build\", \"come\", \"grow\", \"hold\", \"raise\", \"reach\", \"share\", \"shed\", \"turn\"], \"be still on\": [\"be a camera on\", \"be a copy machine on\", \"be good at work on\", \"be on\", \"be plan on go\", \"be set on\", \"be still on\", \"must not sit on\", \"spend all be money on shopping\", \"try they on be travel\"], \"get off\": [\"fight people off\", \"get off\", \"get off on\", \"play off\", \"take friday off\", \"tear off\", \"throw it off\"], \"recycle\": [\"recycle\", \"scrap\", \"waste\"], \"geocache\": [\"code\", \"geocache\"], \"ride\": [\"chase\", \"drive\", \"hike\", \"ride\", \"swim\", \"tour\", \"train\"], \"keep\": [\"keep\", \"keep from\", \"keep safe\", \"would please keep\"], \"match\": [\"draw\", \"match\", \"race\", \"replay\"], \"play with\": [\"lead\", \"play\", \"play hoop with\", \"play the cd loud\", \"play with\"], \"stay with\": [\"get along with\", \"hang with\", \"have stay with\", \"live with\", \"rather stay\", \"stay\", \"stay home with\", \"stay with\"], \"hear clearly\": [\"describe\", \"hear\", \"hear clearly\", \"sound\", \"speak\"], \"want\": [\"let\", \"prefer\", \"should try\", \"try\", \"want\", \"wish\"], \"wass\": [\"wass\"], \"get\": [\"catch\", \"could get\", \"dig\", \"find\", \"fix\", \"get\", \"get along\", \"get more\", \"get ready\", \"get to go get\", \"get we\", \"give\", \"have get\", \"lose\", \"send\", \"should get\"], \"still at\": [\"arrive at\", \"available at\", \"bad at\", \"eat at\", \"go at\", \"good at\", \"stay at\", \"still at\", \"take lot at the bar\", \"teach at\", \"turn right at\", \"volunteer at\", \"work at\", \"work night at\", \"work tonight at\"], \"beat\": [\"beat\", \"win\"], \"read\": [\"book\", \"copy\", \"like read\", \"note\", \"post\", \"read\", \"write\"], \"travel here for\": [\"cook 100 meal for\", \"exchange\", \"get ready for\", \"here for\", \"live here for\", \"look for\", \"make some for\", \"must leave for\", \"reserve\", \"travel\", \"travel here for\", \"travel more for\", \"visit\"], \"go there\": [\"can go\", \"could go\", \"fall\", \"go\", \"go for\", \"go great with\", \"go hike often\", \"go just for\", \"go next\", \"go there\", \"go there with\", \"go thru\", \"hang\", \"leave\", \"pass\", \"run\", \"rush\", \"s it go\"], \"for\": [\"cook for\", \"distinguish for\", \"fine for\", \"for\", \"good for\", \"hard for\", \"have seat for\", \"leak for\", \"market for\", \"marry for\", \"meet for\", \"nervous for\", \"pray for\", \"ready for\", \"retire for\", \"save for\", \"shop for\", \"stand for\", \"stop for\", \"suitable for\", \"vote for\", \"work for\"], \"see tomorrow\": [\"call\", \"miss\", \"see\", \"see tomorrow\", \"should see\", \"tell\", \"wait\", \"watch\"], \"add\": [\"add\", \"could add\", \"mix\"], \"will take\": [\"can take\", \"can take the test again\", \"could take\", \"may take\", \"take\", \"will\", \"will bring back\", \"will come\", \"will get\", \"will hold\", \"will open\", \"will take\", \"would give\"], \"can accommodate\": [\"can\", \"can accommodate\", \"can alphabetize\", \"can also try\", \"can catch\", \"can get\", \"can give\", \"can handle\", \"can have\", \"can have weekend free\", \"can help\", \"can hold\", \"can make\", \"can only spend\", \"can phone\", \"can play\", \"can recommend\", \"can refund\", \"can relax\", \"can see\", \"can show\", \"can speak\", \"can spend\", \"can stay\", \"can stay there for hour\", \"can try\", \"can use\", \"may borrow\", \"will suit well\"], \"frustrate with\": [\"align with\", \"breakdance\", \"busy with\", \"come with\", \"could start with\", \"display\", \"double cross\", \"enjoy work with\", \"frustrate with\", \"have direct contact with\", \"help with\", \"hike with\", \"interview with\", \"obsess with\", \"relax with\", \"set here with\", \"share with\", \"sleep with\", \"volunteer with\", \"with\", \"work with\"], \"think about\": [\"about\", \"concern about\", \"daydream about\", \"feel about\", \"have idea about\", \"hear about\", \"know a lot about\", \"know about\", \"know much about\", \"know nothing about\", \"like talk about\", \"open about\", \"passionate about\", \"talk about\", \"think about\", \"wanna talk about\", \"worry about\"], \"start\": [\"begin\", \"finish\", \"start\"], \"into\": [\"back into\", \"bump into\", \"get into\", \"into\", \"transfer into\"], \"like to see in beijing\": [\"can call it in\", \"can really get in touch with\", \"interested in go to\", \"like to go far in\", \"like to live in\", \"like to see in beijing\", \"look in to\", \"want they all in fifty\", \"would never stab in the back\"], \"teach\": [\"graduate\", \"learn\", \"teach\", \"teach during\", \"tutor\"], \"smoke\": [\"blast\", \"rain\", \"smell\", \"smoke\", \"smoking\"], \"want something to\": [\"can listen to\", \"can not afford to\", \"can t seem to make\", \"charge it to\", \"feel connected to\", \"give he to we\", \"give time to do\", \"have anything to\", \"have no reason to distrust\", \"know how to use\", \"like to do\", \"like to do for fun\", \"like to try\", \"like we to\", \"love listen to\", \"love to\", \"love to own\", \"love to sing\", \"mind if walk to\", \"need this weekend to\", \"own\", \"prefer not to\", \"prefer not to bother\", \"send it to\", \"take they to her grave\", \"try not to\", \"want something to\", \"want to\", \"want to do\", \"want to extend\", \"want to pay\", \"want to sign\", \"want to watch a movie together\", \"willing to do\", \"would ever learn to\", \"would love to\"], \"have experience in\": [\"always work in\", \"get a 4 . 0 in that class\", \"grow well only in\", \"have always work in\", \"have any experience in\", \"have c complication from surgery\", \"have experience in\", \"have family in the area\", \"have soap in they\", \"help in this city\", \"help while in\", \"in touch with\", \"read the classic in college\", \"study\"], \"move back here from\": [\"close\", \"come home from\", \"drive under\", \"get back from\", \"get home from\", \"land\", \"like cash back\", \"love watch bird from indoor\", \"move\", \"move back here from\", \"move from\", \"move here when\", \"move here with\", \"send somebody over\", \"walk around\"], \"get a good look at\": [\"get a good look at\", \"get dog at the clinic\", \"get real good at\", \"good\", \"have breakfast at a great restaurant\", \"throw a milk carton at\"], \"expect to\": [\"able to\", \"able to find\", \"about to\", \"about to fix\", \"allow to\", \"close to\", \"come to\", \"cook to\", \"could speak to\", \"devote more time to\", \"excited to\", \"expect to\", \"forget to\", \"glad to\", \"happen to\", \"hard to\", \"have to\", \"have to give\", \"hope to\", \"inspire to\", \"intend to\", \"listen to\", \"look forward to\", \"may speak to\", \"mean to\", \"meditate to\", \"migrate to\", \"move to\", \"need to\", \"need to make per year\", \"new to\", \"open to\", \"pay attention to\", \"pay more attention to\", \"plan to\", \"prefer to\", \"propose to\", \"read biography to\", \"ready to\", \"respond to\", \"ride to\", \"scared to\", \"seem to\", \"similar to\", \"sound appeal to\", \"speak to\", \"stick to\", \"take to\", \"talk to\", \"tell to\", \"to\", \"to withdraw\", \"try to\", \"will have to take\", \"will learn to deal with\", \"will request hr to\", \"write to\"], \"could not recognize\": [\"accept\", \"care if\", \"cause\", \"could\", \"could not recognize\", \"could not stand\", \"have not make\", \"have not pick\", \"have not time for\", \"never\", \"please that\", \"would\", \"would like\", \"would love\", \"would not change\", \"would not eat\", \"would not mind\", \"would rather\"], \"eat\": [\"bake\", \"binge\", \"cook\", \"drink\", \"eat\", \"only eat\"], \"sleep like\": [\"like\", \"like watch\", \"pet sitting\", \"relax\", \"sleep\", \"sleep like\", \"tired\"], \"wash\": [\"dye\", \"exfoliate\", \"paint\", \"wash\", \"washing\", \"wear\"], \"divorce\": [\"divorce\", \"marry\"], \"switch\": [\"dial\", \"drop\", \"switch\"], \"should buy\": [\"buy\", \"purchase\", \"sell\", \"shop\", \"should buy\", \"should sell\"], \"need help\": [\"allow\", \"assist\", \"can help contact\", \"guide\", \"help\", \"manage\", \"need\", \"need help\", \"seek\"], \"in\": [\"bear in\", \"believe in\", \"check in\", \"dance in\", \"fall in\", \"follow in\", \"in\", \"in between\", \"interested in\", \"live in\", \"locate in\", \"major in\", \"park in\", \"permit in\", \"play in\", \"play piano in\", \"proficiency in\", \"serve in\", \"set in\", \"sing in\", \"start in\", \"teach in\", \"work in\"], \"should join\": [\"adopt\", \"follow\", \"join\", \"meet\", \"should join\", \"should meet\", \"sign\", \"volunteer\"], \"ace\": [\"ace\"], \"come in\": [\"bring in\", \"come back in\", \"come in\", \"find in\", \"fit in\", \"get in because\", \"get in english 101\", \"get interested in\", \"go first thing in\", \"keep in\", \"live here in\", \"make in\", \"move in\", \"play the piano in\", \"shut down in\", \"spend the day in\", \"stay in\", \"stay last night in\", \"wait for in\"], \"need to go back to\": [\"allow people to check out\", \"get ready to\", \"get ready to take\", \"get to\", \"go out to\", \"go to\", \"go to across\", \"go to college for\", \"go to far from\", \"go to town on\", \"go to transfer\", \"go to watch it out of curiosity\", \"have plan to go\", \"like go out to\", \"like go to\", \"like to go\", \"like to go for\", \"like to go to\", \"love to go to\", \"love to go to the beach with\", \"love to sit around\", \"move back to\", \"need to go back to\", \"plan to go\", \"should go to buy\", \"want to go out to\", \"want to take\"], \"be still in\": [\"be a serious disturbance in\", \"be a story about breakdance in\", \"be go in\", \"be in\", \"be in attendance at\", \"be in between\", \"be in the chair\", \"be in to\", \"be it in\", \"be more in to\", \"be still in\", \"be they in\"], \"make look\": [\"fit right\", \"look\", \"make\", \"make bank\", \"make look\", \"would make\"], \"pull out\": [\"burn down\", \"calm down\", \"check out\", \"could fill out\", \"cut out\", \"find out\", \"help out with\", \"lock out\", \"pass out\", \"pull out\", \"try out\", \"wanna try out\", \"work out\"], \"should pay\": [\"ask bill if\", \"can pay with\", \"cancel\", \"charge\", \"cost\", \"deposit\", \"guarantee\", \"must pay\", \"owe\", \"pay\", \"pay for\", \"should pay\", \"would pay\"], \"live there\": [\"could live\", \"live\", \"live above\", \"live around\", \"live there\", \"live there for\", \"starve\", \"survive\"], \"live here for a long time\": [\"be fake straight for a long time\", \"do for a job\", \"do for a living\", \"draw they all the time all over\", \"have a crush on\", \"have a seat available\", \"have a small team under\", \"know a country song about that\", \"live here for a long time\", \"live here for a month\", \"make a recommendation for\", \"need a full time job for health insurance\", \"practice a lot as a kid\", \"race the car for a living\", \"share a one bedroom with\", \"should leave for a tip\", \"work a lot during\", \"work here long time\"], \"work as\": [\"portray woman as weak\", \"read those as a child\", \"roleplay as\", \"start as\", \"work\", \"work as\", \"work with vet as\"], \"wreck\": [\"wreck\"], \"want to be\": [\"be able to\", \"be able to take the test again\", \"be excited to\", \"be go to\", \"be go to make be life easy\", \"be hope to visit\", \"be look forward to\", \"be ready to\", \"be require to\", \"be sneak away to\", \"be someone come to get\", \"be take the kid to\", \"be to\", \"be to leave nothing for a tip\", \"be to play\", \"be try to get\", \"be up to\", \"come here to be\", \"do be job remotely\", \"go to be\", \"go to be take\", \"have to be\", \"like to be\", \"like to buy a keepsake for be girlfriend\", \"need to be\", \"need to get be dance gear ready\", \"send be car to be fix\", \"try to be\", \"use to be\", \"want the money to be transfer\", \"want to be\", \"want to be here tomorrow\", \"will just put be coat away\", \"would like to be\"], \"should consider\": [\"change\", \"consider\", \"count\", \"decide\", \"exercise\", \"interest\", \"may consider\", \"might\", \"plan\", \"recommend\", \"rule\", \"should\", \"should appreciate\", \"should call\", \"should choose from\", \"should consider\", \"should drink more\", \"should leave\", \"should light\", \"should really limit\"], \"mow\": [\"mow\"], \"ai\": [\"ai\"], \"like do\": [\"can do\", \"do\", \"do for\", \"do for fun\", \"do well than\", \"fancy\", \"got do\", \"hate\", \"let do\", \"like do\"], \"come by\": [\"be lead by\", \"come by\", \"know by face\", \"live by\", \"pay by\", \"send it by airmail\"], \"be here for\": [\"be always a need for\", \"be around for\", \"be come here for\", \"be currently look for\", \"be for\", \"be here for\", \"be it for\", \"be look for\", \"be lunch time for\", \"be not for\", \"be not look good for\", \"be not much room for\", \"be off for\", \"be out for\", \"be plenty for\", \"be quiet for\", \"be serious business for\", \"be shop for\", \"be take mom out\", \"be there before\", \"be there good hiking spot near\", \"be this for\", \"do all be shopping through\", \"drive be big truck around\", \"get be key out\", \"live there be whole life\", \"should take be shoe off\", \"spend be holiday from\"], \"be naturally\": [\"be\", \"be 30 pound over weight\", \"be a block away\", \"be about\", \"be also from\", \"be also into\", \"be always with\", \"be arrive\", \"be available\", \"be content\", \"be decide about switch\", \"be employ\", \"be far away from\", \"be from\", \"be get\", \"be glad\", \"be glad the week be over\", \"be have\", \"be into\", \"be just below\", \"be just walk\", \"be learn\", \"be like\", \"be live\", \"be mixed with\", \"be naturally\", \"be not familar with\", \"be not feel\", \"be not into\", \"be not more expensive than\", \"be not really a fan\", \"be obsess with\", \"be plan\", \"be really into\", \"be see\", \"be something wrong with\", \"be still into\", \"be sure\", \"be that consider\", \"be the novel about\", \"be they from\", \"be together\", \"be two pound over\", \"be usually out\", \"burn be house down\", \"can be\", \"do be body good\", \"dress be yorkie as a lion\", \"dye be hair red\", \"have be\", \"help be mom out\", \"know it be\", \"like be\", \"love be with\", \"must be\", \"purchase be from ikea\", \"will all be\", \"will be\", \"will be expect\", \"will there be\", \"would be\"], \"save\": [\"rather save\", \"save\", \"spend\"], \"kill\": [\"arrest\", \"die\", \"hurt\", \"kill\", \"rob\", \"shoot\"], \"sing\": [\"dance\", \"sing\", \"singe\"], \"like to purchase\": [\"build house upon request\", \"have to give 3 shoot\", \"like listen to\", \"like some magic to take away\", \"like to\", \"like to buy\", \"like to cook for\", \"like to depart\", \"like to drink\", \"like to eat at\", \"like to find\", \"like to have\", \"like to leave on\", \"like to make\", \"like to meet for a drink\", \"like to pay\", \"like to purchase\", \"like to read\", \"like to return\", \"like to send\", \"like to sing\", \"like to stay\", \"like to use\", \"love to live on\", \"love to look at\", \"order\", \"use to\", \"use to buy\", \"use to have\", \"would like to\", \"would tike to buy\"], \"be one of\": [\"be a fan of\", \"be a huge fan of\", \"be a type of\", \"be an employee of\", \"be just off of\", \"be one of\", \"be part of\", \"be scared of\", \"become\", \"need all of be supply right away\"], \"s\": [\"s\"], \"break up with\": [\"break up with\", \"can not put up with\", \"catch up on\", \"fill up\", \"finish up\", \"grow up as\", \"grow up in\", \"keep up all night\", \"like to meet up with\", \"make up\", \"meet up for\", \"meet up with\", \"open up\", \"show up for\", \"stand up at\", \"take up\", \"wake up\", \"wake up at\"], \"retire\": [\"quit\", \"retire\"], \"can not handle\": [\"can always play\", \"can always use\", \"can not\", \"can not afford\", \"can not deal with\", \"can not do\", \"can not drink\", \"can not eat\", \"can not endure\", \"can not find\", \"can not handle\", \"can not imagine\", \"can not kick\", \"can not stand\", \"can not wait for\", \"can talk about\", \"could supply\", \"must water\", \"type\", \"will not pull\"], \"be just relax at\": [\"be a run at\", \"be at\", \"be be family at\", \"be good at\", \"be just relax at\", \"be just relax at home in\", \"be one at\", \"be very sociable at the weekend\", \"have so much fun at\", \"like be at\", \"will be at\"], \"name\": [\"name\"], \"feel like\": [\"dislike\", \"enjoy\", \"feel\", \"feel like\", \"look like\", \"love\", \"seem\", \"sound like\", \"taste like\"], \"go on\": [\"go on\", \"go out on\", \"mind go on\", \"spend too much on\"], \"provide\": [\"arrange\", \"include\", \"locate\", \"provide\", \"require\", \"serve\", \"support\", \"use\"], \"on\": [\"catch on\", \"church on\", \"dance on\", \"depend on\", \"fall on\", \"keen on\", \"live on\", \"love work on\", \"on\", \"plan on\", \"plan on make\", \"plane on watch\", \"play on\", \"play soccer on\", \"put on\", \"scald on\", \"show on\", \"sit on\", \"work on\"]}"
      ]
    },
    {
      "cell_type": "code",
      "source": [
        "## Make new dict containing the changed abstract predicates \n",
        "abstract_predicates = {}\n",
        "new_keys = [\"\", \"think\",\t\"be from\",\t\"have\",\t\"be greater than\",\t\"take advantage of\",\t\"make \",\t\"bring\",\t\"be\",\t\"get off\",\t\"recycle\",\t\"geocache\",\t\"ride\",\t\"keep from \",\t\"gameplay\",\t\"play (game)\",\t\"stay\",\t\"hear\",\t\"want\",\t\"be \",\t\"get\",\t\"be at\",\t\"winning/losing\",\t\"literature\",\t\"travel\",\t\"go\",\t\"do .. For\",\t\"future actions\",\t\"add\",\t\"take\",\t\"can\",\t\"be with\",\t\"think (about)\",\t\"start\",\t\"get into\",\t\"intention \",\t\"teach\",\t\"smoke\",\t\"like \",\t\"have something in \",\t\"come back\",\t\"look\",\t\"try to\",\t\"cannot \",\t\"food actions \",\t\"relax\",\t\"personal hygiene\",\t\"marriage\",\t\"stop\",\t\"buy\",\t\"help\",\t\"be in \",\t\"join \",\t\"ace\",\t\"come in \",\t\"need\",\t\"be\",\t\"make \",\t\"try out\",\t\"pay \",\t\"live\",\t\"live\",\t\"do \",\t\"stop \",\t\"want\",\t\"consider\",\t\"mow\",\t\"ai\",\t\"do \",\t\"be by \",\t\"be for\",\t\"be about\",\t\"save (money)\",\t\"hurt\",\t\"sing\",\t\"like\",\t\"be of\",\"be\",\t\"break up with\",\t\"quit\",\t\"cannot \",\t\"not be able \",\t\"name\",\t\"like\",\t\"go on\",\t\"use\",\t\"be on \"]\n",
        "\n",
        "i = 0\n",
        "for k, v in abstract_predicates_R.items():\n",
        "  if new_keys[i] not in abstract_predicates.keys():\n",
        "    abstract_predicates[new_keys[i]] = []\n",
        "  abstract_predicates[new_keys[i]] += v \n",
        "  i += 1\n",
        "\n",
        "print(abstract_predicates)\n"
      ],
      "metadata": {
        "colab": {
          "base_uri": "https://localhost:8080/"
        },
        "id": "TWtxFWeUMKwy",
        "outputId": "7978cb93-2760-4c61-a39a-6b456ff3f971"
      },
      "execution_count": null,
      "outputs": [
        {
          "output_type": "stream",
          "name": "stdout",
          "text": [
            "{'': [''], 'think': ['forget', 'glad', 'hope', 'imagine', 'kid', 'know', 'mean', 'remember', 'say', 'scare', 'sort', 'spell anything wrong', 'think'], 'be from': ['call from', 'different from', 'exhausted from', 'from', 'graduate from', 'import from', 'migrate from', 'retire from', 'switch from', 'tired from', 'visit from'], 'have': ['have', 'have any room available', 'have catch', 'have experience', 'have family', 'have no problem with that', 'like have people around', 'may have', 'should have', 'should sms over', 'will have', 'will never have'], 'be greater than': ['fast than', 'hard than', 'make more than', 'well than'], 'take advantage of': ['afraid of', 'deserve of', 'get enough of', 'have dream of go', 'hear of', 'in need of', 'inherit', 'involve', 'its', 'lose track of', 'make of', 'present', 'speak of', 'take advantage of', 'take care of', 'will spend most of the weekend with'], 'make ': ['bring it over', 'could make it as', 'could try it on', 'it', 'like it cut', 'make it', 'make it a secret between we', 'read it often', 'want it', 'wear it much', 'wear it that way', 'will make it work', 'fit right', 'look', 'make', 'make bank', 'make look', 'would make'], 'bring': ['bring', 'build', 'come', 'grow', 'hold', 'raise', 'reach', 'share', 'shed', 'turn'], 'be': ['be a camera on', 'be a copy machine on', 'be good at work on', 'be on', 'be plan on go', 'be set on', 'be still on', 'must not sit on', 'spend all be money on shopping', 'try they on be travel', 'be a serious disturbance in', 'be a story about breakdance in', 'be go in', 'be in', 'be in attendance at', 'be in between', 'be in the chair', 'be in to', 'be it in', 'be more in to', 'be still in', 'be they in', 's'], 'get off': ['fight people off', 'get off', 'get off on', 'play off', 'take friday off', 'tear off', 'throw it off'], 'recycle': ['recycle', 'scrap', 'waste'], 'geocache': ['code', 'geocache'], 'ride': ['chase', 'drive', 'hike', 'ride', 'swim', 'tour', 'train'], 'keep from ': ['keep', 'keep from', 'keep safe', 'would please keep'], 'gameplay': ['draw', 'match', 'race', 'replay'], 'play (game)': ['lead', 'play', 'play hoop with', 'play the cd loud', 'play with'], 'stay': ['get along with', 'hang with', 'have stay with', 'live with', 'rather stay', 'stay', 'stay home with', 'stay with'], 'hear': ['describe', 'hear', 'hear clearly', 'sound', 'speak'], 'want': ['let', 'prefer', 'should try', 'try', 'want', 'wish', 'be able to', 'be able to take the test again', 'be excited to', 'be go to', 'be go to make be life easy', 'be hope to visit', 'be look forward to', 'be ready to', 'be require to', 'be sneak away to', 'be someone come to get', 'be take the kid to', 'be to', 'be to leave nothing for a tip', 'be to play', 'be try to get', 'be up to', 'come here to be', 'do be job remotely', 'go to be', 'go to be take', 'have to be', 'like to be', 'like to buy a keepsake for be girlfriend', 'need to be', 'need to get be dance gear ready', 'send be car to be fix', 'try to be', 'use to be', 'want the money to be transfer', 'want to be', 'want to be here tomorrow', 'will just put be coat away', 'would like to be'], 'be ': ['wass'], 'get': ['catch', 'could get', 'dig', 'find', 'fix', 'get', 'get along', 'get more', 'get ready', 'get to go get', 'get we', 'give', 'have get', 'lose', 'send', 'should get'], 'be at': ['arrive at', 'available at', 'bad at', 'eat at', 'go at', 'good at', 'stay at', 'still at', 'take lot at the bar', 'teach at', 'turn right at', 'volunteer at', 'work at', 'work night at', 'work tonight at'], 'winning/losing': ['beat', 'win'], 'literature': ['book', 'copy', 'like read', 'note', 'post', 'read', 'write'], 'travel': ['cook 100 meal for', 'exchange', 'get ready for', 'here for', 'live here for', 'look for', 'make some for', 'must leave for', 'reserve', 'travel', 'travel here for', 'travel more for', 'visit'], 'go': ['can go', 'could go', 'fall', 'go', 'go for', 'go great with', 'go hike often', 'go just for', 'go next', 'go there', 'go there with', 'go thru', 'hang', 'leave', 'pass', 'run', 'rush', 's it go'], 'do .. For': ['cook for', 'distinguish for', 'fine for', 'for', 'good for', 'hard for', 'have seat for', 'leak for', 'market for', 'marry for', 'meet for', 'nervous for', 'pray for', 'ready for', 'retire for', 'save for', 'shop for', 'stand for', 'stop for', 'suitable for', 'vote for', 'work for'], 'future actions': ['call', 'miss', 'see', 'see tomorrow', 'should see', 'tell', 'wait', 'watch'], 'add': ['add', 'could add', 'mix'], 'take': ['can take', 'can take the test again', 'could take', 'may take', 'take', 'will', 'will bring back', 'will come', 'will get', 'will hold', 'will open', 'will take', 'would give'], 'can': ['can', 'can accommodate', 'can alphabetize', 'can also try', 'can catch', 'can get', 'can give', 'can handle', 'can have', 'can have weekend free', 'can help', 'can hold', 'can make', 'can only spend', 'can phone', 'can play', 'can recommend', 'can refund', 'can relax', 'can see', 'can show', 'can speak', 'can spend', 'can stay', 'can stay there for hour', 'can try', 'can use', 'may borrow', 'will suit well'], 'be with': ['align with', 'breakdance', 'busy with', 'come with', 'could start with', 'display', 'double cross', 'enjoy work with', 'frustrate with', 'have direct contact with', 'help with', 'hike with', 'interview with', 'obsess with', 'relax with', 'set here with', 'share with', 'sleep with', 'volunteer with', 'with', 'work with'], 'think (about)': ['about', 'concern about', 'daydream about', 'feel about', 'have idea about', 'hear about', 'know a lot about', 'know about', 'know much about', 'know nothing about', 'like talk about', 'open about', 'passionate about', 'talk about', 'think about', 'wanna talk about', 'worry about'], 'start': ['begin', 'finish', 'start'], 'get into': ['back into', 'bump into', 'get into', 'into', 'transfer into'], 'intention ': ['can call it in', 'can really get in touch with', 'interested in go to', 'like to go far in', 'like to live in', 'like to see in beijing', 'look in to', 'want they all in fifty', 'would never stab in the back'], 'teach': ['graduate', 'learn', 'teach', 'teach during', 'tutor'], 'smoke': ['blast', 'rain', 'smell', 'smoke', 'smoking'], 'like ': ['can listen to', 'can not afford to', 'can t seem to make', 'charge it to', 'feel connected to', 'give he to we', 'give time to do', 'have anything to', 'have no reason to distrust', 'know how to use', 'like to do', 'like to do for fun', 'like to try', 'like we to', 'love listen to', 'love to', 'love to own', 'love to sing', 'mind if walk to', 'need this weekend to', 'own', 'prefer not to', 'prefer not to bother', 'send it to', 'take they to her grave', 'try not to', 'want something to', 'want to', 'want to do', 'want to extend', 'want to pay', 'want to sign', 'want to watch a movie together', 'willing to do', 'would ever learn to', 'would love to'], 'have something in ': ['always work in', 'get a 4 . 0 in that class', 'grow well only in', 'have always work in', 'have any experience in', 'have c complication from surgery', 'have experience in', 'have family in the area', 'have soap in they', 'help in this city', 'help while in', 'in touch with', 'read the classic in college', 'study'], 'come back': ['close', 'come home from', 'drive under', 'get back from', 'get home from', 'land', 'like cash back', 'love watch bird from indoor', 'move', 'move back here from', 'move from', 'move here when', 'move here with', 'send somebody over', 'walk around'], 'look': ['get a good look at', 'get dog at the clinic', 'get real good at', 'good', 'have breakfast at a great restaurant', 'throw a milk carton at'], 'try to': ['able to', 'able to find', 'about to', 'about to fix', 'allow to', 'close to', 'come to', 'cook to', 'could speak to', 'devote more time to', 'excited to', 'expect to', 'forget to', 'glad to', 'happen to', 'hard to', 'have to', 'have to give', 'hope to', 'inspire to', 'intend to', 'listen to', 'look forward to', 'may speak to', 'mean to', 'meditate to', 'migrate to', 'move to', 'need to', 'need to make per year', 'new to', 'open to', 'pay attention to', 'pay more attention to', 'plan to', 'prefer to', 'propose to', 'read biography to', 'ready to', 'respond to', 'ride to', 'scared to', 'seem to', 'similar to', 'sound appeal to', 'speak to', 'stick to', 'take to', 'talk to', 'tell to', 'to', 'to withdraw', 'try to', 'will have to take', 'will learn to deal with', 'will request hr to', 'write to'], 'cannot ': ['accept', 'care if', 'cause', 'could', 'could not recognize', 'could not stand', 'have not make', 'have not pick', 'have not time for', 'never', 'please that', 'would', 'would like', 'would love', 'would not change', 'would not eat', 'would not mind', 'would rather', 'can always play', 'can always use', 'can not', 'can not afford', 'can not deal with', 'can not do', 'can not drink', 'can not eat', 'can not endure', 'can not find', 'can not handle', 'can not imagine', 'can not kick', 'can not stand', 'can not wait for', 'can talk about', 'could supply', 'must water', 'type', 'will not pull'], 'food actions ': ['bake', 'binge', 'cook', 'drink', 'eat', 'only eat'], 'relax': ['like', 'like watch', 'pet sitting', 'relax', 'sleep', 'sleep like', 'tired'], 'personal hygiene': ['dye', 'exfoliate', 'paint', 'wash', 'washing', 'wear'], 'marriage': ['divorce', 'marry'], 'stop': ['dial', 'drop', 'switch'], 'buy': ['buy', 'purchase', 'sell', 'shop', 'should buy', 'should sell'], 'help': ['allow', 'assist', 'can help contact', 'guide', 'help', 'manage', 'need', 'need help', 'seek'], 'be in ': ['bear in', 'believe in', 'check in', 'dance in', 'fall in', 'follow in', 'in', 'in between', 'interested in', 'live in', 'locate in', 'major in', 'park in', 'permit in', 'play in', 'play piano in', 'proficiency in', 'serve in', 'set in', 'sing in', 'start in', 'teach in', 'work in'], 'join ': ['adopt', 'follow', 'join', 'meet', 'should join', 'should meet', 'sign', 'volunteer'], 'ace': ['ace'], 'come in ': ['bring in', 'come back in', 'come in', 'find in', 'fit in', 'get in because', 'get in english 101', 'get interested in', 'go first thing in', 'keep in', 'live here in', 'make in', 'move in', 'play the piano in', 'shut down in', 'spend the day in', 'stay in', 'stay last night in', 'wait for in'], 'need': ['allow people to check out', 'get ready to', 'get ready to take', 'get to', 'go out to', 'go to', 'go to across', 'go to college for', 'go to far from', 'go to town on', 'go to transfer', 'go to watch it out of curiosity', 'have plan to go', 'like go out to', 'like go to', 'like to go', 'like to go for', 'like to go to', 'love to go to', 'love to go to the beach with', 'love to sit around', 'move back to', 'need to go back to', 'plan to go', 'should go to buy', 'want to go out to', 'want to take'], 'try out': ['burn down', 'calm down', 'check out', 'could fill out', 'cut out', 'find out', 'help out with', 'lock out', 'pass out', 'pull out', 'try out', 'wanna try out', 'work out'], 'pay ': ['ask bill if', 'can pay with', 'cancel', 'charge', 'cost', 'deposit', 'guarantee', 'must pay', 'owe', 'pay', 'pay for', 'should pay', 'would pay'], 'live': ['could live', 'live', 'live above', 'live around', 'live there', 'live there for', 'starve', 'survive', 'be fake straight for a long time', 'do for a job', 'do for a living', 'draw they all the time all over', 'have a crush on', 'have a seat available', 'have a small team under', 'know a country song about that', 'live here for a long time', 'live here for a month', 'make a recommendation for', 'need a full time job for health insurance', 'practice a lot as a kid', 'race the car for a living', 'share a one bedroom with', 'should leave for a tip', 'work a lot during', 'work here long time'], 'do ': ['portray woman as weak', 'read those as a child', 'roleplay as', 'start as', 'work', 'work as', 'work with vet as', 'can do', 'do', 'do for', 'do for fun', 'do well than', 'fancy', 'got do', 'hate', 'let do', 'like do'], 'stop ': ['wreck'], 'consider': ['change', 'consider', 'count', 'decide', 'exercise', 'interest', 'may consider', 'might', 'plan', 'recommend', 'rule', 'should', 'should appreciate', 'should call', 'should choose from', 'should consider', 'should drink more', 'should leave', 'should light', 'should really limit'], 'mow': ['mow'], 'ai': ['ai'], 'be by ': ['be lead by', 'come by', 'know by face', 'live by', 'pay by', 'send it by airmail'], 'be for': ['be always a need for', 'be around for', 'be come here for', 'be currently look for', 'be for', 'be here for', 'be it for', 'be look for', 'be lunch time for', 'be not for', 'be not look good for', 'be not much room for', 'be off for', 'be out for', 'be plenty for', 'be quiet for', 'be serious business for', 'be shop for', 'be take mom out', 'be there before', 'be there good hiking spot near', 'be this for', 'do all be shopping through', 'drive be big truck around', 'get be key out', 'live there be whole life', 'should take be shoe off', 'spend be holiday from'], 'be about': ['be', 'be 30 pound over weight', 'be a block away', 'be about', 'be also from', 'be also into', 'be always with', 'be arrive', 'be available', 'be content', 'be decide about switch', 'be employ', 'be far away from', 'be from', 'be get', 'be glad', 'be glad the week be over', 'be have', 'be into', 'be just below', 'be just walk', 'be learn', 'be like', 'be live', 'be mixed with', 'be naturally', 'be not familar with', 'be not feel', 'be not into', 'be not more expensive than', 'be not really a fan', 'be obsess with', 'be plan', 'be really into', 'be see', 'be something wrong with', 'be still into', 'be sure', 'be that consider', 'be the novel about', 'be they from', 'be together', 'be two pound over', 'be usually out', 'burn be house down', 'can be', 'do be body good', 'dress be yorkie as a lion', 'dye be hair red', 'have be', 'help be mom out', 'know it be', 'like be', 'love be with', 'must be', 'purchase be from ikea', 'will all be', 'will be', 'will be expect', 'will there be', 'would be'], 'save (money)': ['rather save', 'save', 'spend'], 'hurt': ['arrest', 'die', 'hurt', 'kill', 'rob', 'shoot'], 'sing': ['dance', 'sing', 'singe'], 'like': ['build house upon request', 'have to give 3 shoot', 'like listen to', 'like some magic to take away', 'like to', 'like to buy', 'like to cook for', 'like to depart', 'like to drink', 'like to eat at', 'like to find', 'like to have', 'like to leave on', 'like to make', 'like to meet for a drink', 'like to pay', 'like to purchase', 'like to read', 'like to return', 'like to send', 'like to sing', 'like to stay', 'like to use', 'love to live on', 'love to look at', 'order', 'use to', 'use to buy', 'use to have', 'would like to', 'would tike to buy', 'dislike', 'enjoy', 'feel', 'feel like', 'look like', 'love', 'seem', 'sound like', 'taste like'], 'be of': ['be a fan of', 'be a huge fan of', 'be a type of', 'be an employee of', 'be just off of', 'be one of', 'be part of', 'be scared of', 'become', 'need all of be supply right away'], 'break up with': ['break up with', 'can not put up with', 'catch up on', 'fill up', 'finish up', 'grow up as', 'grow up in', 'keep up all night', 'like to meet up with', 'make up', 'meet up for', 'meet up with', 'open up', 'show up for', 'stand up at', 'take up', 'wake up', 'wake up at'], 'quit': ['quit', 'retire'], 'not be able ': ['be a run at', 'be at', 'be be family at', 'be good at', 'be just relax at', 'be just relax at home in', 'be one at', 'be very sociable at the weekend', 'have so much fun at', 'like be at', 'will be at'], 'name': ['name'], 'go on': ['go on', 'go out on', 'mind go on', 'spend too much on'], 'use': ['arrange', 'include', 'locate', 'provide', 'require', 'serve', 'support', 'use'], 'be on ': ['catch on', 'church on', 'dance on', 'depend on', 'fall on', 'keen on', 'live on', 'love work on', 'on', 'plan on', 'plan on make', 'plane on watch', 'play on', 'play soccer on', 'put on', 'scald on', 'show on', 'sit on', 'work on']}\n"
          ]
        }
      ]
    },
    {
      "cell_type": "markdown",
      "metadata": {
        "id": "W4-S-jSQu5U7"
      },
      "source": [
        "#### Create lookup and bio-lookup "
      ]
    },
    {
      "cell_type": "code",
      "execution_count": null,
      "metadata": {
        "id": "qOnrZLOwRn6u"
      },
      "outputs": [],
      "source": [
        "unique_list = list(unique_predicates_clean)\n",
        "first_half = unique_list[:int(len(unique_list)/2)] # this is just for exlanatory purposes! You should create a new categorization of the predicates.\n",
        "second_half = unique_list[int(len(unique_list)/2):]\n",
        "bio_dict = {(3,4): first_half, (5,6): second_half} # create a dictionary that contains tuple (B-tag, I-tag) as keys (int, int) and a list of all specific predicates belonging to that group as values\n",
        "lookup = {}\n",
        "for key, value in bio_dict.items():\n",
        "    for pred in value:\n",
        "        lookup[pred] = key\n",
        "bio_lookup = {3: 'like', 5: 'do'} # create a dictionary that contains the B-tag (int) for each abstract predicate as key and the abstract predicate (string) as value"
      ]
    },
    {
      "cell_type": "code",
      "execution_count": null,
      "metadata": {
        "colab": {
          "base_uri": "https://localhost:8080/"
        },
        "id": "kKZPtteFHYXM",
        "outputId": "d43e91b1-9c2c-4c6a-d272-bdb142fb5bec"
      },
      "outputs": [
        {
          "name": "stdout",
          "output_type": "stream",
          "text": [
            "['', 'go for', 'dance on', 'go to watch it out of curiosity', 'have idea about', 'can recommend', 'scald on', 'join', 'go to across', 'stay', 'can have', 'plan', 'never', 'lose', 'tutor', 'be ready to', 'talk about', 'need this weekend to', 'to withdraw', 'SPEAKER1', 'could add', 'stay at', 'arrest', 'code', 'should go to buy', 'involve', 'stay home with', 'can play', 'from', 'should meet', 'into', 'have a seat available', 'count', 'be take the kid to', 'propose to', 'hike', 'smoke', 'look forward to', 'kid', 'pet sitting', 'hard for', 'stay with', 'binge', 'write', 'describe', 'allow', 'obsess with', 'get ready', 'have experience', 're', 'rule', 'able to', 'will spend most of the weekend with', 'burn be house down', 'be currently look for', 'leave', 'taste like', 'cook', 'read biography to', 'break up with', 'make it a secret between we', 'dye be hair red', 'volunteer with', 'go at', 'new to', 'dance', 'use to have', 'be just off of', 'be serious business for', 'be fake straight for a long time', 'spend all be money on shopping', 'can not find', 'volunteer', 'travel', 'can handle', 'be in the chair', 'glad', 'look in to', 'chase', 'go out on', 'go to be', 'work out', 'work as', 'like to read', 'do for', 'be not familar with', 'get into', 'like to eat at', 'want to watch a movie together', 'show up for', 'ace', 'purchase be from ikea', 'have no problem with that', 'watch', 'be glad', 'hear clearly', 'visit from', 'live here in', 'transfer into', 'be here for', 'work on', 'teach during', 'get along with', 'need to make per year', 'm also into', 'turn right at', 'please that', 'move here when', 'in', 'like to cook for', 'should sell', 'for', 'should leave for a tip', 'wanna talk about', 'rather save', 'would not eat', 'would not mind', 'go thru', 'like to pay', 'can try', 'hike with', 'have get', 'be employ', 'market for', 'will suit well', 'find', 'rain', 'can take the test again', 'drive under', 'move from', 'retire for', 'keen on', 'might', 'want to do', 'say', 'eat at', 'like to do for fun', 'set here with', 'dye', 'sit on', 'read those as a child', 'play the piano in', 'tell', 'cook to', 'get off on', 'know it be', 'prefer to', 'stand for', 'be not feel', 'be shop for', 'can accommodate', 'should call', 'be a story about breakdance in', 'get ready for', 'name', 'play on', 'like to buy a keepsake for be girlfriend', 'would like', 'would please keep', 'play in', 's', 'be see', 'can not afford to', 'can call it in', 'different from', 'love be with', 'can not do', 'pay more attention to', 'm', 'would not change', 'nervous for', \"'s lunch time for\", 'starve', 'graduate from', 'be look forward to', 'can not', 'like listen to', 'about to', 'do', 'spend be holiday from', 'be a fan of', 'help be mom out', 'hold', 'roleplay as', 'marry for', 'mean to', 'can not eat', 'call', 'get', 'be try to get', 'draw they all the time all over', 'ready for', 'catch on', 'be to', 'give he to we', 'can t seem to make', 'live there for', 'be up to', 'like be at', 'like to be', 'teach at', 'be require to', 'would be', 'meet', 'throw it off', 'drop', 'like to meet for a drink', 'be to leave nothing for a tip', 'go great with', 'be go to make be life easy', 'enjoy work with', 'go there', 'share a one bedroom with', 'can also try', 'take they to her grave', 'go just for', 'can catch', 'love to live on', 'can only spend', 'can', 'get a 4 . 0 in that class', 'locate in', 'should sms over', 'tear off', 'should', 'could speak to', 'be naturally', 'prefer', 'sound like', 'be plenty for', 'be able to take the test again', 'be', 'make bank', 'be 30 pound over weight', 'wass', 'get real good at', 'fix', 'can not handle', 'spell anything wrong', 'think about', 'be very sociable at the weekend', 'live here for a long time', 'interested in go to', 'arrange', 'have not pick', 'will make it work', 'think', 'like to drink', 'be plan on go', 'do for a living', 'take friday off', 'meditate to', 'want', 'prefer not to', 'find in', 'take', 'care if', 'do be body good', 'have not make', 'could start with', 'come', 'be scared of', 'need to get be dance gear ready', 'see tomorrow', 'like to stay', 'find out', 'be around for', 'rather stay', 'can not wait for', 'be a type of', 'go to town on', 'use to', 'grow up in', 'hope', 'help with', 'have experience in', 'can pay with', 'in between', 'live on', 'be just walk', 'should take be shoe off', 'miss', 'sort', 'burn down', 'about to fix', 'proficiency in', 'back into', 'have seat for', 'feel connected to', 'like to sing', 'have always work in', 'be to play', 'do all be shopping through', 'take up', 'would rather', 'able to find', 'start as', 'need to go back to', 'be about', 'need to be', 'ai', 'retire', 'teach', 'will request hr to', 'mix', 'have soap in they', 'can talk about', 'must leave for', 'should leave', 'share', 'quit', 'come here to be', 'be not really a fan', 'smell', 'take to', 'stay last night in', 'be also from', 'live there be whole life', 'consider', 'available at', 'ready to', 'be sure', 'be into', 'lock out', 'go out to', 'can listen to', 'ride', 'fall on', 'with', 'catch up on', 'love to own', 's it go', 'be just relax at', 'be not into', 'waste', 'be a run at', 'be someone come to get', 'pray for', 'study', 'go on', 'would never stab in the back', 'lose track of', 'like to try', 'help in this city', 'bring in', 'get to', 'be excited to', 'work a lot during', 'like we to', 'exhausted from', 'cause', 'should get', 'fight people off', 'be available', 'set in', 'come by', 'recycle', 'send be car to be fix', 'live here for', 'come back in', 'do for a job', 'spend', 'be there good hiking spot near', 'will come', 'read the classic in college', 'wait', 'know by face', 'believe in', 'go there with', 'go to transfer', 'be that consider', 'prefer not to bother', 'be far away from', 'be for', 'can not deal with', 'mow', 'leak for', 'love to look at', 'buy', 'try to', 'be a camera on', 'concern about', 'plan on make', 'be part of', 'can relax', 'own', 'need', 'grow up as', 'align with', 'volunteer at', 'start in', 'park in', 'do for fun', 'wear', 'fast than', 'have', 'provide', 'have any room available', 'keep safe', 'church on', 'good at', 'have to give', 'could not recognize', 'interview with', 'want to sign', 'talk to', 'try not to', 'love watch bird from indoor', 'read it often', 'go to college for', 'try they on be travel', 'take advantage of', 'm in', 'move back here from', 'import from', 'cook 100 meal for', 'come with', 'should pay', 'can stay', 'know nothing about', 'catch', 'manage', 'make look', 'be live', 'will just put be coat away', 'will never have', 'make of', 'feel like', 'can not kick', 'stick to', 'will hold', 'hear about', 'arrive at', 'like to live in', 'close', 'like go out to', 'here for', 'be a serious disturbance in', 'should join', 'purchase', 'be set on', 'like to see in beijing', 'love work on', 'should really limit', 'only eat', 'would give', 'can stay there for hour', 'be always with', 'could', 'cancel', 'come in', 'be good at work on', 'type', 'sing in', 'like to go to', 'sleep with', 'write to', 'use', 'seem', 'like to send', 'get off', 'scare', 'could take', 'bear in', 'start', 'would love to', 'grow', 'want the money to be transfer', 'can show', 'would pay', 'be go to', 'blast', 'feel', 'would like to be', 'have to', 'would', 'have catch', 'live with', 'move', 'have family', 'get more', 'can not endure', 'live by', 'have a crush on', 'like to return', 'open about', 'shut down in', 'have a small team under', 'will not pull', 'deposit', 'want to pay', 'can really get in touch with', 'fancy', 'speak to', 'will all be', 'be obsess with', 'stand up at', 'may take', 'be one of', 'keep from', 'sound appeal to', 'get be key out', 'can not imagine', 'deserve of', 'learn', 'require', 'expect to', 'note', 'want it', 'build', 'be still in', 'like to use', 'will bring back', 'get interested in', 'like to', 'it', 'make up', 'seek', 'retire from', 'play soccer on', 'match', 'send it to', 'need all of be supply right away', 'work with vet as', 'be it for', 'can help contact', 'dance in', 'can not put up with', 'spend the day in', 'tour', 'lead', 'imagine', 'washing', 'help', 'be not more expensive than', 'book', 'in need of', 'become', 'build house upon request', 'cook for', 'look', 'owe', 'mind go on', 'follow', 'sign', 'work', 'double cross', 'can always use', 'reserve', 'make', 'want to be', 'could supply', 'can make', 'like to go for', 'have plan to go', 'want something to', 'be lead by', 'survive', 'like do', 'can see', 'present', 'get we', 'can have weekend free', 'can not stand', 'be quiet for', 'want to be here tomorrow', 'speak', 'hope to', 'glad to', 'be like', 'follow in', 'interest', 'plan on', 'switch from', 'guide', 'be learn', 'be sneak away to', 'pay for', 'wanna try out', 'give', 'can phone', 'go', 'breakdance', 'drive be big truck around', 'interested in', 'intend to', 'willing to do', 'work in', 'like watch', 'play the cd loud', 'afraid of', 'play with', 'can not afford', 'daydream about', 'try out', 'live there', 'be together', 'be it in', 'like to have', 'have c complication from surgery', 'do be job remotely', 'speak of', 'cost', 'shop', 'know about', 'will learn to deal with', 'ride to', 'have family in the area', 'plan to go', 'vote for', 'be glad the week be over', 'be in attendance at', 'grow well only in', 'win', 'paint', 'be come here for', 'always work in', 'sing', 'have any experience in', 'help while in', 'fit right', 'be not look good for', 'distinguish for', 'well than', 'may speak to', 'good', 'can give', 'can alphabetize', 'be at', 'hear', 'be really into', 'save', 'hurt', 'wait for in', 'ask bill if', 'have to give 3 shoot', 'work for', 'be arrive', 'accept', 'hard to', 'can hold', 'wear it much', 'save for', 'use to buy', 'still at', 'could get', 'travel here for', 'like go to', 'be an employee of', 'can do', 'fall in', 'dial', 'sell', 'use to be', 'will there be', 'be decide about switch', 'open to', 'inspire to', 'keep up all night', 'get in english 101', 'reach', 'live around', 'have be', 'like talk about', 'allow people to check out', 'would make', 'try', 'would tike to buy', 'need to', 'like it cut', 'charge', 'play off', 'want to', 'to', 'excited to', 'can not drink', 'raise', 'worry about', 'include', 'be be family at', 'like to find', 'be out for', 'will be expect', 'meet up with', 'come to', 'see', 'sleep like', 'pay', 'be in', 'can go', 'get enough of', 'give time to do', 'get ready to', 'get ready to take', 'hate', 'work at', 'want to extend', 'decide', 'be from', 'make some for', 'feel about', 'listen to', 'turn', 'scared to', 'be more in to', 'open up', 'beat', 'smoking', 'get home from', 'need help', 'change', 'like', 'plane on watch', 'do well than', 'keep in', 'display', 'wake up at', 'move here with', 'run', 'dress be yorkie as a lion', 'come home from', 'make a recommendation for', 'try to be', 'replay', 'be still into', 'happen to', 'bake', 'fill up', 'forget', 'be in to', 'know much about', 'be able to', 'fall', 'can always play', 'sleep', 'bring it over', 'will be at', 'want to take', 'close to', 'adopt', 'be always a need for', 'like some magic to take away', 'seem to', 'tired from', 'be just below', 'inherit', 'send', 'bad at', 'shoot', 'should choose from', 'share with', 'sound', 'play piano in', 'can spend', 'pull out', 'add', 'like to leave on', 'be on', 'spend too much on', 'be mixed with', 'visit', 'serve', 'assist', 'serve in', 'be usually out', 'would love', 'read', 'look for', 'die', 'stay in', 'similar to', 'forget to', 'be a copy machine on', 'land', 'be still on', 'migrate to', 'passionate about', 'walk around', 'like to make', 'have to be', 'be something wrong with', 'live', 'move in', 'be good at', 'practice a lot as a kid', 'move back to', 'will have to take', 'support', 'copy', 'fine for', 'like have people around', 'should have', 'should appreciate', 'be take mom out', 'wish', 'be have', 'may consider', 'look like', 'be they in', 'bring', 'wear it that way', 'exchange', 'relax', 'could not stand', 'cut out', 'be go in', 'send it by airmail', 'will be', 'be hope to visit', 'respond to', 'tell to', 'dig', 'like read', 'should buy', 'depend on', 'tired', 'will', 'show on', 'meet for', 'like cash back', 'be two pound over', 'calm down', 'relax with', 'be get', 'work night at', 'major in', 'love to sit around', 'can be', 'frustrate with', 'enjoy', 'travel more for', 'get in because', 'should drink more', 'finish up', 'recommend', 'must water', 'take lot at the bar', 'can refund', 'plan to', 'charge it to', 'be they from', 'bump into', 'devote more time to', 'wreck', 'would like to', 'call from', 'be this for', 'pay by', 'pass out', 'locate', 'could go', 'know a lot about', 'rob', 'let', 'kill', 'check out', 'put on', 'have direct contact with', 'like to depart', 'check in', 'work with', 'get a good look at', 'have no reason to distrust', 'post', 'would ever learn to', 'like to buy', 'exercise', 'pay attention to', 'allow to', 'be there before', 'be not for', 'need a full time job for health insurance', 'have anything to', 'hard than', 'be just relax at home in', 'about', 'love', 'in touch with', 'get back from', 'eat', 'its', 'geocache', 'live above', 'like be', 'play hoop with', 'dislike', 'will take', 'on', 'be a huge fan of', 'may have', 'remember', 'know how to use', 'have so much fun at', 'like to go', 'get dog at the clinic', 'shed', 'go first thing in', 'finish', 'love to', 'meet up for', 'know a country song about that', 'wash', 'be plan', 'live here for a month', 'let do', 'marry', 'like to do', 'migrate from', 'may borrow', 'race the car for a living', 'send somebody over', 'pass', 'be off for', 'should consider', 'love to sing', 'can use', 'like to meet up with', 'could fill out', 'suitable for', 'rush', 'draw', 'guarantee', 'love to go to the beach with', 'make more than', 'keep', 'mean', 'will have', 'can take', 'make in', 'like to purchase', 'be one at', 'work here long time', 'race', 'shop for', 'be look for', 'go to', 'portray woman as weak', 'play', 'teach in', 'should light', 'make it', 'busy with', 'must be', 'have not time for', 'like to go far in', 'switch', 'should see', 'hear of', 'help out with', 'exfoliate', 'got do', 'could try it on', 'graduate', 'will open', 'scrap', 'could make it as', 'order', 'will get', 'stop for', 'drive', 'hang', 'go to far from', 'be content', 'go to be take', 'want they all in fifty', 'good for', 'love to go to', 'permit in', 'drink', 'take care of', 'swim', 'can help', 'work tonight at', 'hang with', 'singe', 'divorce', 'be in between', 'be not much room for', 'throw a milk carton at', 'fit in', 'could live', 'go hike often', 'be the novel about', 'get to go get', 'can speak', 'have breakfast at a great restaurant', 'be a block away', 'love listen to', 'begin', 'go next', 'have dream of go', 'must not sit on', 'must pay', 'mind if walk to', 'wake up', 'get along', 'have stay with', 'can get', 'want to go out to', 'train', 'move to', 'should try', 'live in', 'know']\n",
            "{'', 'go for', 'dance on', 'go to watch it out of curiosity', 'have idea about', 'can recommend', 'scald on', 'join', 'go to across', 'stay', 'can have', 'plan', 'never', 'lose', 'tutor', 'be ready to', 'talk about', 'need this weekend to', 'to withdraw', 'SPEAKER1', 'could add', 'stay at', 'arrest', 'code', 'should go to buy', 'involve', 'stay home with', 'can play', 'from', 'should meet', 'into', 'have a seat available', 'count', 'be take the kid to', 'propose to', 'hike', 'smoke', 'look forward to', 'kid', 'pet sitting', 'hard for', 'stay with', 'binge', 'write', 'describe', 'allow', 'obsess with', 'get ready', 'have experience', 're', 'rule', 'able to', 'will spend most of the weekend with', 'burn be house down', 'be currently look for', 'leave', 'taste like', 'cook', 'read biography to', 'break up with', 'make it a secret between we', 'dye be hair red', 'volunteer with', 'go at', 'new to', 'dance', 'use to have', 'be just off of', 'be serious business for', 'be fake straight for a long time', 'spend all be money on shopping', 'can not find', 'volunteer', 'travel', 'can handle', 'be in the chair', 'glad', 'look in to', 'chase', 'go out on', 'go to be', 'work out', 'work as', 'like to read', 'do for', 'be not familar with', 'get into', 'like to eat at', 'want to watch a movie together', 'show up for', 'ace', 'purchase be from ikea', 'have no problem with that', 'watch', 'be glad', 'hear clearly', 'visit from', 'live here in', 'transfer into', 'be here for', 'work on', 'teach during', 'get along with', 'need to make per year', 'm also into', 'turn right at', 'please that', 'move here when', 'in', 'like to cook for', 'should sell', 'for', 'should leave for a tip', 'wanna talk about', 'rather save', 'would not eat', 'would not mind', 'go thru', 'like to pay', 'can try', 'hike with', 'have get', 'be employ', 'market for', 'will suit well', 'find', 'rain', 'can take the test again', 'drive under', 'move from', 'retire for', 'keen on', 'might', 'want to do', 'say', 'eat at', 'like to do for fun', 'set here with', 'dye', 'sit on', 'read those as a child', 'play the piano in', 'tell', 'cook to', 'get off on', 'know it be', 'prefer to', 'stand for', 'be not feel', 'be shop for', 'can accommodate', 'should call', 'be a story about breakdance in', 'get ready for', 'name', 'play on', 'like to buy a keepsake for be girlfriend', 'would like', 'would please keep', 'play in', 's', 'be see', 'can not afford to', 'can call it in', 'different from', 'love be with', 'can not do', 'pay more attention to', 'm', 'would not change', 'nervous for', \"'s lunch time for\", 'starve', 'graduate from', 'be look forward to', 'can not', 'like listen to', 'about to', 'do', 'spend be holiday from', 'be a fan of', 'help be mom out', 'hold', 'roleplay as', 'marry for', 'mean to', 'can not eat', 'call', 'get', 'be try to get', 'draw they all the time all over', 'ready for', 'catch on', 'be to', 'give he to we', 'can t seem to make', 'live there for', 'be up to', 'like be at', 'like to be', 'teach at', 'be require to', 'would be', 'meet', 'throw it off', 'drop', 'like to meet for a drink', 'be to leave nothing for a tip', 'go great with', 'be go to make be life easy', 'enjoy work with', 'go there', 'share a one bedroom with', 'can also try', 'take they to her grave', 'go just for', 'can catch', 'love to live on', 'can only spend', 'can', 'get a 4 . 0 in that class', 'locate in', 'should sms over', 'tear off', 'should', 'could speak to', 'be naturally', 'prefer', 'sound like', 'be plenty for', 'be able to take the test again', 'be', 'make bank', 'be 30 pound over weight', 'wass', 'get real good at', 'fix', 'can not handle', 'spell anything wrong', 'think about', 'be very sociable at the weekend', 'live here for a long time', 'interested in go to', 'arrange', 'have not pick', 'will make it work', 'think', 'like to drink', 'be plan on go', 'do for a living', 'take friday off', 'meditate to', 'want', 'prefer not to', 'find in', 'take', 'care if', 'do be body good', 'have not make', 'could start with', 'come', 'be scared of', 'need to get be dance gear ready', 'see tomorrow', 'like to stay', 'find out', 'be around for', 'rather stay', 'can not wait for', 'be a type of', 'go to town on', 'use to', 'grow up in', 'hope', 'help with', 'have experience in', 'can pay with', 'in between', 'live on', 'be just walk', 'should take be shoe off', 'miss', 'sort', 'burn down', 'about to fix', 'proficiency in', 'back into', 'have seat for', 'feel connected to', 'like to sing', 'have always work in', 'be to play', 'do all be shopping through', 'take up', 'would rather', 'able to find', 'start as', 'need to go back to', 'be about', 'need to be', 'ai', 'retire', 'teach', 'will request hr to', 'mix', 'have soap in they', 'can talk about', 'must leave for', 'should leave', 'share', 'quit', 'come here to be', 'be not really a fan', 'smell', 'take to', 'stay last night in', 'be also from', 'live there be whole life', 'consider', 'available at', 'ready to', 'be sure', 'be into', 'lock out', 'go out to', 'can listen to', 'ride', 'fall on', 'with', 'catch up on', 'love to own', 's it go', 'be just relax at', 'be not into', 'waste', 'be a run at', 'be someone come to get', 'pray for', 'study', 'go on', 'would never stab in the back', 'lose track of', 'like to try', 'help in this city', 'bring in', 'get to', 'be excited to', 'work a lot during', 'like we to', 'exhausted from', 'cause', 'should get', 'fight people off', 'be available', 'set in', 'come by', 'recycle', 'send be car to be fix', 'live here for', 'come back in', 'do for a job', 'spend', 'be there good hiking spot near', 'will come', 'read the classic in college', 'wait', 'know by face', 'believe in', 'go there with', 'go to transfer', 'be that consider', 'prefer not to bother', 'be far away from', 'be for', 'can not deal with', 'mow', 'leak for', 'love to look at', 'buy', 'try to', 'be a camera on', 'concern about', 'plan on make', 'be part of', 'can relax', 'own', 'need', 'grow up as', 'align with', 'volunteer at', 'start in', 'park in', 'do for fun', 'wear', 'fast than', 'have', 'provide', 'have any room available', 'keep safe', 'church on', 'good at', 'have to give', 'could not recognize', 'interview with', 'want to sign', 'talk to', 'try not to', 'love watch bird from indoor', 'read it often', 'go to college for', 'try they on be travel', 'take advantage of', 'm in', 'move back here from', 'import from', 'cook 100 meal for', 'come with', 'should pay', 'can stay', 'know nothing about', 'catch', 'manage', 'make look', 'be live', 'will just put be coat away', 'will never have', 'make of', 'feel like', 'can not kick', 'stick to', 'will hold', 'hear about', 'arrive at', 'like to live in', 'close', 'like go out to', 'here for', 'be a serious disturbance in', 'should join', 'purchase', 'be set on', 'like to see in beijing', 'love work on', 'should really limit', 'only eat', 'would give', 'can stay there for hour', 'be always with', 'could', 'cancel', 'come in', 'be good at work on', 'type', 'sing in', 'like to go to', 'sleep with', 'write to', 'use', 'seem', 'like to send', 'get off', 'scare', 'could take', 'bear in', 'start', 'would love to', 'grow', 'want the money to be transfer', 'can show', 'would pay', 'be go to', 'blast', 'feel', 'would like to be', 'have to', 'would', 'have catch', 'live with', 'move', 'have family', 'get more', 'can not endure', 'live by', 'have a crush on', 'like to return', 'open about', 'shut down in', 'have a small team under', 'will not pull', 'deposit', 'want to pay', 'can really get in touch with', 'fancy', 'speak to', 'will all be', 'be obsess with', 'stand up at', 'may take', 'be one of', 'keep from', 'sound appeal to', 'get be key out', 'can not imagine', 'deserve of', 'learn', 'require', 'expect to', 'note', 'want it', 'build', 'be still in', 'like to use', 'will bring back', 'get interested in', 'like to', 'it', 'make up', 'seek', 'retire from', 'play soccer on', 'match', 'send it to', 'need all of be supply right away', 'work with vet as', 'be it for', 'can help contact', 'dance in', 'can not put up with', 'spend the day in', 'tour', 'lead', 'imagine', 'washing', 'help', 'be not more expensive than', 'book', 'in need of', 'become', 'build house upon request', 'cook for', 'look', 'owe', 'mind go on', 'follow', 'sign', 'work', 'double cross', 'can always use', 'reserve', 'make', 'want to be', 'could supply', 'can make', 'like to go for', 'have plan to go', 'want something to', 'be lead by', 'survive', 'like do', 'can see', 'present', 'get we', 'can have weekend free', 'can not stand', 'be quiet for', 'want to be here tomorrow', 'speak', 'hope to', 'glad to', 'be like', 'follow in', 'interest', 'plan on', 'switch from', 'guide', 'be learn', 'be sneak away to', 'pay for', 'wanna try out', 'give', 'can phone', 'go', 'breakdance', 'drive be big truck around', 'interested in', 'intend to', 'willing to do', 'work in', 'like watch', 'play the cd loud', 'afraid of', 'play with', 'can not afford', 'daydream about', 'try out', 'live there', 'be together', 'be it in', 'like to have', 'have c complication from surgery', 'do be job remotely', 'speak of', 'cost', 'shop', 'know about', 'will learn to deal with', 'ride to', 'have family in the area', 'plan to go', 'vote for', 'be glad the week be over', 'be in attendance at', 'grow well only in', 'win', 'paint', 'be come here for', 'always work in', 'sing', 'have any experience in', 'help while in', 'fit right', 'be not look good for', 'distinguish for', 'well than', 'may speak to', 'good', 'can give', 'can alphabetize', 'be at', 'hear', 'be really into', 'save', 'hurt', 'wait for in', 'ask bill if', 'have to give 3 shoot', 'work for', 'be arrive', 'accept', 'hard to', 'can hold', 'wear it much', 'save for', 'use to buy', 'still at', 'could get', 'travel here for', 'like go to', 'be an employee of', 'can do', 'fall in', 'dial', 'sell', 'use to be', 'will there be', 'be decide about switch', 'open to', 'inspire to', 'keep up all night', 'get in english 101', 'reach', 'live around', 'have be', 'like talk about', 'allow people to check out', 'would make', 'try', 'would tike to buy', 'need to', 'like it cut', 'charge', 'play off', 'want to', 'to', 'excited to', 'can not drink', 'raise', 'worry about', 'include', 'be be family at', 'like to find', 'be out for', 'will be expect', 'meet up with', 'come to', 'see', 'sleep like', 'pay', 'be in', 'can go', 'get enough of', 'give time to do', 'get ready to', 'get ready to take', 'hate', 'work at', 'want to extend', 'decide', 'be from', 'make some for', 'feel about', 'listen to', 'turn', 'scared to', 'be more in to', 'open up', 'beat', 'smoking', 'get home from', 'need help', 'change', 'like', 'plane on watch', 'do well than', 'keep in', 'display', 'wake up at', 'move here with', 'run', 'dress be yorkie as a lion', 'come home from', 'make a recommendation for', 'try to be', 'replay', 'be still into', 'happen to', 'bake', 'fill up', 'forget', 'be in to', 'know much about', 'be able to', 'fall', 'can always play', 'sleep', 'bring it over', 'will be at', 'want to take', 'close to', 'adopt', 'be always a need for', 'like some magic to take away', 'seem to', 'tired from', 'be just below', 'inherit', 'send', 'bad at', 'shoot', 'should choose from', 'share with', 'sound', 'play piano in', 'can spend', 'pull out', 'add', 'like to leave on', 'be on', 'spend too much on', 'be mixed with', 'visit', 'serve', 'assist', 'serve in', 'be usually out', 'would love', 'read', 'look for', 'die', 'stay in', 'similar to', 'forget to', 'be a copy machine on', 'land', 'be still on', 'migrate to', 'passionate about', 'walk around', 'like to make', 'have to be', 'be something wrong with', 'live', 'move in', 'be good at', 'practice a lot as a kid', 'move back to', 'will have to take', 'support', 'copy', 'fine for', 'like have people around', 'should have', 'should appreciate', 'be take mom out', 'wish', 'be have', 'may consider', 'look like', 'be they in', 'bring', 'wear it that way', 'exchange', 'relax', 'could not stand', 'cut out', 'be go in', 'send it by airmail', 'will be', 'be hope to visit', 'respond to', 'tell to', 'dig', 'like read', 'should buy', 'depend on', 'tired', 'will', 'show on', 'meet for', 'like cash back', 'be two pound over', 'calm down', 'relax with', 'be get', 'work night at', 'major in', 'love to sit around', 'can be', 'frustrate with', 'enjoy', 'travel more for', 'get in because', 'should drink more', 'finish up', 'recommend', 'must water', 'take lot at the bar', 'can refund', 'plan to', 'charge it to', 'be they from', 'bump into', 'devote more time to', 'wreck', 'would like to', 'call from', 'be this for', 'pay by', 'pass out', 'locate', 'could go', 'know a lot about', 'rob', 'let', 'kill', 'check out', 'put on', 'have direct contact with', 'like to depart', 'check in', 'work with', 'get a good look at', 'have no reason to distrust', 'post', 'would ever learn to', 'like to buy', 'exercise', 'pay attention to', 'allow to', 'be there before', 'be not for', 'need a full time job for health insurance', 'have anything to', 'hard than', 'be just relax at home in', 'about', 'love', 'in touch with', 'get back from', 'eat', 'its', 'geocache', 'live above', 'like be', 'play hoop with', 'dislike', 'will take', 'on', 'be a huge fan of', 'may have', 'remember', 'know how to use', 'have so much fun at', 'like to go', 'get dog at the clinic', 'shed', 'go first thing in', 'finish', 'love to', 'meet up for', 'know a country song about that', 'wash', 'be plan', 'live here for a month', 'let do', 'marry', 'like to do', 'migrate from', 'may borrow', 'race the car for a living', 'send somebody over', 'pass', 'be off for', 'should consider', 'love to sing', 'can use', 'like to meet up with', 'could fill out', 'suitable for', 'rush', 'draw', 'guarantee', 'love to go to the beach with', 'make more than', 'keep', 'mean', 'will have', 'can take', 'make in', 'like to purchase', 'be one at', 'work here long time', 'race', 'shop for', 'be look for', 'go to', 'portray woman as weak', 'play', 'teach in', 'should light', 'make it', 'busy with', 'must be', 'have not time for', 'like to go far in', 'switch', 'should see', 'hear of', 'help out with', 'exfoliate', 'got do', 'could try it on', 'graduate', 'will open', 'scrap', 'could make it as', 'order', 'will get', 'stop for', 'drive', 'hang', 'go to far from', 'be content', 'go to be take', 'want they all in fifty', 'good for', 'love to go to', 'permit in', 'drink', 'take care of', 'swim', 'can help', 'work tonight at', 'hang with', 'singe', 'divorce', 'be in between', 'be not much room for', 'throw a milk carton at', 'fit in', 'could live', 'go hike often', 'be the novel about', 'get to go get', 'can speak', 'have breakfast at a great restaurant', 'be a block away', 'love listen to', 'begin', 'go next', 'have dream of go', 'must not sit on', 'must pay', 'mind if walk to', 'wake up', 'get along', 'have stay with', 'can get', 'want to go out to', 'train', 'move to', 'should try', 'live in', 'know'}\n"
          ]
        }
      ],
      "source": [
        "print(unique_list)\n",
        "print(unique_predicates_clean)"
      ]
    },
    {
      "cell_type": "code",
      "execution_count": null,
      "metadata": {
        "colab": {
          "base_uri": "https://localhost:8080/"
        },
        "id": "KB1FSFoHRqje",
        "outputId": "c5eed99b-eaac-41b6-8fbf-1d29ae9a36f3"
      },
      "outputs": [
        {
          "name": "stdout",
          "output_type": "stream",
          "text": [
            "{'': (3, 4), 'go for': (3, 4), 'dance on': (3, 4), 'go to watch it out of curiosity': (3, 4), 'have idea about': (3, 4), 'can recommend': (3, 4), 'scald on': (3, 4), 'join': (3, 4), 'go to across': (3, 4), 'stay': (3, 4), 'can have': (3, 4), 'plan': (3, 4), 'never': (3, 4), 'lose': (3, 4), 'tutor': (3, 4), 'be ready to': (3, 4), 'talk about': (3, 4), 'need this weekend to': (3, 4), 'to withdraw': (3, 4), 'SPEAKER1': (3, 4), 'could add': (3, 4), 'stay at': (3, 4), 'arrest': (3, 4), 'code': (3, 4), 'should go to buy': (3, 4), 'involve': (3, 4), 'stay home with': (3, 4), 'can play': (3, 4), 'from': (3, 4), 'should meet': (3, 4), 'into': (3, 4), 'have a seat available': (3, 4), 'count': (3, 4), 'be take the kid to': (3, 4), 'propose to': (3, 4), 'hike': (3, 4), 'smoke': (3, 4), 'look forward to': (3, 4), 'kid': (3, 4), 'pet sitting': (3, 4), 'hard for': (3, 4), 'stay with': (3, 4), 'binge': (3, 4), 'write': (3, 4), 'describe': (3, 4), 'allow': (3, 4), 'obsess with': (3, 4), 'get ready': (3, 4), 'have experience': (3, 4), 're': (3, 4), 'rule': (3, 4), 'able to': (3, 4), 'will spend most of the weekend with': (3, 4), 'burn be house down': (3, 4), 'be currently look for': (3, 4), 'leave': (3, 4), 'taste like': (3, 4), 'cook': (3, 4), 'read biography to': (3, 4), 'break up with': (3, 4), 'make it a secret between we': (3, 4), 'dye be hair red': (3, 4), 'volunteer with': (3, 4), 'go at': (3, 4), 'new to': (3, 4), 'dance': (3, 4), 'use to have': (3, 4), 'be just off of': (3, 4), 'be serious business for': (3, 4), 'be fake straight for a long time': (3, 4), 'spend all be money on shopping': (3, 4), 'can not find': (3, 4), 'volunteer': (3, 4), 'travel': (3, 4), 'can handle': (3, 4), 'be in the chair': (3, 4), 'glad': (3, 4), 'look in to': (3, 4), 'chase': (3, 4), 'go out on': (3, 4), 'go to be': (3, 4), 'work out': (3, 4), 'work as': (3, 4), 'like to read': (3, 4), 'do for': (3, 4), 'be not familar with': (3, 4), 'get into': (3, 4), 'like to eat at': (3, 4), 'want to watch a movie together': (3, 4), 'show up for': (3, 4), 'ace': (3, 4), 'purchase be from ikea': (3, 4), 'have no problem with that': (3, 4), 'watch': (3, 4), 'be glad': (3, 4), 'hear clearly': (3, 4), 'visit from': (3, 4), 'live here in': (3, 4), 'transfer into': (3, 4), 'be here for': (3, 4), 'work on': (3, 4), 'teach during': (3, 4), 'get along with': (3, 4), 'need to make per year': (3, 4), 'm also into': (3, 4), 'turn right at': (3, 4), 'please that': (3, 4), 'move here when': (3, 4), 'in': (3, 4), 'like to cook for': (3, 4), 'should sell': (3, 4), 'for': (3, 4), 'should leave for a tip': (3, 4), 'wanna talk about': (3, 4), 'rather save': (3, 4), 'would not eat': (3, 4), 'would not mind': (3, 4), 'go thru': (3, 4), 'like to pay': (3, 4), 'can try': (3, 4), 'hike with': (3, 4), 'have get': (3, 4), 'be employ': (3, 4), 'market for': (3, 4), 'will suit well': (3, 4), 'find': (3, 4), 'rain': (3, 4), 'can take the test again': (3, 4), 'drive under': (3, 4), 'move from': (3, 4), 'retire for': (3, 4), 'keen on': (3, 4), 'might': (3, 4), 'want to do': (3, 4), 'say': (3, 4), 'eat at': (3, 4), 'like to do for fun': (3, 4), 'set here with': (3, 4), 'dye': (3, 4), 'sit on': (3, 4), 'read those as a child': (3, 4), 'play the piano in': (3, 4), 'tell': (3, 4), 'cook to': (3, 4), 'get off on': (3, 4), 'know it be': (3, 4), 'prefer to': (3, 4), 'stand for': (3, 4), 'be not feel': (3, 4), 'be shop for': (3, 4), 'can accommodate': (3, 4), 'should call': (3, 4), 'be a story about breakdance in': (3, 4), 'get ready for': (3, 4), 'name': (3, 4), 'play on': (3, 4), 'like to buy a keepsake for be girlfriend': (3, 4), 'would like': (3, 4), 'would please keep': (3, 4), 'play in': (3, 4), 's': (3, 4), 'be see': (3, 4), 'can not afford to': (3, 4), 'can call it in': (3, 4), 'different from': (3, 4), 'love be with': (3, 4), 'can not do': (3, 4), 'pay more attention to': (3, 4), 'm': (3, 4), 'would not change': (3, 4), 'nervous for': (3, 4), \"'s lunch time for\": (3, 4), 'starve': (3, 4), 'graduate from': (3, 4), 'be look forward to': (3, 4), 'can not': (3, 4), 'like listen to': (3, 4), 'about to': (3, 4), 'do': (3, 4), 'spend be holiday from': (3, 4), 'be a fan of': (3, 4), 'help be mom out': (3, 4), 'hold': (3, 4), 'roleplay as': (3, 4), 'marry for': (3, 4), 'mean to': (3, 4), 'can not eat': (3, 4), 'call': (3, 4), 'get': (3, 4), 'be try to get': (3, 4), 'draw they all the time all over': (3, 4), 'ready for': (3, 4), 'catch on': (3, 4), 'be to': (3, 4), 'give he to we': (3, 4), 'can t seem to make': (3, 4), 'live there for': (3, 4), 'be up to': (3, 4), 'like be at': (3, 4), 'like to be': (3, 4), 'teach at': (3, 4), 'be require to': (3, 4), 'would be': (3, 4), 'meet': (3, 4), 'throw it off': (3, 4), 'drop': (3, 4), 'like to meet for a drink': (3, 4), 'be to leave nothing for a tip': (3, 4), 'go great with': (3, 4), 'be go to make be life easy': (3, 4), 'enjoy work with': (3, 4), 'go there': (3, 4), 'share a one bedroom with': (3, 4), 'can also try': (3, 4), 'take they to her grave': (3, 4), 'go just for': (3, 4), 'can catch': (3, 4), 'love to live on': (3, 4), 'can only spend': (3, 4), 'can': (3, 4), 'get a 4 . 0 in that class': (3, 4), 'locate in': (3, 4), 'should sms over': (3, 4), 'tear off': (3, 4), 'should': (3, 4), 'could speak to': (3, 4), 'be naturally': (3, 4), 'prefer': (3, 4), 'sound like': (3, 4), 'be plenty for': (3, 4), 'be able to take the test again': (3, 4), 'be': (3, 4), 'make bank': (3, 4), 'be 30 pound over weight': (3, 4), 'wass': (3, 4), 'get real good at': (3, 4), 'fix': (3, 4), 'can not handle': (3, 4), 'spell anything wrong': (3, 4), 'think about': (3, 4), 'be very sociable at the weekend': (3, 4), 'live here for a long time': (3, 4), 'interested in go to': (3, 4), 'arrange': (3, 4), 'have not pick': (3, 4), 'will make it work': (3, 4), 'think': (3, 4), 'like to drink': (3, 4), 'be plan on go': (3, 4), 'do for a living': (3, 4), 'take friday off': (3, 4), 'meditate to': (3, 4), 'want': (3, 4), 'prefer not to': (3, 4), 'find in': (3, 4), 'take': (3, 4), 'care if': (3, 4), 'do be body good': (3, 4), 'have not make': (3, 4), 'could start with': (3, 4), 'come': (3, 4), 'be scared of': (3, 4), 'need to get be dance gear ready': (3, 4), 'see tomorrow': (3, 4), 'like to stay': (3, 4), 'find out': (3, 4), 'be around for': (3, 4), 'rather stay': (3, 4), 'can not wait for': (3, 4), 'be a type of': (3, 4), 'go to town on': (3, 4), 'use to': (3, 4), 'grow up in': (3, 4), 'hope': (3, 4), 'help with': (3, 4), 'have experience in': (3, 4), 'can pay with': (3, 4), 'in between': (3, 4), 'live on': (3, 4), 'be just walk': (3, 4), 'should take be shoe off': (3, 4), 'miss': (3, 4), 'sort': (3, 4), 'burn down': (3, 4), 'about to fix': (3, 4), 'proficiency in': (3, 4), 'back into': (3, 4), 'have seat for': (3, 4), 'feel connected to': (3, 4), 'like to sing': (3, 4), 'have always work in': (3, 4), 'be to play': (3, 4), 'do all be shopping through': (3, 4), 'take up': (3, 4), 'would rather': (3, 4), 'able to find': (3, 4), 'start as': (3, 4), 'need to go back to': (3, 4), 'be about': (3, 4), 'need to be': (3, 4), 'ai': (3, 4), 'retire': (3, 4), 'teach': (3, 4), 'will request hr to': (3, 4), 'mix': (3, 4), 'have soap in they': (3, 4), 'can talk about': (3, 4), 'must leave for': (3, 4), 'should leave': (3, 4), 'share': (3, 4), 'quit': (3, 4), 'come here to be': (3, 4), 'be not really a fan': (3, 4), 'smell': (3, 4), 'take to': (3, 4), 'stay last night in': (3, 4), 'be also from': (3, 4), 'live there be whole life': (3, 4), 'consider': (3, 4), 'available at': (3, 4), 'ready to': (3, 4), 'be sure': (3, 4), 'be into': (3, 4), 'lock out': (3, 4), 'go out to': (3, 4), 'can listen to': (3, 4), 'ride': (3, 4), 'fall on': (3, 4), 'with': (3, 4), 'catch up on': (3, 4), 'love to own': (3, 4), 's it go': (3, 4), 'be just relax at': (3, 4), 'be not into': (3, 4), 'waste': (3, 4), 'be a run at': (3, 4), 'be someone come to get': (3, 4), 'pray for': (3, 4), 'study': (3, 4), 'go on': (3, 4), 'would never stab in the back': (3, 4), 'lose track of': (3, 4), 'like to try': (3, 4), 'help in this city': (3, 4), 'bring in': (3, 4), 'get to': (3, 4), 'be excited to': (3, 4), 'work a lot during': (3, 4), 'like we to': (3, 4), 'exhausted from': (3, 4), 'cause': (3, 4), 'should get': (3, 4), 'fight people off': (3, 4), 'be available': (3, 4), 'set in': (3, 4), 'come by': (3, 4), 'recycle': (3, 4), 'send be car to be fix': (3, 4), 'live here for': (3, 4), 'come back in': (3, 4), 'do for a job': (3, 4), 'spend': (3, 4), 'be there good hiking spot near': (3, 4), 'will come': (3, 4), 'read the classic in college': (3, 4), 'wait': (3, 4), 'know by face': (3, 4), 'believe in': (3, 4), 'go there with': (3, 4), 'go to transfer': (3, 4), 'be that consider': (3, 4), 'prefer not to bother': (3, 4), 'be far away from': (3, 4), 'be for': (3, 4), 'can not deal with': (3, 4), 'mow': (3, 4), 'leak for': (3, 4), 'love to look at': (3, 4), 'buy': (3, 4), 'try to': (3, 4), 'be a camera on': (3, 4), 'concern about': (3, 4), 'plan on make': (3, 4), 'be part of': (3, 4), 'can relax': (3, 4), 'own': (3, 4), 'need': (3, 4), 'grow up as': (3, 4), 'align with': (3, 4), 'volunteer at': (3, 4), 'start in': (3, 4), 'park in': (3, 4), 'do for fun': (3, 4), 'wear': (3, 4), 'fast than': (3, 4), 'have': (3, 4), 'provide': (3, 4), 'have any room available': (3, 4), 'keep safe': (3, 4), 'church on': (3, 4), 'good at': (3, 4), 'have to give': (3, 4), 'could not recognize': (3, 4), 'interview with': (3, 4), 'want to sign': (3, 4), 'talk to': (3, 4), 'try not to': (3, 4), 'love watch bird from indoor': (3, 4), 'read it often': (3, 4), 'go to college for': (3, 4), 'try they on be travel': (3, 4), 'take advantage of': (3, 4), 'm in': (3, 4), 'move back here from': (3, 4), 'import from': (3, 4), 'cook 100 meal for': (3, 4), 'come with': (3, 4), 'should pay': (3, 4), 'can stay': (3, 4), 'know nothing about': (3, 4), 'catch': (3, 4), 'manage': (3, 4), 'make look': (3, 4), 'be live': (3, 4), 'will just put be coat away': (3, 4), 'will never have': (3, 4), 'make of': (3, 4), 'feel like': (3, 4), 'can not kick': (3, 4), 'stick to': (3, 4), 'will hold': (3, 4), 'hear about': (3, 4), 'arrive at': (3, 4), 'like to live in': (3, 4), 'close': (3, 4), 'like go out to': (3, 4), 'here for': (3, 4), 'be a serious disturbance in': (3, 4), 'should join': (3, 4), 'purchase': (3, 4), 'be set on': (3, 4), 'like to see in beijing': (3, 4), 'love work on': (3, 4), 'should really limit': (3, 4), 'only eat': (3, 4), 'would give': (3, 4), 'can stay there for hour': (3, 4), 'be always with': (3, 4), 'could': (3, 4), 'cancel': (3, 4), 'come in': (3, 4), 'be good at work on': (3, 4), 'type': (3, 4), 'sing in': (3, 4), 'like to go to': (3, 4), 'sleep with': (3, 4), 'write to': (3, 4), 'use': (3, 4), 'seem': (3, 4), 'like to send': (3, 4), 'get off': (3, 4), 'scare': (3, 4), 'could take': (3, 4), 'bear in': (3, 4), 'start': (3, 4), 'would love to': (3, 4), 'grow': (3, 4), 'want the money to be transfer': (3, 4), 'can show': (3, 4), 'would pay': (3, 4), 'be go to': (3, 4), 'blast': (3, 4), 'feel': (3, 4), 'would like to be': (3, 4), 'have to': (3, 4), 'would': (3, 4), 'have catch': (3, 4), 'live with': (3, 4), 'move': (3, 4), 'have family': (3, 4), 'get more': (3, 4), 'can not endure': (3, 4), 'live by': (3, 4), 'have a crush on': (3, 4), 'like to return': (3, 4), 'open about': (3, 4), 'shut down in': (3, 4), 'have a small team under': (3, 4), 'will not pull': (3, 4), 'deposit': (3, 4), 'want to pay': (3, 4), 'can really get in touch with': (3, 4), 'fancy': (3, 4), 'speak to': (3, 4), 'will all be': (3, 4), 'be obsess with': (3, 4), 'stand up at': (3, 4), 'may take': (3, 4), 'be one of': (3, 4), 'keep from': (3, 4), 'sound appeal to': (3, 4), 'get be key out': (3, 4), 'can not imagine': (5, 6), 'deserve of': (5, 6), 'learn': (5, 6), 'require': (5, 6), 'expect to': (5, 6), 'note': (5, 6), 'want it': (5, 6), 'build': (5, 6), 'be still in': (5, 6), 'like to use': (5, 6), 'will bring back': (5, 6), 'get interested in': (5, 6), 'like to': (5, 6), 'it': (5, 6), 'make up': (5, 6), 'seek': (5, 6), 'retire from': (5, 6), 'play soccer on': (5, 6), 'match': (5, 6), 'send it to': (5, 6), 'need all of be supply right away': (5, 6), 'work with vet as': (5, 6), 'be it for': (5, 6), 'can help contact': (5, 6), 'dance in': (5, 6), 'can not put up with': (5, 6), 'spend the day in': (5, 6), 'tour': (5, 6), 'lead': (5, 6), 'imagine': (5, 6), 'washing': (5, 6), 'help': (5, 6), 'be not more expensive than': (5, 6), 'book': (5, 6), 'in need of': (5, 6), 'become': (5, 6), 'build house upon request': (5, 6), 'cook for': (5, 6), 'look': (5, 6), 'owe': (5, 6), 'mind go on': (5, 6), 'follow': (5, 6), 'sign': (5, 6), 'work': (5, 6), 'double cross': (5, 6), 'can always use': (5, 6), 'reserve': (5, 6), 'make': (5, 6), 'want to be': (5, 6), 'could supply': (5, 6), 'can make': (5, 6), 'like to go for': (5, 6), 'have plan to go': (5, 6), 'want something to': (5, 6), 'be lead by': (5, 6), 'survive': (5, 6), 'like do': (5, 6), 'can see': (5, 6), 'present': (5, 6), 'get we': (5, 6), 'can have weekend free': (5, 6), 'can not stand': (5, 6), 'be quiet for': (5, 6), 'want to be here tomorrow': (5, 6), 'speak': (5, 6), 'hope to': (5, 6), 'glad to': (5, 6), 'be like': (5, 6), 'follow in': (5, 6), 'interest': (5, 6), 'plan on': (5, 6), 'switch from': (5, 6), 'guide': (5, 6), 'be learn': (5, 6), 'be sneak away to': (5, 6), 'pay for': (5, 6), 'wanna try out': (5, 6), 'give': (5, 6), 'can phone': (5, 6), 'go': (5, 6), 'breakdance': (5, 6), 'drive be big truck around': (5, 6), 'interested in': (5, 6), 'intend to': (5, 6), 'willing to do': (5, 6), 'work in': (5, 6), 'like watch': (5, 6), 'play the cd loud': (5, 6), 'afraid of': (5, 6), 'play with': (5, 6), 'can not afford': (5, 6), 'daydream about': (5, 6), 'try out': (5, 6), 'live there': (5, 6), 'be together': (5, 6), 'be it in': (5, 6), 'like to have': (5, 6), 'have c complication from surgery': (5, 6), 'do be job remotely': (5, 6), 'speak of': (5, 6), 'cost': (5, 6), 'shop': (5, 6), 'know about': (5, 6), 'will learn to deal with': (5, 6), 'ride to': (5, 6), 'have family in the area': (5, 6), 'plan to go': (5, 6), 'vote for': (5, 6), 'be glad the week be over': (5, 6), 'be in attendance at': (5, 6), 'grow well only in': (5, 6), 'win': (5, 6), 'paint': (5, 6), 'be come here for': (5, 6), 'always work in': (5, 6), 'sing': (5, 6), 'have any experience in': (5, 6), 'help while in': (5, 6), 'fit right': (5, 6), 'be not look good for': (5, 6), 'distinguish for': (5, 6), 'well than': (5, 6), 'may speak to': (5, 6), 'good': (5, 6), 'can give': (5, 6), 'can alphabetize': (5, 6), 'be at': (5, 6), 'hear': (5, 6), 'be really into': (5, 6), 'save': (5, 6), 'hurt': (5, 6), 'wait for in': (5, 6), 'ask bill if': (5, 6), 'have to give 3 shoot': (5, 6), 'work for': (5, 6), 'be arrive': (5, 6), 'accept': (5, 6), 'hard to': (5, 6), 'can hold': (5, 6), 'wear it much': (5, 6), 'save for': (5, 6), 'use to buy': (5, 6), 'still at': (5, 6), 'could get': (5, 6), 'travel here for': (5, 6), 'like go to': (5, 6), 'be an employee of': (5, 6), 'can do': (5, 6), 'fall in': (5, 6), 'dial': (5, 6), 'sell': (5, 6), 'use to be': (5, 6), 'will there be': (5, 6), 'be decide about switch': (5, 6), 'open to': (5, 6), 'inspire to': (5, 6), 'keep up all night': (5, 6), 'get in english 101': (5, 6), 'reach': (5, 6), 'live around': (5, 6), 'have be': (5, 6), 'like talk about': (5, 6), 'allow people to check out': (5, 6), 'would make': (5, 6), 'try': (5, 6), 'would tike to buy': (5, 6), 'need to': (5, 6), 'like it cut': (5, 6), 'charge': (5, 6), 'play off': (5, 6), 'want to': (5, 6), 'to': (5, 6), 'excited to': (5, 6), 'can not drink': (5, 6), 'raise': (5, 6), 'worry about': (5, 6), 'include': (5, 6), 'be be family at': (5, 6), 'like to find': (5, 6), 'be out for': (5, 6), 'will be expect': (5, 6), 'meet up with': (5, 6), 'come to': (5, 6), 'see': (5, 6), 'sleep like': (5, 6), 'pay': (5, 6), 'be in': (5, 6), 'can go': (5, 6), 'get enough of': (5, 6), 'give time to do': (5, 6), 'get ready to': (5, 6), 'get ready to take': (5, 6), 'hate': (5, 6), 'work at': (5, 6), 'want to extend': (5, 6), 'decide': (5, 6), 'be from': (5, 6), 'make some for': (5, 6), 'feel about': (5, 6), 'listen to': (5, 6), 'turn': (5, 6), 'scared to': (5, 6), 'be more in to': (5, 6), 'open up': (5, 6), 'beat': (5, 6), 'smoking': (5, 6), 'get home from': (5, 6), 'need help': (5, 6), 'change': (5, 6), 'like': (5, 6), 'plane on watch': (5, 6), 'do well than': (5, 6), 'keep in': (5, 6), 'display': (5, 6), 'wake up at': (5, 6), 'move here with': (5, 6), 'run': (5, 6), 'dress be yorkie as a lion': (5, 6), 'come home from': (5, 6), 'make a recommendation for': (5, 6), 'try to be': (5, 6), 'replay': (5, 6), 'be still into': (5, 6), 'happen to': (5, 6), 'bake': (5, 6), 'fill up': (5, 6), 'forget': (5, 6), 'be in to': (5, 6), 'know much about': (5, 6), 'be able to': (5, 6), 'fall': (5, 6), 'can always play': (5, 6), 'sleep': (5, 6), 'bring it over': (5, 6), 'will be at': (5, 6), 'want to take': (5, 6), 'close to': (5, 6), 'adopt': (5, 6), 'be always a need for': (5, 6), 'like some magic to take away': (5, 6), 'seem to': (5, 6), 'tired from': (5, 6), 'be just below': (5, 6), 'inherit': (5, 6), 'send': (5, 6), 'bad at': (5, 6), 'shoot': (5, 6), 'should choose from': (5, 6), 'share with': (5, 6), 'sound': (5, 6), 'play piano in': (5, 6), 'can spend': (5, 6), 'pull out': (5, 6), 'add': (5, 6), 'like to leave on': (5, 6), 'be on': (5, 6), 'spend too much on': (5, 6), 'be mixed with': (5, 6), 'visit': (5, 6), 'serve': (5, 6), 'assist': (5, 6), 'serve in': (5, 6), 'be usually out': (5, 6), 'would love': (5, 6), 'read': (5, 6), 'look for': (5, 6), 'die': (5, 6), 'stay in': (5, 6), 'similar to': (5, 6), 'forget to': (5, 6), 'be a copy machine on': (5, 6), 'land': (5, 6), 'be still on': (5, 6), 'migrate to': (5, 6), 'passionate about': (5, 6), 'walk around': (5, 6), 'like to make': (5, 6), 'have to be': (5, 6), 'be something wrong with': (5, 6), 'live': (5, 6), 'move in': (5, 6), 'be good at': (5, 6), 'practice a lot as a kid': (5, 6), 'move back to': (5, 6), 'will have to take': (5, 6), 'support': (5, 6), 'copy': (5, 6), 'fine for': (5, 6), 'like have people around': (5, 6), 'should have': (5, 6), 'should appreciate': (5, 6), 'be take mom out': (5, 6), 'wish': (5, 6), 'be have': (5, 6), 'may consider': (5, 6), 'look like': (5, 6), 'be they in': (5, 6), 'bring': (5, 6), 'wear it that way': (5, 6), 'exchange': (5, 6), 'relax': (5, 6), 'could not stand': (5, 6), 'cut out': (5, 6), 'be go in': (5, 6), 'send it by airmail': (5, 6), 'will be': (5, 6), 'be hope to visit': (5, 6), 'respond to': (5, 6), 'tell to': (5, 6), 'dig': (5, 6), 'like read': (5, 6), 'should buy': (5, 6), 'depend on': (5, 6), 'tired': (5, 6), 'will': (5, 6), 'show on': (5, 6), 'meet for': (5, 6), 'like cash back': (5, 6), 'be two pound over': (5, 6), 'calm down': (5, 6), 'relax with': (5, 6), 'be get': (5, 6), 'work night at': (5, 6), 'major in': (5, 6), 'love to sit around': (5, 6), 'can be': (5, 6), 'frustrate with': (5, 6), 'enjoy': (5, 6), 'travel more for': (5, 6), 'get in because': (5, 6), 'should drink more': (5, 6), 'finish up': (5, 6), 'recommend': (5, 6), 'must water': (5, 6), 'take lot at the bar': (5, 6), 'can refund': (5, 6), 'plan to': (5, 6), 'charge it to': (5, 6), 'be they from': (5, 6), 'bump into': (5, 6), 'devote more time to': (5, 6), 'wreck': (5, 6), 'would like to': (5, 6), 'call from': (5, 6), 'be this for': (5, 6), 'pay by': (5, 6), 'pass out': (5, 6), 'locate': (5, 6), 'could go': (5, 6), 'know a lot about': (5, 6), 'rob': (5, 6), 'let': (5, 6), 'kill': (5, 6), 'check out': (5, 6), 'put on': (5, 6), 'have direct contact with': (5, 6), 'like to depart': (5, 6), 'check in': (5, 6), 'work with': (5, 6), 'get a good look at': (5, 6), 'have no reason to distrust': (5, 6), 'post': (5, 6), 'would ever learn to': (5, 6), 'like to buy': (5, 6), 'exercise': (5, 6), 'pay attention to': (5, 6), 'allow to': (5, 6), 'be there before': (5, 6), 'be not for': (5, 6), 'need a full time job for health insurance': (5, 6), 'have anything to': (5, 6), 'hard than': (5, 6), 'be just relax at home in': (5, 6), 'about': (5, 6), 'love': (5, 6), 'in touch with': (5, 6), 'get back from': (5, 6), 'eat': (5, 6), 'its': (5, 6), 'geocache': (5, 6), 'live above': (5, 6), 'like be': (5, 6), 'play hoop with': (5, 6), 'dislike': (5, 6), 'will take': (5, 6), 'on': (5, 6), 'be a huge fan of': (5, 6), 'may have': (5, 6), 'remember': (5, 6), 'know how to use': (5, 6), 'have so much fun at': (5, 6), 'like to go': (5, 6), 'get dog at the clinic': (5, 6), 'shed': (5, 6), 'go first thing in': (5, 6), 'finish': (5, 6), 'love to': (5, 6), 'meet up for': (5, 6), 'know a country song about that': (5, 6), 'wash': (5, 6), 'be plan': (5, 6), 'live here for a month': (5, 6), 'let do': (5, 6), 'marry': (5, 6), 'like to do': (5, 6), 'migrate from': (5, 6), 'may borrow': (5, 6), 'race the car for a living': (5, 6), 'send somebody over': (5, 6), 'pass': (5, 6), 'be off for': (5, 6), 'should consider': (5, 6), 'love to sing': (5, 6), 'can use': (5, 6), 'like to meet up with': (5, 6), 'could fill out': (5, 6), 'suitable for': (5, 6), 'rush': (5, 6), 'draw': (5, 6), 'guarantee': (5, 6), 'love to go to the beach with': (5, 6), 'make more than': (5, 6), 'keep': (5, 6), 'mean': (5, 6), 'will have': (5, 6), 'can take': (5, 6), 'make in': (5, 6), 'like to purchase': (5, 6), 'be one at': (5, 6), 'work here long time': (5, 6), 'race': (5, 6), 'shop for': (5, 6), 'be look for': (5, 6), 'go to': (5, 6), 'portray woman as weak': (5, 6), 'play': (5, 6), 'teach in': (5, 6), 'should light': (5, 6), 'make it': (5, 6), 'busy with': (5, 6), 'must be': (5, 6), 'have not time for': (5, 6), 'like to go far in': (5, 6), 'switch': (5, 6), 'should see': (5, 6), 'hear of': (5, 6), 'help out with': (5, 6), 'exfoliate': (5, 6), 'got do': (5, 6), 'could try it on': (5, 6), 'graduate': (5, 6), 'will open': (5, 6), 'scrap': (5, 6), 'could make it as': (5, 6), 'order': (5, 6), 'will get': (5, 6), 'stop for': (5, 6), 'drive': (5, 6), 'hang': (5, 6), 'go to far from': (5, 6), 'be content': (5, 6), 'go to be take': (5, 6), 'want they all in fifty': (5, 6), 'good for': (5, 6), 'love to go to': (5, 6), 'permit in': (5, 6), 'drink': (5, 6), 'take care of': (5, 6), 'swim': (5, 6), 'can help': (5, 6), 'work tonight at': (5, 6), 'hang with': (5, 6), 'singe': (5, 6), 'divorce': (5, 6), 'be in between': (5, 6), 'be not much room for': (5, 6), 'throw a milk carton at': (5, 6), 'fit in': (5, 6), 'could live': (5, 6), 'go hike often': (5, 6), 'be the novel about': (5, 6), 'get to go get': (5, 6), 'can speak': (5, 6), 'have breakfast at a great restaurant': (5, 6), 'be a block away': (5, 6), 'love listen to': (5, 6), 'begin': (5, 6), 'go next': (5, 6), 'have dream of go': (5, 6), 'must not sit on': (5, 6), 'must pay': (5, 6), 'mind if walk to': (5, 6), 'wake up': (5, 6), 'get along': (5, 6), 'have stay with': (5, 6), 'can get': (5, 6), 'want to go out to': (5, 6), 'train': (5, 6), 'move to': (5, 6), 'should try': (5, 6), 'live in': (5, 6), 'know': (5, 6)}\n"
          ]
        }
      ],
      "source": [
        "print(lookup)"
      ]
    },
    {
      "cell_type": "markdown",
      "metadata": {
        "id": "0QH-_zosGogE"
      },
      "source": [
        "### Construct Bio-lookup - OUR implementation\n",
        "\n",
        "First, we create a set consisting of all unique token spans annotated as 'predicate'. This is the set from which you need to create a set of abstract predicates. Notice that a lot of 'unique predicates' are also annotation errors, where the subject or object has been included in the predicate annotation. \n",
        "\n",
        "For each of the abstract predicates you define, you will need to create a numerical B- and I-tag for the BIO tag annotation that we will use. Start from (3,4) for the first tag (e.g. B-like, I-like). The tag 0 is reserved for 'O', and 1 and 2 are reserved for the B- and I-tags for subjects and objects. \n",
        "\n",
        "Once you've created a set of abstract predicates and their corresponding B- and I-tags, you will need to create two lookup dictionaries for the BIO tagging that we will do later on. The dictionary `lookup` is used to get the correct BIO tag from the predicate token span and is used for converting triples to BIO-tags. The dictionary `bio_lookup` is used to get the abstract predicate from the BIO tag, and is used to convert BIO tags to tokens."
      ]
    },
    {
      "cell_type": "code",
      "execution_count": null,
      "metadata": {
        "colab": {
          "base_uri": "https://localhost:8080/"
        },
        "id": "RPaRzW2cGoMb",
        "outputId": "050b8ddf-4c1c-49c0-bb2e-e2dc33b77f2e"
      },
      "outputs": [
        {
          "output_type": "stream",
          "name": "stdout",
          "text": [
            "bio_dict:  {(3, 4): [''], (5, 6): ['forget', 'glad', 'hope', 'imagine', 'kid', 'know', 'mean', 'remember', 'say', 'scare', 'sort', 'spell anything wrong', 'think'], (7, 8): ['call from', 'different from', 'exhausted from', 'from', 'graduate from', 'import from', 'migrate from', 'retire from', 'switch from', 'tired from', 'visit from'], (9, 10): ['have', 'have any room available', 'have catch', 'have experience', 'have family', 'have no problem with that', 'like have people around', 'may have', 'should have', 'should sms over', 'will have', 'will never have'], (11, 12): ['fast than', 'hard than', 'make more than', 'well than'], (13, 14): ['afraid of', 'deserve of', 'get enough of', 'have dream of go', 'hear of', 'in need of', 'inherit', 'involve', 'its', 'lose track of', 'make of', 'present', 'speak of', 'take advantage of', 'take care of', 'will spend most of the weekend with'], (15, 16): ['bring it over', 'could make it as', 'could try it on', 'it', 'like it cut', 'make it', 'make it a secret between we', 'read it often', 'want it', 'wear it much', 'wear it that way', 'will make it work', 'fit right', 'look', 'make', 'make bank', 'make look', 'would make'], (17, 18): ['bring', 'build', 'come', 'grow', 'hold', 'raise', 'reach', 'share', 'shed', 'turn'], (19, 20): ['be a camera on', 'be a copy machine on', 'be good at work on', 'be on', 'be plan on go', 'be set on', 'be still on', 'must not sit on', 'spend all be money on shopping', 'try they on be travel', 'be a serious disturbance in', 'be a story about breakdance in', 'be go in', 'be in', 'be in attendance at', 'be in between', 'be in the chair', 'be in to', 'be it in', 'be more in to', 'be still in', 'be they in', 's'], (21, 22): ['fight people off', 'get off', 'get off on', 'play off', 'take friday off', 'tear off', 'throw it off'], (23, 24): ['recycle', 'scrap', 'waste'], (25, 26): ['code', 'geocache'], (27, 28): ['chase', 'drive', 'hike', 'ride', 'swim', 'tour', 'train'], (29, 30): ['keep', 'keep from', 'keep safe', 'would please keep'], (31, 32): ['draw', 'match', 'race', 'replay'], (33, 34): ['lead', 'play', 'play hoop with', 'play the cd loud', 'play with'], (35, 36): ['get along with', 'hang with', 'have stay with', 'live with', 'rather stay', 'stay', 'stay home with', 'stay with'], (37, 38): ['describe', 'hear', 'hear clearly', 'sound', 'speak'], (39, 40): ['let', 'prefer', 'should try', 'try', 'want', 'wish', 'be able to', 'be able to take the test again', 'be excited to', 'be go to', 'be go to make be life easy', 'be hope to visit', 'be look forward to', 'be ready to', 'be require to', 'be sneak away to', 'be someone come to get', 'be take the kid to', 'be to', 'be to leave nothing for a tip', 'be to play', 'be try to get', 'be up to', 'come here to be', 'do be job remotely', 'go to be', 'go to be take', 'have to be', 'like to be', 'like to buy a keepsake for be girlfriend', 'need to be', 'need to get be dance gear ready', 'send be car to be fix', 'try to be', 'use to be', 'want the money to be transfer', 'want to be', 'want to be here tomorrow', 'will just put be coat away', 'would like to be'], (41, 42): ['wass'], (43, 44): ['catch', 'could get', 'dig', 'find', 'fix', 'get', 'get along', 'get more', 'get ready', 'get to go get', 'get we', 'give', 'have get', 'lose', 'send', 'should get'], (45, 46): ['arrive at', 'available at', 'bad at', 'eat at', 'go at', 'good at', 'stay at', 'still at', 'take lot at the bar', 'teach at', 'turn right at', 'volunteer at', 'work at', 'work night at', 'work tonight at'], (47, 48): ['beat', 'win'], (49, 50): ['book', 'copy', 'like read', 'note', 'post', 'read', 'write'], (51, 52): ['cook 100 meal for', 'exchange', 'get ready for', 'here for', 'live here for', 'look for', 'make some for', 'must leave for', 'reserve', 'travel', 'travel here for', 'travel more for', 'visit'], (53, 54): ['can go', 'could go', 'fall', 'go', 'go for', 'go great with', 'go hike often', 'go just for', 'go next', 'go there', 'go there with', 'go thru', 'hang', 'leave', 'pass', 'run', 'rush', 's it go'], (55, 56): ['cook for', 'distinguish for', 'fine for', 'for', 'good for', 'hard for', 'have seat for', 'leak for', 'market for', 'marry for', 'meet for', 'nervous for', 'pray for', 'ready for', 'retire for', 'save for', 'shop for', 'stand for', 'stop for', 'suitable for', 'vote for', 'work for'], (57, 58): ['call', 'miss', 'see', 'see tomorrow', 'should see', 'tell', 'wait', 'watch'], (59, 60): ['add', 'could add', 'mix'], (61, 62): ['can take', 'can take the test again', 'could take', 'may take', 'take', 'will', 'will bring back', 'will come', 'will get', 'will hold', 'will open', 'will take', 'would give'], (63, 64): ['can', 'can accommodate', 'can alphabetize', 'can also try', 'can catch', 'can get', 'can give', 'can handle', 'can have', 'can have weekend free', 'can help', 'can hold', 'can make', 'can only spend', 'can phone', 'can play', 'can recommend', 'can refund', 'can relax', 'can see', 'can show', 'can speak', 'can spend', 'can stay', 'can stay there for hour', 'can try', 'can use', 'may borrow', 'will suit well'], (65, 66): ['align with', 'breakdance', 'busy with', 'come with', 'could start with', 'display', 'double cross', 'enjoy work with', 'frustrate with', 'have direct contact with', 'help with', 'hike with', 'interview with', 'obsess with', 'relax with', 'set here with', 'share with', 'sleep with', 'volunteer with', 'with', 'work with'], (67, 68): ['about', 'concern about', 'daydream about', 'feel about', 'have idea about', 'hear about', 'know a lot about', 'know about', 'know much about', 'know nothing about', 'like talk about', 'open about', 'passionate about', 'talk about', 'think about', 'wanna talk about', 'worry about'], (69, 70): ['begin', 'finish', 'start'], (71, 72): ['back into', 'bump into', 'get into', 'into', 'transfer into'], (73, 74): ['can call it in', 'can really get in touch with', 'interested in go to', 'like to go far in', 'like to live in', 'like to see in beijing', 'look in to', 'want they all in fifty', 'would never stab in the back'], (75, 76): ['graduate', 'learn', 'teach', 'teach during', 'tutor'], (77, 78): ['blast', 'rain', 'smell', 'smoke', 'smoking'], (79, 80): ['can listen to', 'can not afford to', 'can t seem to make', 'charge it to', 'feel connected to', 'give he to we', 'give time to do', 'have anything to', 'have no reason to distrust', 'know how to use', 'like to do', 'like to do for fun', 'like to try', 'like we to', 'love listen to', 'love to', 'love to own', 'love to sing', 'mind if walk to', 'need this weekend to', 'own', 'prefer not to', 'prefer not to bother', 'send it to', 'take they to her grave', 'try not to', 'want something to', 'want to', 'want to do', 'want to extend', 'want to pay', 'want to sign', 'want to watch a movie together', 'willing to do', 'would ever learn to', 'would love to'], (81, 82): ['always work in', 'get a 4 . 0 in that class', 'grow well only in', 'have always work in', 'have any experience in', 'have c complication from surgery', 'have experience in', 'have family in the area', 'have soap in they', 'help in this city', 'help while in', 'in touch with', 'read the classic in college', 'study'], (83, 84): ['close', 'come home from', 'drive under', 'get back from', 'get home from', 'land', 'like cash back', 'love watch bird from indoor', 'move', 'move back here from', 'move from', 'move here when', 'move here with', 'send somebody over', 'walk around'], (85, 86): ['get a good look at', 'get dog at the clinic', 'get real good at', 'good', 'have breakfast at a great restaurant', 'throw a milk carton at'], (87, 88): ['able to', 'able to find', 'about to', 'about to fix', 'allow to', 'close to', 'come to', 'cook to', 'could speak to', 'devote more time to', 'excited to', 'expect to', 'forget to', 'glad to', 'happen to', 'hard to', 'have to', 'have to give', 'hope to', 'inspire to', 'intend to', 'listen to', 'look forward to', 'may speak to', 'mean to', 'meditate to', 'migrate to', 'move to', 'need to', 'need to make per year', 'new to', 'open to', 'pay attention to', 'pay more attention to', 'plan to', 'prefer to', 'propose to', 'read biography to', 'ready to', 'respond to', 'ride to', 'scared to', 'seem to', 'similar to', 'sound appeal to', 'speak to', 'stick to', 'take to', 'talk to', 'tell to', 'to', 'to withdraw', 'try to', 'will have to take', 'will learn to deal with', 'will request hr to', 'write to'], (89, 90): ['accept', 'care if', 'cause', 'could', 'could not recognize', 'could not stand', 'have not make', 'have not pick', 'have not time for', 'never', 'please that', 'would', 'would like', 'would love', 'would not change', 'would not eat', 'would not mind', 'would rather', 'can always play', 'can always use', 'can not', 'can not afford', 'can not deal with', 'can not do', 'can not drink', 'can not eat', 'can not endure', 'can not find', 'can not handle', 'can not imagine', 'can not kick', 'can not stand', 'can not wait for', 'can talk about', 'could supply', 'must water', 'type', 'will not pull'], (91, 92): ['bake', 'binge', 'cook', 'drink', 'eat', 'only eat'], (93, 94): ['like', 'like watch', 'pet sitting', 'relax', 'sleep', 'sleep like', 'tired'], (95, 96): ['dye', 'exfoliate', 'paint', 'wash', 'washing', 'wear'], (97, 98): ['divorce', 'marry'], (99, 100): ['dial', 'drop', 'switch'], (101, 102): ['buy', 'purchase', 'sell', 'shop', 'should buy', 'should sell'], (103, 104): ['allow', 'assist', 'can help contact', 'guide', 'help', 'manage', 'need', 'need help', 'seek'], (105, 106): ['bear in', 'believe in', 'check in', 'dance in', 'fall in', 'follow in', 'in', 'in between', 'interested in', 'live in', 'locate in', 'major in', 'park in', 'permit in', 'play in', 'play piano in', 'proficiency in', 'serve in', 'set in', 'sing in', 'start in', 'teach in', 'work in'], (107, 108): ['adopt', 'follow', 'join', 'meet', 'should join', 'should meet', 'sign', 'volunteer'], (109, 110): ['ace'], (111, 112): ['bring in', 'come back in', 'come in', 'find in', 'fit in', 'get in because', 'get in english 101', 'get interested in', 'go first thing in', 'keep in', 'live here in', 'make in', 'move in', 'play the piano in', 'shut down in', 'spend the day in', 'stay in', 'stay last night in', 'wait for in'], (113, 114): ['allow people to check out', 'get ready to', 'get ready to take', 'get to', 'go out to', 'go to', 'go to across', 'go to college for', 'go to far from', 'go to town on', 'go to transfer', 'go to watch it out of curiosity', 'have plan to go', 'like go out to', 'like go to', 'like to go', 'like to go for', 'like to go to', 'love to go to', 'love to go to the beach with', 'love to sit around', 'move back to', 'need to go back to', 'plan to go', 'should go to buy', 'want to go out to', 'want to take'], (115, 116): ['burn down', 'calm down', 'check out', 'could fill out', 'cut out', 'find out', 'help out with', 'lock out', 'pass out', 'pull out', 'try out', 'wanna try out', 'work out'], (117, 118): ['ask bill if', 'can pay with', 'cancel', 'charge', 'cost', 'deposit', 'guarantee', 'must pay', 'owe', 'pay', 'pay for', 'should pay', 'would pay'], (119, 120): ['could live', 'live', 'live above', 'live around', 'live there', 'live there for', 'starve', 'survive', 'be fake straight for a long time', 'do for a job', 'do for a living', 'draw they all the time all over', 'have a crush on', 'have a seat available', 'have a small team under', 'know a country song about that', 'live here for a long time', 'live here for a month', 'make a recommendation for', 'need a full time job for health insurance', 'practice a lot as a kid', 'race the car for a living', 'share a one bedroom with', 'should leave for a tip', 'work a lot during', 'work here long time'], (121, 122): ['portray woman as weak', 'read those as a child', 'roleplay as', 'start as', 'work', 'work as', 'work with vet as', 'can do', 'do', 'do for', 'do for fun', 'do well than', 'fancy', 'got do', 'hate', 'let do', 'like do'], (123, 124): ['wreck'], (125, 126): ['change', 'consider', 'count', 'decide', 'exercise', 'interest', 'may consider', 'might', 'plan', 'recommend', 'rule', 'should', 'should appreciate', 'should call', 'should choose from', 'should consider', 'should drink more', 'should leave', 'should light', 'should really limit'], (127, 128): ['mow'], (129, 130): ['ai'], (131, 132): ['be lead by', 'come by', 'know by face', 'live by', 'pay by', 'send it by airmail'], (133, 134): ['be always a need for', 'be around for', 'be come here for', 'be currently look for', 'be for', 'be here for', 'be it for', 'be look for', 'be lunch time for', 'be not for', 'be not look good for', 'be not much room for', 'be off for', 'be out for', 'be plenty for', 'be quiet for', 'be serious business for', 'be shop for', 'be take mom out', 'be there before', 'be there good hiking spot near', 'be this for', 'do all be shopping through', 'drive be big truck around', 'get be key out', 'live there be whole life', 'should take be shoe off', 'spend be holiday from'], (135, 136): ['be', 'be 30 pound over weight', 'be a block away', 'be about', 'be also from', 'be also into', 'be always with', 'be arrive', 'be available', 'be content', 'be decide about switch', 'be employ', 'be far away from', 'be from', 'be get', 'be glad', 'be glad the week be over', 'be have', 'be into', 'be just below', 'be just walk', 'be learn', 'be like', 'be live', 'be mixed with', 'be naturally', 'be not familar with', 'be not feel', 'be not into', 'be not more expensive than', 'be not really a fan', 'be obsess with', 'be plan', 'be really into', 'be see', 'be something wrong with', 'be still into', 'be sure', 'be that consider', 'be the novel about', 'be they from', 'be together', 'be two pound over', 'be usually out', 'burn be house down', 'can be', 'do be body good', 'dress be yorkie as a lion', 'dye be hair red', 'have be', 'help be mom out', 'know it be', 'like be', 'love be with', 'must be', 'purchase be from ikea', 'will all be', 'will be', 'will be expect', 'will there be', 'would be'], (137, 138): ['rather save', 'save', 'spend'], (139, 140): ['arrest', 'die', 'hurt', 'kill', 'rob', 'shoot'], (141, 142): ['dance', 'sing', 'singe'], (143, 144): ['build house upon request', 'have to give 3 shoot', 'like listen to', 'like some magic to take away', 'like to', 'like to buy', 'like to cook for', 'like to depart', 'like to drink', 'like to eat at', 'like to find', 'like to have', 'like to leave on', 'like to make', 'like to meet for a drink', 'like to pay', 'like to purchase', 'like to read', 'like to return', 'like to send', 'like to sing', 'like to stay', 'like to use', 'love to live on', 'love to look at', 'order', 'use to', 'use to buy', 'use to have', 'would like to', 'would tike to buy', 'dislike', 'enjoy', 'feel', 'feel like', 'look like', 'love', 'seem', 'sound like', 'taste like'], (145, 146): ['be a fan of', 'be a huge fan of', 'be a type of', 'be an employee of', 'be just off of', 'be one of', 'be part of', 'be scared of', 'become', 'need all of be supply right away'], (147, 148): ['break up with', 'can not put up with', 'catch up on', 'fill up', 'finish up', 'grow up as', 'grow up in', 'keep up all night', 'like to meet up with', 'make up', 'meet up for', 'meet up with', 'open up', 'show up for', 'stand up at', 'take up', 'wake up', 'wake up at'], (149, 150): ['quit', 'retire'], (151, 152): ['be a run at', 'be at', 'be be family at', 'be good at', 'be just relax at', 'be just relax at home in', 'be one at', 'be very sociable at the weekend', 'have so much fun at', 'like be at', 'will be at'], (153, 154): ['name'], (155, 156): ['go on', 'go out on', 'mind go on', 'spend too much on'], (157, 158): ['arrange', 'include', 'locate', 'provide', 'require', 'serve', 'support', 'use'], (159, 160): ['catch on', 'church on', 'dance on', 'depend on', 'fall on', 'keen on', 'live on', 'love work on', 'on', 'plan on', 'plan on make', 'plane on watch', 'play on', 'play soccer on', 'put on', 'scald on', 'show on', 'sit on', 'work on']}\n",
            "bio_lookup:  {3: '', 5: 'think', 7: 'be from', 9: 'have', 11: 'be greater than', 13: 'take advantage of', 15: 'make ', 17: 'bring', 19: 'be', 21: 'get off', 23: 'recycle', 25: 'geocache', 27: 'ride', 29: 'keep from ', 31: 'gameplay', 33: 'play (game)', 35: 'stay', 37: 'hear', 39: 'want', 41: 'be ', 43: 'get', 45: 'be at', 47: 'winning/losing', 49: 'literature', 51: 'travel', 53: 'go', 55: 'do .. For', 57: 'future actions', 59: 'add', 61: 'take', 63: 'can', 65: 'be with', 67: 'think (about)', 69: 'start', 71: 'get into', 73: 'intention ', 75: 'teach', 77: 'smoke', 79: 'like ', 81: 'have something in ', 83: 'come back', 85: 'look', 87: 'try to', 89: 'cannot ', 91: 'food actions ', 93: 'relax', 95: 'personal hygiene', 97: 'marriage', 99: 'stop', 101: 'buy', 103: 'help', 105: 'be in ', 107: 'join ', 109: 'ace', 111: 'come in ', 113: 'need', 115: 'try out', 117: 'pay ', 119: 'live', 121: 'do ', 123: 'stop ', 125: 'consider', 127: 'mow', 129: 'ai', 131: 'be by ', 133: 'be for', 135: 'be about', 137: 'save (money)', 139: 'hurt', 141: 'sing', 143: 'like', 145: 'be of', 147: 'break up with', 149: 'quit', 151: 'not be able ', 153: 'name', 155: 'go on', 157: 'use', 159: 'be on '}\n"
          ]
        }
      ],
      "source": [
        "# Init\n",
        "bio_dict = dict()\n",
        "btag_idx = 3 #initial predicate b tag 3\n",
        "bio_lookup = dict()\n",
        "\n",
        "####TODO: build bio_lookup with abstract predicate as value####\n",
        "for abstract, unique_list in abstract_predicates.items():\n",
        "  bio_dict_key = tuple() \n",
        "  bio_dict_value = list()\n",
        "  is_b_tag = True\n",
        "\n",
        "  # Bio_dict - contains B and I-tag for a list with all unique predicates belonging to 1 abstract one\n",
        "  bio_dict_key = (btag_idx, btag_idx + 1)\n",
        "  bio_dict[bio_dict_key] = unique_list\n",
        "\n",
        "  # bio lookup - B-tag + abstract predicate\n",
        "  bio_lookup[btag_idx] = abstract  #.split()[0]\n",
        "  \n",
        "  # make sure there are 2 new BI-tags\n",
        "  btag_idx += 2\n",
        "\n",
        "print(\"bio_dict: \", bio_dict)\n",
        "print(\"bio_lookup: \", bio_lookup)"
      ]
    },
    {
      "cell_type": "code",
      "execution_count": null,
      "metadata": {
        "id": "UcNbdR_Q3DJu"
      },
      "outputs": [],
      "source": [
        "##### For Jaap, export abstract predicate list\n",
        "\n",
        "# import pandas as pd\n",
        "\n",
        "# df = pd.DataFrame.from_dict(bio_lookup, orient = \"Index\")\n",
        "# df = df.transpose()\n",
        "# df.to_csv(\"abstract_predicate.csv\", index = False)"
      ]
    },
    {
      "cell_type": "code",
      "execution_count": null,
      "metadata": {
        "colab": {
          "base_uri": "https://localhost:8080/"
        },
        "id": "Px8bdXDoG2Ji",
        "outputId": "92cdc17a-cfc9-4079-f8ea-e21c6303755a"
      },
      "outputs": [
        {
          "output_type": "stream",
          "name": "stdout",
          "text": [
            "{'': (3, 4), 'forget': (5, 6), 'glad': (5, 6), 'hope': (5, 6), 'imagine': (5, 6), 'kid': (5, 6), 'know': (5, 6), 'mean': (5, 6), 'remember': (5, 6), 'say': (5, 6), 'scare': (5, 6), 'sort': (5, 6), 'spell anything wrong': (5, 6), 'think': (5, 6), 'call from': (7, 8), 'different from': (7, 8), 'exhausted from': (7, 8), 'from': (7, 8), 'graduate from': (7, 8), 'import from': (7, 8), 'migrate from': (7, 8), 'retire from': (7, 8), 'switch from': (7, 8), 'tired from': (7, 8), 'visit from': (7, 8), 'have': (9, 10), 'have any room available': (9, 10), 'have catch': (9, 10), 'have experience': (9, 10), 'have family': (9, 10), 'have no problem with that': (9, 10), 'like have people around': (9, 10), 'may have': (9, 10), 'should have': (9, 10), 'should sms over': (9, 10), 'will have': (9, 10), 'will never have': (9, 10), 'fast than': (11, 12), 'hard than': (11, 12), 'make more than': (11, 12), 'well than': (11, 12), 'afraid of': (13, 14), 'deserve of': (13, 14), 'get enough of': (13, 14), 'have dream of go': (13, 14), 'hear of': (13, 14), 'in need of': (13, 14), 'inherit': (13, 14), 'involve': (13, 14), 'its': (13, 14), 'lose track of': (13, 14), 'make of': (13, 14), 'present': (13, 14), 'speak of': (13, 14), 'take advantage of': (13, 14), 'take care of': (13, 14), 'will spend most of the weekend with': (13, 14), 'bring it over': (15, 16), 'could make it as': (15, 16), 'could try it on': (15, 16), 'it': (15, 16), 'like it cut': (15, 16), 'make it': (15, 16), 'make it a secret between we': (15, 16), 'read it often': (15, 16), 'want it': (15, 16), 'wear it much': (15, 16), 'wear it that way': (15, 16), 'will make it work': (15, 16), 'fit right': (15, 16), 'look': (15, 16), 'make': (15, 16), 'make bank': (15, 16), 'make look': (15, 16), 'would make': (15, 16), 'bring': (17, 18), 'build': (17, 18), 'come': (17, 18), 'grow': (17, 18), 'hold': (17, 18), 'raise': (17, 18), 'reach': (17, 18), 'share': (17, 18), 'shed': (17, 18), 'turn': (17, 18), 'be a camera on': (19, 20), 'be a copy machine on': (19, 20), 'be good at work on': (19, 20), 'be on': (19, 20), 'be plan on go': (19, 20), 'be set on': (19, 20), 'be still on': (19, 20), 'must not sit on': (19, 20), 'spend all be money on shopping': (19, 20), 'try they on be travel': (19, 20), 'be a serious disturbance in': (19, 20), 'be a story about breakdance in': (19, 20), 'be go in': (19, 20), 'be in': (19, 20), 'be in attendance at': (19, 20), 'be in between': (19, 20), 'be in the chair': (19, 20), 'be in to': (19, 20), 'be it in': (19, 20), 'be more in to': (19, 20), 'be still in': (19, 20), 'be they in': (19, 20), 's': (19, 20), 'fight people off': (21, 22), 'get off': (21, 22), 'get off on': (21, 22), 'play off': (21, 22), 'take friday off': (21, 22), 'tear off': (21, 22), 'throw it off': (21, 22), 'recycle': (23, 24), 'scrap': (23, 24), 'waste': (23, 24), 'code': (25, 26), 'geocache': (25, 26), 'chase': (27, 28), 'drive': (27, 28), 'hike': (27, 28), 'ride': (27, 28), 'swim': (27, 28), 'tour': (27, 28), 'train': (27, 28), 'keep': (29, 30), 'keep from': (29, 30), 'keep safe': (29, 30), 'would please keep': (29, 30), 'draw': (31, 32), 'match': (31, 32), 'race': (31, 32), 'replay': (31, 32), 'lead': (33, 34), 'play': (33, 34), 'play hoop with': (33, 34), 'play the cd loud': (33, 34), 'play with': (33, 34), 'get along with': (35, 36), 'hang with': (35, 36), 'have stay with': (35, 36), 'live with': (35, 36), 'rather stay': (35, 36), 'stay': (35, 36), 'stay home with': (35, 36), 'stay with': (35, 36), 'describe': (37, 38), 'hear': (37, 38), 'hear clearly': (37, 38), 'sound': (37, 38), 'speak': (37, 38), 'let': (39, 40), 'prefer': (39, 40), 'should try': (39, 40), 'try': (39, 40), 'want': (39, 40), 'wish': (39, 40), 'be able to': (39, 40), 'be able to take the test again': (39, 40), 'be excited to': (39, 40), 'be go to': (39, 40), 'be go to make be life easy': (39, 40), 'be hope to visit': (39, 40), 'be look forward to': (39, 40), 'be ready to': (39, 40), 'be require to': (39, 40), 'be sneak away to': (39, 40), 'be someone come to get': (39, 40), 'be take the kid to': (39, 40), 'be to': (39, 40), 'be to leave nothing for a tip': (39, 40), 'be to play': (39, 40), 'be try to get': (39, 40), 'be up to': (39, 40), 'come here to be': (39, 40), 'do be job remotely': (39, 40), 'go to be': (39, 40), 'go to be take': (39, 40), 'have to be': (39, 40), 'like to be': (39, 40), 'like to buy a keepsake for be girlfriend': (39, 40), 'need to be': (39, 40), 'need to get be dance gear ready': (39, 40), 'send be car to be fix': (39, 40), 'try to be': (39, 40), 'use to be': (39, 40), 'want the money to be transfer': (39, 40), 'want to be': (39, 40), 'want to be here tomorrow': (39, 40), 'will just put be coat away': (39, 40), 'would like to be': (39, 40), 'wass': (41, 42), 'catch': (43, 44), 'could get': (43, 44), 'dig': (43, 44), 'find': (43, 44), 'fix': (43, 44), 'get': (43, 44), 'get along': (43, 44), 'get more': (43, 44), 'get ready': (43, 44), 'get to go get': (43, 44), 'get we': (43, 44), 'give': (43, 44), 'have get': (43, 44), 'lose': (43, 44), 'send': (43, 44), 'should get': (43, 44), 'arrive at': (45, 46), 'available at': (45, 46), 'bad at': (45, 46), 'eat at': (45, 46), 'go at': (45, 46), 'good at': (45, 46), 'stay at': (45, 46), 'still at': (45, 46), 'take lot at the bar': (45, 46), 'teach at': (45, 46), 'turn right at': (45, 46), 'volunteer at': (45, 46), 'work at': (45, 46), 'work night at': (45, 46), 'work tonight at': (45, 46), 'beat': (47, 48), 'win': (47, 48), 'book': (49, 50), 'copy': (49, 50), 'like read': (49, 50), 'note': (49, 50), 'post': (49, 50), 'read': (49, 50), 'write': (49, 50), 'cook 100 meal for': (51, 52), 'exchange': (51, 52), 'get ready for': (51, 52), 'here for': (51, 52), 'live here for': (51, 52), 'look for': (51, 52), 'make some for': (51, 52), 'must leave for': (51, 52), 'reserve': (51, 52), 'travel': (51, 52), 'travel here for': (51, 52), 'travel more for': (51, 52), 'visit': (51, 52), 'can go': (53, 54), 'could go': (53, 54), 'fall': (53, 54), 'go': (53, 54), 'go for': (53, 54), 'go great with': (53, 54), 'go hike often': (53, 54), 'go just for': (53, 54), 'go next': (53, 54), 'go there': (53, 54), 'go there with': (53, 54), 'go thru': (53, 54), 'hang': (53, 54), 'leave': (53, 54), 'pass': (53, 54), 'run': (53, 54), 'rush': (53, 54), 's it go': (53, 54), 'cook for': (55, 56), 'distinguish for': (55, 56), 'fine for': (55, 56), 'for': (55, 56), 'good for': (55, 56), 'hard for': (55, 56), 'have seat for': (55, 56), 'leak for': (55, 56), 'market for': (55, 56), 'marry for': (55, 56), 'meet for': (55, 56), 'nervous for': (55, 56), 'pray for': (55, 56), 'ready for': (55, 56), 'retire for': (55, 56), 'save for': (55, 56), 'shop for': (55, 56), 'stand for': (55, 56), 'stop for': (55, 56), 'suitable for': (55, 56), 'vote for': (55, 56), 'work for': (55, 56), 'call': (57, 58), 'miss': (57, 58), 'see': (57, 58), 'see tomorrow': (57, 58), 'should see': (57, 58), 'tell': (57, 58), 'wait': (57, 58), 'watch': (57, 58), 'add': (59, 60), 'could add': (59, 60), 'mix': (59, 60), 'can take': (61, 62), 'can take the test again': (61, 62), 'could take': (61, 62), 'may take': (61, 62), 'take': (61, 62), 'will': (61, 62), 'will bring back': (61, 62), 'will come': (61, 62), 'will get': (61, 62), 'will hold': (61, 62), 'will open': (61, 62), 'will take': (61, 62), 'would give': (61, 62), 'can': (63, 64), 'can accommodate': (63, 64), 'can alphabetize': (63, 64), 'can also try': (63, 64), 'can catch': (63, 64), 'can get': (63, 64), 'can give': (63, 64), 'can handle': (63, 64), 'can have': (63, 64), 'can have weekend free': (63, 64), 'can help': (63, 64), 'can hold': (63, 64), 'can make': (63, 64), 'can only spend': (63, 64), 'can phone': (63, 64), 'can play': (63, 64), 'can recommend': (63, 64), 'can refund': (63, 64), 'can relax': (63, 64), 'can see': (63, 64), 'can show': (63, 64), 'can speak': (63, 64), 'can spend': (63, 64), 'can stay': (63, 64), 'can stay there for hour': (63, 64), 'can try': (63, 64), 'can use': (63, 64), 'may borrow': (63, 64), 'will suit well': (63, 64), 'align with': (65, 66), 'breakdance': (65, 66), 'busy with': (65, 66), 'come with': (65, 66), 'could start with': (65, 66), 'display': (65, 66), 'double cross': (65, 66), 'enjoy work with': (65, 66), 'frustrate with': (65, 66), 'have direct contact with': (65, 66), 'help with': (65, 66), 'hike with': (65, 66), 'interview with': (65, 66), 'obsess with': (65, 66), 'relax with': (65, 66), 'set here with': (65, 66), 'share with': (65, 66), 'sleep with': (65, 66), 'volunteer with': (65, 66), 'with': (65, 66), 'work with': (65, 66), 'about': (67, 68), 'concern about': (67, 68), 'daydream about': (67, 68), 'feel about': (67, 68), 'have idea about': (67, 68), 'hear about': (67, 68), 'know a lot about': (67, 68), 'know about': (67, 68), 'know much about': (67, 68), 'know nothing about': (67, 68), 'like talk about': (67, 68), 'open about': (67, 68), 'passionate about': (67, 68), 'talk about': (67, 68), 'think about': (67, 68), 'wanna talk about': (67, 68), 'worry about': (67, 68), 'begin': (69, 70), 'finish': (69, 70), 'start': (69, 70), 'back into': (71, 72), 'bump into': (71, 72), 'get into': (71, 72), 'into': (71, 72), 'transfer into': (71, 72), 'can call it in': (73, 74), 'can really get in touch with': (73, 74), 'interested in go to': (73, 74), 'like to go far in': (73, 74), 'like to live in': (73, 74), 'like to see in beijing': (73, 74), 'look in to': (73, 74), 'want they all in fifty': (73, 74), 'would never stab in the back': (73, 74), 'graduate': (75, 76), 'learn': (75, 76), 'teach': (75, 76), 'teach during': (75, 76), 'tutor': (75, 76), 'blast': (77, 78), 'rain': (77, 78), 'smell': (77, 78), 'smoke': (77, 78), 'smoking': (77, 78), 'can listen to': (79, 80), 'can not afford to': (79, 80), 'can t seem to make': (79, 80), 'charge it to': (79, 80), 'feel connected to': (79, 80), 'give he to we': (79, 80), 'give time to do': (79, 80), 'have anything to': (79, 80), 'have no reason to distrust': (79, 80), 'know how to use': (79, 80), 'like to do': (79, 80), 'like to do for fun': (79, 80), 'like to try': (79, 80), 'like we to': (79, 80), 'love listen to': (79, 80), 'love to': (79, 80), 'love to own': (79, 80), 'love to sing': (79, 80), 'mind if walk to': (79, 80), 'need this weekend to': (79, 80), 'own': (79, 80), 'prefer not to': (79, 80), 'prefer not to bother': (79, 80), 'send it to': (79, 80), 'take they to her grave': (79, 80), 'try not to': (79, 80), 'want something to': (79, 80), 'want to': (79, 80), 'want to do': (79, 80), 'want to extend': (79, 80), 'want to pay': (79, 80), 'want to sign': (79, 80), 'want to watch a movie together': (79, 80), 'willing to do': (79, 80), 'would ever learn to': (79, 80), 'would love to': (79, 80), 'always work in': (81, 82), 'get a 4 . 0 in that class': (81, 82), 'grow well only in': (81, 82), 'have always work in': (81, 82), 'have any experience in': (81, 82), 'have c complication from surgery': (81, 82), 'have experience in': (81, 82), 'have family in the area': (81, 82), 'have soap in they': (81, 82), 'help in this city': (81, 82), 'help while in': (81, 82), 'in touch with': (81, 82), 'read the classic in college': (81, 82), 'study': (81, 82), 'close': (83, 84), 'come home from': (83, 84), 'drive under': (83, 84), 'get back from': (83, 84), 'get home from': (83, 84), 'land': (83, 84), 'like cash back': (83, 84), 'love watch bird from indoor': (83, 84), 'move': (83, 84), 'move back here from': (83, 84), 'move from': (83, 84), 'move here when': (83, 84), 'move here with': (83, 84), 'send somebody over': (83, 84), 'walk around': (83, 84), 'get a good look at': (85, 86), 'get dog at the clinic': (85, 86), 'get real good at': (85, 86), 'good': (85, 86), 'have breakfast at a great restaurant': (85, 86), 'throw a milk carton at': (85, 86), 'able to': (87, 88), 'able to find': (87, 88), 'about to': (87, 88), 'about to fix': (87, 88), 'allow to': (87, 88), 'close to': (87, 88), 'come to': (87, 88), 'cook to': (87, 88), 'could speak to': (87, 88), 'devote more time to': (87, 88), 'excited to': (87, 88), 'expect to': (87, 88), 'forget to': (87, 88), 'glad to': (87, 88), 'happen to': (87, 88), 'hard to': (87, 88), 'have to': (87, 88), 'have to give': (87, 88), 'hope to': (87, 88), 'inspire to': (87, 88), 'intend to': (87, 88), 'listen to': (87, 88), 'look forward to': (87, 88), 'may speak to': (87, 88), 'mean to': (87, 88), 'meditate to': (87, 88), 'migrate to': (87, 88), 'move to': (87, 88), 'need to': (87, 88), 'need to make per year': (87, 88), 'new to': (87, 88), 'open to': (87, 88), 'pay attention to': (87, 88), 'pay more attention to': (87, 88), 'plan to': (87, 88), 'prefer to': (87, 88), 'propose to': (87, 88), 'read biography to': (87, 88), 'ready to': (87, 88), 'respond to': (87, 88), 'ride to': (87, 88), 'scared to': (87, 88), 'seem to': (87, 88), 'similar to': (87, 88), 'sound appeal to': (87, 88), 'speak to': (87, 88), 'stick to': (87, 88), 'take to': (87, 88), 'talk to': (87, 88), 'tell to': (87, 88), 'to': (87, 88), 'to withdraw': (87, 88), 'try to': (87, 88), 'will have to take': (87, 88), 'will learn to deal with': (87, 88), 'will request hr to': (87, 88), 'write to': (87, 88), 'accept': (89, 90), 'care if': (89, 90), 'cause': (89, 90), 'could': (89, 90), 'could not recognize': (89, 90), 'could not stand': (89, 90), 'have not make': (89, 90), 'have not pick': (89, 90), 'have not time for': (89, 90), 'never': (89, 90), 'please that': (89, 90), 'would': (89, 90), 'would like': (89, 90), 'would love': (89, 90), 'would not change': (89, 90), 'would not eat': (89, 90), 'would not mind': (89, 90), 'would rather': (89, 90), 'can always play': (89, 90), 'can always use': (89, 90), 'can not': (89, 90), 'can not afford': (89, 90), 'can not deal with': (89, 90), 'can not do': (89, 90), 'can not drink': (89, 90), 'can not eat': (89, 90), 'can not endure': (89, 90), 'can not find': (89, 90), 'can not handle': (89, 90), 'can not imagine': (89, 90), 'can not kick': (89, 90), 'can not stand': (89, 90), 'can not wait for': (89, 90), 'can talk about': (89, 90), 'could supply': (89, 90), 'must water': (89, 90), 'type': (89, 90), 'will not pull': (89, 90), 'bake': (91, 92), 'binge': (91, 92), 'cook': (91, 92), 'drink': (91, 92), 'eat': (91, 92), 'only eat': (91, 92), 'like': (93, 94), 'like watch': (93, 94), 'pet sitting': (93, 94), 'relax': (93, 94), 'sleep': (93, 94), 'sleep like': (93, 94), 'tired': (93, 94), 'dye': (95, 96), 'exfoliate': (95, 96), 'paint': (95, 96), 'wash': (95, 96), 'washing': (95, 96), 'wear': (95, 96), 'divorce': (97, 98), 'marry': (97, 98), 'dial': (99, 100), 'drop': (99, 100), 'switch': (99, 100), 'buy': (101, 102), 'purchase': (101, 102), 'sell': (101, 102), 'shop': (101, 102), 'should buy': (101, 102), 'should sell': (101, 102), 'allow': (103, 104), 'assist': (103, 104), 'can help contact': (103, 104), 'guide': (103, 104), 'help': (103, 104), 'manage': (103, 104), 'need': (103, 104), 'need help': (103, 104), 'seek': (103, 104), 'bear in': (105, 106), 'believe in': (105, 106), 'check in': (105, 106), 'dance in': (105, 106), 'fall in': (105, 106), 'follow in': (105, 106), 'in': (105, 106), 'in between': (105, 106), 'interested in': (105, 106), 'live in': (105, 106), 'locate in': (105, 106), 'major in': (105, 106), 'park in': (105, 106), 'permit in': (105, 106), 'play in': (105, 106), 'play piano in': (105, 106), 'proficiency in': (105, 106), 'serve in': (105, 106), 'set in': (105, 106), 'sing in': (105, 106), 'start in': (105, 106), 'teach in': (105, 106), 'work in': (105, 106), 'adopt': (107, 108), 'follow': (107, 108), 'join': (107, 108), 'meet': (107, 108), 'should join': (107, 108), 'should meet': (107, 108), 'sign': (107, 108), 'volunteer': (107, 108), 'ace': (109, 110), 'bring in': (111, 112), 'come back in': (111, 112), 'come in': (111, 112), 'find in': (111, 112), 'fit in': (111, 112), 'get in because': (111, 112), 'get in english 101': (111, 112), 'get interested in': (111, 112), 'go first thing in': (111, 112), 'keep in': (111, 112), 'live here in': (111, 112), 'make in': (111, 112), 'move in': (111, 112), 'play the piano in': (111, 112), 'shut down in': (111, 112), 'spend the day in': (111, 112), 'stay in': (111, 112), 'stay last night in': (111, 112), 'wait for in': (111, 112), 'allow people to check out': (113, 114), 'get ready to': (113, 114), 'get ready to take': (113, 114), 'get to': (113, 114), 'go out to': (113, 114), 'go to': (113, 114), 'go to across': (113, 114), 'go to college for': (113, 114), 'go to far from': (113, 114), 'go to town on': (113, 114), 'go to transfer': (113, 114), 'go to watch it out of curiosity': (113, 114), 'have plan to go': (113, 114), 'like go out to': (113, 114), 'like go to': (113, 114), 'like to go': (113, 114), 'like to go for': (113, 114), 'like to go to': (113, 114), 'love to go to': (113, 114), 'love to go to the beach with': (113, 114), 'love to sit around': (113, 114), 'move back to': (113, 114), 'need to go back to': (113, 114), 'plan to go': (113, 114), 'should go to buy': (113, 114), 'want to go out to': (113, 114), 'want to take': (113, 114), 'burn down': (115, 116), 'calm down': (115, 116), 'check out': (115, 116), 'could fill out': (115, 116), 'cut out': (115, 116), 'find out': (115, 116), 'help out with': (115, 116), 'lock out': (115, 116), 'pass out': (115, 116), 'pull out': (115, 116), 'try out': (115, 116), 'wanna try out': (115, 116), 'work out': (115, 116), 'ask bill if': (117, 118), 'can pay with': (117, 118), 'cancel': (117, 118), 'charge': (117, 118), 'cost': (117, 118), 'deposit': (117, 118), 'guarantee': (117, 118), 'must pay': (117, 118), 'owe': (117, 118), 'pay': (117, 118), 'pay for': (117, 118), 'should pay': (117, 118), 'would pay': (117, 118), 'could live': (119, 120), 'live': (119, 120), 'live above': (119, 120), 'live around': (119, 120), 'live there': (119, 120), 'live there for': (119, 120), 'starve': (119, 120), 'survive': (119, 120), 'be fake straight for a long time': (119, 120), 'do for a job': (119, 120), 'do for a living': (119, 120), 'draw they all the time all over': (119, 120), 'have a crush on': (119, 120), 'have a seat available': (119, 120), 'have a small team under': (119, 120), 'know a country song about that': (119, 120), 'live here for a long time': (119, 120), 'live here for a month': (119, 120), 'make a recommendation for': (119, 120), 'need a full time job for health insurance': (119, 120), 'practice a lot as a kid': (119, 120), 'race the car for a living': (119, 120), 'share a one bedroom with': (119, 120), 'should leave for a tip': (119, 120), 'work a lot during': (119, 120), 'work here long time': (119, 120), 'portray woman as weak': (121, 122), 'read those as a child': (121, 122), 'roleplay as': (121, 122), 'start as': (121, 122), 'work': (121, 122), 'work as': (121, 122), 'work with vet as': (121, 122), 'can do': (121, 122), 'do': (121, 122), 'do for': (121, 122), 'do for fun': (121, 122), 'do well than': (121, 122), 'fancy': (121, 122), 'got do': (121, 122), 'hate': (121, 122), 'let do': (121, 122), 'like do': (121, 122), 'wreck': (123, 124), 'change': (125, 126), 'consider': (125, 126), 'count': (125, 126), 'decide': (125, 126), 'exercise': (125, 126), 'interest': (125, 126), 'may consider': (125, 126), 'might': (125, 126), 'plan': (125, 126), 'recommend': (125, 126), 'rule': (125, 126), 'should': (125, 126), 'should appreciate': (125, 126), 'should call': (125, 126), 'should choose from': (125, 126), 'should consider': (125, 126), 'should drink more': (125, 126), 'should leave': (125, 126), 'should light': (125, 126), 'should really limit': (125, 126), 'mow': (127, 128), 'ai': (129, 130), 'be lead by': (131, 132), 'come by': (131, 132), 'know by face': (131, 132), 'live by': (131, 132), 'pay by': (131, 132), 'send it by airmail': (131, 132), 'be always a need for': (133, 134), 'be around for': (133, 134), 'be come here for': (133, 134), 'be currently look for': (133, 134), 'be for': (133, 134), 'be here for': (133, 134), 'be it for': (133, 134), 'be look for': (133, 134), 'be lunch time for': (133, 134), 'be not for': (133, 134), 'be not look good for': (133, 134), 'be not much room for': (133, 134), 'be off for': (133, 134), 'be out for': (133, 134), 'be plenty for': (133, 134), 'be quiet for': (133, 134), 'be serious business for': (133, 134), 'be shop for': (133, 134), 'be take mom out': (133, 134), 'be there before': (133, 134), 'be there good hiking spot near': (133, 134), 'be this for': (133, 134), 'do all be shopping through': (133, 134), 'drive be big truck around': (133, 134), 'get be key out': (133, 134), 'live there be whole life': (133, 134), 'should take be shoe off': (133, 134), 'spend be holiday from': (133, 134), 'be': (135, 136), 'be 30 pound over weight': (135, 136), 'be a block away': (135, 136), 'be about': (135, 136), 'be also from': (135, 136), 'be also into': (135, 136), 'be always with': (135, 136), 'be arrive': (135, 136), 'be available': (135, 136), 'be content': (135, 136), 'be decide about switch': (135, 136), 'be employ': (135, 136), 'be far away from': (135, 136), 'be from': (135, 136), 'be get': (135, 136), 'be glad': (135, 136), 'be glad the week be over': (135, 136), 'be have': (135, 136), 'be into': (135, 136), 'be just below': (135, 136), 'be just walk': (135, 136), 'be learn': (135, 136), 'be like': (135, 136), 'be live': (135, 136), 'be mixed with': (135, 136), 'be naturally': (135, 136), 'be not familar with': (135, 136), 'be not feel': (135, 136), 'be not into': (135, 136), 'be not more expensive than': (135, 136), 'be not really a fan': (135, 136), 'be obsess with': (135, 136), 'be plan': (135, 136), 'be really into': (135, 136), 'be see': (135, 136), 'be something wrong with': (135, 136), 'be still into': (135, 136), 'be sure': (135, 136), 'be that consider': (135, 136), 'be the novel about': (135, 136), 'be they from': (135, 136), 'be together': (135, 136), 'be two pound over': (135, 136), 'be usually out': (135, 136), 'burn be house down': (135, 136), 'can be': (135, 136), 'do be body good': (135, 136), 'dress be yorkie as a lion': (135, 136), 'dye be hair red': (135, 136), 'have be': (135, 136), 'help be mom out': (135, 136), 'know it be': (135, 136), 'like be': (135, 136), 'love be with': (135, 136), 'must be': (135, 136), 'purchase be from ikea': (135, 136), 'will all be': (135, 136), 'will be': (135, 136), 'will be expect': (135, 136), 'will there be': (135, 136), 'would be': (135, 136), 'rather save': (137, 138), 'save': (137, 138), 'spend': (137, 138), 'arrest': (139, 140), 'die': (139, 140), 'hurt': (139, 140), 'kill': (139, 140), 'rob': (139, 140), 'shoot': (139, 140), 'dance': (141, 142), 'sing': (141, 142), 'singe': (141, 142), 'build house upon request': (143, 144), 'have to give 3 shoot': (143, 144), 'like listen to': (143, 144), 'like some magic to take away': (143, 144), 'like to': (143, 144), 'like to buy': (143, 144), 'like to cook for': (143, 144), 'like to depart': (143, 144), 'like to drink': (143, 144), 'like to eat at': (143, 144), 'like to find': (143, 144), 'like to have': (143, 144), 'like to leave on': (143, 144), 'like to make': (143, 144), 'like to meet for a drink': (143, 144), 'like to pay': (143, 144), 'like to purchase': (143, 144), 'like to read': (143, 144), 'like to return': (143, 144), 'like to send': (143, 144), 'like to sing': (143, 144), 'like to stay': (143, 144), 'like to use': (143, 144), 'love to live on': (143, 144), 'love to look at': (143, 144), 'order': (143, 144), 'use to': (143, 144), 'use to buy': (143, 144), 'use to have': (143, 144), 'would like to': (143, 144), 'would tike to buy': (143, 144), 'dislike': (143, 144), 'enjoy': (143, 144), 'feel': (143, 144), 'feel like': (143, 144), 'look like': (143, 144), 'love': (143, 144), 'seem': (143, 144), 'sound like': (143, 144), 'taste like': (143, 144), 'be a fan of': (145, 146), 'be a huge fan of': (145, 146), 'be a type of': (145, 146), 'be an employee of': (145, 146), 'be just off of': (145, 146), 'be one of': (145, 146), 'be part of': (145, 146), 'be scared of': (145, 146), 'become': (145, 146), 'need all of be supply right away': (145, 146), 'break up with': (147, 148), 'can not put up with': (147, 148), 'catch up on': (147, 148), 'fill up': (147, 148), 'finish up': (147, 148), 'grow up as': (147, 148), 'grow up in': (147, 148), 'keep up all night': (147, 148), 'like to meet up with': (147, 148), 'make up': (147, 148), 'meet up for': (147, 148), 'meet up with': (147, 148), 'open up': (147, 148), 'show up for': (147, 148), 'stand up at': (147, 148), 'take up': (147, 148), 'wake up': (147, 148), 'wake up at': (147, 148), 'quit': (149, 150), 'retire': (149, 150), 'be a run at': (151, 152), 'be at': (151, 152), 'be be family at': (151, 152), 'be good at': (151, 152), 'be just relax at': (151, 152), 'be just relax at home in': (151, 152), 'be one at': (151, 152), 'be very sociable at the weekend': (151, 152), 'have so much fun at': (151, 152), 'like be at': (151, 152), 'will be at': (151, 152), 'name': (153, 154), 'go on': (155, 156), 'go out on': (155, 156), 'mind go on': (155, 156), 'spend too much on': (155, 156), 'arrange': (157, 158), 'include': (157, 158), 'locate': (157, 158), 'provide': (157, 158), 'require': (157, 158), 'serve': (157, 158), 'support': (157, 158), 'use': (157, 158), 'catch on': (159, 160), 'church on': (159, 160), 'dance on': (159, 160), 'depend on': (159, 160), 'fall on': (159, 160), 'keen on': (159, 160), 'live on': (159, 160), 'love work on': (159, 160), 'on': (159, 160), 'plan on': (159, 160), 'plan on make': (159, 160), 'plane on watch': (159, 160), 'play on': (159, 160), 'play soccer on': (159, 160), 'put on': (159, 160), 'scald on': (159, 160), 'show on': (159, 160), 'sit on': (159, 160), 'work on': (159, 160)}\n"
          ]
        }
      ],
      "source": [
        "lookup = dict()\n",
        "\n",
        "for key, value in bio_dict.items():\n",
        "  for predicates in value:\n",
        "    lookup[predicates] = key\n",
        "print(lookup)"
      ]
    },
    {
      "cell_type": "code",
      "execution_count": null,
      "metadata": {
        "id": "vAwTTXhOTrWs"
      },
      "outputs": [],
      "source": [
        "def unique_to_abstract(pred, abstract_dict):\n",
        "  \"\"\" Maps the predicate to its abstract version\n",
        "      returns the abstracted predicate \n",
        "  \"\"\"\n",
        "  for items in list(abstract_dict.keys()):\n",
        "    if pred in list(abstract_dict[items]) or pred == items:\n",
        "      abstracted = items\n",
        "      break\n",
        "  return abstracted"
      ]
    },
    {
      "cell_type": "markdown",
      "metadata": {
        "id": "MMyhZF4e71Yl"
      },
      "source": [
        "## Converting formats\n",
        "\n",
        "Triple arguments are stored as lists of indices (e.g. [[0, 1], [0, 2]] indicating the second and third token of the first turn). We rather use a BIO tagging scheme to indicate these arguments as a vector of labels (one label for each token in the dialog).\n",
        "\n",
        "Moreover, we flatten the dialogue turns into one flat dialogue using `<eos>` as a separator token."
      ]
    },
    {
      "cell_type": "code",
      "execution_count": null,
      "metadata": {
        "id": "gFJv2Avc70hz"
      },
      "outputs": [],
      "source": [
        "import numpy as np\n",
        "import pandas as pd\n",
        "\n",
        "\n",
        "def triple_to_bio_tags(annotation, arg, lookup):\n",
        "    \"\"\" Converts the token indices of the annotations to a vector of BIO labels\n",
        "        for an argument.\n",
        "\n",
        "        params:\n",
        "        dict annotation:    loaded annotation file (see load_annotations)\n",
        "        int arg:            argument to create tag sequence for (subj=0, pred=1, obj=2)\n",
        "\n",
        "        returns:    ndarray with BIO labels (I=2, B=1, O=0)\n",
        "    \"\"\"\n",
        "    # Determine length of dialogue\n",
        "    turns = annotation['tokens']\n",
        "    triples = annotation['annotations']\n",
        "    num_tokens = sum([len(turn) + 1 for turn in turns])  # +1 for <eos>\n",
        "\n",
        "    # Create vector same size as dialogue\n",
        "    mask = np.zeros(num_tokens, dtype=np.uint8)\n",
        "\n",
        "    # Label annotated arguments as BIO tags\n",
        "    for triple in triples:\n",
        "        if arg == 1:\n",
        "            pred = get_predicate_tokens(annotation, triple)\n",
        "            \n",
        "            if pred is not None:     #and pred is not \"\"\n",
        "                #This use of predicate should also go through cleaning and lemmatization\n",
        "                pred = cleaning([pred])\n",
        "                pred = list(pred)[0]\n",
        "                \n",
        "                B_tag, I_tag = lookup[pred]\n",
        "                # print(B_tag, I_tag, pred)\n",
        "                \n",
        "                for j, (turn_id, token_id) in enumerate(triple[arg]):\n",
        "                    k = sum([len(t) + 1 for t in turns[:turn_id]]) + token_id  # k = index of token in dialogue\n",
        "                    mask[k] = B_tag if j == 0 else I_tag # so if it's a predicate, it assigns B-tag to the first, I-tag to the second\n",
        "        else:\n",
        "            for j, (turn_id, token_id) in enumerate(triple[arg]):\n",
        "                k = sum([len(t) + 1 for t in turns[:turn_id]]) + token_id  # k = index of token in dialogue\n",
        "                mask[k] = 1 if j == 0 else 2 # So if it's a subj or object, the first is subject, else it is an object \n",
        "    return mask"
      ]
    },
    {
      "cell_type": "code",
      "execution_count": null,
      "metadata": {
        "colab": {
          "base_uri": "https://localhost:8080/",
          "height": 277
        },
        "id": "AMfVIluz8xTA",
        "outputId": "55882f5f-3e55-48be-ee8c-32f8f2f0d3d8"
      },
      "outputs": [
        {
          "output_type": "stream",
          "name": "stdout",
          "text": [
            "366\n"
          ]
        },
        {
          "output_type": "display_data",
          "data": {
            "text/plain": [
              "      the  newest  show  that  just  got  leaked  <eos>  what  another  ...  \\\n",
              "subj    1       2     2     0     0    0       0      0     0        0  ...   \n",
              "pred    0       0     0     0     0   43       0      0     0        0  ...   \n",
              "obj     0       0     0     0     0    0       1      0     0        1  ...   \n",
              "\n",
              "      no  not  at  all  it   's  a  fantasy  show  <eos>  \n",
              "subj   0    0   0    0   1    0  0        0     0      0  \n",
              "pred   0    0   0    0   0 -121  0        0     0      0  \n",
              "obj    0    0   0    0   0    0  1        2     2      0  \n",
              "\n",
              "[3 rows x 25 columns]"
            ],
            "text/html": [
              "\n",
              "  <div id=\"df-698ffc53-d9dc-489b-bb7a-697584e2f2a8\">\n",
              "    <div class=\"colab-df-container\">\n",
              "      <div>\n",
              "<style scoped>\n",
              "    .dataframe tbody tr th:only-of-type {\n",
              "        vertical-align: middle;\n",
              "    }\n",
              "\n",
              "    .dataframe tbody tr th {\n",
              "        vertical-align: top;\n",
              "    }\n",
              "\n",
              "    .dataframe thead th {\n",
              "        text-align: right;\n",
              "    }\n",
              "</style>\n",
              "<table border=\"1\" class=\"dataframe\">\n",
              "  <thead>\n",
              "    <tr style=\"text-align: right;\">\n",
              "      <th></th>\n",
              "      <th>the</th>\n",
              "      <th>newest</th>\n",
              "      <th>show</th>\n",
              "      <th>that</th>\n",
              "      <th>just</th>\n",
              "      <th>got</th>\n",
              "      <th>leaked</th>\n",
              "      <th>&lt;eos&gt;</th>\n",
              "      <th>what</th>\n",
              "      <th>another</th>\n",
              "      <th>...</th>\n",
              "      <th>no</th>\n",
              "      <th>not</th>\n",
              "      <th>at</th>\n",
              "      <th>all</th>\n",
              "      <th>it</th>\n",
              "      <th>'s</th>\n",
              "      <th>a</th>\n",
              "      <th>fantasy</th>\n",
              "      <th>show</th>\n",
              "      <th>&lt;eos&gt;</th>\n",
              "    </tr>\n",
              "  </thead>\n",
              "  <tbody>\n",
              "    <tr>\n",
              "      <th>subj</th>\n",
              "      <td>1</td>\n",
              "      <td>2</td>\n",
              "      <td>2</td>\n",
              "      <td>0</td>\n",
              "      <td>0</td>\n",
              "      <td>0</td>\n",
              "      <td>0</td>\n",
              "      <td>0</td>\n",
              "      <td>0</td>\n",
              "      <td>0</td>\n",
              "      <td>...</td>\n",
              "      <td>0</td>\n",
              "      <td>0</td>\n",
              "      <td>0</td>\n",
              "      <td>0</td>\n",
              "      <td>1</td>\n",
              "      <td>0</td>\n",
              "      <td>0</td>\n",
              "      <td>0</td>\n",
              "      <td>0</td>\n",
              "      <td>0</td>\n",
              "    </tr>\n",
              "    <tr>\n",
              "      <th>pred</th>\n",
              "      <td>0</td>\n",
              "      <td>0</td>\n",
              "      <td>0</td>\n",
              "      <td>0</td>\n",
              "      <td>0</td>\n",
              "      <td>43</td>\n",
              "      <td>0</td>\n",
              "      <td>0</td>\n",
              "      <td>0</td>\n",
              "      <td>0</td>\n",
              "      <td>...</td>\n",
              "      <td>0</td>\n",
              "      <td>0</td>\n",
              "      <td>0</td>\n",
              "      <td>0</td>\n",
              "      <td>0</td>\n",
              "      <td>-121</td>\n",
              "      <td>0</td>\n",
              "      <td>0</td>\n",
              "      <td>0</td>\n",
              "      <td>0</td>\n",
              "    </tr>\n",
              "    <tr>\n",
              "      <th>obj</th>\n",
              "      <td>0</td>\n",
              "      <td>0</td>\n",
              "      <td>0</td>\n",
              "      <td>0</td>\n",
              "      <td>0</td>\n",
              "      <td>0</td>\n",
              "      <td>1</td>\n",
              "      <td>0</td>\n",
              "      <td>0</td>\n",
              "      <td>1</td>\n",
              "      <td>...</td>\n",
              "      <td>0</td>\n",
              "      <td>0</td>\n",
              "      <td>0</td>\n",
              "      <td>0</td>\n",
              "      <td>0</td>\n",
              "      <td>0</td>\n",
              "      <td>1</td>\n",
              "      <td>2</td>\n",
              "      <td>2</td>\n",
              "      <td>0</td>\n",
              "    </tr>\n",
              "  </tbody>\n",
              "</table>\n",
              "<p>3 rows × 25 columns</p>\n",
              "</div>\n",
              "      <button class=\"colab-df-convert\" onclick=\"convertToInteractive('df-698ffc53-d9dc-489b-bb7a-697584e2f2a8')\"\n",
              "              title=\"Convert this dataframe to an interactive table.\"\n",
              "              style=\"display:none;\">\n",
              "        \n",
              "  <svg xmlns=\"http://www.w3.org/2000/svg\" height=\"24px\"viewBox=\"0 0 24 24\"\n",
              "       width=\"24px\">\n",
              "    <path d=\"M0 0h24v24H0V0z\" fill=\"none\"/>\n",
              "    <path d=\"M18.56 5.44l.94 2.06.94-2.06 2.06-.94-2.06-.94-.94-2.06-.94 2.06-2.06.94zm-11 1L8.5 8.5l.94-2.06 2.06-.94-2.06-.94L8.5 2.5l-.94 2.06-2.06.94zm10 10l.94 2.06.94-2.06 2.06-.94-2.06-.94-.94-2.06-.94 2.06-2.06.94z\"/><path d=\"M17.41 7.96l-1.37-1.37c-.4-.4-.92-.59-1.43-.59-.52 0-1.04.2-1.43.59L10.3 9.45l-7.72 7.72c-.78.78-.78 2.05 0 2.83L4 21.41c.39.39.9.59 1.41.59.51 0 1.02-.2 1.41-.59l7.78-7.78 2.81-2.81c.8-.78.8-2.07 0-2.86zM5.41 20L4 18.59l7.72-7.72 1.47 1.35L5.41 20z\"/>\n",
              "  </svg>\n",
              "      </button>\n",
              "      \n",
              "  <style>\n",
              "    .colab-df-container {\n",
              "      display:flex;\n",
              "      flex-wrap:wrap;\n",
              "      gap: 12px;\n",
              "    }\n",
              "\n",
              "    .colab-df-convert {\n",
              "      background-color: #E8F0FE;\n",
              "      border: none;\n",
              "      border-radius: 50%;\n",
              "      cursor: pointer;\n",
              "      display: none;\n",
              "      fill: #1967D2;\n",
              "      height: 32px;\n",
              "      padding: 0 0 0 0;\n",
              "      width: 32px;\n",
              "    }\n",
              "\n",
              "    .colab-df-convert:hover {\n",
              "      background-color: #E2EBFA;\n",
              "      box-shadow: 0px 1px 2px rgba(60, 64, 67, 0.3), 0px 1px 3px 1px rgba(60, 64, 67, 0.15);\n",
              "      fill: #174EA6;\n",
              "    }\n",
              "\n",
              "    [theme=dark] .colab-df-convert {\n",
              "      background-color: #3B4455;\n",
              "      fill: #D2E3FC;\n",
              "    }\n",
              "\n",
              "    [theme=dark] .colab-df-convert:hover {\n",
              "      background-color: #434B5C;\n",
              "      box-shadow: 0px 1px 3px 1px rgba(0, 0, 0, 0.15);\n",
              "      filter: drop-shadow(0px 1px 2px rgba(0, 0, 0, 0.3));\n",
              "      fill: #FFFFFF;\n",
              "    }\n",
              "  </style>\n",
              "\n",
              "      <script>\n",
              "        const buttonEl =\n",
              "          document.querySelector('#df-698ffc53-d9dc-489b-bb7a-697584e2f2a8 button.colab-df-convert');\n",
              "        buttonEl.style.display =\n",
              "          google.colab.kernel.accessAllowed ? 'block' : 'none';\n",
              "\n",
              "        async function convertToInteractive(key) {\n",
              "          const element = document.querySelector('#df-698ffc53-d9dc-489b-bb7a-697584e2f2a8');\n",
              "          const dataTable =\n",
              "            await google.colab.kernel.invokeFunction('convertToInteractive',\n",
              "                                                     [key], {});\n",
              "          if (!dataTable) return;\n",
              "\n",
              "          const docLinkHtml = 'Like what you see? Visit the ' +\n",
              "            '<a target=\"_blank\" href=https://colab.research.google.com/notebooks/data_table.ipynb>data table notebook</a>'\n",
              "            + ' to learn more about interactive tables.';\n",
              "          element.innerHTML = '';\n",
              "          dataTable['output_type'] = 'display_data';\n",
              "          await google.colab.output.renderOutput(dataTable, element);\n",
              "          const docLink = document.createElement('div');\n",
              "          docLink.innerHTML = docLinkHtml;\n",
              "          element.appendChild(docLink);\n",
              "        }\n",
              "      </script>\n",
              "    </div>\n",
              "  </div>\n",
              "  "
            ]
          },
          "metadata": {}
        },
        {
          "output_type": "stream",
          "name": "stdout",
          "text": [
            "(array([1, 2, 2, 0, 0, 0, 0, 0, 0, 0, 0, 0, 0, 0, 0, 0, 0, 0, 0, 1, 0, 0,\n",
            "       0, 0, 0], dtype=uint8), array([  0,   0,   0,   0,   0,  43,   0,   0,   0,   0,   0,   0,   0,\n",
            "         0,   0,   0,   0,   0,   0,   0, 135,   0,   0,   0,   0],\n",
            "      dtype=uint8), array([0, 0, 0, 0, 0, 0, 1, 0, 0, 1, 2, 2, 2, 0, 0, 0, 0, 0, 0, 0, 0, 1,\n",
            "       2, 2, 0], dtype=uint8))\n"
          ]
        }
      ],
      "source": [
        "tokens, labels = [], []\n",
        "\n",
        "for ann in annotations:\n",
        "    # Map triple arguments to BIO tagged masks\n",
        "    labels.append((triple_to_bio_tags(ann, 0, lookup),\n",
        "                   triple_to_bio_tags(ann, 1, lookup),\n",
        "                   triple_to_bio_tags(ann, 2, lookup)))\n",
        "    \n",
        "    # Flatten turn sequence\n",
        "    tokens.append([t for ts in ann['tokens'] for t in ts + ['<eos>']])\n",
        "    \n",
        "# Show as BIO scheme\n",
        "i = random.randint(0, len(tokens) - 1)\n",
        "print(i) #572, 1075\n",
        "i = 1075\n",
        "display(pd.DataFrame(labels[i], columns=tokens[i], index=['subj', 'pred', 'obj']))\n",
        "print(labels[i])"
      ]
    },
    {
      "cell_type": "code",
      "execution_count": null,
      "metadata": {
        "id": "iscCDijmg36K"
      },
      "outputs": [],
      "source": [
        "tagging = []\n",
        "for label in labels:\n",
        "  # print(label)\n",
        "  for i in label:\n",
        "    for j in i:\n",
        "      tagging.append(j)\n",
        "\n",
        "print(len(set(sorted(tagging))), set(sorted(tagging)))"
      ]
    },
    {
      "cell_type": "code",
      "execution_count": null,
      "metadata": {
        "id": "K9lIqZvzKlDF"
      },
      "outputs": [],
      "source": [
        "import re\n",
        "\n",
        "def bio_tags_to_tokens(tokens, mask, bio_lookup, predicate=False, one_hot=False):\n",
        "    \"\"\" Converts a vector of BIO-tags into spans of tokens. If BIO-tags are one-hot encoded,\n",
        "        one_hot=True will first perform an argmax to obtain the BIO labels.\n",
        "\n",
        "        params:\n",
        "        list tokens:    list of subwords or tokens (as tokenized by Albert/AutoTokenizer)\n",
        "        ndarray mask:   list of bio labels (one for each subword or token in 'tokens')\n",
        "        bool one_hot:   whether to interpret mask as a one-hot encoded sequence of shape |sequence|x3\n",
        "    \"\"\"\n",
        "    out = []\n",
        "    span = []\n",
        "    for i, token in enumerate(tokens):\n",
        "        pred = mask[i]\n",
        "\n",
        "        # Reverse one-hot encoding (optional)\n",
        "        if one_hot:\n",
        "            pred = np.argmax(pred)\n",
        "\n",
        "        if pred %2 == 1:  # B \n",
        "\n",
        "            if predicate: # B\n",
        "                abstr_pred = bio_lookup[pred]\n",
        "                out.append(abstr_pred)\n",
        "            else:  \n",
        "                span = re.sub('[^\\w\\d\\-\\']+', ' ', ''.join(span)).strip()\n",
        "                out.append(span)\n",
        "                span = [token]\n",
        "\n",
        "        elif pred != 0 and pred % 2 == 0:  # I\n",
        "            if predicate:\n",
        "                continue\n",
        "            else:  \n",
        "                span.append(token)\n",
        "\n",
        "    if span:\n",
        "        span = re.sub('[^\\w\\d\\-\\']+', ' ', ''.join(span)).strip()\n",
        "        out.append(span)\n",
        "\n",
        "    # Remove empty strings and duplicates\n",
        "    return set([span for span in out if span.strip()])"
      ]
    },
    {
      "cell_type": "code",
      "execution_count": null,
      "metadata": {
        "colab": {
          "base_uri": "https://localhost:8080/"
        },
        "id": "KvPSuk30DGOs",
        "outputId": "6e47cadf-4f04-48a8-95bc-32e4bf4447a8"
      },
      "outputs": [
        {
          "output_type": "stream",
          "name": "stdout",
          "text": [
            "1075\n",
            "the newest show that just got leaked <eos> what another celebrity sex tape ? <eos> no not at all it 's a fantasy show <eos>\n",
            "\n",
            "Subjects:\n",
            "{'the newest show', 'it'}\n",
            "\n",
            "Predicates:\n",
            "{'be about', 'get'}\n",
            "\n",
            "Objects:\n",
            "{'a fantasy show', 'another celebrity sex tape', 'leaked'}\n",
            "[1 2 2 0 0 0 0 0 0 0 0 0 0 0 0 0 0 0 0 1 0 0 0 0 0] \n",
            " [  0   0   0   0   0  43   0   0   0   0   0   0   0   0   0   0   0   0\n",
            "   0   0 135   0   0   0   0] \n",
            " [0 0 0 0 0 0 1 0 0 1 2 2 2 0 0 0 0 0 0 0 0 1 2 2 0]\n"
          ]
        }
      ],
      "source": [
        "i = random.randint(0, len(labels))\n",
        "i = 1075\n",
        "print(i)\n",
        "print(' '.join(tokens[i]) + '\\n')\n",
        "\n",
        "print('Subjects:')\n",
        "print(bio_tags_to_tokens(['+' + t for t in tokens[i]], labels[i][0], bio_lookup))\n",
        "\n",
        "print('\\nPredicates:')\n",
        "print(bio_tags_to_tokens(['+' + t for t in tokens[i]], labels[i][1], bio_lookup, predicate=True))\n",
        "\n",
        "print('\\nObjects:')\n",
        "print(bio_tags_to_tokens(['+' + t for t in tokens[i]], labels[i][2], bio_lookup))\n",
        "\n",
        "print(labels[i][0], \"\\n\",\n",
        "      labels[i][1], \"\\n\",\n",
        "      labels[i][2])"
      ]
    },
    {
      "cell_type": "markdown",
      "metadata": {
        "id": "XyJSJR_YBItT"
      },
      "source": [
        "# ALBERT"
      ]
    },
    {
      "cell_type": "markdown",
      "metadata": {
        "id": "zmHDBXSdD58b"
      },
      "source": [
        "## Setting up ALBERT for Argument Extraction - Subj, Pred, Obj\n",
        "\n",
        "Now we set up ALBERT with a token classification head for each of the arguments. To this end we will use PyTorch to create a small linear classifier for each argument which we can slide over the output of ALBERT to make a prediction for each token. To train other models, you should adapt this code so that it works with your model of choice."
      ]
    },
    {
      "cell_type": "code",
      "execution_count": null,
      "metadata": {
        "id": "LTzfnWdmEYE9"
      },
      "outputs": [],
      "source": [
        "%%capture \n",
        "!pip install transformers\n",
        "\n",
        "import torch\n",
        "from transformers import AutoTokenizer, AutoModel, AutoConfig\n",
        "from tqdm import tqdm\n",
        "import numpy as np\n",
        "import random\n",
        "from datetime import date"
      ]
    },
    {
      "cell_type": "code",
      "execution_count": null,
      "metadata": {
        "id": "RycF3DNjE5zg"
      },
      "outputs": [],
      "source": [
        "class ArgumentExtraction(torch.nn.Module):    # NOTE: don't hardcode output_dim\n",
        "    def __init__(self, base_model='albert-base-v2', path=None, output_dim = 161, sep='<eos>'): # You need to change the output_dim to the total number of BIO-tags (including 0,1,2)\n",
        "        \"\"\" Init model with multi-span extraction heads for SPO arguments.\n",
        "\n",
        "            params:\n",
        "            str base_model: Transformer architecture to use (default: albert-base-v2)\n",
        "            str path:       Path to pretrained model\n",
        "        \"\"\"\n",
        "        super().__init__()\n",
        "        print('loading %s for argument extraction' % base_model)\n",
        "        self._model = AutoModel.from_pretrained(base_model)\n",
        "        self._base = base_model\n",
        "        self._sep = sep\n",
        "\n",
        "        # Load and extend tokenizer with special SPEAKER tokens\n",
        "        self._tokenizer = AutoTokenizer.from_pretrained(base_model)\n",
        "        self._tokenizer.add_tokens(['SPEAKER1', 'SPEAKER2'], special_tokens=True)\n",
        "        print(len(self._tokenizer))\n",
        "        self._model.resize_token_embeddings(len(self._tokenizer))\n",
        "\n",
        "        # Add token classification heads\n",
        "        hidden_size = AutoConfig.from_pretrained(base_model).hidden_size\n",
        "        self._subj_head = torch.nn.Linear(hidden_size, output_dim)\n",
        "        self._pred_head = torch.nn.Linear(hidden_size, output_dim)\n",
        "        self._obj_head = torch.nn.Linear(hidden_size, output_dim)\n",
        "        self._output_dim = output_dim\n",
        "\n",
        "        self._relu = torch.nn.ReLU()\n",
        "        self._softmax = torch.nn.Softmax(dim=-1)\n",
        "\n",
        "        # Set GPU if available\n",
        "        self._device = torch.device('cuda') if torch.cuda.is_available() else torch.device('cpu')\n",
        "        self.to(self._device)\n",
        "\n",
        "        # Load model / tokenizer if pretrained model is given\n",
        "        if path:\n",
        "            print('\\t- Loading pretrained')\n",
        "            model_path = glob.glob(path + '/argument_extraction_' + base_model)[0]\n",
        "            self.load_state_dict(torch.load(model_path, map_location=self._device))\n",
        "\n",
        "    def forward(self, input_ids, speaker_ids):\n",
        "        \"\"\" Computes BIO label probabilities for each token\n",
        "        \"\"\"\n",
        "        # Feed dialog through transformer\n",
        "        y = self._model(input_ids=input_ids, token_type_ids=speaker_ids)\n",
        "        h = self._relu(y.last_hidden_state)\n",
        "\n",
        "        # Predict spans\n",
        "        y_subj = self._softmax(self._subj_head(h))\n",
        "        y_pred = self._softmax(self._pred_head(h))\n",
        "        y_obj_ = self._softmax(self._obj_head(h))\n",
        "\n",
        "        # Permute output as tensor of shape (N, |C|, seq_len)\n",
        "        y_subj = y_subj.permute(0, 2, 1)\n",
        "        y_pred = y_pred.permute(0, 2, 1)\n",
        "        y_obj_ = y_obj_.permute(0, 2, 1)\n",
        "        # print(y_subj)\n",
        "        return y_subj, y_pred, y_obj_\n",
        "\n",
        "    def _retokenize_tokens(self, tokens):\n",
        "        # Tokenize each token individually (keeping track of subwords)\n",
        "        input_ids = [[self._tokenizer.cls_token_id]]\n",
        "        for t in tokens:\n",
        "            if t != '<eos>':\n",
        "                input_ids.append(self._tokenizer.encode(t, add_special_tokens=False))\n",
        "            else:\n",
        "                input_ids.append([self._tokenizer.eos_token_id])\n",
        "\n",
        "        # Flatten input_ids\n",
        "        f_input_ids = torch.LongTensor([[i for ids in input_ids for i in ids]]).to(self._device)\n",
        "\n",
        "        # Determine how often we need to repeat the labels\n",
        "        repeats = [len(ids) for ids in input_ids]\n",
        "\n",
        "        # Set speaker IDs\n",
        "        speaker_ids = [0] + [tokens[:i + 1].count(self._sep) % 2 for i in range(len(tokens))][:-1]  # TODO: make pretty\n",
        "        speaker_ids = self._repeat_speaker_ids(speaker_ids, repeats)\n",
        "\n",
        "        return f_input_ids, speaker_ids, repeats\n",
        "\n",
        "    def _repeat_speaker_ids(self, speaker_ids, repeats):\n",
        "        \"\"\" Repeats speaker IDs for oov tokens.\n",
        "        \"\"\"\n",
        "        rep_speaker_ids = np.repeat([0] + list(speaker_ids), repeats=repeats)\n",
        "        return torch.LongTensor([rep_speaker_ids]).to(self._device)\n",
        "\n",
        "    def _repeat_labels(self, labels, repeats):\n",
        "        \"\"\" Repeats BIO labels for OOV tokens. Ensure B-labeled tokens are repeated\n",
        "            as B-I-I etc.\n",
        "        \"\"\"\n",
        "        # Repeat each label b the amount of subwords per token\n",
        "        rep_labels = []\n",
        "        for label, rep in zip([0] + list(labels), repeats):\n",
        "            # Outside\n",
        "            if label == 0:\n",
        "                rep_labels += [label] * rep\n",
        "            # Beginning + Inside\n",
        "            elif label % 2 == 1:    # uneven labels are B-tags\n",
        "                rep_labels += [label] + ([label+1] * (rep - 1))  # If label = B -> B-I-I-I...\n",
        "            else: \n",
        "                rep_labels += [label] + ([label] * (rep - 1)) # if label = I, do not add 1 but keep the same \n",
        "        return torch.LongTensor([rep_labels]).to(self._device)\n",
        "\n",
        "    def fit(self, tokens, labels, epochs=2, lr=1e-5, weight=800):\n",
        "        \"\"\" Fits the model to the annotations\n",
        "        \"\"\"\n",
        "        # Re-tokenize to obtain input_ids and associated labels\n",
        "        X = []\n",
        "        for token_seq, (subj_labels, pred_labels, _obj_labels) in zip(tokens, labels):\n",
        "            input_ids, speaker_ids, repeats = self._retokenize_tokens(token_seq)\n",
        "            subj_labels = self._repeat_labels(subj_labels, repeats)  # repeat when split into subwords\n",
        "            pred_labels = self._repeat_labels(pred_labels, repeats)\n",
        "            _obj_labels = self._repeat_labels(_obj_labels, repeats)\n",
        "            X.append((input_ids, speaker_ids, subj_labels, pred_labels, _obj_labels))\n",
        "\n",
        "        # Set up optimizer\n",
        "        optim = torch.optim.AdamW(self.parameters(), lr=lr)\n",
        "\n",
        "        # Higher weight for B- and I-tags to account for class imbalance\n",
        "        class_weights = torch.Tensor([1] + [weight] * (self._output_dim - 1)).to(self._device)\n",
        "        criterion = torch.nn.CrossEntropyLoss(weight=class_weights)\n",
        "\n",
        "        print('Training!')\n",
        "        for epoch in range(epochs):\n",
        "            losses = []\n",
        "            random.shuffle(X)\n",
        "            for input_ids, speaker_ids, subj_y, pred_y, obj_y in tqdm(X):\n",
        "                # Forward pass\n",
        "                subj_y_hat, pred_y_hat, obj_y_hat = self(input_ids, speaker_ids)\n",
        "\n",
        "                # Compute loss\n",
        "                loss = criterion(subj_y_hat, subj_y)\n",
        "                loss += criterion(pred_y_hat, pred_y)\n",
        "                loss += criterion(obj_y_hat, obj_y)\n",
        "                losses.append(loss.item())\n",
        "\n",
        "                optim.zero_grad()\n",
        "                loss.backward()\n",
        "                optim.step()\n",
        "\n",
        "            print(\"mean loss =\", np.mean(losses))\n",
        "\n",
        "        # Save model to file\n",
        "        torch.save(self.state_dict(), 'argument_extraction_%s' % self._base)\n",
        "\n",
        "    def predict(self, token_seq):\n",
        "        \"\"\" Predicts \"\"\"\n",
        "        # Retokenize token sequence\n",
        "        input_ids, speaker_ids, _ = self._retokenize_tokens(token_seq)\n",
        "\n",
        "        # Invert tokenization for viewing\n",
        "        subwords = self._tokenizer.convert_ids_to_tokens(input_ids[0])\n",
        "\n",
        "        # Forward-pass\n",
        "        predictions = self(input_ids, speaker_ids)\n",
        "        subjs = predictions[0].cpu().detach().numpy()[0]\n",
        "        preds = predictions[1].cpu().detach().numpy()[0]\n",
        "        objs = predictions[2].cpu().detach().numpy()[0]\n",
        "\n",
        "        return subjs, preds, objs, subwords"
      ]
    },
    {
      "cell_type": "code",
      "execution_count": null,
      "metadata": {
        "id": "IJ12ebtNF9cJ"
      },
      "outputs": [],
      "source": [
        "# !kill -9 -1"
      ]
    },
    {
      "cell_type": "code",
      "execution_count": null,
      "metadata": {
        "colab": {
          "base_uri": "https://localhost:8080/"
        },
        "id": "8YSOXXZ-8aW2",
        "outputId": "a37e1a19-d516-4737-eb9d-08d56e349b57"
      },
      "outputs": [
        {
          "output_type": "stream",
          "name": "stdout",
          "text": [
            "loading albert-base-v2 for argument extraction\n",
            "30002\n",
            "Training!\n"
          ]
        },
        {
          "output_type": "stream",
          "name": "stderr",
          "text": [
            "100%|██████████| 1117/1117 [00:45<00:00, 24.48it/s]\n"
          ]
        },
        {
          "output_type": "stream",
          "name": "stdout",
          "text": [
            "mean loss = 13.635485337478515\n"
          ]
        },
        {
          "output_type": "stream",
          "name": "stderr",
          "text": [
            "100%|██████████| 1117/1117 [00:42<00:00, 26.51it/s]\n"
          ]
        },
        {
          "output_type": "stream",
          "name": "stdout",
          "text": [
            "mean loss = 13.152230007475577\n"
          ]
        },
        {
          "output_type": "stream",
          "name": "stderr",
          "text": [
            "100%|██████████| 1117/1117 [00:34<00:00, 32.19it/s]\n"
          ]
        },
        {
          "output_type": "stream",
          "name": "stdout",
          "text": [
            "mean loss = 13.0836987089876\n"
          ]
        },
        {
          "output_type": "stream",
          "name": "stderr",
          "text": [
            "100%|██████████| 1117/1117 [00:36<00:00, 30.49it/s]\n"
          ]
        },
        {
          "output_type": "stream",
          "name": "stdout",
          "text": [
            "mean loss = 13.046468474337749\n"
          ]
        },
        {
          "output_type": "stream",
          "name": "stderr",
          "text": [
            "100%|██████████| 1117/1117 [00:35<00:00, 31.68it/s]\n"
          ]
        },
        {
          "output_type": "stream",
          "name": "stdout",
          "text": [
            "mean loss = 13.03992255713754\n"
          ]
        },
        {
          "output_type": "stream",
          "name": "stderr",
          "text": [
            "100%|██████████| 1117/1117 [00:35<00:00, 31.66it/s]\n"
          ]
        },
        {
          "output_type": "stream",
          "name": "stdout",
          "text": [
            "mean loss = 13.028891769176951\n"
          ]
        },
        {
          "output_type": "stream",
          "name": "stderr",
          "text": [
            "100%|██████████| 1117/1117 [00:35<00:00, 31.86it/s]\n"
          ]
        },
        {
          "output_type": "stream",
          "name": "stdout",
          "text": [
            "mean loss = 13.014455479388804\n"
          ]
        }
      ],
      "source": [
        "model_albert_base = ArgumentExtraction()  \n",
        "model_albert_base.fit(tokens, labels, epochs=7)"
      ]
    },
    {
      "cell_type": "code",
      "execution_count": null,
      "metadata": {
        "id": "HrkYSzSdXx4n"
      },
      "outputs": [],
      "source": [
        "model_save_name = 'classifier_141222.pt'\n",
        "\n",
        "torch.save(model_albert_base, F\"/content/gdrive/MyDrive/Combots Triple Extraction and Normalization/models/{model_save_name}\")"
      ]
    },
    {
      "cell_type": "code",
      "source": [
        "# model_albert_base = torch.load(\"/content/gdrive/MyDrive/Combots Triple Extraction and Normalization/models/classifier_141222.pt\")"
      ],
      "metadata": {
        "id": "da3UDmCs8jqk"
      },
      "execution_count": null,
      "outputs": []
    },
    {
      "cell_type": "markdown",
      "metadata": {
        "id": "VU9wc9r0E8K3"
      },
      "source": [
        "## Putting It All Together\n",
        "\n",
        "Below you can see the token assignments with the BIO scheme to SPO arguments"
      ]
    },
    {
      "cell_type": "code",
      "execution_count": null,
      "metadata": {
        "id": "vA_k8BgQ0iJu",
        "colab": {
          "base_uri": "https://localhost:8080/"
        },
        "outputId": "9b04344d-1ec8-4219-e0f5-ed7d76901be2"
      },
      "outputs": [
        {
          "output_type": "stream",
          "name": "stdout",
          "text": [
            "\n",
            " Subject\n",
            "['0', '1', '2', '3', '4', '5', '6', '7', '8', '9', '10', '11', '12', '13', '14', '15', '16', '17', '18', '19', '20', '21', '22', '23', '24', '25', '26', '27', '28', '29', '30', '31', '32', '33', '34', '35', '36', '37', '38', '39', '40', '41', '42', '43', '44', '45', '46', '47', '48', '49', '50', '51', '52', '53', '54', '55', '56', '57', '58', '59', '60', '61', '62', '63', '64', '65', '66', '67', '68', '69', '70', '71', '72', '73', '74', '75', '76', '77', '78', '79', '80', '81', '82', '83', '84', '85', '86', '87', '88', '89', '90', '91', '92', '93', '94', '95', '96', '97', '98', '99', '100', '101', '102', '103', '104', '105', '106', '107', '108', '109', '110', '111', '112', '113', '114', '115', '116', '117', '118', '119', '120', '121', '122', '123', '124', '125', '126', '127', '128', '129', '130', '131', '132', '133', '134', '135', '136', '137', '138', '139', '140', '141', '142', '143', '144', '145', '146', '147', '148', '149', '150', '151', '152', '153', '154', '155', '156', '157', '158', '159', '160', '161', '162', '163', '164', '165', '166', '167', '168', '169', '170', '171', '172', '173', '174', '175', '176', '177', '178']\n",
            "[0.948]\t 0.027 \t 0.021 \t 0.0 \t 0.0 \t 0.0 \t 0.0 \t 0.0 \t 0.0 \t 0.0 \t 0.0 \t 0.0 \t 0.0 \t 0.0 \t 0.0 \t 0.0 \t 0.0 \t 0.0 \t 0.0 \t 0.0 \t 0.0 \t 0.0 \t 0.0 \t 0.0 \t 0.0 \t 0.0 \t 0.0 \t 0.0 \t 0.0 \t 0.0 \t 0.0 \t 0.0 \t 0.0 \t 0.0 \t 0.0 \t 0.0 \t 0.0 \t 0.0 \t 0.0 \t 0.0 \t 0.0 \t 0.0 \t 0.0 \t 0.0 \t 0.0 \t 0.0 \t 0.0 \t 0.0 \t 0.0 \t 0.0 \t 0.0 \t 0.0 \t 0.0 \t 0.0 \t 0.0 \t 0.0 \t 0.0 \t 0.0 \t 0.0 \t 0.0 \t 0.0 \t 0.0 \t 0.0 \t 0.0 \t 0.0 \t 0.0 \t 0.0 \t 0.0 \t 0.0 \t 0.0 \t 0.0 \t 0.0 \t 0.0 \t 0.0 \t 0.0 \t 0.0 \t 0.0 \t 0.0 \t 0.0 \t 0.0 \t 0.0 \t 0.0 \t 0.0 \t 0.0 \t 0.0 \t 0.0 \t 0.0 \t 0.0 \t 0.0 \t 0.0 \t 0.0 \t 0.0 \t 0.0 \t 0.0 \t 0.0 \t 0.0 \t 0.0 \t 0.0 \t 0.0 \t 0.0 \t 0.0 \t 0.0 \t 0.0 \t 0.0 \t 0.0 \t 0.0 \t 0.0 \t 0.0 \t 0.0 \t 0.0 \t 0.0 \t 0.0 \t 0.0 \t 0.0 \t 0.0 \t 0.0 \t 0.0 \t 0.0 \t 0.0 \t 0.0 \t 0.0 \t 0.0 \t 0.0 \t 0.0 \t 0.0 \t 0.0 \t 0.0 \t 0.0 \t 0.0 \t 0.0 \t 0.0 \t 0.0 \t 0.0 \t 0.0 \t 0.0 \t 0.0 \t 0.0 \t 0.0 \t 0.0 \t 0.0 \t 0.0 \t 0.0 \t 0.0 \t 0.0 \t 0.0 \t 0.0 \t 0.0 \t 0.0 \t 0.0 \t 0.0 \t 0.0 \t 0.0 \t 0.0 \t 0.0 \t 0.0 \t 0.0 \t 0.0 \t 0.0 \t 0.0 \t 0.0 \t 0.0  [CLS]\n",
            " 1e-04 \t[0.999]\t 0.0 \t 0.0 \t 0.0 \t 0.0 \t 0.0 \t 0.0 \t 0.0 \t 0.0 \t 0.0 \t 0.0 \t 0.0 \t 0.0 \t 0.0 \t 0.0 \t 0.0 \t 0.0 \t 0.0 \t 0.0 \t 0.0 \t 0.0 \t 0.0 \t 0.0 \t 0.0 \t 0.0 \t 0.0 \t 0.0 \t 0.0 \t 0.0 \t 0.0 \t 0.0 \t 0.0 \t 0.0 \t 0.0 \t 0.0 \t 0.0 \t 0.0 \t 0.0 \t 0.0 \t 0.0 \t 0.0 \t 0.0 \t 0.0 \t 0.0 \t 0.0 \t 0.0 \t 0.0 \t 0.0 \t 0.0 \t 0.0 \t 0.0 \t 0.0 \t 0.0 \t 0.0 \t 0.0 \t 0.0 \t 0.0 \t 0.0 \t 0.0 \t 0.0 \t 0.0 \t 0.0 \t 0.0 \t 0.0 \t 0.0 \t 0.0 \t 0.0 \t 0.0 \t 0.0 \t 0.0 \t 0.0 \t 0.0 \t 0.0 \t 0.0 \t 0.0 \t 0.0 \t 0.0 \t 0.0 \t 0.0 \t 0.0 \t 0.0 \t 0.0 \t 0.0 \t 0.0 \t 0.0 \t 0.0 \t 0.0 \t 0.0 \t 0.0 \t 0.0 \t 0.0 \t 0.0 \t 0.0 \t 0.0 \t 0.0 \t 0.0 \t 0.0 \t 0.0 \t 0.0 \t 0.0 \t 0.0 \t 0.0 \t 0.0 \t 0.0 \t 0.0 \t 0.0 \t 0.0 \t 0.0 \t 0.0 \t 0.0 \t 0.0 \t 0.0 \t 0.0 \t 0.0 \t 0.0 \t 0.0 \t 0.0 \t 0.0 \t 0.0 \t 0.0 \t 0.0 \t 0.0 \t 0.0 \t 0.0 \t 0.0 \t 0.0 \t 0.0 \t 0.0 \t 0.0 \t 0.0 \t 0.0 \t 0.0 \t 0.0 \t 0.0 \t 0.0 \t 0.0 \t 0.0 \t 0.0 \t 0.0 \t 0.0 \t 0.0 \t 0.0 \t 0.0 \t 0.0 \t 0.0 \t 0.0 \t 0.0 \t 0.0 \t 0.0 \t 0.0 \t 0.0 \t 0.0 \t 0.0 \t 0.0 \t 0.0 \t 0.0 \t 0.0 \t 0.0 \t 0.0 \t 0.0  SPEAKER1\n",
            " 0.000 \t[0.998]\t 0.000 \t 0.0 \t 0.0 \t 0.0 \t 0.0 \t 0.0 \t 0.0 \t 0.0 \t 0.0 \t 0.0 \t 0.0 \t 0.0 \t 0.0 \t 0.0 \t 0.0 \t 0.0 \t 0.0 \t 0.0 \t 0.0 \t 0.0 \t 0.0 \t 0.0 \t 0.0 \t 0.0 \t 0.0 \t 0.0 \t 0.0 \t 0.0 \t 0.0 \t 0.0 \t 0.0 \t 0.0 \t 0.0 \t 0.0 \t 0.0 \t 0.0 \t 0.0 \t 0.0 \t 0.0 \t 0.0 \t 0.0 \t 0.0 \t 0.0 \t 0.0 \t 0.0 \t 0.0 \t 0.0 \t 0.0 \t 0.0 \t 0.0 \t 0.0 \t 0.0 \t 0.0 \t 0.0 \t 0.0 \t 0.0 \t 0.0 \t 0.0 \t 0.0 \t 0.0 \t 0.0 \t 0.0 \t 0.0 \t 0.0 \t 0.0 \t 0.0 \t 0.0 \t 0.0 \t 0.0 \t 0.0 \t 0.0 \t 0.0 \t 0.0 \t 0.0 \t 0.0 \t 0.0 \t 0.0 \t 0.0 \t 0.0 \t 0.0 \t 0.0 \t 0.0 \t 0.0 \t 0.0 \t 0.0 \t 0.0 \t 0.0 \t 0.0 \t 0.0 \t 0.0 \t 0.0 \t 0.0 \t 0.0 \t 0.0 \t 0.0 \t 0.0 \t 0.0 \t 0.0 \t 0.0 \t 0.0 \t 0.0 \t 0.0 \t 0.0 \t 0.0 \t 0.0 \t 0.0 \t 0.0 \t 0.0 \t 0.0 \t 0.0 \t 0.0 \t 0.0 \t 0.0 \t 0.0 \t 0.0 \t 0.0 \t 0.0 \t 0.0 \t 0.0 \t 0.0 \t 0.0 \t 0.0 \t 0.0 \t 0.0 \t 0.0 \t 0.0 \t 0.0 \t 0.0 \t 0.0 \t 0.0 \t 0.0 \t 0.0 \t 0.0 \t 0.0 \t 0.0 \t 0.0 \t 0.0 \t 0.0 \t 0.0 \t 0.0 \t 0.0 \t 0.0 \t 0.0 \t 0.0 \t 0.0 \t 0.0 \t 0.0 \t 0.0 \t 0.0 \t 0.0 \t 0.0 \t 0.0 \t 0.0 \t 0.0 \t 0.0 \t 0.0 \t 0.0 \t 0.0 \t 0.0  enjoy\n",
            " 0.002 \t[0.996]\t 0.000 \t 0.0 \t 0.0 \t 0.0 \t 0.0 \t 0.0 \t 0.0 \t 0.0 \t 0.0 \t 0.0 \t 0.0 \t 0.0 \t 0.0 \t 0.0 \t 0.0 \t 0.0 \t 0.0 \t 0.0 \t 0.0 \t 0.0 \t 0.0 \t 0.0 \t 0.0 \t 0.0 \t 0.0 \t 0.0 \t 0.0 \t 0.0 \t 0.0 \t 0.0 \t 0.0 \t 0.0 \t 0.0 \t 0.0 \t 0.0 \t 0.0 \t 0.0 \t 0.0 \t 0.0 \t 0.0 \t 0.0 \t 0.0 \t 0.0 \t 0.0 \t 0.0 \t 0.0 \t 0.0 \t 0.0 \t 0.0 \t 0.0 \t 0.0 \t 0.0 \t 0.0 \t 0.0 \t 0.0 \t 0.0 \t 0.0 \t 0.0 \t 0.0 \t 0.0 \t 0.0 \t 0.0 \t 0.0 \t 0.0 \t 0.0 \t 0.0 \t 0.0 \t 0.0 \t 0.0 \t 0.0 \t 0.0 \t 0.0 \t 0.0 \t 0.0 \t 0.0 \t 0.0 \t 0.0 \t 0.0 \t 0.0 \t 0.0 \t 0.0 \t 0.0 \t 0.0 \t 0.0 \t 0.0 \t 0.0 \t 0.0 \t 0.0 \t 0.0 \t 0.0 \t 0.0 \t 0.0 \t 0.0 \t 0.0 \t 0.0 \t 0.0 \t 0.0 \t 0.0 \t 0.0 \t 0.0 \t 0.0 \t 0.0 \t 0.0 \t 0.0 \t 0.0 \t 0.0 \t 0.0 \t 0.0 \t 0.0 \t 0.0 \t 0.0 \t 0.0 \t 0.0 \t 0.0 \t 0.0 \t 0.0 \t 0.0 \t 0.0 \t 0.0 \t 0.0 \t 0.0 \t 0.0 \t 0.0 \t 0.0 \t 0.0 \t 0.0 \t 0.0 \t 0.0 \t 0.0 \t 0.0 \t 0.0 \t 0.0 \t 0.0 \t 0.0 \t 0.0 \t 0.0 \t 0.0 \t 0.0 \t 0.0 \t 0.0 \t 0.0 \t 0.0 \t 0.0 \t 0.0 \t 0.0 \t 0.0 \t 0.0 \t 0.0 \t 0.0 \t 0.0 \t 0.0 \t 0.0 \t 0.0 \t 0.0 \t 0.0 \t 0.0 \t 0.0 \t 0.0 \t 0.0  watching\n",
            " 0.000 \t 1e-04 \t[0.999]\t 0.0 \t 0.0 \t 0.0 \t 0.0 \t 0.0 \t 0.0 \t 0.0 \t 0.0 \t 0.0 \t 0.0 \t 0.0 \t 0.0 \t 0.0 \t 0.0 \t 0.0 \t 0.0 \t 0.0 \t 0.0 \t 0.0 \t 0.0 \t 0.0 \t 0.0 \t 0.0 \t 0.0 \t 0.0 \t 0.0 \t 0.0 \t 0.0 \t 0.0 \t 0.0 \t 0.0 \t 0.0 \t 0.0 \t 0.0 \t 0.0 \t 0.0 \t 0.0 \t 0.0 \t 0.0 \t 0.0 \t 0.0 \t 0.0 \t 0.0 \t 0.0 \t 0.0 \t 0.0 \t 0.0 \t 0.0 \t 0.0 \t 0.0 \t 0.0 \t 0.0 \t 0.0 \t 0.0 \t 0.0 \t 0.0 \t 0.0 \t 0.0 \t 0.0 \t 0.0 \t 0.0 \t 0.0 \t 0.0 \t 0.0 \t 0.0 \t 0.0 \t 0.0 \t 0.0 \t 0.0 \t 0.0 \t 0.0 \t 0.0 \t 0.0 \t 0.0 \t 0.0 \t 0.0 \t 0.0 \t 0.0 \t 0.0 \t 0.0 \t 0.0 \t 0.0 \t 0.0 \t 0.0 \t 0.0 \t 0.0 \t 0.0 \t 0.0 \t 0.0 \t 0.0 \t 0.0 \t 0.0 \t 0.0 \t 0.0 \t 0.0 \t 0.0 \t 0.0 \t 0.0 \t 0.0 \t 0.0 \t 0.0 \t 0.0 \t 0.0 \t 0.0 \t 0.0 \t 0.0 \t 0.0 \t 0.0 \t 0.0 \t 0.0 \t 0.0 \t 0.0 \t 0.0 \t 0.0 \t 0.0 \t 0.0 \t 0.0 \t 0.0 \t 0.0 \t 0.0 \t 0.0 \t 0.0 \t 0.0 \t 0.0 \t 0.0 \t 0.0 \t 0.0 \t 0.0 \t 0.0 \t 0.0 \t 0.0 \t 0.0 \t 0.0 \t 0.0 \t 0.0 \t 0.0 \t 0.0 \t 0.0 \t 0.0 \t 0.0 \t 0.0 \t 0.0 \t 0.0 \t 0.0 \t 0.0 \t 0.0 \t 0.0 \t 0.0 \t 0.0 \t 0.0 \t 0.0 \t 0.0 \t 0.0 \t 0.0 \t 0.0 \t 0.0 \t 0.0 \t 0.0  american\n",
            " 0.000 \t 1e-04 \t[0.999]\t 0.0 \t 0.0 \t 0.0 \t 0.0 \t 0.0 \t 0.0 \t 0.0 \t 0.0 \t 0.0 \t 0.0 \t 0.0 \t 0.0 \t 0.0 \t 0.0 \t 0.0 \t 0.0 \t 0.0 \t 0.0 \t 0.0 \t 0.0 \t 0.0 \t 0.0 \t 0.0 \t 0.0 \t 0.0 \t 0.0 \t 0.0 \t 0.0 \t 0.0 \t 0.0 \t 0.0 \t 0.0 \t 0.0 \t 0.0 \t 0.0 \t 0.0 \t 0.0 \t 0.0 \t 0.0 \t 0.0 \t 0.0 \t 0.0 \t 0.0 \t 0.0 \t 0.0 \t 0.0 \t 0.0 \t 0.0 \t 0.0 \t 0.0 \t 0.0 \t 0.0 \t 0.0 \t 0.0 \t 0.0 \t 0.0 \t 0.0 \t 0.0 \t 0.0 \t 0.0 \t 0.0 \t 0.0 \t 0.0 \t 0.0 \t 0.0 \t 0.0 \t 0.0 \t 0.0 \t 0.0 \t 0.0 \t 0.0 \t 0.0 \t 0.0 \t 0.0 \t 0.0 \t 0.0 \t 0.0 \t 0.0 \t 0.0 \t 0.0 \t 0.0 \t 0.0 \t 0.0 \t 0.0 \t 0.0 \t 0.0 \t 0.0 \t 0.0 \t 0.0 \t 0.0 \t 0.0 \t 0.0 \t 0.0 \t 0.0 \t 0.0 \t 0.0 \t 0.0 \t 0.0 \t 0.0 \t 0.0 \t 0.0 \t 0.0 \t 0.0 \t 0.0 \t 0.0 \t 0.0 \t 0.0 \t 0.0 \t 0.0 \t 0.0 \t 0.0 \t 0.0 \t 0.0 \t 0.0 \t 0.0 \t 0.0 \t 0.0 \t 0.0 \t 0.0 \t 0.0 \t 0.0 \t 0.0 \t 0.0 \t 0.0 \t 0.0 \t 0.0 \t 0.0 \t 0.0 \t 0.0 \t 0.0 \t 0.0 \t 0.0 \t 0.0 \t 0.0 \t 0.0 \t 0.0 \t 0.0 \t 0.0 \t 0.0 \t 0.0 \t 0.0 \t 0.0 \t 0.0 \t 0.0 \t 0.0 \t 0.0 \t 0.0 \t 0.0 \t 0.0 \t 0.0 \t 0.0 \t 0.0 \t 0.0 \t 0.0 \t 0.0 \t 0.0 \t 0.0 \t 0.0  football\n",
            "[0.719]\t 0.113 \t 0.159 \t 0.0 \t 0.0 \t 0.000 \t 0.0 \t 1e-04 \t 0.0 \t 1e-04 \t 1e-04 \t 0.0 \t 0.0 \t 0.0 \t 1e-04 \t 1e-04 \t 0.0 \t 0.0 \t 1e-04 \t 0.0 \t 1e-04 \t 0.0 \t 0.0 \t 0.0 \t 1e-04 \t 0.0 \t 0.0 \t 1e-04 \t 1e-04 \t 0.0 \t 0.0 \t 0.0 \t 0.0 \t 1e-04 \t 1e-04 \t 1e-04 \t 0.0 \t 1e-04 \t 1e-04 \t 0.0 \t 0.0 \t 0.0 \t 0.0 \t 1e-04 \t 0.000 \t 0.0 \t 0.0 \t 1e-04 \t 0.0 \t 0.0 \t 1e-04 \t 0.0 \t 1e-04 \t 1e-04 \t 0.0 \t 0.0 \t 0.0 \t 1e-04 \t 0.0 \t 1e-04 \t 1e-04 \t 0.0 \t 0.0 \t 0.0 \t 0.0 \t 0.000 \t 0.0 \t 0.0 \t 1e-04 \t 0.0 \t 0.0 \t 1e-04 \t 0.0 \t 0.0 \t 0.0 \t 0.0 \t 0.0 \t 0.0 \t 0.0 \t 1e-04 \t 1e-04 \t 1e-04 \t 0.0 \t 1e-04 \t 0.0 \t 1e-04 \t 0.0 \t 0.0 \t 0.0 \t 0.0 \t 1e-04 \t 0.0 \t 0.0 \t 0.0 \t 0.0 \t 0.000 \t 1e-04 \t 0.0 \t 0.0 \t 0.0 \t 0.0 \t 1e-04 \t 0.0 \t 1e-04 \t 0.0 \t 0.0 \t 0.0 \t 1e-04 \t 0.0 \t 0.0 \t 1e-04 \t 1e-04 \t 1e-04 \t 0.0 \t 0.0 \t 0.0 \t 1e-04 \t 0.0 \t 1e-04 \t 0.0 \t 0.0 \t 1e-04 \t 0.0 \t 0.0 \t 0.0 \t 1e-04 \t 0.0 \t 1e-04 \t 0.0 \t 0.0 \t 1e-04 \t 0.0 \t 1e-04 \t 0.0 \t 0.0 \t 1e-04 \t 0.0 \t 0.0 \t 1e-04 \t 1e-04 \t 0.0 \t 1e-04 \t 1e-04 \t 1e-04 \t 1e-04 \t 0.0 \t 0.0 \t 1e-04 \t 0.0 \t 0.0 \t 0.0 \t 0.0 \t 1e-04 \t 1e-04 \t 0.0 \t 0.0 \t 0.0 \t 0.0 \t 1e-04 \t 0.0 \t 1e-04  but\n",
            " 0.045 \t[0.941]\t 0.008 \t 0.0 \t 0.0 \t 0.0 \t 0.0 \t 0.0 \t 0.0 \t 0.0 \t 0.0 \t 0.0 \t 0.0 \t 0.0 \t 1e-04 \t 0.0 \t 0.0 \t 0.0 \t 1e-04 \t 0.0 \t 0.0 \t 0.0 \t 0.0 \t 0.0 \t 0.0 \t 0.0 \t 0.0 \t 1e-04 \t 1e-04 \t 0.0 \t 0.0 \t 0.0 \t 0.0 \t 1e-04 \t 0.0 \t 0.0 \t 0.0 \t 0.0 \t 0.0 \t 0.0 \t 0.0 \t 0.0 \t 0.0 \t 0.0 \t 0.0 \t 0.0 \t 0.0 \t 0.0 \t 0.0 \t 1e-04 \t 0.0 \t 0.0 \t 0.0 \t 0.0 \t 0.0 \t 0.0 \t 0.0 \t 0.0 \t 0.0 \t 0.0 \t 0.0 \t 0.0 \t 0.0 \t 0.0 \t 0.0 \t 1e-04 \t 0.0 \t 0.0 \t 0.0 \t 0.0 \t 0.0 \t 0.0 \t 0.0 \t 0.0 \t 0.0 \t 0.0 \t 0.0 \t 0.0 \t 0.0 \t 0.0 \t 0.0 \t 0.0 \t 0.0 \t 0.0 \t 0.0 \t 0.0 \t 0.0 \t 0.0 \t 0.0 \t 0.0 \t 0.0 \t 0.0 \t 0.0 \t 0.0 \t 0.0 \t 1e-04 \t 1e-04 \t 0.0 \t 0.0 \t 0.0 \t 0.0 \t 0.0 \t 0.0 \t 0.0 \t 0.0 \t 0.0 \t 0.0 \t 0.0 \t 0.0 \t 0.0 \t 0.0 \t 0.0 \t 0.0 \t 0.0 \t 0.0 \t 0.0 \t 0.0 \t 0.0 \t 0.0 \t 0.0 \t 0.0 \t 0.0 \t 0.0 \t 0.0 \t 0.0 \t 1e-04 \t 1e-04 \t 0.0 \t 0.0 \t 0.0 \t 1e-04 \t 0.0 \t 0.0 \t 0.0 \t 0.0 \t 0.0 \t 0.0 \t 0.0 \t 0.0 \t 0.0 \t 0.0 \t 0.0 \t 1e-04 \t 1e-04 \t 0.0 \t 0.0 \t 0.0 \t 0.0 \t 0.0 \t 0.0 \t 0.0 \t 0.0 \t 0.0 \t 0.0 \t 0.0 \t 0.0 \t 0.0 \t 0.0 \t 0.0 \t 0.0 \t 0.0  don\n",
            " 0.003 \t 0.000 \t[0.995]\t 0.0 \t 0.0 \t 0.0 \t 0.0 \t 0.0 \t 0.0 \t 0.0 \t 0.0 \t 0.0 \t 0.0 \t 0.0 \t 0.0 \t 0.0 \t 0.0 \t 0.0 \t 0.0 \t 0.0 \t 0.0 \t 0.0 \t 0.0 \t 0.0 \t 0.0 \t 0.0 \t 0.0 \t 0.0 \t 0.0 \t 0.0 \t 0.0 \t 0.0 \t 0.0 \t 0.0 \t 0.0 \t 0.0 \t 0.0 \t 0.0 \t 0.0 \t 0.0 \t 0.0 \t 0.0 \t 0.0 \t 0.0 \t 0.0 \t 0.0 \t 0.0 \t 0.0 \t 0.0 \t 0.0 \t 0.0 \t 0.0 \t 0.0 \t 0.0 \t 0.0 \t 0.0 \t 0.0 \t 0.0 \t 0.0 \t 0.0 \t 0.0 \t 0.0 \t 0.0 \t 0.0 \t 0.0 \t 0.0 \t 0.0 \t 0.0 \t 0.0 \t 0.0 \t 0.0 \t 0.0 \t 0.0 \t 0.0 \t 0.0 \t 0.0 \t 0.0 \t 0.0 \t 0.0 \t 0.0 \t 0.0 \t 0.0 \t 0.0 \t 0.0 \t 0.0 \t 0.0 \t 0.0 \t 0.0 \t 0.0 \t 0.0 \t 0.0 \t 0.0 \t 0.0 \t 0.0 \t 0.0 \t 0.0 \t 0.0 \t 0.0 \t 0.0 \t 0.0 \t 0.0 \t 0.0 \t 0.0 \t 0.0 \t 0.0 \t 0.0 \t 0.0 \t 0.0 \t 0.0 \t 0.0 \t 0.0 \t 0.0 \t 0.0 \t 0.0 \t 0.0 \t 0.0 \t 0.0 \t 0.0 \t 0.0 \t 0.0 \t 0.0 \t 0.0 \t 0.0 \t 0.0 \t 0.0 \t 0.0 \t 0.0 \t 0.0 \t 0.0 \t 0.0 \t 0.0 \t 0.0 \t 0.0 \t 0.0 \t 0.0 \t 0.0 \t 0.0 \t 0.0 \t 0.0 \t 0.0 \t 0.0 \t 0.0 \t 0.0 \t 0.0 \t 0.0 \t 0.0 \t 0.0 \t 0.0 \t 0.0 \t 0.0 \t 0.0 \t 0.0 \t 0.0 \t 0.0 \t 0.0 \t 0.0 \t 0.0 \t 0.0 \t 0.0 \t 0.0 \t 0.0  '\n",
            "[0.699]\t 0.049 \t 0.241 \t 0.0 \t 1e-04 \t 1e-04 \t 1e-04 \t 0.000 \t 0.0 \t 1e-04 \t 0.0 \t 0.0 \t 1e-04 \t 0.0 \t 1e-04 \t 0.000 \t 1e-04 \t 0.0 \t 1e-04 \t 0.0 \t 1e-04 \t 0.0 \t 0.0 \t 1e-04 \t 1e-04 \t 1e-04 \t 0.0 \t 1e-04 \t 0.0 \t 0.0 \t 0.0 \t 0.0 \t 0.0 \t 0.0 \t 1e-04 \t 1e-04 \t 0.0 \t 0.0 \t 0.0 \t 0.0 \t 1e-04 \t 0.0 \t 0.0 \t 0.0 \t 0.000 \t 1e-04 \t 1e-04 \t 1e-04 \t 0.0 \t 1e-04 \t 1e-04 \t 1e-04 \t 1e-04 \t 1e-04 \t 0.0 \t 0.0 \t 1e-04 \t 0.000 \t 0.0 \t 1e-04 \t 1e-04 \t 0.0 \t 0.0 \t 1e-04 \t 0.0 \t 0.000 \t 1e-04 \t 1e-04 \t 1e-04 \t 0.0 \t 0.0 \t 1e-04 \t 0.0 \t 1e-04 \t 1e-04 \t 0.0 \t 0.0 \t 0.0 \t 1e-04 \t 1e-04 \t 1e-04 \t 1e-04 \t 0.0 \t 1e-04 \t 1e-04 \t 0.0 \t 0.0 \t 0.0 \t 1e-04 \t 0.0 \t 1e-04 \t 0.0 \t 1e-04 \t 0.0 \t 0.0 \t 0.000 \t 1e-04 \t 0.0 \t 1e-04 \t 0.0 \t 1e-04 \t 1e-04 \t 0.0 \t 1e-04 \t 1e-04 \t 0.0 \t 0.0 \t 1e-04 \t 0.0 \t 0.0 \t 1e-04 \t 1e-04 \t 1e-04 \t 0.0 \t 0.0 \t 1e-04 \t 1e-04 \t 1e-04 \t 1e-04 \t 0.0 \t 1e-04 \t 1e-04 \t 0.0 \t 1e-04 \t 0.0 \t 0.000 \t 0.0 \t 1e-04 \t 1e-04 \t 1e-04 \t 1e-04 \t 0.0 \t 0.0 \t 1e-04 \t 0.0 \t 1e-04 \t 0.0 \t 1e-04 \t 1e-04 \t 1e-04 \t 0.0 \t 0.000 \t 1e-04 \t 1e-04 \t 1e-04 \t 1e-04 \t 1e-04 \t 1e-04 \t 1e-04 \t 0.0 \t 0.0 \t 0.000 \t 1e-04 \t 1e-04 \t 1e-04 \t 1e-04 \t 1e-04 \t 1e-04 \t 1e-04 \t 1e-04 \t 1e-04  t\n",
            " 0.001 \t[0.997]\t 0.000 \t 0.0 \t 0.0 \t 0.0 \t 0.0 \t 0.0 \t 0.0 \t 0.0 \t 0.0 \t 0.0 \t 0.0 \t 0.0 \t 0.0 \t 0.0 \t 0.0 \t 0.0 \t 0.0 \t 0.0 \t 0.0 \t 0.0 \t 0.0 \t 0.0 \t 0.0 \t 0.0 \t 0.0 \t 0.0 \t 0.0 \t 0.0 \t 0.0 \t 0.0 \t 0.0 \t 0.0 \t 0.0 \t 0.0 \t 0.0 \t 0.0 \t 0.0 \t 0.0 \t 0.0 \t 0.0 \t 0.0 \t 0.0 \t 0.0 \t 0.0 \t 0.0 \t 0.0 \t 0.0 \t 0.0 \t 0.0 \t 0.0 \t 0.0 \t 0.0 \t 0.0 \t 0.0 \t 0.0 \t 0.0 \t 0.0 \t 0.0 \t 0.0 \t 0.0 \t 0.0 \t 0.0 \t 0.0 \t 0.0 \t 0.0 \t 0.0 \t 0.0 \t 0.0 \t 0.0 \t 0.0 \t 0.0 \t 0.0 \t 0.0 \t 0.0 \t 0.0 \t 0.0 \t 0.0 \t 0.0 \t 0.0 \t 0.0 \t 0.0 \t 0.0 \t 0.0 \t 0.0 \t 0.0 \t 0.0 \t 0.0 \t 0.0 \t 0.0 \t 0.0 \t 0.0 \t 0.0 \t 0.0 \t 0.0 \t 0.0 \t 0.0 \t 0.0 \t 0.0 \t 0.0 \t 0.0 \t 0.0 \t 0.0 \t 0.0 \t 0.0 \t 0.0 \t 0.0 \t 0.0 \t 0.0 \t 0.0 \t 0.0 \t 0.0 \t 0.0 \t 0.0 \t 0.0 \t 0.0 \t 0.0 \t 0.0 \t 0.0 \t 0.0 \t 0.0 \t 0.0 \t 0.0 \t 0.0 \t 0.0 \t 0.0 \t 0.0 \t 0.0 \t 0.0 \t 0.0 \t 0.0 \t 0.0 \t 0.0 \t 0.0 \t 0.0 \t 0.0 \t 0.0 \t 0.0 \t 0.0 \t 0.0 \t 0.0 \t 0.0 \t 0.0 \t 0.0 \t 0.0 \t 0.0 \t 0.0 \t 0.0 \t 0.0 \t 0.0 \t 0.0 \t 0.0 \t 0.0 \t 0.0 \t 0.0 \t 0.0 \t 0.0 \t 0.0 \t 0.0 \t 0.0  like\n",
            "[0.590]\t 0.036 \t 0.306 \t 0.000 \t 0.000 \t 0.000 \t 0.000 \t 0.001 \t 0.000 \t 0.000 \t 0.000 \t 0.000 \t 0.000 \t 0.000 \t 0.000 \t 0.000 \t 0.000 \t 0.000 \t 0.000 \t 0.000 \t 0.000 \t 0.000 \t 0.000 \t 0.000 \t 0.000 \t 0.000 \t 1e-04 \t 0.001 \t 0.000 \t 0.000 \t 0.000 \t 0.000 \t 0.000 \t 0.000 \t 0.000 \t 0.000 \t 0.000 \t 0.000 \t 0.000 \t 0.000 \t 0.000 \t 1e-04 \t 0.000 \t 0.000 \t 0.000 \t 0.000 \t 0.000 \t 0.000 \t 0.000 \t 0.000 \t 0.000 \t 0.000 \t 0.000 \t 0.000 \t 0.000 \t 0.000 \t 1e-04 \t 0.000 \t 0.000 \t 0.000 \t 0.000 \t 0.000 \t 1e-04 \t 0.002 \t 0.000 \t 0.000 \t 0.000 \t 0.001 \t 0.000 \t 0.000 \t 1e-04 \t 0.000 \t 0.000 \t 0.000 \t 0.000 \t 0.000 \t 0.000 \t 0.000 \t 0.000 \t 0.000 \t 0.000 \t 0.000 \t 0.000 \t 0.000 \t 0.000 \t 1e-04 \t 0.000 \t 0.000 \t 1e-04 \t 0.000 \t 0.001 \t 0.000 \t 0.000 \t 0.000 \t 0.000 \t 0.000 \t 0.000 \t 0.000 \t 0.000 \t 1e-04 \t 0.000 \t 0.000 \t 0.000 \t 0.000 \t 0.000 \t 0.000 \t 1e-04 \t 0.000 \t 0.000 \t 0.000 \t 0.000 \t 0.000 \t 0.000 \t 0.000 \t 1e-04 \t 0.000 \t 0.000 \t 0.000 \t 0.000 \t 0.000 \t 0.000 \t 0.001 \t 0.000 \t 0.000 \t 0.000 \t 0.001 \t 0.000 \t 0.000 \t 0.000 \t 0.000 \t 0.000 \t 1e-04 \t 0.000 \t 0.000 \t 0.000 \t 0.000 \t 0.000 \t 0.000 \t 0.000 \t 0.000 \t 0.000 \t 0.000 \t 0.000 \t 0.001 \t 0.000 \t 0.000 \t 0.000 \t 0.000 \t 0.000 \t 0.000 \t 0.000 \t 0.000 \t 1e-04 \t 0.000 \t 0.000 \t 0.000 \t 0.000 \t 0.001 \t 0.000 \t 0.000 \t 0.000  to\n",
            " 0.390 \t[0.414]\t 0.178 \t 0.0 \t 1e-04 \t 0.000 \t 1e-04 \t 1e-04 \t 0.0 \t 1e-04 \t 1e-04 \t 0.0 \t 1e-04 \t 0.0 \t 0.000 \t 0.000 \t 1e-04 \t 0.0 \t 0.000 \t 1e-04 \t 1e-04 \t 1e-04 \t 1e-04 \t 1e-04 \t 1e-04 \t 1e-04 \t 1e-04 \t 1e-04 \t 0.000 \t 0.0 \t 1e-04 \t 1e-04 \t 1e-04 \t 0.000 \t 1e-04 \t 1e-04 \t 1e-04 \t 1e-04 \t 1e-04 \t 1e-04 \t 1e-04 \t 1e-04 \t 1e-04 \t 1e-04 \t 1e-04 \t 1e-04 \t 1e-04 \t 1e-04 \t 0.0 \t 0.000 \t 0.000 \t 0.000 \t 1e-04 \t 1e-04 \t 1e-04 \t 1e-04 \t 1e-04 \t 1e-04 \t 1e-04 \t 0.000 \t 0.000 \t 1e-04 \t 1e-04 \t 1e-04 \t 1e-04 \t 0.000 \t 0.0 \t 1e-04 \t 1e-04 \t 1e-04 \t 1e-04 \t 0.000 \t 1e-04 \t 1e-04 \t 1e-04 \t 1e-04 \t 0.0 \t 1e-04 \t 1e-04 \t 1e-04 \t 1e-04 \t 0.0 \t 0.000 \t 0.000 \t 0.0 \t 0.0 \t 1e-04 \t 1e-04 \t 1e-04 \t 0.0 \t 0.000 \t 1e-04 \t 1e-04 \t 0.000 \t 1e-04 \t 0.000 \t 0.000 \t 1e-04 \t 0.0 \t 1e-04 \t 1e-04 \t 1e-04 \t 1e-04 \t 0.000 \t 1e-04 \t 1e-04 \t 1e-04 \t 1e-04 \t 1e-04 \t 0.0 \t 0.0 \t 1e-04 \t 1e-04 \t 1e-04 \t 1e-04 \t 0.000 \t 1e-04 \t 1e-04 \t 1e-04 \t 1e-04 \t 1e-04 \t 0.000 \t 0.000 \t 1e-04 \t 1e-04 \t 0.000 \t 0.000 \t 0.000 \t 1e-04 \t 1e-04 \t 1e-04 \t 0.0 \t 1e-04 \t 1e-04 \t 1e-04 \t 1e-04 \t 1e-04 \t 1e-04 \t 1e-04 \t 1e-04 \t 0.0 \t 1e-04 \t 0.000 \t 1e-04 \t 1e-04 \t 1e-04 \t 1e-04 \t 1e-04 \t 0.000 \t 1e-04 \t 1e-04 \t 0.000 \t 1e-04 \t 1e-04 \t 0.000 \t 1e-04 \t 1e-04 \t 1e-04 \t 0.000 \t 1e-04 \t 1e-04  make\n",
            " 1e-04 \t[0.999]\t 0.0 \t 0.0 \t 0.0 \t 0.0 \t 0.0 \t 0.0 \t 0.0 \t 0.0 \t 0.0 \t 0.0 \t 0.0 \t 0.0 \t 0.0 \t 0.0 \t 0.0 \t 0.0 \t 0.0 \t 0.0 \t 0.0 \t 0.0 \t 0.0 \t 0.0 \t 0.0 \t 0.0 \t 0.0 \t 0.0 \t 0.0 \t 0.0 \t 0.0 \t 0.0 \t 0.0 \t 0.0 \t 0.0 \t 0.0 \t 0.0 \t 0.0 \t 0.0 \t 0.0 \t 0.0 \t 0.0 \t 0.0 \t 0.0 \t 0.0 \t 0.0 \t 0.0 \t 0.0 \t 0.0 \t 0.0 \t 0.0 \t 0.0 \t 0.0 \t 0.0 \t 0.0 \t 0.0 \t 0.0 \t 0.0 \t 0.0 \t 0.0 \t 0.0 \t 0.0 \t 0.0 \t 0.0 \t 0.0 \t 0.0 \t 0.0 \t 0.0 \t 0.0 \t 0.0 \t 0.0 \t 0.0 \t 0.0 \t 0.0 \t 0.0 \t 0.0 \t 0.0 \t 0.0 \t 0.0 \t 0.0 \t 0.0 \t 0.0 \t 0.0 \t 0.0 \t 0.0 \t 0.0 \t 0.0 \t 0.0 \t 0.0 \t 0.0 \t 0.0 \t 0.0 \t 0.0 \t 0.0 \t 0.0 \t 0.0 \t 0.0 \t 0.0 \t 0.0 \t 0.0 \t 0.0 \t 0.0 \t 0.0 \t 0.0 \t 0.0 \t 0.0 \t 0.0 \t 0.0 \t 0.0 \t 0.0 \t 0.0 \t 0.0 \t 0.0 \t 0.0 \t 0.0 \t 0.0 \t 0.0 \t 0.0 \t 0.0 \t 0.0 \t 0.0 \t 0.0 \t 0.0 \t 0.0 \t 0.0 \t 0.0 \t 0.0 \t 0.0 \t 0.0 \t 0.0 \t 0.0 \t 0.0 \t 0.0 \t 0.0 \t 0.0 \t 0.0 \t 0.0 \t 0.0 \t 0.0 \t 0.0 \t 0.0 \t 0.0 \t 0.0 \t 0.0 \t 0.0 \t 0.0 \t 0.0 \t 0.0 \t 0.0 \t 0.0 \t 0.0 \t 0.0 \t 0.0 \t 0.0 \t 0.0 \t 0.0 \t 0.0 \t 0.0 \t 0.0 \t 0.0 \t 0.0  homework\n",
            "[0.990]\t 0.003 \t 0.004 \t 0.0 \t 0.0 \t 0.0 \t 0.0 \t 0.0 \t 0.0 \t 0.0 \t 0.0 \t 0.0 \t 0.0 \t 0.0 \t 0.0 \t 0.0 \t 0.0 \t 0.0 \t 0.0 \t 0.0 \t 0.0 \t 0.0 \t 0.0 \t 0.0 \t 0.0 \t 0.0 \t 0.0 \t 0.0 \t 0.0 \t 0.0 \t 0.0 \t 0.0 \t 0.0 \t 0.0 \t 0.0 \t 0.0 \t 0.0 \t 0.0 \t 0.0 \t 0.0 \t 0.0 \t 0.0 \t 0.0 \t 0.0 \t 1e-04 \t 0.0 \t 0.0 \t 0.0 \t 0.0 \t 0.0 \t 0.0 \t 0.0 \t 0.0 \t 0.0 \t 0.0 \t 0.0 \t 0.0 \t 0.0 \t 0.0 \t 0.0 \t 0.0 \t 0.0 \t 0.0 \t 0.0 \t 0.0 \t 0.0 \t 0.0 \t 0.0 \t 0.0 \t 0.0 \t 0.0 \t 0.0 \t 0.0 \t 0.0 \t 0.0 \t 0.0 \t 0.0 \t 0.0 \t 0.0 \t 0.0 \t 0.0 \t 0.0 \t 0.0 \t 0.0 \t 0.0 \t 0.0 \t 0.0 \t 0.0 \t 0.0 \t 0.0 \t 0.0 \t 0.0 \t 0.0 \t 0.0 \t 0.0 \t 0.0 \t 0.0 \t 0.0 \t 0.0 \t 0.0 \t 0.0 \t 0.0 \t 0.0 \t 0.0 \t 0.0 \t 0.0 \t 0.0 \t 0.0 \t 0.0 \t 0.0 \t 0.0 \t 0.0 \t 0.0 \t 0.0 \t 0.0 \t 0.0 \t 0.0 \t 0.0 \t 0.0 \t 0.0 \t 0.0 \t 0.0 \t 0.0 \t 0.0 \t 0.0 \t 0.0 \t 0.0 \t 0.0 \t 0.0 \t 0.0 \t 0.0 \t 0.0 \t 0.0 \t 0.0 \t 0.0 \t 0.0 \t 0.0 \t 0.0 \t 0.0 \t 0.0 \t 0.0 \t 0.0 \t 0.0 \t 0.0 \t 0.0 \t 0.0 \t 0.0 \t 0.0 \t 0.0 \t 0.0 \t 0.0 \t 0.0 \t 0.0 \t 0.0 \t 0.0 \t 0.0 \t 0.0 \t 0.0 \t 0.0 \t 0.0 \t 0.0  [SEP]\n",
            " 0.268 \t[0.624]\t 0.094 \t 0.0 \t 1e-04 \t 1e-04 \t 1e-04 \t 0.000 \t 0.0 \t 1e-04 \t 0.0 \t 1e-04 \t 0.0 \t 1e-04 \t 1e-04 \t 1e-04 \t 0.0 \t 0.0 \t 1e-04 \t 0.0 \t 1e-04 \t 0.0 \t 0.0 \t 0.0 \t 1e-04 \t 1e-04 \t 0.0 \t 0.000 \t 1e-04 \t 0.0 \t 0.0 \t 1e-04 \t 0.0 \t 1e-04 \t 0.0 \t 1e-04 \t 1e-04 \t 1e-04 \t 1e-04 \t 0.0 \t 1e-04 \t 1e-04 \t 0.0 \t 1e-04 \t 0.000 \t 1e-04 \t 0.0 \t 1e-04 \t 1e-04 \t 1e-04 \t 0.000 \t 1e-04 \t 1e-04 \t 0.000 \t 0.0 \t 1e-04 \t 1e-04 \t 1e-04 \t 0.0 \t 1e-04 \t 1e-04 \t 1e-04 \t 0.0 \t 0.0 \t 0.0 \t 0.000 \t 0.0 \t 0.0 \t 0.000 \t 0.0 \t 0.0 \t 0.000 \t 0.0 \t 1e-04 \t 1e-04 \t 0.0 \t 0.0 \t 0.0 \t 1e-04 \t 1e-04 \t 0.0 \t 0.0 \t 0.0 \t 1e-04 \t 1e-04 \t 0.0 \t 1e-04 \t 0.000 \t 1e-04 \t 0.0 \t 0.000 \t 1e-04 \t 1e-04 \t 0.0 \t 1e-04 \t 1e-04 \t 1e-04 \t 0.0 \t 0.0 \t 0.0 \t 1e-04 \t 1e-04 \t 0.0 \t 1e-04 \t 0.0 \t 1e-04 \t 0.0 \t 1e-04 \t 0.0 \t 1e-04 \t 1e-04 \t 1e-04 \t 1e-04 \t 0.0 \t 1e-04 \t 1e-04 \t 0.000 \t 1e-04 \t 1e-04 \t 0.0 \t 1e-04 \t 1e-04 \t 1e-04 \t 1e-04 \t 1e-04 \t 1e-04 \t 1e-04 \t 1e-04 \t 1e-04 \t 1e-04 \t 0.000 \t 0.0 \t 0.0 \t 1e-04 \t 0.0 \t 1e-04 \t 0.0 \t 1e-04 \t 1e-04 \t 1e-04 \t 0.0 \t 1e-04 \t 1e-04 \t 0.000 \t 0.0 \t 0.0 \t 1e-04 \t 0.000 \t 1e-04 \t 0.0 \t 1e-04 \t 1e-04 \t 1e-04 \t 0.0 \t 1e-04 \t 1e-04 \t 1e-04 \t 1e-04 \t 0.000 \t 1e-04 \t 0.000  what\n",
            " 0.361 \t 0.138 \t[0.480]\t 0.0 \t 1e-04 \t 0.000 \t 0.0 \t 0.000 \t 0.0 \t 1e-04 \t 1e-04 \t 1e-04 \t 1e-04 \t 0.0 \t 0.000 \t 1e-04 \t 1e-04 \t 1e-04 \t 0.000 \t 1e-04 \t 1e-04 \t 1e-04 \t 1e-04 \t 0.0 \t 1e-04 \t 0.000 \t 1e-04 \t 0.000 \t 0.000 \t 0.0 \t 0.000 \t 0.000 \t 1e-04 \t 0.000 \t 0.000 \t 1e-04 \t 0.000 \t 1e-04 \t 1e-04 \t 1e-04 \t 1e-04 \t 0.0 \t 1e-04 \t 1e-04 \t 1e-04 \t 1e-04 \t 1e-04 \t 1e-04 \t 1e-04 \t 0.000 \t 0.000 \t 0.000 \t 1e-04 \t 0.000 \t 1e-04 \t 1e-04 \t 1e-04 \t 0.000 \t 1e-04 \t 1e-04 \t 0.000 \t 1e-04 \t 0.000 \t 1e-04 \t 1e-04 \t 0.000 \t 0.0 \t 1e-04 \t 0.000 \t 1e-04 \t 0.000 \t 0.000 \t 1e-04 \t 1e-04 \t 0.000 \t 1e-04 \t 0.0 \t 1e-04 \t 1e-04 \t 0.000 \t 1e-04 \t 1e-04 \t 0.000 \t 1e-04 \t 0.0 \t 1e-04 \t 1e-04 \t 1e-04 \t 1e-04 \t 0.0 \t 0.000 \t 1e-04 \t 1e-04 \t 1e-04 \t 1e-04 \t 0.000 \t 1e-04 \t 1e-04 \t 1e-04 \t 1e-04 \t 1e-04 \t 0.000 \t 1e-04 \t 1e-04 \t 0.0 \t 1e-04 \t 1e-04 \t 1e-04 \t 0.0 \t 1e-04 \t 0.0 \t 1e-04 \t 1e-04 \t 1e-04 \t 1e-04 \t 0.000 \t 1e-04 \t 0.000 \t 1e-04 \t 1e-04 \t 1e-04 \t 0.000 \t 0.0 \t 1e-04 \t 1e-04 \t 0.000 \t 1e-04 \t 0.000 \t 1e-04 \t 1e-04 \t 0.000 \t 0.0 \t 1e-04 \t 0.0 \t 0.0 \t 0.000 \t 0.0 \t 1e-04 \t 1e-04 \t 1e-04 \t 0.0 \t 0.000 \t 0.000 \t 0.000 \t 0.000 \t 0.0 \t 0.000 \t 1e-04 \t 0.000 \t 1e-04 \t 1e-04 \t 0.000 \t 1e-04 \t 1e-04 \t 0.000 \t 1e-04 \t 1e-04 \t 0.000 \t 0.000 \t 0.000 \t 1e-04  does\n",
            " 1e-04 \t[0.999]\t 0.0 \t 0.0 \t 0.0 \t 0.0 \t 0.0 \t 0.0 \t 0.0 \t 0.0 \t 0.0 \t 0.0 \t 0.0 \t 0.0 \t 0.0 \t 0.0 \t 0.0 \t 0.0 \t 0.0 \t 0.0 \t 0.0 \t 0.0 \t 0.0 \t 0.0 \t 0.0 \t 0.0 \t 0.0 \t 0.0 \t 0.0 \t 0.0 \t 0.0 \t 0.0 \t 0.0 \t 0.0 \t 0.0 \t 0.0 \t 0.0 \t 0.0 \t 0.0 \t 0.0 \t 0.0 \t 0.0 \t 0.0 \t 0.0 \t 0.0 \t 0.0 \t 0.0 \t 0.0 \t 0.0 \t 0.0 \t 0.0 \t 0.0 \t 0.0 \t 0.0 \t 0.0 \t 0.0 \t 0.0 \t 0.0 \t 0.0 \t 0.0 \t 0.0 \t 0.0 \t 0.0 \t 0.0 \t 0.0 \t 0.0 \t 0.0 \t 0.0 \t 0.0 \t 0.0 \t 0.0 \t 0.0 \t 0.0 \t 0.0 \t 0.0 \t 0.0 \t 0.0 \t 0.0 \t 0.0 \t 0.0 \t 0.0 \t 0.0 \t 0.0 \t 0.0 \t 0.0 \t 0.0 \t 0.0 \t 0.0 \t 0.0 \t 0.0 \t 0.0 \t 0.0 \t 0.0 \t 0.0 \t 0.0 \t 0.0 \t 0.0 \t 0.0 \t 0.0 \t 0.0 \t 0.0 \t 0.0 \t 0.0 \t 0.0 \t 0.0 \t 0.0 \t 0.0 \t 0.0 \t 0.0 \t 0.0 \t 0.0 \t 0.0 \t 0.0 \t 0.0 \t 0.0 \t 0.0 \t 0.0 \t 0.0 \t 0.0 \t 0.0 \t 0.0 \t 0.0 \t 0.0 \t 0.0 \t 0.0 \t 0.0 \t 0.0 \t 0.0 \t 0.0 \t 0.0 \t 0.0 \t 0.0 \t 0.0 \t 0.0 \t 0.0 \t 0.0 \t 0.0 \t 0.0 \t 0.0 \t 0.0 \t 0.0 \t 0.0 \t 0.0 \t 0.0 \t 0.0 \t 0.0 \t 0.0 \t 0.0 \t 0.0 \t 0.0 \t 0.0 \t 0.0 \t 0.0 \t 0.0 \t 0.0 \t 0.0 \t 0.0 \t 0.0 \t 0.0 \t 0.0 \t 0.0  mike\n",
            " 0.075 \t[0.899]\t 0.016 \t 0.0 \t 1e-04 \t 1e-04 \t 0.0 \t 1e-04 \t 0.0 \t 0.0 \t 0.0 \t 0.0 \t 0.0 \t 0.0 \t 1e-04 \t 1e-04 \t 0.0 \t 0.0 \t 1e-04 \t 0.0 \t 1e-04 \t 0.0 \t 0.0 \t 0.0 \t 1e-04 \t 0.0 \t 0.0 \t 1e-04 \t 1e-04 \t 0.0 \t 1e-04 \t 1e-04 \t 0.0 \t 1e-04 \t 1e-04 \t 1e-04 \t 1e-04 \t 0.0 \t 0.0 \t 1e-04 \t 0.0 \t 0.0 \t 1e-04 \t 0.0 \t 1e-04 \t 0.0 \t 0.0 \t 0.0 \t 0.0 \t 1e-04 \t 1e-04 \t 1e-04 \t 1e-04 \t 1e-04 \t 0.0 \t 0.0 \t 0.0 \t 1e-04 \t 0.0 \t 0.0 \t 0.0 \t 0.0 \t 0.0 \t 0.0 \t 0.0 \t 1e-04 \t 0.0 \t 0.0 \t 1e-04 \t 0.0 \t 0.0 \t 1e-04 \t 1e-04 \t 1e-04 \t 1e-04 \t 0.0 \t 0.0 \t 0.0 \t 1e-04 \t 1e-04 \t 1e-04 \t 1e-04 \t 0.0 \t 0.0 \t 0.0 \t 0.0 \t 1e-04 \t 0.0 \t 1e-04 \t 0.0 \t 1e-04 \t 0.0 \t 0.0 \t 0.0 \t 1e-04 \t 1e-04 \t 0.0 \t 0.0 \t 0.0 \t 0.0 \t 0.0 \t 1e-04 \t 0.0 \t 0.0 \t 0.0 \t 0.0 \t 0.0 \t 0.0 \t 0.0 \t 0.0 \t 0.0 \t 1e-04 \t 0.0 \t 1e-04 \t 0.0 \t 1e-04 \t 0.0 \t 1e-04 \t 1e-04 \t 0.0 \t 0.0 \t 1e-04 \t 0.0 \t 0.0 \t 0.0 \t 0.0 \t 1e-04 \t 1e-04 \t 1e-04 \t 0.0 \t 1e-04 \t 0.0 \t 0.0 \t 0.0 \t 0.0 \t 1e-04 \t 0.0 \t 1e-04 \t 0.000 \t 0.0 \t 0.0 \t 0.0 \t 1e-04 \t 1e-04 \t 1e-04 \t 0.0 \t 1e-04 \t 1e-04 \t 0.0 \t 0.0 \t 0.0 \t 0.0 \t 1e-04 \t 0.0 \t 1e-04 \t 0.0 \t 0.0 \t 0.0 \t 0.0 \t 1e-04 \t 1e-04  want\n",
            "[0.555]\t 0.032 \t 0.349 \t 0.000 \t 0.000 \t 0.000 \t 0.000 \t 0.001 \t 0.000 \t 0.000 \t 0.000 \t 0.000 \t 0.000 \t 0.000 \t 0.000 \t 0.000 \t 0.000 \t 0.000 \t 0.000 \t 0.000 \t 0.000 \t 1e-04 \t 0.000 \t 0.000 \t 0.000 \t 0.000 \t 1e-04 \t 0.001 \t 0.000 \t 0.000 \t 0.000 \t 0.000 \t 0.000 \t 0.000 \t 0.000 \t 0.000 \t 0.000 \t 0.000 \t 0.000 \t 0.000 \t 0.000 \t 1e-04 \t 0.000 \t 0.000 \t 0.000 \t 0.000 \t 0.000 \t 0.000 \t 0.000 \t 0.000 \t 0.000 \t 0.000 \t 0.000 \t 0.000 \t 0.000 \t 0.000 \t 1e-04 \t 0.000 \t 0.000 \t 0.000 \t 0.000 \t 0.000 \t 1e-04 \t 0.002 \t 0.000 \t 0.000 \t 0.000 \t 0.001 \t 0.000 \t 0.000 \t 1e-04 \t 0.001 \t 0.000 \t 0.000 \t 0.000 \t 0.000 \t 1e-04 \t 0.000 \t 0.000 \t 0.000 \t 0.000 \t 0.000 \t 0.000 \t 1e-04 \t 0.000 \t 1e-04 \t 0.000 \t 0.000 \t 1e-04 \t 0.000 \t 0.001 \t 0.000 \t 0.000 \t 0.000 \t 0.000 \t 0.000 \t 0.000 \t 0.000 \t 0.000 \t 1e-04 \t 0.000 \t 0.000 \t 0.000 \t 0.000 \t 0.000 \t 1e-04 \t 1e-04 \t 0.000 \t 0.000 \t 0.000 \t 0.000 \t 0.000 \t 0.000 \t 0.000 \t 1e-04 \t 0.000 \t 0.000 \t 0.000 \t 0.000 \t 0.000 \t 0.000 \t 0.001 \t 0.000 \t 0.000 \t 0.000 \t 0.001 \t 0.000 \t 0.000 \t 0.000 \t 0.000 \t 0.000 \t 1e-04 \t 0.000 \t 0.000 \t 0.000 \t 0.000 \t 1e-04 \t 0.000 \t 0.000 \t 0.000 \t 1e-04 \t 0.000 \t 0.000 \t 0.000 \t 0.000 \t 0.000 \t 0.000 \t 0.000 \t 0.000 \t 0.000 \t 1e-04 \t 0.000 \t 1e-04 \t 0.000 \t 0.000 \t 0.000 \t 0.000 \t 0.001 \t 0.000 \t 0.000 \t 0.000  to\n",
            " 0.343 \t 0.047 \t[0.582]\t 1e-04 \t 0.000 \t 0.000 \t 1e-04 \t 0.000 \t 1e-04 \t 1e-04 \t 0.000 \t 1e-04 \t 1e-04 \t 1e-04 \t 0.000 \t 0.000 \t 1e-04 \t 1e-04 \t 0.000 \t 1e-04 \t 0.000 \t 1e-04 \t 0.000 \t 1e-04 \t 0.000 \t 0.000 \t 1e-04 \t 0.000 \t 0.000 \t 0.0 \t 0.000 \t 1e-04 \t 1e-04 \t 0.000 \t 0.000 \t 0.000 \t 1e-04 \t 0.000 \t 0.000 \t 1e-04 \t 1e-04 \t 1e-04 \t 1e-04 \t 1e-04 \t 0.000 \t 0.000 \t 0.000 \t 1e-04 \t 1e-04 \t 0.000 \t 0.000 \t 0.000 \t 1e-04 \t 0.000 \t 1e-04 \t 0.000 \t 1e-04 \t 1e-04 \t 1e-04 \t 1e-04 \t 0.000 \t 1e-04 \t 1e-04 \t 0.000 \t 1e-04 \t 0.000 \t 0.0 \t 0.000 \t 0.000 \t 1e-04 \t 0.000 \t 0.000 \t 0.000 \t 0.000 \t 1e-04 \t 1e-04 \t 1e-04 \t 1e-04 \t 1e-04 \t 0.000 \t 0.000 \t 1e-04 \t 0.000 \t 0.000 \t 1e-04 \t 1e-04 \t 0.000 \t 1e-04 \t 1e-04 \t 1e-04 \t 0.000 \t 1e-04 \t 1e-04 \t 0.000 \t 0.000 \t 0.000 \t 0.000 \t 1e-04 \t 1e-04 \t 1e-04 \t 0.000 \t 0.000 \t 0.000 \t 0.000 \t 1e-04 \t 1e-04 \t 0.000 \t 1e-04 \t 1e-04 \t 1e-04 \t 1e-04 \t 1e-04 \t 1e-04 \t 0.000 \t 0.000 \t 0.000 \t 0.000 \t 0.000 \t 0.000 \t 0.000 \t 1e-04 \t 0.000 \t 0.000 \t 0.000 \t 1e-04 \t 0.000 \t 0.000 \t 0.000 \t 1e-04 \t 1e-04 \t 0.000 \t 0.0 \t 1e-04 \t 1e-04 \t 1e-04 \t 1e-04 \t 1e-04 \t 0.000 \t 0.0 \t 0.000 \t 1e-04 \t 0.000 \t 0.000 \t 0.000 \t 0.000 \t 1e-04 \t 0.000 \t 0.000 \t 0.000 \t 1e-04 \t 0.000 \t 0.000 \t 1e-04 \t 1e-04 \t 0.000 \t 1e-04 \t 0.000 \t 1e-04 \t 1e-04 \t 0.000 \t 0.000  do\n",
            "[0.869]\t 0.120 \t 0.008 \t 0.0 \t 0.0 \t 0.0 \t 0.0 \t 0.0 \t 0.0 \t 0.0 \t 0.0 \t 0.0 \t 0.0 \t 0.0 \t 0.0 \t 0.0 \t 0.0 \t 0.0 \t 0.0 \t 0.0 \t 0.0 \t 0.0 \t 0.0 \t 0.0 \t 0.0 \t 0.0 \t 0.0 \t 0.0 \t 0.0 \t 0.0 \t 0.0 \t 0.0 \t 0.0 \t 0.0 \t 0.0 \t 0.0 \t 0.0 \t 0.0 \t 0.0 \t 0.0 \t 0.0 \t 0.0 \t 0.0 \t 0.0 \t 0.0 \t 0.0 \t 0.0 \t 0.0 \t 0.0 \t 0.0 \t 0.0 \t 0.0 \t 0.0 \t 0.0 \t 0.0 \t 0.0 \t 0.0 \t 0.0 \t 0.0 \t 0.0 \t 0.0 \t 0.0 \t 0.0 \t 0.0 \t 0.0 \t 0.0 \t 0.0 \t 0.0 \t 0.0 \t 0.0 \t 0.0 \t 0.0 \t 0.0 \t 0.0 \t 0.0 \t 0.0 \t 0.0 \t 0.0 \t 0.0 \t 0.0 \t 0.0 \t 0.0 \t 0.0 \t 0.0 \t 0.0 \t 0.0 \t 0.0 \t 0.0 \t 0.0 \t 0.0 \t 0.0 \t 0.0 \t 0.0 \t 0.0 \t 0.0 \t 0.0 \t 0.0 \t 0.0 \t 0.0 \t 0.0 \t 0.0 \t 0.0 \t 0.0 \t 0.0 \t 0.0 \t 0.0 \t 0.0 \t 0.0 \t 0.0 \t 0.0 \t 0.0 \t 0.0 \t 0.0 \t 0.0 \t 0.0 \t 0.0 \t 0.0 \t 0.0 \t 0.0 \t 0.0 \t 0.0 \t 0.0 \t 0.0 \t 0.0 \t 0.0 \t 0.0 \t 0.0 \t 0.0 \t 0.0 \t 0.0 \t 0.0 \t 0.0 \t 0.0 \t 0.0 \t 0.0 \t 0.0 \t 0.0 \t 0.0 \t 0.0 \t 0.0 \t 0.0 \t 0.0 \t 0.0 \t 0.0 \t 0.0 \t 0.0 \t 0.0 \t 0.0 \t 0.0 \t 0.0 \t 0.0 \t 0.0 \t 0.0 \t 0.0 \t 0.0 \t 0.0 \t 0.0 \t 0.0 \t 0.0 \t 0.0 \t 0.0  ?\n",
            "[0.990]\t 0.003 \t 0.004 \t 0.0 \t 0.0 \t 0.0 \t 0.0 \t 0.0 \t 0.0 \t 0.0 \t 0.0 \t 0.0 \t 0.0 \t 0.0 \t 0.0 \t 0.0 \t 0.0 \t 0.0 \t 0.0 \t 0.0 \t 0.0 \t 0.0 \t 0.0 \t 0.0 \t 0.0 \t 0.0 \t 0.0 \t 0.0 \t 0.0 \t 0.0 \t 0.0 \t 0.0 \t 0.0 \t 0.0 \t 0.0 \t 0.0 \t 0.0 \t 0.0 \t 0.0 \t 0.0 \t 0.0 \t 0.0 \t 0.0 \t 0.0 \t 1e-04 \t 0.0 \t 0.0 \t 0.0 \t 0.0 \t 0.0 \t 0.0 \t 0.0 \t 0.0 \t 0.0 \t 0.0 \t 0.0 \t 0.0 \t 0.0 \t 0.0 \t 0.0 \t 0.0 \t 0.0 \t 0.0 \t 0.0 \t 0.0 \t 0.0 \t 0.0 \t 0.0 \t 0.0 \t 0.0 \t 0.0 \t 0.0 \t 0.0 \t 0.0 \t 0.0 \t 0.0 \t 0.0 \t 0.0 \t 0.0 \t 0.0 \t 0.0 \t 0.0 \t 0.0 \t 0.0 \t 0.0 \t 0.0 \t 0.0 \t 0.0 \t 0.0 \t 0.0 \t 0.0 \t 0.0 \t 0.0 \t 0.0 \t 0.0 \t 0.0 \t 0.0 \t 0.0 \t 0.0 \t 0.0 \t 0.0 \t 0.0 \t 0.0 \t 0.0 \t 0.0 \t 0.0 \t 0.0 \t 0.0 \t 0.0 \t 0.0 \t 0.0 \t 0.0 \t 0.0 \t 0.0 \t 0.0 \t 0.0 \t 0.0 \t 0.0 \t 0.0 \t 0.0 \t 0.0 \t 0.0 \t 0.0 \t 0.0 \t 0.0 \t 0.0 \t 0.0 \t 0.0 \t 0.0 \t 0.0 \t 0.0 \t 0.0 \t 0.0 \t 0.0 \t 0.0 \t 0.0 \t 0.0 \t 0.0 \t 0.0 \t 0.0 \t 0.0 \t 0.0 \t 0.0 \t 0.0 \t 0.0 \t 0.0 \t 0.0 \t 0.0 \t 0.0 \t 0.0 \t 0.0 \t 0.0 \t 0.0 \t 0.0 \t 0.0 \t 0.0 \t 0.0 \t 0.0 \t 0.0 \t 0.0 \t 0.0  [SEP]\n",
            " 1e-04 \t[0.999]\t 0.0 \t 0.0 \t 0.0 \t 0.0 \t 0.0 \t 0.0 \t 0.0 \t 0.0 \t 0.0 \t 0.0 \t 0.0 \t 0.0 \t 0.0 \t 0.0 \t 0.0 \t 0.0 \t 0.0 \t 0.0 \t 0.0 \t 0.0 \t 0.0 \t 0.0 \t 0.0 \t 0.0 \t 0.0 \t 0.0 \t 0.0 \t 0.0 \t 0.0 \t 0.0 \t 0.0 \t 0.0 \t 0.0 \t 0.0 \t 0.0 \t 0.0 \t 0.0 \t 0.0 \t 0.0 \t 0.0 \t 0.0 \t 0.0 \t 0.0 \t 0.0 \t 0.0 \t 0.0 \t 0.0 \t 0.0 \t 0.0 \t 0.0 \t 0.0 \t 0.0 \t 0.0 \t 0.0 \t 0.0 \t 0.0 \t 0.0 \t 0.0 \t 0.0 \t 0.0 \t 0.0 \t 0.0 \t 0.0 \t 0.0 \t 0.0 \t 0.0 \t 0.0 \t 0.0 \t 0.0 \t 0.0 \t 0.0 \t 0.0 \t 0.0 \t 0.0 \t 0.0 \t 0.0 \t 0.0 \t 0.0 \t 0.0 \t 0.0 \t 0.0 \t 0.0 \t 0.0 \t 0.0 \t 0.0 \t 0.0 \t 0.0 \t 0.0 \t 0.0 \t 0.0 \t 0.0 \t 0.0 \t 0.0 \t 0.0 \t 0.0 \t 0.0 \t 0.0 \t 0.0 \t 0.0 \t 0.0 \t 0.0 \t 0.0 \t 0.0 \t 0.0 \t 0.0 \t 0.0 \t 0.0 \t 0.0 \t 0.0 \t 0.0 \t 0.0 \t 0.0 \t 0.0 \t 0.0 \t 0.0 \t 0.0 \t 0.0 \t 0.0 \t 0.0 \t 0.0 \t 0.0 \t 0.0 \t 0.0 \t 0.0 \t 0.0 \t 0.0 \t 0.0 \t 0.0 \t 0.0 \t 0.0 \t 0.0 \t 0.0 \t 0.0 \t 0.0 \t 0.0 \t 0.0 \t 0.0 \t 0.0 \t 0.0 \t 0.0 \t 0.0 \t 0.0 \t 0.0 \t 0.0 \t 0.0 \t 0.0 \t 0.0 \t 0.0 \t 0.0 \t 0.0 \t 0.0 \t 0.0 \t 0.0 \t 0.0 \t 0.0 \t 0.0 \t 0.0 \t 0.0 \t 0.0  gaming\n",
            "[0.842]\t 0.027 \t 0.119 \t 0.0 \t 1e-04 \t 1e-04 \t 0.0 \t 0.000 \t 1e-04 \t 1e-04 \t 0.0 \t 0.0 \t 0.0 \t 0.0 \t 1e-04 \t 1e-04 \t 0.0 \t 0.0 \t 0.000 \t 0.0 \t 1e-04 \t 0.0 \t 1e-04 \t 0.0 \t 1e-04 \t 0.0 \t 0.0 \t 1e-04 \t 1e-04 \t 0.0 \t 0.0 \t 1e-04 \t 0.0 \t 1e-04 \t 1e-04 \t 0.0 \t 0.0 \t 1e-04 \t 1e-04 \t 0.0 \t 1e-04 \t 0.0 \t 0.0 \t 0.0 \t 0.000 \t 1e-04 \t 0.0 \t 1e-04 \t 0.0 \t 1e-04 \t 0.0 \t 1e-04 \t 1e-04 \t 1e-04 \t 0.0 \t 0.0 \t 1e-04 \t 1e-04 \t 0.0 \t 1e-04 \t 0.000 \t 0.0 \t 0.0 \t 1e-04 \t 0.0 \t 0.000 \t 1e-04 \t 1e-04 \t 0.0 \t 0.0 \t 0.0 \t 0.000 \t 0.0 \t 1e-04 \t 0.0 \t 1e-04 \t 0.0 \t 0.0 \t 0.0 \t 1e-04 \t 1e-04 \t 0.0 \t 0.0 \t 1e-04 \t 1e-04 \t 0.0 \t 1e-04 \t 0.0 \t 1e-04 \t 1e-04 \t 1e-04 \t 0.0 \t 1e-04 \t 0.0 \t 1e-04 \t 1e-04 \t 1e-04 \t 0.0 \t 1e-04 \t 0.0 \t 0.0 \t 0.0 \t 0.0 \t 1e-04 \t 0.0 \t 0.0 \t 0.0 \t 0.0 \t 0.0 \t 0.0 \t 1e-04 \t 1e-04 \t 1e-04 \t 1e-04 \t 1e-04 \t 0.0 \t 1e-04 \t 0.0 \t 1e-04 \t 0.0 \t 1e-04 \t 1e-04 \t 1e-04 \t 1e-04 \t 0.0 \t 1e-04 \t 0.0 \t 1e-04 \t 1e-04 \t 0.000 \t 0.000 \t 0.0 \t 0.0 \t 0.0 \t 1e-04 \t 0.0 \t 0.0 \t 1e-04 \t 1e-04 \t 1e-04 \t 0.0 \t 1e-04 \t 1e-04 \t 1e-04 \t 0.000 \t 0.0 \t 0.0 \t 1e-04 \t 1e-04 \t 0.0 \t 0.0 \t 1e-04 \t 1e-04 \t 1e-04 \t 1e-04 \t 1e-04 \t 0.0 \t 1e-04 \t 1e-04 \t 1e-04 \t 1e-04  ,\n",
            "[0.737]\t 0.122 \t 0.132 \t 0.0 \t 0.0 \t 1e-04 \t 0.0 \t 1e-04 \t 0.0 \t 1e-04 \t 0.0 \t 0.0 \t 0.0 \t 0.0 \t 1e-04 \t 1e-04 \t 0.0 \t 0.0 \t 1e-04 \t 0.0 \t 1e-04 \t 0.0 \t 0.0 \t 0.0 \t 1e-04 \t 0.0 \t 0.0 \t 1e-04 \t 1e-04 \t 0.0 \t 0.0 \t 0.0 \t 0.0 \t 0.0 \t 1e-04 \t 1e-04 \t 0.0 \t 0.0 \t 1e-04 \t 0.0 \t 0.0 \t 0.0 \t 0.0 \t 1e-04 \t 1e-04 \t 0.0 \t 0.0 \t 0.0 \t 0.0 \t 0.0 \t 1e-04 \t 0.0 \t 1e-04 \t 1e-04 \t 0.0 \t 0.0 \t 0.0 \t 1e-04 \t 0.0 \t 1e-04 \t 1e-04 \t 0.0 \t 0.0 \t 0.0 \t 0.0 \t 0.000 \t 0.0 \t 0.0 \t 1e-04 \t 0.0 \t 0.0 \t 1e-04 \t 0.0 \t 0.0 \t 1e-04 \t 1e-04 \t 0.0 \t 0.0 \t 0.0 \t 1e-04 \t 1e-04 \t 1e-04 \t 0.0 \t 1e-04 \t 0.0 \t 0.0 \t 0.0 \t 0.0 \t 0.0 \t 0.0 \t 1e-04 \t 0.0 \t 0.0 \t 0.0 \t 0.0 \t 0.000 \t 1e-04 \t 0.0 \t 0.0 \t 0.0 \t 0.0 \t 0.0 \t 0.0 \t 1e-04 \t 0.0 \t 0.0 \t 0.0 \t 1e-04 \t 0.0 \t 0.0 \t 1e-04 \t 1e-04 \t 1e-04 \t 0.0 \t 0.0 \t 0.0 \t 1e-04 \t 0.0 \t 1e-04 \t 0.0 \t 0.0 \t 0.000 \t 0.0 \t 0.0 \t 0.0 \t 1e-04 \t 0.0 \t 0.0 \t 1e-04 \t 0.0 \t 1e-04 \t 0.0 \t 0.0 \t 0.0 \t 0.0 \t 1e-04 \t 0.0 \t 0.0 \t 1e-04 \t 1e-04 \t 0.0 \t 0.0 \t 0.0 \t 1e-04 \t 1e-04 \t 0.0 \t 0.0 \t 1e-04 \t 0.0 \t 0.0 \t 0.0 \t 0.0 \t 1e-04 \t 0.0 \t 0.0 \t 0.0 \t 0.0 \t 0.0 \t 1e-04 \t 0.0 \t 1e-04  but\n",
            " 1e-04 \t[0.999]\t 0.0 \t 0.0 \t 0.0 \t 0.0 \t 0.0 \t 0.0 \t 0.0 \t 0.0 \t 0.0 \t 0.0 \t 0.0 \t 0.0 \t 0.0 \t 0.0 \t 0.0 \t 0.0 \t 0.0 \t 0.0 \t 0.0 \t 0.0 \t 0.0 \t 0.0 \t 0.0 \t 0.0 \t 0.0 \t 0.0 \t 0.0 \t 0.0 \t 0.0 \t 0.0 \t 0.0 \t 0.0 \t 0.0 \t 0.0 \t 0.0 \t 0.0 \t 0.0 \t 0.0 \t 0.0 \t 0.0 \t 0.0 \t 0.0 \t 0.0 \t 0.0 \t 0.0 \t 0.0 \t 0.0 \t 0.0 \t 0.0 \t 0.0 \t 0.0 \t 0.0 \t 0.0 \t 0.0 \t 0.0 \t 0.0 \t 0.0 \t 0.0 \t 0.0 \t 0.0 \t 0.0 \t 0.0 \t 0.0 \t 0.0 \t 0.0 \t 0.0 \t 0.0 \t 0.0 \t 0.0 \t 0.0 \t 0.0 \t 0.0 \t 0.0 \t 0.0 \t 0.0 \t 0.0 \t 0.0 \t 0.0 \t 0.0 \t 0.0 \t 0.0 \t 0.0 \t 0.0 \t 0.0 \t 0.0 \t 0.0 \t 0.0 \t 0.0 \t 0.0 \t 0.0 \t 0.0 \t 0.0 \t 0.0 \t 0.0 \t 0.0 \t 0.0 \t 0.0 \t 0.0 \t 0.0 \t 0.0 \t 0.0 \t 0.0 \t 0.0 \t 0.0 \t 0.0 \t 0.0 \t 0.0 \t 0.0 \t 0.0 \t 0.0 \t 0.0 \t 0.0 \t 0.0 \t 0.0 \t 0.0 \t 0.0 \t 0.0 \t 0.0 \t 0.0 \t 0.0 \t 0.0 \t 0.0 \t 0.0 \t 0.0 \t 0.0 \t 0.0 \t 0.0 \t 0.0 \t 0.0 \t 0.0 \t 0.0 \t 0.0 \t 0.0 \t 0.0 \t 0.0 \t 0.0 \t 0.0 \t 0.0 \t 0.0 \t 0.0 \t 0.0 \t 0.0 \t 0.0 \t 0.0 \t 0.0 \t 0.0 \t 0.0 \t 0.0 \t 0.0 \t 0.0 \t 0.0 \t 0.0 \t 0.0 \t 0.0 \t 0.0 \t 0.0 \t 0.0 \t 0.0 \t 0.0  SPEAKER1\n",
            " 0.001 \t[0.998]\t 0.000 \t 0.0 \t 0.0 \t 0.0 \t 0.0 \t 0.0 \t 0.0 \t 0.0 \t 0.0 \t 0.0 \t 0.0 \t 0.0 \t 0.0 \t 0.0 \t 0.0 \t 0.0 \t 0.0 \t 0.0 \t 0.0 \t 0.0 \t 0.0 \t 0.0 \t 0.0 \t 0.0 \t 0.0 \t 0.0 \t 0.0 \t 0.0 \t 0.0 \t 0.0 \t 0.0 \t 0.0 \t 0.0 \t 0.0 \t 0.0 \t 0.0 \t 0.0 \t 0.0 \t 0.0 \t 0.0 \t 0.0 \t 0.0 \t 0.0 \t 0.0 \t 0.0 \t 0.0 \t 0.0 \t 0.0 \t 0.0 \t 0.0 \t 0.0 \t 0.0 \t 0.0 \t 0.0 \t 0.0 \t 0.0 \t 0.0 \t 0.0 \t 0.0 \t 0.0 \t 0.0 \t 0.0 \t 0.0 \t 0.0 \t 0.0 \t 0.0 \t 0.0 \t 0.0 \t 0.0 \t 0.0 \t 0.0 \t 0.0 \t 0.0 \t 0.0 \t 0.0 \t 0.0 \t 0.0 \t 0.0 \t 0.0 \t 0.0 \t 0.0 \t 0.0 \t 0.0 \t 0.0 \t 0.0 \t 0.0 \t 0.0 \t 0.0 \t 0.0 \t 0.0 \t 0.0 \t 0.0 \t 0.0 \t 0.0 \t 0.0 \t 0.0 \t 0.0 \t 0.0 \t 0.0 \t 0.0 \t 0.0 \t 0.0 \t 0.0 \t 0.0 \t 0.0 \t 0.0 \t 0.0 \t 0.0 \t 0.0 \t 0.0 \t 0.0 \t 0.0 \t 0.0 \t 0.0 \t 0.0 \t 0.0 \t 0.0 \t 0.0 \t 0.0 \t 0.0 \t 0.0 \t 0.0 \t 0.0 \t 0.0 \t 0.0 \t 0.0 \t 0.0 \t 0.0 \t 0.0 \t 0.0 \t 0.0 \t 0.0 \t 0.0 \t 0.0 \t 0.0 \t 0.0 \t 0.0 \t 0.0 \t 0.0 \t 0.0 \t 0.0 \t 0.0 \t 0.0 \t 0.0 \t 0.0 \t 0.0 \t 0.0 \t 0.0 \t 0.0 \t 0.0 \t 0.0 \t 0.0 \t 0.0 \t 0.0 \t 0.0 \t 0.0 \t 0.0 \t 0.0 \t 0.0  hate\n",
            " 0.000 \t 1e-04 \t[0.999]\t 0.0 \t 0.0 \t 0.0 \t 0.0 \t 0.0 \t 0.0 \t 0.0 \t 0.0 \t 0.0 \t 0.0 \t 0.0 \t 0.0 \t 0.0 \t 0.0 \t 0.0 \t 0.0 \t 0.0 \t 0.0 \t 0.0 \t 0.0 \t 0.0 \t 0.0 \t 0.0 \t 0.0 \t 0.0 \t 0.0 \t 0.0 \t 0.0 \t 0.0 \t 0.0 \t 0.0 \t 0.0 \t 0.0 \t 0.0 \t 0.0 \t 0.0 \t 0.0 \t 0.0 \t 0.0 \t 0.0 \t 0.0 \t 0.0 \t 0.0 \t 0.0 \t 0.0 \t 0.0 \t 0.0 \t 0.0 \t 0.0 \t 0.0 \t 0.0 \t 0.0 \t 0.0 \t 0.0 \t 0.0 \t 0.0 \t 0.0 \t 0.0 \t 0.0 \t 0.0 \t 0.0 \t 0.0 \t 0.0 \t 0.0 \t 0.0 \t 0.0 \t 0.0 \t 0.0 \t 0.0 \t 0.0 \t 0.0 \t 0.0 \t 0.0 \t 0.0 \t 0.0 \t 0.0 \t 0.0 \t 0.0 \t 0.0 \t 0.0 \t 0.0 \t 0.0 \t 0.0 \t 0.0 \t 0.0 \t 0.0 \t 0.0 \t 0.0 \t 0.0 \t 0.0 \t 0.0 \t 0.0 \t 0.0 \t 0.0 \t 0.0 \t 0.0 \t 0.0 \t 0.0 \t 0.0 \t 0.0 \t 0.0 \t 0.0 \t 0.0 \t 0.0 \t 0.0 \t 0.0 \t 0.0 \t 0.0 \t 0.0 \t 0.0 \t 0.0 \t 0.0 \t 0.0 \t 0.0 \t 0.0 \t 0.0 \t 0.0 \t 0.0 \t 0.0 \t 0.0 \t 0.0 \t 0.0 \t 0.0 \t 0.0 \t 0.0 \t 0.0 \t 0.0 \t 0.0 \t 0.0 \t 0.0 \t 0.0 \t 0.0 \t 0.0 \t 0.0 \t 0.0 \t 0.0 \t 0.0 \t 0.0 \t 0.0 \t 0.0 \t 0.0 \t 0.0 \t 0.0 \t 0.0 \t 0.0 \t 0.0 \t 0.0 \t 0.0 \t 0.0 \t 0.0 \t 0.0 \t 0.0 \t 0.0 \t 0.0 \t 0.0 \t 0.0 \t 0.0 \t 0.0  cats\n",
            "[0.990]\t 0.003 \t 0.004 \t 0.0 \t 0.0 \t 0.0 \t 0.0 \t 0.0 \t 0.0 \t 0.0 \t 0.0 \t 0.0 \t 0.0 \t 0.0 \t 0.0 \t 0.0 \t 0.0 \t 0.0 \t 0.0 \t 0.0 \t 0.0 \t 0.0 \t 0.0 \t 0.0 \t 0.0 \t 0.0 \t 0.0 \t 0.0 \t 0.0 \t 0.0 \t 0.0 \t 0.0 \t 0.0 \t 0.0 \t 0.0 \t 0.0 \t 0.0 \t 0.0 \t 0.0 \t 0.0 \t 0.0 \t 0.0 \t 0.0 \t 0.0 \t 1e-04 \t 0.0 \t 0.0 \t 0.0 \t 0.0 \t 0.0 \t 0.0 \t 0.0 \t 0.0 \t 0.0 \t 0.0 \t 0.0 \t 0.0 \t 0.0 \t 0.0 \t 0.0 \t 0.0 \t 0.0 \t 0.0 \t 0.0 \t 0.0 \t 0.0 \t 0.0 \t 0.0 \t 0.0 \t 0.0 \t 0.0 \t 0.0 \t 0.0 \t 0.0 \t 0.0 \t 0.0 \t 0.0 \t 0.0 \t 0.0 \t 0.0 \t 0.0 \t 0.0 \t 0.0 \t 0.0 \t 0.0 \t 0.0 \t 0.0 \t 0.0 \t 0.0 \t 0.0 \t 0.0 \t 0.0 \t 0.0 \t 0.0 \t 0.0 \t 0.0 \t 0.0 \t 0.0 \t 0.0 \t 0.0 \t 0.0 \t 0.0 \t 0.0 \t 0.0 \t 0.0 \t 0.0 \t 0.0 \t 0.0 \t 0.0 \t 0.0 \t 0.0 \t 0.0 \t 0.0 \t 0.0 \t 0.0 \t 0.0 \t 0.0 \t 0.0 \t 0.0 \t 0.0 \t 0.0 \t 0.0 \t 0.0 \t 0.0 \t 0.0 \t 0.0 \t 0.0 \t 0.0 \t 0.0 \t 0.0 \t 0.0 \t 0.0 \t 0.0 \t 0.0 \t 0.0 \t 0.0 \t 0.0 \t 0.0 \t 0.0 \t 0.0 \t 0.0 \t 0.0 \t 0.0 \t 0.0 \t 0.0 \t 0.0 \t 0.0 \t 0.0 \t 0.0 \t 0.0 \t 0.0 \t 0.0 \t 0.0 \t 0.0 \t 0.0 \t 0.0 \t 0.0 \t 0.0 \t 0.0 \t 0.0 \t 0.0  [SEP]\n",
            "\n",
            " Predicate\n",
            "['0', '1', '2', '3', '4', '5', '6', '7', '8', '9', '10', '11', '12', '13', '14', '15', '16', '17', '18', '19', '20', '21', '22', '23', '24', '25', '26', '27', '28', '29', '30', '31', '32', '33', '34', '35', '36', '37', '38', '39', '40', '41', '42', '43', '44', '45', '46', '47', '48', '49', '50', '51', '52', '53', '54', '55', '56', '57', '58', '59', '60', '61', '62', '63', '64', '65', '66', '67', '68', '69', '70', '71', '72', '73', '74', '75', '76', '77', '78', '79', '80', '81', '82', '83', '84', '85', '86', '87', '88', '89', '90', '91', '92', '93', '94', '95', '96', '97', '98', '99', '100', '101', '102', '103', '104', '105', '106', '107', '108', '109', '110', '111', '112', '113', '114', '115', '116', '117', '118', '119', '120', '121', '122', '123', '124', '125', '126', '127', '128', '129', '130', '131', '132', '133', '134', '135', '136', '137', '138', '139', '140', '141', '142', '143', '144', '145', '146', '147', '148', '149', '150', '151', '152', '153', '154', '155', '156', '157', '158', '159', '160', '161', '162', '163', '164', '165', '166', '167', '168', '169', '170', '171', '172', '173', '174', '175', '176', '177', '178']\n",
            "[0.969]\t 0.0 \t 0.0 \t 0.0 \t 0.0 \t 0.0 \t 0.0 \t 0.0 \t 0.0 \t 0.001 \t 0.0 \t 0.0 \t 0.0 \t 0.0 \t 0.0 \t 0.0 \t 0.0 \t 0.0 \t 0.0 \t 0.0 \t 0.000 \t 0.0 \t 0.0 \t 0.0 \t 0.0 \t 0.0 \t 0.0 \t 0.0 \t 0.0 \t 0.0 \t 0.0 \t 0.0 \t 0.0 \t 1e-04 \t 0.0 \t 0.0 \t 0.0 \t 0.0 \t 0.0 \t 1e-04 \t 1e-04 \t 0.0 \t 0.0 \t 1e-04 \t 0.0 \t 0.0 \t 1e-04 \t 0.0 \t 0.0 \t 0.0 \t 0.0 \t 0.0 \t 0.0 \t 1e-04 \t 0.0 \t 0.0 \t 0.0 \t 0.0 \t 0.0 \t 0.0 \t 0.0 \t 0.0 \t 0.0 \t 1e-04 \t 0.0 \t 0.0 \t 1e-04 \t 0.0 \t 0.0 \t 0.0 \t 0.0 \t 0.0 \t 0.0 \t 0.0 \t 0.0 \t 0.0 \t 0.0 \t 0.0 \t 0.0 \t 1e-04 \t 1e-04 \t 0.0 \t 0.0 \t 0.0 \t 0.0 \t 0.0 \t 0.0 \t 0.0 \t 0.001 \t 0.0 \t 0.0 \t 0.0 \t 0.0 \t 0.0 \t 0.0 \t 0.0 \t 0.0 \t 0.0 \t 0.0 \t 0.0 \t 0.0 \t 0.0 \t 0.0 \t 0.0 \t 0.0 \t 1e-04 \t 0.001 \t 1e-04 \t 0.0 \t 0.0 \t 0.0 \t 0.0 \t 0.0 \t 1e-04 \t 1e-04 \t 0.0 \t 0.0 \t 0.0 \t 0.0 \t 0.0 \t 1e-04 \t 0.006 \t 0.0 \t 0.0 \t 0.0 \t 0.0 \t 0.0 \t 0.0 \t 0.0 \t 0.0 \t 0.0 \t 0.0 \t 0.0 \t 0.0 \t 0.0 \t 0.001 \t 0.008 \t 0.0 \t 0.0 \t 0.0 \t 0.0 \t 0.0 \t 0.0 \t 0.006 \t 0.000 \t 0.0 \t 0.0 \t 0.0 \t 0.0 \t 0.0 \t 0.0 \t 0.0 \t 0.0 \t 0.0 \t 0.0 \t 0.0 \t 0.0 \t 0.0 \t 0.0 \t 0.0 \t 1e-04  [CLS]\n",
            " 0.010 \t 0.0 \t 0.0 \t 0.0 \t 0.0 \t 1e-04 \t 0.0 \t 0.0 \t 1e-04 \t 0.015 \t 1e-04 \t 0.0 \t 0.0 \t 1e-04 \t 0.0 \t 0.000 \t 1e-04 \t 1e-04 \t 1e-04 \t 0.000 \t 0.000 \t 1e-04 \t 0.0 \t 0.0 \t 0.0 \t 0.0 \t 0.0 \t 1e-04 \t 0.0 \t 1e-04 \t 0.0 \t 0.0 \t 0.0 \t 0.000 \t 1e-04 \t 0.000 \t 1e-04 \t 1e-04 \t 0.000 \t 0.000 \t 0.000 \t 0.0 \t 1e-04 \t 0.003 \t 1e-04 \t 0.000 \t 0.000 \t 0.0 \t 1e-04 \t 1e-04 \t 0.0 \t 1e-04 \t 0.0 \t 0.000 \t 1e-04 \t 1e-04 \t 1e-04 \t 1e-04 \t 0.000 \t 0.0 \t 0.0 \t 0.0 \t 0.0 \t 0.000 \t 1e-04 \t 1e-04 \t 0.000 \t 0.0 \t 0.0 \t 1e-04 \t 0.0 \t 1e-04 \t 0.0 \t 0.0 \t 0.0 \t 0.0 \t 0.0 \t 1e-04 \t 0.0 \t 0.000 \t 0.000 \t 1e-04 \t 0.000 \t 1e-04 \t 0.0 \t 0.0 \t 1e-04 \t 0.000 \t 0.006 \t 1e-04 \t 1e-04 \t 1e-04 \t 0.0 \t 0.000 \t 0.0 \t 0.0 \t 0.0 \t 0.0 \t 0.0 \t 0.0 \t 0.0 \t 1e-04 \t 0.0 \t 0.000 \t 1e-04 \t 0.000 \t 0.001 \t 0.000 \t 0.0 \t 1e-04 \t 1e-04 \t 0.0 \t 0.0 \t 0.000 \t 1e-04 \t 0.0 \t 1e-04 \t 0.000 \t 1e-04 \t 1e-04 \t 1e-04 \t 0.047 \t 1e-04 \t 0.0 \t 0.0 \t 0.000 \t 0.0 \t 0.0 \t 0.0 \t 1e-04 \t 0.0 \t 0.0 \t 0.0 \t 1e-04 \t 1e-04 \t 0.010 \t 0.003 \t 1e-04 \t 0.0 \t 1e-04 \t 0.0 \t 1e-04 \t 0.0 \t[0.885]\t 0.002 \t 1e-04 \t 1e-04 \t 0.0 \t 1e-04 \t 0.0 \t 0.0 \t 1e-04 \t 1e-04 \t 0.0 \t 0.0 \t 0.0 \t 0.0 \t 0.0 \t 0.0 \t 0.000 \t 1e-04  SPEAKER1\n",
            " 0.000 \t 0.0 \t 0.0 \t 0.0 \t 0.0 \t 0.0 \t 0.0 \t 0.0 \t 0.0 \t 0.001 \t 0.0 \t 0.0 \t 0.0 \t 0.0 \t 0.0 \t 0.0 \t 0.0 \t 0.0 \t 0.0 \t 0.0 \t 0.0 \t 0.0 \t 0.0 \t 0.0 \t 0.0 \t 0.0 \t 0.0 \t 0.0 \t 0.0 \t 0.0 \t 0.0 \t 0.0 \t 0.0 \t 0.0 \t 0.0 \t 0.0 \t 0.0 \t 0.0 \t 0.0 \t 1e-04 \t 0.0 \t 0.0 \t 0.0 \t 1e-04 \t 0.0 \t 0.0 \t 0.0 \t 0.0 \t 0.0 \t 0.0 \t 0.0 \t 0.0 \t 0.0 \t 0.0 \t 0.0 \t 0.0 \t 0.0 \t 0.0 \t 0.0 \t 0.0 \t 0.0 \t 0.0 \t 0.0 \t 0.0 \t 0.0 \t 0.0 \t 0.0 \t 0.0 \t 0.0 \t 0.0 \t 0.0 \t 0.0 \t 0.0 \t 0.0 \t 0.0 \t 0.0 \t 0.0 \t 0.0 \t 0.0 \t 0.0 \t 0.0 \t 0.0 \t 0.0 \t 0.0 \t 0.0 \t 0.0 \t 0.0 \t 0.0 \t 1e-04 \t 0.0 \t 0.0 \t 0.0 \t 0.0 \t 0.0 \t 0.0 \t 0.0 \t 0.0 \t 0.0 \t 0.0 \t 0.0 \t 0.0 \t 0.0 \t 0.0 \t 0.0 \t 0.0 \t 0.0 \t 1e-04 \t 0.0 \t 0.0 \t 0.0 \t 0.0 \t 0.0 \t 0.0 \t 0.0 \t 0.0 \t 0.0 \t 0.0 \t 0.0 \t 0.0 \t 0.0 \t 0.0 \t 0.001 \t 0.0 \t 0.0 \t 0.0 \t 0.0 \t 0.0 \t 0.0 \t 0.0 \t 0.0 \t 0.0 \t 0.0 \t 0.0 \t 0.0 \t 0.0 \t 0.000 \t 1e-04 \t 0.0 \t 0.0 \t 0.0 \t 0.0 \t 0.0 \t 0.0 \t[0.995]\t 0.0 \t 0.0 \t 0.0 \t 0.0 \t 0.0 \t 0.0 \t 0.0 \t 0.0 \t 0.0 \t 0.0 \t 0.0 \t 0.0 \t 0.0 \t 0.0 \t 0.0 \t 0.0 \t 0.0  enjoy\n",
            " 0.000 \t 0.0 \t 0.0 \t 0.0 \t 0.0 \t 0.0 \t 0.0 \t 0.0 \t 0.0 \t 0.003 \t 0.0 \t 0.0 \t 0.0 \t 0.0 \t 0.0 \t 0.0 \t 0.0 \t 0.0 \t 0.0 \t 0.0 \t 1e-04 \t 0.0 \t 0.0 \t 0.0 \t 0.0 \t 0.0 \t 0.0 \t 0.0 \t 0.0 \t 0.0 \t 0.0 \t 0.0 \t 0.0 \t 0.0 \t 0.0 \t 0.0 \t 0.0 \t 0.0 \t 0.0 \t 1e-04 \t 0.0 \t 0.0 \t 0.0 \t 0.000 \t 0.0 \t 0.0 \t 0.0 \t 0.0 \t 0.0 \t 0.0 \t 0.0 \t 0.0 \t 0.0 \t 1e-04 \t 0.0 \t 0.0 \t 0.0 \t 0.0 \t 0.0 \t 0.0 \t 0.0 \t 0.0 \t 0.0 \t 0.0 \t 0.0 \t 0.0 \t 0.0 \t 0.0 \t 0.0 \t 0.0 \t 0.0 \t 0.0 \t 0.0 \t 0.0 \t 0.0 \t 0.0 \t 0.0 \t 0.0 \t 0.0 \t 1e-04 \t 0.0 \t 0.0 \t 0.0 \t 0.0 \t 0.0 \t 0.0 \t 0.0 \t 0.0 \t 0.000 \t 0.0 \t 0.0 \t 0.0 \t 0.0 \t 1e-04 \t 0.0 \t 0.0 \t 0.0 \t 0.0 \t 0.0 \t 0.0 \t 0.0 \t 0.0 \t 0.0 \t 0.0 \t 0.0 \t 0.0 \t 1e-04 \t 0.0 \t 0.0 \t 0.0 \t 0.0 \t 0.0 \t 0.0 \t 0.0 \t 0.0 \t 0.0 \t 0.0 \t 0.0 \t 0.0 \t 0.0 \t 0.0 \t 0.004 \t 0.0 \t 0.0 \t 0.0 \t 0.0 \t 0.0 \t 0.0 \t 0.0 \t 0.0 \t 0.0 \t 0.0 \t 0.0 \t 0.0 \t 0.0 \t 0.000 \t 0.000 \t 0.0 \t 0.0 \t 0.0 \t 0.0 \t 0.0 \t 0.0 \t[0.988]\t 1e-04 \t 0.0 \t 0.0 \t 0.0 \t 0.0 \t 0.0 \t 0.0 \t 0.0 \t 0.0 \t 0.0 \t 0.0 \t 0.0 \t 0.0 \t 0.0 \t 0.0 \t 0.0 \t 0.0  watching\n",
            " 0.005 \t 0.0 \t 0.0 \t 0.0 \t 0.0 \t 0.0 \t 0.0 \t 0.0 \t 0.0 \t 0.000 \t 0.0 \t 0.0 \t 0.0 \t 0.0 \t 0.0 \t 0.0 \t 0.0 \t 0.0 \t 0.0 \t 0.0 \t 0.001 \t 0.0 \t 0.0 \t 0.0 \t 0.0 \t 0.0 \t 0.0 \t 0.0 \t 0.0 \t 0.0 \t 0.0 \t 0.0 \t 0.0 \t 0.0 \t 0.0 \t 0.0 \t 0.0 \t 0.0 \t 0.0 \t 0.0 \t 1e-04 \t 0.0 \t 0.0 \t 0.0 \t 0.0 \t 0.0 \t 1e-04 \t 0.0 \t 0.0 \t 0.0 \t 0.0 \t 0.0 \t 0.0 \t 0.0 \t 0.0 \t 0.0 \t 1e-04 \t 0.0 \t 0.0 \t 0.0 \t 0.0 \t 0.0 \t 0.0 \t 1e-04 \t 0.0 \t 0.0 \t 1e-04 \t 0.0 \t 0.0 \t 0.0 \t 0.0 \t 0.0 \t 0.0 \t 0.0 \t 0.0 \t 0.0 \t 0.0 \t 0.0 \t 0.0 \t 0.0 \t 1e-04 \t 0.0 \t 0.0 \t 0.0 \t 0.0 \t 0.0 \t 0.0 \t 0.0 \t 0.003 \t 0.0 \t 0.0 \t 0.0 \t 0.0 \t 0.0 \t 0.0 \t 0.0 \t 0.0 \t 0.0 \t 0.0 \t 0.0 \t 0.0 \t 0.0 \t 0.0 \t 0.0 \t 0.0 \t 0.0 \t 0.003 \t 0.0 \t 0.0 \t 0.0 \t 0.0 \t 0.0 \t 0.0 \t 0.0 \t 1e-04 \t 0.0 \t 0.0 \t 0.0 \t 0.0 \t 0.0 \t 0.000 \t 0.002 \t 0.0 \t 0.0 \t 0.0 \t 0.0 \t 0.0 \t 0.0 \t 0.0 \t 0.0 \t 0.0 \t 0.0 \t 0.0 \t 0.0 \t 0.0 \t 0.001 \t[0.979]\t 0.0 \t 0.0 \t 0.0 \t 0.0 \t 0.0 \t 0.0 \t 0.000 \t 1e-04 \t 0.0 \t 0.0 \t 0.0 \t 0.0 \t 0.0 \t 0.0 \t 0.0 \t 0.0 \t 0.0 \t 0.0 \t 0.0 \t 0.0 \t 0.0 \t 0.0 \t 0.0 \t 1e-04  american\n",
            " 0.006 \t 0.0 \t 0.0 \t 0.0 \t 0.0 \t 0.0 \t 0.0 \t 0.0 \t 0.0 \t 0.001 \t 0.0 \t 0.0 \t 0.0 \t 0.0 \t 0.0 \t 0.0 \t 0.0 \t 0.0 \t 0.0 \t 0.0 \t 0.001 \t 0.0 \t 0.0 \t 0.0 \t 0.0 \t 0.0 \t 0.0 \t 0.0 \t 0.0 \t 0.0 \t 0.0 \t 0.0 \t 0.0 \t 0.0 \t 0.0 \t 0.0 \t 0.0 \t 0.0 \t 0.0 \t 0.0 \t 1e-04 \t 0.0 \t 0.0 \t 1e-04 \t 0.0 \t 0.0 \t 0.000 \t 0.0 \t 0.0 \t 0.0 \t 0.0 \t 0.0 \t 0.0 \t 0.0 \t 0.0 \t 0.0 \t 1e-04 \t 0.0 \t 0.0 \t 0.0 \t 0.0 \t 0.0 \t 0.0 \t 1e-04 \t 0.0 \t 0.0 \t 1e-04 \t 0.0 \t 0.0 \t 0.0 \t 0.0 \t 0.0 \t 0.0 \t 0.0 \t 0.0 \t 0.0 \t 0.0 \t 0.0 \t 0.0 \t 0.0 \t 1e-04 \t 0.0 \t 0.0 \t 0.0 \t 0.0 \t 0.0 \t 0.0 \t 0.0 \t 0.004 \t 0.0 \t 0.0 \t 0.0 \t 0.0 \t 0.0 \t 0.0 \t 0.0 \t 0.0 \t 0.0 \t 0.0 \t 0.0 \t 0.0 \t 0.0 \t 0.0 \t 0.0 \t 0.0 \t 0.0 \t 0.006 \t 0.0 \t 0.0 \t 0.0 \t 0.0 \t 0.0 \t 0.0 \t 0.0 \t 1e-04 \t 0.0 \t 0.0 \t 0.0 \t 0.0 \t 0.0 \t 0.000 \t 0.004 \t 0.0 \t 0.0 \t 0.0 \t 0.0 \t 0.0 \t 0.0 \t 0.0 \t 0.0 \t 0.0 \t 0.0 \t 0.0 \t 0.0 \t 0.0 \t 0.001 \t[0.970]\t 0.0 \t 0.0 \t 0.0 \t 0.0 \t 0.0 \t 0.0 \t 0.000 \t 0.000 \t 0.0 \t 0.0 \t 0.0 \t 0.0 \t 0.0 \t 0.0 \t 0.0 \t 0.0 \t 0.0 \t 0.0 \t 0.0 \t 0.0 \t 0.0 \t 0.0 \t 0.0 \t 0.000  football\n",
            "[0.795]\t 0.0 \t 0.0 \t 0.0 \t 0.0 \t 1e-04 \t 1e-04 \t 0.0 \t 1e-04 \t 0.020 \t 1e-04 \t 0.0 \t 0.0 \t 1e-04 \t 1e-04 \t 0.000 \t 0.000 \t 0.0 \t 0.0 \t 1e-04 \t 0.003 \t 0.0 \t 0.0 \t 0.0 \t 0.0 \t 0.0 \t 0.0 \t 1e-04 \t 0.0 \t 0.000 \t 0.0 \t 0.0 \t 0.0 \t 1e-04 \t 0.0 \t 1e-04 \t 1e-04 \t 0.000 \t 1e-04 \t 0.000 \t 0.000 \t 0.0 \t 1e-04 \t 0.001 \t 0.0 \t 0.000 \t 0.001 \t 0.0 \t 1e-04 \t 0.000 \t 0.0 \t 0.0 \t 1e-04 \t 0.000 \t 1e-04 \t 1e-04 \t 0.000 \t 0.000 \t 0.000 \t 0.0 \t 0.0 \t 1e-04 \t 1e-04 \t 0.000 \t 0.0 \t 1e-04 \t 0.000 \t 1e-04 \t 1e-04 \t 0.0 \t 0.0 \t 1e-04 \t 0.0 \t 0.0 \t 0.0 \t 1e-04 \t 0.0 \t 0.0 \t 0.0 \t 0.000 \t 0.000 \t 1e-04 \t 1e-04 \t 0.0 \t 1e-04 \t 0.0 \t 1e-04 \t 0.000 \t 0.032 \t 1e-04 \t 0.000 \t 0.000 \t 0.0 \t 1e-04 \t 0.0 \t 0.0 \t 0.0 \t 0.0 \t 0.0 \t 0.0 \t 0.0 \t 1e-04 \t 0.0 \t 1e-04 \t 0.0 \t 1e-04 \t 0.020 \t 0.000 \t 0.0 \t 1e-04 \t 1e-04 \t 0.0 \t 1e-04 \t 0.000 \t 0.000 \t 0.0 \t 1e-04 \t 0.0 \t 1e-04 \t 1e-04 \t 0.000 \t 0.026 \t 0.000 \t 0.0 \t 0.0 \t 1e-04 \t 0.0 \t 0.0 \t 0.0 \t 0.0 \t 0.0 \t 0.0 \t 1e-04 \t 1e-04 \t 1e-04 \t 0.022 \t 0.035 \t 1e-04 \t 0.0 \t 1e-04 \t 0.0 \t 1e-04 \t 0.0 \t 0.022 \t 0.001 \t 1e-04 \t 0.000 \t 0.0 \t 0.000 \t 0.0 \t 0.0 \t 1e-04 \t 0.000 \t 0.0 \t 0.0 \t 0.0 \t 0.0 \t 0.0 \t 0.0 \t 1e-04 \t 0.001  but\n",
            " 0.004 \t 0.0 \t 0.0 \t 0.0 \t 0.0 \t 1e-04 \t 0.0 \t 0.0 \t 0.0 \t 0.112 \t 0.0 \t 0.0 \t 0.0 \t 1e-04 \t 0.0 \t 1e-04 \t 1e-04 \t 1e-04 \t 0.0 \t 1e-04 \t 0.001 \t 0.0 \t 0.0 \t 0.0 \t 0.0 \t 0.0 \t 0.0 \t 1e-04 \t 0.0 \t 1e-04 \t 0.0 \t 0.0 \t 0.0 \t 0.000 \t 1e-04 \t 0.0 \t 1e-04 \t 1e-04 \t 1e-04 \t 0.000 \t 0.000 \t 0.0 \t 0.0 \t 0.001 \t 0.0 \t 0.000 \t 0.000 \t 0.0 \t 0.0 \t 1e-04 \t 0.0 \t 0.0 \t 1e-04 \t 0.000 \t 0.0 \t 1e-04 \t 1e-04 \t 1e-04 \t 1e-04 \t 0.0 \t 0.0 \t 0.0 \t 0.0 \t 0.000 \t 0.0 \t 1e-04 \t 0.000 \t 0.0 \t 0.0 \t 0.0 \t 0.0 \t 0.0 \t 0.0 \t 0.0 \t 0.0 \t 1e-04 \t 0.0 \t 1e-04 \t 0.0 \t 0.000 \t 0.000 \t 0.0 \t 1e-04 \t 0.0 \t 0.0 \t 0.0 \t 1e-04 \t 0.000 \t 0.003 \t 1e-04 \t 1e-04 \t 1e-04 \t 0.0 \t 0.000 \t 0.0 \t 0.0 \t 0.0 \t 0.0 \t 0.0 \t 0.0 \t 0.0 \t 1e-04 \t 0.0 \t 1e-04 \t 0.0 \t 1e-04 \t 0.002 \t 1e-04 \t 0.0 \t 1e-04 \t 0.0 \t 0.0 \t 0.0 \t 0.000 \t 1e-04 \t 0.0 \t 1e-04 \t 1e-04 \t 1e-04 \t 1e-04 \t 1e-04 \t[0.525]\t 1e-04 \t 0.0 \t 0.0 \t 1e-04 \t 0.0 \t 0.0 \t 0.0 \t 1e-04 \t 0.0 \t 0.0 \t 0.0 \t 1e-04 \t 0.0 \t 0.013 \t 0.002 \t 0.0 \t 0.0 \t 1e-04 \t 0.0 \t 1e-04 \t 0.0 \t 0.319 \t 0.000 \t 0.0 \t 1e-04 \t 0.0 \t 1e-04 \t 0.0 \t 0.0 \t 1e-04 \t 1e-04 \t 0.0 \t 0.0 \t 0.0 \t 0.0 \t 0.0 \t 0.0 \t 0.0 \t 1e-04  don\n",
            " 0.000 \t 0.0 \t 0.0 \t 0.0 \t 0.0 \t 0.0 \t 0.0 \t 0.0 \t 0.0 \t 1e-04 \t 0.0 \t 0.0 \t 0.0 \t 0.0 \t 0.0 \t 0.0 \t 0.0 \t 0.0 \t 0.0 \t 0.0 \t 1e-04 \t 0.0 \t 0.0 \t 0.0 \t 0.0 \t 0.0 \t 0.0 \t 0.0 \t 0.0 \t 0.0 \t 0.0 \t 0.0 \t 0.0 \t 0.0 \t 0.0 \t 0.0 \t 0.0 \t 0.0 \t 0.0 \t 0.0 \t 0.0 \t 0.0 \t 0.0 \t 0.0 \t 0.0 \t 0.0 \t 0.0 \t 0.0 \t 0.0 \t 0.0 \t 0.0 \t 0.0 \t 0.0 \t 0.0 \t 0.0 \t 0.0 \t 0.0 \t 0.0 \t 0.0 \t 0.0 \t 0.0 \t 0.0 \t 0.0 \t 0.0 \t 0.0 \t 0.0 \t 0.0 \t 0.0 \t 0.0 \t 0.0 \t 0.0 \t 0.0 \t 0.0 \t 0.0 \t 0.0 \t 0.0 \t 0.0 \t 0.0 \t 0.0 \t 0.0 \t 0.0 \t 0.0 \t 0.0 \t 0.0 \t 0.0 \t 0.0 \t 0.0 \t 0.0 \t 0.000 \t 0.0 \t 0.0 \t 0.0 \t 0.0 \t 0.0 \t 0.0 \t 0.0 \t 0.0 \t 0.0 \t 0.0 \t 0.0 \t 0.0 \t 0.0 \t 0.0 \t 0.0 \t 0.0 \t 0.0 \t 0.000 \t 0.0 \t 0.0 \t 0.0 \t 0.0 \t 0.0 \t 0.0 \t 0.0 \t 0.0 \t 0.0 \t 0.0 \t 0.0 \t 0.0 \t 0.0 \t 0.0 \t 1e-04 \t 0.0 \t 0.0 \t 0.0 \t 0.0 \t 0.0 \t 0.0 \t 0.0 \t 0.0 \t 0.0 \t 0.0 \t 0.0 \t 0.0 \t 0.0 \t 1e-04 \t[0.998]\t 0.0 \t 0.0 \t 0.0 \t 0.0 \t 0.0 \t 0.0 \t 0.0 \t 0.0 \t 0.0 \t 0.0 \t 0.0 \t 0.0 \t 0.0 \t 0.0 \t 0.0 \t 0.0 \t 0.0 \t 0.0 \t 0.0 \t 0.0 \t 0.0 \t 0.0 \t 0.0 \t 0.0  '\n",
            "[0.324]\t 0.0 \t 0.0 \t 1e-04 \t 1e-04 \t 0.000 \t 1e-04 \t 1e-04 \t 1e-04 \t 0.068 \t 1e-04 \t 0.0 \t 1e-04 \t 1e-04 \t 0.000 \t 0.000 \t 0.000 \t 1e-04 \t 1e-04 \t 0.000 \t 0.008 \t 0.0 \t 0.0 \t 0.0 \t 1e-04 \t 1e-04 \t 0.0 \t 0.000 \t 1e-04 \t 0.000 \t 0.0 \t 1e-04 \t 0.0 \t 0.000 \t 0.000 \t 1e-04 \t 0.000 \t 1e-04 \t 1e-04 \t 0.000 \t 0.001 \t 0.0 \t 0.0 \t 0.001 \t 1e-04 \t 0.000 \t 0.002 \t 1e-04 \t 0.000 \t 0.000 \t 1e-04 \t 0.0 \t 0.000 \t 0.001 \t 1e-04 \t 0.000 \t 0.001 \t 1e-04 \t 1e-04 \t 0.0 \t 1e-04 \t 1e-04 \t 0.000 \t 0.001 \t 1e-04 \t 0.000 \t 0.000 \t 1e-04 \t 1e-04 \t 0.0 \t 0.0 \t 1e-04 \t 0.0 \t 1e-04 \t 1e-04 \t 0.000 \t 0.0 \t 1e-04 \t 1e-04 \t 0.000 \t 0.002 \t 1e-04 \t 1e-04 \t 0.0 \t 0.000 \t 1e-04 \t 1e-04 \t 0.000 \t 0.097 \t 1e-04 \t 0.000 \t 0.000 \t 1e-04 \t 0.000 \t 0.0 \t 1e-04 \t 0.0 \t 0.0 \t 0.0 \t 1e-04 \t 0.0 \t 0.0 \t 0.0 \t 1e-04 \t 1e-04 \t 1e-04 \t 0.029 \t 1e-04 \t 0.0 \t 1e-04 \t 1e-04 \t 1e-04 \t 0.000 \t 0.000 \t 0.001 \t 1e-04 \t 0.000 \t 1e-04 \t 1e-04 \t 0.000 \t 0.000 \t 0.157 \t 0.000 \t 0.0 \t 1e-04 \t 0.000 \t 0.0 \t 1e-04 \t 0.0 \t 0.0 \t 1e-04 \t 0.0 \t 1e-04 \t 1e-04 \t 0.000 \t 0.016 \t 0.234 \t 1e-04 \t 1e-04 \t 1e-04 \t 0.0 \t 1e-04 \t 0.0 \t 0.027 \t 0.002 \t 0.000 \t 0.000 \t 0.0 \t 0.000 \t 0.0 \t 0.0 \t 1e-04 \t 0.000 \t 0.0 \t 1e-04 \t 0.000 \t 0.0 \t 1e-04 \t 1e-04 \t 0.000 \t 0.001  t\n",
            " 0.000 \t 0.0 \t 0.0 \t 0.0 \t 0.0 \t 0.0 \t 0.0 \t 0.0 \t 0.0 \t 0.001 \t 0.0 \t 0.0 \t 0.0 \t 0.0 \t 0.0 \t 0.0 \t 0.0 \t 0.0 \t 0.0 \t 0.0 \t 0.0 \t 0.0 \t 0.0 \t 0.0 \t 0.0 \t 0.0 \t 0.0 \t 0.0 \t 0.0 \t 0.0 \t 0.0 \t 0.0 \t 0.0 \t 0.0 \t 0.0 \t 0.0 \t 0.0 \t 0.0 \t 0.0 \t 1e-04 \t 0.0 \t 0.0 \t 0.0 \t 1e-04 \t 0.0 \t 0.0 \t 0.0 \t 0.0 \t 0.0 \t 0.0 \t 0.0 \t 0.0 \t 0.0 \t 0.0 \t 0.0 \t 0.0 \t 0.0 \t 0.0 \t 0.0 \t 0.0 \t 0.0 \t 0.0 \t 0.0 \t 0.0 \t 0.0 \t 0.0 \t 0.0 \t 0.0 \t 0.0 \t 0.0 \t 0.0 \t 0.0 \t 0.0 \t 0.0 \t 0.0 \t 0.0 \t 0.0 \t 0.0 \t 0.0 \t 0.0 \t 0.0 \t 0.0 \t 0.0 \t 0.0 \t 0.0 \t 0.0 \t 0.0 \t 0.0 \t 1e-04 \t 0.0 \t 0.0 \t 0.0 \t 0.0 \t 0.0 \t 0.0 \t 0.0 \t 0.0 \t 0.0 \t 0.0 \t 0.0 \t 0.0 \t 0.0 \t 0.0 \t 0.0 \t 0.0 \t 0.0 \t 1e-04 \t 0.0 \t 0.0 \t 0.0 \t 0.0 \t 0.0 \t 0.0 \t 0.0 \t 0.0 \t 0.0 \t 0.0 \t 0.0 \t 0.0 \t 0.0 \t 0.0 \t 0.001 \t 0.0 \t 0.0 \t 0.0 \t 0.0 \t 0.0 \t 0.0 \t 0.0 \t 0.0 \t 0.0 \t 0.0 \t 0.0 \t 0.0 \t 0.0 \t 0.000 \t 1e-04 \t 0.0 \t 0.0 \t 0.0 \t 0.0 \t 0.0 \t 0.0 \t[0.995]\t 0.0 \t 0.0 \t 0.0 \t 0.0 \t 0.0 \t 0.0 \t 0.0 \t 0.0 \t 0.0 \t 0.0 \t 0.0 \t 0.0 \t 0.0 \t 0.0 \t 0.0 \t 0.0 \t 0.0  like\n",
            " 0.000 \t 0.0 \t 0.0 \t 0.0 \t 0.0 \t 0.0 \t 0.0 \t 0.0 \t 0.0 \t 0.000 \t 0.0 \t 0.0 \t 0.0 \t 0.0 \t 0.0 \t 0.0 \t 0.0 \t 0.0 \t 0.0 \t 0.0 \t 0.000 \t 0.0 \t 0.0 \t 0.0 \t 0.0 \t 0.0 \t 0.0 \t 0.0 \t 0.0 \t 0.0 \t 0.0 \t 0.0 \t 0.0 \t 0.0 \t 0.0 \t 0.0 \t 0.0 \t 0.0 \t 0.0 \t 0.0 \t 1e-04 \t 0.0 \t 0.0 \t 1e-04 \t 0.0 \t 0.0 \t 0.000 \t 0.0 \t 0.0 \t 0.0 \t 0.0 \t 0.0 \t 0.0 \t 0.0 \t 0.0 \t 0.0 \t 1e-04 \t 0.0 \t 0.0 \t 0.0 \t 0.0 \t 0.0 \t 0.0 \t 0.0 \t 0.0 \t 0.0 \t 0.0 \t 0.0 \t 0.0 \t 0.0 \t 0.0 \t 0.0 \t 0.0 \t 0.0 \t 0.0 \t 0.0 \t 0.0 \t 0.0 \t 0.0 \t 0.0 \t 0.000 \t 0.0 \t 0.0 \t 0.0 \t 0.0 \t 0.0 \t 0.0 \t 0.0 \t[0.989]\t 0.0 \t 0.0 \t 0.0 \t 0.0 \t 0.0 \t 0.0 \t 0.0 \t 0.0 \t 0.0 \t 0.0 \t 0.0 \t 0.0 \t 0.0 \t 0.0 \t 0.0 \t 0.0 \t 0.0 \t 0.000 \t 0.0 \t 0.0 \t 0.0 \t 0.0 \t 0.0 \t 0.0 \t 0.0 \t 1e-04 \t 0.0 \t 0.0 \t 0.0 \t 0.0 \t 0.0 \t 0.0 \t 0.002 \t 0.0 \t 0.0 \t 0.0 \t 0.0 \t 0.0 \t 0.0 \t 0.0 \t 0.0 \t 0.0 \t 0.0 \t 0.0 \t 0.0 \t 0.0 \t 0.000 \t 0.001 \t 0.0 \t 0.0 \t 0.0 \t 0.0 \t 0.0 \t 0.0 \t 0.000 \t 0.000 \t 0.0 \t 0.0 \t 0.0 \t 0.0 \t 0.0 \t 0.0 \t 0.0 \t 0.0 \t 0.0 \t 0.0 \t 0.0 \t 0.0 \t 0.0 \t 0.0 \t 0.0 \t 1e-04  to\n",
            " 0.004 \t 0.0 \t 0.0 \t 0.0 \t 0.0 \t 1e-04 \t 0.0 \t 0.0 \t 0.0 \t 0.108 \t 0.0 \t 0.0 \t 0.0 \t 1e-04 \t 0.0 \t 0.000 \t 0.000 \t 1e-04 \t 0.0 \t 1e-04 \t 0.002 \t 0.0 \t 0.0 \t 0.0 \t 0.0 \t 0.0 \t 0.0 \t 1e-04 \t 0.0 \t 0.000 \t 0.0 \t 1e-04 \t 0.0 \t 1e-04 \t 0.0 \t 0.0 \t 1e-04 \t 1e-04 \t 0.0 \t 0.000 \t 0.000 \t 0.0 \t 0.0 \t 0.000 \t 0.0 \t 1e-04 \t 0.000 \t 0.0 \t 1e-04 \t 1e-04 \t 0.0 \t 0.0 \t 0.000 \t 0.000 \t 1e-04 \t 1e-04 \t 0.000 \t 1e-04 \t 1e-04 \t 0.0 \t 0.0 \t 1e-04 \t 1e-04 \t 0.000 \t 1e-04 \t 0.0 \t 0.000 \t 0.0 \t 0.0 \t 0.0 \t 0.0 \t 0.0 \t 0.0 \t 0.0 \t 0.0 \t 0.0 \t 0.0 \t 1e-04 \t 0.0 \t 0.000 \t 0.000 \t 1e-04 \t 0.0 \t 0.0 \t 0.0 \t 0.0 \t 1e-04 \t 0.000 \t 0.003 \t 1e-04 \t 1e-04 \t 1e-04 \t 0.0 \t 0.000 \t 0.0 \t 0.0 \t 0.0 \t 0.0 \t 0.0 \t 1e-04 \t 0.0 \t 0.0 \t 0.0 \t 1e-04 \t 1e-04 \t 0.000 \t 0.009 \t 1e-04 \t 0.0 \t 1e-04 \t 0.0 \t 0.0 \t 0.0 \t 0.000 \t 0.000 \t 0.0 \t 0.0 \t 0.000 \t 0.0 \t 1e-04 \t 0.000 \t[0.815]\t 1e-04 \t 0.0 \t 0.0 \t 1e-04 \t 0.0 \t 0.0 \t 0.0 \t 0.0 \t 0.0 \t 0.0 \t 0.0 \t 0.0 \t 1e-04 \t 0.007 \t 0.010 \t 0.0 \t 0.0 \t 0.0 \t 0.0 \t 0.0 \t 0.0 \t 0.023 \t 0.000 \t 0.0 \t 1e-04 \t 0.0 \t 1e-04 \t 0.0 \t 0.0 \t 0.0 \t 1e-04 \t 0.0 \t 0.0 \t 0.0 \t 0.0 \t 0.0 \t 0.0 \t 1e-04 \t 0.000  make\n",
            " 0.000 \t 0.0 \t 0.0 \t 0.0 \t 0.0 \t 0.0 \t 0.0 \t 0.0 \t 0.0 \t 0.004 \t 0.0 \t 0.0 \t 0.0 \t 0.0 \t 0.0 \t 0.0 \t 0.0 \t 0.0 \t 0.0 \t 0.0 \t 1e-04 \t 0.0 \t 0.0 \t 0.0 \t 0.0 \t 0.0 \t 0.0 \t 0.0 \t 0.0 \t 0.0 \t 0.0 \t 0.0 \t 0.0 \t 0.0 \t 0.0 \t 0.0 \t 0.0 \t 0.0 \t 0.0 \t 1e-04 \t 1e-04 \t 0.0 \t 0.0 \t 0.000 \t 0.0 \t 0.0 \t 0.0 \t 0.0 \t 0.0 \t 0.0 \t 0.0 \t 0.0 \t 0.0 \t 1e-04 \t 0.0 \t 0.0 \t 0.0 \t 0.0 \t 0.0 \t 0.0 \t 0.0 \t 0.0 \t 0.0 \t 0.0 \t 0.0 \t 0.0 \t 0.0 \t 0.0 \t 0.0 \t 0.0 \t 0.0 \t 0.0 \t 0.0 \t 0.0 \t 0.0 \t 0.0 \t 0.0 \t 0.0 \t 0.0 \t 1e-04 \t 1e-04 \t 0.0 \t 0.0 \t 0.0 \t 0.0 \t 0.0 \t 0.0 \t 1e-04 \t 0.000 \t 0.0 \t 0.0 \t 0.0 \t 0.0 \t 1e-04 \t 0.0 \t 0.0 \t 0.0 \t 0.0 \t 0.0 \t 0.0 \t 0.0 \t 0.0 \t 0.0 \t 0.0 \t 0.0 \t 0.0 \t 0.000 \t 0.0 \t 0.0 \t 0.0 \t 0.0 \t 0.0 \t 0.0 \t 1e-04 \t 0.0 \t 0.0 \t 0.0 \t 0.0 \t 0.0 \t 0.0 \t 0.0 \t 0.007 \t 0.0 \t 0.0 \t 0.0 \t 0.0 \t 0.0 \t 0.0 \t 0.0 \t 0.0 \t 0.0 \t 0.0 \t 0.0 \t 0.0 \t 0.0 \t 0.002 \t 0.000 \t 0.0 \t 0.0 \t 0.0 \t 0.0 \t 0.0 \t 0.0 \t[0.981]\t 0.000 \t 0.0 \t 0.0 \t 0.0 \t 0.0 \t 0.0 \t 0.0 \t 0.0 \t 0.0 \t 0.0 \t 0.0 \t 0.0 \t 0.0 \t 0.0 \t 0.0 \t 0.0 \t 0.0  homework\n",
            "[0.987]\t 0.0 \t 0.0 \t 0.0 \t 0.0 \t 1e-04 \t 0.0 \t 0.0 \t 0.0 \t 0.001 \t 0.0 \t 0.0 \t 0.0 \t 0.0 \t 0.0 \t 0.0 \t 1e-04 \t 0.0 \t 0.0 \t 0.0 \t 0.000 \t 0.0 \t 0.0 \t 0.0 \t 0.0 \t 0.0 \t 0.0 \t 0.0 \t 0.0 \t 0.0 \t 0.0 \t 0.0 \t 0.0 \t 0.0 \t 0.0 \t 0.0 \t 0.0 \t 0.0 \t 0.0 \t 0.0 \t 1e-04 \t 0.0 \t 0.0 \t 0.000 \t 0.0 \t 0.0 \t 0.000 \t 0.0 \t 0.0 \t 0.0 \t 0.0 \t 0.0 \t 0.0 \t 1e-04 \t 0.0 \t 0.0 \t 1e-04 \t 0.0 \t 0.0 \t 0.0 \t 0.0 \t 0.0 \t 0.0 \t 1e-04 \t 0.0 \t 0.0 \t 0.0 \t 0.0 \t 0.0 \t 0.0 \t 0.0 \t 0.0 \t 0.0 \t 0.0 \t 0.0 \t 0.0 \t 0.0 \t 0.0 \t 0.0 \t 1e-04 \t 1e-04 \t 0.0 \t 0.0 \t 0.0 \t 0.0 \t 0.0 \t 0.0 \t 0.0 \t 0.000 \t 0.0 \t 0.0 \t 0.0 \t 0.0 \t 1e-04 \t 0.0 \t 0.0 \t 0.0 \t 0.0 \t 0.0 \t 0.0 \t 0.0 \t 0.0 \t 0.0 \t 0.0 \t 0.0 \t 0.0 \t 0.000 \t 0.0 \t 0.0 \t 0.0 \t 0.0 \t 0.0 \t 0.0 \t 1e-04 \t 1e-04 \t 0.0 \t 0.0 \t 0.0 \t 0.0 \t 0.0 \t 1e-04 \t 0.000 \t 0.0 \t 0.0 \t 0.0 \t 0.0 \t 0.0 \t 0.0 \t 0.0 \t 0.0 \t 0.0 \t 0.0 \t 0.0 \t 0.0 \t 0.0 \t 0.000 \t 0.002 \t 0.0 \t 0.0 \t 0.0 \t 0.0 \t 0.0 \t 0.0 \t 0.001 \t 1e-04 \t 0.0 \t 0.0 \t 0.0 \t 0.0 \t 0.0 \t 0.0 \t 0.0 \t 0.0 \t 0.0 \t 0.0 \t 0.0 \t 0.0 \t 0.0 \t 0.0 \t 0.0 \t 1e-04  [SEP]\n",
            " 0.061 \t 1e-04 \t 1e-04 \t 0.000 \t 1e-04 \t 0.000 \t 0.000 \t 0.000 \t 0.000 \t 0.170 \t 0.000 \t 0.0 \t 1e-04 \t 0.000 \t 0.000 \t 0.000 \t 0.000 \t 0.000 \t 1e-04 \t 0.000 \t 0.012 \t 1e-04 \t 1e-04 \t 1e-04 \t 1e-04 \t 1e-04 \t 1e-04 \t 0.000 \t 1e-04 \t 0.000 \t 1e-04 \t 1e-04 \t 1e-04 \t 0.000 \t 1e-04 \t 0.000 \t 0.000 \t 0.000 \t 0.000 \t 0.001 \t 0.003 \t 1e-04 \t 0.000 \t 0.006 \t 0.000 \t 0.000 \t 0.002 \t 1e-04 \t 0.000 \t 0.000 \t 1e-04 \t 1e-04 \t 0.000 \t 0.001 \t 0.000 \t 0.000 \t 0.000 \t 0.000 \t 0.000 \t 1e-04 \t 1e-04 \t 0.000 \t 0.000 \t 0.002 \t 0.000 \t 0.000 \t 0.002 \t 1e-04 \t 0.000 \t 1e-04 \t 0.0 \t 0.000 \t 0.000 \t 1e-04 \t 0.000 \t 0.000 \t 0.0 \t 0.000 \t 1e-04 \t 0.002 \t 0.005 \t 0.000 \t 0.000 \t 1e-04 \t 0.000 \t 0.000 \t 0.000 \t 0.001 \t 0.085 \t 0.000 \t 0.000 \t 0.000 \t 1e-04 \t 0.002 \t 0.0 \t 0.000 \t 1e-04 \t 1e-04 \t 1e-04 \t 0.000 \t 1e-04 \t 0.000 \t 1e-04 \t 0.000 \t 0.000 \t 0.000 \t 0.036 \t 0.000 \t 1e-04 \t 0.000 \t 1e-04 \t 1e-04 \t 0.000 \t 0.001 \t 0.000 \t 1e-04 \t 0.000 \t 0.000 \t 0.000 \t 0.000 \t 0.000 \t[0.244]\t 0.000 \t 1e-04 \t 1e-04 \t 0.000 \t 0.0 \t 1e-04 \t 1e-04 \t 1e-04 \t 0.000 \t 0.0 \t 0.000 \t 0.000 \t 0.000 \t 0.032 \t 0.055 \t 0.000 \t 1e-04 \t 0.000 \t 1e-04 \t 0.000 \t 1e-04 \t 0.228 \t 0.005 \t 1e-04 \t 0.000 \t 1e-04 \t 0.001 \t 1e-04 \t 0.0 \t 0.000 \t 0.000 \t 1e-04 \t 0.0 \t 1e-04 \t 1e-04 \t 1e-04 \t 1e-04 \t 0.000 \t 0.001  what\n",
            " 0.012 \t 1e-04 \t 0.0 \t 0.0 \t 0.0 \t 1e-04 \t 1e-04 \t 1e-04 \t 0.0 \t 0.026 \t 1e-04 \t 0.0 \t 1e-04 \t 1e-04 \t 1e-04 \t 0.000 \t 0.000 \t 0.0 \t 1e-04 \t 1e-04 \t 0.003 \t 0.0 \t 1e-04 \t 0.0 \t 0.0 \t 0.0 \t 0.0 \t 1e-04 \t 0.0 \t 0.000 \t 0.0 \t 0.0 \t 0.0 \t 0.000 \t 1e-04 \t 0.0 \t 1e-04 \t 1e-04 \t 1e-04 \t 0.000 \t 0.001 \t 0.0 \t 0.0 \t 0.001 \t 0.0 \t 1e-04 \t 0.000 \t 0.0 \t 1e-04 \t 1e-04 \t 0.0 \t 0.0 \t 0.000 \t 0.000 \t 0.0 \t 0.000 \t 0.000 \t 0.0 \t 1e-04 \t 0.0 \t 0.0 \t 0.0 \t 1e-04 \t 0.001 \t 1e-04 \t 1e-04 \t 0.000 \t 1e-04 \t 1e-04 \t 1e-04 \t 0.0 \t 0.0 \t 0.0 \t 0.0 \t 0.0 \t 1e-04 \t 0.0 \t 1e-04 \t 0.0 \t 0.000 \t 0.001 \t 1e-04 \t 1e-04 \t 0.0 \t 1e-04 \t 1e-04 \t 1e-04 \t 0.000 \t 0.019 \t 1e-04 \t 0.000 \t 0.000 \t 1e-04 \t 0.000 \t 0.0 \t 0.0 \t 0.0 \t 0.0 \t 0.0 \t 0.0 \t 0.0 \t 0.0 \t 0.0 \t 0.000 \t 0.0 \t 0.000 \t 0.012 \t 1e-04 \t 0.0 \t 0.0 \t 0.0 \t 0.0 \t 1e-04 \t 0.000 \t 0.000 \t 0.0 \t 1e-04 \t 0.000 \t 1e-04 \t 1e-04 \t 0.000 \t[0.789]\t 0.000 \t 0.0 \t 0.0 \t 1e-04 \t 0.0 \t 0.0 \t 0.0 \t 0.0 \t 1e-04 \t 0.0 \t 1e-04 \t 0.0 \t 1e-04 \t 0.032 \t 0.074 \t 1e-04 \t 0.0 \t 0.0 \t 0.0 \t 1e-04 \t 0.0 \t 0.008 \t 0.000 \t 0.0 \t 1e-04 \t 0.0 \t 1e-04 \t 0.0 \t 0.0 \t 0.0 \t 1e-04 \t 0.0 \t 0.0 \t 0.0 \t 1e-04 \t 1e-04 \t 1e-04 \t 1e-04 \t 0.000  does\n",
            " 0.007 \t 0.0 \t 0.0 \t 0.0 \t 0.0 \t 1e-04 \t 0.0 \t 0.0 \t 0.0 \t 0.011 \t 0.0 \t 0.0 \t 0.0 \t 0.0 \t 0.0 \t 0.000 \t 1e-04 \t 1e-04 \t 0.0 \t 0.000 \t 0.000 \t 0.0 \t 0.0 \t 0.0 \t 0.0 \t 0.0 \t 0.0 \t 1e-04 \t 0.0 \t 0.0 \t 0.0 \t 0.0 \t 0.0 \t 0.000 \t 0.0 \t 1e-04 \t 1e-04 \t 1e-04 \t 1e-04 \t 0.000 \t 0.000 \t 0.0 \t 0.0 \t 0.002 \t 1e-04 \t 1e-04 \t 1e-04 \t 0.0 \t 1e-04 \t 1e-04 \t 0.0 \t 0.0 \t 0.0 \t 0.000 \t 0.0 \t 1e-04 \t 0.0 \t 1e-04 \t 1e-04 \t 0.0 \t 0.0 \t 0.0 \t 0.0 \t 0.000 \t 1e-04 \t 0.0 \t 1e-04 \t 0.0 \t 0.0 \t 0.0 \t 0.0 \t 1e-04 \t 0.0 \t 0.0 \t 0.0 \t 0.0 \t 0.0 \t 1e-04 \t 0.0 \t 0.000 \t 0.000 \t 1e-04 \t 1e-04 \t 0.0 \t 0.0 \t 0.0 \t 1e-04 \t 0.000 \t 0.004 \t 1e-04 \t 1e-04 \t 1e-04 \t 0.0 \t 0.000 \t 0.0 \t 0.0 \t 0.0 \t 0.0 \t 0.0 \t 0.0 \t 0.0 \t 1e-04 \t 0.0 \t 1e-04 \t 1e-04 \t 1e-04 \t 0.001 \t 1e-04 \t 0.0 \t 1e-04 \t 0.0 \t 0.0 \t 0.0 \t 0.000 \t 1e-04 \t 0.0 \t 0.0 \t 1e-04 \t 0.0 \t 1e-04 \t 1e-04 \t 0.034 \t 0.0 \t 0.0 \t 0.0 \t 0.000 \t 0.0 \t 0.0 \t 0.0 \t 1e-04 \t 0.0 \t 0.0 \t 0.0 \t 1e-04 \t 0.0 \t 0.008 \t 0.002 \t 0.0 \t 0.0 \t 1e-04 \t 0.0 \t 1e-04 \t 0.0 \t[0.917]\t 0.001 \t 0.0 \t 1e-04 \t 0.0 \t 1e-04 \t 0.0 \t 0.0 \t 1e-04 \t 1e-04 \t 0.0 \t 0.0 \t 0.0 \t 0.0 \t 0.0 \t 0.0 \t 1e-04 \t 1e-04  mike\n",
            " 0.007 \t 0.0 \t 0.0 \t 0.0 \t 0.0 \t 1e-04 \t 0.0 \t 0.0 \t 1e-04 \t 0.071 \t 1e-04 \t 0.0 \t 0.0 \t 1e-04 \t 0.0 \t 0.000 \t 1e-04 \t 0.0 \t 0.0 \t 1e-04 \t 0.001 \t 0.0 \t 0.0 \t 0.0 \t 0.0 \t 0.0 \t 0.0 \t 1e-04 \t 0.0 \t 1e-04 \t 0.0 \t 1e-04 \t 0.0 \t 0.000 \t 1e-04 \t 1e-04 \t 0.0 \t 1e-04 \t 0.0 \t 0.000 \t 0.000 \t 0.0 \t 0.0 \t 0.002 \t 0.0 \t 0.000 \t 0.000 \t 0.0 \t 0.0 \t 0.000 \t 0.0 \t 0.0 \t 1e-04 \t 0.001 \t 0.0 \t 0.000 \t 1e-04 \t 1e-04 \t 1e-04 \t 0.0 \t 0.0 \t 1e-04 \t 0.0 \t 0.000 \t 0.0 \t 1e-04 \t 1e-04 \t 0.0 \t 0.0 \t 0.0 \t 0.0 \t 0.0 \t 0.0 \t 0.0 \t 0.0 \t 0.0 \t 0.0 \t 1e-04 \t 0.0 \t 0.000 \t 0.000 \t 0.0 \t 1e-04 \t 0.0 \t 0.0 \t 0.0 \t 1e-04 \t 0.000 \t 0.003 \t 1e-04 \t 1e-04 \t 0.000 \t 0.0 \t 0.001 \t 0.0 \t 1e-04 \t 0.0 \t 0.0 \t 0.0 \t 0.0 \t 0.0 \t 0.0 \t 0.0 \t 1e-04 \t 0.0 \t 0.000 \t 0.001 \t 1e-04 \t 0.0 \t 1e-04 \t 0.0 \t 0.0 \t 1e-04 \t 0.000 \t 1e-04 \t 1e-04 \t 0.0 \t 1e-04 \t 0.0 \t 1e-04 \t 0.000 \t 0.073 \t 1e-04 \t 0.0 \t 0.0 \t 1e-04 \t 0.0 \t 0.0 \t 0.0 \t 0.0 \t 1e-04 \t 0.0 \t 0.0 \t 1e-04 \t 0.0 \t 0.006 \t 0.003 \t 0.0 \t 0.0 \t 1e-04 \t 0.0 \t 1e-04 \t 0.0 \t[0.813]\t 0.000 \t 0.0 \t 1e-04 \t 0.0 \t 1e-04 \t 0.0 \t 0.0 \t 0.0 \t 1e-04 \t 0.0 \t 0.0 \t 0.0 \t 0.0 \t 1e-04 \t 0.0 \t 0.0 \t 1e-04  want\n",
            " 0.000 \t 0.0 \t 0.0 \t 0.0 \t 0.0 \t 0.0 \t 0.0 \t 0.0 \t 0.0 \t 0.000 \t 0.0 \t 0.0 \t 0.0 \t 0.0 \t 0.0 \t 0.0 \t 0.0 \t 0.0 \t 0.0 \t 0.0 \t 0.000 \t 0.0 \t 0.0 \t 0.0 \t 0.0 \t 0.0 \t 0.0 \t 0.0 \t 0.0 \t 0.0 \t 0.0 \t 0.0 \t 0.0 \t 0.0 \t 0.0 \t 0.0 \t 0.0 \t 0.0 \t 0.0 \t 0.0 \t 1e-04 \t 0.0 \t 0.0 \t 0.0 \t 0.0 \t 0.0 \t 0.000 \t 0.0 \t 0.0 \t 0.0 \t 0.0 \t 0.0 \t 0.0 \t 0.0 \t 0.0 \t 0.0 \t 1e-04 \t 0.0 \t 0.0 \t 0.0 \t 0.0 \t 0.0 \t 0.0 \t 0.0 \t 0.0 \t 0.0 \t 0.0 \t 0.0 \t 0.0 \t 0.0 \t 0.0 \t 0.0 \t 0.0 \t 0.0 \t 0.0 \t 0.0 \t 0.0 \t 0.0 \t 0.0 \t 0.0 \t 0.000 \t 0.0 \t 0.0 \t 0.0 \t 0.0 \t 0.0 \t 0.0 \t 0.0 \t[0.989]\t 0.0 \t 0.0 \t 0.0 \t 0.0 \t 0.0 \t 0.0 \t 0.0 \t 0.0 \t 0.0 \t 0.0 \t 0.0 \t 0.0 \t 0.0 \t 0.0 \t 0.0 \t 0.0 \t 0.0 \t 0.001 \t 0.0 \t 0.0 \t 0.0 \t 0.0 \t 0.0 \t 0.0 \t 0.0 \t 1e-04 \t 0.0 \t 0.0 \t 0.0 \t 0.0 \t 0.0 \t 0.0 \t 0.002 \t 0.0 \t 0.0 \t 0.0 \t 0.0 \t 0.0 \t 0.0 \t 0.0 \t 0.0 \t 0.0 \t 0.0 \t 0.0 \t 0.0 \t 0.0 \t 0.001 \t 0.001 \t 0.0 \t 0.0 \t 0.0 \t 0.0 \t 0.0 \t 0.0 \t 0.000 \t 0.000 \t 0.0 \t 0.0 \t 0.0 \t 0.0 \t 0.0 \t 0.0 \t 0.0 \t 0.0 \t 0.0 \t 0.0 \t 0.0 \t 0.0 \t 0.0 \t 0.0 \t 0.0 \t 1e-04  to\n",
            " 0.001 \t 0.0 \t 0.0 \t 0.0 \t 0.0 \t 0.0 \t 0.0 \t 0.0 \t 0.0 \t 0.004 \t 0.0 \t 0.0 \t 0.0 \t 0.0 \t 0.0 \t 0.0 \t 1e-04 \t 0.0 \t 0.0 \t 0.0 \t 0.001 \t 0.0 \t 0.0 \t 0.0 \t 0.0 \t 0.0 \t 0.0 \t 0.0 \t 0.0 \t 1e-04 \t 0.0 \t 0.0 \t 0.0 \t 0.0 \t 0.0 \t 0.0 \t 0.0 \t 0.0 \t 0.0 \t 1e-04 \t 0.000 \t 0.0 \t 0.0 \t 0.000 \t 0.0 \t 0.0 \t 1e-04 \t 0.0 \t 0.0 \t 0.0 \t 0.0 \t 0.0 \t 1e-04 \t 1e-04 \t 0.0 \t 0.0 \t 0.000 \t 0.0 \t 0.0 \t 0.0 \t 0.0 \t 0.0 \t 0.0 \t 0.000 \t 0.0 \t 0.0 \t 1e-04 \t 0.0 \t 0.0 \t 0.0 \t 0.0 \t 0.0 \t 0.0 \t 0.0 \t 0.0 \t 0.0 \t 0.0 \t 0.0 \t 0.0 \t 1e-04 \t 0.000 \t 0.0 \t 0.0 \t 0.0 \t 0.0 \t 0.0 \t 0.0 \t 1e-04 \t 0.006 \t 0.0 \t 1e-04 \t 0.0 \t 0.0 \t 1e-04 \t 0.0 \t 0.0 \t 0.0 \t 0.0 \t 0.0 \t 0.0 \t 0.0 \t 0.0 \t 0.0 \t 0.0 \t 0.0 \t 1e-04 \t 0.002 \t 0.0 \t 0.0 \t 0.0 \t 0.0 \t 0.0 \t 0.0 \t 1e-04 \t 0.000 \t 0.0 \t 0.0 \t 0.0 \t 0.0 \t 0.0 \t 1e-04 \t[0.970]\t 1e-04 \t 0.0 \t 0.0 \t 0.0 \t 0.0 \t 0.0 \t 0.0 \t 0.0 \t 0.0 \t 0.0 \t 0.0 \t 0.0 \t 1e-04 \t 0.002 \t 0.005 \t 0.0 \t 0.0 \t 0.0 \t 0.0 \t 0.0 \t 0.0 \t 0.001 \t 0.000 \t 0.0 \t 1e-04 \t 0.0 \t 1e-04 \t 0.0 \t 0.0 \t 0.0 \t 0.0 \t 0.0 \t 0.0 \t 0.0 \t 0.0 \t 0.0 \t 0.0 \t 0.0 \t 0.000  do\n",
            "[0.933]\t 0.0 \t 0.0 \t 0.0 \t 0.0 \t 0.0 \t 0.0 \t 0.0 \t 0.0 \t 0.003 \t 0.0 \t 0.0 \t 0.0 \t 0.0 \t 0.0 \t 0.0 \t 1e-04 \t 0.0 \t 0.0 \t 0.0 \t 0.000 \t 0.0 \t 0.0 \t 0.0 \t 0.0 \t 0.0 \t 0.0 \t 0.0 \t 0.0 \t 0.0 \t 0.0 \t 0.0 \t 0.0 \t 0.0 \t 0.0 \t 0.0 \t 0.0 \t 0.0 \t 0.0 \t 1e-04 \t 0.000 \t 0.0 \t 0.0 \t 0.000 \t 0.0 \t 1e-04 \t 0.000 \t 0.0 \t 0.0 \t 0.0 \t 0.0 \t 0.0 \t 0.0 \t 1e-04 \t 0.0 \t 0.0 \t 1e-04 \t 0.0 \t 0.0 \t 0.0 \t 0.0 \t 0.0 \t 0.0 \t 1e-04 \t 0.0 \t 0.0 \t 1e-04 \t 0.0 \t 0.0 \t 0.0 \t 0.0 \t 0.0 \t 0.0 \t 0.0 \t 0.0 \t 0.0 \t 0.0 \t 0.0 \t 0.0 \t 1e-04 \t 0.000 \t 0.0 \t 0.0 \t 0.0 \t 0.0 \t 0.0 \t 0.0 \t 0.0 \t 0.003 \t 0.0 \t 0.0 \t 0.0 \t 0.0 \t 1e-04 \t 0.0 \t 0.0 \t 0.0 \t 0.0 \t 0.0 \t 0.0 \t 0.0 \t 0.0 \t 0.0 \t 0.0 \t 0.0 \t 0.0 \t 0.002 \t 1e-04 \t 0.0 \t 0.0 \t 0.0 \t 0.0 \t 0.0 \t 1e-04 \t 1e-04 \t 0.0 \t 0.0 \t 0.0 \t 0.0 \t 0.0 \t 0.0 \t 0.008 \t 1e-04 \t 0.0 \t 0.0 \t 1e-04 \t 0.0 \t 0.0 \t 0.0 \t 0.0 \t 0.0 \t 0.0 \t 0.0 \t 0.0 \t 0.0 \t 0.004 \t 0.002 \t 0.0 \t 0.0 \t 0.0 \t 0.0 \t 0.0 \t 0.0 \t 0.036 \t 0.000 \t 0.0 \t 1e-04 \t 0.0 \t 1e-04 \t 0.0 \t 0.0 \t 0.0 \t 1e-04 \t 0.0 \t 0.0 \t 0.0 \t 0.0 \t 0.0 \t 0.0 \t 0.0 \t 1e-04  ?\n",
            "[0.987]\t 0.0 \t 0.0 \t 0.0 \t 0.0 \t 1e-04 \t 0.0 \t 0.0 \t 0.0 \t 0.001 \t 0.0 \t 0.0 \t 0.0 \t 0.0 \t 0.0 \t 0.0 \t 1e-04 \t 0.0 \t 0.0 \t 0.0 \t 0.000 \t 0.0 \t 0.0 \t 0.0 \t 0.0 \t 0.0 \t 0.0 \t 0.0 \t 0.0 \t 0.0 \t 0.0 \t 0.0 \t 0.0 \t 0.0 \t 0.0 \t 0.0 \t 0.0 \t 0.0 \t 0.0 \t 0.0 \t 1e-04 \t 0.0 \t 0.0 \t 0.000 \t 0.0 \t 0.0 \t 0.000 \t 0.0 \t 0.0 \t 0.0 \t 0.0 \t 0.0 \t 0.0 \t 1e-04 \t 0.0 \t 0.0 \t 1e-04 \t 0.0 \t 0.0 \t 0.0 \t 0.0 \t 0.0 \t 0.0 \t 1e-04 \t 0.0 \t 0.0 \t 0.0 \t 0.0 \t 0.0 \t 0.0 \t 0.0 \t 0.0 \t 0.0 \t 0.0 \t 0.0 \t 0.0 \t 0.0 \t 0.0 \t 0.0 \t 1e-04 \t 1e-04 \t 0.0 \t 0.0 \t 0.0 \t 0.0 \t 0.0 \t 0.0 \t 0.0 \t 0.000 \t 0.0 \t 0.0 \t 0.0 \t 0.0 \t 1e-04 \t 0.0 \t 0.0 \t 0.0 \t 0.0 \t 0.0 \t 0.0 \t 0.0 \t 0.0 \t 0.0 \t 0.0 \t 0.0 \t 0.0 \t 0.000 \t 0.0 \t 0.0 \t 0.0 \t 0.0 \t 0.0 \t 0.0 \t 1e-04 \t 1e-04 \t 0.0 \t 0.0 \t 0.0 \t 0.0 \t 0.0 \t 1e-04 \t 0.000 \t 0.0 \t 0.0 \t 0.0 \t 0.0 \t 0.0 \t 0.0 \t 0.0 \t 0.0 \t 0.0 \t 0.0 \t 0.0 \t 0.0 \t 0.0 \t 0.000 \t 0.002 \t 0.0 \t 0.0 \t 0.0 \t 0.0 \t 0.0 \t 0.0 \t 0.001 \t 1e-04 \t 0.0 \t 0.0 \t 0.0 \t 0.0 \t 0.0 \t 0.0 \t 0.0 \t 0.0 \t 0.0 \t 0.0 \t 0.0 \t 0.0 \t 0.0 \t 0.0 \t 0.0 \t 1e-04  [SEP]\n",
            " 0.002 \t 0.0 \t 0.0 \t 0.0 \t 0.0 \t 0.0 \t 0.0 \t 0.0 \t 0.0 \t 0.007 \t 0.0 \t 0.0 \t 0.0 \t 0.0 \t 0.0 \t 1e-04 \t 0.0 \t 0.0 \t 0.0 \t 1e-04 \t 1e-04 \t 0.0 \t 0.0 \t 0.0 \t 0.0 \t 0.0 \t 0.0 \t 0.0 \t 0.0 \t 0.0 \t 0.0 \t 0.0 \t 0.0 \t 1e-04 \t 0.0 \t 0.0 \t 0.0 \t 0.0 \t 0.0 \t 0.000 \t 0.000 \t 0.0 \t 0.0 \t 0.000 \t 0.0 \t 0.0 \t 0.0 \t 0.0 \t 0.0 \t 0.0 \t 0.0 \t 0.0 \t 0.0 \t 1e-04 \t 0.0 \t 0.0 \t 0.0 \t 0.0 \t 0.0 \t 0.0 \t 0.0 \t 0.0 \t 0.0 \t 1e-04 \t 0.0 \t 0.0 \t 0.0 \t 0.0 \t 0.0 \t 0.0 \t 0.0 \t 0.0 \t 0.0 \t 0.0 \t 0.0 \t 0.0 \t 0.0 \t 0.0 \t 0.0 \t 0.000 \t 0.000 \t 0.0 \t 0.0 \t 0.0 \t 0.0 \t 0.0 \t 0.0 \t 1e-04 \t 0.001 \t 0.0 \t 0.0 \t 0.0 \t 0.0 \t 1e-04 \t 0.0 \t 0.0 \t 0.0 \t 0.0 \t 0.0 \t 0.0 \t 0.0 \t 0.0 \t 0.0 \t 0.0 \t 0.0 \t 0.0 \t 0.000 \t 0.0 \t 0.0 \t 0.0 \t 0.0 \t 0.0 \t 0.0 \t 1e-04 \t 0.0 \t 0.0 \t 0.0 \t 0.0 \t 0.0 \t 0.0 \t 0.0 \t 0.012 \t 0.0 \t 0.0 \t 0.0 \t 0.0 \t 0.0 \t 0.0 \t 0.0 \t 0.0 \t 0.0 \t 0.0 \t 0.0 \t 0.0 \t 0.0 \t 0.004 \t 0.000 \t 0.0 \t 0.0 \t 0.0 \t 0.0 \t 0.0 \t 0.0 \t[0.966]\t 0.000 \t 0.0 \t 0.0 \t 0.0 \t 0.0 \t 0.0 \t 0.0 \t 0.0 \t 0.0 \t 0.0 \t 0.0 \t 0.0 \t 0.0 \t 0.0 \t 0.0 \t 0.0 \t 0.0  gaming\n",
            "[0.865]\t 0.0 \t 0.0 \t 0.0 \t 0.0 \t 1e-04 \t 1e-04 \t 0.0 \t 0.0 \t 0.005 \t 0.0 \t 0.0 \t 0.0 \t 0.0 \t 0.0 \t 1e-04 \t 1e-04 \t 0.0 \t 0.0 \t 1e-04 \t 0.002 \t 0.0 \t 0.0 \t 0.0 \t 0.0 \t 0.0 \t 0.0 \t 1e-04 \t 0.0 \t 0.0 \t 0.0 \t 0.0 \t 0.0 \t 1e-04 \t 0.0 \t 0.0 \t 1e-04 \t 0.0 \t 0.0 \t 0.000 \t 0.000 \t 0.0 \t 0.0 \t 0.000 \t 0.0 \t 0.0 \t 0.000 \t 0.0 \t 1e-04 \t 1e-04 \t 0.0 \t 0.0 \t 1e-04 \t 0.000 \t 1e-04 \t 1e-04 \t 0.000 \t 0.0 \t 0.0 \t 0.0 \t 0.0 \t 0.0 \t 1e-04 \t 0.000 \t 0.0 \t 0.0 \t 0.000 \t 0.0 \t 1e-04 \t 0.0 \t 0.0 \t 0.0 \t 0.0 \t 0.0 \t 0.0 \t 1e-04 \t 0.0 \t 0.0 \t 0.0 \t 1e-04 \t 0.000 \t 0.0 \t 1e-04 \t 0.0 \t 1e-04 \t 0.0 \t 0.0 \t 1e-04 \t 0.019 \t 1e-04 \t 1e-04 \t 1e-04 \t 0.0 \t 1e-04 \t 0.0 \t 0.0 \t 0.0 \t 0.0 \t 0.0 \t 0.0 \t 0.0 \t 0.0 \t 0.0 \t 0.0 \t 0.0 \t 1e-04 \t 0.003 \t 1e-04 \t 0.0 \t 0.0 \t 0.0 \t 0.0 \t 1e-04 \t 0.000 \t 0.000 \t 0.0 \t 1e-04 \t 0.0 \t 0.0 \t 1e-04 \t 0.000 \t 0.008 \t 1e-04 \t 0.0 \t 0.0 \t 0.0 \t 0.0 \t 0.0 \t 0.0 \t 0.0 \t 0.0 \t 0.0 \t 1e-04 \t 0.0 \t 1e-04 \t 0.009 \t 0.070 \t 0.0 \t 0.0 \t 0.0 \t 0.0 \t 0.0 \t 0.0 \t 0.005 \t 0.000 \t 0.0 \t 0.0 \t 0.0 \t 1e-04 \t 0.0 \t 0.0 \t 0.0 \t 1e-04 \t 0.0 \t 0.0 \t 0.0 \t 0.0 \t 0.0 \t 0.0 \t 1e-04 \t 0.000  ,\n",
            "[0.779]\t 0.0 \t 0.0 \t 0.0 \t 0.0 \t 1e-04 \t 1e-04 \t 0.0 \t 1e-04 \t 0.027 \t 1e-04 \t 0.0 \t 0.0 \t 1e-04 \t 1e-04 \t 0.000 \t 0.000 \t 0.0 \t 0.0 \t 1e-04 \t 0.003 \t 0.0 \t 0.0 \t 0.0 \t 0.0 \t 0.0 \t 0.0 \t 1e-04 \t 0.0 \t 0.000 \t 0.0 \t 0.0 \t 0.0 \t 0.000 \t 1e-04 \t 1e-04 \t 1e-04 \t 0.000 \t 1e-04 \t 0.000 \t 0.000 \t 0.0 \t 1e-04 \t 0.001 \t 0.0 \t 0.000 \t 0.001 \t 0.0 \t 1e-04 \t 0.000 \t 0.0 \t 0.0 \t 1e-04 \t 0.000 \t 1e-04 \t 1e-04 \t 0.000 \t 0.000 \t 0.000 \t 0.0 \t 0.0 \t 1e-04 \t 1e-04 \t 0.000 \t 0.0 \t 1e-04 \t 0.000 \t 1e-04 \t 1e-04 \t 0.0 \t 0.0 \t 1e-04 \t 0.0 \t 0.0 \t 0.0 \t 1e-04 \t 0.0 \t 1e-04 \t 0.0 \t 0.000 \t 0.000 \t 1e-04 \t 1e-04 \t 0.0 \t 1e-04 \t 0.0 \t 1e-04 \t 0.000 \t 0.033 \t 1e-04 \t 0.000 \t 0.000 \t 0.0 \t 1e-04 \t 0.0 \t 0.0 \t 0.0 \t 0.0 \t 0.0 \t 1e-04 \t 0.0 \t 1e-04 \t 0.0 \t 1e-04 \t 0.0 \t 1e-04 \t 0.020 \t 0.000 \t 0.0 \t 0.000 \t 1e-04 \t 0.0 \t 1e-04 \t 0.001 \t 0.000 \t 0.0 \t 1e-04 \t 1e-04 \t 1e-04 \t 0.000 \t 0.000 \t 0.027 \t 0.000 \t 0.0 \t 1e-04 \t 0.000 \t 0.0 \t 0.0 \t 0.0 \t 0.0 \t 0.0 \t 0.0 \t 1e-04 \t 1e-04 \t 0.000 \t 0.015 \t 0.043 \t 1e-04 \t 0.0 \t 1e-04 \t 0.0 \t 1e-04 \t 0.0 \t 0.025 \t 0.001 \t 1e-04 \t 0.000 \t 0.0 \t 0.000 \t 0.0 \t 0.0 \t 1e-04 \t 0.000 \t 0.0 \t 0.0 \t 0.0 \t 0.0 \t 0.0 \t 0.0 \t 0.000 \t 0.001  but\n",
            " 0.008 \t 0.0 \t 0.0 \t 0.0 \t 0.0 \t 1e-04 \t 0.0 \t 0.0 \t 1e-04 \t 0.015 \t 1e-04 \t 0.0 \t 0.0 \t 1e-04 \t 0.0 \t 0.000 \t 1e-04 \t 1e-04 \t 0.0 \t 0.000 \t 0.000 \t 0.0 \t 0.0 \t 0.0 \t 0.0 \t 0.0 \t 0.0 \t 1e-04 \t 0.0 \t 0.0 \t 0.0 \t 0.0 \t 0.0 \t 0.000 \t 1e-04 \t 1e-04 \t 1e-04 \t 1e-04 \t 0.000 \t 0.000 \t 0.000 \t 0.0 \t 1e-04 \t 0.002 \t 1e-04 \t 1e-04 \t 0.000 \t 0.0 \t 1e-04 \t 1e-04 \t 0.0 \t 0.0 \t 0.0 \t 0.000 \t 1e-04 \t 1e-04 \t 1e-04 \t 1e-04 \t 0.000 \t 0.0 \t 0.0 \t 0.0 \t 0.0 \t 0.000 \t 1e-04 \t 0.0 \t 1e-04 \t 0.0 \t 0.0 \t 0.0 \t 0.0 \t 1e-04 \t 0.0 \t 0.0 \t 0.0 \t 0.0 \t 0.0 \t 1e-04 \t 0.0 \t 0.000 \t 0.000 \t 1e-04 \t 0.000 \t 1e-04 \t 0.0 \t 0.0 \t 1e-04 \t 0.000 \t 0.005 \t 1e-04 \t 1e-04 \t 1e-04 \t 0.0 \t 0.000 \t 0.0 \t 0.0 \t 0.0 \t 0.0 \t 0.0 \t 0.0 \t 0.0 \t 1e-04 \t 0.0 \t 1e-04 \t 1e-04 \t 0.000 \t 0.001 \t 0.000 \t 0.0 \t 1e-04 \t 0.0 \t 0.0 \t 0.0 \t 0.000 \t 1e-04 \t 0.0 \t 0.0 \t 1e-04 \t 1e-04 \t 1e-04 \t 1e-04 \t 0.045 \t 1e-04 \t 0.0 \t 0.0 \t 0.000 \t 0.0 \t 0.0 \t 0.0 \t 1e-04 \t 0.0 \t 0.0 \t 0.0 \t 1e-04 \t 0.0 \t 0.009 \t 0.002 \t 1e-04 \t 0.0 \t 1e-04 \t 0.0 \t 1e-04 \t 0.0 \t[0.892]\t 0.002 \t 1e-04 \t 1e-04 \t 0.0 \t 1e-04 \t 0.0 \t 0.0 \t 1e-04 \t 1e-04 \t 0.0 \t 0.0 \t 0.0 \t 0.0 \t 0.0 \t 0.0 \t 1e-04 \t 1e-04  SPEAKER1\n",
            " 0.000 \t 0.0 \t 0.0 \t 0.0 \t 0.0 \t 0.0 \t 0.0 \t 0.0 \t 0.0 \t 0.001 \t 0.0 \t 0.0 \t 0.0 \t 0.0 \t 0.0 \t 0.0 \t 0.0 \t 0.0 \t 0.0 \t 0.0 \t 0.0 \t 0.0 \t 0.0 \t 0.0 \t 0.0 \t 0.0 \t 0.0 \t 0.0 \t 0.0 \t 0.0 \t 0.0 \t 0.0 \t 0.0 \t 0.0 \t 0.0 \t 0.0 \t 0.0 \t 0.0 \t 0.0 \t 1e-04 \t 0.0 \t 0.0 \t 0.0 \t 1e-04 \t 0.0 \t 0.0 \t 0.0 \t 0.0 \t 0.0 \t 0.0 \t 0.0 \t 0.0 \t 0.0 \t 0.0 \t 0.0 \t 0.0 \t 0.0 \t 0.0 \t 0.0 \t 0.0 \t 0.0 \t 0.0 \t 0.0 \t 0.0 \t 0.0 \t 0.0 \t 0.0 \t 0.0 \t 0.0 \t 0.0 \t 0.0 \t 0.0 \t 0.0 \t 0.0 \t 0.0 \t 0.0 \t 0.0 \t 0.0 \t 0.0 \t 0.0 \t 0.0 \t 0.0 \t 0.0 \t 0.0 \t 0.0 \t 0.0 \t 0.0 \t 0.0 \t 1e-04 \t 0.0 \t 0.0 \t 0.0 \t 0.0 \t 0.0 \t 0.0 \t 0.0 \t 0.0 \t 0.0 \t 0.0 \t 0.0 \t 0.0 \t 0.0 \t 0.0 \t 0.0 \t 0.0 \t 0.0 \t 1e-04 \t 0.0 \t 0.0 \t 0.0 \t 0.0 \t 0.0 \t 0.0 \t 0.0 \t 0.0 \t 0.0 \t 0.0 \t 0.0 \t 0.0 \t 0.0 \t 0.0 \t 0.001 \t 0.0 \t 0.0 \t 0.0 \t 0.0 \t 0.0 \t 0.0 \t 0.0 \t 0.0 \t 0.0 \t 0.0 \t 0.0 \t 0.0 \t 0.0 \t 0.000 \t 1e-04 \t 0.0 \t 0.0 \t 0.0 \t 0.0 \t 0.0 \t 0.0 \t[0.995]\t 0.0 \t 0.0 \t 0.0 \t 0.0 \t 0.0 \t 0.0 \t 0.0 \t 0.0 \t 0.0 \t 0.0 \t 0.0 \t 0.0 \t 0.0 \t 0.0 \t 0.0 \t 0.0 \t 0.0  hate\n",
            " 0.003 \t 0.0 \t 0.0 \t 0.0 \t 0.0 \t 0.0 \t 0.0 \t 0.0 \t 0.0 \t 0.001 \t 0.0 \t 0.0 \t 0.0 \t 0.0 \t 0.0 \t 0.0 \t 0.0 \t 0.0 \t 0.0 \t 0.0 \t 0.000 \t 0.0 \t 0.0 \t 0.0 \t 0.0 \t 0.0 \t 0.0 \t 0.0 \t 0.0 \t 0.0 \t 0.0 \t 0.0 \t 0.0 \t 0.0 \t 0.0 \t 0.0 \t 0.0 \t 0.0 \t 0.0 \t 0.0 \t 0.0 \t 0.0 \t 0.0 \t 0.0 \t 0.0 \t 0.0 \t 1e-04 \t 0.0 \t 0.0 \t 0.0 \t 0.0 \t 0.0 \t 0.0 \t 0.0 \t 0.0 \t 0.0 \t 1e-04 \t 0.0 \t 0.0 \t 0.0 \t 0.0 \t 0.0 \t 0.0 \t 1e-04 \t 0.0 \t 0.0 \t 1e-04 \t 0.0 \t 0.0 \t 0.0 \t 0.0 \t 0.0 \t 0.0 \t 0.0 \t 0.0 \t 0.0 \t 0.0 \t 0.0 \t 0.0 \t 0.0 \t 1e-04 \t 0.0 \t 0.0 \t 0.0 \t 0.0 \t 0.0 \t 0.0 \t 0.0 \t 0.002 \t 0.0 \t 0.0 \t 0.0 \t 0.0 \t 0.0 \t 0.0 \t 0.0 \t 0.0 \t 0.0 \t 0.0 \t 0.0 \t 0.0 \t 0.0 \t 0.0 \t 0.0 \t 0.0 \t 0.0 \t 0.003 \t 0.0 \t 0.0 \t 0.0 \t 0.0 \t 0.0 \t 0.0 \t 0.0 \t 1e-04 \t 0.0 \t 0.0 \t 0.0 \t 0.0 \t 0.0 \t 0.000 \t 0.002 \t 0.0 \t 0.0 \t 0.0 \t 0.0 \t 0.0 \t 0.0 \t 0.0 \t 0.0 \t 0.0 \t 0.0 \t 0.0 \t 0.0 \t 0.0 \t 0.001 \t[0.983]\t 0.0 \t 0.0 \t 0.0 \t 0.0 \t 0.0 \t 0.0 \t 0.000 \t 1e-04 \t 0.0 \t 0.0 \t 0.0 \t 0.0 \t 0.0 \t 0.0 \t 0.0 \t 0.0 \t 0.0 \t 0.0 \t 0.0 \t 0.0 \t 0.0 \t 0.0 \t 0.0 \t 1e-04  cats\n",
            "[0.987]\t 0.0 \t 0.0 \t 0.0 \t 0.0 \t 1e-04 \t 0.0 \t 0.0 \t 0.0 \t 0.001 \t 0.0 \t 0.0 \t 0.0 \t 0.0 \t 0.0 \t 0.0 \t 1e-04 \t 0.0 \t 0.0 \t 0.0 \t 0.000 \t 0.0 \t 0.0 \t 0.0 \t 0.0 \t 0.0 \t 0.0 \t 0.0 \t 0.0 \t 0.0 \t 0.0 \t 0.0 \t 0.0 \t 0.0 \t 0.0 \t 0.0 \t 0.0 \t 0.0 \t 0.0 \t 0.0 \t 1e-04 \t 0.0 \t 0.0 \t 0.000 \t 0.0 \t 0.0 \t 0.000 \t 0.0 \t 0.0 \t 0.0 \t 0.0 \t 0.0 \t 0.0 \t 1e-04 \t 0.0 \t 0.0 \t 1e-04 \t 0.0 \t 0.0 \t 0.0 \t 0.0 \t 0.0 \t 0.0 \t 1e-04 \t 0.0 \t 0.0 \t 0.0 \t 0.0 \t 0.0 \t 0.0 \t 0.0 \t 0.0 \t 0.0 \t 0.0 \t 0.0 \t 0.0 \t 0.0 \t 0.0 \t 0.0 \t 1e-04 \t 1e-04 \t 0.0 \t 0.0 \t 0.0 \t 0.0 \t 0.0 \t 0.0 \t 0.0 \t 0.000 \t 0.0 \t 0.0 \t 0.0 \t 0.0 \t 1e-04 \t 0.0 \t 0.0 \t 0.0 \t 0.0 \t 0.0 \t 0.0 \t 0.0 \t 0.0 \t 0.0 \t 0.0 \t 0.0 \t 0.0 \t 0.000 \t 0.0 \t 0.0 \t 0.0 \t 0.0 \t 0.0 \t 0.0 \t 1e-04 \t 1e-04 \t 0.0 \t 0.0 \t 0.0 \t 0.0 \t 0.0 \t 1e-04 \t 0.000 \t 0.0 \t 0.0 \t 0.0 \t 0.0 \t 0.0 \t 0.0 \t 0.0 \t 0.0 \t 0.0 \t 0.0 \t 0.0 \t 0.0 \t 0.0 \t 0.000 \t 0.002 \t 0.0 \t 0.0 \t 0.0 \t 0.0 \t 0.0 \t 0.0 \t 0.001 \t 1e-04 \t 0.0 \t 0.0 \t 0.0 \t 0.0 \t 0.0 \t 0.0 \t 0.0 \t 0.0 \t 0.0 \t 0.0 \t 0.0 \t 0.0 \t 0.0 \t 0.0 \t 0.0 \t 1e-04  [SEP]\n",
            "\n",
            " Object\n",
            "['0', '1', '2', '3', '4', '5', '6', '7', '8', '9', '10', '11', '12', '13', '14', '15', '16', '17', '18', '19', '20', '21', '22', '23', '24', '25', '26', '27', '28', '29', '30', '31', '32', '33', '34', '35', '36', '37', '38', '39', '40', '41', '42', '43', '44', '45', '46', '47', '48', '49', '50', '51', '52', '53', '54', '55', '56', '57', '58', '59', '60', '61', '62', '63', '64', '65', '66', '67', '68', '69', '70', '71', '72', '73', '74', '75', '76', '77', '78', '79', '80', '81', '82', '83', '84', '85', '86', '87', '88', '89', '90', '91', '92', '93', '94', '95', '96', '97', '98', '99', '100', '101', '102', '103', '104', '105', '106', '107', '108', '109', '110', '111', '112', '113', '114', '115', '116', '117', '118', '119', '120', '121', '122', '123', '124', '125', '126', '127', '128', '129', '130', '131', '132', '133', '134', '135', '136', '137', '138', '139', '140', '141', '142', '143', '144', '145', '146', '147', '148', '149', '150', '151', '152', '153', '154', '155', '156', '157', '158', '159', '160', '161', '162', '163', '164', '165', '166', '167', '168', '169', '170', '171', '172', '173', '174', '175', '176', '177', '178']\n",
            " 0.001 \t 0.032 \t[0.961]\t 0.0 \t 0.0 \t 0.0 \t 0.0 \t 0.0 \t 0.0 \t 1e-04 \t 0.0 \t 0.0 \t 0.0 \t 0.0 \t 0.0 \t 0.0 \t 0.0 \t 0.0 \t 0.0 \t 0.0 \t 0.0 \t 0.0 \t 0.0 \t 0.0 \t 0.0 \t 0.0 \t 0.0 \t 0.0 \t 0.0 \t 0.0 \t 0.0 \t 0.0 \t 0.0 \t 0.0 \t 1e-04 \t 0.0 \t 0.0 \t 0.0 \t 0.0 \t 0.0 \t 1e-04 \t 0.0 \t 0.0 \t 1e-04 \t 0.0 \t 0.0 \t 0.0 \t 0.0 \t 0.0 \t 0.0 \t 0.0 \t 0.0 \t 0.0 \t 0.0 \t 1e-04 \t 0.0 \t 0.0 \t 0.0 \t 0.0 \t 0.0 \t 0.0 \t 0.0 \t 0.0 \t 0.0 \t 0.0 \t 0.0 \t 0.0 \t 1e-04 \t 0.0 \t 0.0 \t 0.0 \t 0.0 \t 0.0 \t 0.0 \t 0.0 \t 0.0 \t 0.0 \t 0.0 \t 0.0 \t 0.0 \t 0.0 \t 1e-04 \t 0.0 \t 0.0 \t 0.0 \t 0.0 \t 0.0 \t 0.0 \t 1e-04 \t 0.0 \t 1e-04 \t 0.0 \t 0.0 \t 0.0 \t 0.0 \t 0.0 \t 0.0 \t 0.0 \t 0.0 \t 0.0 \t 0.0 \t 0.0 \t 1e-04 \t 0.0 \t 0.0 \t 0.0 \t 0.0 \t 0.0 \t 0.0 \t 0.0 \t 0.0 \t 0.0 \t 0.0 \t 0.0 \t 0.0 \t 0.0 \t 1e-04 \t 0.0 \t 1e-04 \t 0.0 \t 0.0 \t 0.0 \t 0.0 \t 0.0 \t 0.0 \t 0.0 \t 0.0 \t 1e-04 \t 1e-04 \t 1e-04 \t 0.0 \t 0.0 \t 0.0 \t 0.0 \t 0.0 \t 0.0 \t 0.0 \t 0.0 \t 0.0 \t 0.0 \t 0.000 \t 0.0 \t 0.0 \t 0.0 \t 0.0 \t 1e-04 \t 0.0 \t 0.0 \t 0.0 \t 0.0 \t 0.0 \t 0.0 \t 0.0 \t 0.0 \t 0.0 \t 0.0 \t 0.0 \t 0.0 \t 0.0 \t 0.0 \t 0.0  [CLS]\n",
            " 0.0 \t[0.996]\t 0.002 \t 0.0 \t 0.0 \t 0.0 \t 0.0 \t 0.0 \t 0.0 \t 0.0 \t 0.0 \t 0.0 \t 0.0 \t 0.0 \t 0.0 \t 0.0 \t 0.0 \t 0.0 \t 0.0 \t 0.0 \t 0.0 \t 0.0 \t 0.0 \t 0.0 \t 0.0 \t 0.0 \t 0.0 \t 0.0 \t 0.0 \t 0.0 \t 0.0 \t 0.0 \t 0.0 \t 0.0 \t 0.0 \t 0.0 \t 0.0 \t 0.0 \t 0.0 \t 0.0 \t 0.0 \t 0.0 \t 0.0 \t 0.0 \t 0.0 \t 0.0 \t 0.0 \t 0.0 \t 0.0 \t 0.0 \t 0.0 \t 0.0 \t 0.0 \t 0.0 \t 0.0 \t 0.0 \t 0.0 \t 0.0 \t 0.0 \t 0.0 \t 0.0 \t 0.0 \t 0.0 \t 0.0 \t 0.0 \t 0.0 \t 0.0 \t 0.0 \t 0.0 \t 0.0 \t 0.0 \t 0.0 \t 0.0 \t 0.0 \t 0.0 \t 0.0 \t 0.0 \t 0.0 \t 0.0 \t 0.0 \t 0.0 \t 0.0 \t 0.0 \t 0.0 \t 0.0 \t 0.0 \t 0.0 \t 0.0 \t 0.0 \t 0.0 \t 0.0 \t 0.0 \t 0.0 \t 0.0 \t 0.0 \t 0.0 \t 0.0 \t 0.0 \t 0.0 \t 0.0 \t 0.0 \t 0.0 \t 0.0 \t 0.0 \t 0.0 \t 0.0 \t 0.0 \t 0.0 \t 0.0 \t 0.0 \t 0.0 \t 0.0 \t 0.0 \t 0.0 \t 0.0 \t 0.0 \t 0.0 \t 0.0 \t 0.0 \t 0.0 \t 0.0 \t 0.0 \t 0.0 \t 0.0 \t 0.0 \t 0.0 \t 0.0 \t 0.0 \t 0.0 \t 0.0 \t 0.0 \t 0.0 \t 0.0 \t 0.0 \t 0.0 \t 0.0 \t 0.0 \t 0.0 \t 0.0 \t 0.0 \t 0.0 \t 0.0 \t 0.0 \t 0.0 \t 0.0 \t 0.0 \t 0.0 \t 0.0 \t 0.0 \t 0.0 \t 0.0 \t 0.0 \t 0.0 \t 0.0 \t 0.0 \t 0.0 \t 0.0 \t 0.0 \t 0.0 \t 0.0 \t 0.0  SPEAKER1\n",
            " 0.0 \t[0.999]\t 0.000 \t 0.0 \t 0.0 \t 0.0 \t 0.0 \t 0.0 \t 0.0 \t 0.0 \t 0.0 \t 0.0 \t 0.0 \t 0.0 \t 0.0 \t 0.0 \t 0.0 \t 0.0 \t 0.0 \t 0.0 \t 0.0 \t 0.0 \t 0.0 \t 0.0 \t 0.0 \t 0.0 \t 0.0 \t 0.0 \t 0.0 \t 0.0 \t 0.0 \t 0.0 \t 0.0 \t 0.0 \t 0.0 \t 0.0 \t 0.0 \t 0.0 \t 0.0 \t 0.0 \t 0.0 \t 0.0 \t 0.0 \t 0.0 \t 0.0 \t 0.0 \t 0.0 \t 0.0 \t 0.0 \t 0.0 \t 0.0 \t 0.0 \t 0.0 \t 0.0 \t 0.0 \t 0.0 \t 0.0 \t 0.0 \t 0.0 \t 0.0 \t 0.0 \t 0.0 \t 0.0 \t 0.0 \t 0.0 \t 0.0 \t 0.0 \t 0.0 \t 0.0 \t 0.0 \t 0.0 \t 0.0 \t 0.0 \t 0.0 \t 0.0 \t 0.0 \t 0.0 \t 0.0 \t 0.0 \t 0.0 \t 0.0 \t 0.0 \t 0.0 \t 0.0 \t 0.0 \t 0.0 \t 0.0 \t 0.0 \t 0.0 \t 0.0 \t 0.0 \t 0.0 \t 0.0 \t 0.0 \t 0.0 \t 0.0 \t 0.0 \t 0.0 \t 0.0 \t 0.0 \t 0.0 \t 0.0 \t 0.0 \t 0.0 \t 0.0 \t 0.0 \t 0.0 \t 0.0 \t 0.0 \t 0.0 \t 0.0 \t 0.0 \t 0.0 \t 0.0 \t 0.0 \t 0.0 \t 0.0 \t 0.0 \t 0.0 \t 0.0 \t 0.0 \t 0.0 \t 0.0 \t 0.0 \t 0.0 \t 0.0 \t 0.0 \t 0.0 \t 0.0 \t 0.0 \t 0.0 \t 0.0 \t 0.0 \t 0.0 \t 0.0 \t 0.0 \t 0.0 \t 0.0 \t 0.0 \t 0.0 \t 0.0 \t 0.0 \t 0.0 \t 0.0 \t 0.0 \t 0.0 \t 0.0 \t 0.0 \t 0.0 \t 0.0 \t 0.0 \t 0.0 \t 0.0 \t 0.0 \t 0.0 \t 0.0 \t 0.0 \t 0.0 \t 0.0 \t 0.0 \t 0.0  enjoy\n",
            " 0.0 \t[0.999]\t 0.000 \t 0.0 \t 0.0 \t 0.0 \t 0.0 \t 0.0 \t 0.0 \t 0.0 \t 0.0 \t 0.0 \t 0.0 \t 0.0 \t 0.0 \t 0.0 \t 0.0 \t 0.0 \t 0.0 \t 0.0 \t 0.0 \t 0.0 \t 0.0 \t 0.0 \t 0.0 \t 0.0 \t 0.0 \t 0.0 \t 0.0 \t 0.0 \t 0.0 \t 0.0 \t 0.0 \t 0.0 \t 0.0 \t 0.0 \t 0.0 \t 0.0 \t 0.0 \t 0.0 \t 0.0 \t 0.0 \t 0.0 \t 0.0 \t 0.0 \t 0.0 \t 0.0 \t 0.0 \t 0.0 \t 0.0 \t 0.0 \t 0.0 \t 0.0 \t 0.0 \t 0.0 \t 0.0 \t 0.0 \t 0.0 \t 0.0 \t 0.0 \t 0.0 \t 0.0 \t 0.0 \t 0.0 \t 0.0 \t 0.0 \t 0.0 \t 0.0 \t 0.0 \t 0.0 \t 0.0 \t 0.0 \t 0.0 \t 0.0 \t 0.0 \t 0.0 \t 0.0 \t 0.0 \t 0.0 \t 0.0 \t 0.0 \t 0.0 \t 0.0 \t 0.0 \t 0.0 \t 0.0 \t 0.0 \t 0.0 \t 0.0 \t 0.0 \t 0.0 \t 0.0 \t 0.0 \t 0.0 \t 0.0 \t 0.0 \t 0.0 \t 0.0 \t 0.0 \t 0.0 \t 0.0 \t 0.0 \t 0.0 \t 0.0 \t 0.0 \t 0.0 \t 0.0 \t 0.0 \t 0.0 \t 0.0 \t 0.0 \t 0.0 \t 0.0 \t 0.0 \t 0.0 \t 0.0 \t 0.0 \t 0.0 \t 0.0 \t 0.0 \t 0.0 \t 0.0 \t 0.0 \t 0.0 \t 0.0 \t 0.0 \t 0.0 \t 0.0 \t 0.0 \t 0.0 \t 0.0 \t 0.0 \t 0.0 \t 0.0 \t 0.0 \t 0.0 \t 0.0 \t 0.0 \t 0.0 \t 0.0 \t 0.0 \t 0.0 \t 0.0 \t 0.0 \t 0.0 \t 0.0 \t 0.0 \t 0.0 \t 0.0 \t 0.0 \t 0.0 \t 0.0 \t 0.0 \t 0.0 \t 0.0 \t 0.0 \t 0.0 \t 0.0 \t 0.0 \t 0.0 \t 0.0  watching\n",
            " 0.0 \t 1e-04 \t[0.999]\t 0.0 \t 0.0 \t 0.0 \t 0.0 \t 0.0 \t 0.0 \t 0.0 \t 0.0 \t 0.0 \t 0.0 \t 0.0 \t 0.0 \t 0.0 \t 0.0 \t 0.0 \t 0.0 \t 0.0 \t 0.0 \t 0.0 \t 0.0 \t 0.0 \t 0.0 \t 0.0 \t 0.0 \t 0.0 \t 0.0 \t 0.0 \t 0.0 \t 0.0 \t 0.0 \t 0.0 \t 0.0 \t 0.0 \t 0.0 \t 0.0 \t 0.0 \t 0.0 \t 0.0 \t 0.0 \t 0.0 \t 0.0 \t 0.0 \t 0.0 \t 0.0 \t 0.0 \t 0.0 \t 0.0 \t 0.0 \t 0.0 \t 0.0 \t 0.0 \t 0.0 \t 0.0 \t 0.0 \t 0.0 \t 0.0 \t 0.0 \t 0.0 \t 0.0 \t 0.0 \t 0.0 \t 0.0 \t 0.0 \t 0.0 \t 0.0 \t 0.0 \t 0.0 \t 0.0 \t 0.0 \t 0.0 \t 0.0 \t 0.0 \t 0.0 \t 0.0 \t 0.0 \t 0.0 \t 0.0 \t 0.0 \t 0.0 \t 0.0 \t 0.0 \t 0.0 \t 0.0 \t 0.0 \t 0.0 \t 0.0 \t 0.0 \t 0.0 \t 0.0 \t 0.0 \t 0.0 \t 0.0 \t 0.0 \t 0.0 \t 0.0 \t 0.0 \t 0.0 \t 0.0 \t 0.0 \t 0.0 \t 0.0 \t 0.0 \t 0.0 \t 0.0 \t 0.0 \t 0.0 \t 0.0 \t 0.0 \t 0.0 \t 0.0 \t 0.0 \t 0.0 \t 0.0 \t 0.0 \t 0.0 \t 0.0 \t 0.0 \t 0.0 \t 0.0 \t 0.0 \t 0.0 \t 0.0 \t 0.0 \t 0.0 \t 0.0 \t 0.0 \t 0.0 \t 0.0 \t 0.0 \t 0.0 \t 0.0 \t 0.0 \t 0.0 \t 0.0 \t 0.0 \t 0.0 \t 0.0 \t 0.0 \t 0.0 \t 0.0 \t 0.0 \t 0.0 \t 0.0 \t 0.0 \t 0.0 \t 0.0 \t 0.0 \t 0.0 \t 0.0 \t 0.0 \t 0.0 \t 0.0 \t 0.0 \t 0.0 \t 0.0 \t 0.0 \t 0.0 \t 0.0  american\n",
            " 0.0 \t 1e-04 \t[0.999]\t 0.0 \t 0.0 \t 0.0 \t 0.0 \t 0.0 \t 0.0 \t 0.0 \t 0.0 \t 0.0 \t 0.0 \t 0.0 \t 0.0 \t 0.0 \t 0.0 \t 0.0 \t 0.0 \t 0.0 \t 0.0 \t 0.0 \t 0.0 \t 0.0 \t 0.0 \t 0.0 \t 0.0 \t 0.0 \t 0.0 \t 0.0 \t 0.0 \t 0.0 \t 0.0 \t 0.0 \t 0.0 \t 0.0 \t 0.0 \t 0.0 \t 0.0 \t 0.0 \t 0.0 \t 0.0 \t 0.0 \t 0.0 \t 0.0 \t 0.0 \t 0.0 \t 0.0 \t 0.0 \t 0.0 \t 0.0 \t 0.0 \t 0.0 \t 0.0 \t 0.0 \t 0.0 \t 0.0 \t 0.0 \t 0.0 \t 0.0 \t 0.0 \t 0.0 \t 0.0 \t 0.0 \t 0.0 \t 0.0 \t 0.0 \t 0.0 \t 0.0 \t 0.0 \t 0.0 \t 0.0 \t 0.0 \t 0.0 \t 0.0 \t 0.0 \t 0.0 \t 0.0 \t 0.0 \t 0.0 \t 0.0 \t 0.0 \t 0.0 \t 0.0 \t 0.0 \t 0.0 \t 0.0 \t 0.0 \t 0.0 \t 0.0 \t 0.0 \t 0.0 \t 0.0 \t 0.0 \t 0.0 \t 0.0 \t 0.0 \t 0.0 \t 0.0 \t 0.0 \t 0.0 \t 0.0 \t 0.0 \t 0.0 \t 0.0 \t 0.0 \t 0.0 \t 0.0 \t 0.0 \t 0.0 \t 0.0 \t 0.0 \t 0.0 \t 0.0 \t 0.0 \t 0.0 \t 0.0 \t 0.0 \t 0.0 \t 0.0 \t 0.0 \t 0.0 \t 0.0 \t 0.0 \t 0.0 \t 0.0 \t 0.0 \t 0.0 \t 0.0 \t 0.0 \t 0.0 \t 0.0 \t 0.0 \t 0.0 \t 0.0 \t 0.0 \t 0.0 \t 0.0 \t 0.0 \t 0.0 \t 0.0 \t 0.0 \t 0.0 \t 0.0 \t 0.0 \t 0.0 \t 0.0 \t 0.0 \t 0.0 \t 0.0 \t 0.0 \t 0.0 \t 0.0 \t 0.0 \t 0.0 \t 0.0 \t 0.0 \t 0.0 \t 0.0 \t 0.0 \t 0.0  football\n",
            " 0.000 \t 0.046 \t[0.950]\t 0.0 \t 0.0 \t 0.0 \t 0.0 \t 0.0 \t 0.0 \t 0.0 \t 0.0 \t 0.0 \t 0.0 \t 0.0 \t 0.0 \t 0.0 \t 0.0 \t 0.0 \t 0.0 \t 0.0 \t 0.0 \t 0.0 \t 0.0 \t 0.0 \t 0.0 \t 0.0 \t 0.0 \t 0.0 \t 0.0 \t 0.0 \t 0.0 \t 0.0 \t 0.0 \t 0.0 \t 0.0 \t 0.0 \t 0.0 \t 0.0 \t 0.0 \t 0.0 \t 0.0 \t 0.0 \t 0.0 \t 0.0 \t 0.0 \t 0.0 \t 0.0 \t 0.0 \t 0.0 \t 0.0 \t 0.0 \t 0.0 \t 0.0 \t 0.0 \t 0.0 \t 0.0 \t 0.0 \t 0.0 \t 0.0 \t 0.0 \t 0.0 \t 0.0 \t 0.0 \t 0.0 \t 0.0 \t 0.0 \t 0.0 \t 0.0 \t 0.0 \t 0.0 \t 0.0 \t 0.0 \t 0.0 \t 0.0 \t 0.0 \t 0.0 \t 0.0 \t 0.0 \t 0.0 \t 0.0 \t 0.0 \t 0.0 \t 0.0 \t 0.0 \t 0.0 \t 0.0 \t 0.0 \t 0.0 \t 0.0 \t 0.0 \t 0.0 \t 0.0 \t 0.0 \t 0.0 \t 0.0 \t 0.0 \t 0.0 \t 0.0 \t 0.0 \t 0.0 \t 0.0 \t 0.0 \t 0.0 \t 0.0 \t 0.0 \t 0.0 \t 0.0 \t 0.0 \t 0.0 \t 0.0 \t 0.0 \t 0.0 \t 0.0 \t 0.0 \t 0.0 \t 0.0 \t 0.0 \t 0.0 \t 0.0 \t 0.0 \t 0.0 \t 0.0 \t 0.0 \t 0.0 \t 0.0 \t 0.0 \t 0.0 \t 0.0 \t 0.0 \t 0.0 \t 0.0 \t 0.0 \t 0.0 \t 0.0 \t 0.0 \t 0.0 \t 0.0 \t 0.0 \t 0.0 \t 0.0 \t 0.0 \t 0.0 \t 0.0 \t 0.0 \t 0.0 \t 0.0 \t 0.0 \t 0.0 \t 0.0 \t 0.0 \t 0.0 \t 0.0 \t 0.0 \t 0.0 \t 0.0 \t 0.0 \t 0.0 \t 0.0 \t 0.0 \t 0.0 \t 0.0  but\n",
            " 0.000 \t[0.976]\t 0.021 \t 0.0 \t 0.0 \t 0.0 \t 0.0 \t 0.0 \t 0.0 \t 0.0 \t 0.0 \t 0.0 \t 0.0 \t 0.0 \t 0.0 \t 0.0 \t 0.0 \t 0.0 \t 0.0 \t 0.0 \t 0.0 \t 0.0 \t 0.0 \t 0.0 \t 0.0 \t 0.0 \t 0.0 \t 0.0 \t 0.0 \t 0.0 \t 0.0 \t 0.0 \t 0.0 \t 0.0 \t 0.0 \t 0.0 \t 0.0 \t 0.0 \t 0.0 \t 0.0 \t 0.0 \t 0.0 \t 0.0 \t 0.0 \t 0.0 \t 0.0 \t 0.0 \t 0.0 \t 0.0 \t 0.0 \t 0.0 \t 0.0 \t 0.0 \t 0.0 \t 0.0 \t 0.0 \t 0.0 \t 0.0 \t 0.0 \t 0.0 \t 0.0 \t 0.0 \t 0.0 \t 0.0 \t 0.0 \t 0.0 \t 0.0 \t 0.0 \t 0.0 \t 0.0 \t 0.0 \t 0.0 \t 0.0 \t 0.0 \t 0.0 \t 0.0 \t 0.0 \t 0.0 \t 0.0 \t 0.0 \t 0.0 \t 0.0 \t 0.0 \t 0.0 \t 0.0 \t 0.0 \t 0.0 \t 0.0 \t 0.0 \t 0.0 \t 0.0 \t 0.0 \t 0.0 \t 0.0 \t 0.0 \t 0.0 \t 0.0 \t 0.0 \t 0.0 \t 0.0 \t 0.0 \t 0.0 \t 1e-04 \t 0.0 \t 0.0 \t 0.0 \t 0.0 \t 0.0 \t 0.0 \t 0.0 \t 0.0 \t 0.0 \t 0.0 \t 0.0 \t 0.0 \t 0.0 \t 0.0 \t 0.0 \t 0.0 \t 0.0 \t 0.0 \t 0.0 \t 0.0 \t 0.0 \t 0.0 \t 0.0 \t 0.0 \t 0.0 \t 0.0 \t 0.0 \t 0.0 \t 0.0 \t 0.0 \t 0.0 \t 0.0 \t 0.0 \t 0.0 \t 0.0 \t 0.0 \t 0.0 \t 0.0 \t 0.0 \t 0.0 \t 0.0 \t 0.0 \t 0.0 \t 0.0 \t 0.0 \t 0.0 \t 0.0 \t 0.0 \t 0.0 \t 0.0 \t 0.0 \t 0.0 \t 0.0 \t 0.0 \t 0.0 \t 0.0 \t 0.0 \t 0.0  don\n",
            " 0.0 \t 1e-04 \t[0.999]\t 0.0 \t 0.0 \t 0.0 \t 0.0 \t 0.0 \t 0.0 \t 0.0 \t 0.0 \t 0.0 \t 0.0 \t 0.0 \t 0.0 \t 0.0 \t 0.0 \t 0.0 \t 0.0 \t 0.0 \t 0.0 \t 0.0 \t 0.0 \t 0.0 \t 0.0 \t 0.0 \t 0.0 \t 0.0 \t 0.0 \t 0.0 \t 0.0 \t 0.0 \t 0.0 \t 0.0 \t 0.0 \t 0.0 \t 0.0 \t 0.0 \t 0.0 \t 0.0 \t 0.0 \t 0.0 \t 0.0 \t 0.0 \t 0.0 \t 0.0 \t 0.0 \t 0.0 \t 0.0 \t 0.0 \t 0.0 \t 0.0 \t 0.0 \t 0.0 \t 0.0 \t 0.0 \t 0.0 \t 0.0 \t 0.0 \t 0.0 \t 0.0 \t 0.0 \t 0.0 \t 0.0 \t 0.0 \t 0.0 \t 0.0 \t 0.0 \t 0.0 \t 0.0 \t 0.0 \t 0.0 \t 0.0 \t 0.0 \t 0.0 \t 0.0 \t 0.0 \t 0.0 \t 0.0 \t 0.0 \t 0.0 \t 0.0 \t 0.0 \t 0.0 \t 0.0 \t 0.0 \t 0.0 \t 0.0 \t 0.0 \t 0.0 \t 0.0 \t 0.0 \t 0.0 \t 0.0 \t 0.0 \t 0.0 \t 0.0 \t 0.0 \t 0.0 \t 0.0 \t 0.0 \t 0.0 \t 0.0 \t 0.0 \t 0.0 \t 0.0 \t 0.0 \t 0.0 \t 0.0 \t 0.0 \t 0.0 \t 0.0 \t 0.0 \t 0.0 \t 0.0 \t 0.0 \t 0.0 \t 0.0 \t 0.0 \t 0.0 \t 0.0 \t 0.0 \t 0.0 \t 0.0 \t 0.0 \t 0.0 \t 0.0 \t 0.0 \t 0.0 \t 0.0 \t 0.0 \t 0.0 \t 0.0 \t 0.0 \t 0.0 \t 0.0 \t 0.0 \t 0.0 \t 0.0 \t 0.0 \t 0.0 \t 0.0 \t 0.0 \t 0.0 \t 0.0 \t 0.0 \t 0.0 \t 0.0 \t 0.0 \t 0.0 \t 0.0 \t 0.0 \t 0.0 \t 0.0 \t 0.0 \t 0.0 \t 0.0 \t 0.0 \t 0.0 \t 0.0 \t 0.0  '\n",
            " 0.000 \t 0.015 \t[0.980]\t 0.0 \t 0.0 \t 0.0 \t 0.0 \t 0.0 \t 0.0 \t 0.0 \t 0.0 \t 0.0 \t 0.0 \t 0.0 \t 0.0 \t 0.0 \t 0.0 \t 0.0 \t 0.0 \t 0.0 \t 0.0 \t 0.0 \t 0.0 \t 0.0 \t 0.0 \t 0.0 \t 0.0 \t 0.0 \t 0.0 \t 0.0 \t 0.0 \t 0.0 \t 0.0 \t 0.0 \t 0.0 \t 0.0 \t 0.0 \t 0.0 \t 0.0 \t 0.0 \t 0.0 \t 0.0 \t 0.0 \t 0.0 \t 0.0 \t 0.0 \t 0.0 \t 0.0 \t 0.0 \t 0.0 \t 0.0 \t 0.0 \t 0.0 \t 0.0 \t 0.0 \t 0.0 \t 0.0 \t 0.0 \t 0.0 \t 0.0 \t 0.0 \t 0.0 \t 0.0 \t 0.0 \t 0.0 \t 0.0 \t 0.0 \t 0.0 \t 0.0 \t 0.0 \t 0.0 \t 0.0 \t 0.0 \t 0.0 \t 0.0 \t 0.0 \t 0.0 \t 0.0 \t 0.0 \t 0.0 \t 0.0 \t 0.0 \t 0.0 \t 0.0 \t 0.0 \t 0.0 \t 0.0 \t 0.0 \t 0.0 \t 0.0 \t 0.0 \t 0.0 \t 0.0 \t 0.0 \t 0.0 \t 0.0 \t 0.0 \t 0.0 \t 0.0 \t 0.0 \t 0.0 \t 0.0 \t 0.0 \t 0.0 \t 0.0 \t 0.0 \t 0.0 \t 0.0 \t 1e-04 \t 0.0 \t 0.0 \t 0.0 \t 0.0 \t 0.0 \t 0.0 \t 0.0 \t 0.0 \t 0.0 \t 0.0 \t 0.0 \t 0.0 \t 0.0 \t 0.0 \t 0.0 \t 0.0 \t 0.0 \t 0.0 \t 0.0 \t 0.0 \t 0.0 \t 0.0 \t 0.0 \t 0.0 \t 0.0 \t 0.0 \t 0.0 \t 0.0 \t 0.0 \t 0.0 \t 0.0 \t 1e-04 \t 0.0 \t 0.0 \t 0.0 \t 0.0 \t 0.0 \t 0.0 \t 0.0 \t 0.0 \t 0.0 \t 0.0 \t 0.0 \t 0.0 \t 0.0 \t 0.0 \t 0.0 \t 0.0 \t 0.0 \t 0.0 \t 0.0 \t 0.0  t\n",
            " 0.0 \t[0.999]\t 0.000 \t 0.0 \t 0.0 \t 0.0 \t 0.0 \t 0.0 \t 0.0 \t 0.0 \t 0.0 \t 0.0 \t 0.0 \t 0.0 \t 0.0 \t 0.0 \t 0.0 \t 0.0 \t 0.0 \t 0.0 \t 0.0 \t 0.0 \t 0.0 \t 0.0 \t 0.0 \t 0.0 \t 0.0 \t 0.0 \t 0.0 \t 0.0 \t 0.0 \t 0.0 \t 0.0 \t 0.0 \t 0.0 \t 0.0 \t 0.0 \t 0.0 \t 0.0 \t 0.0 \t 0.0 \t 0.0 \t 0.0 \t 0.0 \t 0.0 \t 0.0 \t 0.0 \t 0.0 \t 0.0 \t 0.0 \t 0.0 \t 0.0 \t 0.0 \t 0.0 \t 0.0 \t 0.0 \t 0.0 \t 0.0 \t 0.0 \t 0.0 \t 0.0 \t 0.0 \t 0.0 \t 0.0 \t 0.0 \t 0.0 \t 0.0 \t 0.0 \t 0.0 \t 0.0 \t 0.0 \t 0.0 \t 0.0 \t 0.0 \t 0.0 \t 0.0 \t 0.0 \t 0.0 \t 0.0 \t 0.0 \t 0.0 \t 0.0 \t 0.0 \t 0.0 \t 0.0 \t 0.0 \t 0.0 \t 0.0 \t 0.0 \t 0.0 \t 0.0 \t 0.0 \t 0.0 \t 0.0 \t 0.0 \t 0.0 \t 0.0 \t 0.0 \t 0.0 \t 0.0 \t 0.0 \t 0.0 \t 0.0 \t 0.0 \t 0.0 \t 0.0 \t 0.0 \t 0.0 \t 0.0 \t 0.0 \t 0.0 \t 0.0 \t 0.0 \t 0.0 \t 0.0 \t 0.0 \t 0.0 \t 0.0 \t 0.0 \t 0.0 \t 0.0 \t 0.0 \t 0.0 \t 0.0 \t 0.0 \t 0.0 \t 0.0 \t 0.0 \t 0.0 \t 0.0 \t 0.0 \t 0.0 \t 0.0 \t 0.0 \t 0.0 \t 0.0 \t 0.0 \t 0.0 \t 0.0 \t 0.0 \t 0.0 \t 0.0 \t 0.0 \t 0.0 \t 0.0 \t 0.0 \t 0.0 \t 0.0 \t 0.0 \t 0.0 \t 0.0 \t 0.0 \t 0.0 \t 0.0 \t 0.0 \t 0.0 \t 0.0 \t 0.0 \t 0.0 \t 0.0 \t 0.0  like\n",
            " 0.000 \t 0.018 \t[0.973]\t 0.000 \t 1e-04 \t 0.0 \t 0.0 \t 1e-04 \t 0.0 \t 1e-04 \t 1e-04 \t 0.0 \t 0.0 \t 0.0 \t 1e-04 \t 0.0 \t 0.0 \t 0.0 \t 0.0 \t 0.0 \t 1e-04 \t 0.0 \t 0.0 \t 0.0 \t 1e-04 \t 0.0 \t 0.0 \t 1e-04 \t 0.0 \t 0.0 \t 0.0 \t 1e-04 \t 0.0 \t 0.0 \t 0.0 \t 1e-04 \t 1e-04 \t 0.0 \t 0.0 \t 0.0 \t 1e-04 \t 1e-04 \t 1e-04 \t 1e-04 \t 1e-04 \t 0.0 \t 1e-04 \t 0.0 \t 0.0 \t 0.0 \t 1e-04 \t 0.0 \t 0.0 \t 1e-04 \t 1e-04 \t 0.0 \t 0.0 \t 1e-04 \t 0.0 \t 1e-04 \t 1e-04 \t 0.0 \t 0.0 \t 1e-04 \t 0.0 \t 0.0 \t 1e-04 \t 1e-04 \t 0.0 \t 1e-04 \t 0.0 \t 0.0 \t 1e-04 \t 0.0 \t 0.0 \t 1e-04 \t 0.0 \t 0.0 \t 1e-04 \t 0.0 \t 0.0 \t 0.0 \t 0.0 \t 0.0 \t 0.0 \t 0.0 \t 0.0 \t 1e-04 \t 1e-04 \t 0.0 \t 0.0 \t 0.0 \t 0.0 \t 0.0 \t 0.0 \t 1e-04 \t 0.0 \t 1e-04 \t 1e-04 \t 0.0 \t 0.0 \t 0.0 \t 1e-04 \t 0.0 \t 0.0 \t 1e-04 \t 0.0 \t 0.0 \t 0.0 \t 0.0 \t 0.0 \t 0.0 \t 1e-04 \t 0.0 \t 0.0 \t 0.0 \t 0.0 \t 1e-04 \t 1e-04 \t 0.0 \t 0.0 \t 0.0 \t 0.0 \t 1e-04 \t 1e-04 \t 1e-04 \t 1e-04 \t 0.0 \t 0.0 \t 1e-04 \t 0.0 \t 1e-04 \t 1e-04 \t 0.0 \t 1e-04 \t 0.0 \t 1e-04 \t 0.0 \t 0.0 \t 0.0 \t 1e-04 \t 0.0 \t 0.0 \t 0.0 \t 0.0 \t 1e-04 \t 1e-04 \t 0.0 \t 0.0 \t 0.0 \t 1e-04 \t 0.0 \t 1e-04 \t 0.0 \t 1e-04 \t 0.0 \t 1e-04 \t 0.0 \t 0.0 \t 1e-04 \t 0.0  to\n",
            " 0.001 \t 0.396 \t[0.592]\t 1e-04 \t 0.0 \t 0.0 \t 0.0 \t 0.0 \t 0.0 \t 1e-04 \t 0.0 \t 0.0 \t 0.0 \t 0.0 \t 1e-04 \t 1e-04 \t 0.0 \t 0.0 \t 0.0 \t 1e-04 \t 0.0 \t 0.0 \t 1e-04 \t 1e-04 \t 1e-04 \t 1e-04 \t 0.0 \t 0.0 \t 1e-04 \t 1e-04 \t 0.0 \t 0.000 \t 0.0 \t 0.0 \t 1e-04 \t 0.0 \t 0.0 \t 1e-04 \t 0.000 \t 1e-04 \t 0.000 \t 1e-04 \t 1e-04 \t 0.000 \t 0.0 \t 0.0 \t 1e-04 \t 0.0 \t 0.0 \t 0.0 \t 1e-04 \t 1e-04 \t 1e-04 \t 0.0 \t 1e-04 \t 0.0 \t 0.0 \t 1e-04 \t 1e-04 \t 1e-04 \t 1e-04 \t 0.0 \t 0.0 \t 1e-04 \t 1e-04 \t 1e-04 \t 1e-04 \t 1e-04 \t 1e-04 \t 1e-04 \t 1e-04 \t 0.0 \t 0.0 \t 0.000 \t 0.0 \t 1e-04 \t 0.0 \t 0.0 \t 1e-04 \t 1e-04 \t 1e-04 \t 1e-04 \t 0.0 \t 1e-04 \t 0.0 \t 1e-04 \t 0.0 \t 0.0 \t 1e-04 \t 0.0 \t 1e-04 \t 0.0 \t 0.0 \t 0.0 \t 1e-04 \t 1e-04 \t 0.0 \t 1e-04 \t 1e-04 \t 1e-04 \t 0.0 \t 0.0 \t 1e-04 \t 1e-04 \t 1e-04 \t 1e-04 \t 0.0 \t 1e-04 \t 0.0 \t 1e-04 \t 0.0 \t 1e-04 \t 0.000 \t 1e-04 \t 1e-04 \t 0.0 \t 0.0 \t 1e-04 \t 1e-04 \t 1e-04 \t 0.0 \t 0.0 \t 0.0 \t 1e-04 \t 0.0 \t 0.0 \t 0.0 \t 1e-04 \t 1e-04 \t 1e-04 \t 1e-04 \t 1e-04 \t 1e-04 \t 1e-04 \t 1e-04 \t 0.0 \t 1e-04 \t 0.0 \t 1e-04 \t 0.0 \t 1e-04 \t 1e-04 \t 1e-04 \t 1e-04 \t 1e-04 \t 1e-04 \t 1e-04 \t 0.0 \t 0.0 \t 0.0 \t 1e-04 \t 0.0 \t 1e-04 \t 1e-04 \t 0.0 \t 0.0 \t 0.0 \t 1e-04 \t 1e-04 \t 1e-04 \t 1e-04  make\n",
            " 0.0 \t[0.999]\t 1e-04 \t 0.0 \t 0.0 \t 0.0 \t 0.0 \t 0.0 \t 0.0 \t 0.0 \t 0.0 \t 0.0 \t 0.0 \t 0.0 \t 0.0 \t 0.0 \t 0.0 \t 0.0 \t 0.0 \t 0.0 \t 0.0 \t 0.0 \t 0.0 \t 0.0 \t 0.0 \t 0.0 \t 0.0 \t 0.0 \t 0.0 \t 0.0 \t 0.0 \t 0.0 \t 0.0 \t 0.0 \t 0.0 \t 0.0 \t 0.0 \t 0.0 \t 0.0 \t 0.0 \t 0.0 \t 0.0 \t 0.0 \t 0.0 \t 0.0 \t 0.0 \t 0.0 \t 0.0 \t 0.0 \t 0.0 \t 0.0 \t 0.0 \t 0.0 \t 0.0 \t 0.0 \t 0.0 \t 0.0 \t 0.0 \t 0.0 \t 0.0 \t 0.0 \t 0.0 \t 0.0 \t 0.0 \t 0.0 \t 0.0 \t 0.0 \t 0.0 \t 0.0 \t 0.0 \t 0.0 \t 0.0 \t 0.0 \t 0.0 \t 0.0 \t 0.0 \t 0.0 \t 0.0 \t 0.0 \t 0.0 \t 0.0 \t 0.0 \t 0.0 \t 0.0 \t 0.0 \t 0.0 \t 0.0 \t 0.0 \t 0.0 \t 0.0 \t 0.0 \t 0.0 \t 0.0 \t 0.0 \t 0.0 \t 0.0 \t 0.0 \t 0.0 \t 0.0 \t 0.0 \t 0.0 \t 0.0 \t 0.0 \t 0.0 \t 0.0 \t 0.0 \t 0.0 \t 0.0 \t 0.0 \t 0.0 \t 0.0 \t 0.0 \t 0.0 \t 0.0 \t 0.0 \t 0.0 \t 0.0 \t 0.0 \t 0.0 \t 0.0 \t 0.0 \t 0.0 \t 0.0 \t 0.0 \t 0.0 \t 0.0 \t 0.0 \t 0.0 \t 0.0 \t 0.0 \t 0.0 \t 0.0 \t 0.0 \t 0.0 \t 0.0 \t 0.0 \t 0.0 \t 0.0 \t 0.0 \t 0.0 \t 0.0 \t 0.0 \t 0.0 \t 0.0 \t 0.0 \t 0.0 \t 0.0 \t 0.0 \t 0.0 \t 0.0 \t 0.0 \t 0.0 \t 0.0 \t 0.0 \t 0.0 \t 0.0 \t 0.0 \t 0.0 \t 0.0 \t 0.0 \t 0.0  homework\n",
            " 0.153 \t 0.062 \t[0.685]\t 0.000 \t 0.000 \t 0.000 \t 0.000 \t 0.000 \t 0.000 \t 0.000 \t 0.000 \t 0.000 \t 0.000 \t 0.000 \t 0.001 \t 0.000 \t 0.000 \t 1e-04 \t 0.000 \t 0.000 \t 0.000 \t 0.000 \t 0.000 \t 0.001 \t 0.000 \t 0.000 \t 0.000 \t 0.000 \t 0.000 \t 0.000 \t 0.000 \t 0.001 \t 0.001 \t 0.000 \t 0.001 \t 0.000 \t 0.000 \t 0.000 \t 0.000 \t 0.000 \t 0.000 \t 0.000 \t 0.000 \t 0.000 \t 0.000 \t 0.000 \t 0.000 \t 1e-04 \t 0.000 \t 0.000 \t 0.001 \t 0.000 \t 0.000 \t 0.000 \t 0.000 \t 0.000 \t 0.000 \t 0.000 \t 0.000 \t 0.000 \t 0.000 \t 0.000 \t 0.000 \t 0.000 \t 0.000 \t 0.000 \t 0.000 \t 0.000 \t 0.000 \t 0.000 \t 0.000 \t 0.000 \t 0.000 \t 0.000 \t 0.000 \t 0.000 \t 0.000 \t 0.000 \t 0.000 \t 0.000 \t 0.000 \t 0.000 \t 0.000 \t 0.000 \t 0.000 \t 0.000 \t 0.000 \t 0.000 \t 0.000 \t 0.001 \t 0.001 \t 0.000 \t 0.000 \t 0.000 \t 0.000 \t 0.000 \t 0.000 \t 0.000 \t 0.000 \t 0.000 \t 0.000 \t 0.000 \t 0.001 \t 0.000 \t 0.000 \t 0.000 \t 0.000 \t 0.000 \t 0.001 \t 0.000 \t 0.000 \t 0.000 \t 0.000 \t 0.001 \t 0.000 \t 0.000 \t 0.000 \t 0.000 \t 0.000 \t 0.000 \t 0.000 \t 0.000 \t 0.000 \t 0.000 \t 0.000 \t 0.001 \t 0.000 \t 0.000 \t 0.000 \t 0.000 \t 0.000 \t 0.000 \t 0.000 \t 0.000 \t 0.000 \t 0.000 \t 0.000 \t 0.000 \t 0.000 \t 0.000 \t 0.002 \t 0.000 \t 0.000 \t 0.001 \t 0.000 \t 0.000 \t 0.001 \t 0.000 \t 0.000 \t 0.001 \t 0.000 \t 0.000 \t 0.000 \t 0.001 \t 0.000 \t 0.000 \t 0.000 \t 0.000 \t 0.000 \t 0.001 \t 0.000  [SEP]\n",
            " 0.000 \t[0.894]\t 0.101 \t 0.0 \t 0.0 \t 0.0 \t 0.0 \t 0.0 \t 0.0 \t 0.0 \t 0.0 \t 0.0 \t 0.0 \t 0.0 \t 0.0 \t 0.0 \t 0.0 \t 0.0 \t 0.0 \t 0.0 \t 0.0 \t 0.0 \t 0.0 \t 0.0 \t 0.0 \t 0.0 \t 0.0 \t 0.0 \t 0.0 \t 0.0 \t 0.0 \t 0.0 \t 0.0 \t 0.0 \t 0.0 \t 0.0 \t 0.0 \t 0.0 \t 0.0 \t 0.0 \t 0.0 \t 0.0 \t 0.0 \t 0.0 \t 0.0 \t 0.0 \t 0.0 \t 0.0 \t 0.0 \t 0.0 \t 0.0 \t 0.0 \t 0.0 \t 0.0 \t 1e-04 \t 0.0 \t 0.0 \t 0.0 \t 0.0 \t 0.0 \t 0.0 \t 0.0 \t 0.0 \t 0.0 \t 1e-04 \t 0.0 \t 0.0 \t 0.0 \t 0.0 \t 1e-04 \t 0.0 \t 0.0 \t 0.0 \t 1e-04 \t 0.0 \t 0.0 \t 0.0 \t 0.0 \t 0.0 \t 0.0 \t 0.0 \t 0.0 \t 0.0 \t 0.0 \t 0.0 \t 0.0 \t 0.0 \t 0.0 \t 0.0 \t 0.0 \t 1e-04 \t 0.0 \t 0.0 \t 0.0 \t 0.0 \t 1e-04 \t 0.0 \t 0.0 \t 0.0 \t 0.0 \t 0.0 \t 0.0 \t 1e-04 \t 0.0 \t 0.0 \t 0.0 \t 0.0 \t 1e-04 \t 0.0 \t 0.0 \t 0.0 \t 0.0 \t 0.0 \t 0.0 \t 0.0 \t 0.0 \t 0.0 \t 0.0 \t 0.0 \t 0.0 \t 0.0 \t 0.0 \t 0.0 \t 0.0 \t 0.0 \t 0.0 \t 0.0 \t 0.0 \t 0.0 \t 0.0 \t 0.0 \t 0.0 \t 0.0 \t 0.0 \t 0.0 \t 0.0 \t 0.0 \t 0.0 \t 0.0 \t 0.0 \t 1e-04 \t 0.0 \t 0.0 \t 0.0 \t 0.0 \t 0.0 \t 0.0 \t 0.0 \t 0.0 \t 0.0 \t 1e-04 \t 0.0 \t 0.0 \t 0.0 \t 0.0 \t 0.0 \t 0.0 \t 0.0 \t 0.0 \t 0.0 \t 0.0  what\n",
            " 0.000 \t 0.029 \t[0.966]\t 0.0 \t 0.0 \t 0.0 \t 0.0 \t 0.0 \t 0.0 \t 0.0 \t 0.0 \t 0.0 \t 0.0 \t 0.0 \t 0.0 \t 0.0 \t 0.0 \t 0.0 \t 0.0 \t 0.0 \t 0.0 \t 0.0 \t 0.0 \t 0.0 \t 0.0 \t 0.0 \t 0.0 \t 0.0 \t 0.0 \t 0.0 \t 0.0 \t 0.0 \t 0.0 \t 0.0 \t 0.0 \t 0.0 \t 0.0 \t 0.0 \t 0.0 \t 0.0 \t 0.0 \t 0.0 \t 0.0 \t 0.0 \t 0.0 \t 0.0 \t 0.0 \t 0.0 \t 0.0 \t 0.0 \t 0.0 \t 0.0 \t 0.0 \t 0.0 \t 0.0 \t 0.0 \t 0.0 \t 0.0 \t 0.0 \t 0.0 \t 0.0 \t 0.0 \t 0.0 \t 0.0 \t 0.0 \t 0.0 \t 0.0 \t 0.0 \t 0.0 \t 0.0 \t 0.0 \t 0.0 \t 0.0 \t 0.0 \t 0.0 \t 0.0 \t 0.0 \t 0.0 \t 0.0 \t 0.0 \t 0.0 \t 0.0 \t 0.0 \t 0.0 \t 0.0 \t 0.0 \t 0.0 \t 0.0 \t 0.0 \t 0.0 \t 0.0 \t 1e-04 \t 0.0 \t 0.0 \t 0.0 \t 0.0 \t 0.0 \t 0.0 \t 0.0 \t 0.0 \t 0.0 \t 0.0 \t 0.0 \t 0.0 \t 0.0 \t 0.0 \t 0.0 \t 0.0 \t 0.0 \t 0.0 \t 0.0 \t 0.0 \t 0.0 \t 0.0 \t 0.0 \t 0.0 \t 0.0 \t 0.0 \t 1e-04 \t 0.0 \t 0.0 \t 0.0 \t 0.0 \t 0.0 \t 0.0 \t 0.0 \t 0.0 \t 0.0 \t 0.0 \t 0.0 \t 0.0 \t 0.0 \t 0.0 \t 0.0 \t 0.0 \t 0.0 \t 0.0 \t 0.0 \t 0.0 \t 0.0 \t 0.0 \t 0.0 \t 0.0 \t 0.0 \t 0.0 \t 0.0 \t 0.0 \t 0.0 \t 0.0 \t 0.0 \t 0.0 \t 0.0 \t 0.0 \t 0.0 \t 0.0 \t 0.0 \t 0.0 \t 0.0 \t 0.0 \t 0.0 \t 0.0  does\n",
            " 0.0 \t[0.998]\t 0.001 \t 0.0 \t 0.0 \t 0.0 \t 0.0 \t 0.0 \t 0.0 \t 0.0 \t 0.0 \t 0.0 \t 0.0 \t 0.0 \t 0.0 \t 0.0 \t 0.0 \t 0.0 \t 0.0 \t 0.0 \t 0.0 \t 0.0 \t 0.0 \t 0.0 \t 0.0 \t 0.0 \t 0.0 \t 0.0 \t 0.0 \t 0.0 \t 0.0 \t 0.0 \t 0.0 \t 0.0 \t 0.0 \t 0.0 \t 0.0 \t 0.0 \t 0.0 \t 0.0 \t 0.0 \t 0.0 \t 0.0 \t 0.0 \t 0.0 \t 0.0 \t 0.0 \t 0.0 \t 0.0 \t 0.0 \t 0.0 \t 0.0 \t 0.0 \t 0.0 \t 0.0 \t 0.0 \t 0.0 \t 0.0 \t 0.0 \t 0.0 \t 0.0 \t 0.0 \t 0.0 \t 0.0 \t 0.0 \t 0.0 \t 0.0 \t 0.0 \t 0.0 \t 0.0 \t 0.0 \t 0.0 \t 0.0 \t 0.0 \t 0.0 \t 0.0 \t 0.0 \t 0.0 \t 0.0 \t 0.0 \t 0.0 \t 0.0 \t 0.0 \t 0.0 \t 0.0 \t 0.0 \t 0.0 \t 0.0 \t 0.0 \t 0.0 \t 0.0 \t 0.0 \t 0.0 \t 0.0 \t 0.0 \t 0.0 \t 0.0 \t 0.0 \t 0.0 \t 0.0 \t 0.0 \t 0.0 \t 0.0 \t 0.0 \t 0.0 \t 0.0 \t 0.0 \t 0.0 \t 0.0 \t 0.0 \t 0.0 \t 0.0 \t 0.0 \t 0.0 \t 0.0 \t 0.0 \t 0.0 \t 0.0 \t 0.0 \t 0.0 \t 0.0 \t 0.0 \t 0.0 \t 0.0 \t 0.0 \t 0.0 \t 0.0 \t 0.0 \t 0.0 \t 0.0 \t 0.0 \t 0.0 \t 0.0 \t 0.0 \t 0.0 \t 0.0 \t 0.0 \t 0.0 \t 0.0 \t 0.0 \t 0.0 \t 0.0 \t 0.0 \t 0.0 \t 0.0 \t 0.0 \t 0.0 \t 0.0 \t 0.0 \t 0.0 \t 0.0 \t 0.0 \t 0.0 \t 0.0 \t 0.0 \t 0.0 \t 0.0 \t 0.0 \t 0.0 \t 0.0 \t 0.0  mike\n",
            " 0.000 \t[0.989]\t 0.008 \t 0.0 \t 0.0 \t 0.0 \t 0.0 \t 0.0 \t 0.0 \t 0.0 \t 0.0 \t 0.0 \t 0.0 \t 0.0 \t 0.0 \t 0.0 \t 0.0 \t 0.0 \t 0.0 \t 0.0 \t 0.0 \t 0.0 \t 0.0 \t 0.0 \t 0.0 \t 0.0 \t 0.0 \t 0.0 \t 0.0 \t 0.0 \t 0.0 \t 0.0 \t 0.0 \t 0.0 \t 0.0 \t 0.0 \t 0.0 \t 0.0 \t 0.0 \t 0.0 \t 0.0 \t 0.0 \t 0.0 \t 0.0 \t 0.0 \t 0.0 \t 0.0 \t 0.0 \t 0.0 \t 0.0 \t 0.0 \t 0.0 \t 0.0 \t 0.0 \t 0.0 \t 0.0 \t 0.0 \t 0.0 \t 0.0 \t 0.0 \t 0.0 \t 0.0 \t 0.0 \t 0.0 \t 0.0 \t 0.0 \t 0.0 \t 0.0 \t 0.0 \t 0.0 \t 0.0 \t 0.0 \t 0.0 \t 0.0 \t 0.0 \t 0.0 \t 0.0 \t 0.0 \t 0.0 \t 0.0 \t 0.0 \t 0.0 \t 0.0 \t 0.0 \t 0.0 \t 0.0 \t 0.0 \t 0.0 \t 0.0 \t 0.0 \t 0.0 \t 0.0 \t 0.0 \t 0.0 \t 0.0 \t 0.0 \t 0.0 \t 0.0 \t 0.0 \t 0.0 \t 0.0 \t 0.0 \t 0.0 \t 0.0 \t 0.0 \t 0.0 \t 0.0 \t 0.0 \t 0.0 \t 0.0 \t 0.0 \t 0.0 \t 0.0 \t 0.0 \t 0.0 \t 0.0 \t 0.0 \t 0.0 \t 0.0 \t 0.0 \t 0.0 \t 0.0 \t 0.0 \t 0.0 \t 0.0 \t 0.0 \t 0.0 \t 0.0 \t 0.0 \t 0.0 \t 0.0 \t 0.0 \t 0.0 \t 0.0 \t 0.0 \t 0.0 \t 0.0 \t 0.0 \t 0.0 \t 0.0 \t 0.0 \t 0.0 \t 0.0 \t 0.0 \t 0.0 \t 0.0 \t 0.0 \t 0.0 \t 0.0 \t 0.0 \t 0.0 \t 0.0 \t 0.0 \t 0.0 \t 0.0 \t 0.0 \t 0.0 \t 0.0 \t 0.0 \t 0.0 \t 0.0  want\n",
            " 0.000 \t 0.008 \t[0.986]\t 1e-04 \t 0.0 \t 0.0 \t 0.0 \t 1e-04 \t 0.0 \t 0.0 \t 0.0 \t 0.0 \t 0.0 \t 0.0 \t 0.0 \t 0.0 \t 0.0 \t 0.0 \t 0.0 \t 0.0 \t 0.0 \t 0.0 \t 0.0 \t 0.0 \t 0.0 \t 0.0 \t 0.0 \t 0.0 \t 0.0 \t 0.0 \t 0.0 \t 1e-04 \t 0.0 \t 0.0 \t 0.0 \t 0.0 \t 1e-04 \t 0.0 \t 0.0 \t 0.0 \t 1e-04 \t 1e-04 \t 0.0 \t 1e-04 \t 0.0 \t 0.0 \t 0.0 \t 0.0 \t 0.0 \t 0.0 \t 0.0 \t 0.0 \t 0.0 \t 0.0 \t 0.0 \t 0.0 \t 0.0 \t 0.0 \t 0.0 \t 0.0 \t 1e-04 \t 0.0 \t 0.0 \t 1e-04 \t 0.0 \t 0.0 \t 0.0 \t 0.0 \t 0.0 \t 0.0 \t 0.0 \t 0.0 \t 0.0 \t 0.0 \t 0.0 \t 0.0 \t 0.0 \t 0.0 \t 0.0 \t 0.0 \t 0.0 \t 0.0 \t 0.0 \t 0.0 \t 0.0 \t 0.0 \t 0.0 \t 0.0 \t 0.0 \t 0.0 \t 0.0 \t 0.0 \t 0.0 \t 0.0 \t 0.0 \t 1e-04 \t 0.0 \t 0.0 \t 0.0 \t 0.0 \t 0.0 \t 0.0 \t 0.0 \t 0.0 \t 0.0 \t 0.0 \t 0.0 \t 0.0 \t 0.0 \t 0.0 \t 0.0 \t 0.0 \t 0.0 \t 0.0 \t 0.0 \t 0.0 \t 0.0 \t 0.0 \t 1e-04 \t 0.0 \t 0.0 \t 0.0 \t 0.0 \t 0.0 \t 0.0 \t 1e-04 \t 0.0 \t 0.0 \t 0.0 \t 1e-04 \t 0.0 \t 0.0 \t 0.0 \t 0.0 \t 0.0 \t 0.0 \t 0.0 \t 0.0 \t 0.0 \t 0.0 \t 1e-04 \t 0.0 \t 0.0 \t 0.0 \t 0.0 \t 0.0 \t 0.0 \t 0.0 \t 0.0 \t 0.0 \t 0.0 \t 0.0 \t 1e-04 \t 0.0 \t 0.0 \t 0.0 \t 0.0 \t 0.0 \t 0.0 \t 1e-04 \t 0.0  to\n",
            " 0.000 \t 0.009 \t[0.987]\t 0.0 \t 0.0 \t 0.0 \t 0.0 \t 0.0 \t 0.0 \t 0.0 \t 0.0 \t 0.0 \t 0.0 \t 0.0 \t 0.0 \t 0.0 \t 0.0 \t 0.0 \t 0.0 \t 0.0 \t 0.0 \t 0.0 \t 0.0 \t 0.0 \t 0.0 \t 0.0 \t 0.0 \t 0.0 \t 0.0 \t 0.0 \t 0.0 \t 1e-04 \t 0.0 \t 0.0 \t 0.0 \t 0.0 \t 0.0 \t 0.0 \t 0.0 \t 0.0 \t 0.0 \t 0.0 \t 0.0 \t 0.0 \t 0.0 \t 0.0 \t 0.0 \t 0.0 \t 0.0 \t 0.0 \t 0.0 \t 0.0 \t 0.0 \t 0.0 \t 0.0 \t 0.0 \t 0.0 \t 0.0 \t 0.0 \t 0.0 \t 0.0 \t 0.0 \t 0.0 \t 0.0 \t 0.0 \t 0.0 \t 0.0 \t 0.0 \t 0.0 \t 0.0 \t 0.0 \t 0.0 \t 0.0 \t 0.0 \t 0.0 \t 0.0 \t 0.0 \t 0.0 \t 0.0 \t 0.0 \t 0.0 \t 0.0 \t 0.0 \t 0.0 \t 0.0 \t 0.0 \t 0.0 \t 0.0 \t 0.0 \t 0.0 \t 0.0 \t 0.0 \t 0.0 \t 0.0 \t 0.0 \t 0.0 \t 0.0 \t 0.0 \t 0.0 \t 0.0 \t 0.0 \t 0.0 \t 0.0 \t 0.0 \t 0.0 \t 0.0 \t 0.0 \t 0.0 \t 0.0 \t 0.0 \t 0.0 \t 0.0 \t 0.0 \t 0.0 \t 0.0 \t 0.0 \t 0.0 \t 0.0 \t 0.0 \t 0.0 \t 0.0 \t 0.0 \t 0.0 \t 0.0 \t 0.0 \t 0.0 \t 0.0 \t 0.0 \t 0.0 \t 0.0 \t 0.0 \t 0.0 \t 0.0 \t 0.0 \t 0.0 \t 0.0 \t 0.0 \t 0.0 \t 0.0 \t 0.0 \t 0.0 \t 0.0 \t 0.0 \t 0.0 \t 0.0 \t 0.0 \t 0.0 \t 0.0 \t 0.0 \t 0.0 \t 0.0 \t 0.0 \t 0.0 \t 0.0 \t 0.0 \t 0.0 \t 0.0 \t 0.0 \t 0.0 \t 0.0 \t 0.0  do\n",
            " 0.002 \t[0.543]\t 0.446 \t 1e-04 \t 1e-04 \t 0.0 \t 1e-04 \t 1e-04 \t 1e-04 \t 1e-04 \t 1e-04 \t 0.0 \t 0.0 \t 0.0 \t 0.0 \t 0.0 \t 0.0 \t 0.0 \t 1e-04 \t 0.0 \t 0.0 \t 0.0 \t 0.0 \t 1e-04 \t 1e-04 \t 0.0 \t 0.0 \t 0.0 \t 0.0 \t 1e-04 \t 0.0 \t 1e-04 \t 0.0 \t 0.0 \t 1e-04 \t 0.0 \t 0.0 \t 1e-04 \t 0.0 \t 0.0 \t 0.000 \t 1e-04 \t 0.0 \t 1e-04 \t 0.0 \t 0.0 \t 1e-04 \t 0.0 \t 0.0 \t 0.0 \t 0.0 \t 0.0 \t 1e-04 \t 0.0 \t 1e-04 \t 0.0 \t 0.0 \t 0.0 \t 1e-04 \t 0.0 \t 0.0 \t 1e-04 \t 0.0 \t 1e-04 \t 1e-04 \t 1e-04 \t 1e-04 \t 0.0 \t 0.0 \t 1e-04 \t 0.0 \t 0.0 \t 0.0 \t 1e-04 \t 0.0 \t 1e-04 \t 0.0 \t 0.0 \t 1e-04 \t 0.0 \t 1e-04 \t 1e-04 \t 0.0 \t 1e-04 \t 0.0 \t 0.0 \t 0.0 \t 0.0 \t 1e-04 \t 1e-04 \t 0.000 \t 1e-04 \t 0.0 \t 0.0 \t 1e-04 \t 1e-04 \t 0.0 \t 0.0 \t 0.0 \t 0.0 \t 0.0 \t 0.0 \t 1e-04 \t 0.0 \t 1e-04 \t 0.0 \t 0.0 \t 0.000 \t 1e-04 \t 1e-04 \t 0.0 \t 0.0 \t 1e-04 \t 0.0 \t 1e-04 \t 0.0 \t 0.0 \t 1e-04 \t 0.0 \t 1e-04 \t 0.0 \t 0.0 \t 0.0 \t 1e-04 \t 0.0 \t 1e-04 \t 1e-04 \t 1e-04 \t 1e-04 \t 1e-04 \t 0.0 \t 0.0 \t 0.0 \t 0.0 \t 0.0 \t 0.0 \t 0.0 \t 0.0 \t 1e-04 \t 0.0 \t 0.000 \t 0.0 \t 0.0 \t 1e-04 \t 1e-04 \t 1e-04 \t 1e-04 \t 1e-04 \t 0.0 \t 0.0 \t 1e-04 \t 0.0 \t 1e-04 \t 0.0 \t 0.0 \t 1e-04 \t 0.0 \t 0.0 \t 1e-04 \t 1e-04 \t 0.0  ?\n",
            " 0.153 \t 0.062 \t[0.685]\t 0.000 \t 0.000 \t 0.000 \t 0.000 \t 0.000 \t 0.000 \t 0.000 \t 0.000 \t 0.000 \t 0.000 \t 0.000 \t 0.001 \t 0.000 \t 0.000 \t 1e-04 \t 0.000 \t 0.000 \t 0.000 \t 0.000 \t 0.000 \t 0.001 \t 0.000 \t 0.000 \t 0.000 \t 0.000 \t 0.000 \t 0.000 \t 0.000 \t 0.001 \t 0.001 \t 0.000 \t 0.001 \t 0.000 \t 0.000 \t 0.000 \t 0.000 \t 0.000 \t 0.000 \t 0.000 \t 0.000 \t 0.000 \t 0.000 \t 0.000 \t 0.000 \t 1e-04 \t 0.000 \t 0.000 \t 0.001 \t 0.000 \t 0.000 \t 0.000 \t 0.000 \t 0.000 \t 0.000 \t 0.000 \t 0.000 \t 0.000 \t 0.000 \t 0.000 \t 0.000 \t 0.000 \t 0.000 \t 0.000 \t 0.000 \t 0.000 \t 0.000 \t 0.000 \t 0.000 \t 0.000 \t 0.000 \t 0.000 \t 0.000 \t 0.000 \t 0.000 \t 0.000 \t 0.000 \t 0.000 \t 0.000 \t 0.000 \t 0.000 \t 0.000 \t 0.000 \t 0.000 \t 0.000 \t 0.000 \t 0.000 \t 0.001 \t 0.001 \t 0.000 \t 0.000 \t 0.000 \t 0.000 \t 0.000 \t 0.000 \t 0.000 \t 0.000 \t 0.000 \t 0.000 \t 0.000 \t 0.001 \t 0.000 \t 0.000 \t 0.000 \t 0.000 \t 0.000 \t 0.001 \t 0.000 \t 0.000 \t 0.000 \t 0.000 \t 0.001 \t 0.000 \t 0.000 \t 0.000 \t 0.000 \t 0.000 \t 0.000 \t 0.000 \t 0.000 \t 0.000 \t 0.000 \t 0.000 \t 0.001 \t 0.000 \t 0.000 \t 0.000 \t 0.000 \t 0.000 \t 0.000 \t 0.000 \t 0.000 \t 0.000 \t 0.000 \t 0.000 \t 0.000 \t 0.000 \t 0.000 \t 0.002 \t 0.000 \t 0.000 \t 0.001 \t 0.000 \t 0.000 \t 0.001 \t 0.000 \t 0.000 \t 0.001 \t 0.000 \t 0.000 \t 0.000 \t 0.001 \t 0.000 \t 0.000 \t 0.000 \t 0.000 \t 0.000 \t 0.001 \t 0.000  [SEP]\n",
            " 0.0 \t[0.999]\t 0.000 \t 0.0 \t 0.0 \t 0.0 \t 0.0 \t 0.0 \t 0.0 \t 0.0 \t 0.0 \t 0.0 \t 0.0 \t 0.0 \t 0.0 \t 0.0 \t 0.0 \t 0.0 \t 0.0 \t 0.0 \t 0.0 \t 0.0 \t 0.0 \t 0.0 \t 0.0 \t 0.0 \t 0.0 \t 0.0 \t 0.0 \t 0.0 \t 0.0 \t 0.0 \t 0.0 \t 0.0 \t 0.0 \t 0.0 \t 0.0 \t 0.0 \t 0.0 \t 0.0 \t 0.0 \t 0.0 \t 0.0 \t 0.0 \t 0.0 \t 0.0 \t 0.0 \t 0.0 \t 0.0 \t 0.0 \t 0.0 \t 0.0 \t 0.0 \t 0.0 \t 0.0 \t 0.0 \t 0.0 \t 0.0 \t 0.0 \t 0.0 \t 0.0 \t 0.0 \t 0.0 \t 0.0 \t 0.0 \t 0.0 \t 0.0 \t 0.0 \t 0.0 \t 0.0 \t 0.0 \t 0.0 \t 0.0 \t 0.0 \t 0.0 \t 0.0 \t 0.0 \t 0.0 \t 0.0 \t 0.0 \t 0.0 \t 0.0 \t 0.0 \t 0.0 \t 0.0 \t 0.0 \t 0.0 \t 0.0 \t 0.0 \t 0.0 \t 0.0 \t 0.0 \t 0.0 \t 0.0 \t 0.0 \t 0.0 \t 0.0 \t 0.0 \t 0.0 \t 0.0 \t 0.0 \t 0.0 \t 0.0 \t 0.0 \t 0.0 \t 0.0 \t 0.0 \t 0.0 \t 0.0 \t 0.0 \t 0.0 \t 0.0 \t 0.0 \t 0.0 \t 0.0 \t 0.0 \t 0.0 \t 0.0 \t 0.0 \t 0.0 \t 0.0 \t 0.0 \t 0.0 \t 0.0 \t 0.0 \t 0.0 \t 0.0 \t 0.0 \t 0.0 \t 0.0 \t 0.0 \t 0.0 \t 0.0 \t 0.0 \t 0.0 \t 0.0 \t 0.0 \t 0.0 \t 0.0 \t 0.0 \t 0.0 \t 0.0 \t 0.0 \t 0.0 \t 0.0 \t 0.0 \t 0.0 \t 0.0 \t 0.0 \t 0.0 \t 0.0 \t 0.0 \t 0.0 \t 0.0 \t 0.0 \t 0.0 \t 0.0 \t 0.0 \t 0.0 \t 0.0 \t 0.0  gaming\n",
            " 0.000 \t 0.012 \t[0.981]\t 0.0 \t 0.0 \t 0.0 \t 0.0 \t 1e-04 \t 0.0 \t 0.0 \t 0.0 \t 0.0 \t 0.0 \t 1e-04 \t 0.0 \t 1e-04 \t 0.0 \t 0.0 \t 0.0 \t 0.0 \t 1e-04 \t 0.0 \t 0.0 \t 0.0 \t 0.0 \t 0.0 \t 0.0 \t 0.0 \t 0.0 \t 0.0 \t 0.0 \t 1e-04 \t 0.0 \t 0.0 \t 0.0 \t 0.0 \t 0.0 \t 0.0 \t 0.0 \t 0.0 \t 0.0 \t 0.0 \t 0.0 \t 1e-04 \t 0.0 \t 0.0 \t 0.0 \t 0.0 \t 0.0 \t 0.0 \t 0.0 \t 0.0 \t 0.0 \t 0.0 \t 0.0 \t 0.0 \t 0.0 \t 0.0 \t 0.0 \t 0.0 \t 0.0 \t 0.0 \t 0.0 \t 0.0 \t 0.0 \t 0.0 \t 0.0 \t 0.0 \t 0.0 \t 1e-04 \t 0.0 \t 0.0 \t 0.0 \t 0.0 \t 0.0 \t 0.0 \t 0.0 \t 0.0 \t 0.0 \t 0.0 \t 0.0 \t 1e-04 \t 0.0 \t 1e-04 \t 0.0 \t 0.0 \t 0.0 \t 0.0 \t 0.0 \t 0.0 \t 0.0 \t 0.0 \t 0.0 \t 0.0 \t 0.0 \t 0.0 \t 0.0 \t 0.0 \t 0.0 \t 0.0 \t 0.0 \t 0.0 \t 0.0 \t 0.0 \t 0.0 \t 0.0 \t 0.0 \t 1e-04 \t 0.0 \t 0.0 \t 0.0 \t 0.0 \t 0.0 \t 0.0 \t 0.0 \t 0.0 \t 0.0 \t 0.0 \t 0.0 \t 0.0 \t 0.0 \t 0.0 \t 0.0 \t 0.0 \t 0.0 \t 1e-04 \t 0.0 \t 0.0 \t 0.0 \t 0.0 \t 0.0 \t 0.0 \t 0.0 \t 0.0 \t 0.0 \t 0.0 \t 0.0 \t 0.0 \t 0.0 \t 0.0 \t 0.000 \t 0.0 \t 0.0 \t 0.0 \t 0.0 \t 0.0 \t 0.0 \t 0.0 \t 0.0 \t 0.0 \t 0.0 \t 0.0 \t 0.0 \t 0.0 \t 0.0 \t 0.0 \t 0.0 \t 0.0 \t 0.0 \t 0.0 \t 0.0  ,\n",
            " 0.001 \t 0.057 \t[0.938]\t 0.0 \t 0.0 \t 0.0 \t 0.0 \t 0.0 \t 0.0 \t 0.0 \t 0.0 \t 0.0 \t 0.0 \t 0.0 \t 0.0 \t 0.0 \t 0.0 \t 0.0 \t 0.0 \t 0.0 \t 0.0 \t 0.0 \t 0.0 \t 0.0 \t 0.0 \t 0.0 \t 0.0 \t 0.0 \t 0.0 \t 0.0 \t 0.0 \t 0.0 \t 0.0 \t 0.0 \t 0.0 \t 0.0 \t 0.0 \t 0.0 \t 0.0 \t 0.0 \t 0.0 \t 0.0 \t 0.0 \t 0.0 \t 0.0 \t 0.0 \t 0.0 \t 0.0 \t 0.0 \t 0.0 \t 0.0 \t 0.0 \t 0.0 \t 0.0 \t 0.0 \t 0.0 \t 0.0 \t 0.0 \t 0.0 \t 0.0 \t 0.0 \t 0.0 \t 0.0 \t 0.0 \t 0.0 \t 0.0 \t 0.0 \t 0.0 \t 0.0 \t 1e-04 \t 0.0 \t 0.0 \t 0.0 \t 0.0 \t 0.0 \t 0.0 \t 0.0 \t 0.0 \t 0.0 \t 0.0 \t 0.0 \t 0.0 \t 0.0 \t 0.0 \t 0.0 \t 0.0 \t 0.0 \t 0.0 \t 0.0 \t 0.0 \t 0.0 \t 0.0 \t 0.0 \t 0.0 \t 0.0 \t 0.0 \t 0.0 \t 0.0 \t 0.0 \t 0.0 \t 0.0 \t 0.0 \t 0.0 \t 0.0 \t 0.0 \t 0.0 \t 0.0 \t 0.0 \t 0.0 \t 0.0 \t 0.0 \t 0.0 \t 0.0 \t 0.0 \t 0.0 \t 0.0 \t 0.0 \t 0.0 \t 0.0 \t 0.0 \t 0.0 \t 0.0 \t 0.0 \t 0.0 \t 0.0 \t 0.0 \t 0.0 \t 1e-04 \t 0.0 \t 0.0 \t 0.0 \t 0.0 \t 0.0 \t 0.0 \t 0.0 \t 0.0 \t 0.0 \t 0.0 \t 0.0 \t 0.0 \t 1e-04 \t 0.0 \t 0.0 \t 0.0 \t 0.0 \t 0.0 \t 0.0 \t 0.0 \t 0.0 \t 0.0 \t 0.0 \t 0.0 \t 0.0 \t 0.0 \t 0.0 \t 0.0 \t 0.0 \t 0.0 \t 0.0 \t 0.0 \t 0.0  but\n",
            " 0.0 \t[0.997]\t 0.001 \t 0.0 \t 0.0 \t 0.0 \t 0.0 \t 0.0 \t 0.0 \t 0.0 \t 0.0 \t 0.0 \t 0.0 \t 0.0 \t 0.0 \t 0.0 \t 0.0 \t 0.0 \t 0.0 \t 0.0 \t 0.0 \t 0.0 \t 0.0 \t 0.0 \t 0.0 \t 0.0 \t 0.0 \t 0.0 \t 0.0 \t 0.0 \t 0.0 \t 0.0 \t 0.0 \t 0.0 \t 0.0 \t 0.0 \t 0.0 \t 0.0 \t 0.0 \t 0.0 \t 0.0 \t 0.0 \t 0.0 \t 0.0 \t 0.0 \t 0.0 \t 0.0 \t 0.0 \t 0.0 \t 0.0 \t 0.0 \t 0.0 \t 0.0 \t 0.0 \t 0.0 \t 0.0 \t 0.0 \t 0.0 \t 0.0 \t 0.0 \t 0.0 \t 0.0 \t 0.0 \t 0.0 \t 0.0 \t 0.0 \t 0.0 \t 0.0 \t 0.0 \t 0.0 \t 0.0 \t 0.0 \t 0.0 \t 0.0 \t 0.0 \t 0.0 \t 0.0 \t 0.0 \t 0.0 \t 0.0 \t 0.0 \t 0.0 \t 0.0 \t 0.0 \t 0.0 \t 0.0 \t 0.0 \t 0.0 \t 0.0 \t 0.0 \t 0.0 \t 0.0 \t 0.0 \t 0.0 \t 0.0 \t 0.0 \t 0.0 \t 0.0 \t 0.0 \t 0.0 \t 0.0 \t 0.0 \t 0.0 \t 0.0 \t 0.0 \t 0.0 \t 0.0 \t 0.0 \t 0.0 \t 0.0 \t 0.0 \t 0.0 \t 0.0 \t 0.0 \t 0.0 \t 0.0 \t 0.0 \t 0.0 \t 0.0 \t 0.0 \t 0.0 \t 0.0 \t 0.0 \t 0.0 \t 0.0 \t 0.0 \t 0.0 \t 0.0 \t 0.0 \t 0.0 \t 0.0 \t 0.0 \t 0.0 \t 0.0 \t 0.0 \t 0.0 \t 0.0 \t 0.0 \t 0.0 \t 0.0 \t 0.0 \t 0.0 \t 0.0 \t 0.0 \t 0.0 \t 0.0 \t 0.0 \t 0.0 \t 0.0 \t 0.0 \t 0.0 \t 0.0 \t 0.0 \t 0.0 \t 0.0 \t 0.0 \t 0.0 \t 0.0 \t 0.0 \t 0.0 \t 0.0  SPEAKER1\n",
            " 0.0 \t[0.999]\t 0.000 \t 0.0 \t 0.0 \t 0.0 \t 0.0 \t 0.0 \t 0.0 \t 0.0 \t 0.0 \t 0.0 \t 0.0 \t 0.0 \t 0.0 \t 0.0 \t 0.0 \t 0.0 \t 0.0 \t 0.0 \t 0.0 \t 0.0 \t 0.0 \t 0.0 \t 0.0 \t 0.0 \t 0.0 \t 0.0 \t 0.0 \t 0.0 \t 0.0 \t 0.0 \t 0.0 \t 0.0 \t 0.0 \t 0.0 \t 0.0 \t 0.0 \t 0.0 \t 0.0 \t 0.0 \t 0.0 \t 0.0 \t 0.0 \t 0.0 \t 0.0 \t 0.0 \t 0.0 \t 0.0 \t 0.0 \t 0.0 \t 0.0 \t 0.0 \t 0.0 \t 0.0 \t 0.0 \t 0.0 \t 0.0 \t 0.0 \t 0.0 \t 0.0 \t 0.0 \t 0.0 \t 0.0 \t 0.0 \t 0.0 \t 0.0 \t 0.0 \t 0.0 \t 0.0 \t 0.0 \t 0.0 \t 0.0 \t 0.0 \t 0.0 \t 0.0 \t 0.0 \t 0.0 \t 0.0 \t 0.0 \t 0.0 \t 0.0 \t 0.0 \t 0.0 \t 0.0 \t 0.0 \t 0.0 \t 0.0 \t 0.0 \t 0.0 \t 0.0 \t 0.0 \t 0.0 \t 0.0 \t 0.0 \t 0.0 \t 0.0 \t 0.0 \t 0.0 \t 0.0 \t 0.0 \t 0.0 \t 0.0 \t 0.0 \t 0.0 \t 0.0 \t 0.0 \t 0.0 \t 0.0 \t 0.0 \t 0.0 \t 0.0 \t 0.0 \t 0.0 \t 0.0 \t 0.0 \t 0.0 \t 0.0 \t 0.0 \t 0.0 \t 0.0 \t 0.0 \t 0.0 \t 0.0 \t 0.0 \t 0.0 \t 0.0 \t 0.0 \t 0.0 \t 0.0 \t 0.0 \t 0.0 \t 0.0 \t 0.0 \t 0.0 \t 0.0 \t 0.0 \t 0.0 \t 0.0 \t 0.0 \t 0.0 \t 0.0 \t 0.0 \t 0.0 \t 0.0 \t 0.0 \t 0.0 \t 0.0 \t 0.0 \t 0.0 \t 0.0 \t 0.0 \t 0.0 \t 0.0 \t 0.0 \t 0.0 \t 0.0 \t 0.0 \t 0.0 \t 0.0 \t 0.0  hate\n",
            " 0.0 \t 1e-04 \t[0.999]\t 0.0 \t 0.0 \t 0.0 \t 0.0 \t 0.0 \t 0.0 \t 0.0 \t 0.0 \t 0.0 \t 0.0 \t 0.0 \t 0.0 \t 0.0 \t 0.0 \t 0.0 \t 0.0 \t 0.0 \t 0.0 \t 0.0 \t 0.0 \t 0.0 \t 0.0 \t 0.0 \t 0.0 \t 0.0 \t 0.0 \t 0.0 \t 0.0 \t 0.0 \t 0.0 \t 0.0 \t 0.0 \t 0.0 \t 0.0 \t 0.0 \t 0.0 \t 0.0 \t 0.0 \t 0.0 \t 0.0 \t 0.0 \t 0.0 \t 0.0 \t 0.0 \t 0.0 \t 0.0 \t 0.0 \t 0.0 \t 0.0 \t 0.0 \t 0.0 \t 0.0 \t 0.0 \t 0.0 \t 0.0 \t 0.0 \t 0.0 \t 0.0 \t 0.0 \t 0.0 \t 0.0 \t 0.0 \t 0.0 \t 0.0 \t 0.0 \t 0.0 \t 0.0 \t 0.0 \t 0.0 \t 0.0 \t 0.0 \t 0.0 \t 0.0 \t 0.0 \t 0.0 \t 0.0 \t 0.0 \t 0.0 \t 0.0 \t 0.0 \t 0.0 \t 0.0 \t 0.0 \t 0.0 \t 0.0 \t 0.0 \t 0.0 \t 0.0 \t 0.0 \t 0.0 \t 0.0 \t 0.0 \t 0.0 \t 0.0 \t 0.0 \t 0.0 \t 0.0 \t 0.0 \t 0.0 \t 0.0 \t 0.0 \t 0.0 \t 0.0 \t 0.0 \t 0.0 \t 0.0 \t 0.0 \t 0.0 \t 0.0 \t 0.0 \t 0.0 \t 0.0 \t 0.0 \t 0.0 \t 0.0 \t 0.0 \t 0.0 \t 0.0 \t 0.0 \t 0.0 \t 0.0 \t 0.0 \t 0.0 \t 0.0 \t 0.0 \t 0.0 \t 0.0 \t 0.0 \t 0.0 \t 0.0 \t 0.0 \t 0.0 \t 0.0 \t 0.0 \t 0.0 \t 0.0 \t 0.0 \t 0.0 \t 0.0 \t 0.0 \t 0.0 \t 0.0 \t 0.0 \t 0.0 \t 0.0 \t 0.0 \t 0.0 \t 0.0 \t 0.0 \t 0.0 \t 0.0 \t 0.0 \t 0.0 \t 0.0 \t 0.0 \t 0.0 \t 0.0 \t 0.0  cats\n",
            " 0.153 \t 0.062 \t[0.685]\t 0.000 \t 0.000 \t 0.000 \t 0.000 \t 0.000 \t 0.000 \t 0.000 \t 0.000 \t 0.000 \t 0.000 \t 0.000 \t 0.001 \t 0.000 \t 0.000 \t 1e-04 \t 0.000 \t 0.000 \t 0.000 \t 0.000 \t 0.000 \t 0.001 \t 0.000 \t 0.000 \t 0.000 \t 0.000 \t 0.000 \t 0.000 \t 0.000 \t 0.001 \t 0.001 \t 0.000 \t 0.001 \t 0.000 \t 0.000 \t 0.000 \t 0.000 \t 0.000 \t 0.000 \t 0.000 \t 0.000 \t 0.000 \t 0.000 \t 0.000 \t 0.000 \t 1e-04 \t 0.000 \t 0.000 \t 0.001 \t 0.000 \t 0.000 \t 0.000 \t 0.000 \t 0.000 \t 0.000 \t 0.000 \t 0.000 \t 0.000 \t 0.000 \t 0.000 \t 0.000 \t 0.000 \t 0.000 \t 0.000 \t 0.000 \t 0.000 \t 0.000 \t 0.000 \t 0.000 \t 0.000 \t 0.000 \t 0.000 \t 0.000 \t 0.000 \t 0.000 \t 0.000 \t 0.000 \t 0.000 \t 0.000 \t 0.000 \t 0.000 \t 0.000 \t 0.000 \t 0.000 \t 0.000 \t 0.000 \t 0.000 \t 0.001 \t 0.001 \t 0.000 \t 0.000 \t 0.000 \t 0.000 \t 0.000 \t 0.000 \t 0.000 \t 0.000 \t 0.000 \t 0.000 \t 0.000 \t 0.001 \t 0.000 \t 0.000 \t 0.000 \t 0.000 \t 0.000 \t 0.001 \t 0.000 \t 0.000 \t 0.000 \t 0.000 \t 0.001 \t 0.000 \t 0.000 \t 0.000 \t 0.000 \t 0.000 \t 0.000 \t 0.000 \t 0.000 \t 0.000 \t 0.000 \t 0.000 \t 0.001 \t 0.000 \t 0.000 \t 0.000 \t 0.000 \t 0.000 \t 0.000 \t 0.000 \t 0.000 \t 0.000 \t 0.000 \t 0.000 \t 0.000 \t 0.000 \t 0.000 \t 0.002 \t 0.000 \t 0.000 \t 0.001 \t 0.000 \t 0.000 \t 0.001 \t 0.000 \t 0.000 \t 0.001 \t 0.000 \t 0.000 \t 0.000 \t 0.001 \t 0.000 \t 0.000 \t 0.000 \t 0.000 \t 0.000 \t 0.001 \t 0.000  [SEP]\n"
          ]
        }
      ],
      "source": [
        "inputs = 'SPEAKER1 enjoy watching american football but don\\'t like to make homework <eos> what does Mike want to do? <eos> gaming, but SPEAKER1 hate cats <eos>'.split()\n",
        "#inputs = 'What car do SPEAKER1 drive <eos> a big red truck <eos>'.split()\n",
        "\n",
        "y_subj, y_pred, y_obj, subwords = model_albert_base.predict(inputs)\n",
        "\n",
        "# show results\n",
        "for arg, y in [('Subject', y_subj), ('Predicate', y_pred), ('Object', y_obj)]:\n",
        "    print('\\n', arg)\n",
        "    print([\"{}\".format(num) for num in range(179)])\n",
        "    # print('0\\t1\\t2\\t3\\t4\\t5\\t6')\n",
        "    for score, token in zip(y.T, subwords):\n",
        "        score_str = '\\t'.join([\"[\" + str(s)[:5] + \"]\" if s == max(score) else \" \" + str(round(s, 4))[:5] + \" \" for s in score])\n",
        "        token_str = token.replace('▁', '')\n",
        "        print(score_str, token_str)"
      ]
    },
    {
      "cell_type": "code",
      "execution_count": null,
      "metadata": {
        "id": "El26oCJcE-_F",
        "colab": {
          "base_uri": "https://localhost:8080/"
        },
        "outputId": "00333fcc-7723-4a25-d9dc-70dac03b5dab"
      },
      "outputs": [
        {
          "output_type": "stream",
          "name": "stdout",
          "text": [
            "[CLS] SPEAKER1 enjoy watching american football but don ' t like to make homework [SEP] what does mike want to do ? [SEP] gaming , but SPEAKER1 hate cats [SEP]\n",
            "\n",
            "Subjects:   {'gaming', 'what does', 'hate cats', 'enjoy', 'watching american football', 'want do', 'like', 'homework', 'mike', 'make', 'SPEAKER1', \"don'\"}\n",
            "Predicates: {'do ', 'like'}\n",
            "Objects:    {'CLS', \"don't\", 'what does', 'SEP', 'enjoy', 'homework SEP', 'like to make', 'watching american football but', 'mike', 'want to do', 'gaming but', 'hate cats SEP', 'SPEAKER1'}\n"
          ]
        }
      ],
      "source": [
        "y_subj, y_pred, y_obj, subwords = model_albert_base.predict(inputs)\n",
        "\n",
        "print(' '.join(subwords).replace('▁', '') + '\\n')\n",
        "print('Subjects:  ', bio_tags_to_tokens(subwords, y_subj.T, bio_lookup, one_hot=True))\n",
        "print('Predicates:', bio_tags_to_tokens(subwords, y_pred.T, bio_lookup, predicate=True, one_hot=True))\n",
        "print('Objects:   ', bio_tags_to_tokens(subwords, y_obj.T, bio_lookup, one_hot=True))"
      ]
    },
    {
      "cell_type": "code",
      "execution_count": null,
      "metadata": {
        "id": "WBPOVv4V3p5d",
        "colab": {
          "base_uri": "https://localhost:8080/"
        },
        "outputId": "ba4d05ca-f181-43b3-ef2e-72e27474930a"
      },
      "outputs": [
        {
          "output_type": "stream",
          "name": "stdout",
          "text": [
            "2022-12-14\n"
          ]
        }
      ],
      "source": [
        "print(str(date.today()))"
      ]
    },
    {
      "cell_type": "code",
      "execution_count": null,
      "metadata": {
        "id": "GGzYhb7S9STW",
        "colab": {
          "base_uri": "https://localhost:8080/",
          "height": 36
        },
        "outputId": "3c434395-a537-42dc-f591-410111666d3f"
      },
      "outputs": [
        {
          "output_type": "execute_result",
          "data": {
            "text/plain": [
              "'/content/gdrive/MyDrive/Combots Triple Extraction and Normalization/models/2022-12-14/argument_extraction_albert-base-v2'"
            ],
            "application/vnd.google.colaboratory.intrinsic+json": {
              "type": "string"
            }
          },
          "metadata": {},
          "execution_count": 74
        }
      ],
      "source": [
        "import os, shutil\n",
        "\n",
        "out_dir = root_dir + '/models/' + str(date.today())\n",
        "if not os.path.exists(out_dir):\n",
        "    os.mkdir(out_dir)\n",
        "\n",
        "shutil.copy('argument_extraction_albert-base-v2', out_dir)\n"
      ]
    },
    {
      "cell_type": "markdown",
      "metadata": {
        "id": "huUDGyQEJiLe"
      },
      "source": [
        "# Ranking the triples\n",
        "\n",
        "Now we are able to extract the candidate arguments, but how do we combine them?\n",
        "\n",
        "We compute all combinations of the subjects, predicates and objects and train a model to distinguish between those triples that are entailed (not considering negation here) and those that are not.\n",
        "\n",
        "For this, we extract a number of negative examples from possible triples, i.e. those combinations of subjects, predicates and objects that were not annotated."
      ]
    },
    {
      "cell_type": "markdown",
      "metadata": {
        "id": "D_GyAqbPKvFE"
      },
      "source": [
        "## Converting format"
      ]
    },
    {
      "cell_type": "code",
      "execution_count": null,
      "metadata": {
        "id": "iQDaXHQTJkb9"
      },
      "outputs": [],
      "source": [
        "from collections import defaultdict\n",
        "from copy import deepcopy\n",
        "\n",
        "\n",
        "def extract_triples(annotation, neg_oversampling=7, contr_oversampling=0.7, ellipsis_oversampling=3):\n",
        "    \"\"\" Extracts plain-text triples from an annotation file and samples 'negative' examples by\n",
        "        crossover. By default, the function will over-extract triples with negative polarity and\n",
        "        elliptical constructions to counter class imbalance.\n",
        "\n",
        "        params:\n",
        "        dict annotation:            loaded annotation file (see load_annotations)\n",
        "        int neg_oversampling:       how much to over-sample triples with negative polarity\n",
        "        float contr_oversampling:   how much to sample contrast/invalid triples relative to true triples\n",
        "        int ellipsis_oversampling:  how much to over-sample elliptical triples\n",
        "    \"\"\"\n",
        "    turns = annotation['tokens']\n",
        "    triple_ids = [t[:4] for t in annotation['annotations']]\n",
        "\n",
        "    arguments = defaultdict(list)\n",
        "    triples = []\n",
        "    labels = []\n",
        "\n",
        "    # Oversampling of elliptical triples\n",
        "    for triple in deepcopy(triple_ids):\n",
        "        subj_obj_turns = set([i for i, _ in triple[0] + triple[2]])\n",
        "        if len(subj_obj_turns) > 1:\n",
        "            triple_ids += [triple] * int(ellipsis_oversampling)\n",
        "\n",
        "    # Extract 'True' triples\n",
        "    for subj, pred, obj, polar in triple_ids:\n",
        "\n",
        "        subj = ' '.join(turns[i][j] for i, j in subj) if subj else ''\n",
        "        pred = ' '.join(turns[i][j] for i, j in pred) if pred else ''\n",
        "        obj = ' '.join(turns[i][j] for i, j in obj) if obj else ''\n",
        "\n",
        "        if subj or pred or obj:\n",
        "\n",
        "            if not polar:\n",
        "                triples += [(subj, pred, obj)]\n",
        "                labels += [1]\n",
        "            else:\n",
        "                triples += [(subj, pred, obj)] * neg_oversampling  # Oversampling negative polarities\n",
        "                labels += [2] * neg_oversampling\n",
        "\n",
        "            arguments['subjs'].append(subj)\n",
        "            arguments['preds'].append(pred)\n",
        "            arguments['objs'].append(obj)\n",
        "\n",
        "    # Skip if the annotation file was blank\n",
        "    if not triples:\n",
        "        return [], [], []\n",
        "\n",
        "    # Sample fake contrast examples (invalid extractions)\n",
        "    n = int(len(triples) * contr_oversampling)\n",
        "    for i in range(50):\n",
        "        s = random.choice(arguments['subjs'])\n",
        "        p = random.choice(arguments['preds'])\n",
        "        o = random.choice(arguments['objs'])\n",
        "\n",
        "        # Ensure samples are new (and not actually valid!)\n",
        "        if (s, p, o) not in triples and s and p and o:\n",
        "            triples += [(s, p, o)]\n",
        "            labels += [0]\n",
        "            n -= 1\n",
        "\n",
        "        # Create as many fake examples as there were 'real' triples\n",
        "        if n == 0:\n",
        "            break\n",
        "\n",
        "    return turns, triples, labels\n"
      ]
    },
    {
      "cell_type": "code",
      "execution_count": null,
      "metadata": {
        "id": "PelPIZlwKVpY",
        "colab": {
          "base_uri": "https://localhost:8080/"
        },
        "outputId": "dbbb0522-d6b4-4669-823f-2cb2d62babf4"
      },
      "outputs": [
        {
          "output_type": "stream",
          "name": "stdout",
          "text": [
            "tokens:  ['are', 'SPEAKER2', 'a', 'hiker', 'too', '?', '<eos>', 'yes', 'SPEAKER2', 'hike', ',', 'what', 'is', 'skittles', '?', 'like', 'the', 'candy', '?', '<eos>', 'no', ',', 'SPEAKER1', \"'ve\", 'actually', 'never', 'eaten', 'candy', '.', 'SPEAKER1', 'mean', 'the', 'game', '.', '<eos>']\n",
            "triples: [('SPEAKER2', 'are', 'a hiker'), ('SPEAKER2', 'hike', ''), ('SPEAKER1', 'like', 'the candy'), ('SPEAKER1', 'like', 'the candy'), ('SPEAKER1', 'like', 'the candy'), ('SPEAKER1', 'like', 'the candy'), ('SPEAKER1', 'like', 'the candy'), ('SPEAKER1', 'like', 'the candy'), ('SPEAKER1', 'like', 'the candy'), ('SPEAKER1', 'eaten', 'candy'), ('SPEAKER1', 'eaten', 'candy'), ('SPEAKER1', 'eaten', 'candy'), ('SPEAKER1', 'eaten', 'candy'), ('SPEAKER1', 'eaten', 'candy'), ('SPEAKER1', 'eaten', 'candy'), ('SPEAKER1', 'eaten', 'candy'), ('SPEAKER1', 'mean', 'the game'), ('SPEAKER1', 'like', 'the candy'), ('SPEAKER1', 'like', 'the candy'), ('SPEAKER1', 'like', 'the candy'), ('SPEAKER1', 'like', 'the candy'), ('SPEAKER1', 'like', 'the candy'), ('SPEAKER1', 'like', 'the candy'), ('SPEAKER1', 'like', 'the candy'), ('SPEAKER1', 'like', 'the candy'), ('SPEAKER1', 'like', 'the candy'), ('SPEAKER1', 'like', 'the candy'), ('SPEAKER1', 'like', 'the candy'), ('SPEAKER1', 'like', 'the candy'), ('SPEAKER1', 'like', 'the candy'), ('SPEAKER1', 'like', 'the candy'), ('SPEAKER1', 'like', 'the candy'), ('SPEAKER1', 'like', 'the candy'), ('SPEAKER1', 'like', 'the candy'), ('SPEAKER1', 'like', 'the candy'), ('SPEAKER1', 'like', 'the candy'), ('SPEAKER1', 'like', 'the candy'), ('SPEAKER1', 'like', 'the candy'), ('SPEAKER1', 'like', 'the game'), ('SPEAKER1', 'like', 'candy'), ('SPEAKER1', 'mean', 'a hiker'), ('SPEAKER1', 'like', 'a hiker'), ('SPEAKER2', 'hike', 'the candy'), ('SPEAKER1', 'mean', 'candy'), ('SPEAKER2', 'like', 'the candy'), ('SPEAKER1', 'are', 'the candy'), ('SPEAKER1', 'hike', 'the game'), ('SPEAKER1', 'hike', 'the candy'), ('SPEAKER2', 'like', 'a hiker'), ('SPEAKER1', 'eaten', 'the candy'), ('SPEAKER1', 'mean', 'the candy'), ('SPEAKER2', 'hike', 'the game'), ('SPEAKER2', 'eaten', 'the candy'), ('SPEAKER1', 'hike', 'a hiker'), ('SPEAKER1', 'are', 'candy')]\n",
            "labels:  [1, 1, 2, 2, 2, 2, 2, 2, 2, 2, 2, 2, 2, 2, 2, 2, 1, 2, 2, 2, 2, 2, 2, 2, 2, 2, 2, 2, 2, 2, 2, 2, 2, 2, 2, 2, 2, 2, 0, 0, 0, 0, 0, 0, 0, 0, 0, 0, 0, 0, 0, 0, 0, 0, 0]\n"
          ]
        }
      ],
      "source": [
        "tokens, triples, labels = [], [], []\n",
        "for ann in annotations:\n",
        "    ann_tokens, ann_triples, triple_labels = extract_triples(ann)\n",
        "    triples.append(ann_triples)\n",
        "    labels.append(triple_labels)\n",
        "    tokens.append([t for ts in ann_tokens for t in ts + ['<eos>']])\n",
        "\n",
        "j = random.choice(range(len(tokens)))\n",
        "print('tokens: ', tokens[j])\n",
        "print('triples:', triples[j])\n",
        "print('labels: ', labels[j])"
      ]
    },
    {
      "cell_type": "code",
      "execution_count": null,
      "metadata": {
        "id": "KyTk8d2m9VZz",
        "colab": {
          "base_uri": "https://localhost:8080/"
        },
        "outputId": "78c8aa61-554f-4853-8bba-f385d3557df3"
      },
      "outputs": [
        {
          "output_type": "stream",
          "name": "stdout",
          "text": [
            "Class (im)balance:\n",
            "not entailed   6414\n",
            "entailed (pos) 6690\n",
            "entailed (neg) 5978\n"
          ]
        }
      ],
      "source": [
        "print('Class (im)balance:')\n",
        "print('not entailed  ', sum([np.sum(np.array(t) == 0) for t in labels]))\n",
        "print('entailed (pos)', sum([np.sum(np.array(t) == 1) for t in labels]))\n",
        "print('entailed (neg)', sum([np.sum(np.array(t) == 2) for t in labels]))"
      ]
    },
    {
      "cell_type": "markdown",
      "metadata": {
        "id": "KSg00eFtKyyK"
      },
      "source": [
        "## Fine-tuning ALBERT for Triple Candidate Scoring"
      ]
    },
    {
      "cell_type": "code",
      "execution_count": null,
      "metadata": {
        "id": "ECqJdf96KyX_"
      },
      "outputs": [],
      "source": [
        "class TripleScoring(torch.nn.Module):\n",
        "    def __init__(self, base_model='albert-base-v2', path=None, max_len=80, sep='<eos>'):\n",
        "        super().__init__()\n",
        "        # Base model\n",
        "        print('loading %s for triple scoring' % base_model)\n",
        "        # Load base model\n",
        "        self._model = AutoModel.from_pretrained(base_model)\n",
        "        self._max_len = max_len\n",
        "        self._base = base_model\n",
        "        self._sep = sep\n",
        "\n",
        "        # Load and extend tokenizer with SPEAKERS\n",
        "        self._tokenizer = AutoTokenizer.from_pretrained(base_model)\n",
        "        self._tokenizer.add_tokens(['SPEAKER1', 'SPEAKER2'], special_tokens=True)\n",
        "        self._model.resize_token_embeddings(len(self._tokenizer))\n",
        "\n",
        "        # SPO candidate scoring head\n",
        "        hidden_size = AutoConfig.from_pretrained(base_model).hidden_size\n",
        "        self._head = torch.nn.Linear(hidden_size, 3)\n",
        "        self._relu = torch.nn.ReLU()\n",
        "        self._softmax = torch.nn.Softmax(dim=-1)\n",
        "\n",
        "        # GPU support\n",
        "        self._device = torch.device('cuda') if torch.cuda.is_available() else torch.device('cpu')\n",
        "        self.to(self._device)\n",
        "\n",
        "        # Load model / tokenizer if pretrained model is given\n",
        "        if path:\n",
        "            print('\\t- Loading pretrained')\n",
        "            model_path = glob.glob(path + '/candidate_scorer_' + base_model)[0]\n",
        "            self.load_state_dict(torch.load(model_path, map_location=self._device))\n",
        "\n",
        "    def forward(self, input_ids, speaker_ids, attn_mask):\n",
        "        \"\"\" Computes the forward pass through the model\n",
        "        \"\"\"\n",
        "        out = self._model(input_ids=input_ids, token_type_ids=speaker_ids, attention_mask=attn_mask)\n",
        "        h = self._relu(out.last_hidden_state[:, 0])\n",
        "        return self._softmax(self._head(h))\n",
        "\n",
        "    def _retokenize_dialogue(self, tokens, speaker=1):\n",
        "        # Tokenize each token individually (keeping track of subwords)\n",
        "        f_input_ids = [self._tokenizer.cls_token_id]\n",
        "        speaker_ids = [speaker]\n",
        "        for turn in ' '.join(tokens).split(self._sep):\n",
        "            token_ids = self._tokenizer.encode(turn, add_special_tokens=True)[1:]  # strip [CLS]\n",
        "            f_input_ids += token_ids\n",
        "            speaker_ids += [speaker] * len(token_ids)\n",
        "            speaker = 1 - speaker\n",
        "\n",
        "        return f_input_ids, speaker_ids\n",
        "\n",
        "    def _retokenize_triple(self, triple):\n",
        "        # Append triple\n",
        "        f_input_ids = self._tokenizer.encode(' '.join(triple), add_special_tokens=False)\n",
        "        speaker_ids = [0] * len(f_input_ids)\n",
        "        return f_input_ids, speaker_ids\n",
        "\n",
        "    def _add_padding(self, sequence, pad_token):\n",
        "        # If sequence is too long, cut off end\n",
        "        sequence = sequence[:self._max_len]\n",
        "\n",
        "        # Pad remainder to max_len\n",
        "        padding = self._max_len - len(sequence)\n",
        "        new_sequence = sequence + [pad_token] * padding\n",
        "\n",
        "        # Mask out [PAD] tokens\n",
        "        attn_mask = [1] * len(sequence) + [0] * padding\n",
        "        return new_sequence, attn_mask\n",
        "\n",
        "    def fit(self, tokens, triples, labels, epochs=2, lr=1e-6):\n",
        "        \"\"\" Fits the model to the annotations\n",
        "        \"\"\"\n",
        "        X = []\n",
        "        for tokens, triple_lst, triple_labels in zip(tokens, triples, labels):\n",
        "\n",
        "            # Tokenize dialogue\n",
        "            dialog_input_ids, dialog_speakers = self._retokenize_dialogue(tokens)\n",
        "\n",
        "            for triple, label in zip(triple_lst, triple_labels):\n",
        "                # Tokenize triple\n",
        "                triple_input_ids, triple_speakers = self._retokenize_triple(triple)\n",
        "\n",
        "                # Concatenate dialogue + [UNK] + triple\n",
        "                input_ids = dialog_input_ids[:-1] + [self._tokenizer.unk_token_id] + triple_input_ids\n",
        "                speakers = dialog_speakers[:-1] + [0] + triple_speakers\n",
        "\n",
        "                # Pad sequence with [PAD] to max_len\n",
        "                input_ids, _ = self._add_padding(input_ids, self._tokenizer.pad_token_id)\n",
        "                speakers, attn_mask = self._add_padding(speakers, 0)\n",
        "\n",
        "                # Push Tensor to GPU\n",
        "                input_ids = torch.LongTensor([input_ids]).to(self._device)\n",
        "                speakers = torch.LongTensor([speakers]).to(self._device)\n",
        "                attn_mask = torch.FloatTensor([attn_mask]).to(self._device)\n",
        "                label_ids = torch.LongTensor([label]).to(self._device)\n",
        "\n",
        "                X.append((input_ids, speakers, attn_mask, label_ids))\n",
        "\n",
        "        # Set up optimizer and objective\n",
        "        optimizer = torch.optim.Adam(self.parameters(), lr=lr)\n",
        "        criterion = torch.nn.CrossEntropyLoss()\n",
        "\n",
        "        for epoch in range(epochs):\n",
        "            random.shuffle(X)\n",
        "\n",
        "            losses = []\n",
        "            for input_ids, speaker_ids, attn_mask, y in tqdm(X):\n",
        "                # Was the triple entailed? Positively? Negatively?\n",
        "                y_hat = self(input_ids, speaker_ids, attn_mask)\n",
        "                loss = criterion(y_hat, y)\n",
        "                losses.append(loss.item())\n",
        "\n",
        "                optimizer.zero_grad()\n",
        "                loss.backward()\n",
        "                optimizer.step()\n",
        "\n",
        "            print(\"mean loss =\", np.mean(losses))\n",
        "\n",
        "        # Save model to file\n",
        "        torch.save(self.state_dict(), 'candidate_scorer_%s' % self._base)\n",
        "\n",
        "    def predict(self, tokens, triples):\n",
        "        # Tokenize dialogue\n",
        "        dialog_input_ids, dialog_speakers = self._retokenize_dialogue(tokens)\n",
        "\n",
        "        batch_input_ids = []\n",
        "        batch_speakers = []\n",
        "        batch_attn_mask = []\n",
        "\n",
        "        for triple in triples:\n",
        "            # Tokenize triple\n",
        "            triple_input_ids, triple_speakers = self._retokenize_triple(triple)\n",
        "\n",
        "            # Concatenate dialogue + [UNK] + triple\n",
        "            input_ids = dialog_input_ids + [self._tokenizer.unk_token_id] + triple_input_ids\n",
        "            speakers = dialog_speakers + [0] + triple_speakers\n",
        "\n",
        "            # Pad sequence with [PAD] to max_len\n",
        "            input_ids, _ = self._add_padding(input_ids, self._tokenizer.pad_token_id)\n",
        "            speakers, attn_mask = self._add_padding(speakers, 0)\n",
        "\n",
        "            batch_input_ids.append(input_ids)\n",
        "            batch_speakers.append(speakers)\n",
        "            batch_attn_mask.append(attn_mask)\n",
        "\n",
        "        # Push batches to GPU\n",
        "        batch_input_ids = torch.LongTensor(batch_input_ids).to(self._device)\n",
        "        batch_speakers = torch.LongTensor(batch_speakers).to(self._device)\n",
        "        batch_attn_mask = torch.FloatTensor(batch_attn_mask).to(self._device)\n",
        "\n",
        "        label = self(batch_input_ids, batch_speakers, batch_attn_mask)\n",
        "        label = label.cpu().detach().numpy()\n",
        "        return label"
      ]
    },
    {
      "cell_type": "code",
      "execution_count": null,
      "metadata": {
        "id": "5XKejimSO56J",
        "colab": {
          "base_uri": "https://localhost:8080/"
        },
        "outputId": "54c19270-c921-4320-c438-204ad3437c07"
      },
      "outputs": [
        {
          "output_type": "stream",
          "name": "stdout",
          "text": [
            "loading albert-base-v2 for triple scoring\n"
          ]
        },
        {
          "output_type": "stream",
          "name": "stderr",
          "text": [
            "100%|██████████| 19082/19082 [09:43<00:00, 32.69it/s]\n"
          ]
        },
        {
          "output_type": "stream",
          "name": "stdout",
          "text": [
            "mean loss = 0.8315123576386246\n"
          ]
        },
        {
          "output_type": "stream",
          "name": "stderr",
          "text": [
            "100%|██████████| 19082/19082 [09:39<00:00, 32.96it/s]\n"
          ]
        },
        {
          "output_type": "stream",
          "name": "stdout",
          "text": [
            "mean loss = 0.6663190892951917\n"
          ]
        },
        {
          "output_type": "stream",
          "name": "stderr",
          "text": [
            "100%|██████████| 19082/19082 [10:31<00:00, 30.22it/s]\n"
          ]
        },
        {
          "output_type": "stream",
          "name": "stdout",
          "text": [
            "mean loss = 0.629196528471462\n"
          ]
        },
        {
          "output_type": "stream",
          "name": "stderr",
          "text": [
            "100%|██████████| 19082/19082 [09:56<00:00, 32.00it/s]\n"
          ]
        },
        {
          "output_type": "stream",
          "name": "stdout",
          "text": [
            "mean loss = 0.6078200756335281\n"
          ]
        },
        {
          "output_type": "stream",
          "name": "stderr",
          "text": [
            "100%|██████████| 19082/19082 [09:43<00:00, 32.69it/s]\n"
          ]
        },
        {
          "output_type": "stream",
          "name": "stdout",
          "text": [
            "mean loss = 0.599275085726395\n"
          ]
        },
        {
          "output_type": "stream",
          "name": "stderr",
          "text": [
            "100%|██████████| 19082/19082 [09:37<00:00, 33.01it/s]\n"
          ]
        },
        {
          "output_type": "stream",
          "name": "stdout",
          "text": [
            "mean loss = 0.5935076415420091\n"
          ]
        },
        {
          "output_type": "stream",
          "name": "stderr",
          "text": [
            "100%|██████████| 19082/19082 [09:49<00:00, 32.35it/s]\n"
          ]
        },
        {
          "output_type": "stream",
          "name": "stdout",
          "text": [
            "mean loss = 0.5892000036623952\n"
          ]
        }
      ],
      "source": [
        "scorer = TripleScoring()\n",
        "scorer.fit(tokens, triples, labels, epochs=7)"
      ]
    },
    {
      "cell_type": "code",
      "execution_count": null,
      "metadata": {
        "id": "IMLEa-DQ68Hw"
      },
      "outputs": [],
      "source": [
        "model_save_name = 'scorer_albert_abstr_081222.pt'\n",
        "\n",
        "torch.save(scorer, F\"/content/gdrive/MyDrive/Combots Triple Extraction and Normalization/models/{model_save_name}\")"
      ]
    },
    {
      "cell_type": "code",
      "execution_count": null,
      "metadata": {
        "id": "38y3V1onaRNn",
        "colab": {
          "base_uri": "https://localhost:8080/"
        },
        "outputId": "36ca7ad4-eb9b-4051-8916-d535142bc41e"
      },
      "outputs": [
        {
          "output_type": "execute_result",
          "data": {
            "text/plain": [
              "array([[0.001, 0.001, 0.999],\n",
              "       [0.015, 0.975, 0.01 ],\n",
              "       [0.02 , 0.64 , 0.34 ],\n",
              "       [0.001, 0.   , 0.999],\n",
              "       [0.   , 0.   , 1.   ],\n",
              "       [0.001, 0.   , 0.999],\n",
              "       [0.999, 0.001, 0.   ],\n",
              "       [0.002, 0.   , 0.998],\n",
              "       [0.217, 0.001, 0.782]], dtype=float32)"
            ]
          },
          "metadata": {},
          "execution_count": 81
        }
      ],
      "source": [
        "# inputs = 'staying here is fine though . SPEAKER1\\'s two dogs keep me company <eos> SPEAKER2 do not love them ! What car do SPEAKER1 drive ? <eos> a toyota . but SPEAKER1 like nissans . <eos>'.split()\n",
        "# triple_examples = [['SPEAKER1', 'drive', 'nissans'],\n",
        "#                    ['SPEAKER1', 'like', 'nissans'], \n",
        "#                    ['SPEAKER2', 'like', 'nissans'], \n",
        "#                    ['SPEAKER2', 'love', 'two dogs'], \n",
        "#                    ['SPEAKER1', 'drive', 'a toyota']]\n",
        "\n",
        "# inputs = '<eos> Do SPEAKER1 work in Amsterdam ? <eos> No , in London . <eos>'.split()\n",
        "# triple_examples = [['SPEAKER1', 'work in', 'Amsterdam']]\n",
        "\n",
        "inputs = 'SPEAKER1 adore unicorns but not photography <eos> What do SPEAKER1 like ? <eos> dogs and gaming, but not cats or elephants . <eos>'.split()\n",
        "triple_examples = [['SPEAKER1', 'adore', 'unicorns'],\n",
        "                   ['SPEAKER1', 'like', 'dogs'],\n",
        "                   ['SPEAKER1', 'like', 'gaming'],\n",
        "                   ['SPEAKER1', 'adore', 'photography'],\n",
        "                   ['SPEAKER1', 'like', 'cats'],\n",
        "                   ['SPEAKER1', 'like', 'elephants'],\n",
        "                   ['SPEAKER1', 'adore', 'elephants'],\n",
        "                   ['SPEAKER1', 'like', 'photography'],\n",
        "                   ['SPEAKER1', 'like', 'unicorns']]\n",
        "\n",
        "np.round(scorer.predict(inputs, triple_examples), 3)"
      ]
    },
    {
      "cell_type": "markdown",
      "metadata": {
        "id": "4fO8VBMJMwKJ"
      },
      "source": [
        "We move the resulting model to Drive:"
      ]
    },
    {
      "cell_type": "code",
      "execution_count": null,
      "metadata": {
        "id": "OienwgD4_8Ml",
        "colab": {
          "base_uri": "https://localhost:8080/",
          "height": 36
        },
        "outputId": "fd9fbdea-d6bb-44b9-e6cd-a0e0eaf9395c"
      },
      "outputs": [
        {
          "output_type": "execute_result",
          "data": {
            "text/plain": [
              "'/content/gdrive/MyDrive/Combots Triple Extraction and Normalization/models/2022-12-14/candidate_scorer_albert-base-v2'"
            ],
            "application/vnd.google.colaboratory.intrinsic+json": {
              "type": "string"
            }
          },
          "metadata": {},
          "execution_count": 82
        }
      ],
      "source": [
        "import os, shutil\n",
        "\n",
        "out_dir = root_dir + '/models/' + str(date.today())\n",
        "if not os.path.exists(out_dir):\n",
        "    os.mkdir(out_dir)\n",
        "\n",
        "shutil.copy('candidate_scorer_albert-base-v2', out_dir)"
      ]
    },
    {
      "cell_type": "code",
      "source": [],
      "metadata": {
        "id": "UyfGRwla3G6G"
      },
      "execution_count": null,
      "outputs": []
    },
    {
      "cell_type": "markdown",
      "metadata": {
        "id": "8l3DaSkr3CIx"
      },
      "source": [
        "# BERT"
      ]
    },
    {
      "cell_type": "markdown",
      "metadata": {
        "id": "XNAUv1Gp3CI3"
      },
      "source": [
        "## Setting up BERT for Argument Extraction \n"
      ]
    },
    {
      "cell_type": "code",
      "execution_count": null,
      "metadata": {
        "id": "4RU3oeqC3CI3"
      },
      "outputs": [],
      "source": [
        "%%capture \n",
        "!pip install transformers\n",
        "\n",
        "import torch\n",
        "from transformers import AutoTokenizer, AutoModel, AutoConfig\n",
        "from tqdm import tqdm\n",
        "import numpy as np\n",
        "import random\n",
        "from datetime import date"
      ]
    },
    {
      "cell_type": "code",
      "execution_count": null,
      "metadata": {
        "id": "SiJXfwKD3CI3"
      },
      "outputs": [],
      "source": [
        "class BertArgumentExtraction(torch.nn.Module):\n",
        "    def __init__(self, base_model='bert-base-uncased', path=root_dir, output_dim=179, sep='<eos>'): # You need to change the output_dim to the total number of BIO-tags (including 0,1,2)\n",
        "        \"\"\" Init model with multi-span extraction heads for SPO arguments.\n",
        "\n",
        "            params:\n",
        "            str base_model: Transformer architecture to use bert\n",
        "            str path:       Path to pretrained model\n",
        "        \"\"\"\n",
        "        super().__init__()\n",
        "        print('loading %s for argument extraction' % base_model)\n",
        "        self._model = AutoModel.from_pretrained(base_model)\n",
        "        self._base = base_model\n",
        "        self._sep = sep\n",
        "\n",
        "        # Load and extend tokenizer with special SPEAKER tokens\n",
        "        self._tokenizer = AutoTokenizer.from_pretrained(base_model)\n",
        "        self._tokenizer.add_tokens(['SPEAKER1', 'SPEAKER2'], special_tokens=True)\n",
        "        self._model.resize_token_embeddings(len(self._tokenizer))\n",
        "\n",
        "        # Add token classification heads\n",
        "        hidden_size = AutoConfig.from_pretrained(base_model).hidden_size\n",
        "        self._subj_head = torch.nn.Linear(hidden_size, output_dim)\n",
        "        self._pred_head = torch.nn.Linear(hidden_size, output_dim)\n",
        "        self._obj_head = torch.nn.Linear(hidden_size, output_dim)\n",
        "        self._output_dim = output_dim\n",
        "\n",
        "        self._relu = torch.nn.ReLU()\n",
        "        self._softmax = torch.nn.Softmax(dim=-1)\n",
        "\n",
        "        # Set GPU if available\n",
        "        self._device = torch.device('cuda') if torch.cuda.is_available() else torch.device('cpu')\n",
        "        self.to(self._device)\n",
        "\n",
        "        # Load model / tokenizer if pretrained model is given\n",
        "        if path:\n",
        "            print('\\t- Loading pretrained')\n",
        "            model_path = glob.glob(path + '/argument_extraction_' + base_model)[0]\n",
        "            self.load_state_dict(torch.load(model_path, map_location=self._device))\n",
        "\n",
        "    def forward(self, input_ids, speaker_ids):\n",
        "        \"\"\" Computes BIO label probabilities for each token\n",
        "        \"\"\"\n",
        "        # Feed dialog through transformer\n",
        "        y = self._model(input_ids=input_ids, token_type_ids=speaker_ids)\n",
        "        h = self._relu(y.last_hidden_state)\n",
        "\n",
        "        # Predict spans\n",
        "        y_subj = self._softmax(self._subj_head(h))\n",
        "        y_pred = self._softmax(self._pred_head(h))\n",
        "        y_obj_ = self._softmax(self._obj_head(h))\n",
        "\n",
        "        # Permute output as tensor of shape (N, |C|, seq_len)\n",
        "        y_subj = y_subj.permute(0, 2, 1)\n",
        "        y_pred = y_pred.permute(0, 2, 1)\n",
        "        y_obj_ = y_obj_.permute(0, 2, 1)\n",
        "        return y_subj, y_pred, y_obj_\n",
        "#         return y_pred\n",
        "\n",
        "    def _retokenize_tokens(self, tokens):\n",
        "        # Tokenize each token individually (keeping track of subwords)\n",
        "        input_ids = [[self._tokenizer.cls_token_id]]\n",
        "        for t in tokens:\n",
        "#             print(t)\n",
        "            if t != '<eos>':\n",
        "                tok=self._tokenizer(t, \n",
        "                                add_special_tokens=False,\n",
        "#                                max_length = MAX_LEN,\n",
        "#                                 padding = 'max_length',\n",
        "#                                truncation=True,\n",
        "#                                return_attention_mask=True,\n",
        "#                                return_tensors='pt')\n",
        "                                   )\n",
        "                input_ids.append(tok['input_ids'])\n",
        "            else:\n",
        "                input_ids.append([self._tokenizer.sep_token_id])\n",
        "\n",
        "        # Flatten input_ids\n",
        "\n",
        "#         print([ids for ids in input_ids ])\n",
        "        f_input_ids = torch.LongTensor([[i for ids in input_ids for i in ids]]).to(self._device)\n",
        "\n",
        "        # Determine how often we need to repeat the labels\n",
        "        repeats = [len(ids) for ids in input_ids]\n",
        "\n",
        "        # Set speaker IDs\n",
        "        speaker_ids = [0] + [tokens[:i + 1].count(self._sep) % 2 for i in range(len(tokens))][:-1]  # TODO: make pretty\n",
        "        speaker_ids = self._repeat_speaker_ids(speaker_ids, repeats)\n",
        "\n",
        "        return f_input_ids, speaker_ids, repeats\n",
        "\n",
        "    def _repeat_speaker_ids(self, speaker_ids, repeats):\n",
        "        \"\"\" Repeats speaker IDs for oov tokens.\n",
        "        \"\"\"\n",
        "        rep_speaker_ids = np.repeat([0] + list(speaker_ids), repeats=repeats)\n",
        "        return torch.LongTensor([rep_speaker_ids]).to(self._device)\n",
        "\n",
        "    def _repeat_labels(self, labels, repeats):\n",
        "        \"\"\" Repeats BIO labels for OOV tokens. Ensure B-labeled tokens are repeated\n",
        "            as B-I-I etc.\n",
        "        \"\"\"\n",
        "        # Repeat each label b the amount of subwords per token\n",
        "        rep_labels = []\n",
        "        for label, rep in zip([0] + list(labels), repeats):\n",
        "            # Outside\n",
        "            if label == 0:\n",
        "                rep_labels += [label] * rep\n",
        "            # Beginning + Inside\n",
        "            elif label % 2 == 1:    # uneven labels are B\n",
        "                rep_labels += [label] + ([label+1] * (rep - 1))  # If label = B -> B-I-I-I...\n",
        "            else: \n",
        "                rep_labels += [label] + ([label] * (rep - 1)) # if label = I, do not add 1 but keep the same \n",
        "        return torch.LongTensor([rep_labels]).to(self._device)\n",
        "\n",
        "    def fit(self, tokens, labels, epochs=2, lr=1e-5, weight=800):\n",
        "        \"\"\" Fits the model to the annotations\n",
        "        \"\"\"\n",
        "        # Re-tokenize to obtain input_ids and associated labels\n",
        "        X = []\n",
        "        for token_seq, (subj_labels, pred_labels, _obj_labels) in zip(tokens, labels):\n",
        "            input_ids, speaker_ids, repeats = self._retokenize_tokens(token_seq)\n",
        "            subj_labels = self._repeat_labels(subj_labels, repeats)  # repeat when split into subwords\n",
        "            pred_labels = self._repeat_labels(pred_labels, repeats)\n",
        "            _obj_labels = self._repeat_labels(_obj_labels, repeats)\n",
        "            X.append((input_ids, speaker_ids, subj_labels, pred_labels, _obj_labels))\n",
        "\n",
        "#             X.append((input_ids, speaker_ids, pred_labels))\n",
        "\n",
        "        # Set up optimizer\n",
        "        optim = torch.optim.Adam(self.parameters(), lr=lr)\n",
        "\n",
        "        # Higher weight for B- and I-tags to account for class imbalance\n",
        "        class_weights = torch.Tensor([1] + [weight] * (self._output_dim - 1)).to(self._device)\n",
        "        criterion = torch.nn.CrossEntropyLoss(weight=class_weights)\n",
        "\n",
        "        print('Training!')\n",
        "        for epoch in range(epochs):\n",
        "            losses = []\n",
        "            random.shuffle(X)\n",
        "            for input_ids, speaker_ids, subj_y, pred_y, obj_y in tqdm(X):\n",
        "#             for input_ids, speaker_ids, pred_y in tqdm(X):\n",
        "                # Forward pass\n",
        "                subj_y_hat, pred_y_hat, obj_y_hat = self.forward(input_ids, speaker_ids)\n",
        "#                 pred_y_hat = self.forward(input_ids, speaker_ids)\n",
        "                # Compute loss\n",
        "                loss = criterion(subj_y_hat, subj_y)\n",
        "                loss += criterion(pred_y_hat, pred_y)\n",
        "                loss += criterion(obj_y_hat, obj_y)\n",
        "                losses.append(loss.item())\n",
        "\n",
        "                optim.zero_grad()\n",
        "                loss.backward()\n",
        "                optim.step()\n",
        "\n",
        "            print(\"mean loss =\", np.mean(losses))\n",
        "\n",
        "        # Save model to file\n",
        "        torch.save(self.state_dict(), 'argument_extraction_%s' % self._base)\n",
        "\n",
        "    def predict(self, token_seq):\n",
        "        \"\"\" Predicts \"\"\"\n",
        "        # Retokenize token sequence\n",
        "        input_ids, speaker_ids, _ = self._retokenize_tokens(token_seq)\n",
        "\n",
        "        # Invert tokenization for viewing\n",
        "        subwords = self._tokenizer.convert_ids_to_tokens(input_ids[0])\n",
        "\n",
        "        # Forward-pass\n",
        "        predictions = self.forward(input_ids, speaker_ids)\n",
        "        subjs = predictions[0].cpu().detach().numpy()[0]\n",
        "        preds = predictions[1].cpu().detach().numpy()[0]\n",
        "        objs = predictions[2].cpu().detach().numpy()[0]\n",
        "\n",
        "        return  preds, subwords, subjs, objs"
      ]
    },
    {
      "cell_type": "code",
      "execution_count": null,
      "metadata": {
        "colab": {
          "base_uri": "https://localhost:8080/"
        },
        "outputId": "a37e1a19-d516-4737-eb9d-08d56e349b57",
        "id": "of7UuWp_3CI4"
      },
      "outputs": [
        {
          "output_type": "stream",
          "name": "stdout",
          "text": [
            "loading albert-base-v2 for argument extraction\n",
            "30002\n",
            "Training!\n"
          ]
        },
        {
          "output_type": "stream",
          "name": "stderr",
          "text": [
            "100%|██████████| 1117/1117 [00:45<00:00, 24.48it/s]\n"
          ]
        },
        {
          "output_type": "stream",
          "name": "stdout",
          "text": [
            "mean loss = 13.635485337478515\n"
          ]
        },
        {
          "output_type": "stream",
          "name": "stderr",
          "text": [
            "100%|██████████| 1117/1117 [00:42<00:00, 26.51it/s]\n"
          ]
        },
        {
          "output_type": "stream",
          "name": "stdout",
          "text": [
            "mean loss = 13.152230007475577\n"
          ]
        },
        {
          "output_type": "stream",
          "name": "stderr",
          "text": [
            "100%|██████████| 1117/1117 [00:34<00:00, 32.19it/s]\n"
          ]
        },
        {
          "output_type": "stream",
          "name": "stdout",
          "text": [
            "mean loss = 13.0836987089876\n"
          ]
        },
        {
          "output_type": "stream",
          "name": "stderr",
          "text": [
            "100%|██████████| 1117/1117 [00:36<00:00, 30.49it/s]\n"
          ]
        },
        {
          "output_type": "stream",
          "name": "stdout",
          "text": [
            "mean loss = 13.046468474337749\n"
          ]
        },
        {
          "output_type": "stream",
          "name": "stderr",
          "text": [
            "100%|██████████| 1117/1117 [00:35<00:00, 31.68it/s]\n"
          ]
        },
        {
          "output_type": "stream",
          "name": "stdout",
          "text": [
            "mean loss = 13.03992255713754\n"
          ]
        },
        {
          "output_type": "stream",
          "name": "stderr",
          "text": [
            "100%|██████████| 1117/1117 [00:35<00:00, 31.66it/s]\n"
          ]
        },
        {
          "output_type": "stream",
          "name": "stdout",
          "text": [
            "mean loss = 13.028891769176951\n"
          ]
        },
        {
          "output_type": "stream",
          "name": "stderr",
          "text": [
            "100%|██████████| 1117/1117 [00:35<00:00, 31.86it/s]\n"
          ]
        },
        {
          "output_type": "stream",
          "name": "stdout",
          "text": [
            "mean loss = 13.014455479388804\n"
          ]
        }
      ],
      "source": [
        "bert_model = BertArgumentExtraction()  \n",
        "# bert_model.fit(bert_tokens, bert_labels, epochs=2) #if you are loading from the model don't fit the model"
      ]
    },
    {
      "cell_type": "markdown",
      "metadata": {
        "id": "xbzNnaxB3CI4"
      },
      "source": [
        "## Putting It All Together\n",
        "\n",
        "Below you can see the token assignments with the BIO scheme to SPO arguments"
      ]
    },
    {
      "cell_type": "code",
      "execution_count": null,
      "metadata": {
        "colab": {
          "base_uri": "https://localhost:8080/"
        },
        "outputId": "9b04344d-1ec8-4219-e0f5-ed7d76901be2",
        "id": "-PYu-NCH3CI4"
      },
      "outputs": [
        {
          "output_type": "stream",
          "name": "stdout",
          "text": [
            "\n",
            " Subject\n",
            "['0', '1', '2', '3', '4', '5', '6', '7', '8', '9', '10', '11', '12', '13', '14', '15', '16', '17', '18', '19', '20', '21', '22', '23', '24', '25', '26', '27', '28', '29', '30', '31', '32', '33', '34', '35', '36', '37', '38', '39', '40', '41', '42', '43', '44', '45', '46', '47', '48', '49', '50', '51', '52', '53', '54', '55', '56', '57', '58', '59', '60', '61', '62', '63', '64', '65', '66', '67', '68', '69', '70', '71', '72', '73', '74', '75', '76', '77', '78', '79', '80', '81', '82', '83', '84', '85', '86', '87', '88', '89', '90', '91', '92', '93', '94', '95', '96', '97', '98', '99', '100', '101', '102', '103', '104', '105', '106', '107', '108', '109', '110', '111', '112', '113', '114', '115', '116', '117', '118', '119', '120', '121', '122', '123', '124', '125', '126', '127', '128', '129', '130', '131', '132', '133', '134', '135', '136', '137', '138', '139', '140', '141', '142', '143', '144', '145', '146', '147', '148', '149', '150', '151', '152', '153', '154', '155', '156', '157', '158', '159', '160', '161', '162', '163', '164', '165', '166', '167', '168', '169', '170', '171', '172', '173', '174', '175', '176', '177', '178']\n",
            "[0.948]\t 0.027 \t 0.021 \t 0.0 \t 0.0 \t 0.0 \t 0.0 \t 0.0 \t 0.0 \t 0.0 \t 0.0 \t 0.0 \t 0.0 \t 0.0 \t 0.0 \t 0.0 \t 0.0 \t 0.0 \t 0.0 \t 0.0 \t 0.0 \t 0.0 \t 0.0 \t 0.0 \t 0.0 \t 0.0 \t 0.0 \t 0.0 \t 0.0 \t 0.0 \t 0.0 \t 0.0 \t 0.0 \t 0.0 \t 0.0 \t 0.0 \t 0.0 \t 0.0 \t 0.0 \t 0.0 \t 0.0 \t 0.0 \t 0.0 \t 0.0 \t 0.0 \t 0.0 \t 0.0 \t 0.0 \t 0.0 \t 0.0 \t 0.0 \t 0.0 \t 0.0 \t 0.0 \t 0.0 \t 0.0 \t 0.0 \t 0.0 \t 0.0 \t 0.0 \t 0.0 \t 0.0 \t 0.0 \t 0.0 \t 0.0 \t 0.0 \t 0.0 \t 0.0 \t 0.0 \t 0.0 \t 0.0 \t 0.0 \t 0.0 \t 0.0 \t 0.0 \t 0.0 \t 0.0 \t 0.0 \t 0.0 \t 0.0 \t 0.0 \t 0.0 \t 0.0 \t 0.0 \t 0.0 \t 0.0 \t 0.0 \t 0.0 \t 0.0 \t 0.0 \t 0.0 \t 0.0 \t 0.0 \t 0.0 \t 0.0 \t 0.0 \t 0.0 \t 0.0 \t 0.0 \t 0.0 \t 0.0 \t 0.0 \t 0.0 \t 0.0 \t 0.0 \t 0.0 \t 0.0 \t 0.0 \t 0.0 \t 0.0 \t 0.0 \t 0.0 \t 0.0 \t 0.0 \t 0.0 \t 0.0 \t 0.0 \t 0.0 \t 0.0 \t 0.0 \t 0.0 \t 0.0 \t 0.0 \t 0.0 \t 0.0 \t 0.0 \t 0.0 \t 0.0 \t 0.0 \t 0.0 \t 0.0 \t 0.0 \t 0.0 \t 0.0 \t 0.0 \t 0.0 \t 0.0 \t 0.0 \t 0.0 \t 0.0 \t 0.0 \t 0.0 \t 0.0 \t 0.0 \t 0.0 \t 0.0 \t 0.0 \t 0.0 \t 0.0 \t 0.0 \t 0.0 \t 0.0 \t 0.0 \t 0.0 \t 0.0 \t 0.0 \t 0.0 \t 0.0 \t 0.0 \t 0.0 \t 0.0  [CLS]\n",
            " 1e-04 \t[0.999]\t 0.0 \t 0.0 \t 0.0 \t 0.0 \t 0.0 \t 0.0 \t 0.0 \t 0.0 \t 0.0 \t 0.0 \t 0.0 \t 0.0 \t 0.0 \t 0.0 \t 0.0 \t 0.0 \t 0.0 \t 0.0 \t 0.0 \t 0.0 \t 0.0 \t 0.0 \t 0.0 \t 0.0 \t 0.0 \t 0.0 \t 0.0 \t 0.0 \t 0.0 \t 0.0 \t 0.0 \t 0.0 \t 0.0 \t 0.0 \t 0.0 \t 0.0 \t 0.0 \t 0.0 \t 0.0 \t 0.0 \t 0.0 \t 0.0 \t 0.0 \t 0.0 \t 0.0 \t 0.0 \t 0.0 \t 0.0 \t 0.0 \t 0.0 \t 0.0 \t 0.0 \t 0.0 \t 0.0 \t 0.0 \t 0.0 \t 0.0 \t 0.0 \t 0.0 \t 0.0 \t 0.0 \t 0.0 \t 0.0 \t 0.0 \t 0.0 \t 0.0 \t 0.0 \t 0.0 \t 0.0 \t 0.0 \t 0.0 \t 0.0 \t 0.0 \t 0.0 \t 0.0 \t 0.0 \t 0.0 \t 0.0 \t 0.0 \t 0.0 \t 0.0 \t 0.0 \t 0.0 \t 0.0 \t 0.0 \t 0.0 \t 0.0 \t 0.0 \t 0.0 \t 0.0 \t 0.0 \t 0.0 \t 0.0 \t 0.0 \t 0.0 \t 0.0 \t 0.0 \t 0.0 \t 0.0 \t 0.0 \t 0.0 \t 0.0 \t 0.0 \t 0.0 \t 0.0 \t 0.0 \t 0.0 \t 0.0 \t 0.0 \t 0.0 \t 0.0 \t 0.0 \t 0.0 \t 0.0 \t 0.0 \t 0.0 \t 0.0 \t 0.0 \t 0.0 \t 0.0 \t 0.0 \t 0.0 \t 0.0 \t 0.0 \t 0.0 \t 0.0 \t 0.0 \t 0.0 \t 0.0 \t 0.0 \t 0.0 \t 0.0 \t 0.0 \t 0.0 \t 0.0 \t 0.0 \t 0.0 \t 0.0 \t 0.0 \t 0.0 \t 0.0 \t 0.0 \t 0.0 \t 0.0 \t 0.0 \t 0.0 \t 0.0 \t 0.0 \t 0.0 \t 0.0 \t 0.0 \t 0.0 \t 0.0 \t 0.0 \t 0.0 \t 0.0 \t 0.0 \t 0.0 \t 0.0  SPEAKER1\n",
            " 0.000 \t[0.998]\t 0.000 \t 0.0 \t 0.0 \t 0.0 \t 0.0 \t 0.0 \t 0.0 \t 0.0 \t 0.0 \t 0.0 \t 0.0 \t 0.0 \t 0.0 \t 0.0 \t 0.0 \t 0.0 \t 0.0 \t 0.0 \t 0.0 \t 0.0 \t 0.0 \t 0.0 \t 0.0 \t 0.0 \t 0.0 \t 0.0 \t 0.0 \t 0.0 \t 0.0 \t 0.0 \t 0.0 \t 0.0 \t 0.0 \t 0.0 \t 0.0 \t 0.0 \t 0.0 \t 0.0 \t 0.0 \t 0.0 \t 0.0 \t 0.0 \t 0.0 \t 0.0 \t 0.0 \t 0.0 \t 0.0 \t 0.0 \t 0.0 \t 0.0 \t 0.0 \t 0.0 \t 0.0 \t 0.0 \t 0.0 \t 0.0 \t 0.0 \t 0.0 \t 0.0 \t 0.0 \t 0.0 \t 0.0 \t 0.0 \t 0.0 \t 0.0 \t 0.0 \t 0.0 \t 0.0 \t 0.0 \t 0.0 \t 0.0 \t 0.0 \t 0.0 \t 0.0 \t 0.0 \t 0.0 \t 0.0 \t 0.0 \t 0.0 \t 0.0 \t 0.0 \t 0.0 \t 0.0 \t 0.0 \t 0.0 \t 0.0 \t 0.0 \t 0.0 \t 0.0 \t 0.0 \t 0.0 \t 0.0 \t 0.0 \t 0.0 \t 0.0 \t 0.0 \t 0.0 \t 0.0 \t 0.0 \t 0.0 \t 0.0 \t 0.0 \t 0.0 \t 0.0 \t 0.0 \t 0.0 \t 0.0 \t 0.0 \t 0.0 \t 0.0 \t 0.0 \t 0.0 \t 0.0 \t 0.0 \t 0.0 \t 0.0 \t 0.0 \t 0.0 \t 0.0 \t 0.0 \t 0.0 \t 0.0 \t 0.0 \t 0.0 \t 0.0 \t 0.0 \t 0.0 \t 0.0 \t 0.0 \t 0.0 \t 0.0 \t 0.0 \t 0.0 \t 0.0 \t 0.0 \t 0.0 \t 0.0 \t 0.0 \t 0.0 \t 0.0 \t 0.0 \t 0.0 \t 0.0 \t 0.0 \t 0.0 \t 0.0 \t 0.0 \t 0.0 \t 0.0 \t 0.0 \t 0.0 \t 0.0 \t 0.0 \t 0.0 \t 0.0 \t 0.0 \t 0.0 \t 0.0 \t 0.0  enjoy\n",
            " 0.002 \t[0.996]\t 0.000 \t 0.0 \t 0.0 \t 0.0 \t 0.0 \t 0.0 \t 0.0 \t 0.0 \t 0.0 \t 0.0 \t 0.0 \t 0.0 \t 0.0 \t 0.0 \t 0.0 \t 0.0 \t 0.0 \t 0.0 \t 0.0 \t 0.0 \t 0.0 \t 0.0 \t 0.0 \t 0.0 \t 0.0 \t 0.0 \t 0.0 \t 0.0 \t 0.0 \t 0.0 \t 0.0 \t 0.0 \t 0.0 \t 0.0 \t 0.0 \t 0.0 \t 0.0 \t 0.0 \t 0.0 \t 0.0 \t 0.0 \t 0.0 \t 0.0 \t 0.0 \t 0.0 \t 0.0 \t 0.0 \t 0.0 \t 0.0 \t 0.0 \t 0.0 \t 0.0 \t 0.0 \t 0.0 \t 0.0 \t 0.0 \t 0.0 \t 0.0 \t 0.0 \t 0.0 \t 0.0 \t 0.0 \t 0.0 \t 0.0 \t 0.0 \t 0.0 \t 0.0 \t 0.0 \t 0.0 \t 0.0 \t 0.0 \t 0.0 \t 0.0 \t 0.0 \t 0.0 \t 0.0 \t 0.0 \t 0.0 \t 0.0 \t 0.0 \t 0.0 \t 0.0 \t 0.0 \t 0.0 \t 0.0 \t 0.0 \t 0.0 \t 0.0 \t 0.0 \t 0.0 \t 0.0 \t 0.0 \t 0.0 \t 0.0 \t 0.0 \t 0.0 \t 0.0 \t 0.0 \t 0.0 \t 0.0 \t 0.0 \t 0.0 \t 0.0 \t 0.0 \t 0.0 \t 0.0 \t 0.0 \t 0.0 \t 0.0 \t 0.0 \t 0.0 \t 0.0 \t 0.0 \t 0.0 \t 0.0 \t 0.0 \t 0.0 \t 0.0 \t 0.0 \t 0.0 \t 0.0 \t 0.0 \t 0.0 \t 0.0 \t 0.0 \t 0.0 \t 0.0 \t 0.0 \t 0.0 \t 0.0 \t 0.0 \t 0.0 \t 0.0 \t 0.0 \t 0.0 \t 0.0 \t 0.0 \t 0.0 \t 0.0 \t 0.0 \t 0.0 \t 0.0 \t 0.0 \t 0.0 \t 0.0 \t 0.0 \t 0.0 \t 0.0 \t 0.0 \t 0.0 \t 0.0 \t 0.0 \t 0.0 \t 0.0 \t 0.0 \t 0.0 \t 0.0 \t 0.0 \t 0.0  watching\n",
            " 0.000 \t 1e-04 \t[0.999]\t 0.0 \t 0.0 \t 0.0 \t 0.0 \t 0.0 \t 0.0 \t 0.0 \t 0.0 \t 0.0 \t 0.0 \t 0.0 \t 0.0 \t 0.0 \t 0.0 \t 0.0 \t 0.0 \t 0.0 \t 0.0 \t 0.0 \t 0.0 \t 0.0 \t 0.0 \t 0.0 \t 0.0 \t 0.0 \t 0.0 \t 0.0 \t 0.0 \t 0.0 \t 0.0 \t 0.0 \t 0.0 \t 0.0 \t 0.0 \t 0.0 \t 0.0 \t 0.0 \t 0.0 \t 0.0 \t 0.0 \t 0.0 \t 0.0 \t 0.0 \t 0.0 \t 0.0 \t 0.0 \t 0.0 \t 0.0 \t 0.0 \t 0.0 \t 0.0 \t 0.0 \t 0.0 \t 0.0 \t 0.0 \t 0.0 \t 0.0 \t 0.0 \t 0.0 \t 0.0 \t 0.0 \t 0.0 \t 0.0 \t 0.0 \t 0.0 \t 0.0 \t 0.0 \t 0.0 \t 0.0 \t 0.0 \t 0.0 \t 0.0 \t 0.0 \t 0.0 \t 0.0 \t 0.0 \t 0.0 \t 0.0 \t 0.0 \t 0.0 \t 0.0 \t 0.0 \t 0.0 \t 0.0 \t 0.0 \t 0.0 \t 0.0 \t 0.0 \t 0.0 \t 0.0 \t 0.0 \t 0.0 \t 0.0 \t 0.0 \t 0.0 \t 0.0 \t 0.0 \t 0.0 \t 0.0 \t 0.0 \t 0.0 \t 0.0 \t 0.0 \t 0.0 \t 0.0 \t 0.0 \t 0.0 \t 0.0 \t 0.0 \t 0.0 \t 0.0 \t 0.0 \t 0.0 \t 0.0 \t 0.0 \t 0.0 \t 0.0 \t 0.0 \t 0.0 \t 0.0 \t 0.0 \t 0.0 \t 0.0 \t 0.0 \t 0.0 \t 0.0 \t 0.0 \t 0.0 \t 0.0 \t 0.0 \t 0.0 \t 0.0 \t 0.0 \t 0.0 \t 0.0 \t 0.0 \t 0.0 \t 0.0 \t 0.0 \t 0.0 \t 0.0 \t 0.0 \t 0.0 \t 0.0 \t 0.0 \t 0.0 \t 0.0 \t 0.0 \t 0.0 \t 0.0 \t 0.0 \t 0.0 \t 0.0 \t 0.0 \t 0.0 \t 0.0 \t 0.0 \t 0.0  american\n",
            " 0.000 \t 1e-04 \t[0.999]\t 0.0 \t 0.0 \t 0.0 \t 0.0 \t 0.0 \t 0.0 \t 0.0 \t 0.0 \t 0.0 \t 0.0 \t 0.0 \t 0.0 \t 0.0 \t 0.0 \t 0.0 \t 0.0 \t 0.0 \t 0.0 \t 0.0 \t 0.0 \t 0.0 \t 0.0 \t 0.0 \t 0.0 \t 0.0 \t 0.0 \t 0.0 \t 0.0 \t 0.0 \t 0.0 \t 0.0 \t 0.0 \t 0.0 \t 0.0 \t 0.0 \t 0.0 \t 0.0 \t 0.0 \t 0.0 \t 0.0 \t 0.0 \t 0.0 \t 0.0 \t 0.0 \t 0.0 \t 0.0 \t 0.0 \t 0.0 \t 0.0 \t 0.0 \t 0.0 \t 0.0 \t 0.0 \t 0.0 \t 0.0 \t 0.0 \t 0.0 \t 0.0 \t 0.0 \t 0.0 \t 0.0 \t 0.0 \t 0.0 \t 0.0 \t 0.0 \t 0.0 \t 0.0 \t 0.0 \t 0.0 \t 0.0 \t 0.0 \t 0.0 \t 0.0 \t 0.0 \t 0.0 \t 0.0 \t 0.0 \t 0.0 \t 0.0 \t 0.0 \t 0.0 \t 0.0 \t 0.0 \t 0.0 \t 0.0 \t 0.0 \t 0.0 \t 0.0 \t 0.0 \t 0.0 \t 0.0 \t 0.0 \t 0.0 \t 0.0 \t 0.0 \t 0.0 \t 0.0 \t 0.0 \t 0.0 \t 0.0 \t 0.0 \t 0.0 \t 0.0 \t 0.0 \t 0.0 \t 0.0 \t 0.0 \t 0.0 \t 0.0 \t 0.0 \t 0.0 \t 0.0 \t 0.0 \t 0.0 \t 0.0 \t 0.0 \t 0.0 \t 0.0 \t 0.0 \t 0.0 \t 0.0 \t 0.0 \t 0.0 \t 0.0 \t 0.0 \t 0.0 \t 0.0 \t 0.0 \t 0.0 \t 0.0 \t 0.0 \t 0.0 \t 0.0 \t 0.0 \t 0.0 \t 0.0 \t 0.0 \t 0.0 \t 0.0 \t 0.0 \t 0.0 \t 0.0 \t 0.0 \t 0.0 \t 0.0 \t 0.0 \t 0.0 \t 0.0 \t 0.0 \t 0.0 \t 0.0 \t 0.0 \t 0.0 \t 0.0 \t 0.0 \t 0.0 \t 0.0 \t 0.0  football\n",
            "[0.719]\t 0.113 \t 0.159 \t 0.0 \t 0.0 \t 0.000 \t 0.0 \t 1e-04 \t 0.0 \t 1e-04 \t 1e-04 \t 0.0 \t 0.0 \t 0.0 \t 1e-04 \t 1e-04 \t 0.0 \t 0.0 \t 1e-04 \t 0.0 \t 1e-04 \t 0.0 \t 0.0 \t 0.0 \t 1e-04 \t 0.0 \t 0.0 \t 1e-04 \t 1e-04 \t 0.0 \t 0.0 \t 0.0 \t 0.0 \t 1e-04 \t 1e-04 \t 1e-04 \t 0.0 \t 1e-04 \t 1e-04 \t 0.0 \t 0.0 \t 0.0 \t 0.0 \t 1e-04 \t 0.000 \t 0.0 \t 0.0 \t 1e-04 \t 0.0 \t 0.0 \t 1e-04 \t 0.0 \t 1e-04 \t 1e-04 \t 0.0 \t 0.0 \t 0.0 \t 1e-04 \t 0.0 \t 1e-04 \t 1e-04 \t 0.0 \t 0.0 \t 0.0 \t 0.0 \t 0.000 \t 0.0 \t 0.0 \t 1e-04 \t 0.0 \t 0.0 \t 1e-04 \t 0.0 \t 0.0 \t 0.0 \t 0.0 \t 0.0 \t 0.0 \t 0.0 \t 1e-04 \t 1e-04 \t 1e-04 \t 0.0 \t 1e-04 \t 0.0 \t 1e-04 \t 0.0 \t 0.0 \t 0.0 \t 0.0 \t 1e-04 \t 0.0 \t 0.0 \t 0.0 \t 0.0 \t 0.000 \t 1e-04 \t 0.0 \t 0.0 \t 0.0 \t 0.0 \t 1e-04 \t 0.0 \t 1e-04 \t 0.0 \t 0.0 \t 0.0 \t 1e-04 \t 0.0 \t 0.0 \t 1e-04 \t 1e-04 \t 1e-04 \t 0.0 \t 0.0 \t 0.0 \t 1e-04 \t 0.0 \t 1e-04 \t 0.0 \t 0.0 \t 1e-04 \t 0.0 \t 0.0 \t 0.0 \t 1e-04 \t 0.0 \t 1e-04 \t 0.0 \t 0.0 \t 1e-04 \t 0.0 \t 1e-04 \t 0.0 \t 0.0 \t 1e-04 \t 0.0 \t 0.0 \t 1e-04 \t 1e-04 \t 0.0 \t 1e-04 \t 1e-04 \t 1e-04 \t 1e-04 \t 0.0 \t 0.0 \t 1e-04 \t 0.0 \t 0.0 \t 0.0 \t 0.0 \t 1e-04 \t 1e-04 \t 0.0 \t 0.0 \t 0.0 \t 0.0 \t 1e-04 \t 0.0 \t 1e-04  but\n",
            " 0.045 \t[0.941]\t 0.008 \t 0.0 \t 0.0 \t 0.0 \t 0.0 \t 0.0 \t 0.0 \t 0.0 \t 0.0 \t 0.0 \t 0.0 \t 0.0 \t 1e-04 \t 0.0 \t 0.0 \t 0.0 \t 1e-04 \t 0.0 \t 0.0 \t 0.0 \t 0.0 \t 0.0 \t 0.0 \t 0.0 \t 0.0 \t 1e-04 \t 1e-04 \t 0.0 \t 0.0 \t 0.0 \t 0.0 \t 1e-04 \t 0.0 \t 0.0 \t 0.0 \t 0.0 \t 0.0 \t 0.0 \t 0.0 \t 0.0 \t 0.0 \t 0.0 \t 0.0 \t 0.0 \t 0.0 \t 0.0 \t 0.0 \t 1e-04 \t 0.0 \t 0.0 \t 0.0 \t 0.0 \t 0.0 \t 0.0 \t 0.0 \t 0.0 \t 0.0 \t 0.0 \t 0.0 \t 0.0 \t 0.0 \t 0.0 \t 0.0 \t 1e-04 \t 0.0 \t 0.0 \t 0.0 \t 0.0 \t 0.0 \t 0.0 \t 0.0 \t 0.0 \t 0.0 \t 0.0 \t 0.0 \t 0.0 \t 0.0 \t 0.0 \t 0.0 \t 0.0 \t 0.0 \t 0.0 \t 0.0 \t 0.0 \t 0.0 \t 0.0 \t 0.0 \t 0.0 \t 0.0 \t 0.0 \t 0.0 \t 0.0 \t 0.0 \t 1e-04 \t 1e-04 \t 0.0 \t 0.0 \t 0.0 \t 0.0 \t 0.0 \t 0.0 \t 0.0 \t 0.0 \t 0.0 \t 0.0 \t 0.0 \t 0.0 \t 0.0 \t 0.0 \t 0.0 \t 0.0 \t 0.0 \t 0.0 \t 0.0 \t 0.0 \t 0.0 \t 0.0 \t 0.0 \t 0.0 \t 0.0 \t 0.0 \t 0.0 \t 0.0 \t 1e-04 \t 1e-04 \t 0.0 \t 0.0 \t 0.0 \t 1e-04 \t 0.0 \t 0.0 \t 0.0 \t 0.0 \t 0.0 \t 0.0 \t 0.0 \t 0.0 \t 0.0 \t 0.0 \t 0.0 \t 1e-04 \t 1e-04 \t 0.0 \t 0.0 \t 0.0 \t 0.0 \t 0.0 \t 0.0 \t 0.0 \t 0.0 \t 0.0 \t 0.0 \t 0.0 \t 0.0 \t 0.0 \t 0.0 \t 0.0 \t 0.0 \t 0.0  don\n",
            " 0.003 \t 0.000 \t[0.995]\t 0.0 \t 0.0 \t 0.0 \t 0.0 \t 0.0 \t 0.0 \t 0.0 \t 0.0 \t 0.0 \t 0.0 \t 0.0 \t 0.0 \t 0.0 \t 0.0 \t 0.0 \t 0.0 \t 0.0 \t 0.0 \t 0.0 \t 0.0 \t 0.0 \t 0.0 \t 0.0 \t 0.0 \t 0.0 \t 0.0 \t 0.0 \t 0.0 \t 0.0 \t 0.0 \t 0.0 \t 0.0 \t 0.0 \t 0.0 \t 0.0 \t 0.0 \t 0.0 \t 0.0 \t 0.0 \t 0.0 \t 0.0 \t 0.0 \t 0.0 \t 0.0 \t 0.0 \t 0.0 \t 0.0 \t 0.0 \t 0.0 \t 0.0 \t 0.0 \t 0.0 \t 0.0 \t 0.0 \t 0.0 \t 0.0 \t 0.0 \t 0.0 \t 0.0 \t 0.0 \t 0.0 \t 0.0 \t 0.0 \t 0.0 \t 0.0 \t 0.0 \t 0.0 \t 0.0 \t 0.0 \t 0.0 \t 0.0 \t 0.0 \t 0.0 \t 0.0 \t 0.0 \t 0.0 \t 0.0 \t 0.0 \t 0.0 \t 0.0 \t 0.0 \t 0.0 \t 0.0 \t 0.0 \t 0.0 \t 0.0 \t 0.0 \t 0.0 \t 0.0 \t 0.0 \t 0.0 \t 0.0 \t 0.0 \t 0.0 \t 0.0 \t 0.0 \t 0.0 \t 0.0 \t 0.0 \t 0.0 \t 0.0 \t 0.0 \t 0.0 \t 0.0 \t 0.0 \t 0.0 \t 0.0 \t 0.0 \t 0.0 \t 0.0 \t 0.0 \t 0.0 \t 0.0 \t 0.0 \t 0.0 \t 0.0 \t 0.0 \t 0.0 \t 0.0 \t 0.0 \t 0.0 \t 0.0 \t 0.0 \t 0.0 \t 0.0 \t 0.0 \t 0.0 \t 0.0 \t 0.0 \t 0.0 \t 0.0 \t 0.0 \t 0.0 \t 0.0 \t 0.0 \t 0.0 \t 0.0 \t 0.0 \t 0.0 \t 0.0 \t 0.0 \t 0.0 \t 0.0 \t 0.0 \t 0.0 \t 0.0 \t 0.0 \t 0.0 \t 0.0 \t 0.0 \t 0.0 \t 0.0 \t 0.0 \t 0.0 \t 0.0 \t 0.0 \t 0.0 \t 0.0  '\n",
            "[0.699]\t 0.049 \t 0.241 \t 0.0 \t 1e-04 \t 1e-04 \t 1e-04 \t 0.000 \t 0.0 \t 1e-04 \t 0.0 \t 0.0 \t 1e-04 \t 0.0 \t 1e-04 \t 0.000 \t 1e-04 \t 0.0 \t 1e-04 \t 0.0 \t 1e-04 \t 0.0 \t 0.0 \t 1e-04 \t 1e-04 \t 1e-04 \t 0.0 \t 1e-04 \t 0.0 \t 0.0 \t 0.0 \t 0.0 \t 0.0 \t 0.0 \t 1e-04 \t 1e-04 \t 0.0 \t 0.0 \t 0.0 \t 0.0 \t 1e-04 \t 0.0 \t 0.0 \t 0.0 \t 0.000 \t 1e-04 \t 1e-04 \t 1e-04 \t 0.0 \t 1e-04 \t 1e-04 \t 1e-04 \t 1e-04 \t 1e-04 \t 0.0 \t 0.0 \t 1e-04 \t 0.000 \t 0.0 \t 1e-04 \t 1e-04 \t 0.0 \t 0.0 \t 1e-04 \t 0.0 \t 0.000 \t 1e-04 \t 1e-04 \t 1e-04 \t 0.0 \t 0.0 \t 1e-04 \t 0.0 \t 1e-04 \t 1e-04 \t 0.0 \t 0.0 \t 0.0 \t 1e-04 \t 1e-04 \t 1e-04 \t 1e-04 \t 0.0 \t 1e-04 \t 1e-04 \t 0.0 \t 0.0 \t 0.0 \t 1e-04 \t 0.0 \t 1e-04 \t 0.0 \t 1e-04 \t 0.0 \t 0.0 \t 0.000 \t 1e-04 \t 0.0 \t 1e-04 \t 0.0 \t 1e-04 \t 1e-04 \t 0.0 \t 1e-04 \t 1e-04 \t 0.0 \t 0.0 \t 1e-04 \t 0.0 \t 0.0 \t 1e-04 \t 1e-04 \t 1e-04 \t 0.0 \t 0.0 \t 1e-04 \t 1e-04 \t 1e-04 \t 1e-04 \t 0.0 \t 1e-04 \t 1e-04 \t 0.0 \t 1e-04 \t 0.0 \t 0.000 \t 0.0 \t 1e-04 \t 1e-04 \t 1e-04 \t 1e-04 \t 0.0 \t 0.0 \t 1e-04 \t 0.0 \t 1e-04 \t 0.0 \t 1e-04 \t 1e-04 \t 1e-04 \t 0.0 \t 0.000 \t 1e-04 \t 1e-04 \t 1e-04 \t 1e-04 \t 1e-04 \t 1e-04 \t 1e-04 \t 0.0 \t 0.0 \t 0.000 \t 1e-04 \t 1e-04 \t 1e-04 \t 1e-04 \t 1e-04 \t 1e-04 \t 1e-04 \t 1e-04 \t 1e-04  t\n",
            " 0.001 \t[0.997]\t 0.000 \t 0.0 \t 0.0 \t 0.0 \t 0.0 \t 0.0 \t 0.0 \t 0.0 \t 0.0 \t 0.0 \t 0.0 \t 0.0 \t 0.0 \t 0.0 \t 0.0 \t 0.0 \t 0.0 \t 0.0 \t 0.0 \t 0.0 \t 0.0 \t 0.0 \t 0.0 \t 0.0 \t 0.0 \t 0.0 \t 0.0 \t 0.0 \t 0.0 \t 0.0 \t 0.0 \t 0.0 \t 0.0 \t 0.0 \t 0.0 \t 0.0 \t 0.0 \t 0.0 \t 0.0 \t 0.0 \t 0.0 \t 0.0 \t 0.0 \t 0.0 \t 0.0 \t 0.0 \t 0.0 \t 0.0 \t 0.0 \t 0.0 \t 0.0 \t 0.0 \t 0.0 \t 0.0 \t 0.0 \t 0.0 \t 0.0 \t 0.0 \t 0.0 \t 0.0 \t 0.0 \t 0.0 \t 0.0 \t 0.0 \t 0.0 \t 0.0 \t 0.0 \t 0.0 \t 0.0 \t 0.0 \t 0.0 \t 0.0 \t 0.0 \t 0.0 \t 0.0 \t 0.0 \t 0.0 \t 0.0 \t 0.0 \t 0.0 \t 0.0 \t 0.0 \t 0.0 \t 0.0 \t 0.0 \t 0.0 \t 0.0 \t 0.0 \t 0.0 \t 0.0 \t 0.0 \t 0.0 \t 0.0 \t 0.0 \t 0.0 \t 0.0 \t 0.0 \t 0.0 \t 0.0 \t 0.0 \t 0.0 \t 0.0 \t 0.0 \t 0.0 \t 0.0 \t 0.0 \t 0.0 \t 0.0 \t 0.0 \t 0.0 \t 0.0 \t 0.0 \t 0.0 \t 0.0 \t 0.0 \t 0.0 \t 0.0 \t 0.0 \t 0.0 \t 0.0 \t 0.0 \t 0.0 \t 0.0 \t 0.0 \t 0.0 \t 0.0 \t 0.0 \t 0.0 \t 0.0 \t 0.0 \t 0.0 \t 0.0 \t 0.0 \t 0.0 \t 0.0 \t 0.0 \t 0.0 \t 0.0 \t 0.0 \t 0.0 \t 0.0 \t 0.0 \t 0.0 \t 0.0 \t 0.0 \t 0.0 \t 0.0 \t 0.0 \t 0.0 \t 0.0 \t 0.0 \t 0.0 \t 0.0 \t 0.0 \t 0.0 \t 0.0 \t 0.0 \t 0.0 \t 0.0  like\n",
            "[0.590]\t 0.036 \t 0.306 \t 0.000 \t 0.000 \t 0.000 \t 0.000 \t 0.001 \t 0.000 \t 0.000 \t 0.000 \t 0.000 \t 0.000 \t 0.000 \t 0.000 \t 0.000 \t 0.000 \t 0.000 \t 0.000 \t 0.000 \t 0.000 \t 0.000 \t 0.000 \t 0.000 \t 0.000 \t 0.000 \t 1e-04 \t 0.001 \t 0.000 \t 0.000 \t 0.000 \t 0.000 \t 0.000 \t 0.000 \t 0.000 \t 0.000 \t 0.000 \t 0.000 \t 0.000 \t 0.000 \t 0.000 \t 1e-04 \t 0.000 \t 0.000 \t 0.000 \t 0.000 \t 0.000 \t 0.000 \t 0.000 \t 0.000 \t 0.000 \t 0.000 \t 0.000 \t 0.000 \t 0.000 \t 0.000 \t 1e-04 \t 0.000 \t 0.000 \t 0.000 \t 0.000 \t 0.000 \t 1e-04 \t 0.002 \t 0.000 \t 0.000 \t 0.000 \t 0.001 \t 0.000 \t 0.000 \t 1e-04 \t 0.000 \t 0.000 \t 0.000 \t 0.000 \t 0.000 \t 0.000 \t 0.000 \t 0.000 \t 0.000 \t 0.000 \t 0.000 \t 0.000 \t 0.000 \t 0.000 \t 1e-04 \t 0.000 \t 0.000 \t 1e-04 \t 0.000 \t 0.001 \t 0.000 \t 0.000 \t 0.000 \t 0.000 \t 0.000 \t 0.000 \t 0.000 \t 0.000 \t 1e-04 \t 0.000 \t 0.000 \t 0.000 \t 0.000 \t 0.000 \t 0.000 \t 1e-04 \t 0.000 \t 0.000 \t 0.000 \t 0.000 \t 0.000 \t 0.000 \t 0.000 \t 1e-04 \t 0.000 \t 0.000 \t 0.000 \t 0.000 \t 0.000 \t 0.000 \t 0.001 \t 0.000 \t 0.000 \t 0.000 \t 0.001 \t 0.000 \t 0.000 \t 0.000 \t 0.000 \t 0.000 \t 1e-04 \t 0.000 \t 0.000 \t 0.000 \t 0.000 \t 0.000 \t 0.000 \t 0.000 \t 0.000 \t 0.000 \t 0.000 \t 0.000 \t 0.001 \t 0.000 \t 0.000 \t 0.000 \t 0.000 \t 0.000 \t 0.000 \t 0.000 \t 0.000 \t 1e-04 \t 0.000 \t 0.000 \t 0.000 \t 0.000 \t 0.001 \t 0.000 \t 0.000 \t 0.000  to\n",
            " 0.390 \t[0.414]\t 0.178 \t 0.0 \t 1e-04 \t 0.000 \t 1e-04 \t 1e-04 \t 0.0 \t 1e-04 \t 1e-04 \t 0.0 \t 1e-04 \t 0.0 \t 0.000 \t 0.000 \t 1e-04 \t 0.0 \t 0.000 \t 1e-04 \t 1e-04 \t 1e-04 \t 1e-04 \t 1e-04 \t 1e-04 \t 1e-04 \t 1e-04 \t 1e-04 \t 0.000 \t 0.0 \t 1e-04 \t 1e-04 \t 1e-04 \t 0.000 \t 1e-04 \t 1e-04 \t 1e-04 \t 1e-04 \t 1e-04 \t 1e-04 \t 1e-04 \t 1e-04 \t 1e-04 \t 1e-04 \t 1e-04 \t 1e-04 \t 1e-04 \t 1e-04 \t 0.0 \t 0.000 \t 0.000 \t 0.000 \t 1e-04 \t 1e-04 \t 1e-04 \t 1e-04 \t 1e-04 \t 1e-04 \t 1e-04 \t 0.000 \t 0.000 \t 1e-04 \t 1e-04 \t 1e-04 \t 1e-04 \t 0.000 \t 0.0 \t 1e-04 \t 1e-04 \t 1e-04 \t 1e-04 \t 0.000 \t 1e-04 \t 1e-04 \t 1e-04 \t 1e-04 \t 0.0 \t 1e-04 \t 1e-04 \t 1e-04 \t 1e-04 \t 0.0 \t 0.000 \t 0.000 \t 0.0 \t 0.0 \t 1e-04 \t 1e-04 \t 1e-04 \t 0.0 \t 0.000 \t 1e-04 \t 1e-04 \t 0.000 \t 1e-04 \t 0.000 \t 0.000 \t 1e-04 \t 0.0 \t 1e-04 \t 1e-04 \t 1e-04 \t 1e-04 \t 0.000 \t 1e-04 \t 1e-04 \t 1e-04 \t 1e-04 \t 1e-04 \t 0.0 \t 0.0 \t 1e-04 \t 1e-04 \t 1e-04 \t 1e-04 \t 0.000 \t 1e-04 \t 1e-04 \t 1e-04 \t 1e-04 \t 1e-04 \t 0.000 \t 0.000 \t 1e-04 \t 1e-04 \t 0.000 \t 0.000 \t 0.000 \t 1e-04 \t 1e-04 \t 1e-04 \t 0.0 \t 1e-04 \t 1e-04 \t 1e-04 \t 1e-04 \t 1e-04 \t 1e-04 \t 1e-04 \t 1e-04 \t 0.0 \t 1e-04 \t 0.000 \t 1e-04 \t 1e-04 \t 1e-04 \t 1e-04 \t 1e-04 \t 0.000 \t 1e-04 \t 1e-04 \t 0.000 \t 1e-04 \t 1e-04 \t 0.000 \t 1e-04 \t 1e-04 \t 1e-04 \t 0.000 \t 1e-04 \t 1e-04  make\n",
            " 1e-04 \t[0.999]\t 0.0 \t 0.0 \t 0.0 \t 0.0 \t 0.0 \t 0.0 \t 0.0 \t 0.0 \t 0.0 \t 0.0 \t 0.0 \t 0.0 \t 0.0 \t 0.0 \t 0.0 \t 0.0 \t 0.0 \t 0.0 \t 0.0 \t 0.0 \t 0.0 \t 0.0 \t 0.0 \t 0.0 \t 0.0 \t 0.0 \t 0.0 \t 0.0 \t 0.0 \t 0.0 \t 0.0 \t 0.0 \t 0.0 \t 0.0 \t 0.0 \t 0.0 \t 0.0 \t 0.0 \t 0.0 \t 0.0 \t 0.0 \t 0.0 \t 0.0 \t 0.0 \t 0.0 \t 0.0 \t 0.0 \t 0.0 \t 0.0 \t 0.0 \t 0.0 \t 0.0 \t 0.0 \t 0.0 \t 0.0 \t 0.0 \t 0.0 \t 0.0 \t 0.0 \t 0.0 \t 0.0 \t 0.0 \t 0.0 \t 0.0 \t 0.0 \t 0.0 \t 0.0 \t 0.0 \t 0.0 \t 0.0 \t 0.0 \t 0.0 \t 0.0 \t 0.0 \t 0.0 \t 0.0 \t 0.0 \t 0.0 \t 0.0 \t 0.0 \t 0.0 \t 0.0 \t 0.0 \t 0.0 \t 0.0 \t 0.0 \t 0.0 \t 0.0 \t 0.0 \t 0.0 \t 0.0 \t 0.0 \t 0.0 \t 0.0 \t 0.0 \t 0.0 \t 0.0 \t 0.0 \t 0.0 \t 0.0 \t 0.0 \t 0.0 \t 0.0 \t 0.0 \t 0.0 \t 0.0 \t 0.0 \t 0.0 \t 0.0 \t 0.0 \t 0.0 \t 0.0 \t 0.0 \t 0.0 \t 0.0 \t 0.0 \t 0.0 \t 0.0 \t 0.0 \t 0.0 \t 0.0 \t 0.0 \t 0.0 \t 0.0 \t 0.0 \t 0.0 \t 0.0 \t 0.0 \t 0.0 \t 0.0 \t 0.0 \t 0.0 \t 0.0 \t 0.0 \t 0.0 \t 0.0 \t 0.0 \t 0.0 \t 0.0 \t 0.0 \t 0.0 \t 0.0 \t 0.0 \t 0.0 \t 0.0 \t 0.0 \t 0.0 \t 0.0 \t 0.0 \t 0.0 \t 0.0 \t 0.0 \t 0.0 \t 0.0 \t 0.0 \t 0.0 \t 0.0 \t 0.0 \t 0.0  homework\n",
            "[0.990]\t 0.003 \t 0.004 \t 0.0 \t 0.0 \t 0.0 \t 0.0 \t 0.0 \t 0.0 \t 0.0 \t 0.0 \t 0.0 \t 0.0 \t 0.0 \t 0.0 \t 0.0 \t 0.0 \t 0.0 \t 0.0 \t 0.0 \t 0.0 \t 0.0 \t 0.0 \t 0.0 \t 0.0 \t 0.0 \t 0.0 \t 0.0 \t 0.0 \t 0.0 \t 0.0 \t 0.0 \t 0.0 \t 0.0 \t 0.0 \t 0.0 \t 0.0 \t 0.0 \t 0.0 \t 0.0 \t 0.0 \t 0.0 \t 0.0 \t 0.0 \t 1e-04 \t 0.0 \t 0.0 \t 0.0 \t 0.0 \t 0.0 \t 0.0 \t 0.0 \t 0.0 \t 0.0 \t 0.0 \t 0.0 \t 0.0 \t 0.0 \t 0.0 \t 0.0 \t 0.0 \t 0.0 \t 0.0 \t 0.0 \t 0.0 \t 0.0 \t 0.0 \t 0.0 \t 0.0 \t 0.0 \t 0.0 \t 0.0 \t 0.0 \t 0.0 \t 0.0 \t 0.0 \t 0.0 \t 0.0 \t 0.0 \t 0.0 \t 0.0 \t 0.0 \t 0.0 \t 0.0 \t 0.0 \t 0.0 \t 0.0 \t 0.0 \t 0.0 \t 0.0 \t 0.0 \t 0.0 \t 0.0 \t 0.0 \t 0.0 \t 0.0 \t 0.0 \t 0.0 \t 0.0 \t 0.0 \t 0.0 \t 0.0 \t 0.0 \t 0.0 \t 0.0 \t 0.0 \t 0.0 \t 0.0 \t 0.0 \t 0.0 \t 0.0 \t 0.0 \t 0.0 \t 0.0 \t 0.0 \t 0.0 \t 0.0 \t 0.0 \t 0.0 \t 0.0 \t 0.0 \t 0.0 \t 0.0 \t 0.0 \t 0.0 \t 0.0 \t 0.0 \t 0.0 \t 0.0 \t 0.0 \t 0.0 \t 0.0 \t 0.0 \t 0.0 \t 0.0 \t 0.0 \t 0.0 \t 0.0 \t 0.0 \t 0.0 \t 0.0 \t 0.0 \t 0.0 \t 0.0 \t 0.0 \t 0.0 \t 0.0 \t 0.0 \t 0.0 \t 0.0 \t 0.0 \t 0.0 \t 0.0 \t 0.0 \t 0.0 \t 0.0 \t 0.0 \t 0.0 \t 0.0 \t 0.0 \t 0.0  [SEP]\n",
            " 0.268 \t[0.624]\t 0.094 \t 0.0 \t 1e-04 \t 1e-04 \t 1e-04 \t 0.000 \t 0.0 \t 1e-04 \t 0.0 \t 1e-04 \t 0.0 \t 1e-04 \t 1e-04 \t 1e-04 \t 0.0 \t 0.0 \t 1e-04 \t 0.0 \t 1e-04 \t 0.0 \t 0.0 \t 0.0 \t 1e-04 \t 1e-04 \t 0.0 \t 0.000 \t 1e-04 \t 0.0 \t 0.0 \t 1e-04 \t 0.0 \t 1e-04 \t 0.0 \t 1e-04 \t 1e-04 \t 1e-04 \t 1e-04 \t 0.0 \t 1e-04 \t 1e-04 \t 0.0 \t 1e-04 \t 0.000 \t 1e-04 \t 0.0 \t 1e-04 \t 1e-04 \t 1e-04 \t 0.000 \t 1e-04 \t 1e-04 \t 0.000 \t 0.0 \t 1e-04 \t 1e-04 \t 1e-04 \t 0.0 \t 1e-04 \t 1e-04 \t 1e-04 \t 0.0 \t 0.0 \t 0.0 \t 0.000 \t 0.0 \t 0.0 \t 0.000 \t 0.0 \t 0.0 \t 0.000 \t 0.0 \t 1e-04 \t 1e-04 \t 0.0 \t 0.0 \t 0.0 \t 1e-04 \t 1e-04 \t 0.0 \t 0.0 \t 0.0 \t 1e-04 \t 1e-04 \t 0.0 \t 1e-04 \t 0.000 \t 1e-04 \t 0.0 \t 0.000 \t 1e-04 \t 1e-04 \t 0.0 \t 1e-04 \t 1e-04 \t 1e-04 \t 0.0 \t 0.0 \t 0.0 \t 1e-04 \t 1e-04 \t 0.0 \t 1e-04 \t 0.0 \t 1e-04 \t 0.0 \t 1e-04 \t 0.0 \t 1e-04 \t 1e-04 \t 1e-04 \t 1e-04 \t 0.0 \t 1e-04 \t 1e-04 \t 0.000 \t 1e-04 \t 1e-04 \t 0.0 \t 1e-04 \t 1e-04 \t 1e-04 \t 1e-04 \t 1e-04 \t 1e-04 \t 1e-04 \t 1e-04 \t 1e-04 \t 1e-04 \t 0.000 \t 0.0 \t 0.0 \t 1e-04 \t 0.0 \t 1e-04 \t 0.0 \t 1e-04 \t 1e-04 \t 1e-04 \t 0.0 \t 1e-04 \t 1e-04 \t 0.000 \t 0.0 \t 0.0 \t 1e-04 \t 0.000 \t 1e-04 \t 0.0 \t 1e-04 \t 1e-04 \t 1e-04 \t 0.0 \t 1e-04 \t 1e-04 \t 1e-04 \t 1e-04 \t 0.000 \t 1e-04 \t 0.000  what\n",
            " 0.361 \t 0.138 \t[0.480]\t 0.0 \t 1e-04 \t 0.000 \t 0.0 \t 0.000 \t 0.0 \t 1e-04 \t 1e-04 \t 1e-04 \t 1e-04 \t 0.0 \t 0.000 \t 1e-04 \t 1e-04 \t 1e-04 \t 0.000 \t 1e-04 \t 1e-04 \t 1e-04 \t 1e-04 \t 0.0 \t 1e-04 \t 0.000 \t 1e-04 \t 0.000 \t 0.000 \t 0.0 \t 0.000 \t 0.000 \t 1e-04 \t 0.000 \t 0.000 \t 1e-04 \t 0.000 \t 1e-04 \t 1e-04 \t 1e-04 \t 1e-04 \t 0.0 \t 1e-04 \t 1e-04 \t 1e-04 \t 1e-04 \t 1e-04 \t 1e-04 \t 1e-04 \t 0.000 \t 0.000 \t 0.000 \t 1e-04 \t 0.000 \t 1e-04 \t 1e-04 \t 1e-04 \t 0.000 \t 1e-04 \t 1e-04 \t 0.000 \t 1e-04 \t 0.000 \t 1e-04 \t 1e-04 \t 0.000 \t 0.0 \t 1e-04 \t 0.000 \t 1e-04 \t 0.000 \t 0.000 \t 1e-04 \t 1e-04 \t 0.000 \t 1e-04 \t 0.0 \t 1e-04 \t 1e-04 \t 0.000 \t 1e-04 \t 1e-04 \t 0.000 \t 1e-04 \t 0.0 \t 1e-04 \t 1e-04 \t 1e-04 \t 1e-04 \t 0.0 \t 0.000 \t 1e-04 \t 1e-04 \t 1e-04 \t 1e-04 \t 0.000 \t 1e-04 \t 1e-04 \t 1e-04 \t 1e-04 \t 1e-04 \t 0.000 \t 1e-04 \t 1e-04 \t 0.0 \t 1e-04 \t 1e-04 \t 1e-04 \t 0.0 \t 1e-04 \t 0.0 \t 1e-04 \t 1e-04 \t 1e-04 \t 1e-04 \t 0.000 \t 1e-04 \t 0.000 \t 1e-04 \t 1e-04 \t 1e-04 \t 0.000 \t 0.0 \t 1e-04 \t 1e-04 \t 0.000 \t 1e-04 \t 0.000 \t 1e-04 \t 1e-04 \t 0.000 \t 0.0 \t 1e-04 \t 0.0 \t 0.0 \t 0.000 \t 0.0 \t 1e-04 \t 1e-04 \t 1e-04 \t 0.0 \t 0.000 \t 0.000 \t 0.000 \t 0.000 \t 0.0 \t 0.000 \t 1e-04 \t 0.000 \t 1e-04 \t 1e-04 \t 0.000 \t 1e-04 \t 1e-04 \t 0.000 \t 1e-04 \t 1e-04 \t 0.000 \t 0.000 \t 0.000 \t 1e-04  does\n",
            " 1e-04 \t[0.999]\t 0.0 \t 0.0 \t 0.0 \t 0.0 \t 0.0 \t 0.0 \t 0.0 \t 0.0 \t 0.0 \t 0.0 \t 0.0 \t 0.0 \t 0.0 \t 0.0 \t 0.0 \t 0.0 \t 0.0 \t 0.0 \t 0.0 \t 0.0 \t 0.0 \t 0.0 \t 0.0 \t 0.0 \t 0.0 \t 0.0 \t 0.0 \t 0.0 \t 0.0 \t 0.0 \t 0.0 \t 0.0 \t 0.0 \t 0.0 \t 0.0 \t 0.0 \t 0.0 \t 0.0 \t 0.0 \t 0.0 \t 0.0 \t 0.0 \t 0.0 \t 0.0 \t 0.0 \t 0.0 \t 0.0 \t 0.0 \t 0.0 \t 0.0 \t 0.0 \t 0.0 \t 0.0 \t 0.0 \t 0.0 \t 0.0 \t 0.0 \t 0.0 \t 0.0 \t 0.0 \t 0.0 \t 0.0 \t 0.0 \t 0.0 \t 0.0 \t 0.0 \t 0.0 \t 0.0 \t 0.0 \t 0.0 \t 0.0 \t 0.0 \t 0.0 \t 0.0 \t 0.0 \t 0.0 \t 0.0 \t 0.0 \t 0.0 \t 0.0 \t 0.0 \t 0.0 \t 0.0 \t 0.0 \t 0.0 \t 0.0 \t 0.0 \t 0.0 \t 0.0 \t 0.0 \t 0.0 \t 0.0 \t 0.0 \t 0.0 \t 0.0 \t 0.0 \t 0.0 \t 0.0 \t 0.0 \t 0.0 \t 0.0 \t 0.0 \t 0.0 \t 0.0 \t 0.0 \t 0.0 \t 0.0 \t 0.0 \t 0.0 \t 0.0 \t 0.0 \t 0.0 \t 0.0 \t 0.0 \t 0.0 \t 0.0 \t 0.0 \t 0.0 \t 0.0 \t 0.0 \t 0.0 \t 0.0 \t 0.0 \t 0.0 \t 0.0 \t 0.0 \t 0.0 \t 0.0 \t 0.0 \t 0.0 \t 0.0 \t 0.0 \t 0.0 \t 0.0 \t 0.0 \t 0.0 \t 0.0 \t 0.0 \t 0.0 \t 0.0 \t 0.0 \t 0.0 \t 0.0 \t 0.0 \t 0.0 \t 0.0 \t 0.0 \t 0.0 \t 0.0 \t 0.0 \t 0.0 \t 0.0 \t 0.0 \t 0.0 \t 0.0 \t 0.0 \t 0.0 \t 0.0 \t 0.0  mike\n",
            " 0.075 \t[0.899]\t 0.016 \t 0.0 \t 1e-04 \t 1e-04 \t 0.0 \t 1e-04 \t 0.0 \t 0.0 \t 0.0 \t 0.0 \t 0.0 \t 0.0 \t 1e-04 \t 1e-04 \t 0.0 \t 0.0 \t 1e-04 \t 0.0 \t 1e-04 \t 0.0 \t 0.0 \t 0.0 \t 1e-04 \t 0.0 \t 0.0 \t 1e-04 \t 1e-04 \t 0.0 \t 1e-04 \t 1e-04 \t 0.0 \t 1e-04 \t 1e-04 \t 1e-04 \t 1e-04 \t 0.0 \t 0.0 \t 1e-04 \t 0.0 \t 0.0 \t 1e-04 \t 0.0 \t 1e-04 \t 0.0 \t 0.0 \t 0.0 \t 0.0 \t 1e-04 \t 1e-04 \t 1e-04 \t 1e-04 \t 1e-04 \t 0.0 \t 0.0 \t 0.0 \t 1e-04 \t 0.0 \t 0.0 \t 0.0 \t 0.0 \t 0.0 \t 0.0 \t 0.0 \t 1e-04 \t 0.0 \t 0.0 \t 1e-04 \t 0.0 \t 0.0 \t 1e-04 \t 1e-04 \t 1e-04 \t 1e-04 \t 0.0 \t 0.0 \t 0.0 \t 1e-04 \t 1e-04 \t 1e-04 \t 1e-04 \t 0.0 \t 0.0 \t 0.0 \t 0.0 \t 1e-04 \t 0.0 \t 1e-04 \t 0.0 \t 1e-04 \t 0.0 \t 0.0 \t 0.0 \t 1e-04 \t 1e-04 \t 0.0 \t 0.0 \t 0.0 \t 0.0 \t 0.0 \t 1e-04 \t 0.0 \t 0.0 \t 0.0 \t 0.0 \t 0.0 \t 0.0 \t 0.0 \t 0.0 \t 0.0 \t 1e-04 \t 0.0 \t 1e-04 \t 0.0 \t 1e-04 \t 0.0 \t 1e-04 \t 1e-04 \t 0.0 \t 0.0 \t 1e-04 \t 0.0 \t 0.0 \t 0.0 \t 0.0 \t 1e-04 \t 1e-04 \t 1e-04 \t 0.0 \t 1e-04 \t 0.0 \t 0.0 \t 0.0 \t 0.0 \t 1e-04 \t 0.0 \t 1e-04 \t 0.000 \t 0.0 \t 0.0 \t 0.0 \t 1e-04 \t 1e-04 \t 1e-04 \t 0.0 \t 1e-04 \t 1e-04 \t 0.0 \t 0.0 \t 0.0 \t 0.0 \t 1e-04 \t 0.0 \t 1e-04 \t 0.0 \t 0.0 \t 0.0 \t 0.0 \t 1e-04 \t 1e-04  want\n",
            "[0.555]\t 0.032 \t 0.349 \t 0.000 \t 0.000 \t 0.000 \t 0.000 \t 0.001 \t 0.000 \t 0.000 \t 0.000 \t 0.000 \t 0.000 \t 0.000 \t 0.000 \t 0.000 \t 0.000 \t 0.000 \t 0.000 \t 0.000 \t 0.000 \t 1e-04 \t 0.000 \t 0.000 \t 0.000 \t 0.000 \t 1e-04 \t 0.001 \t 0.000 \t 0.000 \t 0.000 \t 0.000 \t 0.000 \t 0.000 \t 0.000 \t 0.000 \t 0.000 \t 0.000 \t 0.000 \t 0.000 \t 0.000 \t 1e-04 \t 0.000 \t 0.000 \t 0.000 \t 0.000 \t 0.000 \t 0.000 \t 0.000 \t 0.000 \t 0.000 \t 0.000 \t 0.000 \t 0.000 \t 0.000 \t 0.000 \t 1e-04 \t 0.000 \t 0.000 \t 0.000 \t 0.000 \t 0.000 \t 1e-04 \t 0.002 \t 0.000 \t 0.000 \t 0.000 \t 0.001 \t 0.000 \t 0.000 \t 1e-04 \t 0.001 \t 0.000 \t 0.000 \t 0.000 \t 0.000 \t 1e-04 \t 0.000 \t 0.000 \t 0.000 \t 0.000 \t 0.000 \t 0.000 \t 1e-04 \t 0.000 \t 1e-04 \t 0.000 \t 0.000 \t 1e-04 \t 0.000 \t 0.001 \t 0.000 \t 0.000 \t 0.000 \t 0.000 \t 0.000 \t 0.000 \t 0.000 \t 0.000 \t 1e-04 \t 0.000 \t 0.000 \t 0.000 \t 0.000 \t 0.000 \t 1e-04 \t 1e-04 \t 0.000 \t 0.000 \t 0.000 \t 0.000 \t 0.000 \t 0.000 \t 0.000 \t 1e-04 \t 0.000 \t 0.000 \t 0.000 \t 0.000 \t 0.000 \t 0.000 \t 0.001 \t 0.000 \t 0.000 \t 0.000 \t 0.001 \t 0.000 \t 0.000 \t 0.000 \t 0.000 \t 0.000 \t 1e-04 \t 0.000 \t 0.000 \t 0.000 \t 0.000 \t 1e-04 \t 0.000 \t 0.000 \t 0.000 \t 1e-04 \t 0.000 \t 0.000 \t 0.000 \t 0.000 \t 0.000 \t 0.000 \t 0.000 \t 0.000 \t 0.000 \t 1e-04 \t 0.000 \t 1e-04 \t 0.000 \t 0.000 \t 0.000 \t 0.000 \t 0.001 \t 0.000 \t 0.000 \t 0.000  to\n",
            " 0.343 \t 0.047 \t[0.582]\t 1e-04 \t 0.000 \t 0.000 \t 1e-04 \t 0.000 \t 1e-04 \t 1e-04 \t 0.000 \t 1e-04 \t 1e-04 \t 1e-04 \t 0.000 \t 0.000 \t 1e-04 \t 1e-04 \t 0.000 \t 1e-04 \t 0.000 \t 1e-04 \t 0.000 \t 1e-04 \t 0.000 \t 0.000 \t 1e-04 \t 0.000 \t 0.000 \t 0.0 \t 0.000 \t 1e-04 \t 1e-04 \t 0.000 \t 0.000 \t 0.000 \t 1e-04 \t 0.000 \t 0.000 \t 1e-04 \t 1e-04 \t 1e-04 \t 1e-04 \t 1e-04 \t 0.000 \t 0.000 \t 0.000 \t 1e-04 \t 1e-04 \t 0.000 \t 0.000 \t 0.000 \t 1e-04 \t 0.000 \t 1e-04 \t 0.000 \t 1e-04 \t 1e-04 \t 1e-04 \t 1e-04 \t 0.000 \t 1e-04 \t 1e-04 \t 0.000 \t 1e-04 \t 0.000 \t 0.0 \t 0.000 \t 0.000 \t 1e-04 \t 0.000 \t 0.000 \t 0.000 \t 0.000 \t 1e-04 \t 1e-04 \t 1e-04 \t 1e-04 \t 1e-04 \t 0.000 \t 0.000 \t 1e-04 \t 0.000 \t 0.000 \t 1e-04 \t 1e-04 \t 0.000 \t 1e-04 \t 1e-04 \t 1e-04 \t 0.000 \t 1e-04 \t 1e-04 \t 0.000 \t 0.000 \t 0.000 \t 0.000 \t 1e-04 \t 1e-04 \t 1e-04 \t 0.000 \t 0.000 \t 0.000 \t 0.000 \t 1e-04 \t 1e-04 \t 0.000 \t 1e-04 \t 1e-04 \t 1e-04 \t 1e-04 \t 1e-04 \t 1e-04 \t 0.000 \t 0.000 \t 0.000 \t 0.000 \t 0.000 \t 0.000 \t 0.000 \t 1e-04 \t 0.000 \t 0.000 \t 0.000 \t 1e-04 \t 0.000 \t 0.000 \t 0.000 \t 1e-04 \t 1e-04 \t 0.000 \t 0.0 \t 1e-04 \t 1e-04 \t 1e-04 \t 1e-04 \t 1e-04 \t 0.000 \t 0.0 \t 0.000 \t 1e-04 \t 0.000 \t 0.000 \t 0.000 \t 0.000 \t 1e-04 \t 0.000 \t 0.000 \t 0.000 \t 1e-04 \t 0.000 \t 0.000 \t 1e-04 \t 1e-04 \t 0.000 \t 1e-04 \t 0.000 \t 1e-04 \t 1e-04 \t 0.000 \t 0.000  do\n",
            "[0.869]\t 0.120 \t 0.008 \t 0.0 \t 0.0 \t 0.0 \t 0.0 \t 0.0 \t 0.0 \t 0.0 \t 0.0 \t 0.0 \t 0.0 \t 0.0 \t 0.0 \t 0.0 \t 0.0 \t 0.0 \t 0.0 \t 0.0 \t 0.0 \t 0.0 \t 0.0 \t 0.0 \t 0.0 \t 0.0 \t 0.0 \t 0.0 \t 0.0 \t 0.0 \t 0.0 \t 0.0 \t 0.0 \t 0.0 \t 0.0 \t 0.0 \t 0.0 \t 0.0 \t 0.0 \t 0.0 \t 0.0 \t 0.0 \t 0.0 \t 0.0 \t 0.0 \t 0.0 \t 0.0 \t 0.0 \t 0.0 \t 0.0 \t 0.0 \t 0.0 \t 0.0 \t 0.0 \t 0.0 \t 0.0 \t 0.0 \t 0.0 \t 0.0 \t 0.0 \t 0.0 \t 0.0 \t 0.0 \t 0.0 \t 0.0 \t 0.0 \t 0.0 \t 0.0 \t 0.0 \t 0.0 \t 0.0 \t 0.0 \t 0.0 \t 0.0 \t 0.0 \t 0.0 \t 0.0 \t 0.0 \t 0.0 \t 0.0 \t 0.0 \t 0.0 \t 0.0 \t 0.0 \t 0.0 \t 0.0 \t 0.0 \t 0.0 \t 0.0 \t 0.0 \t 0.0 \t 0.0 \t 0.0 \t 0.0 \t 0.0 \t 0.0 \t 0.0 \t 0.0 \t 0.0 \t 0.0 \t 0.0 \t 0.0 \t 0.0 \t 0.0 \t 0.0 \t 0.0 \t 0.0 \t 0.0 \t 0.0 \t 0.0 \t 0.0 \t 0.0 \t 0.0 \t 0.0 \t 0.0 \t 0.0 \t 0.0 \t 0.0 \t 0.0 \t 0.0 \t 0.0 \t 0.0 \t 0.0 \t 0.0 \t 0.0 \t 0.0 \t 0.0 \t 0.0 \t 0.0 \t 0.0 \t 0.0 \t 0.0 \t 0.0 \t 0.0 \t 0.0 \t 0.0 \t 0.0 \t 0.0 \t 0.0 \t 0.0 \t 0.0 \t 0.0 \t 0.0 \t 0.0 \t 0.0 \t 0.0 \t 0.0 \t 0.0 \t 0.0 \t 0.0 \t 0.0 \t 0.0 \t 0.0 \t 0.0 \t 0.0 \t 0.0 \t 0.0 \t 0.0 \t 0.0 \t 0.0 \t 0.0  ?\n",
            "[0.990]\t 0.003 \t 0.004 \t 0.0 \t 0.0 \t 0.0 \t 0.0 \t 0.0 \t 0.0 \t 0.0 \t 0.0 \t 0.0 \t 0.0 \t 0.0 \t 0.0 \t 0.0 \t 0.0 \t 0.0 \t 0.0 \t 0.0 \t 0.0 \t 0.0 \t 0.0 \t 0.0 \t 0.0 \t 0.0 \t 0.0 \t 0.0 \t 0.0 \t 0.0 \t 0.0 \t 0.0 \t 0.0 \t 0.0 \t 0.0 \t 0.0 \t 0.0 \t 0.0 \t 0.0 \t 0.0 \t 0.0 \t 0.0 \t 0.0 \t 0.0 \t 1e-04 \t 0.0 \t 0.0 \t 0.0 \t 0.0 \t 0.0 \t 0.0 \t 0.0 \t 0.0 \t 0.0 \t 0.0 \t 0.0 \t 0.0 \t 0.0 \t 0.0 \t 0.0 \t 0.0 \t 0.0 \t 0.0 \t 0.0 \t 0.0 \t 0.0 \t 0.0 \t 0.0 \t 0.0 \t 0.0 \t 0.0 \t 0.0 \t 0.0 \t 0.0 \t 0.0 \t 0.0 \t 0.0 \t 0.0 \t 0.0 \t 0.0 \t 0.0 \t 0.0 \t 0.0 \t 0.0 \t 0.0 \t 0.0 \t 0.0 \t 0.0 \t 0.0 \t 0.0 \t 0.0 \t 0.0 \t 0.0 \t 0.0 \t 0.0 \t 0.0 \t 0.0 \t 0.0 \t 0.0 \t 0.0 \t 0.0 \t 0.0 \t 0.0 \t 0.0 \t 0.0 \t 0.0 \t 0.0 \t 0.0 \t 0.0 \t 0.0 \t 0.0 \t 0.0 \t 0.0 \t 0.0 \t 0.0 \t 0.0 \t 0.0 \t 0.0 \t 0.0 \t 0.0 \t 0.0 \t 0.0 \t 0.0 \t 0.0 \t 0.0 \t 0.0 \t 0.0 \t 0.0 \t 0.0 \t 0.0 \t 0.0 \t 0.0 \t 0.0 \t 0.0 \t 0.0 \t 0.0 \t 0.0 \t 0.0 \t 0.0 \t 0.0 \t 0.0 \t 0.0 \t 0.0 \t 0.0 \t 0.0 \t 0.0 \t 0.0 \t 0.0 \t 0.0 \t 0.0 \t 0.0 \t 0.0 \t 0.0 \t 0.0 \t 0.0 \t 0.0 \t 0.0 \t 0.0 \t 0.0 \t 0.0 \t 0.0  [SEP]\n",
            " 1e-04 \t[0.999]\t 0.0 \t 0.0 \t 0.0 \t 0.0 \t 0.0 \t 0.0 \t 0.0 \t 0.0 \t 0.0 \t 0.0 \t 0.0 \t 0.0 \t 0.0 \t 0.0 \t 0.0 \t 0.0 \t 0.0 \t 0.0 \t 0.0 \t 0.0 \t 0.0 \t 0.0 \t 0.0 \t 0.0 \t 0.0 \t 0.0 \t 0.0 \t 0.0 \t 0.0 \t 0.0 \t 0.0 \t 0.0 \t 0.0 \t 0.0 \t 0.0 \t 0.0 \t 0.0 \t 0.0 \t 0.0 \t 0.0 \t 0.0 \t 0.0 \t 0.0 \t 0.0 \t 0.0 \t 0.0 \t 0.0 \t 0.0 \t 0.0 \t 0.0 \t 0.0 \t 0.0 \t 0.0 \t 0.0 \t 0.0 \t 0.0 \t 0.0 \t 0.0 \t 0.0 \t 0.0 \t 0.0 \t 0.0 \t 0.0 \t 0.0 \t 0.0 \t 0.0 \t 0.0 \t 0.0 \t 0.0 \t 0.0 \t 0.0 \t 0.0 \t 0.0 \t 0.0 \t 0.0 \t 0.0 \t 0.0 \t 0.0 \t 0.0 \t 0.0 \t 0.0 \t 0.0 \t 0.0 \t 0.0 \t 0.0 \t 0.0 \t 0.0 \t 0.0 \t 0.0 \t 0.0 \t 0.0 \t 0.0 \t 0.0 \t 0.0 \t 0.0 \t 0.0 \t 0.0 \t 0.0 \t 0.0 \t 0.0 \t 0.0 \t 0.0 \t 0.0 \t 0.0 \t 0.0 \t 0.0 \t 0.0 \t 0.0 \t 0.0 \t 0.0 \t 0.0 \t 0.0 \t 0.0 \t 0.0 \t 0.0 \t 0.0 \t 0.0 \t 0.0 \t 0.0 \t 0.0 \t 0.0 \t 0.0 \t 0.0 \t 0.0 \t 0.0 \t 0.0 \t 0.0 \t 0.0 \t 0.0 \t 0.0 \t 0.0 \t 0.0 \t 0.0 \t 0.0 \t 0.0 \t 0.0 \t 0.0 \t 0.0 \t 0.0 \t 0.0 \t 0.0 \t 0.0 \t 0.0 \t 0.0 \t 0.0 \t 0.0 \t 0.0 \t 0.0 \t 0.0 \t 0.0 \t 0.0 \t 0.0 \t 0.0 \t 0.0 \t 0.0 \t 0.0 \t 0.0 \t 0.0 \t 0.0  gaming\n",
            "[0.842]\t 0.027 \t 0.119 \t 0.0 \t 1e-04 \t 1e-04 \t 0.0 \t 0.000 \t 1e-04 \t 1e-04 \t 0.0 \t 0.0 \t 0.0 \t 0.0 \t 1e-04 \t 1e-04 \t 0.0 \t 0.0 \t 0.000 \t 0.0 \t 1e-04 \t 0.0 \t 1e-04 \t 0.0 \t 1e-04 \t 0.0 \t 0.0 \t 1e-04 \t 1e-04 \t 0.0 \t 0.0 \t 1e-04 \t 0.0 \t 1e-04 \t 1e-04 \t 0.0 \t 0.0 \t 1e-04 \t 1e-04 \t 0.0 \t 1e-04 \t 0.0 \t 0.0 \t 0.0 \t 0.000 \t 1e-04 \t 0.0 \t 1e-04 \t 0.0 \t 1e-04 \t 0.0 \t 1e-04 \t 1e-04 \t 1e-04 \t 0.0 \t 0.0 \t 1e-04 \t 1e-04 \t 0.0 \t 1e-04 \t 0.000 \t 0.0 \t 0.0 \t 1e-04 \t 0.0 \t 0.000 \t 1e-04 \t 1e-04 \t 0.0 \t 0.0 \t 0.0 \t 0.000 \t 0.0 \t 1e-04 \t 0.0 \t 1e-04 \t 0.0 \t 0.0 \t 0.0 \t 1e-04 \t 1e-04 \t 0.0 \t 0.0 \t 1e-04 \t 1e-04 \t 0.0 \t 1e-04 \t 0.0 \t 1e-04 \t 1e-04 \t 1e-04 \t 0.0 \t 1e-04 \t 0.0 \t 1e-04 \t 1e-04 \t 1e-04 \t 0.0 \t 1e-04 \t 0.0 \t 0.0 \t 0.0 \t 0.0 \t 1e-04 \t 0.0 \t 0.0 \t 0.0 \t 0.0 \t 0.0 \t 0.0 \t 1e-04 \t 1e-04 \t 1e-04 \t 1e-04 \t 1e-04 \t 0.0 \t 1e-04 \t 0.0 \t 1e-04 \t 0.0 \t 1e-04 \t 1e-04 \t 1e-04 \t 1e-04 \t 0.0 \t 1e-04 \t 0.0 \t 1e-04 \t 1e-04 \t 0.000 \t 0.000 \t 0.0 \t 0.0 \t 0.0 \t 1e-04 \t 0.0 \t 0.0 \t 1e-04 \t 1e-04 \t 1e-04 \t 0.0 \t 1e-04 \t 1e-04 \t 1e-04 \t 0.000 \t 0.0 \t 0.0 \t 1e-04 \t 1e-04 \t 0.0 \t 0.0 \t 1e-04 \t 1e-04 \t 1e-04 \t 1e-04 \t 1e-04 \t 0.0 \t 1e-04 \t 1e-04 \t 1e-04 \t 1e-04  ,\n",
            "[0.737]\t 0.122 \t 0.132 \t 0.0 \t 0.0 \t 1e-04 \t 0.0 \t 1e-04 \t 0.0 \t 1e-04 \t 0.0 \t 0.0 \t 0.0 \t 0.0 \t 1e-04 \t 1e-04 \t 0.0 \t 0.0 \t 1e-04 \t 0.0 \t 1e-04 \t 0.0 \t 0.0 \t 0.0 \t 1e-04 \t 0.0 \t 0.0 \t 1e-04 \t 1e-04 \t 0.0 \t 0.0 \t 0.0 \t 0.0 \t 0.0 \t 1e-04 \t 1e-04 \t 0.0 \t 0.0 \t 1e-04 \t 0.0 \t 0.0 \t 0.0 \t 0.0 \t 1e-04 \t 1e-04 \t 0.0 \t 0.0 \t 0.0 \t 0.0 \t 0.0 \t 1e-04 \t 0.0 \t 1e-04 \t 1e-04 \t 0.0 \t 0.0 \t 0.0 \t 1e-04 \t 0.0 \t 1e-04 \t 1e-04 \t 0.0 \t 0.0 \t 0.0 \t 0.0 \t 0.000 \t 0.0 \t 0.0 \t 1e-04 \t 0.0 \t 0.0 \t 1e-04 \t 0.0 \t 0.0 \t 1e-04 \t 1e-04 \t 0.0 \t 0.0 \t 0.0 \t 1e-04 \t 1e-04 \t 1e-04 \t 0.0 \t 1e-04 \t 0.0 \t 0.0 \t 0.0 \t 0.0 \t 0.0 \t 0.0 \t 1e-04 \t 0.0 \t 0.0 \t 0.0 \t 0.0 \t 0.000 \t 1e-04 \t 0.0 \t 0.0 \t 0.0 \t 0.0 \t 0.0 \t 0.0 \t 1e-04 \t 0.0 \t 0.0 \t 0.0 \t 1e-04 \t 0.0 \t 0.0 \t 1e-04 \t 1e-04 \t 1e-04 \t 0.0 \t 0.0 \t 0.0 \t 1e-04 \t 0.0 \t 1e-04 \t 0.0 \t 0.0 \t 0.000 \t 0.0 \t 0.0 \t 0.0 \t 1e-04 \t 0.0 \t 0.0 \t 1e-04 \t 0.0 \t 1e-04 \t 0.0 \t 0.0 \t 0.0 \t 0.0 \t 1e-04 \t 0.0 \t 0.0 \t 1e-04 \t 1e-04 \t 0.0 \t 0.0 \t 0.0 \t 1e-04 \t 1e-04 \t 0.0 \t 0.0 \t 1e-04 \t 0.0 \t 0.0 \t 0.0 \t 0.0 \t 1e-04 \t 0.0 \t 0.0 \t 0.0 \t 0.0 \t 0.0 \t 1e-04 \t 0.0 \t 1e-04  but\n",
            " 1e-04 \t[0.999]\t 0.0 \t 0.0 \t 0.0 \t 0.0 \t 0.0 \t 0.0 \t 0.0 \t 0.0 \t 0.0 \t 0.0 \t 0.0 \t 0.0 \t 0.0 \t 0.0 \t 0.0 \t 0.0 \t 0.0 \t 0.0 \t 0.0 \t 0.0 \t 0.0 \t 0.0 \t 0.0 \t 0.0 \t 0.0 \t 0.0 \t 0.0 \t 0.0 \t 0.0 \t 0.0 \t 0.0 \t 0.0 \t 0.0 \t 0.0 \t 0.0 \t 0.0 \t 0.0 \t 0.0 \t 0.0 \t 0.0 \t 0.0 \t 0.0 \t 0.0 \t 0.0 \t 0.0 \t 0.0 \t 0.0 \t 0.0 \t 0.0 \t 0.0 \t 0.0 \t 0.0 \t 0.0 \t 0.0 \t 0.0 \t 0.0 \t 0.0 \t 0.0 \t 0.0 \t 0.0 \t 0.0 \t 0.0 \t 0.0 \t 0.0 \t 0.0 \t 0.0 \t 0.0 \t 0.0 \t 0.0 \t 0.0 \t 0.0 \t 0.0 \t 0.0 \t 0.0 \t 0.0 \t 0.0 \t 0.0 \t 0.0 \t 0.0 \t 0.0 \t 0.0 \t 0.0 \t 0.0 \t 0.0 \t 0.0 \t 0.0 \t 0.0 \t 0.0 \t 0.0 \t 0.0 \t 0.0 \t 0.0 \t 0.0 \t 0.0 \t 0.0 \t 0.0 \t 0.0 \t 0.0 \t 0.0 \t 0.0 \t 0.0 \t 0.0 \t 0.0 \t 0.0 \t 0.0 \t 0.0 \t 0.0 \t 0.0 \t 0.0 \t 0.0 \t 0.0 \t 0.0 \t 0.0 \t 0.0 \t 0.0 \t 0.0 \t 0.0 \t 0.0 \t 0.0 \t 0.0 \t 0.0 \t 0.0 \t 0.0 \t 0.0 \t 0.0 \t 0.0 \t 0.0 \t 0.0 \t 0.0 \t 0.0 \t 0.0 \t 0.0 \t 0.0 \t 0.0 \t 0.0 \t 0.0 \t 0.0 \t 0.0 \t 0.0 \t 0.0 \t 0.0 \t 0.0 \t 0.0 \t 0.0 \t 0.0 \t 0.0 \t 0.0 \t 0.0 \t 0.0 \t 0.0 \t 0.0 \t 0.0 \t 0.0 \t 0.0 \t 0.0 \t 0.0 \t 0.0 \t 0.0 \t 0.0  SPEAKER1\n",
            " 0.001 \t[0.998]\t 0.000 \t 0.0 \t 0.0 \t 0.0 \t 0.0 \t 0.0 \t 0.0 \t 0.0 \t 0.0 \t 0.0 \t 0.0 \t 0.0 \t 0.0 \t 0.0 \t 0.0 \t 0.0 \t 0.0 \t 0.0 \t 0.0 \t 0.0 \t 0.0 \t 0.0 \t 0.0 \t 0.0 \t 0.0 \t 0.0 \t 0.0 \t 0.0 \t 0.0 \t 0.0 \t 0.0 \t 0.0 \t 0.0 \t 0.0 \t 0.0 \t 0.0 \t 0.0 \t 0.0 \t 0.0 \t 0.0 \t 0.0 \t 0.0 \t 0.0 \t 0.0 \t 0.0 \t 0.0 \t 0.0 \t 0.0 \t 0.0 \t 0.0 \t 0.0 \t 0.0 \t 0.0 \t 0.0 \t 0.0 \t 0.0 \t 0.0 \t 0.0 \t 0.0 \t 0.0 \t 0.0 \t 0.0 \t 0.0 \t 0.0 \t 0.0 \t 0.0 \t 0.0 \t 0.0 \t 0.0 \t 0.0 \t 0.0 \t 0.0 \t 0.0 \t 0.0 \t 0.0 \t 0.0 \t 0.0 \t 0.0 \t 0.0 \t 0.0 \t 0.0 \t 0.0 \t 0.0 \t 0.0 \t 0.0 \t 0.0 \t 0.0 \t 0.0 \t 0.0 \t 0.0 \t 0.0 \t 0.0 \t 0.0 \t 0.0 \t 0.0 \t 0.0 \t 0.0 \t 0.0 \t 0.0 \t 0.0 \t 0.0 \t 0.0 \t 0.0 \t 0.0 \t 0.0 \t 0.0 \t 0.0 \t 0.0 \t 0.0 \t 0.0 \t 0.0 \t 0.0 \t 0.0 \t 0.0 \t 0.0 \t 0.0 \t 0.0 \t 0.0 \t 0.0 \t 0.0 \t 0.0 \t 0.0 \t 0.0 \t 0.0 \t 0.0 \t 0.0 \t 0.0 \t 0.0 \t 0.0 \t 0.0 \t 0.0 \t 0.0 \t 0.0 \t 0.0 \t 0.0 \t 0.0 \t 0.0 \t 0.0 \t 0.0 \t 0.0 \t 0.0 \t 0.0 \t 0.0 \t 0.0 \t 0.0 \t 0.0 \t 0.0 \t 0.0 \t 0.0 \t 0.0 \t 0.0 \t 0.0 \t 0.0 \t 0.0 \t 0.0 \t 0.0 \t 0.0 \t 0.0 \t 0.0  hate\n",
            " 0.000 \t 1e-04 \t[0.999]\t 0.0 \t 0.0 \t 0.0 \t 0.0 \t 0.0 \t 0.0 \t 0.0 \t 0.0 \t 0.0 \t 0.0 \t 0.0 \t 0.0 \t 0.0 \t 0.0 \t 0.0 \t 0.0 \t 0.0 \t 0.0 \t 0.0 \t 0.0 \t 0.0 \t 0.0 \t 0.0 \t 0.0 \t 0.0 \t 0.0 \t 0.0 \t 0.0 \t 0.0 \t 0.0 \t 0.0 \t 0.0 \t 0.0 \t 0.0 \t 0.0 \t 0.0 \t 0.0 \t 0.0 \t 0.0 \t 0.0 \t 0.0 \t 0.0 \t 0.0 \t 0.0 \t 0.0 \t 0.0 \t 0.0 \t 0.0 \t 0.0 \t 0.0 \t 0.0 \t 0.0 \t 0.0 \t 0.0 \t 0.0 \t 0.0 \t 0.0 \t 0.0 \t 0.0 \t 0.0 \t 0.0 \t 0.0 \t 0.0 \t 0.0 \t 0.0 \t 0.0 \t 0.0 \t 0.0 \t 0.0 \t 0.0 \t 0.0 \t 0.0 \t 0.0 \t 0.0 \t 0.0 \t 0.0 \t 0.0 \t 0.0 \t 0.0 \t 0.0 \t 0.0 \t 0.0 \t 0.0 \t 0.0 \t 0.0 \t 0.0 \t 0.0 \t 0.0 \t 0.0 \t 0.0 \t 0.0 \t 0.0 \t 0.0 \t 0.0 \t 0.0 \t 0.0 \t 0.0 \t 0.0 \t 0.0 \t 0.0 \t 0.0 \t 0.0 \t 0.0 \t 0.0 \t 0.0 \t 0.0 \t 0.0 \t 0.0 \t 0.0 \t 0.0 \t 0.0 \t 0.0 \t 0.0 \t 0.0 \t 0.0 \t 0.0 \t 0.0 \t 0.0 \t 0.0 \t 0.0 \t 0.0 \t 0.0 \t 0.0 \t 0.0 \t 0.0 \t 0.0 \t 0.0 \t 0.0 \t 0.0 \t 0.0 \t 0.0 \t 0.0 \t 0.0 \t 0.0 \t 0.0 \t 0.0 \t 0.0 \t 0.0 \t 0.0 \t 0.0 \t 0.0 \t 0.0 \t 0.0 \t 0.0 \t 0.0 \t 0.0 \t 0.0 \t 0.0 \t 0.0 \t 0.0 \t 0.0 \t 0.0 \t 0.0 \t 0.0 \t 0.0 \t 0.0 \t 0.0 \t 0.0  cats\n",
            "[0.990]\t 0.003 \t 0.004 \t 0.0 \t 0.0 \t 0.0 \t 0.0 \t 0.0 \t 0.0 \t 0.0 \t 0.0 \t 0.0 \t 0.0 \t 0.0 \t 0.0 \t 0.0 \t 0.0 \t 0.0 \t 0.0 \t 0.0 \t 0.0 \t 0.0 \t 0.0 \t 0.0 \t 0.0 \t 0.0 \t 0.0 \t 0.0 \t 0.0 \t 0.0 \t 0.0 \t 0.0 \t 0.0 \t 0.0 \t 0.0 \t 0.0 \t 0.0 \t 0.0 \t 0.0 \t 0.0 \t 0.0 \t 0.0 \t 0.0 \t 0.0 \t 1e-04 \t 0.0 \t 0.0 \t 0.0 \t 0.0 \t 0.0 \t 0.0 \t 0.0 \t 0.0 \t 0.0 \t 0.0 \t 0.0 \t 0.0 \t 0.0 \t 0.0 \t 0.0 \t 0.0 \t 0.0 \t 0.0 \t 0.0 \t 0.0 \t 0.0 \t 0.0 \t 0.0 \t 0.0 \t 0.0 \t 0.0 \t 0.0 \t 0.0 \t 0.0 \t 0.0 \t 0.0 \t 0.0 \t 0.0 \t 0.0 \t 0.0 \t 0.0 \t 0.0 \t 0.0 \t 0.0 \t 0.0 \t 0.0 \t 0.0 \t 0.0 \t 0.0 \t 0.0 \t 0.0 \t 0.0 \t 0.0 \t 0.0 \t 0.0 \t 0.0 \t 0.0 \t 0.0 \t 0.0 \t 0.0 \t 0.0 \t 0.0 \t 0.0 \t 0.0 \t 0.0 \t 0.0 \t 0.0 \t 0.0 \t 0.0 \t 0.0 \t 0.0 \t 0.0 \t 0.0 \t 0.0 \t 0.0 \t 0.0 \t 0.0 \t 0.0 \t 0.0 \t 0.0 \t 0.0 \t 0.0 \t 0.0 \t 0.0 \t 0.0 \t 0.0 \t 0.0 \t 0.0 \t 0.0 \t 0.0 \t 0.0 \t 0.0 \t 0.0 \t 0.0 \t 0.0 \t 0.0 \t 0.0 \t 0.0 \t 0.0 \t 0.0 \t 0.0 \t 0.0 \t 0.0 \t 0.0 \t 0.0 \t 0.0 \t 0.0 \t 0.0 \t 0.0 \t 0.0 \t 0.0 \t 0.0 \t 0.0 \t 0.0 \t 0.0 \t 0.0 \t 0.0 \t 0.0 \t 0.0 \t 0.0 \t 0.0  [SEP]\n",
            "\n",
            " Predicate\n",
            "['0', '1', '2', '3', '4', '5', '6', '7', '8', '9', '10', '11', '12', '13', '14', '15', '16', '17', '18', '19', '20', '21', '22', '23', '24', '25', '26', '27', '28', '29', '30', '31', '32', '33', '34', '35', '36', '37', '38', '39', '40', '41', '42', '43', '44', '45', '46', '47', '48', '49', '50', '51', '52', '53', '54', '55', '56', '57', '58', '59', '60', '61', '62', '63', '64', '65', '66', '67', '68', '69', '70', '71', '72', '73', '74', '75', '76', '77', '78', '79', '80', '81', '82', '83', '84', '85', '86', '87', '88', '89', '90', '91', '92', '93', '94', '95', '96', '97', '98', '99', '100', '101', '102', '103', '104', '105', '106', '107', '108', '109', '110', '111', '112', '113', '114', '115', '116', '117', '118', '119', '120', '121', '122', '123', '124', '125', '126', '127', '128', '129', '130', '131', '132', '133', '134', '135', '136', '137', '138', '139', '140', '141', '142', '143', '144', '145', '146', '147', '148', '149', '150', '151', '152', '153', '154', '155', '156', '157', '158', '159', '160', '161', '162', '163', '164', '165', '166', '167', '168', '169', '170', '171', '172', '173', '174', '175', '176', '177', '178']\n",
            "[0.969]\t 0.0 \t 0.0 \t 0.0 \t 0.0 \t 0.0 \t 0.0 \t 0.0 \t 0.0 \t 0.001 \t 0.0 \t 0.0 \t 0.0 \t 0.0 \t 0.0 \t 0.0 \t 0.0 \t 0.0 \t 0.0 \t 0.0 \t 0.000 \t 0.0 \t 0.0 \t 0.0 \t 0.0 \t 0.0 \t 0.0 \t 0.0 \t 0.0 \t 0.0 \t 0.0 \t 0.0 \t 0.0 \t 1e-04 \t 0.0 \t 0.0 \t 0.0 \t 0.0 \t 0.0 \t 1e-04 \t 1e-04 \t 0.0 \t 0.0 \t 1e-04 \t 0.0 \t 0.0 \t 1e-04 \t 0.0 \t 0.0 \t 0.0 \t 0.0 \t 0.0 \t 0.0 \t 1e-04 \t 0.0 \t 0.0 \t 0.0 \t 0.0 \t 0.0 \t 0.0 \t 0.0 \t 0.0 \t 0.0 \t 1e-04 \t 0.0 \t 0.0 \t 1e-04 \t 0.0 \t 0.0 \t 0.0 \t 0.0 \t 0.0 \t 0.0 \t 0.0 \t 0.0 \t 0.0 \t 0.0 \t 0.0 \t 0.0 \t 1e-04 \t 1e-04 \t 0.0 \t 0.0 \t 0.0 \t 0.0 \t 0.0 \t 0.0 \t 0.0 \t 0.001 \t 0.0 \t 0.0 \t 0.0 \t 0.0 \t 0.0 \t 0.0 \t 0.0 \t 0.0 \t 0.0 \t 0.0 \t 0.0 \t 0.0 \t 0.0 \t 0.0 \t 0.0 \t 0.0 \t 1e-04 \t 0.001 \t 1e-04 \t 0.0 \t 0.0 \t 0.0 \t 0.0 \t 0.0 \t 1e-04 \t 1e-04 \t 0.0 \t 0.0 \t 0.0 \t 0.0 \t 0.0 \t 1e-04 \t 0.006 \t 0.0 \t 0.0 \t 0.0 \t 0.0 \t 0.0 \t 0.0 \t 0.0 \t 0.0 \t 0.0 \t 0.0 \t 0.0 \t 0.0 \t 0.0 \t 0.001 \t 0.008 \t 0.0 \t 0.0 \t 0.0 \t 0.0 \t 0.0 \t 0.0 \t 0.006 \t 0.000 \t 0.0 \t 0.0 \t 0.0 \t 0.0 \t 0.0 \t 0.0 \t 0.0 \t 0.0 \t 0.0 \t 0.0 \t 0.0 \t 0.0 \t 0.0 \t 0.0 \t 0.0 \t 1e-04  [CLS]\n",
            " 0.010 \t 0.0 \t 0.0 \t 0.0 \t 0.0 \t 1e-04 \t 0.0 \t 0.0 \t 1e-04 \t 0.015 \t 1e-04 \t 0.0 \t 0.0 \t 1e-04 \t 0.0 \t 0.000 \t 1e-04 \t 1e-04 \t 1e-04 \t 0.000 \t 0.000 \t 1e-04 \t 0.0 \t 0.0 \t 0.0 \t 0.0 \t 0.0 \t 1e-04 \t 0.0 \t 1e-04 \t 0.0 \t 0.0 \t 0.0 \t 0.000 \t 1e-04 \t 0.000 \t 1e-04 \t 1e-04 \t 0.000 \t 0.000 \t 0.000 \t 0.0 \t 1e-04 \t 0.003 \t 1e-04 \t 0.000 \t 0.000 \t 0.0 \t 1e-04 \t 1e-04 \t 0.0 \t 1e-04 \t 0.0 \t 0.000 \t 1e-04 \t 1e-04 \t 1e-04 \t 1e-04 \t 0.000 \t 0.0 \t 0.0 \t 0.0 \t 0.0 \t 0.000 \t 1e-04 \t 1e-04 \t 0.000 \t 0.0 \t 0.0 \t 1e-04 \t 0.0 \t 1e-04 \t 0.0 \t 0.0 \t 0.0 \t 0.0 \t 0.0 \t 1e-04 \t 0.0 \t 0.000 \t 0.000 \t 1e-04 \t 0.000 \t 1e-04 \t 0.0 \t 0.0 \t 1e-04 \t 0.000 \t 0.006 \t 1e-04 \t 1e-04 \t 1e-04 \t 0.0 \t 0.000 \t 0.0 \t 0.0 \t 0.0 \t 0.0 \t 0.0 \t 0.0 \t 0.0 \t 1e-04 \t 0.0 \t 0.000 \t 1e-04 \t 0.000 \t 0.001 \t 0.000 \t 0.0 \t 1e-04 \t 1e-04 \t 0.0 \t 0.0 \t 0.000 \t 1e-04 \t 0.0 \t 1e-04 \t 0.000 \t 1e-04 \t 1e-04 \t 1e-04 \t 0.047 \t 1e-04 \t 0.0 \t 0.0 \t 0.000 \t 0.0 \t 0.0 \t 0.0 \t 1e-04 \t 0.0 \t 0.0 \t 0.0 \t 1e-04 \t 1e-04 \t 0.010 \t 0.003 \t 1e-04 \t 0.0 \t 1e-04 \t 0.0 \t 1e-04 \t 0.0 \t[0.885]\t 0.002 \t 1e-04 \t 1e-04 \t 0.0 \t 1e-04 \t 0.0 \t 0.0 \t 1e-04 \t 1e-04 \t 0.0 \t 0.0 \t 0.0 \t 0.0 \t 0.0 \t 0.0 \t 0.000 \t 1e-04  SPEAKER1\n",
            " 0.000 \t 0.0 \t 0.0 \t 0.0 \t 0.0 \t 0.0 \t 0.0 \t 0.0 \t 0.0 \t 0.001 \t 0.0 \t 0.0 \t 0.0 \t 0.0 \t 0.0 \t 0.0 \t 0.0 \t 0.0 \t 0.0 \t 0.0 \t 0.0 \t 0.0 \t 0.0 \t 0.0 \t 0.0 \t 0.0 \t 0.0 \t 0.0 \t 0.0 \t 0.0 \t 0.0 \t 0.0 \t 0.0 \t 0.0 \t 0.0 \t 0.0 \t 0.0 \t 0.0 \t 0.0 \t 1e-04 \t 0.0 \t 0.0 \t 0.0 \t 1e-04 \t 0.0 \t 0.0 \t 0.0 \t 0.0 \t 0.0 \t 0.0 \t 0.0 \t 0.0 \t 0.0 \t 0.0 \t 0.0 \t 0.0 \t 0.0 \t 0.0 \t 0.0 \t 0.0 \t 0.0 \t 0.0 \t 0.0 \t 0.0 \t 0.0 \t 0.0 \t 0.0 \t 0.0 \t 0.0 \t 0.0 \t 0.0 \t 0.0 \t 0.0 \t 0.0 \t 0.0 \t 0.0 \t 0.0 \t 0.0 \t 0.0 \t 0.0 \t 0.0 \t 0.0 \t 0.0 \t 0.0 \t 0.0 \t 0.0 \t 0.0 \t 0.0 \t 1e-04 \t 0.0 \t 0.0 \t 0.0 \t 0.0 \t 0.0 \t 0.0 \t 0.0 \t 0.0 \t 0.0 \t 0.0 \t 0.0 \t 0.0 \t 0.0 \t 0.0 \t 0.0 \t 0.0 \t 0.0 \t 1e-04 \t 0.0 \t 0.0 \t 0.0 \t 0.0 \t 0.0 \t 0.0 \t 0.0 \t 0.0 \t 0.0 \t 0.0 \t 0.0 \t 0.0 \t 0.0 \t 0.0 \t 0.001 \t 0.0 \t 0.0 \t 0.0 \t 0.0 \t 0.0 \t 0.0 \t 0.0 \t 0.0 \t 0.0 \t 0.0 \t 0.0 \t 0.0 \t 0.0 \t 0.000 \t 1e-04 \t 0.0 \t 0.0 \t 0.0 \t 0.0 \t 0.0 \t 0.0 \t[0.995]\t 0.0 \t 0.0 \t 0.0 \t 0.0 \t 0.0 \t 0.0 \t 0.0 \t 0.0 \t 0.0 \t 0.0 \t 0.0 \t 0.0 \t 0.0 \t 0.0 \t 0.0 \t 0.0 \t 0.0  enjoy\n",
            " 0.000 \t 0.0 \t 0.0 \t 0.0 \t 0.0 \t 0.0 \t 0.0 \t 0.0 \t 0.0 \t 0.003 \t 0.0 \t 0.0 \t 0.0 \t 0.0 \t 0.0 \t 0.0 \t 0.0 \t 0.0 \t 0.0 \t 0.0 \t 1e-04 \t 0.0 \t 0.0 \t 0.0 \t 0.0 \t 0.0 \t 0.0 \t 0.0 \t 0.0 \t 0.0 \t 0.0 \t 0.0 \t 0.0 \t 0.0 \t 0.0 \t 0.0 \t 0.0 \t 0.0 \t 0.0 \t 1e-04 \t 0.0 \t 0.0 \t 0.0 \t 0.000 \t 0.0 \t 0.0 \t 0.0 \t 0.0 \t 0.0 \t 0.0 \t 0.0 \t 0.0 \t 0.0 \t 1e-04 \t 0.0 \t 0.0 \t 0.0 \t 0.0 \t 0.0 \t 0.0 \t 0.0 \t 0.0 \t 0.0 \t 0.0 \t 0.0 \t 0.0 \t 0.0 \t 0.0 \t 0.0 \t 0.0 \t 0.0 \t 0.0 \t 0.0 \t 0.0 \t 0.0 \t 0.0 \t 0.0 \t 0.0 \t 0.0 \t 1e-04 \t 0.0 \t 0.0 \t 0.0 \t 0.0 \t 0.0 \t 0.0 \t 0.0 \t 0.0 \t 0.000 \t 0.0 \t 0.0 \t 0.0 \t 0.0 \t 1e-04 \t 0.0 \t 0.0 \t 0.0 \t 0.0 \t 0.0 \t 0.0 \t 0.0 \t 0.0 \t 0.0 \t 0.0 \t 0.0 \t 0.0 \t 1e-04 \t 0.0 \t 0.0 \t 0.0 \t 0.0 \t 0.0 \t 0.0 \t 0.0 \t 0.0 \t 0.0 \t 0.0 \t 0.0 \t 0.0 \t 0.0 \t 0.0 \t 0.004 \t 0.0 \t 0.0 \t 0.0 \t 0.0 \t 0.0 \t 0.0 \t 0.0 \t 0.0 \t 0.0 \t 0.0 \t 0.0 \t 0.0 \t 0.0 \t 0.000 \t 0.000 \t 0.0 \t 0.0 \t 0.0 \t 0.0 \t 0.0 \t 0.0 \t[0.988]\t 1e-04 \t 0.0 \t 0.0 \t 0.0 \t 0.0 \t 0.0 \t 0.0 \t 0.0 \t 0.0 \t 0.0 \t 0.0 \t 0.0 \t 0.0 \t 0.0 \t 0.0 \t 0.0 \t 0.0  watching\n",
            " 0.005 \t 0.0 \t 0.0 \t 0.0 \t 0.0 \t 0.0 \t 0.0 \t 0.0 \t 0.0 \t 0.000 \t 0.0 \t 0.0 \t 0.0 \t 0.0 \t 0.0 \t 0.0 \t 0.0 \t 0.0 \t 0.0 \t 0.0 \t 0.001 \t 0.0 \t 0.0 \t 0.0 \t 0.0 \t 0.0 \t 0.0 \t 0.0 \t 0.0 \t 0.0 \t 0.0 \t 0.0 \t 0.0 \t 0.0 \t 0.0 \t 0.0 \t 0.0 \t 0.0 \t 0.0 \t 0.0 \t 1e-04 \t 0.0 \t 0.0 \t 0.0 \t 0.0 \t 0.0 \t 1e-04 \t 0.0 \t 0.0 \t 0.0 \t 0.0 \t 0.0 \t 0.0 \t 0.0 \t 0.0 \t 0.0 \t 1e-04 \t 0.0 \t 0.0 \t 0.0 \t 0.0 \t 0.0 \t 0.0 \t 1e-04 \t 0.0 \t 0.0 \t 1e-04 \t 0.0 \t 0.0 \t 0.0 \t 0.0 \t 0.0 \t 0.0 \t 0.0 \t 0.0 \t 0.0 \t 0.0 \t 0.0 \t 0.0 \t 0.0 \t 1e-04 \t 0.0 \t 0.0 \t 0.0 \t 0.0 \t 0.0 \t 0.0 \t 0.0 \t 0.003 \t 0.0 \t 0.0 \t 0.0 \t 0.0 \t 0.0 \t 0.0 \t 0.0 \t 0.0 \t 0.0 \t 0.0 \t 0.0 \t 0.0 \t 0.0 \t 0.0 \t 0.0 \t 0.0 \t 0.0 \t 0.003 \t 0.0 \t 0.0 \t 0.0 \t 0.0 \t 0.0 \t 0.0 \t 0.0 \t 1e-04 \t 0.0 \t 0.0 \t 0.0 \t 0.0 \t 0.0 \t 0.000 \t 0.002 \t 0.0 \t 0.0 \t 0.0 \t 0.0 \t 0.0 \t 0.0 \t 0.0 \t 0.0 \t 0.0 \t 0.0 \t 0.0 \t 0.0 \t 0.0 \t 0.001 \t[0.979]\t 0.0 \t 0.0 \t 0.0 \t 0.0 \t 0.0 \t 0.0 \t 0.000 \t 1e-04 \t 0.0 \t 0.0 \t 0.0 \t 0.0 \t 0.0 \t 0.0 \t 0.0 \t 0.0 \t 0.0 \t 0.0 \t 0.0 \t 0.0 \t 0.0 \t 0.0 \t 0.0 \t 1e-04  american\n",
            " 0.006 \t 0.0 \t 0.0 \t 0.0 \t 0.0 \t 0.0 \t 0.0 \t 0.0 \t 0.0 \t 0.001 \t 0.0 \t 0.0 \t 0.0 \t 0.0 \t 0.0 \t 0.0 \t 0.0 \t 0.0 \t 0.0 \t 0.0 \t 0.001 \t 0.0 \t 0.0 \t 0.0 \t 0.0 \t 0.0 \t 0.0 \t 0.0 \t 0.0 \t 0.0 \t 0.0 \t 0.0 \t 0.0 \t 0.0 \t 0.0 \t 0.0 \t 0.0 \t 0.0 \t 0.0 \t 0.0 \t 1e-04 \t 0.0 \t 0.0 \t 1e-04 \t 0.0 \t 0.0 \t 0.000 \t 0.0 \t 0.0 \t 0.0 \t 0.0 \t 0.0 \t 0.0 \t 0.0 \t 0.0 \t 0.0 \t 1e-04 \t 0.0 \t 0.0 \t 0.0 \t 0.0 \t 0.0 \t 0.0 \t 1e-04 \t 0.0 \t 0.0 \t 1e-04 \t 0.0 \t 0.0 \t 0.0 \t 0.0 \t 0.0 \t 0.0 \t 0.0 \t 0.0 \t 0.0 \t 0.0 \t 0.0 \t 0.0 \t 0.0 \t 1e-04 \t 0.0 \t 0.0 \t 0.0 \t 0.0 \t 0.0 \t 0.0 \t 0.0 \t 0.004 \t 0.0 \t 0.0 \t 0.0 \t 0.0 \t 0.0 \t 0.0 \t 0.0 \t 0.0 \t 0.0 \t 0.0 \t 0.0 \t 0.0 \t 0.0 \t 0.0 \t 0.0 \t 0.0 \t 0.0 \t 0.006 \t 0.0 \t 0.0 \t 0.0 \t 0.0 \t 0.0 \t 0.0 \t 0.0 \t 1e-04 \t 0.0 \t 0.0 \t 0.0 \t 0.0 \t 0.0 \t 0.000 \t 0.004 \t 0.0 \t 0.0 \t 0.0 \t 0.0 \t 0.0 \t 0.0 \t 0.0 \t 0.0 \t 0.0 \t 0.0 \t 0.0 \t 0.0 \t 0.0 \t 0.001 \t[0.970]\t 0.0 \t 0.0 \t 0.0 \t 0.0 \t 0.0 \t 0.0 \t 0.000 \t 0.000 \t 0.0 \t 0.0 \t 0.0 \t 0.0 \t 0.0 \t 0.0 \t 0.0 \t 0.0 \t 0.0 \t 0.0 \t 0.0 \t 0.0 \t 0.0 \t 0.0 \t 0.0 \t 0.000  football\n",
            "[0.795]\t 0.0 \t 0.0 \t 0.0 \t 0.0 \t 1e-04 \t 1e-04 \t 0.0 \t 1e-04 \t 0.020 \t 1e-04 \t 0.0 \t 0.0 \t 1e-04 \t 1e-04 \t 0.000 \t 0.000 \t 0.0 \t 0.0 \t 1e-04 \t 0.003 \t 0.0 \t 0.0 \t 0.0 \t 0.0 \t 0.0 \t 0.0 \t 1e-04 \t 0.0 \t 0.000 \t 0.0 \t 0.0 \t 0.0 \t 1e-04 \t 0.0 \t 1e-04 \t 1e-04 \t 0.000 \t 1e-04 \t 0.000 \t 0.000 \t 0.0 \t 1e-04 \t 0.001 \t 0.0 \t 0.000 \t 0.001 \t 0.0 \t 1e-04 \t 0.000 \t 0.0 \t 0.0 \t 1e-04 \t 0.000 \t 1e-04 \t 1e-04 \t 0.000 \t 0.000 \t 0.000 \t 0.0 \t 0.0 \t 1e-04 \t 1e-04 \t 0.000 \t 0.0 \t 1e-04 \t 0.000 \t 1e-04 \t 1e-04 \t 0.0 \t 0.0 \t 1e-04 \t 0.0 \t 0.0 \t 0.0 \t 1e-04 \t 0.0 \t 0.0 \t 0.0 \t 0.000 \t 0.000 \t 1e-04 \t 1e-04 \t 0.0 \t 1e-04 \t 0.0 \t 1e-04 \t 0.000 \t 0.032 \t 1e-04 \t 0.000 \t 0.000 \t 0.0 \t 1e-04 \t 0.0 \t 0.0 \t 0.0 \t 0.0 \t 0.0 \t 0.0 \t 0.0 \t 1e-04 \t 0.0 \t 1e-04 \t 0.0 \t 1e-04 \t 0.020 \t 0.000 \t 0.0 \t 1e-04 \t 1e-04 \t 0.0 \t 1e-04 \t 0.000 \t 0.000 \t 0.0 \t 1e-04 \t 0.0 \t 1e-04 \t 1e-04 \t 0.000 \t 0.026 \t 0.000 \t 0.0 \t 0.0 \t 1e-04 \t 0.0 \t 0.0 \t 0.0 \t 0.0 \t 0.0 \t 0.0 \t 1e-04 \t 1e-04 \t 1e-04 \t 0.022 \t 0.035 \t 1e-04 \t 0.0 \t 1e-04 \t 0.0 \t 1e-04 \t 0.0 \t 0.022 \t 0.001 \t 1e-04 \t 0.000 \t 0.0 \t 0.000 \t 0.0 \t 0.0 \t 1e-04 \t 0.000 \t 0.0 \t 0.0 \t 0.0 \t 0.0 \t 0.0 \t 0.0 \t 1e-04 \t 0.001  but\n",
            " 0.004 \t 0.0 \t 0.0 \t 0.0 \t 0.0 \t 1e-04 \t 0.0 \t 0.0 \t 0.0 \t 0.112 \t 0.0 \t 0.0 \t 0.0 \t 1e-04 \t 0.0 \t 1e-04 \t 1e-04 \t 1e-04 \t 0.0 \t 1e-04 \t 0.001 \t 0.0 \t 0.0 \t 0.0 \t 0.0 \t 0.0 \t 0.0 \t 1e-04 \t 0.0 \t 1e-04 \t 0.0 \t 0.0 \t 0.0 \t 0.000 \t 1e-04 \t 0.0 \t 1e-04 \t 1e-04 \t 1e-04 \t 0.000 \t 0.000 \t 0.0 \t 0.0 \t 0.001 \t 0.0 \t 0.000 \t 0.000 \t 0.0 \t 0.0 \t 1e-04 \t 0.0 \t 0.0 \t 1e-04 \t 0.000 \t 0.0 \t 1e-04 \t 1e-04 \t 1e-04 \t 1e-04 \t 0.0 \t 0.0 \t 0.0 \t 0.0 \t 0.000 \t 0.0 \t 1e-04 \t 0.000 \t 0.0 \t 0.0 \t 0.0 \t 0.0 \t 0.0 \t 0.0 \t 0.0 \t 0.0 \t 1e-04 \t 0.0 \t 1e-04 \t 0.0 \t 0.000 \t 0.000 \t 0.0 \t 1e-04 \t 0.0 \t 0.0 \t 0.0 \t 1e-04 \t 0.000 \t 0.003 \t 1e-04 \t 1e-04 \t 1e-04 \t 0.0 \t 0.000 \t 0.0 \t 0.0 \t 0.0 \t 0.0 \t 0.0 \t 0.0 \t 0.0 \t 1e-04 \t 0.0 \t 1e-04 \t 0.0 \t 1e-04 \t 0.002 \t 1e-04 \t 0.0 \t 1e-04 \t 0.0 \t 0.0 \t 0.0 \t 0.000 \t 1e-04 \t 0.0 \t 1e-04 \t 1e-04 \t 1e-04 \t 1e-04 \t 1e-04 \t[0.525]\t 1e-04 \t 0.0 \t 0.0 \t 1e-04 \t 0.0 \t 0.0 \t 0.0 \t 1e-04 \t 0.0 \t 0.0 \t 0.0 \t 1e-04 \t 0.0 \t 0.013 \t 0.002 \t 0.0 \t 0.0 \t 1e-04 \t 0.0 \t 1e-04 \t 0.0 \t 0.319 \t 0.000 \t 0.0 \t 1e-04 \t 0.0 \t 1e-04 \t 0.0 \t 0.0 \t 1e-04 \t 1e-04 \t 0.0 \t 0.0 \t 0.0 \t 0.0 \t 0.0 \t 0.0 \t 0.0 \t 1e-04  don\n",
            " 0.000 \t 0.0 \t 0.0 \t 0.0 \t 0.0 \t 0.0 \t 0.0 \t 0.0 \t 0.0 \t 1e-04 \t 0.0 \t 0.0 \t 0.0 \t 0.0 \t 0.0 \t 0.0 \t 0.0 \t 0.0 \t 0.0 \t 0.0 \t 1e-04 \t 0.0 \t 0.0 \t 0.0 \t 0.0 \t 0.0 \t 0.0 \t 0.0 \t 0.0 \t 0.0 \t 0.0 \t 0.0 \t 0.0 \t 0.0 \t 0.0 \t 0.0 \t 0.0 \t 0.0 \t 0.0 \t 0.0 \t 0.0 \t 0.0 \t 0.0 \t 0.0 \t 0.0 \t 0.0 \t 0.0 \t 0.0 \t 0.0 \t 0.0 \t 0.0 \t 0.0 \t 0.0 \t 0.0 \t 0.0 \t 0.0 \t 0.0 \t 0.0 \t 0.0 \t 0.0 \t 0.0 \t 0.0 \t 0.0 \t 0.0 \t 0.0 \t 0.0 \t 0.0 \t 0.0 \t 0.0 \t 0.0 \t 0.0 \t 0.0 \t 0.0 \t 0.0 \t 0.0 \t 0.0 \t 0.0 \t 0.0 \t 0.0 \t 0.0 \t 0.0 \t 0.0 \t 0.0 \t 0.0 \t 0.0 \t 0.0 \t 0.0 \t 0.0 \t 0.000 \t 0.0 \t 0.0 \t 0.0 \t 0.0 \t 0.0 \t 0.0 \t 0.0 \t 0.0 \t 0.0 \t 0.0 \t 0.0 \t 0.0 \t 0.0 \t 0.0 \t 0.0 \t 0.0 \t 0.0 \t 0.000 \t 0.0 \t 0.0 \t 0.0 \t 0.0 \t 0.0 \t 0.0 \t 0.0 \t 0.0 \t 0.0 \t 0.0 \t 0.0 \t 0.0 \t 0.0 \t 0.0 \t 1e-04 \t 0.0 \t 0.0 \t 0.0 \t 0.0 \t 0.0 \t 0.0 \t 0.0 \t 0.0 \t 0.0 \t 0.0 \t 0.0 \t 0.0 \t 0.0 \t 1e-04 \t[0.998]\t 0.0 \t 0.0 \t 0.0 \t 0.0 \t 0.0 \t 0.0 \t 0.0 \t 0.0 \t 0.0 \t 0.0 \t 0.0 \t 0.0 \t 0.0 \t 0.0 \t 0.0 \t 0.0 \t 0.0 \t 0.0 \t 0.0 \t 0.0 \t 0.0 \t 0.0 \t 0.0 \t 0.0  '\n",
            "[0.324]\t 0.0 \t 0.0 \t 1e-04 \t 1e-04 \t 0.000 \t 1e-04 \t 1e-04 \t 1e-04 \t 0.068 \t 1e-04 \t 0.0 \t 1e-04 \t 1e-04 \t 0.000 \t 0.000 \t 0.000 \t 1e-04 \t 1e-04 \t 0.000 \t 0.008 \t 0.0 \t 0.0 \t 0.0 \t 1e-04 \t 1e-04 \t 0.0 \t 0.000 \t 1e-04 \t 0.000 \t 0.0 \t 1e-04 \t 0.0 \t 0.000 \t 0.000 \t 1e-04 \t 0.000 \t 1e-04 \t 1e-04 \t 0.000 \t 0.001 \t 0.0 \t 0.0 \t 0.001 \t 1e-04 \t 0.000 \t 0.002 \t 1e-04 \t 0.000 \t 0.000 \t 1e-04 \t 0.0 \t 0.000 \t 0.001 \t 1e-04 \t 0.000 \t 0.001 \t 1e-04 \t 1e-04 \t 0.0 \t 1e-04 \t 1e-04 \t 0.000 \t 0.001 \t 1e-04 \t 0.000 \t 0.000 \t 1e-04 \t 1e-04 \t 0.0 \t 0.0 \t 1e-04 \t 0.0 \t 1e-04 \t 1e-04 \t 0.000 \t 0.0 \t 1e-04 \t 1e-04 \t 0.000 \t 0.002 \t 1e-04 \t 1e-04 \t 0.0 \t 0.000 \t 1e-04 \t 1e-04 \t 0.000 \t 0.097 \t 1e-04 \t 0.000 \t 0.000 \t 1e-04 \t 0.000 \t 0.0 \t 1e-04 \t 0.0 \t 0.0 \t 0.0 \t 1e-04 \t 0.0 \t 0.0 \t 0.0 \t 1e-04 \t 1e-04 \t 1e-04 \t 0.029 \t 1e-04 \t 0.0 \t 1e-04 \t 1e-04 \t 1e-04 \t 0.000 \t 0.000 \t 0.001 \t 1e-04 \t 0.000 \t 1e-04 \t 1e-04 \t 0.000 \t 0.000 \t 0.157 \t 0.000 \t 0.0 \t 1e-04 \t 0.000 \t 0.0 \t 1e-04 \t 0.0 \t 0.0 \t 1e-04 \t 0.0 \t 1e-04 \t 1e-04 \t 0.000 \t 0.016 \t 0.234 \t 1e-04 \t 1e-04 \t 1e-04 \t 0.0 \t 1e-04 \t 0.0 \t 0.027 \t 0.002 \t 0.000 \t 0.000 \t 0.0 \t 0.000 \t 0.0 \t 0.0 \t 1e-04 \t 0.000 \t 0.0 \t 1e-04 \t 0.000 \t 0.0 \t 1e-04 \t 1e-04 \t 0.000 \t 0.001  t\n",
            " 0.000 \t 0.0 \t 0.0 \t 0.0 \t 0.0 \t 0.0 \t 0.0 \t 0.0 \t 0.0 \t 0.001 \t 0.0 \t 0.0 \t 0.0 \t 0.0 \t 0.0 \t 0.0 \t 0.0 \t 0.0 \t 0.0 \t 0.0 \t 0.0 \t 0.0 \t 0.0 \t 0.0 \t 0.0 \t 0.0 \t 0.0 \t 0.0 \t 0.0 \t 0.0 \t 0.0 \t 0.0 \t 0.0 \t 0.0 \t 0.0 \t 0.0 \t 0.0 \t 0.0 \t 0.0 \t 1e-04 \t 0.0 \t 0.0 \t 0.0 \t 1e-04 \t 0.0 \t 0.0 \t 0.0 \t 0.0 \t 0.0 \t 0.0 \t 0.0 \t 0.0 \t 0.0 \t 0.0 \t 0.0 \t 0.0 \t 0.0 \t 0.0 \t 0.0 \t 0.0 \t 0.0 \t 0.0 \t 0.0 \t 0.0 \t 0.0 \t 0.0 \t 0.0 \t 0.0 \t 0.0 \t 0.0 \t 0.0 \t 0.0 \t 0.0 \t 0.0 \t 0.0 \t 0.0 \t 0.0 \t 0.0 \t 0.0 \t 0.0 \t 0.0 \t 0.0 \t 0.0 \t 0.0 \t 0.0 \t 0.0 \t 0.0 \t 0.0 \t 1e-04 \t 0.0 \t 0.0 \t 0.0 \t 0.0 \t 0.0 \t 0.0 \t 0.0 \t 0.0 \t 0.0 \t 0.0 \t 0.0 \t 0.0 \t 0.0 \t 0.0 \t 0.0 \t 0.0 \t 0.0 \t 1e-04 \t 0.0 \t 0.0 \t 0.0 \t 0.0 \t 0.0 \t 0.0 \t 0.0 \t 0.0 \t 0.0 \t 0.0 \t 0.0 \t 0.0 \t 0.0 \t 0.0 \t 0.001 \t 0.0 \t 0.0 \t 0.0 \t 0.0 \t 0.0 \t 0.0 \t 0.0 \t 0.0 \t 0.0 \t 0.0 \t 0.0 \t 0.0 \t 0.0 \t 0.000 \t 1e-04 \t 0.0 \t 0.0 \t 0.0 \t 0.0 \t 0.0 \t 0.0 \t[0.995]\t 0.0 \t 0.0 \t 0.0 \t 0.0 \t 0.0 \t 0.0 \t 0.0 \t 0.0 \t 0.0 \t 0.0 \t 0.0 \t 0.0 \t 0.0 \t 0.0 \t 0.0 \t 0.0 \t 0.0  like\n",
            " 0.000 \t 0.0 \t 0.0 \t 0.0 \t 0.0 \t 0.0 \t 0.0 \t 0.0 \t 0.0 \t 0.000 \t 0.0 \t 0.0 \t 0.0 \t 0.0 \t 0.0 \t 0.0 \t 0.0 \t 0.0 \t 0.0 \t 0.0 \t 0.000 \t 0.0 \t 0.0 \t 0.0 \t 0.0 \t 0.0 \t 0.0 \t 0.0 \t 0.0 \t 0.0 \t 0.0 \t 0.0 \t 0.0 \t 0.0 \t 0.0 \t 0.0 \t 0.0 \t 0.0 \t 0.0 \t 0.0 \t 1e-04 \t 0.0 \t 0.0 \t 1e-04 \t 0.0 \t 0.0 \t 0.000 \t 0.0 \t 0.0 \t 0.0 \t 0.0 \t 0.0 \t 0.0 \t 0.0 \t 0.0 \t 0.0 \t 1e-04 \t 0.0 \t 0.0 \t 0.0 \t 0.0 \t 0.0 \t 0.0 \t 0.0 \t 0.0 \t 0.0 \t 0.0 \t 0.0 \t 0.0 \t 0.0 \t 0.0 \t 0.0 \t 0.0 \t 0.0 \t 0.0 \t 0.0 \t 0.0 \t 0.0 \t 0.0 \t 0.0 \t 0.000 \t 0.0 \t 0.0 \t 0.0 \t 0.0 \t 0.0 \t 0.0 \t 0.0 \t[0.989]\t 0.0 \t 0.0 \t 0.0 \t 0.0 \t 0.0 \t 0.0 \t 0.0 \t 0.0 \t 0.0 \t 0.0 \t 0.0 \t 0.0 \t 0.0 \t 0.0 \t 0.0 \t 0.0 \t 0.0 \t 0.000 \t 0.0 \t 0.0 \t 0.0 \t 0.0 \t 0.0 \t 0.0 \t 0.0 \t 1e-04 \t 0.0 \t 0.0 \t 0.0 \t 0.0 \t 0.0 \t 0.0 \t 0.002 \t 0.0 \t 0.0 \t 0.0 \t 0.0 \t 0.0 \t 0.0 \t 0.0 \t 0.0 \t 0.0 \t 0.0 \t 0.0 \t 0.0 \t 0.0 \t 0.000 \t 0.001 \t 0.0 \t 0.0 \t 0.0 \t 0.0 \t 0.0 \t 0.0 \t 0.000 \t 0.000 \t 0.0 \t 0.0 \t 0.0 \t 0.0 \t 0.0 \t 0.0 \t 0.0 \t 0.0 \t 0.0 \t 0.0 \t 0.0 \t 0.0 \t 0.0 \t 0.0 \t 0.0 \t 1e-04  to\n",
            " 0.004 \t 0.0 \t 0.0 \t 0.0 \t 0.0 \t 1e-04 \t 0.0 \t 0.0 \t 0.0 \t 0.108 \t 0.0 \t 0.0 \t 0.0 \t 1e-04 \t 0.0 \t 0.000 \t 0.000 \t 1e-04 \t 0.0 \t 1e-04 \t 0.002 \t 0.0 \t 0.0 \t 0.0 \t 0.0 \t 0.0 \t 0.0 \t 1e-04 \t 0.0 \t 0.000 \t 0.0 \t 1e-04 \t 0.0 \t 1e-04 \t 0.0 \t 0.0 \t 1e-04 \t 1e-04 \t 0.0 \t 0.000 \t 0.000 \t 0.0 \t 0.0 \t 0.000 \t 0.0 \t 1e-04 \t 0.000 \t 0.0 \t 1e-04 \t 1e-04 \t 0.0 \t 0.0 \t 0.000 \t 0.000 \t 1e-04 \t 1e-04 \t 0.000 \t 1e-04 \t 1e-04 \t 0.0 \t 0.0 \t 1e-04 \t 1e-04 \t 0.000 \t 1e-04 \t 0.0 \t 0.000 \t 0.0 \t 0.0 \t 0.0 \t 0.0 \t 0.0 \t 0.0 \t 0.0 \t 0.0 \t 0.0 \t 0.0 \t 1e-04 \t 0.0 \t 0.000 \t 0.000 \t 1e-04 \t 0.0 \t 0.0 \t 0.0 \t 0.0 \t 1e-04 \t 0.000 \t 0.003 \t 1e-04 \t 1e-04 \t 1e-04 \t 0.0 \t 0.000 \t 0.0 \t 0.0 \t 0.0 \t 0.0 \t 0.0 \t 1e-04 \t 0.0 \t 0.0 \t 0.0 \t 1e-04 \t 1e-04 \t 0.000 \t 0.009 \t 1e-04 \t 0.0 \t 1e-04 \t 0.0 \t 0.0 \t 0.0 \t 0.000 \t 0.000 \t 0.0 \t 0.0 \t 0.000 \t 0.0 \t 1e-04 \t 0.000 \t[0.815]\t 1e-04 \t 0.0 \t 0.0 \t 1e-04 \t 0.0 \t 0.0 \t 0.0 \t 0.0 \t 0.0 \t 0.0 \t 0.0 \t 0.0 \t 1e-04 \t 0.007 \t 0.010 \t 0.0 \t 0.0 \t 0.0 \t 0.0 \t 0.0 \t 0.0 \t 0.023 \t 0.000 \t 0.0 \t 1e-04 \t 0.0 \t 1e-04 \t 0.0 \t 0.0 \t 0.0 \t 1e-04 \t 0.0 \t 0.0 \t 0.0 \t 0.0 \t 0.0 \t 0.0 \t 1e-04 \t 0.000  make\n",
            " 0.000 \t 0.0 \t 0.0 \t 0.0 \t 0.0 \t 0.0 \t 0.0 \t 0.0 \t 0.0 \t 0.004 \t 0.0 \t 0.0 \t 0.0 \t 0.0 \t 0.0 \t 0.0 \t 0.0 \t 0.0 \t 0.0 \t 0.0 \t 1e-04 \t 0.0 \t 0.0 \t 0.0 \t 0.0 \t 0.0 \t 0.0 \t 0.0 \t 0.0 \t 0.0 \t 0.0 \t 0.0 \t 0.0 \t 0.0 \t 0.0 \t 0.0 \t 0.0 \t 0.0 \t 0.0 \t 1e-04 \t 1e-04 \t 0.0 \t 0.0 \t 0.000 \t 0.0 \t 0.0 \t 0.0 \t 0.0 \t 0.0 \t 0.0 \t 0.0 \t 0.0 \t 0.0 \t 1e-04 \t 0.0 \t 0.0 \t 0.0 \t 0.0 \t 0.0 \t 0.0 \t 0.0 \t 0.0 \t 0.0 \t 0.0 \t 0.0 \t 0.0 \t 0.0 \t 0.0 \t 0.0 \t 0.0 \t 0.0 \t 0.0 \t 0.0 \t 0.0 \t 0.0 \t 0.0 \t 0.0 \t 0.0 \t 0.0 \t 1e-04 \t 1e-04 \t 0.0 \t 0.0 \t 0.0 \t 0.0 \t 0.0 \t 0.0 \t 1e-04 \t 0.000 \t 0.0 \t 0.0 \t 0.0 \t 0.0 \t 1e-04 \t 0.0 \t 0.0 \t 0.0 \t 0.0 \t 0.0 \t 0.0 \t 0.0 \t 0.0 \t 0.0 \t 0.0 \t 0.0 \t 0.0 \t 0.000 \t 0.0 \t 0.0 \t 0.0 \t 0.0 \t 0.0 \t 0.0 \t 1e-04 \t 0.0 \t 0.0 \t 0.0 \t 0.0 \t 0.0 \t 0.0 \t 0.0 \t 0.007 \t 0.0 \t 0.0 \t 0.0 \t 0.0 \t 0.0 \t 0.0 \t 0.0 \t 0.0 \t 0.0 \t 0.0 \t 0.0 \t 0.0 \t 0.0 \t 0.002 \t 0.000 \t 0.0 \t 0.0 \t 0.0 \t 0.0 \t 0.0 \t 0.0 \t[0.981]\t 0.000 \t 0.0 \t 0.0 \t 0.0 \t 0.0 \t 0.0 \t 0.0 \t 0.0 \t 0.0 \t 0.0 \t 0.0 \t 0.0 \t 0.0 \t 0.0 \t 0.0 \t 0.0 \t 0.0  homework\n",
            "[0.987]\t 0.0 \t 0.0 \t 0.0 \t 0.0 \t 1e-04 \t 0.0 \t 0.0 \t 0.0 \t 0.001 \t 0.0 \t 0.0 \t 0.0 \t 0.0 \t 0.0 \t 0.0 \t 1e-04 \t 0.0 \t 0.0 \t 0.0 \t 0.000 \t 0.0 \t 0.0 \t 0.0 \t 0.0 \t 0.0 \t 0.0 \t 0.0 \t 0.0 \t 0.0 \t 0.0 \t 0.0 \t 0.0 \t 0.0 \t 0.0 \t 0.0 \t 0.0 \t 0.0 \t 0.0 \t 0.0 \t 1e-04 \t 0.0 \t 0.0 \t 0.000 \t 0.0 \t 0.0 \t 0.000 \t 0.0 \t 0.0 \t 0.0 \t 0.0 \t 0.0 \t 0.0 \t 1e-04 \t 0.0 \t 0.0 \t 1e-04 \t 0.0 \t 0.0 \t 0.0 \t 0.0 \t 0.0 \t 0.0 \t 1e-04 \t 0.0 \t 0.0 \t 0.0 \t 0.0 \t 0.0 \t 0.0 \t 0.0 \t 0.0 \t 0.0 \t 0.0 \t 0.0 \t 0.0 \t 0.0 \t 0.0 \t 0.0 \t 1e-04 \t 1e-04 \t 0.0 \t 0.0 \t 0.0 \t 0.0 \t 0.0 \t 0.0 \t 0.0 \t 0.000 \t 0.0 \t 0.0 \t 0.0 \t 0.0 \t 1e-04 \t 0.0 \t 0.0 \t 0.0 \t 0.0 \t 0.0 \t 0.0 \t 0.0 \t 0.0 \t 0.0 \t 0.0 \t 0.0 \t 0.0 \t 0.000 \t 0.0 \t 0.0 \t 0.0 \t 0.0 \t 0.0 \t 0.0 \t 1e-04 \t 1e-04 \t 0.0 \t 0.0 \t 0.0 \t 0.0 \t 0.0 \t 1e-04 \t 0.000 \t 0.0 \t 0.0 \t 0.0 \t 0.0 \t 0.0 \t 0.0 \t 0.0 \t 0.0 \t 0.0 \t 0.0 \t 0.0 \t 0.0 \t 0.0 \t 0.000 \t 0.002 \t 0.0 \t 0.0 \t 0.0 \t 0.0 \t 0.0 \t 0.0 \t 0.001 \t 1e-04 \t 0.0 \t 0.0 \t 0.0 \t 0.0 \t 0.0 \t 0.0 \t 0.0 \t 0.0 \t 0.0 \t 0.0 \t 0.0 \t 0.0 \t 0.0 \t 0.0 \t 0.0 \t 1e-04  [SEP]\n",
            " 0.061 \t 1e-04 \t 1e-04 \t 0.000 \t 1e-04 \t 0.000 \t 0.000 \t 0.000 \t 0.000 \t 0.170 \t 0.000 \t 0.0 \t 1e-04 \t 0.000 \t 0.000 \t 0.000 \t 0.000 \t 0.000 \t 1e-04 \t 0.000 \t 0.012 \t 1e-04 \t 1e-04 \t 1e-04 \t 1e-04 \t 1e-04 \t 1e-04 \t 0.000 \t 1e-04 \t 0.000 \t 1e-04 \t 1e-04 \t 1e-04 \t 0.000 \t 1e-04 \t 0.000 \t 0.000 \t 0.000 \t 0.000 \t 0.001 \t 0.003 \t 1e-04 \t 0.000 \t 0.006 \t 0.000 \t 0.000 \t 0.002 \t 1e-04 \t 0.000 \t 0.000 \t 1e-04 \t 1e-04 \t 0.000 \t 0.001 \t 0.000 \t 0.000 \t 0.000 \t 0.000 \t 0.000 \t 1e-04 \t 1e-04 \t 0.000 \t 0.000 \t 0.002 \t 0.000 \t 0.000 \t 0.002 \t 1e-04 \t 0.000 \t 1e-04 \t 0.0 \t 0.000 \t 0.000 \t 1e-04 \t 0.000 \t 0.000 \t 0.0 \t 0.000 \t 1e-04 \t 0.002 \t 0.005 \t 0.000 \t 0.000 \t 1e-04 \t 0.000 \t 0.000 \t 0.000 \t 0.001 \t 0.085 \t 0.000 \t 0.000 \t 0.000 \t 1e-04 \t 0.002 \t 0.0 \t 0.000 \t 1e-04 \t 1e-04 \t 1e-04 \t 0.000 \t 1e-04 \t 0.000 \t 1e-04 \t 0.000 \t 0.000 \t 0.000 \t 0.036 \t 0.000 \t 1e-04 \t 0.000 \t 1e-04 \t 1e-04 \t 0.000 \t 0.001 \t 0.000 \t 1e-04 \t 0.000 \t 0.000 \t 0.000 \t 0.000 \t 0.000 \t[0.244]\t 0.000 \t 1e-04 \t 1e-04 \t 0.000 \t 0.0 \t 1e-04 \t 1e-04 \t 1e-04 \t 0.000 \t 0.0 \t 0.000 \t 0.000 \t 0.000 \t 0.032 \t 0.055 \t 0.000 \t 1e-04 \t 0.000 \t 1e-04 \t 0.000 \t 1e-04 \t 0.228 \t 0.005 \t 1e-04 \t 0.000 \t 1e-04 \t 0.001 \t 1e-04 \t 0.0 \t 0.000 \t 0.000 \t 1e-04 \t 0.0 \t 1e-04 \t 1e-04 \t 1e-04 \t 1e-04 \t 0.000 \t 0.001  what\n",
            " 0.012 \t 1e-04 \t 0.0 \t 0.0 \t 0.0 \t 1e-04 \t 1e-04 \t 1e-04 \t 0.0 \t 0.026 \t 1e-04 \t 0.0 \t 1e-04 \t 1e-04 \t 1e-04 \t 0.000 \t 0.000 \t 0.0 \t 1e-04 \t 1e-04 \t 0.003 \t 0.0 \t 1e-04 \t 0.0 \t 0.0 \t 0.0 \t 0.0 \t 1e-04 \t 0.0 \t 0.000 \t 0.0 \t 0.0 \t 0.0 \t 0.000 \t 1e-04 \t 0.0 \t 1e-04 \t 1e-04 \t 1e-04 \t 0.000 \t 0.001 \t 0.0 \t 0.0 \t 0.001 \t 0.0 \t 1e-04 \t 0.000 \t 0.0 \t 1e-04 \t 1e-04 \t 0.0 \t 0.0 \t 0.000 \t 0.000 \t 0.0 \t 0.000 \t 0.000 \t 0.0 \t 1e-04 \t 0.0 \t 0.0 \t 0.0 \t 1e-04 \t 0.001 \t 1e-04 \t 1e-04 \t 0.000 \t 1e-04 \t 1e-04 \t 1e-04 \t 0.0 \t 0.0 \t 0.0 \t 0.0 \t 0.0 \t 1e-04 \t 0.0 \t 1e-04 \t 0.0 \t 0.000 \t 0.001 \t 1e-04 \t 1e-04 \t 0.0 \t 1e-04 \t 1e-04 \t 1e-04 \t 0.000 \t 0.019 \t 1e-04 \t 0.000 \t 0.000 \t 1e-04 \t 0.000 \t 0.0 \t 0.0 \t 0.0 \t 0.0 \t 0.0 \t 0.0 \t 0.0 \t 0.0 \t 0.0 \t 0.000 \t 0.0 \t 0.000 \t 0.012 \t 1e-04 \t 0.0 \t 0.0 \t 0.0 \t 0.0 \t 1e-04 \t 0.000 \t 0.000 \t 0.0 \t 1e-04 \t 0.000 \t 1e-04 \t 1e-04 \t 0.000 \t[0.789]\t 0.000 \t 0.0 \t 0.0 \t 1e-04 \t 0.0 \t 0.0 \t 0.0 \t 0.0 \t 1e-04 \t 0.0 \t 1e-04 \t 0.0 \t 1e-04 \t 0.032 \t 0.074 \t 1e-04 \t 0.0 \t 0.0 \t 0.0 \t 1e-04 \t 0.0 \t 0.008 \t 0.000 \t 0.0 \t 1e-04 \t 0.0 \t 1e-04 \t 0.0 \t 0.0 \t 0.0 \t 1e-04 \t 0.0 \t 0.0 \t 0.0 \t 1e-04 \t 1e-04 \t 1e-04 \t 1e-04 \t 0.000  does\n",
            " 0.007 \t 0.0 \t 0.0 \t 0.0 \t 0.0 \t 1e-04 \t 0.0 \t 0.0 \t 0.0 \t 0.011 \t 0.0 \t 0.0 \t 0.0 \t 0.0 \t 0.0 \t 0.000 \t 1e-04 \t 1e-04 \t 0.0 \t 0.000 \t 0.000 \t 0.0 \t 0.0 \t 0.0 \t 0.0 \t 0.0 \t 0.0 \t 1e-04 \t 0.0 \t 0.0 \t 0.0 \t 0.0 \t 0.0 \t 0.000 \t 0.0 \t 1e-04 \t 1e-04 \t 1e-04 \t 1e-04 \t 0.000 \t 0.000 \t 0.0 \t 0.0 \t 0.002 \t 1e-04 \t 1e-04 \t 1e-04 \t 0.0 \t 1e-04 \t 1e-04 \t 0.0 \t 0.0 \t 0.0 \t 0.000 \t 0.0 \t 1e-04 \t 0.0 \t 1e-04 \t 1e-04 \t 0.0 \t 0.0 \t 0.0 \t 0.0 \t 0.000 \t 1e-04 \t 0.0 \t 1e-04 \t 0.0 \t 0.0 \t 0.0 \t 0.0 \t 1e-04 \t 0.0 \t 0.0 \t 0.0 \t 0.0 \t 0.0 \t 1e-04 \t 0.0 \t 0.000 \t 0.000 \t 1e-04 \t 1e-04 \t 0.0 \t 0.0 \t 0.0 \t 1e-04 \t 0.000 \t 0.004 \t 1e-04 \t 1e-04 \t 1e-04 \t 0.0 \t 0.000 \t 0.0 \t 0.0 \t 0.0 \t 0.0 \t 0.0 \t 0.0 \t 0.0 \t 1e-04 \t 0.0 \t 1e-04 \t 1e-04 \t 1e-04 \t 0.001 \t 1e-04 \t 0.0 \t 1e-04 \t 0.0 \t 0.0 \t 0.0 \t 0.000 \t 1e-04 \t 0.0 \t 0.0 \t 1e-04 \t 0.0 \t 1e-04 \t 1e-04 \t 0.034 \t 0.0 \t 0.0 \t 0.0 \t 0.000 \t 0.0 \t 0.0 \t 0.0 \t 1e-04 \t 0.0 \t 0.0 \t 0.0 \t 1e-04 \t 0.0 \t 0.008 \t 0.002 \t 0.0 \t 0.0 \t 1e-04 \t 0.0 \t 1e-04 \t 0.0 \t[0.917]\t 0.001 \t 0.0 \t 1e-04 \t 0.0 \t 1e-04 \t 0.0 \t 0.0 \t 1e-04 \t 1e-04 \t 0.0 \t 0.0 \t 0.0 \t 0.0 \t 0.0 \t 0.0 \t 1e-04 \t 1e-04  mike\n",
            " 0.007 \t 0.0 \t 0.0 \t 0.0 \t 0.0 \t 1e-04 \t 0.0 \t 0.0 \t 1e-04 \t 0.071 \t 1e-04 \t 0.0 \t 0.0 \t 1e-04 \t 0.0 \t 0.000 \t 1e-04 \t 0.0 \t 0.0 \t 1e-04 \t 0.001 \t 0.0 \t 0.0 \t 0.0 \t 0.0 \t 0.0 \t 0.0 \t 1e-04 \t 0.0 \t 1e-04 \t 0.0 \t 1e-04 \t 0.0 \t 0.000 \t 1e-04 \t 1e-04 \t 0.0 \t 1e-04 \t 0.0 \t 0.000 \t 0.000 \t 0.0 \t 0.0 \t 0.002 \t 0.0 \t 0.000 \t 0.000 \t 0.0 \t 0.0 \t 0.000 \t 0.0 \t 0.0 \t 1e-04 \t 0.001 \t 0.0 \t 0.000 \t 1e-04 \t 1e-04 \t 1e-04 \t 0.0 \t 0.0 \t 1e-04 \t 0.0 \t 0.000 \t 0.0 \t 1e-04 \t 1e-04 \t 0.0 \t 0.0 \t 0.0 \t 0.0 \t 0.0 \t 0.0 \t 0.0 \t 0.0 \t 0.0 \t 0.0 \t 1e-04 \t 0.0 \t 0.000 \t 0.000 \t 0.0 \t 1e-04 \t 0.0 \t 0.0 \t 0.0 \t 1e-04 \t 0.000 \t 0.003 \t 1e-04 \t 1e-04 \t 0.000 \t 0.0 \t 0.001 \t 0.0 \t 1e-04 \t 0.0 \t 0.0 \t 0.0 \t 0.0 \t 0.0 \t 0.0 \t 0.0 \t 1e-04 \t 0.0 \t 0.000 \t 0.001 \t 1e-04 \t 0.0 \t 1e-04 \t 0.0 \t 0.0 \t 1e-04 \t 0.000 \t 1e-04 \t 1e-04 \t 0.0 \t 1e-04 \t 0.0 \t 1e-04 \t 0.000 \t 0.073 \t 1e-04 \t 0.0 \t 0.0 \t 1e-04 \t 0.0 \t 0.0 \t 0.0 \t 0.0 \t 1e-04 \t 0.0 \t 0.0 \t 1e-04 \t 0.0 \t 0.006 \t 0.003 \t 0.0 \t 0.0 \t 1e-04 \t 0.0 \t 1e-04 \t 0.0 \t[0.813]\t 0.000 \t 0.0 \t 1e-04 \t 0.0 \t 1e-04 \t 0.0 \t 0.0 \t 0.0 \t 1e-04 \t 0.0 \t 0.0 \t 0.0 \t 0.0 \t 1e-04 \t 0.0 \t 0.0 \t 1e-04  want\n",
            " 0.000 \t 0.0 \t 0.0 \t 0.0 \t 0.0 \t 0.0 \t 0.0 \t 0.0 \t 0.0 \t 0.000 \t 0.0 \t 0.0 \t 0.0 \t 0.0 \t 0.0 \t 0.0 \t 0.0 \t 0.0 \t 0.0 \t 0.0 \t 0.000 \t 0.0 \t 0.0 \t 0.0 \t 0.0 \t 0.0 \t 0.0 \t 0.0 \t 0.0 \t 0.0 \t 0.0 \t 0.0 \t 0.0 \t 0.0 \t 0.0 \t 0.0 \t 0.0 \t 0.0 \t 0.0 \t 0.0 \t 1e-04 \t 0.0 \t 0.0 \t 0.0 \t 0.0 \t 0.0 \t 0.000 \t 0.0 \t 0.0 \t 0.0 \t 0.0 \t 0.0 \t 0.0 \t 0.0 \t 0.0 \t 0.0 \t 1e-04 \t 0.0 \t 0.0 \t 0.0 \t 0.0 \t 0.0 \t 0.0 \t 0.0 \t 0.0 \t 0.0 \t 0.0 \t 0.0 \t 0.0 \t 0.0 \t 0.0 \t 0.0 \t 0.0 \t 0.0 \t 0.0 \t 0.0 \t 0.0 \t 0.0 \t 0.0 \t 0.0 \t 0.000 \t 0.0 \t 0.0 \t 0.0 \t 0.0 \t 0.0 \t 0.0 \t 0.0 \t[0.989]\t 0.0 \t 0.0 \t 0.0 \t 0.0 \t 0.0 \t 0.0 \t 0.0 \t 0.0 \t 0.0 \t 0.0 \t 0.0 \t 0.0 \t 0.0 \t 0.0 \t 0.0 \t 0.0 \t 0.0 \t 0.001 \t 0.0 \t 0.0 \t 0.0 \t 0.0 \t 0.0 \t 0.0 \t 0.0 \t 1e-04 \t 0.0 \t 0.0 \t 0.0 \t 0.0 \t 0.0 \t 0.0 \t 0.002 \t 0.0 \t 0.0 \t 0.0 \t 0.0 \t 0.0 \t 0.0 \t 0.0 \t 0.0 \t 0.0 \t 0.0 \t 0.0 \t 0.0 \t 0.0 \t 0.001 \t 0.001 \t 0.0 \t 0.0 \t 0.0 \t 0.0 \t 0.0 \t 0.0 \t 0.000 \t 0.000 \t 0.0 \t 0.0 \t 0.0 \t 0.0 \t 0.0 \t 0.0 \t 0.0 \t 0.0 \t 0.0 \t 0.0 \t 0.0 \t 0.0 \t 0.0 \t 0.0 \t 0.0 \t 1e-04  to\n",
            " 0.001 \t 0.0 \t 0.0 \t 0.0 \t 0.0 \t 0.0 \t 0.0 \t 0.0 \t 0.0 \t 0.004 \t 0.0 \t 0.0 \t 0.0 \t 0.0 \t 0.0 \t 0.0 \t 1e-04 \t 0.0 \t 0.0 \t 0.0 \t 0.001 \t 0.0 \t 0.0 \t 0.0 \t 0.0 \t 0.0 \t 0.0 \t 0.0 \t 0.0 \t 1e-04 \t 0.0 \t 0.0 \t 0.0 \t 0.0 \t 0.0 \t 0.0 \t 0.0 \t 0.0 \t 0.0 \t 1e-04 \t 0.000 \t 0.0 \t 0.0 \t 0.000 \t 0.0 \t 0.0 \t 1e-04 \t 0.0 \t 0.0 \t 0.0 \t 0.0 \t 0.0 \t 1e-04 \t 1e-04 \t 0.0 \t 0.0 \t 0.000 \t 0.0 \t 0.0 \t 0.0 \t 0.0 \t 0.0 \t 0.0 \t 0.000 \t 0.0 \t 0.0 \t 1e-04 \t 0.0 \t 0.0 \t 0.0 \t 0.0 \t 0.0 \t 0.0 \t 0.0 \t 0.0 \t 0.0 \t 0.0 \t 0.0 \t 0.0 \t 1e-04 \t 0.000 \t 0.0 \t 0.0 \t 0.0 \t 0.0 \t 0.0 \t 0.0 \t 1e-04 \t 0.006 \t 0.0 \t 1e-04 \t 0.0 \t 0.0 \t 1e-04 \t 0.0 \t 0.0 \t 0.0 \t 0.0 \t 0.0 \t 0.0 \t 0.0 \t 0.0 \t 0.0 \t 0.0 \t 0.0 \t 1e-04 \t 0.002 \t 0.0 \t 0.0 \t 0.0 \t 0.0 \t 0.0 \t 0.0 \t 1e-04 \t 0.000 \t 0.0 \t 0.0 \t 0.0 \t 0.0 \t 0.0 \t 1e-04 \t[0.970]\t 1e-04 \t 0.0 \t 0.0 \t 0.0 \t 0.0 \t 0.0 \t 0.0 \t 0.0 \t 0.0 \t 0.0 \t 0.0 \t 0.0 \t 1e-04 \t 0.002 \t 0.005 \t 0.0 \t 0.0 \t 0.0 \t 0.0 \t 0.0 \t 0.0 \t 0.001 \t 0.000 \t 0.0 \t 1e-04 \t 0.0 \t 1e-04 \t 0.0 \t 0.0 \t 0.0 \t 0.0 \t 0.0 \t 0.0 \t 0.0 \t 0.0 \t 0.0 \t 0.0 \t 0.0 \t 0.000  do\n",
            "[0.933]\t 0.0 \t 0.0 \t 0.0 \t 0.0 \t 0.0 \t 0.0 \t 0.0 \t 0.0 \t 0.003 \t 0.0 \t 0.0 \t 0.0 \t 0.0 \t 0.0 \t 0.0 \t 1e-04 \t 0.0 \t 0.0 \t 0.0 \t 0.000 \t 0.0 \t 0.0 \t 0.0 \t 0.0 \t 0.0 \t 0.0 \t 0.0 \t 0.0 \t 0.0 \t 0.0 \t 0.0 \t 0.0 \t 0.0 \t 0.0 \t 0.0 \t 0.0 \t 0.0 \t 0.0 \t 1e-04 \t 0.000 \t 0.0 \t 0.0 \t 0.000 \t 0.0 \t 1e-04 \t 0.000 \t 0.0 \t 0.0 \t 0.0 \t 0.0 \t 0.0 \t 0.0 \t 1e-04 \t 0.0 \t 0.0 \t 1e-04 \t 0.0 \t 0.0 \t 0.0 \t 0.0 \t 0.0 \t 0.0 \t 1e-04 \t 0.0 \t 0.0 \t 1e-04 \t 0.0 \t 0.0 \t 0.0 \t 0.0 \t 0.0 \t 0.0 \t 0.0 \t 0.0 \t 0.0 \t 0.0 \t 0.0 \t 0.0 \t 1e-04 \t 0.000 \t 0.0 \t 0.0 \t 0.0 \t 0.0 \t 0.0 \t 0.0 \t 0.0 \t 0.003 \t 0.0 \t 0.0 \t 0.0 \t 0.0 \t 1e-04 \t 0.0 \t 0.0 \t 0.0 \t 0.0 \t 0.0 \t 0.0 \t 0.0 \t 0.0 \t 0.0 \t 0.0 \t 0.0 \t 0.0 \t 0.002 \t 1e-04 \t 0.0 \t 0.0 \t 0.0 \t 0.0 \t 0.0 \t 1e-04 \t 1e-04 \t 0.0 \t 0.0 \t 0.0 \t 0.0 \t 0.0 \t 0.0 \t 0.008 \t 1e-04 \t 0.0 \t 0.0 \t 1e-04 \t 0.0 \t 0.0 \t 0.0 \t 0.0 \t 0.0 \t 0.0 \t 0.0 \t 0.0 \t 0.0 \t 0.004 \t 0.002 \t 0.0 \t 0.0 \t 0.0 \t 0.0 \t 0.0 \t 0.0 \t 0.036 \t 0.000 \t 0.0 \t 1e-04 \t 0.0 \t 1e-04 \t 0.0 \t 0.0 \t 0.0 \t 1e-04 \t 0.0 \t 0.0 \t 0.0 \t 0.0 \t 0.0 \t 0.0 \t 0.0 \t 1e-04  ?\n",
            "[0.987]\t 0.0 \t 0.0 \t 0.0 \t 0.0 \t 1e-04 \t 0.0 \t 0.0 \t 0.0 \t 0.001 \t 0.0 \t 0.0 \t 0.0 \t 0.0 \t 0.0 \t 0.0 \t 1e-04 \t 0.0 \t 0.0 \t 0.0 \t 0.000 \t 0.0 \t 0.0 \t 0.0 \t 0.0 \t 0.0 \t 0.0 \t 0.0 \t 0.0 \t 0.0 \t 0.0 \t 0.0 \t 0.0 \t 0.0 \t 0.0 \t 0.0 \t 0.0 \t 0.0 \t 0.0 \t 0.0 \t 1e-04 \t 0.0 \t 0.0 \t 0.000 \t 0.0 \t 0.0 \t 0.000 \t 0.0 \t 0.0 \t 0.0 \t 0.0 \t 0.0 \t 0.0 \t 1e-04 \t 0.0 \t 0.0 \t 1e-04 \t 0.0 \t 0.0 \t 0.0 \t 0.0 \t 0.0 \t 0.0 \t 1e-04 \t 0.0 \t 0.0 \t 0.0 \t 0.0 \t 0.0 \t 0.0 \t 0.0 \t 0.0 \t 0.0 \t 0.0 \t 0.0 \t 0.0 \t 0.0 \t 0.0 \t 0.0 \t 1e-04 \t 1e-04 \t 0.0 \t 0.0 \t 0.0 \t 0.0 \t 0.0 \t 0.0 \t 0.0 \t 0.000 \t 0.0 \t 0.0 \t 0.0 \t 0.0 \t 1e-04 \t 0.0 \t 0.0 \t 0.0 \t 0.0 \t 0.0 \t 0.0 \t 0.0 \t 0.0 \t 0.0 \t 0.0 \t 0.0 \t 0.0 \t 0.000 \t 0.0 \t 0.0 \t 0.0 \t 0.0 \t 0.0 \t 0.0 \t 1e-04 \t 1e-04 \t 0.0 \t 0.0 \t 0.0 \t 0.0 \t 0.0 \t 1e-04 \t 0.000 \t 0.0 \t 0.0 \t 0.0 \t 0.0 \t 0.0 \t 0.0 \t 0.0 \t 0.0 \t 0.0 \t 0.0 \t 0.0 \t 0.0 \t 0.0 \t 0.000 \t 0.002 \t 0.0 \t 0.0 \t 0.0 \t 0.0 \t 0.0 \t 0.0 \t 0.001 \t 1e-04 \t 0.0 \t 0.0 \t 0.0 \t 0.0 \t 0.0 \t 0.0 \t 0.0 \t 0.0 \t 0.0 \t 0.0 \t 0.0 \t 0.0 \t 0.0 \t 0.0 \t 0.0 \t 1e-04  [SEP]\n",
            " 0.002 \t 0.0 \t 0.0 \t 0.0 \t 0.0 \t 0.0 \t 0.0 \t 0.0 \t 0.0 \t 0.007 \t 0.0 \t 0.0 \t 0.0 \t 0.0 \t 0.0 \t 1e-04 \t 0.0 \t 0.0 \t 0.0 \t 1e-04 \t 1e-04 \t 0.0 \t 0.0 \t 0.0 \t 0.0 \t 0.0 \t 0.0 \t 0.0 \t 0.0 \t 0.0 \t 0.0 \t 0.0 \t 0.0 \t 1e-04 \t 0.0 \t 0.0 \t 0.0 \t 0.0 \t 0.0 \t 0.000 \t 0.000 \t 0.0 \t 0.0 \t 0.000 \t 0.0 \t 0.0 \t 0.0 \t 0.0 \t 0.0 \t 0.0 \t 0.0 \t 0.0 \t 0.0 \t 1e-04 \t 0.0 \t 0.0 \t 0.0 \t 0.0 \t 0.0 \t 0.0 \t 0.0 \t 0.0 \t 0.0 \t 1e-04 \t 0.0 \t 0.0 \t 0.0 \t 0.0 \t 0.0 \t 0.0 \t 0.0 \t 0.0 \t 0.0 \t 0.0 \t 0.0 \t 0.0 \t 0.0 \t 0.0 \t 0.0 \t 0.000 \t 0.000 \t 0.0 \t 0.0 \t 0.0 \t 0.0 \t 0.0 \t 0.0 \t 1e-04 \t 0.001 \t 0.0 \t 0.0 \t 0.0 \t 0.0 \t 1e-04 \t 0.0 \t 0.0 \t 0.0 \t 0.0 \t 0.0 \t 0.0 \t 0.0 \t 0.0 \t 0.0 \t 0.0 \t 0.0 \t 0.0 \t 0.000 \t 0.0 \t 0.0 \t 0.0 \t 0.0 \t 0.0 \t 0.0 \t 1e-04 \t 0.0 \t 0.0 \t 0.0 \t 0.0 \t 0.0 \t 0.0 \t 0.0 \t 0.012 \t 0.0 \t 0.0 \t 0.0 \t 0.0 \t 0.0 \t 0.0 \t 0.0 \t 0.0 \t 0.0 \t 0.0 \t 0.0 \t 0.0 \t 0.0 \t 0.004 \t 0.000 \t 0.0 \t 0.0 \t 0.0 \t 0.0 \t 0.0 \t 0.0 \t[0.966]\t 0.000 \t 0.0 \t 0.0 \t 0.0 \t 0.0 \t 0.0 \t 0.0 \t 0.0 \t 0.0 \t 0.0 \t 0.0 \t 0.0 \t 0.0 \t 0.0 \t 0.0 \t 0.0 \t 0.0  gaming\n",
            "[0.865]\t 0.0 \t 0.0 \t 0.0 \t 0.0 \t 1e-04 \t 1e-04 \t 0.0 \t 0.0 \t 0.005 \t 0.0 \t 0.0 \t 0.0 \t 0.0 \t 0.0 \t 1e-04 \t 1e-04 \t 0.0 \t 0.0 \t 1e-04 \t 0.002 \t 0.0 \t 0.0 \t 0.0 \t 0.0 \t 0.0 \t 0.0 \t 1e-04 \t 0.0 \t 0.0 \t 0.0 \t 0.0 \t 0.0 \t 1e-04 \t 0.0 \t 0.0 \t 1e-04 \t 0.0 \t 0.0 \t 0.000 \t 0.000 \t 0.0 \t 0.0 \t 0.000 \t 0.0 \t 0.0 \t 0.000 \t 0.0 \t 1e-04 \t 1e-04 \t 0.0 \t 0.0 \t 1e-04 \t 0.000 \t 1e-04 \t 1e-04 \t 0.000 \t 0.0 \t 0.0 \t 0.0 \t 0.0 \t 0.0 \t 1e-04 \t 0.000 \t 0.0 \t 0.0 \t 0.000 \t 0.0 \t 1e-04 \t 0.0 \t 0.0 \t 0.0 \t 0.0 \t 0.0 \t 0.0 \t 1e-04 \t 0.0 \t 0.0 \t 0.0 \t 1e-04 \t 0.000 \t 0.0 \t 1e-04 \t 0.0 \t 1e-04 \t 0.0 \t 0.0 \t 1e-04 \t 0.019 \t 1e-04 \t 1e-04 \t 1e-04 \t 0.0 \t 1e-04 \t 0.0 \t 0.0 \t 0.0 \t 0.0 \t 0.0 \t 0.0 \t 0.0 \t 0.0 \t 0.0 \t 0.0 \t 0.0 \t 1e-04 \t 0.003 \t 1e-04 \t 0.0 \t 0.0 \t 0.0 \t 0.0 \t 1e-04 \t 0.000 \t 0.000 \t 0.0 \t 1e-04 \t 0.0 \t 0.0 \t 1e-04 \t 0.000 \t 0.008 \t 1e-04 \t 0.0 \t 0.0 \t 0.0 \t 0.0 \t 0.0 \t 0.0 \t 0.0 \t 0.0 \t 0.0 \t 1e-04 \t 0.0 \t 1e-04 \t 0.009 \t 0.070 \t 0.0 \t 0.0 \t 0.0 \t 0.0 \t 0.0 \t 0.0 \t 0.005 \t 0.000 \t 0.0 \t 0.0 \t 0.0 \t 1e-04 \t 0.0 \t 0.0 \t 0.0 \t 1e-04 \t 0.0 \t 0.0 \t 0.0 \t 0.0 \t 0.0 \t 0.0 \t 1e-04 \t 0.000  ,\n",
            "[0.779]\t 0.0 \t 0.0 \t 0.0 \t 0.0 \t 1e-04 \t 1e-04 \t 0.0 \t 1e-04 \t 0.027 \t 1e-04 \t 0.0 \t 0.0 \t 1e-04 \t 1e-04 \t 0.000 \t 0.000 \t 0.0 \t 0.0 \t 1e-04 \t 0.003 \t 0.0 \t 0.0 \t 0.0 \t 0.0 \t 0.0 \t 0.0 \t 1e-04 \t 0.0 \t 0.000 \t 0.0 \t 0.0 \t 0.0 \t 0.000 \t 1e-04 \t 1e-04 \t 1e-04 \t 0.000 \t 1e-04 \t 0.000 \t 0.000 \t 0.0 \t 1e-04 \t 0.001 \t 0.0 \t 0.000 \t 0.001 \t 0.0 \t 1e-04 \t 0.000 \t 0.0 \t 0.0 \t 1e-04 \t 0.000 \t 1e-04 \t 1e-04 \t 0.000 \t 0.000 \t 0.000 \t 0.0 \t 0.0 \t 1e-04 \t 1e-04 \t 0.000 \t 0.0 \t 1e-04 \t 0.000 \t 1e-04 \t 1e-04 \t 0.0 \t 0.0 \t 1e-04 \t 0.0 \t 0.0 \t 0.0 \t 1e-04 \t 0.0 \t 1e-04 \t 0.0 \t 0.000 \t 0.000 \t 1e-04 \t 1e-04 \t 0.0 \t 1e-04 \t 0.0 \t 1e-04 \t 0.000 \t 0.033 \t 1e-04 \t 0.000 \t 0.000 \t 0.0 \t 1e-04 \t 0.0 \t 0.0 \t 0.0 \t 0.0 \t 0.0 \t 1e-04 \t 0.0 \t 1e-04 \t 0.0 \t 1e-04 \t 0.0 \t 1e-04 \t 0.020 \t 0.000 \t 0.0 \t 0.000 \t 1e-04 \t 0.0 \t 1e-04 \t 0.001 \t 0.000 \t 0.0 \t 1e-04 \t 1e-04 \t 1e-04 \t 0.000 \t 0.000 \t 0.027 \t 0.000 \t 0.0 \t 1e-04 \t 0.000 \t 0.0 \t 0.0 \t 0.0 \t 0.0 \t 0.0 \t 0.0 \t 1e-04 \t 1e-04 \t 0.000 \t 0.015 \t 0.043 \t 1e-04 \t 0.0 \t 1e-04 \t 0.0 \t 1e-04 \t 0.0 \t 0.025 \t 0.001 \t 1e-04 \t 0.000 \t 0.0 \t 0.000 \t 0.0 \t 0.0 \t 1e-04 \t 0.000 \t 0.0 \t 0.0 \t 0.0 \t 0.0 \t 0.0 \t 0.0 \t 0.000 \t 0.001  but\n",
            " 0.008 \t 0.0 \t 0.0 \t 0.0 \t 0.0 \t 1e-04 \t 0.0 \t 0.0 \t 1e-04 \t 0.015 \t 1e-04 \t 0.0 \t 0.0 \t 1e-04 \t 0.0 \t 0.000 \t 1e-04 \t 1e-04 \t 0.0 \t 0.000 \t 0.000 \t 0.0 \t 0.0 \t 0.0 \t 0.0 \t 0.0 \t 0.0 \t 1e-04 \t 0.0 \t 0.0 \t 0.0 \t 0.0 \t 0.0 \t 0.000 \t 1e-04 \t 1e-04 \t 1e-04 \t 1e-04 \t 0.000 \t 0.000 \t 0.000 \t 0.0 \t 1e-04 \t 0.002 \t 1e-04 \t 1e-04 \t 0.000 \t 0.0 \t 1e-04 \t 1e-04 \t 0.0 \t 0.0 \t 0.0 \t 0.000 \t 1e-04 \t 1e-04 \t 1e-04 \t 1e-04 \t 0.000 \t 0.0 \t 0.0 \t 0.0 \t 0.0 \t 0.000 \t 1e-04 \t 0.0 \t 1e-04 \t 0.0 \t 0.0 \t 0.0 \t 0.0 \t 1e-04 \t 0.0 \t 0.0 \t 0.0 \t 0.0 \t 0.0 \t 1e-04 \t 0.0 \t 0.000 \t 0.000 \t 1e-04 \t 0.000 \t 1e-04 \t 0.0 \t 0.0 \t 1e-04 \t 0.000 \t 0.005 \t 1e-04 \t 1e-04 \t 1e-04 \t 0.0 \t 0.000 \t 0.0 \t 0.0 \t 0.0 \t 0.0 \t 0.0 \t 0.0 \t 0.0 \t 1e-04 \t 0.0 \t 1e-04 \t 1e-04 \t 0.000 \t 0.001 \t 0.000 \t 0.0 \t 1e-04 \t 0.0 \t 0.0 \t 0.0 \t 0.000 \t 1e-04 \t 0.0 \t 0.0 \t 1e-04 \t 1e-04 \t 1e-04 \t 1e-04 \t 0.045 \t 1e-04 \t 0.0 \t 0.0 \t 0.000 \t 0.0 \t 0.0 \t 0.0 \t 1e-04 \t 0.0 \t 0.0 \t 0.0 \t 1e-04 \t 0.0 \t 0.009 \t 0.002 \t 1e-04 \t 0.0 \t 1e-04 \t 0.0 \t 1e-04 \t 0.0 \t[0.892]\t 0.002 \t 1e-04 \t 1e-04 \t 0.0 \t 1e-04 \t 0.0 \t 0.0 \t 1e-04 \t 1e-04 \t 0.0 \t 0.0 \t 0.0 \t 0.0 \t 0.0 \t 0.0 \t 1e-04 \t 1e-04  SPEAKER1\n",
            " 0.000 \t 0.0 \t 0.0 \t 0.0 \t 0.0 \t 0.0 \t 0.0 \t 0.0 \t 0.0 \t 0.001 \t 0.0 \t 0.0 \t 0.0 \t 0.0 \t 0.0 \t 0.0 \t 0.0 \t 0.0 \t 0.0 \t 0.0 \t 0.0 \t 0.0 \t 0.0 \t 0.0 \t 0.0 \t 0.0 \t 0.0 \t 0.0 \t 0.0 \t 0.0 \t 0.0 \t 0.0 \t 0.0 \t 0.0 \t 0.0 \t 0.0 \t 0.0 \t 0.0 \t 0.0 \t 1e-04 \t 0.0 \t 0.0 \t 0.0 \t 1e-04 \t 0.0 \t 0.0 \t 0.0 \t 0.0 \t 0.0 \t 0.0 \t 0.0 \t 0.0 \t 0.0 \t 0.0 \t 0.0 \t 0.0 \t 0.0 \t 0.0 \t 0.0 \t 0.0 \t 0.0 \t 0.0 \t 0.0 \t 0.0 \t 0.0 \t 0.0 \t 0.0 \t 0.0 \t 0.0 \t 0.0 \t 0.0 \t 0.0 \t 0.0 \t 0.0 \t 0.0 \t 0.0 \t 0.0 \t 0.0 \t 0.0 \t 0.0 \t 0.0 \t 0.0 \t 0.0 \t 0.0 \t 0.0 \t 0.0 \t 0.0 \t 0.0 \t 1e-04 \t 0.0 \t 0.0 \t 0.0 \t 0.0 \t 0.0 \t 0.0 \t 0.0 \t 0.0 \t 0.0 \t 0.0 \t 0.0 \t 0.0 \t 0.0 \t 0.0 \t 0.0 \t 0.0 \t 0.0 \t 1e-04 \t 0.0 \t 0.0 \t 0.0 \t 0.0 \t 0.0 \t 0.0 \t 0.0 \t 0.0 \t 0.0 \t 0.0 \t 0.0 \t 0.0 \t 0.0 \t 0.0 \t 0.001 \t 0.0 \t 0.0 \t 0.0 \t 0.0 \t 0.0 \t 0.0 \t 0.0 \t 0.0 \t 0.0 \t 0.0 \t 0.0 \t 0.0 \t 0.0 \t 0.000 \t 1e-04 \t 0.0 \t 0.0 \t 0.0 \t 0.0 \t 0.0 \t 0.0 \t[0.995]\t 0.0 \t 0.0 \t 0.0 \t 0.0 \t 0.0 \t 0.0 \t 0.0 \t 0.0 \t 0.0 \t 0.0 \t 0.0 \t 0.0 \t 0.0 \t 0.0 \t 0.0 \t 0.0 \t 0.0  hate\n",
            " 0.003 \t 0.0 \t 0.0 \t 0.0 \t 0.0 \t 0.0 \t 0.0 \t 0.0 \t 0.0 \t 0.001 \t 0.0 \t 0.0 \t 0.0 \t 0.0 \t 0.0 \t 0.0 \t 0.0 \t 0.0 \t 0.0 \t 0.0 \t 0.000 \t 0.0 \t 0.0 \t 0.0 \t 0.0 \t 0.0 \t 0.0 \t 0.0 \t 0.0 \t 0.0 \t 0.0 \t 0.0 \t 0.0 \t 0.0 \t 0.0 \t 0.0 \t 0.0 \t 0.0 \t 0.0 \t 0.0 \t 0.0 \t 0.0 \t 0.0 \t 0.0 \t 0.0 \t 0.0 \t 1e-04 \t 0.0 \t 0.0 \t 0.0 \t 0.0 \t 0.0 \t 0.0 \t 0.0 \t 0.0 \t 0.0 \t 1e-04 \t 0.0 \t 0.0 \t 0.0 \t 0.0 \t 0.0 \t 0.0 \t 1e-04 \t 0.0 \t 0.0 \t 1e-04 \t 0.0 \t 0.0 \t 0.0 \t 0.0 \t 0.0 \t 0.0 \t 0.0 \t 0.0 \t 0.0 \t 0.0 \t 0.0 \t 0.0 \t 0.0 \t 1e-04 \t 0.0 \t 0.0 \t 0.0 \t 0.0 \t 0.0 \t 0.0 \t 0.0 \t 0.002 \t 0.0 \t 0.0 \t 0.0 \t 0.0 \t 0.0 \t 0.0 \t 0.0 \t 0.0 \t 0.0 \t 0.0 \t 0.0 \t 0.0 \t 0.0 \t 0.0 \t 0.0 \t 0.0 \t 0.0 \t 0.003 \t 0.0 \t 0.0 \t 0.0 \t 0.0 \t 0.0 \t 0.0 \t 0.0 \t 1e-04 \t 0.0 \t 0.0 \t 0.0 \t 0.0 \t 0.0 \t 0.000 \t 0.002 \t 0.0 \t 0.0 \t 0.0 \t 0.0 \t 0.0 \t 0.0 \t 0.0 \t 0.0 \t 0.0 \t 0.0 \t 0.0 \t 0.0 \t 0.0 \t 0.001 \t[0.983]\t 0.0 \t 0.0 \t 0.0 \t 0.0 \t 0.0 \t 0.0 \t 0.000 \t 1e-04 \t 0.0 \t 0.0 \t 0.0 \t 0.0 \t 0.0 \t 0.0 \t 0.0 \t 0.0 \t 0.0 \t 0.0 \t 0.0 \t 0.0 \t 0.0 \t 0.0 \t 0.0 \t 1e-04  cats\n",
            "[0.987]\t 0.0 \t 0.0 \t 0.0 \t 0.0 \t 1e-04 \t 0.0 \t 0.0 \t 0.0 \t 0.001 \t 0.0 \t 0.0 \t 0.0 \t 0.0 \t 0.0 \t 0.0 \t 1e-04 \t 0.0 \t 0.0 \t 0.0 \t 0.000 \t 0.0 \t 0.0 \t 0.0 \t 0.0 \t 0.0 \t 0.0 \t 0.0 \t 0.0 \t 0.0 \t 0.0 \t 0.0 \t 0.0 \t 0.0 \t 0.0 \t 0.0 \t 0.0 \t 0.0 \t 0.0 \t 0.0 \t 1e-04 \t 0.0 \t 0.0 \t 0.000 \t 0.0 \t 0.0 \t 0.000 \t 0.0 \t 0.0 \t 0.0 \t 0.0 \t 0.0 \t 0.0 \t 1e-04 \t 0.0 \t 0.0 \t 1e-04 \t 0.0 \t 0.0 \t 0.0 \t 0.0 \t 0.0 \t 0.0 \t 1e-04 \t 0.0 \t 0.0 \t 0.0 \t 0.0 \t 0.0 \t 0.0 \t 0.0 \t 0.0 \t 0.0 \t 0.0 \t 0.0 \t 0.0 \t 0.0 \t 0.0 \t 0.0 \t 1e-04 \t 1e-04 \t 0.0 \t 0.0 \t 0.0 \t 0.0 \t 0.0 \t 0.0 \t 0.0 \t 0.000 \t 0.0 \t 0.0 \t 0.0 \t 0.0 \t 1e-04 \t 0.0 \t 0.0 \t 0.0 \t 0.0 \t 0.0 \t 0.0 \t 0.0 \t 0.0 \t 0.0 \t 0.0 \t 0.0 \t 0.0 \t 0.000 \t 0.0 \t 0.0 \t 0.0 \t 0.0 \t 0.0 \t 0.0 \t 1e-04 \t 1e-04 \t 0.0 \t 0.0 \t 0.0 \t 0.0 \t 0.0 \t 1e-04 \t 0.000 \t 0.0 \t 0.0 \t 0.0 \t 0.0 \t 0.0 \t 0.0 \t 0.0 \t 0.0 \t 0.0 \t 0.0 \t 0.0 \t 0.0 \t 0.0 \t 0.000 \t 0.002 \t 0.0 \t 0.0 \t 0.0 \t 0.0 \t 0.0 \t 0.0 \t 0.001 \t 1e-04 \t 0.0 \t 0.0 \t 0.0 \t 0.0 \t 0.0 \t 0.0 \t 0.0 \t 0.0 \t 0.0 \t 0.0 \t 0.0 \t 0.0 \t 0.0 \t 0.0 \t 0.0 \t 1e-04  [SEP]\n",
            "\n",
            " Object\n",
            "['0', '1', '2', '3', '4', '5', '6', '7', '8', '9', '10', '11', '12', '13', '14', '15', '16', '17', '18', '19', '20', '21', '22', '23', '24', '25', '26', '27', '28', '29', '30', '31', '32', '33', '34', '35', '36', '37', '38', '39', '40', '41', '42', '43', '44', '45', '46', '47', '48', '49', '50', '51', '52', '53', '54', '55', '56', '57', '58', '59', '60', '61', '62', '63', '64', '65', '66', '67', '68', '69', '70', '71', '72', '73', '74', '75', '76', '77', '78', '79', '80', '81', '82', '83', '84', '85', '86', '87', '88', '89', '90', '91', '92', '93', '94', '95', '96', '97', '98', '99', '100', '101', '102', '103', '104', '105', '106', '107', '108', '109', '110', '111', '112', '113', '114', '115', '116', '117', '118', '119', '120', '121', '122', '123', '124', '125', '126', '127', '128', '129', '130', '131', '132', '133', '134', '135', '136', '137', '138', '139', '140', '141', '142', '143', '144', '145', '146', '147', '148', '149', '150', '151', '152', '153', '154', '155', '156', '157', '158', '159', '160', '161', '162', '163', '164', '165', '166', '167', '168', '169', '170', '171', '172', '173', '174', '175', '176', '177', '178']\n",
            " 0.001 \t 0.032 \t[0.961]\t 0.0 \t 0.0 \t 0.0 \t 0.0 \t 0.0 \t 0.0 \t 1e-04 \t 0.0 \t 0.0 \t 0.0 \t 0.0 \t 0.0 \t 0.0 \t 0.0 \t 0.0 \t 0.0 \t 0.0 \t 0.0 \t 0.0 \t 0.0 \t 0.0 \t 0.0 \t 0.0 \t 0.0 \t 0.0 \t 0.0 \t 0.0 \t 0.0 \t 0.0 \t 0.0 \t 0.0 \t 1e-04 \t 0.0 \t 0.0 \t 0.0 \t 0.0 \t 0.0 \t 1e-04 \t 0.0 \t 0.0 \t 1e-04 \t 0.0 \t 0.0 \t 0.0 \t 0.0 \t 0.0 \t 0.0 \t 0.0 \t 0.0 \t 0.0 \t 0.0 \t 1e-04 \t 0.0 \t 0.0 \t 0.0 \t 0.0 \t 0.0 \t 0.0 \t 0.0 \t 0.0 \t 0.0 \t 0.0 \t 0.0 \t 0.0 \t 1e-04 \t 0.0 \t 0.0 \t 0.0 \t 0.0 \t 0.0 \t 0.0 \t 0.0 \t 0.0 \t 0.0 \t 0.0 \t 0.0 \t 0.0 \t 0.0 \t 1e-04 \t 0.0 \t 0.0 \t 0.0 \t 0.0 \t 0.0 \t 0.0 \t 1e-04 \t 0.0 \t 1e-04 \t 0.0 \t 0.0 \t 0.0 \t 0.0 \t 0.0 \t 0.0 \t 0.0 \t 0.0 \t 0.0 \t 0.0 \t 0.0 \t 1e-04 \t 0.0 \t 0.0 \t 0.0 \t 0.0 \t 0.0 \t 0.0 \t 0.0 \t 0.0 \t 0.0 \t 0.0 \t 0.0 \t 0.0 \t 0.0 \t 1e-04 \t 0.0 \t 1e-04 \t 0.0 \t 0.0 \t 0.0 \t 0.0 \t 0.0 \t 0.0 \t 0.0 \t 0.0 \t 1e-04 \t 1e-04 \t 1e-04 \t 0.0 \t 0.0 \t 0.0 \t 0.0 \t 0.0 \t 0.0 \t 0.0 \t 0.0 \t 0.0 \t 0.0 \t 0.000 \t 0.0 \t 0.0 \t 0.0 \t 0.0 \t 1e-04 \t 0.0 \t 0.0 \t 0.0 \t 0.0 \t 0.0 \t 0.0 \t 0.0 \t 0.0 \t 0.0 \t 0.0 \t 0.0 \t 0.0 \t 0.0 \t 0.0 \t 0.0  [CLS]\n",
            " 0.0 \t[0.996]\t 0.002 \t 0.0 \t 0.0 \t 0.0 \t 0.0 \t 0.0 \t 0.0 \t 0.0 \t 0.0 \t 0.0 \t 0.0 \t 0.0 \t 0.0 \t 0.0 \t 0.0 \t 0.0 \t 0.0 \t 0.0 \t 0.0 \t 0.0 \t 0.0 \t 0.0 \t 0.0 \t 0.0 \t 0.0 \t 0.0 \t 0.0 \t 0.0 \t 0.0 \t 0.0 \t 0.0 \t 0.0 \t 0.0 \t 0.0 \t 0.0 \t 0.0 \t 0.0 \t 0.0 \t 0.0 \t 0.0 \t 0.0 \t 0.0 \t 0.0 \t 0.0 \t 0.0 \t 0.0 \t 0.0 \t 0.0 \t 0.0 \t 0.0 \t 0.0 \t 0.0 \t 0.0 \t 0.0 \t 0.0 \t 0.0 \t 0.0 \t 0.0 \t 0.0 \t 0.0 \t 0.0 \t 0.0 \t 0.0 \t 0.0 \t 0.0 \t 0.0 \t 0.0 \t 0.0 \t 0.0 \t 0.0 \t 0.0 \t 0.0 \t 0.0 \t 0.0 \t 0.0 \t 0.0 \t 0.0 \t 0.0 \t 0.0 \t 0.0 \t 0.0 \t 0.0 \t 0.0 \t 0.0 \t 0.0 \t 0.0 \t 0.0 \t 0.0 \t 0.0 \t 0.0 \t 0.0 \t 0.0 \t 0.0 \t 0.0 \t 0.0 \t 0.0 \t 0.0 \t 0.0 \t 0.0 \t 0.0 \t 0.0 \t 0.0 \t 0.0 \t 0.0 \t 0.0 \t 0.0 \t 0.0 \t 0.0 \t 0.0 \t 0.0 \t 0.0 \t 0.0 \t 0.0 \t 0.0 \t 0.0 \t 0.0 \t 0.0 \t 0.0 \t 0.0 \t 0.0 \t 0.0 \t 0.0 \t 0.0 \t 0.0 \t 0.0 \t 0.0 \t 0.0 \t 0.0 \t 0.0 \t 0.0 \t 0.0 \t 0.0 \t 0.0 \t 0.0 \t 0.0 \t 0.0 \t 0.0 \t 0.0 \t 0.0 \t 0.0 \t 0.0 \t 0.0 \t 0.0 \t 0.0 \t 0.0 \t 0.0 \t 0.0 \t 0.0 \t 0.0 \t 0.0 \t 0.0 \t 0.0 \t 0.0 \t 0.0 \t 0.0 \t 0.0 \t 0.0 \t 0.0 \t 0.0  SPEAKER1\n",
            " 0.0 \t[0.999]\t 0.000 \t 0.0 \t 0.0 \t 0.0 \t 0.0 \t 0.0 \t 0.0 \t 0.0 \t 0.0 \t 0.0 \t 0.0 \t 0.0 \t 0.0 \t 0.0 \t 0.0 \t 0.0 \t 0.0 \t 0.0 \t 0.0 \t 0.0 \t 0.0 \t 0.0 \t 0.0 \t 0.0 \t 0.0 \t 0.0 \t 0.0 \t 0.0 \t 0.0 \t 0.0 \t 0.0 \t 0.0 \t 0.0 \t 0.0 \t 0.0 \t 0.0 \t 0.0 \t 0.0 \t 0.0 \t 0.0 \t 0.0 \t 0.0 \t 0.0 \t 0.0 \t 0.0 \t 0.0 \t 0.0 \t 0.0 \t 0.0 \t 0.0 \t 0.0 \t 0.0 \t 0.0 \t 0.0 \t 0.0 \t 0.0 \t 0.0 \t 0.0 \t 0.0 \t 0.0 \t 0.0 \t 0.0 \t 0.0 \t 0.0 \t 0.0 \t 0.0 \t 0.0 \t 0.0 \t 0.0 \t 0.0 \t 0.0 \t 0.0 \t 0.0 \t 0.0 \t 0.0 \t 0.0 \t 0.0 \t 0.0 \t 0.0 \t 0.0 \t 0.0 \t 0.0 \t 0.0 \t 0.0 \t 0.0 \t 0.0 \t 0.0 \t 0.0 \t 0.0 \t 0.0 \t 0.0 \t 0.0 \t 0.0 \t 0.0 \t 0.0 \t 0.0 \t 0.0 \t 0.0 \t 0.0 \t 0.0 \t 0.0 \t 0.0 \t 0.0 \t 0.0 \t 0.0 \t 0.0 \t 0.0 \t 0.0 \t 0.0 \t 0.0 \t 0.0 \t 0.0 \t 0.0 \t 0.0 \t 0.0 \t 0.0 \t 0.0 \t 0.0 \t 0.0 \t 0.0 \t 0.0 \t 0.0 \t 0.0 \t 0.0 \t 0.0 \t 0.0 \t 0.0 \t 0.0 \t 0.0 \t 0.0 \t 0.0 \t 0.0 \t 0.0 \t 0.0 \t 0.0 \t 0.0 \t 0.0 \t 0.0 \t 0.0 \t 0.0 \t 0.0 \t 0.0 \t 0.0 \t 0.0 \t 0.0 \t 0.0 \t 0.0 \t 0.0 \t 0.0 \t 0.0 \t 0.0 \t 0.0 \t 0.0 \t 0.0 \t 0.0 \t 0.0 \t 0.0 \t 0.0 \t 0.0  enjoy\n",
            " 0.0 \t[0.999]\t 0.000 \t 0.0 \t 0.0 \t 0.0 \t 0.0 \t 0.0 \t 0.0 \t 0.0 \t 0.0 \t 0.0 \t 0.0 \t 0.0 \t 0.0 \t 0.0 \t 0.0 \t 0.0 \t 0.0 \t 0.0 \t 0.0 \t 0.0 \t 0.0 \t 0.0 \t 0.0 \t 0.0 \t 0.0 \t 0.0 \t 0.0 \t 0.0 \t 0.0 \t 0.0 \t 0.0 \t 0.0 \t 0.0 \t 0.0 \t 0.0 \t 0.0 \t 0.0 \t 0.0 \t 0.0 \t 0.0 \t 0.0 \t 0.0 \t 0.0 \t 0.0 \t 0.0 \t 0.0 \t 0.0 \t 0.0 \t 0.0 \t 0.0 \t 0.0 \t 0.0 \t 0.0 \t 0.0 \t 0.0 \t 0.0 \t 0.0 \t 0.0 \t 0.0 \t 0.0 \t 0.0 \t 0.0 \t 0.0 \t 0.0 \t 0.0 \t 0.0 \t 0.0 \t 0.0 \t 0.0 \t 0.0 \t 0.0 \t 0.0 \t 0.0 \t 0.0 \t 0.0 \t 0.0 \t 0.0 \t 0.0 \t 0.0 \t 0.0 \t 0.0 \t 0.0 \t 0.0 \t 0.0 \t 0.0 \t 0.0 \t 0.0 \t 0.0 \t 0.0 \t 0.0 \t 0.0 \t 0.0 \t 0.0 \t 0.0 \t 0.0 \t 0.0 \t 0.0 \t 0.0 \t 0.0 \t 0.0 \t 0.0 \t 0.0 \t 0.0 \t 0.0 \t 0.0 \t 0.0 \t 0.0 \t 0.0 \t 0.0 \t 0.0 \t 0.0 \t 0.0 \t 0.0 \t 0.0 \t 0.0 \t 0.0 \t 0.0 \t 0.0 \t 0.0 \t 0.0 \t 0.0 \t 0.0 \t 0.0 \t 0.0 \t 0.0 \t 0.0 \t 0.0 \t 0.0 \t 0.0 \t 0.0 \t 0.0 \t 0.0 \t 0.0 \t 0.0 \t 0.0 \t 0.0 \t 0.0 \t 0.0 \t 0.0 \t 0.0 \t 0.0 \t 0.0 \t 0.0 \t 0.0 \t 0.0 \t 0.0 \t 0.0 \t 0.0 \t 0.0 \t 0.0 \t 0.0 \t 0.0 \t 0.0 \t 0.0 \t 0.0 \t 0.0 \t 0.0 \t 0.0 \t 0.0  watching\n",
            " 0.0 \t 1e-04 \t[0.999]\t 0.0 \t 0.0 \t 0.0 \t 0.0 \t 0.0 \t 0.0 \t 0.0 \t 0.0 \t 0.0 \t 0.0 \t 0.0 \t 0.0 \t 0.0 \t 0.0 \t 0.0 \t 0.0 \t 0.0 \t 0.0 \t 0.0 \t 0.0 \t 0.0 \t 0.0 \t 0.0 \t 0.0 \t 0.0 \t 0.0 \t 0.0 \t 0.0 \t 0.0 \t 0.0 \t 0.0 \t 0.0 \t 0.0 \t 0.0 \t 0.0 \t 0.0 \t 0.0 \t 0.0 \t 0.0 \t 0.0 \t 0.0 \t 0.0 \t 0.0 \t 0.0 \t 0.0 \t 0.0 \t 0.0 \t 0.0 \t 0.0 \t 0.0 \t 0.0 \t 0.0 \t 0.0 \t 0.0 \t 0.0 \t 0.0 \t 0.0 \t 0.0 \t 0.0 \t 0.0 \t 0.0 \t 0.0 \t 0.0 \t 0.0 \t 0.0 \t 0.0 \t 0.0 \t 0.0 \t 0.0 \t 0.0 \t 0.0 \t 0.0 \t 0.0 \t 0.0 \t 0.0 \t 0.0 \t 0.0 \t 0.0 \t 0.0 \t 0.0 \t 0.0 \t 0.0 \t 0.0 \t 0.0 \t 0.0 \t 0.0 \t 0.0 \t 0.0 \t 0.0 \t 0.0 \t 0.0 \t 0.0 \t 0.0 \t 0.0 \t 0.0 \t 0.0 \t 0.0 \t 0.0 \t 0.0 \t 0.0 \t 0.0 \t 0.0 \t 0.0 \t 0.0 \t 0.0 \t 0.0 \t 0.0 \t 0.0 \t 0.0 \t 0.0 \t 0.0 \t 0.0 \t 0.0 \t 0.0 \t 0.0 \t 0.0 \t 0.0 \t 0.0 \t 0.0 \t 0.0 \t 0.0 \t 0.0 \t 0.0 \t 0.0 \t 0.0 \t 0.0 \t 0.0 \t 0.0 \t 0.0 \t 0.0 \t 0.0 \t 0.0 \t 0.0 \t 0.0 \t 0.0 \t 0.0 \t 0.0 \t 0.0 \t 0.0 \t 0.0 \t 0.0 \t 0.0 \t 0.0 \t 0.0 \t 0.0 \t 0.0 \t 0.0 \t 0.0 \t 0.0 \t 0.0 \t 0.0 \t 0.0 \t 0.0 \t 0.0 \t 0.0 \t 0.0 \t 0.0 \t 0.0  american\n",
            " 0.0 \t 1e-04 \t[0.999]\t 0.0 \t 0.0 \t 0.0 \t 0.0 \t 0.0 \t 0.0 \t 0.0 \t 0.0 \t 0.0 \t 0.0 \t 0.0 \t 0.0 \t 0.0 \t 0.0 \t 0.0 \t 0.0 \t 0.0 \t 0.0 \t 0.0 \t 0.0 \t 0.0 \t 0.0 \t 0.0 \t 0.0 \t 0.0 \t 0.0 \t 0.0 \t 0.0 \t 0.0 \t 0.0 \t 0.0 \t 0.0 \t 0.0 \t 0.0 \t 0.0 \t 0.0 \t 0.0 \t 0.0 \t 0.0 \t 0.0 \t 0.0 \t 0.0 \t 0.0 \t 0.0 \t 0.0 \t 0.0 \t 0.0 \t 0.0 \t 0.0 \t 0.0 \t 0.0 \t 0.0 \t 0.0 \t 0.0 \t 0.0 \t 0.0 \t 0.0 \t 0.0 \t 0.0 \t 0.0 \t 0.0 \t 0.0 \t 0.0 \t 0.0 \t 0.0 \t 0.0 \t 0.0 \t 0.0 \t 0.0 \t 0.0 \t 0.0 \t 0.0 \t 0.0 \t 0.0 \t 0.0 \t 0.0 \t 0.0 \t 0.0 \t 0.0 \t 0.0 \t 0.0 \t 0.0 \t 0.0 \t 0.0 \t 0.0 \t 0.0 \t 0.0 \t 0.0 \t 0.0 \t 0.0 \t 0.0 \t 0.0 \t 0.0 \t 0.0 \t 0.0 \t 0.0 \t 0.0 \t 0.0 \t 0.0 \t 0.0 \t 0.0 \t 0.0 \t 0.0 \t 0.0 \t 0.0 \t 0.0 \t 0.0 \t 0.0 \t 0.0 \t 0.0 \t 0.0 \t 0.0 \t 0.0 \t 0.0 \t 0.0 \t 0.0 \t 0.0 \t 0.0 \t 0.0 \t 0.0 \t 0.0 \t 0.0 \t 0.0 \t 0.0 \t 0.0 \t 0.0 \t 0.0 \t 0.0 \t 0.0 \t 0.0 \t 0.0 \t 0.0 \t 0.0 \t 0.0 \t 0.0 \t 0.0 \t 0.0 \t 0.0 \t 0.0 \t 0.0 \t 0.0 \t 0.0 \t 0.0 \t 0.0 \t 0.0 \t 0.0 \t 0.0 \t 0.0 \t 0.0 \t 0.0 \t 0.0 \t 0.0 \t 0.0 \t 0.0 \t 0.0 \t 0.0 \t 0.0 \t 0.0  football\n",
            " 0.000 \t 0.046 \t[0.950]\t 0.0 \t 0.0 \t 0.0 \t 0.0 \t 0.0 \t 0.0 \t 0.0 \t 0.0 \t 0.0 \t 0.0 \t 0.0 \t 0.0 \t 0.0 \t 0.0 \t 0.0 \t 0.0 \t 0.0 \t 0.0 \t 0.0 \t 0.0 \t 0.0 \t 0.0 \t 0.0 \t 0.0 \t 0.0 \t 0.0 \t 0.0 \t 0.0 \t 0.0 \t 0.0 \t 0.0 \t 0.0 \t 0.0 \t 0.0 \t 0.0 \t 0.0 \t 0.0 \t 0.0 \t 0.0 \t 0.0 \t 0.0 \t 0.0 \t 0.0 \t 0.0 \t 0.0 \t 0.0 \t 0.0 \t 0.0 \t 0.0 \t 0.0 \t 0.0 \t 0.0 \t 0.0 \t 0.0 \t 0.0 \t 0.0 \t 0.0 \t 0.0 \t 0.0 \t 0.0 \t 0.0 \t 0.0 \t 0.0 \t 0.0 \t 0.0 \t 0.0 \t 0.0 \t 0.0 \t 0.0 \t 0.0 \t 0.0 \t 0.0 \t 0.0 \t 0.0 \t 0.0 \t 0.0 \t 0.0 \t 0.0 \t 0.0 \t 0.0 \t 0.0 \t 0.0 \t 0.0 \t 0.0 \t 0.0 \t 0.0 \t 0.0 \t 0.0 \t 0.0 \t 0.0 \t 0.0 \t 0.0 \t 0.0 \t 0.0 \t 0.0 \t 0.0 \t 0.0 \t 0.0 \t 0.0 \t 0.0 \t 0.0 \t 0.0 \t 0.0 \t 0.0 \t 0.0 \t 0.0 \t 0.0 \t 0.0 \t 0.0 \t 0.0 \t 0.0 \t 0.0 \t 0.0 \t 0.0 \t 0.0 \t 0.0 \t 0.0 \t 0.0 \t 0.0 \t 0.0 \t 0.0 \t 0.0 \t 0.0 \t 0.0 \t 0.0 \t 0.0 \t 0.0 \t 0.0 \t 0.0 \t 0.0 \t 0.0 \t 0.0 \t 0.0 \t 0.0 \t 0.0 \t 0.0 \t 0.0 \t 0.0 \t 0.0 \t 0.0 \t 0.0 \t 0.0 \t 0.0 \t 0.0 \t 0.0 \t 0.0 \t 0.0 \t 0.0 \t 0.0 \t 0.0 \t 0.0 \t 0.0 \t 0.0 \t 0.0 \t 0.0 \t 0.0 \t 0.0 \t 0.0  but\n",
            " 0.000 \t[0.976]\t 0.021 \t 0.0 \t 0.0 \t 0.0 \t 0.0 \t 0.0 \t 0.0 \t 0.0 \t 0.0 \t 0.0 \t 0.0 \t 0.0 \t 0.0 \t 0.0 \t 0.0 \t 0.0 \t 0.0 \t 0.0 \t 0.0 \t 0.0 \t 0.0 \t 0.0 \t 0.0 \t 0.0 \t 0.0 \t 0.0 \t 0.0 \t 0.0 \t 0.0 \t 0.0 \t 0.0 \t 0.0 \t 0.0 \t 0.0 \t 0.0 \t 0.0 \t 0.0 \t 0.0 \t 0.0 \t 0.0 \t 0.0 \t 0.0 \t 0.0 \t 0.0 \t 0.0 \t 0.0 \t 0.0 \t 0.0 \t 0.0 \t 0.0 \t 0.0 \t 0.0 \t 0.0 \t 0.0 \t 0.0 \t 0.0 \t 0.0 \t 0.0 \t 0.0 \t 0.0 \t 0.0 \t 0.0 \t 0.0 \t 0.0 \t 0.0 \t 0.0 \t 0.0 \t 0.0 \t 0.0 \t 0.0 \t 0.0 \t 0.0 \t 0.0 \t 0.0 \t 0.0 \t 0.0 \t 0.0 \t 0.0 \t 0.0 \t 0.0 \t 0.0 \t 0.0 \t 0.0 \t 0.0 \t 0.0 \t 0.0 \t 0.0 \t 0.0 \t 0.0 \t 0.0 \t 0.0 \t 0.0 \t 0.0 \t 0.0 \t 0.0 \t 0.0 \t 0.0 \t 0.0 \t 0.0 \t 0.0 \t 1e-04 \t 0.0 \t 0.0 \t 0.0 \t 0.0 \t 0.0 \t 0.0 \t 0.0 \t 0.0 \t 0.0 \t 0.0 \t 0.0 \t 0.0 \t 0.0 \t 0.0 \t 0.0 \t 0.0 \t 0.0 \t 0.0 \t 0.0 \t 0.0 \t 0.0 \t 0.0 \t 0.0 \t 0.0 \t 0.0 \t 0.0 \t 0.0 \t 0.0 \t 0.0 \t 0.0 \t 0.0 \t 0.0 \t 0.0 \t 0.0 \t 0.0 \t 0.0 \t 0.0 \t 0.0 \t 0.0 \t 0.0 \t 0.0 \t 0.0 \t 0.0 \t 0.0 \t 0.0 \t 0.0 \t 0.0 \t 0.0 \t 0.0 \t 0.0 \t 0.0 \t 0.0 \t 0.0 \t 0.0 \t 0.0 \t 0.0 \t 0.0 \t 0.0  don\n",
            " 0.0 \t 1e-04 \t[0.999]\t 0.0 \t 0.0 \t 0.0 \t 0.0 \t 0.0 \t 0.0 \t 0.0 \t 0.0 \t 0.0 \t 0.0 \t 0.0 \t 0.0 \t 0.0 \t 0.0 \t 0.0 \t 0.0 \t 0.0 \t 0.0 \t 0.0 \t 0.0 \t 0.0 \t 0.0 \t 0.0 \t 0.0 \t 0.0 \t 0.0 \t 0.0 \t 0.0 \t 0.0 \t 0.0 \t 0.0 \t 0.0 \t 0.0 \t 0.0 \t 0.0 \t 0.0 \t 0.0 \t 0.0 \t 0.0 \t 0.0 \t 0.0 \t 0.0 \t 0.0 \t 0.0 \t 0.0 \t 0.0 \t 0.0 \t 0.0 \t 0.0 \t 0.0 \t 0.0 \t 0.0 \t 0.0 \t 0.0 \t 0.0 \t 0.0 \t 0.0 \t 0.0 \t 0.0 \t 0.0 \t 0.0 \t 0.0 \t 0.0 \t 0.0 \t 0.0 \t 0.0 \t 0.0 \t 0.0 \t 0.0 \t 0.0 \t 0.0 \t 0.0 \t 0.0 \t 0.0 \t 0.0 \t 0.0 \t 0.0 \t 0.0 \t 0.0 \t 0.0 \t 0.0 \t 0.0 \t 0.0 \t 0.0 \t 0.0 \t 0.0 \t 0.0 \t 0.0 \t 0.0 \t 0.0 \t 0.0 \t 0.0 \t 0.0 \t 0.0 \t 0.0 \t 0.0 \t 0.0 \t 0.0 \t 0.0 \t 0.0 \t 0.0 \t 0.0 \t 0.0 \t 0.0 \t 0.0 \t 0.0 \t 0.0 \t 0.0 \t 0.0 \t 0.0 \t 0.0 \t 0.0 \t 0.0 \t 0.0 \t 0.0 \t 0.0 \t 0.0 \t 0.0 \t 0.0 \t 0.0 \t 0.0 \t 0.0 \t 0.0 \t 0.0 \t 0.0 \t 0.0 \t 0.0 \t 0.0 \t 0.0 \t 0.0 \t 0.0 \t 0.0 \t 0.0 \t 0.0 \t 0.0 \t 0.0 \t 0.0 \t 0.0 \t 0.0 \t 0.0 \t 0.0 \t 0.0 \t 0.0 \t 0.0 \t 0.0 \t 0.0 \t 0.0 \t 0.0 \t 0.0 \t 0.0 \t 0.0 \t 0.0 \t 0.0 \t 0.0 \t 0.0 \t 0.0 \t 0.0 \t 0.0  '\n",
            " 0.000 \t 0.015 \t[0.980]\t 0.0 \t 0.0 \t 0.0 \t 0.0 \t 0.0 \t 0.0 \t 0.0 \t 0.0 \t 0.0 \t 0.0 \t 0.0 \t 0.0 \t 0.0 \t 0.0 \t 0.0 \t 0.0 \t 0.0 \t 0.0 \t 0.0 \t 0.0 \t 0.0 \t 0.0 \t 0.0 \t 0.0 \t 0.0 \t 0.0 \t 0.0 \t 0.0 \t 0.0 \t 0.0 \t 0.0 \t 0.0 \t 0.0 \t 0.0 \t 0.0 \t 0.0 \t 0.0 \t 0.0 \t 0.0 \t 0.0 \t 0.0 \t 0.0 \t 0.0 \t 0.0 \t 0.0 \t 0.0 \t 0.0 \t 0.0 \t 0.0 \t 0.0 \t 0.0 \t 0.0 \t 0.0 \t 0.0 \t 0.0 \t 0.0 \t 0.0 \t 0.0 \t 0.0 \t 0.0 \t 0.0 \t 0.0 \t 0.0 \t 0.0 \t 0.0 \t 0.0 \t 0.0 \t 0.0 \t 0.0 \t 0.0 \t 0.0 \t 0.0 \t 0.0 \t 0.0 \t 0.0 \t 0.0 \t 0.0 \t 0.0 \t 0.0 \t 0.0 \t 0.0 \t 0.0 \t 0.0 \t 0.0 \t 0.0 \t 0.0 \t 0.0 \t 0.0 \t 0.0 \t 0.0 \t 0.0 \t 0.0 \t 0.0 \t 0.0 \t 0.0 \t 0.0 \t 0.0 \t 0.0 \t 0.0 \t 0.0 \t 0.0 \t 0.0 \t 0.0 \t 0.0 \t 0.0 \t 1e-04 \t 0.0 \t 0.0 \t 0.0 \t 0.0 \t 0.0 \t 0.0 \t 0.0 \t 0.0 \t 0.0 \t 0.0 \t 0.0 \t 0.0 \t 0.0 \t 0.0 \t 0.0 \t 0.0 \t 0.0 \t 0.0 \t 0.0 \t 0.0 \t 0.0 \t 0.0 \t 0.0 \t 0.0 \t 0.0 \t 0.0 \t 0.0 \t 0.0 \t 0.0 \t 0.0 \t 0.0 \t 1e-04 \t 0.0 \t 0.0 \t 0.0 \t 0.0 \t 0.0 \t 0.0 \t 0.0 \t 0.0 \t 0.0 \t 0.0 \t 0.0 \t 0.0 \t 0.0 \t 0.0 \t 0.0 \t 0.0 \t 0.0 \t 0.0 \t 0.0 \t 0.0  t\n",
            " 0.0 \t[0.999]\t 0.000 \t 0.0 \t 0.0 \t 0.0 \t 0.0 \t 0.0 \t 0.0 \t 0.0 \t 0.0 \t 0.0 \t 0.0 \t 0.0 \t 0.0 \t 0.0 \t 0.0 \t 0.0 \t 0.0 \t 0.0 \t 0.0 \t 0.0 \t 0.0 \t 0.0 \t 0.0 \t 0.0 \t 0.0 \t 0.0 \t 0.0 \t 0.0 \t 0.0 \t 0.0 \t 0.0 \t 0.0 \t 0.0 \t 0.0 \t 0.0 \t 0.0 \t 0.0 \t 0.0 \t 0.0 \t 0.0 \t 0.0 \t 0.0 \t 0.0 \t 0.0 \t 0.0 \t 0.0 \t 0.0 \t 0.0 \t 0.0 \t 0.0 \t 0.0 \t 0.0 \t 0.0 \t 0.0 \t 0.0 \t 0.0 \t 0.0 \t 0.0 \t 0.0 \t 0.0 \t 0.0 \t 0.0 \t 0.0 \t 0.0 \t 0.0 \t 0.0 \t 0.0 \t 0.0 \t 0.0 \t 0.0 \t 0.0 \t 0.0 \t 0.0 \t 0.0 \t 0.0 \t 0.0 \t 0.0 \t 0.0 \t 0.0 \t 0.0 \t 0.0 \t 0.0 \t 0.0 \t 0.0 \t 0.0 \t 0.0 \t 0.0 \t 0.0 \t 0.0 \t 0.0 \t 0.0 \t 0.0 \t 0.0 \t 0.0 \t 0.0 \t 0.0 \t 0.0 \t 0.0 \t 0.0 \t 0.0 \t 0.0 \t 0.0 \t 0.0 \t 0.0 \t 0.0 \t 0.0 \t 0.0 \t 0.0 \t 0.0 \t 0.0 \t 0.0 \t 0.0 \t 0.0 \t 0.0 \t 0.0 \t 0.0 \t 0.0 \t 0.0 \t 0.0 \t 0.0 \t 0.0 \t 0.0 \t 0.0 \t 0.0 \t 0.0 \t 0.0 \t 0.0 \t 0.0 \t 0.0 \t 0.0 \t 0.0 \t 0.0 \t 0.0 \t 0.0 \t 0.0 \t 0.0 \t 0.0 \t 0.0 \t 0.0 \t 0.0 \t 0.0 \t 0.0 \t 0.0 \t 0.0 \t 0.0 \t 0.0 \t 0.0 \t 0.0 \t 0.0 \t 0.0 \t 0.0 \t 0.0 \t 0.0 \t 0.0 \t 0.0 \t 0.0 \t 0.0 \t 0.0 \t 0.0  like\n",
            " 0.000 \t 0.018 \t[0.973]\t 0.000 \t 1e-04 \t 0.0 \t 0.0 \t 1e-04 \t 0.0 \t 1e-04 \t 1e-04 \t 0.0 \t 0.0 \t 0.0 \t 1e-04 \t 0.0 \t 0.0 \t 0.0 \t 0.0 \t 0.0 \t 1e-04 \t 0.0 \t 0.0 \t 0.0 \t 1e-04 \t 0.0 \t 0.0 \t 1e-04 \t 0.0 \t 0.0 \t 0.0 \t 1e-04 \t 0.0 \t 0.0 \t 0.0 \t 1e-04 \t 1e-04 \t 0.0 \t 0.0 \t 0.0 \t 1e-04 \t 1e-04 \t 1e-04 \t 1e-04 \t 1e-04 \t 0.0 \t 1e-04 \t 0.0 \t 0.0 \t 0.0 \t 1e-04 \t 0.0 \t 0.0 \t 1e-04 \t 1e-04 \t 0.0 \t 0.0 \t 1e-04 \t 0.0 \t 1e-04 \t 1e-04 \t 0.0 \t 0.0 \t 1e-04 \t 0.0 \t 0.0 \t 1e-04 \t 1e-04 \t 0.0 \t 1e-04 \t 0.0 \t 0.0 \t 1e-04 \t 0.0 \t 0.0 \t 1e-04 \t 0.0 \t 0.0 \t 1e-04 \t 0.0 \t 0.0 \t 0.0 \t 0.0 \t 0.0 \t 0.0 \t 0.0 \t 0.0 \t 1e-04 \t 1e-04 \t 0.0 \t 0.0 \t 0.0 \t 0.0 \t 0.0 \t 0.0 \t 1e-04 \t 0.0 \t 1e-04 \t 1e-04 \t 0.0 \t 0.0 \t 0.0 \t 1e-04 \t 0.0 \t 0.0 \t 1e-04 \t 0.0 \t 0.0 \t 0.0 \t 0.0 \t 0.0 \t 0.0 \t 1e-04 \t 0.0 \t 0.0 \t 0.0 \t 0.0 \t 1e-04 \t 1e-04 \t 0.0 \t 0.0 \t 0.0 \t 0.0 \t 1e-04 \t 1e-04 \t 1e-04 \t 1e-04 \t 0.0 \t 0.0 \t 1e-04 \t 0.0 \t 1e-04 \t 1e-04 \t 0.0 \t 1e-04 \t 0.0 \t 1e-04 \t 0.0 \t 0.0 \t 0.0 \t 1e-04 \t 0.0 \t 0.0 \t 0.0 \t 0.0 \t 1e-04 \t 1e-04 \t 0.0 \t 0.0 \t 0.0 \t 1e-04 \t 0.0 \t 1e-04 \t 0.0 \t 1e-04 \t 0.0 \t 1e-04 \t 0.0 \t 0.0 \t 1e-04 \t 0.0  to\n",
            " 0.001 \t 0.396 \t[0.592]\t 1e-04 \t 0.0 \t 0.0 \t 0.0 \t 0.0 \t 0.0 \t 1e-04 \t 0.0 \t 0.0 \t 0.0 \t 0.0 \t 1e-04 \t 1e-04 \t 0.0 \t 0.0 \t 0.0 \t 1e-04 \t 0.0 \t 0.0 \t 1e-04 \t 1e-04 \t 1e-04 \t 1e-04 \t 0.0 \t 0.0 \t 1e-04 \t 1e-04 \t 0.0 \t 0.000 \t 0.0 \t 0.0 \t 1e-04 \t 0.0 \t 0.0 \t 1e-04 \t 0.000 \t 1e-04 \t 0.000 \t 1e-04 \t 1e-04 \t 0.000 \t 0.0 \t 0.0 \t 1e-04 \t 0.0 \t 0.0 \t 0.0 \t 1e-04 \t 1e-04 \t 1e-04 \t 0.0 \t 1e-04 \t 0.0 \t 0.0 \t 1e-04 \t 1e-04 \t 1e-04 \t 1e-04 \t 0.0 \t 0.0 \t 1e-04 \t 1e-04 \t 1e-04 \t 1e-04 \t 1e-04 \t 1e-04 \t 1e-04 \t 1e-04 \t 0.0 \t 0.0 \t 0.000 \t 0.0 \t 1e-04 \t 0.0 \t 0.0 \t 1e-04 \t 1e-04 \t 1e-04 \t 1e-04 \t 0.0 \t 1e-04 \t 0.0 \t 1e-04 \t 0.0 \t 0.0 \t 1e-04 \t 0.0 \t 1e-04 \t 0.0 \t 0.0 \t 0.0 \t 1e-04 \t 1e-04 \t 0.0 \t 1e-04 \t 1e-04 \t 1e-04 \t 0.0 \t 0.0 \t 1e-04 \t 1e-04 \t 1e-04 \t 1e-04 \t 0.0 \t 1e-04 \t 0.0 \t 1e-04 \t 0.0 \t 1e-04 \t 0.000 \t 1e-04 \t 1e-04 \t 0.0 \t 0.0 \t 1e-04 \t 1e-04 \t 1e-04 \t 0.0 \t 0.0 \t 0.0 \t 1e-04 \t 0.0 \t 0.0 \t 0.0 \t 1e-04 \t 1e-04 \t 1e-04 \t 1e-04 \t 1e-04 \t 1e-04 \t 1e-04 \t 1e-04 \t 0.0 \t 1e-04 \t 0.0 \t 1e-04 \t 0.0 \t 1e-04 \t 1e-04 \t 1e-04 \t 1e-04 \t 1e-04 \t 1e-04 \t 1e-04 \t 0.0 \t 0.0 \t 0.0 \t 1e-04 \t 0.0 \t 1e-04 \t 1e-04 \t 0.0 \t 0.0 \t 0.0 \t 1e-04 \t 1e-04 \t 1e-04 \t 1e-04  make\n",
            " 0.0 \t[0.999]\t 1e-04 \t 0.0 \t 0.0 \t 0.0 \t 0.0 \t 0.0 \t 0.0 \t 0.0 \t 0.0 \t 0.0 \t 0.0 \t 0.0 \t 0.0 \t 0.0 \t 0.0 \t 0.0 \t 0.0 \t 0.0 \t 0.0 \t 0.0 \t 0.0 \t 0.0 \t 0.0 \t 0.0 \t 0.0 \t 0.0 \t 0.0 \t 0.0 \t 0.0 \t 0.0 \t 0.0 \t 0.0 \t 0.0 \t 0.0 \t 0.0 \t 0.0 \t 0.0 \t 0.0 \t 0.0 \t 0.0 \t 0.0 \t 0.0 \t 0.0 \t 0.0 \t 0.0 \t 0.0 \t 0.0 \t 0.0 \t 0.0 \t 0.0 \t 0.0 \t 0.0 \t 0.0 \t 0.0 \t 0.0 \t 0.0 \t 0.0 \t 0.0 \t 0.0 \t 0.0 \t 0.0 \t 0.0 \t 0.0 \t 0.0 \t 0.0 \t 0.0 \t 0.0 \t 0.0 \t 0.0 \t 0.0 \t 0.0 \t 0.0 \t 0.0 \t 0.0 \t 0.0 \t 0.0 \t 0.0 \t 0.0 \t 0.0 \t 0.0 \t 0.0 \t 0.0 \t 0.0 \t 0.0 \t 0.0 \t 0.0 \t 0.0 \t 0.0 \t 0.0 \t 0.0 \t 0.0 \t 0.0 \t 0.0 \t 0.0 \t 0.0 \t 0.0 \t 0.0 \t 0.0 \t 0.0 \t 0.0 \t 0.0 \t 0.0 \t 0.0 \t 0.0 \t 0.0 \t 0.0 \t 0.0 \t 0.0 \t 0.0 \t 0.0 \t 0.0 \t 0.0 \t 0.0 \t 0.0 \t 0.0 \t 0.0 \t 0.0 \t 0.0 \t 0.0 \t 0.0 \t 0.0 \t 0.0 \t 0.0 \t 0.0 \t 0.0 \t 0.0 \t 0.0 \t 0.0 \t 0.0 \t 0.0 \t 0.0 \t 0.0 \t 0.0 \t 0.0 \t 0.0 \t 0.0 \t 0.0 \t 0.0 \t 0.0 \t 0.0 \t 0.0 \t 0.0 \t 0.0 \t 0.0 \t 0.0 \t 0.0 \t 0.0 \t 0.0 \t 0.0 \t 0.0 \t 0.0 \t 0.0 \t 0.0 \t 0.0 \t 0.0 \t 0.0 \t 0.0 \t 0.0 \t 0.0  homework\n",
            " 0.153 \t 0.062 \t[0.685]\t 0.000 \t 0.000 \t 0.000 \t 0.000 \t 0.000 \t 0.000 \t 0.000 \t 0.000 \t 0.000 \t 0.000 \t 0.000 \t 0.001 \t 0.000 \t 0.000 \t 1e-04 \t 0.000 \t 0.000 \t 0.000 \t 0.000 \t 0.000 \t 0.001 \t 0.000 \t 0.000 \t 0.000 \t 0.000 \t 0.000 \t 0.000 \t 0.000 \t 0.001 \t 0.001 \t 0.000 \t 0.001 \t 0.000 \t 0.000 \t 0.000 \t 0.000 \t 0.000 \t 0.000 \t 0.000 \t 0.000 \t 0.000 \t 0.000 \t 0.000 \t 0.000 \t 1e-04 \t 0.000 \t 0.000 \t 0.001 \t 0.000 \t 0.000 \t 0.000 \t 0.000 \t 0.000 \t 0.000 \t 0.000 \t 0.000 \t 0.000 \t 0.000 \t 0.000 \t 0.000 \t 0.000 \t 0.000 \t 0.000 \t 0.000 \t 0.000 \t 0.000 \t 0.000 \t 0.000 \t 0.000 \t 0.000 \t 0.000 \t 0.000 \t 0.000 \t 0.000 \t 0.000 \t 0.000 \t 0.000 \t 0.000 \t 0.000 \t 0.000 \t 0.000 \t 0.000 \t 0.000 \t 0.000 \t 0.000 \t 0.000 \t 0.001 \t 0.001 \t 0.000 \t 0.000 \t 0.000 \t 0.000 \t 0.000 \t 0.000 \t 0.000 \t 0.000 \t 0.000 \t 0.000 \t 0.000 \t 0.001 \t 0.000 \t 0.000 \t 0.000 \t 0.000 \t 0.000 \t 0.001 \t 0.000 \t 0.000 \t 0.000 \t 0.000 \t 0.001 \t 0.000 \t 0.000 \t 0.000 \t 0.000 \t 0.000 \t 0.000 \t 0.000 \t 0.000 \t 0.000 \t 0.000 \t 0.000 \t 0.001 \t 0.000 \t 0.000 \t 0.000 \t 0.000 \t 0.000 \t 0.000 \t 0.000 \t 0.000 \t 0.000 \t 0.000 \t 0.000 \t 0.000 \t 0.000 \t 0.000 \t 0.002 \t 0.000 \t 0.000 \t 0.001 \t 0.000 \t 0.000 \t 0.001 \t 0.000 \t 0.000 \t 0.001 \t 0.000 \t 0.000 \t 0.000 \t 0.001 \t 0.000 \t 0.000 \t 0.000 \t 0.000 \t 0.000 \t 0.001 \t 0.000  [SEP]\n",
            " 0.000 \t[0.894]\t 0.101 \t 0.0 \t 0.0 \t 0.0 \t 0.0 \t 0.0 \t 0.0 \t 0.0 \t 0.0 \t 0.0 \t 0.0 \t 0.0 \t 0.0 \t 0.0 \t 0.0 \t 0.0 \t 0.0 \t 0.0 \t 0.0 \t 0.0 \t 0.0 \t 0.0 \t 0.0 \t 0.0 \t 0.0 \t 0.0 \t 0.0 \t 0.0 \t 0.0 \t 0.0 \t 0.0 \t 0.0 \t 0.0 \t 0.0 \t 0.0 \t 0.0 \t 0.0 \t 0.0 \t 0.0 \t 0.0 \t 0.0 \t 0.0 \t 0.0 \t 0.0 \t 0.0 \t 0.0 \t 0.0 \t 0.0 \t 0.0 \t 0.0 \t 0.0 \t 0.0 \t 1e-04 \t 0.0 \t 0.0 \t 0.0 \t 0.0 \t 0.0 \t 0.0 \t 0.0 \t 0.0 \t 0.0 \t 1e-04 \t 0.0 \t 0.0 \t 0.0 \t 0.0 \t 1e-04 \t 0.0 \t 0.0 \t 0.0 \t 1e-04 \t 0.0 \t 0.0 \t 0.0 \t 0.0 \t 0.0 \t 0.0 \t 0.0 \t 0.0 \t 0.0 \t 0.0 \t 0.0 \t 0.0 \t 0.0 \t 0.0 \t 0.0 \t 0.0 \t 1e-04 \t 0.0 \t 0.0 \t 0.0 \t 0.0 \t 1e-04 \t 0.0 \t 0.0 \t 0.0 \t 0.0 \t 0.0 \t 0.0 \t 1e-04 \t 0.0 \t 0.0 \t 0.0 \t 0.0 \t 1e-04 \t 0.0 \t 0.0 \t 0.0 \t 0.0 \t 0.0 \t 0.0 \t 0.0 \t 0.0 \t 0.0 \t 0.0 \t 0.0 \t 0.0 \t 0.0 \t 0.0 \t 0.0 \t 0.0 \t 0.0 \t 0.0 \t 0.0 \t 0.0 \t 0.0 \t 0.0 \t 0.0 \t 0.0 \t 0.0 \t 0.0 \t 0.0 \t 0.0 \t 0.0 \t 0.0 \t 0.0 \t 0.0 \t 1e-04 \t 0.0 \t 0.0 \t 0.0 \t 0.0 \t 0.0 \t 0.0 \t 0.0 \t 0.0 \t 0.0 \t 1e-04 \t 0.0 \t 0.0 \t 0.0 \t 0.0 \t 0.0 \t 0.0 \t 0.0 \t 0.0 \t 0.0 \t 0.0  what\n",
            " 0.000 \t 0.029 \t[0.966]\t 0.0 \t 0.0 \t 0.0 \t 0.0 \t 0.0 \t 0.0 \t 0.0 \t 0.0 \t 0.0 \t 0.0 \t 0.0 \t 0.0 \t 0.0 \t 0.0 \t 0.0 \t 0.0 \t 0.0 \t 0.0 \t 0.0 \t 0.0 \t 0.0 \t 0.0 \t 0.0 \t 0.0 \t 0.0 \t 0.0 \t 0.0 \t 0.0 \t 0.0 \t 0.0 \t 0.0 \t 0.0 \t 0.0 \t 0.0 \t 0.0 \t 0.0 \t 0.0 \t 0.0 \t 0.0 \t 0.0 \t 0.0 \t 0.0 \t 0.0 \t 0.0 \t 0.0 \t 0.0 \t 0.0 \t 0.0 \t 0.0 \t 0.0 \t 0.0 \t 0.0 \t 0.0 \t 0.0 \t 0.0 \t 0.0 \t 0.0 \t 0.0 \t 0.0 \t 0.0 \t 0.0 \t 0.0 \t 0.0 \t 0.0 \t 0.0 \t 0.0 \t 0.0 \t 0.0 \t 0.0 \t 0.0 \t 0.0 \t 0.0 \t 0.0 \t 0.0 \t 0.0 \t 0.0 \t 0.0 \t 0.0 \t 0.0 \t 0.0 \t 0.0 \t 0.0 \t 0.0 \t 0.0 \t 0.0 \t 0.0 \t 0.0 \t 0.0 \t 1e-04 \t 0.0 \t 0.0 \t 0.0 \t 0.0 \t 0.0 \t 0.0 \t 0.0 \t 0.0 \t 0.0 \t 0.0 \t 0.0 \t 0.0 \t 0.0 \t 0.0 \t 0.0 \t 0.0 \t 0.0 \t 0.0 \t 0.0 \t 0.0 \t 0.0 \t 0.0 \t 0.0 \t 0.0 \t 0.0 \t 0.0 \t 1e-04 \t 0.0 \t 0.0 \t 0.0 \t 0.0 \t 0.0 \t 0.0 \t 0.0 \t 0.0 \t 0.0 \t 0.0 \t 0.0 \t 0.0 \t 0.0 \t 0.0 \t 0.0 \t 0.0 \t 0.0 \t 0.0 \t 0.0 \t 0.0 \t 0.0 \t 0.0 \t 0.0 \t 0.0 \t 0.0 \t 0.0 \t 0.0 \t 0.0 \t 0.0 \t 0.0 \t 0.0 \t 0.0 \t 0.0 \t 0.0 \t 0.0 \t 0.0 \t 0.0 \t 0.0 \t 0.0 \t 0.0 \t 0.0 \t 0.0  does\n",
            " 0.0 \t[0.998]\t 0.001 \t 0.0 \t 0.0 \t 0.0 \t 0.0 \t 0.0 \t 0.0 \t 0.0 \t 0.0 \t 0.0 \t 0.0 \t 0.0 \t 0.0 \t 0.0 \t 0.0 \t 0.0 \t 0.0 \t 0.0 \t 0.0 \t 0.0 \t 0.0 \t 0.0 \t 0.0 \t 0.0 \t 0.0 \t 0.0 \t 0.0 \t 0.0 \t 0.0 \t 0.0 \t 0.0 \t 0.0 \t 0.0 \t 0.0 \t 0.0 \t 0.0 \t 0.0 \t 0.0 \t 0.0 \t 0.0 \t 0.0 \t 0.0 \t 0.0 \t 0.0 \t 0.0 \t 0.0 \t 0.0 \t 0.0 \t 0.0 \t 0.0 \t 0.0 \t 0.0 \t 0.0 \t 0.0 \t 0.0 \t 0.0 \t 0.0 \t 0.0 \t 0.0 \t 0.0 \t 0.0 \t 0.0 \t 0.0 \t 0.0 \t 0.0 \t 0.0 \t 0.0 \t 0.0 \t 0.0 \t 0.0 \t 0.0 \t 0.0 \t 0.0 \t 0.0 \t 0.0 \t 0.0 \t 0.0 \t 0.0 \t 0.0 \t 0.0 \t 0.0 \t 0.0 \t 0.0 \t 0.0 \t 0.0 \t 0.0 \t 0.0 \t 0.0 \t 0.0 \t 0.0 \t 0.0 \t 0.0 \t 0.0 \t 0.0 \t 0.0 \t 0.0 \t 0.0 \t 0.0 \t 0.0 \t 0.0 \t 0.0 \t 0.0 \t 0.0 \t 0.0 \t 0.0 \t 0.0 \t 0.0 \t 0.0 \t 0.0 \t 0.0 \t 0.0 \t 0.0 \t 0.0 \t 0.0 \t 0.0 \t 0.0 \t 0.0 \t 0.0 \t 0.0 \t 0.0 \t 0.0 \t 0.0 \t 0.0 \t 0.0 \t 0.0 \t 0.0 \t 0.0 \t 0.0 \t 0.0 \t 0.0 \t 0.0 \t 0.0 \t 0.0 \t 0.0 \t 0.0 \t 0.0 \t 0.0 \t 0.0 \t 0.0 \t 0.0 \t 0.0 \t 0.0 \t 0.0 \t 0.0 \t 0.0 \t 0.0 \t 0.0 \t 0.0 \t 0.0 \t 0.0 \t 0.0 \t 0.0 \t 0.0 \t 0.0 \t 0.0 \t 0.0 \t 0.0 \t 0.0 \t 0.0  mike\n",
            " 0.000 \t[0.989]\t 0.008 \t 0.0 \t 0.0 \t 0.0 \t 0.0 \t 0.0 \t 0.0 \t 0.0 \t 0.0 \t 0.0 \t 0.0 \t 0.0 \t 0.0 \t 0.0 \t 0.0 \t 0.0 \t 0.0 \t 0.0 \t 0.0 \t 0.0 \t 0.0 \t 0.0 \t 0.0 \t 0.0 \t 0.0 \t 0.0 \t 0.0 \t 0.0 \t 0.0 \t 0.0 \t 0.0 \t 0.0 \t 0.0 \t 0.0 \t 0.0 \t 0.0 \t 0.0 \t 0.0 \t 0.0 \t 0.0 \t 0.0 \t 0.0 \t 0.0 \t 0.0 \t 0.0 \t 0.0 \t 0.0 \t 0.0 \t 0.0 \t 0.0 \t 0.0 \t 0.0 \t 0.0 \t 0.0 \t 0.0 \t 0.0 \t 0.0 \t 0.0 \t 0.0 \t 0.0 \t 0.0 \t 0.0 \t 0.0 \t 0.0 \t 0.0 \t 0.0 \t 0.0 \t 0.0 \t 0.0 \t 0.0 \t 0.0 \t 0.0 \t 0.0 \t 0.0 \t 0.0 \t 0.0 \t 0.0 \t 0.0 \t 0.0 \t 0.0 \t 0.0 \t 0.0 \t 0.0 \t 0.0 \t 0.0 \t 0.0 \t 0.0 \t 0.0 \t 0.0 \t 0.0 \t 0.0 \t 0.0 \t 0.0 \t 0.0 \t 0.0 \t 0.0 \t 0.0 \t 0.0 \t 0.0 \t 0.0 \t 0.0 \t 0.0 \t 0.0 \t 0.0 \t 0.0 \t 0.0 \t 0.0 \t 0.0 \t 0.0 \t 0.0 \t 0.0 \t 0.0 \t 0.0 \t 0.0 \t 0.0 \t 0.0 \t 0.0 \t 0.0 \t 0.0 \t 0.0 \t 0.0 \t 0.0 \t 0.0 \t 0.0 \t 0.0 \t 0.0 \t 0.0 \t 0.0 \t 0.0 \t 0.0 \t 0.0 \t 0.0 \t 0.0 \t 0.0 \t 0.0 \t 0.0 \t 0.0 \t 0.0 \t 0.0 \t 0.0 \t 0.0 \t 0.0 \t 0.0 \t 0.0 \t 0.0 \t 0.0 \t 0.0 \t 0.0 \t 0.0 \t 0.0 \t 0.0 \t 0.0 \t 0.0 \t 0.0 \t 0.0 \t 0.0 \t 0.0 \t 0.0 \t 0.0  want\n",
            " 0.000 \t 0.008 \t[0.986]\t 1e-04 \t 0.0 \t 0.0 \t 0.0 \t 1e-04 \t 0.0 \t 0.0 \t 0.0 \t 0.0 \t 0.0 \t 0.0 \t 0.0 \t 0.0 \t 0.0 \t 0.0 \t 0.0 \t 0.0 \t 0.0 \t 0.0 \t 0.0 \t 0.0 \t 0.0 \t 0.0 \t 0.0 \t 0.0 \t 0.0 \t 0.0 \t 0.0 \t 1e-04 \t 0.0 \t 0.0 \t 0.0 \t 0.0 \t 1e-04 \t 0.0 \t 0.0 \t 0.0 \t 1e-04 \t 1e-04 \t 0.0 \t 1e-04 \t 0.0 \t 0.0 \t 0.0 \t 0.0 \t 0.0 \t 0.0 \t 0.0 \t 0.0 \t 0.0 \t 0.0 \t 0.0 \t 0.0 \t 0.0 \t 0.0 \t 0.0 \t 0.0 \t 1e-04 \t 0.0 \t 0.0 \t 1e-04 \t 0.0 \t 0.0 \t 0.0 \t 0.0 \t 0.0 \t 0.0 \t 0.0 \t 0.0 \t 0.0 \t 0.0 \t 0.0 \t 0.0 \t 0.0 \t 0.0 \t 0.0 \t 0.0 \t 0.0 \t 0.0 \t 0.0 \t 0.0 \t 0.0 \t 0.0 \t 0.0 \t 0.0 \t 0.0 \t 0.0 \t 0.0 \t 0.0 \t 0.0 \t 0.0 \t 0.0 \t 1e-04 \t 0.0 \t 0.0 \t 0.0 \t 0.0 \t 0.0 \t 0.0 \t 0.0 \t 0.0 \t 0.0 \t 0.0 \t 0.0 \t 0.0 \t 0.0 \t 0.0 \t 0.0 \t 0.0 \t 0.0 \t 0.0 \t 0.0 \t 0.0 \t 0.0 \t 0.0 \t 1e-04 \t 0.0 \t 0.0 \t 0.0 \t 0.0 \t 0.0 \t 0.0 \t 1e-04 \t 0.0 \t 0.0 \t 0.0 \t 1e-04 \t 0.0 \t 0.0 \t 0.0 \t 0.0 \t 0.0 \t 0.0 \t 0.0 \t 0.0 \t 0.0 \t 0.0 \t 1e-04 \t 0.0 \t 0.0 \t 0.0 \t 0.0 \t 0.0 \t 0.0 \t 0.0 \t 0.0 \t 0.0 \t 0.0 \t 0.0 \t 1e-04 \t 0.0 \t 0.0 \t 0.0 \t 0.0 \t 0.0 \t 0.0 \t 1e-04 \t 0.0  to\n",
            " 0.000 \t 0.009 \t[0.987]\t 0.0 \t 0.0 \t 0.0 \t 0.0 \t 0.0 \t 0.0 \t 0.0 \t 0.0 \t 0.0 \t 0.0 \t 0.0 \t 0.0 \t 0.0 \t 0.0 \t 0.0 \t 0.0 \t 0.0 \t 0.0 \t 0.0 \t 0.0 \t 0.0 \t 0.0 \t 0.0 \t 0.0 \t 0.0 \t 0.0 \t 0.0 \t 0.0 \t 1e-04 \t 0.0 \t 0.0 \t 0.0 \t 0.0 \t 0.0 \t 0.0 \t 0.0 \t 0.0 \t 0.0 \t 0.0 \t 0.0 \t 0.0 \t 0.0 \t 0.0 \t 0.0 \t 0.0 \t 0.0 \t 0.0 \t 0.0 \t 0.0 \t 0.0 \t 0.0 \t 0.0 \t 0.0 \t 0.0 \t 0.0 \t 0.0 \t 0.0 \t 0.0 \t 0.0 \t 0.0 \t 0.0 \t 0.0 \t 0.0 \t 0.0 \t 0.0 \t 0.0 \t 0.0 \t 0.0 \t 0.0 \t 0.0 \t 0.0 \t 0.0 \t 0.0 \t 0.0 \t 0.0 \t 0.0 \t 0.0 \t 0.0 \t 0.0 \t 0.0 \t 0.0 \t 0.0 \t 0.0 \t 0.0 \t 0.0 \t 0.0 \t 0.0 \t 0.0 \t 0.0 \t 0.0 \t 0.0 \t 0.0 \t 0.0 \t 0.0 \t 0.0 \t 0.0 \t 0.0 \t 0.0 \t 0.0 \t 0.0 \t 0.0 \t 0.0 \t 0.0 \t 0.0 \t 0.0 \t 0.0 \t 0.0 \t 0.0 \t 0.0 \t 0.0 \t 0.0 \t 0.0 \t 0.0 \t 0.0 \t 0.0 \t 0.0 \t 0.0 \t 0.0 \t 0.0 \t 0.0 \t 0.0 \t 0.0 \t 0.0 \t 0.0 \t 0.0 \t 0.0 \t 0.0 \t 0.0 \t 0.0 \t 0.0 \t 0.0 \t 0.0 \t 0.0 \t 0.0 \t 0.0 \t 0.0 \t 0.0 \t 0.0 \t 0.0 \t 0.0 \t 0.0 \t 0.0 \t 0.0 \t 0.0 \t 0.0 \t 0.0 \t 0.0 \t 0.0 \t 0.0 \t 0.0 \t 0.0 \t 0.0 \t 0.0 \t 0.0 \t 0.0 \t 0.0 \t 0.0 \t 0.0  do\n",
            " 0.002 \t[0.543]\t 0.446 \t 1e-04 \t 1e-04 \t 0.0 \t 1e-04 \t 1e-04 \t 1e-04 \t 1e-04 \t 1e-04 \t 0.0 \t 0.0 \t 0.0 \t 0.0 \t 0.0 \t 0.0 \t 0.0 \t 1e-04 \t 0.0 \t 0.0 \t 0.0 \t 0.0 \t 1e-04 \t 1e-04 \t 0.0 \t 0.0 \t 0.0 \t 0.0 \t 1e-04 \t 0.0 \t 1e-04 \t 0.0 \t 0.0 \t 1e-04 \t 0.0 \t 0.0 \t 1e-04 \t 0.0 \t 0.0 \t 0.000 \t 1e-04 \t 0.0 \t 1e-04 \t 0.0 \t 0.0 \t 1e-04 \t 0.0 \t 0.0 \t 0.0 \t 0.0 \t 0.0 \t 1e-04 \t 0.0 \t 1e-04 \t 0.0 \t 0.0 \t 0.0 \t 1e-04 \t 0.0 \t 0.0 \t 1e-04 \t 0.0 \t 1e-04 \t 1e-04 \t 1e-04 \t 1e-04 \t 0.0 \t 0.0 \t 1e-04 \t 0.0 \t 0.0 \t 0.0 \t 1e-04 \t 0.0 \t 1e-04 \t 0.0 \t 0.0 \t 1e-04 \t 0.0 \t 1e-04 \t 1e-04 \t 0.0 \t 1e-04 \t 0.0 \t 0.0 \t 0.0 \t 0.0 \t 1e-04 \t 1e-04 \t 0.000 \t 1e-04 \t 0.0 \t 0.0 \t 1e-04 \t 1e-04 \t 0.0 \t 0.0 \t 0.0 \t 0.0 \t 0.0 \t 0.0 \t 1e-04 \t 0.0 \t 1e-04 \t 0.0 \t 0.0 \t 0.000 \t 1e-04 \t 1e-04 \t 0.0 \t 0.0 \t 1e-04 \t 0.0 \t 1e-04 \t 0.0 \t 0.0 \t 1e-04 \t 0.0 \t 1e-04 \t 0.0 \t 0.0 \t 0.0 \t 1e-04 \t 0.0 \t 1e-04 \t 1e-04 \t 1e-04 \t 1e-04 \t 1e-04 \t 0.0 \t 0.0 \t 0.0 \t 0.0 \t 0.0 \t 0.0 \t 0.0 \t 0.0 \t 1e-04 \t 0.0 \t 0.000 \t 0.0 \t 0.0 \t 1e-04 \t 1e-04 \t 1e-04 \t 1e-04 \t 1e-04 \t 0.0 \t 0.0 \t 1e-04 \t 0.0 \t 1e-04 \t 0.0 \t 0.0 \t 1e-04 \t 0.0 \t 0.0 \t 1e-04 \t 1e-04 \t 0.0  ?\n",
            " 0.153 \t 0.062 \t[0.685]\t 0.000 \t 0.000 \t 0.000 \t 0.000 \t 0.000 \t 0.000 \t 0.000 \t 0.000 \t 0.000 \t 0.000 \t 0.000 \t 0.001 \t 0.000 \t 0.000 \t 1e-04 \t 0.000 \t 0.000 \t 0.000 \t 0.000 \t 0.000 \t 0.001 \t 0.000 \t 0.000 \t 0.000 \t 0.000 \t 0.000 \t 0.000 \t 0.000 \t 0.001 \t 0.001 \t 0.000 \t 0.001 \t 0.000 \t 0.000 \t 0.000 \t 0.000 \t 0.000 \t 0.000 \t 0.000 \t 0.000 \t 0.000 \t 0.000 \t 0.000 \t 0.000 \t 1e-04 \t 0.000 \t 0.000 \t 0.001 \t 0.000 \t 0.000 \t 0.000 \t 0.000 \t 0.000 \t 0.000 \t 0.000 \t 0.000 \t 0.000 \t 0.000 \t 0.000 \t 0.000 \t 0.000 \t 0.000 \t 0.000 \t 0.000 \t 0.000 \t 0.000 \t 0.000 \t 0.000 \t 0.000 \t 0.000 \t 0.000 \t 0.000 \t 0.000 \t 0.000 \t 0.000 \t 0.000 \t 0.000 \t 0.000 \t 0.000 \t 0.000 \t 0.000 \t 0.000 \t 0.000 \t 0.000 \t 0.000 \t 0.000 \t 0.001 \t 0.001 \t 0.000 \t 0.000 \t 0.000 \t 0.000 \t 0.000 \t 0.000 \t 0.000 \t 0.000 \t 0.000 \t 0.000 \t 0.000 \t 0.001 \t 0.000 \t 0.000 \t 0.000 \t 0.000 \t 0.000 \t 0.001 \t 0.000 \t 0.000 \t 0.000 \t 0.000 \t 0.001 \t 0.000 \t 0.000 \t 0.000 \t 0.000 \t 0.000 \t 0.000 \t 0.000 \t 0.000 \t 0.000 \t 0.000 \t 0.000 \t 0.001 \t 0.000 \t 0.000 \t 0.000 \t 0.000 \t 0.000 \t 0.000 \t 0.000 \t 0.000 \t 0.000 \t 0.000 \t 0.000 \t 0.000 \t 0.000 \t 0.000 \t 0.002 \t 0.000 \t 0.000 \t 0.001 \t 0.000 \t 0.000 \t 0.001 \t 0.000 \t 0.000 \t 0.001 \t 0.000 \t 0.000 \t 0.000 \t 0.001 \t 0.000 \t 0.000 \t 0.000 \t 0.000 \t 0.000 \t 0.001 \t 0.000  [SEP]\n",
            " 0.0 \t[0.999]\t 0.000 \t 0.0 \t 0.0 \t 0.0 \t 0.0 \t 0.0 \t 0.0 \t 0.0 \t 0.0 \t 0.0 \t 0.0 \t 0.0 \t 0.0 \t 0.0 \t 0.0 \t 0.0 \t 0.0 \t 0.0 \t 0.0 \t 0.0 \t 0.0 \t 0.0 \t 0.0 \t 0.0 \t 0.0 \t 0.0 \t 0.0 \t 0.0 \t 0.0 \t 0.0 \t 0.0 \t 0.0 \t 0.0 \t 0.0 \t 0.0 \t 0.0 \t 0.0 \t 0.0 \t 0.0 \t 0.0 \t 0.0 \t 0.0 \t 0.0 \t 0.0 \t 0.0 \t 0.0 \t 0.0 \t 0.0 \t 0.0 \t 0.0 \t 0.0 \t 0.0 \t 0.0 \t 0.0 \t 0.0 \t 0.0 \t 0.0 \t 0.0 \t 0.0 \t 0.0 \t 0.0 \t 0.0 \t 0.0 \t 0.0 \t 0.0 \t 0.0 \t 0.0 \t 0.0 \t 0.0 \t 0.0 \t 0.0 \t 0.0 \t 0.0 \t 0.0 \t 0.0 \t 0.0 \t 0.0 \t 0.0 \t 0.0 \t 0.0 \t 0.0 \t 0.0 \t 0.0 \t 0.0 \t 0.0 \t 0.0 \t 0.0 \t 0.0 \t 0.0 \t 0.0 \t 0.0 \t 0.0 \t 0.0 \t 0.0 \t 0.0 \t 0.0 \t 0.0 \t 0.0 \t 0.0 \t 0.0 \t 0.0 \t 0.0 \t 0.0 \t 0.0 \t 0.0 \t 0.0 \t 0.0 \t 0.0 \t 0.0 \t 0.0 \t 0.0 \t 0.0 \t 0.0 \t 0.0 \t 0.0 \t 0.0 \t 0.0 \t 0.0 \t 0.0 \t 0.0 \t 0.0 \t 0.0 \t 0.0 \t 0.0 \t 0.0 \t 0.0 \t 0.0 \t 0.0 \t 0.0 \t 0.0 \t 0.0 \t 0.0 \t 0.0 \t 0.0 \t 0.0 \t 0.0 \t 0.0 \t 0.0 \t 0.0 \t 0.0 \t 0.0 \t 0.0 \t 0.0 \t 0.0 \t 0.0 \t 0.0 \t 0.0 \t 0.0 \t 0.0 \t 0.0 \t 0.0 \t 0.0 \t 0.0 \t 0.0 \t 0.0 \t 0.0 \t 0.0 \t 0.0 \t 0.0  gaming\n",
            " 0.000 \t 0.012 \t[0.981]\t 0.0 \t 0.0 \t 0.0 \t 0.0 \t 1e-04 \t 0.0 \t 0.0 \t 0.0 \t 0.0 \t 0.0 \t 1e-04 \t 0.0 \t 1e-04 \t 0.0 \t 0.0 \t 0.0 \t 0.0 \t 1e-04 \t 0.0 \t 0.0 \t 0.0 \t 0.0 \t 0.0 \t 0.0 \t 0.0 \t 0.0 \t 0.0 \t 0.0 \t 1e-04 \t 0.0 \t 0.0 \t 0.0 \t 0.0 \t 0.0 \t 0.0 \t 0.0 \t 0.0 \t 0.0 \t 0.0 \t 0.0 \t 1e-04 \t 0.0 \t 0.0 \t 0.0 \t 0.0 \t 0.0 \t 0.0 \t 0.0 \t 0.0 \t 0.0 \t 0.0 \t 0.0 \t 0.0 \t 0.0 \t 0.0 \t 0.0 \t 0.0 \t 0.0 \t 0.0 \t 0.0 \t 0.0 \t 0.0 \t 0.0 \t 0.0 \t 0.0 \t 0.0 \t 1e-04 \t 0.0 \t 0.0 \t 0.0 \t 0.0 \t 0.0 \t 0.0 \t 0.0 \t 0.0 \t 0.0 \t 0.0 \t 0.0 \t 1e-04 \t 0.0 \t 1e-04 \t 0.0 \t 0.0 \t 0.0 \t 0.0 \t 0.0 \t 0.0 \t 0.0 \t 0.0 \t 0.0 \t 0.0 \t 0.0 \t 0.0 \t 0.0 \t 0.0 \t 0.0 \t 0.0 \t 0.0 \t 0.0 \t 0.0 \t 0.0 \t 0.0 \t 0.0 \t 0.0 \t 1e-04 \t 0.0 \t 0.0 \t 0.0 \t 0.0 \t 0.0 \t 0.0 \t 0.0 \t 0.0 \t 0.0 \t 0.0 \t 0.0 \t 0.0 \t 0.0 \t 0.0 \t 0.0 \t 0.0 \t 0.0 \t 1e-04 \t 0.0 \t 0.0 \t 0.0 \t 0.0 \t 0.0 \t 0.0 \t 0.0 \t 0.0 \t 0.0 \t 0.0 \t 0.0 \t 0.0 \t 0.0 \t 0.0 \t 0.000 \t 0.0 \t 0.0 \t 0.0 \t 0.0 \t 0.0 \t 0.0 \t 0.0 \t 0.0 \t 0.0 \t 0.0 \t 0.0 \t 0.0 \t 0.0 \t 0.0 \t 0.0 \t 0.0 \t 0.0 \t 0.0 \t 0.0 \t 0.0  ,\n",
            " 0.001 \t 0.057 \t[0.938]\t 0.0 \t 0.0 \t 0.0 \t 0.0 \t 0.0 \t 0.0 \t 0.0 \t 0.0 \t 0.0 \t 0.0 \t 0.0 \t 0.0 \t 0.0 \t 0.0 \t 0.0 \t 0.0 \t 0.0 \t 0.0 \t 0.0 \t 0.0 \t 0.0 \t 0.0 \t 0.0 \t 0.0 \t 0.0 \t 0.0 \t 0.0 \t 0.0 \t 0.0 \t 0.0 \t 0.0 \t 0.0 \t 0.0 \t 0.0 \t 0.0 \t 0.0 \t 0.0 \t 0.0 \t 0.0 \t 0.0 \t 0.0 \t 0.0 \t 0.0 \t 0.0 \t 0.0 \t 0.0 \t 0.0 \t 0.0 \t 0.0 \t 0.0 \t 0.0 \t 0.0 \t 0.0 \t 0.0 \t 0.0 \t 0.0 \t 0.0 \t 0.0 \t 0.0 \t 0.0 \t 0.0 \t 0.0 \t 0.0 \t 0.0 \t 0.0 \t 0.0 \t 1e-04 \t 0.0 \t 0.0 \t 0.0 \t 0.0 \t 0.0 \t 0.0 \t 0.0 \t 0.0 \t 0.0 \t 0.0 \t 0.0 \t 0.0 \t 0.0 \t 0.0 \t 0.0 \t 0.0 \t 0.0 \t 0.0 \t 0.0 \t 0.0 \t 0.0 \t 0.0 \t 0.0 \t 0.0 \t 0.0 \t 0.0 \t 0.0 \t 0.0 \t 0.0 \t 0.0 \t 0.0 \t 0.0 \t 0.0 \t 0.0 \t 0.0 \t 0.0 \t 0.0 \t 0.0 \t 0.0 \t 0.0 \t 0.0 \t 0.0 \t 0.0 \t 0.0 \t 0.0 \t 0.0 \t 0.0 \t 0.0 \t 0.0 \t 0.0 \t 0.0 \t 0.0 \t 0.0 \t 0.0 \t 0.0 \t 0.0 \t 0.0 \t 1e-04 \t 0.0 \t 0.0 \t 0.0 \t 0.0 \t 0.0 \t 0.0 \t 0.0 \t 0.0 \t 0.0 \t 0.0 \t 0.0 \t 0.0 \t 1e-04 \t 0.0 \t 0.0 \t 0.0 \t 0.0 \t 0.0 \t 0.0 \t 0.0 \t 0.0 \t 0.0 \t 0.0 \t 0.0 \t 0.0 \t 0.0 \t 0.0 \t 0.0 \t 0.0 \t 0.0 \t 0.0 \t 0.0 \t 0.0  but\n",
            " 0.0 \t[0.997]\t 0.001 \t 0.0 \t 0.0 \t 0.0 \t 0.0 \t 0.0 \t 0.0 \t 0.0 \t 0.0 \t 0.0 \t 0.0 \t 0.0 \t 0.0 \t 0.0 \t 0.0 \t 0.0 \t 0.0 \t 0.0 \t 0.0 \t 0.0 \t 0.0 \t 0.0 \t 0.0 \t 0.0 \t 0.0 \t 0.0 \t 0.0 \t 0.0 \t 0.0 \t 0.0 \t 0.0 \t 0.0 \t 0.0 \t 0.0 \t 0.0 \t 0.0 \t 0.0 \t 0.0 \t 0.0 \t 0.0 \t 0.0 \t 0.0 \t 0.0 \t 0.0 \t 0.0 \t 0.0 \t 0.0 \t 0.0 \t 0.0 \t 0.0 \t 0.0 \t 0.0 \t 0.0 \t 0.0 \t 0.0 \t 0.0 \t 0.0 \t 0.0 \t 0.0 \t 0.0 \t 0.0 \t 0.0 \t 0.0 \t 0.0 \t 0.0 \t 0.0 \t 0.0 \t 0.0 \t 0.0 \t 0.0 \t 0.0 \t 0.0 \t 0.0 \t 0.0 \t 0.0 \t 0.0 \t 0.0 \t 0.0 \t 0.0 \t 0.0 \t 0.0 \t 0.0 \t 0.0 \t 0.0 \t 0.0 \t 0.0 \t 0.0 \t 0.0 \t 0.0 \t 0.0 \t 0.0 \t 0.0 \t 0.0 \t 0.0 \t 0.0 \t 0.0 \t 0.0 \t 0.0 \t 0.0 \t 0.0 \t 0.0 \t 0.0 \t 0.0 \t 0.0 \t 0.0 \t 0.0 \t 0.0 \t 0.0 \t 0.0 \t 0.0 \t 0.0 \t 0.0 \t 0.0 \t 0.0 \t 0.0 \t 0.0 \t 0.0 \t 0.0 \t 0.0 \t 0.0 \t 0.0 \t 0.0 \t 0.0 \t 0.0 \t 0.0 \t 0.0 \t 0.0 \t 0.0 \t 0.0 \t 0.0 \t 0.0 \t 0.0 \t 0.0 \t 0.0 \t 0.0 \t 0.0 \t 0.0 \t 0.0 \t 0.0 \t 0.0 \t 0.0 \t 0.0 \t 0.0 \t 0.0 \t 0.0 \t 0.0 \t 0.0 \t 0.0 \t 0.0 \t 0.0 \t 0.0 \t 0.0 \t 0.0 \t 0.0 \t 0.0 \t 0.0 \t 0.0 \t 0.0 \t 0.0  SPEAKER1\n",
            " 0.0 \t[0.999]\t 0.000 \t 0.0 \t 0.0 \t 0.0 \t 0.0 \t 0.0 \t 0.0 \t 0.0 \t 0.0 \t 0.0 \t 0.0 \t 0.0 \t 0.0 \t 0.0 \t 0.0 \t 0.0 \t 0.0 \t 0.0 \t 0.0 \t 0.0 \t 0.0 \t 0.0 \t 0.0 \t 0.0 \t 0.0 \t 0.0 \t 0.0 \t 0.0 \t 0.0 \t 0.0 \t 0.0 \t 0.0 \t 0.0 \t 0.0 \t 0.0 \t 0.0 \t 0.0 \t 0.0 \t 0.0 \t 0.0 \t 0.0 \t 0.0 \t 0.0 \t 0.0 \t 0.0 \t 0.0 \t 0.0 \t 0.0 \t 0.0 \t 0.0 \t 0.0 \t 0.0 \t 0.0 \t 0.0 \t 0.0 \t 0.0 \t 0.0 \t 0.0 \t 0.0 \t 0.0 \t 0.0 \t 0.0 \t 0.0 \t 0.0 \t 0.0 \t 0.0 \t 0.0 \t 0.0 \t 0.0 \t 0.0 \t 0.0 \t 0.0 \t 0.0 \t 0.0 \t 0.0 \t 0.0 \t 0.0 \t 0.0 \t 0.0 \t 0.0 \t 0.0 \t 0.0 \t 0.0 \t 0.0 \t 0.0 \t 0.0 \t 0.0 \t 0.0 \t 0.0 \t 0.0 \t 0.0 \t 0.0 \t 0.0 \t 0.0 \t 0.0 \t 0.0 \t 0.0 \t 0.0 \t 0.0 \t 0.0 \t 0.0 \t 0.0 \t 0.0 \t 0.0 \t 0.0 \t 0.0 \t 0.0 \t 0.0 \t 0.0 \t 0.0 \t 0.0 \t 0.0 \t 0.0 \t 0.0 \t 0.0 \t 0.0 \t 0.0 \t 0.0 \t 0.0 \t 0.0 \t 0.0 \t 0.0 \t 0.0 \t 0.0 \t 0.0 \t 0.0 \t 0.0 \t 0.0 \t 0.0 \t 0.0 \t 0.0 \t 0.0 \t 0.0 \t 0.0 \t 0.0 \t 0.0 \t 0.0 \t 0.0 \t 0.0 \t 0.0 \t 0.0 \t 0.0 \t 0.0 \t 0.0 \t 0.0 \t 0.0 \t 0.0 \t 0.0 \t 0.0 \t 0.0 \t 0.0 \t 0.0 \t 0.0 \t 0.0 \t 0.0 \t 0.0 \t 0.0 \t 0.0 \t 0.0  hate\n",
            " 0.0 \t 1e-04 \t[0.999]\t 0.0 \t 0.0 \t 0.0 \t 0.0 \t 0.0 \t 0.0 \t 0.0 \t 0.0 \t 0.0 \t 0.0 \t 0.0 \t 0.0 \t 0.0 \t 0.0 \t 0.0 \t 0.0 \t 0.0 \t 0.0 \t 0.0 \t 0.0 \t 0.0 \t 0.0 \t 0.0 \t 0.0 \t 0.0 \t 0.0 \t 0.0 \t 0.0 \t 0.0 \t 0.0 \t 0.0 \t 0.0 \t 0.0 \t 0.0 \t 0.0 \t 0.0 \t 0.0 \t 0.0 \t 0.0 \t 0.0 \t 0.0 \t 0.0 \t 0.0 \t 0.0 \t 0.0 \t 0.0 \t 0.0 \t 0.0 \t 0.0 \t 0.0 \t 0.0 \t 0.0 \t 0.0 \t 0.0 \t 0.0 \t 0.0 \t 0.0 \t 0.0 \t 0.0 \t 0.0 \t 0.0 \t 0.0 \t 0.0 \t 0.0 \t 0.0 \t 0.0 \t 0.0 \t 0.0 \t 0.0 \t 0.0 \t 0.0 \t 0.0 \t 0.0 \t 0.0 \t 0.0 \t 0.0 \t 0.0 \t 0.0 \t 0.0 \t 0.0 \t 0.0 \t 0.0 \t 0.0 \t 0.0 \t 0.0 \t 0.0 \t 0.0 \t 0.0 \t 0.0 \t 0.0 \t 0.0 \t 0.0 \t 0.0 \t 0.0 \t 0.0 \t 0.0 \t 0.0 \t 0.0 \t 0.0 \t 0.0 \t 0.0 \t 0.0 \t 0.0 \t 0.0 \t 0.0 \t 0.0 \t 0.0 \t 0.0 \t 0.0 \t 0.0 \t 0.0 \t 0.0 \t 0.0 \t 0.0 \t 0.0 \t 0.0 \t 0.0 \t 0.0 \t 0.0 \t 0.0 \t 0.0 \t 0.0 \t 0.0 \t 0.0 \t 0.0 \t 0.0 \t 0.0 \t 0.0 \t 0.0 \t 0.0 \t 0.0 \t 0.0 \t 0.0 \t 0.0 \t 0.0 \t 0.0 \t 0.0 \t 0.0 \t 0.0 \t 0.0 \t 0.0 \t 0.0 \t 0.0 \t 0.0 \t 0.0 \t 0.0 \t 0.0 \t 0.0 \t 0.0 \t 0.0 \t 0.0 \t 0.0 \t 0.0 \t 0.0 \t 0.0 \t 0.0 \t 0.0 \t 0.0  cats\n",
            " 0.153 \t 0.062 \t[0.685]\t 0.000 \t 0.000 \t 0.000 \t 0.000 \t 0.000 \t 0.000 \t 0.000 \t 0.000 \t 0.000 \t 0.000 \t 0.000 \t 0.001 \t 0.000 \t 0.000 \t 1e-04 \t 0.000 \t 0.000 \t 0.000 \t 0.000 \t 0.000 \t 0.001 \t 0.000 \t 0.000 \t 0.000 \t 0.000 \t 0.000 \t 0.000 \t 0.000 \t 0.001 \t 0.001 \t 0.000 \t 0.001 \t 0.000 \t 0.000 \t 0.000 \t 0.000 \t 0.000 \t 0.000 \t 0.000 \t 0.000 \t 0.000 \t 0.000 \t 0.000 \t 0.000 \t 1e-04 \t 0.000 \t 0.000 \t 0.001 \t 0.000 \t 0.000 \t 0.000 \t 0.000 \t 0.000 \t 0.000 \t 0.000 \t 0.000 \t 0.000 \t 0.000 \t 0.000 \t 0.000 \t 0.000 \t 0.000 \t 0.000 \t 0.000 \t 0.000 \t 0.000 \t 0.000 \t 0.000 \t 0.000 \t 0.000 \t 0.000 \t 0.000 \t 0.000 \t 0.000 \t 0.000 \t 0.000 \t 0.000 \t 0.000 \t 0.000 \t 0.000 \t 0.000 \t 0.000 \t 0.000 \t 0.000 \t 0.000 \t 0.000 \t 0.001 \t 0.001 \t 0.000 \t 0.000 \t 0.000 \t 0.000 \t 0.000 \t 0.000 \t 0.000 \t 0.000 \t 0.000 \t 0.000 \t 0.000 \t 0.001 \t 0.000 \t 0.000 \t 0.000 \t 0.000 \t 0.000 \t 0.001 \t 0.000 \t 0.000 \t 0.000 \t 0.000 \t 0.001 \t 0.000 \t 0.000 \t 0.000 \t 0.000 \t 0.000 \t 0.000 \t 0.000 \t 0.000 \t 0.000 \t 0.000 \t 0.000 \t 0.001 \t 0.000 \t 0.000 \t 0.000 \t 0.000 \t 0.000 \t 0.000 \t 0.000 \t 0.000 \t 0.000 \t 0.000 \t 0.000 \t 0.000 \t 0.000 \t 0.000 \t 0.002 \t 0.000 \t 0.000 \t 0.001 \t 0.000 \t 0.000 \t 0.001 \t 0.000 \t 0.000 \t 0.001 \t 0.000 \t 0.000 \t 0.000 \t 0.001 \t 0.000 \t 0.000 \t 0.000 \t 0.000 \t 0.000 \t 0.001 \t 0.000  [SEP]\n"
          ]
        }
      ],
      "source": [
        "inputs = 'SPEAKER1 enjoy watching american football but don\\'t like to make homework <eos> what does Mike want to do? <eos> gaming, but SPEAKER1 hate cats <eos>'.split()\n",
        "#inputs = 'What car do SPEAKER1 drive <eos> a big red truck <eos>'.split()\n",
        "\n",
        "y_pred, subwords, y_subj, y_obj, = bert_model.predict(inputs) #y_subj, y_obj,\n",
        "\n",
        "# show results\n",
        "for arg, y in [('Subject', y_subj), ('Predicate', y_pred), ('Object', y_obj)]: #('Subject', y_subj), , ('Object', y_obj)\n",
        "    print('\\n', arg)\n",
        "    print([\"{}\\t\".format(num) for num in range(179)])\n",
        "    # print('0\\t1\\t2\\t3\\t4\\t5\\t6')\n",
        "    for score, token in zip(y.T, subwords):\n",
        "        score_str = '\\t'.join([\"[\" + str(s)[:5] + \"]\" if s == max(score) else \" \" + str(round(s, 4))[:5] + \" \" for s in score])\n",
        "        token_str = token.replace('▁', '')\n",
        "        print(score_str, token_str)"
      ]
    },
    {
      "cell_type": "code",
      "execution_count": null,
      "metadata": {
        "colab": {
          "base_uri": "https://localhost:8080/"
        },
        "outputId": "00333fcc-7723-4a25-d9dc-70dac03b5dab",
        "id": "uv2ivvPm3CI4"
      },
      "outputs": [
        {
          "output_type": "stream",
          "name": "stdout",
          "text": [
            "[CLS] SPEAKER1 enjoy watching american football but don ' t like to make homework [SEP] what does mike want to do ? [SEP] gaming , but SPEAKER1 hate cats [SEP]\n",
            "\n",
            "Subjects:   {'gaming', 'what does', 'hate cats', 'enjoy', 'watching american football', 'want do', 'like', 'homework', 'mike', 'make', 'SPEAKER1', \"don'\"}\n",
            "Predicates: {'do ', 'like'}\n",
            "Objects:    {'CLS', \"don't\", 'what does', 'SEP', 'enjoy', 'homework SEP', 'like to make', 'watching american football but', 'mike', 'want to do', 'gaming but', 'hate cats SEP', 'SPEAKER1'}\n"
          ]
        }
      ],
      "source": [
        "y_subj, y_pred, y_obj, subwords = model_albert_base.predict(inputs)\n",
        "\n",
        "print(' '.join(subwords).replace('▁', '') + '\\n')\n",
        "print('Subjects:  ', bio_tags_to_tokens(subwords, y_subj.T, bio_lookup, one_hot=True))\n",
        "print('Predicates:', bio_tags_to_tokens(subwords, y_pred.T, bio_lookup, predicate=True, one_hot=True))\n",
        "print('Objects:   ', bio_tags_to_tokens(subwords, y_obj.T, bio_lookup, one_hot=True))"
      ]
    },
    {
      "cell_type": "code",
      "execution_count": null,
      "metadata": {
        "colab": {
          "base_uri": "https://localhost:8080/"
        },
        "outputId": "ba4d05ca-f181-43b3-ef2e-72e27474930a",
        "id": "7VsOsnHX3CI5"
      },
      "outputs": [
        {
          "output_type": "stream",
          "name": "stdout",
          "text": [
            "2022-12-14\n"
          ]
        }
      ],
      "source": [
        "print(str(date.today()))"
      ]
    },
    {
      "cell_type": "code",
      "execution_count": null,
      "metadata": {
        "colab": {
          "base_uri": "https://localhost:8080/",
          "height": 36
        },
        "outputId": "3c434395-a537-42dc-f591-410111666d3f",
        "id": "ZfmOKM0L3CI5"
      },
      "outputs": [
        {
          "output_type": "execute_result",
          "data": {
            "text/plain": [
              "'/content/gdrive/MyDrive/Combots Triple Extraction and Normalization/models/2022-12-14/argument_extraction_albert-base-v2'"
            ],
            "application/vnd.google.colaboratory.intrinsic+json": {
              "type": "string"
            }
          },
          "metadata": {},
          "execution_count": 74
        }
      ],
      "source": [
        "import os, shutil\n",
        "\n",
        "out_dir = root_dir + '/models/' + str(date.today())\n",
        "if not os.path.exists(out_dir):\n",
        "    os.mkdir(out_dir)\n",
        "\n",
        "shutil.copy('argument_extraction_albert-base-v2', out_dir)\n"
      ]
    },
    {
      "cell_type": "code",
      "execution_count": null,
      "metadata": {
        "colab": {
          "base_uri": "https://localhost:8080/",
          "height": 971
        },
        "id": "_qQHsnEMBzEM",
        "outputId": "c9480f88-e22b-4d40-f041-2c1ae63768dd"
      },
      "outputs": [
        {
          "output_type": "stream",
          "name": "stdout",
          "text": [
            "Looking in indexes: https://pypi.org/simple, https://us-python.pkg.dev/colab-wheels/public/simple/\n",
            "Collecting pytorch-transformers\n",
            "  Downloading pytorch_transformers-1.2.0-py3-none-any.whl (176 kB)\n",
            "\u001b[K     |████████████████████████████████| 176 kB 15.4 MB/s \n",
            "\u001b[?25hRequirement already satisfied: requests in /usr/local/lib/python3.8/dist-packages (from pytorch-transformers) (2.23.0)\n",
            "Requirement already satisfied: torch>=1.0.0 in /usr/local/lib/python3.8/dist-packages (from pytorch-transformers) (1.13.0+cu116)\n",
            "Requirement already satisfied: regex in /usr/local/lib/python3.8/dist-packages (from pytorch-transformers) (2022.6.2)\n",
            "Collecting sacremoses\n",
            "  Downloading sacremoses-0.0.53.tar.gz (880 kB)\n",
            "\u001b[K     |████████████████████████████████| 880 kB 52.4 MB/s \n",
            "\u001b[?25hRequirement already satisfied: numpy in /usr/local/lib/python3.8/dist-packages (from pytorch-transformers) (1.21.6)\n",
            "Collecting sentencepiece\n",
            "  Downloading sentencepiece-0.1.97-cp38-cp38-manylinux_2_17_x86_64.manylinux2014_x86_64.whl (1.3 MB)\n",
            "\u001b[K     |████████████████████████████████| 1.3 MB 55.5 MB/s \n",
            "\u001b[?25hRequirement already satisfied: tqdm in /usr/local/lib/python3.8/dist-packages (from pytorch-transformers) (4.64.1)\n",
            "Collecting boto3\n",
            "  Downloading boto3-1.26.28-py3-none-any.whl (132 kB)\n",
            "\u001b[K     |████████████████████████████████| 132 kB 62.9 MB/s \n",
            "\u001b[?25hRequirement already satisfied: typing-extensions in /usr/local/lib/python3.8/dist-packages (from torch>=1.0.0->pytorch-transformers) (4.4.0)\n",
            "Collecting botocore<1.30.0,>=1.29.28\n",
            "  Downloading botocore-1.29.28-py3-none-any.whl (10.3 MB)\n",
            "\u001b[K     |████████████████████████████████| 10.3 MB 69.1 MB/s \n",
            "\u001b[?25hCollecting jmespath<2.0.0,>=0.7.1\n",
            "  Downloading jmespath-1.0.1-py3-none-any.whl (20 kB)\n",
            "Collecting s3transfer<0.7.0,>=0.6.0\n",
            "  Downloading s3transfer-0.6.0-py3-none-any.whl (79 kB)\n",
            "\u001b[K     |████████████████████████████████| 79 kB 8.9 MB/s \n",
            "\u001b[?25hCollecting urllib3<1.27,>=1.25.4\n",
            "  Downloading urllib3-1.26.13-py2.py3-none-any.whl (140 kB)\n",
            "\u001b[K     |████████████████████████████████| 140 kB 65.4 MB/s \n",
            "\u001b[?25hRequirement already satisfied: python-dateutil<3.0.0,>=2.1 in /usr/local/lib/python3.8/dist-packages (from botocore<1.30.0,>=1.29.28->boto3->pytorch-transformers) (2.8.2)\n",
            "Requirement already satisfied: six>=1.5 in /usr/local/lib/python3.8/dist-packages (from python-dateutil<3.0.0,>=2.1->botocore<1.30.0,>=1.29.28->boto3->pytorch-transformers) (1.15.0)\n",
            "Requirement already satisfied: idna<3,>=2.5 in /usr/local/lib/python3.8/dist-packages (from requests->pytorch-transformers) (2.10)\n",
            "  Downloading urllib3-1.25.11-py2.py3-none-any.whl (127 kB)\n",
            "\u001b[K     |████████████████████████████████| 127 kB 66.1 MB/s \n",
            "\u001b[?25hRequirement already satisfied: chardet<4,>=3.0.2 in /usr/local/lib/python3.8/dist-packages (from requests->pytorch-transformers) (3.0.4)\n",
            "Requirement already satisfied: certifi>=2017.4.17 in /usr/local/lib/python3.8/dist-packages (from requests->pytorch-transformers) (2022.9.24)\n",
            "Requirement already satisfied: click in /usr/local/lib/python3.8/dist-packages (from sacremoses->pytorch-transformers) (7.1.2)\n",
            "Requirement already satisfied: joblib in /usr/local/lib/python3.8/dist-packages (from sacremoses->pytorch-transformers) (1.2.0)\n",
            "Building wheels for collected packages: sacremoses\n",
            "  Building wheel for sacremoses (setup.py) ... \u001b[?25l\u001b[?25hdone\n",
            "  Created wheel for sacremoses: filename=sacremoses-0.0.53-py3-none-any.whl size=895260 sha256=3863db7a537cd9664e7673765c92908ad19d1b944ec8f39b96377e981ec92258\n",
            "  Stored in directory: /root/.cache/pip/wheels/82/ab/9b/c15899bf659ba74f623ac776e861cf2eb8608c1825ddec66a4\n",
            "Successfully built sacremoses\n",
            "Installing collected packages: urllib3, jmespath, botocore, s3transfer, sentencepiece, sacremoses, boto3, pytorch-transformers\n",
            "  Attempting uninstall: urllib3\n",
            "    Found existing installation: urllib3 1.24.3\n",
            "    Uninstalling urllib3-1.24.3:\n",
            "      Successfully uninstalled urllib3-1.24.3\n",
            "Successfully installed boto3-1.26.28 botocore-1.29.28 jmespath-1.0.1 pytorch-transformers-1.2.0 s3transfer-0.6.0 sacremoses-0.0.53 sentencepiece-0.1.97 urllib3-1.25.11\n"
          ]
        },
        {
          "output_type": "display_data",
          "data": {
            "application/vnd.colab-display-data+json": {
              "pip_warning": {
                "packages": [
                  "urllib3"
                ]
              }
            }
          },
          "metadata": {}
        }
      ],
      "source": [
        "# To install the package \"pytorch-transformers\"\n",
        "! pip install pytorch-transformers "
      ]
    },
    {
      "cell_type": "markdown",
      "metadata": {
        "id": "0Bo0kvrp3v3s"
      },
      "source": [
        "# Ranking the triples\n",
        "\n",
        "Now we are able to extract the candidate arguments, but how do we combine them?\n",
        "\n",
        "We compute all combinations of the subjects, predicates and objects and train a model to distinguish between those triples that are entailed (not considering negation here) and those that are not.\n",
        "\n",
        "For this, we extract a number of negative examples from possible triples, i.e. those combinations of subjects, predicates and objects that were not annotated."
      ]
    },
    {
      "cell_type": "markdown",
      "metadata": {
        "id": "MR3Ri-6e3v3x"
      },
      "source": [
        "## Converting format"
      ]
    },
    {
      "cell_type": "code",
      "execution_count": null,
      "metadata": {
        "id": "cdho5FhR3v3x"
      },
      "outputs": [],
      "source": [
        "from collections import defaultdict\n",
        "from copy import deepcopy\n",
        "\n",
        "\n",
        "def extract_triples(annotation, neg_oversampling=7, contr_oversampling=0.7, ellipsis_oversampling=3):\n",
        "    \"\"\" Extracts plain-text triples from an annotation file and samples 'negative' examples by\n",
        "        crossover. By default, the function will over-extract triples with negative polarity and\n",
        "        elliptical constructions to counter class imbalance.\n",
        "\n",
        "        params:\n",
        "        dict annotation:            loaded annotation file (see load_annotations)\n",
        "        int neg_oversampling:       how much to over-sample triples with negative polarity\n",
        "        float contr_oversampling:   how much to sample contrast/invalid triples relative to true triples\n",
        "        int ellipsis_oversampling:  how much to over-sample elliptical triples\n",
        "    \"\"\"\n",
        "    turns = annotation['tokens']\n",
        "    triple_ids = [t[:4] for t in annotation['annotations']]\n",
        "\n",
        "    arguments = defaultdict(list)\n",
        "    triples = []\n",
        "    labels = []\n",
        "\n",
        "    # Oversampling of elliptical triples\n",
        "    for triple in deepcopy(triple_ids):\n",
        "        subj_obj_turns = set([i for i, _ in triple[0] + triple[2]])\n",
        "        if len(subj_obj_turns) > 1:\n",
        "            triple_ids += [triple] * int(ellipsis_oversampling)\n",
        "\n",
        "    # Extract 'True' triples\n",
        "    for subj, pred, obj, polar in triple_ids:\n",
        "\n",
        "        subj = ' '.join(turns[i][j] for i, j in subj) if subj else ''\n",
        "        pred = ' '.join(turns[i][j] for i, j in pred) if pred else ''\n",
        "        obj = ' '.join(turns[i][j] for i, j in obj) if obj else ''\n",
        "\n",
        "        if subj or pred or obj:\n",
        "\n",
        "            if not polar:\n",
        "                triples += [(subj, pred, obj)]\n",
        "                labels += [1]\n",
        "            else:\n",
        "                triples += [(subj, pred, obj)] * neg_oversampling  # Oversampling negative polarities\n",
        "                labels += [2] * neg_oversampling\n",
        "\n",
        "            arguments['subjs'].append(subj)\n",
        "            arguments['preds'].append(pred)\n",
        "            arguments['objs'].append(obj)\n",
        "\n",
        "    # Skip if the annotation file was blank\n",
        "    if not triples:\n",
        "        return [], [], []\n",
        "\n",
        "    # Sample fake contrast examples (invalid extractions)\n",
        "    n = int(len(triples) * contr_oversampling)\n",
        "    for i in range(50):\n",
        "        s = random.choice(arguments['subjs'])\n",
        "        p = random.choice(arguments['preds'])\n",
        "        o = random.choice(arguments['objs'])\n",
        "\n",
        "        # Ensure samples are new (and not actually valid!)\n",
        "        if (s, p, o) not in triples and s and p and o:\n",
        "            triples += [(s, p, o)]\n",
        "            labels += [0]\n",
        "            n -= 1\n",
        "\n",
        "        # Create as many fake examples as there were 'real' triples\n",
        "        if n == 0:\n",
        "            break\n",
        "\n",
        "    return turns, triples, labels\n"
      ]
    },
    {
      "cell_type": "code",
      "execution_count": null,
      "metadata": {
        "colab": {
          "base_uri": "https://localhost:8080/"
        },
        "outputId": "dbbb0522-d6b4-4669-823f-2cb2d62babf4",
        "id": "IbDSsdo33v3y"
      },
      "outputs": [
        {
          "output_type": "stream",
          "name": "stdout",
          "text": [
            "tokens:  ['are', 'SPEAKER2', 'a', 'hiker', 'too', '?', '<eos>', 'yes', 'SPEAKER2', 'hike', ',', 'what', 'is', 'skittles', '?', 'like', 'the', 'candy', '?', '<eos>', 'no', ',', 'SPEAKER1', \"'ve\", 'actually', 'never', 'eaten', 'candy', '.', 'SPEAKER1', 'mean', 'the', 'game', '.', '<eos>']\n",
            "triples: [('SPEAKER2', 'are', 'a hiker'), ('SPEAKER2', 'hike', ''), ('SPEAKER1', 'like', 'the candy'), ('SPEAKER1', 'like', 'the candy'), ('SPEAKER1', 'like', 'the candy'), ('SPEAKER1', 'like', 'the candy'), ('SPEAKER1', 'like', 'the candy'), ('SPEAKER1', 'like', 'the candy'), ('SPEAKER1', 'like', 'the candy'), ('SPEAKER1', 'eaten', 'candy'), ('SPEAKER1', 'eaten', 'candy'), ('SPEAKER1', 'eaten', 'candy'), ('SPEAKER1', 'eaten', 'candy'), ('SPEAKER1', 'eaten', 'candy'), ('SPEAKER1', 'eaten', 'candy'), ('SPEAKER1', 'eaten', 'candy'), ('SPEAKER1', 'mean', 'the game'), ('SPEAKER1', 'like', 'the candy'), ('SPEAKER1', 'like', 'the candy'), ('SPEAKER1', 'like', 'the candy'), ('SPEAKER1', 'like', 'the candy'), ('SPEAKER1', 'like', 'the candy'), ('SPEAKER1', 'like', 'the candy'), ('SPEAKER1', 'like', 'the candy'), ('SPEAKER1', 'like', 'the candy'), ('SPEAKER1', 'like', 'the candy'), ('SPEAKER1', 'like', 'the candy'), ('SPEAKER1', 'like', 'the candy'), ('SPEAKER1', 'like', 'the candy'), ('SPEAKER1', 'like', 'the candy'), ('SPEAKER1', 'like', 'the candy'), ('SPEAKER1', 'like', 'the candy'), ('SPEAKER1', 'like', 'the candy'), ('SPEAKER1', 'like', 'the candy'), ('SPEAKER1', 'like', 'the candy'), ('SPEAKER1', 'like', 'the candy'), ('SPEAKER1', 'like', 'the candy'), ('SPEAKER1', 'like', 'the candy'), ('SPEAKER1', 'like', 'the game'), ('SPEAKER1', 'like', 'candy'), ('SPEAKER1', 'mean', 'a hiker'), ('SPEAKER1', 'like', 'a hiker'), ('SPEAKER2', 'hike', 'the candy'), ('SPEAKER1', 'mean', 'candy'), ('SPEAKER2', 'like', 'the candy'), ('SPEAKER1', 'are', 'the candy'), ('SPEAKER1', 'hike', 'the game'), ('SPEAKER1', 'hike', 'the candy'), ('SPEAKER2', 'like', 'a hiker'), ('SPEAKER1', 'eaten', 'the candy'), ('SPEAKER1', 'mean', 'the candy'), ('SPEAKER2', 'hike', 'the game'), ('SPEAKER2', 'eaten', 'the candy'), ('SPEAKER1', 'hike', 'a hiker'), ('SPEAKER1', 'are', 'candy')]\n",
            "labels:  [1, 1, 2, 2, 2, 2, 2, 2, 2, 2, 2, 2, 2, 2, 2, 2, 1, 2, 2, 2, 2, 2, 2, 2, 2, 2, 2, 2, 2, 2, 2, 2, 2, 2, 2, 2, 2, 2, 0, 0, 0, 0, 0, 0, 0, 0, 0, 0, 0, 0, 0, 0, 0, 0, 0]\n"
          ]
        }
      ],
      "source": [
        "tokens, triples, labels = [], [], []\n",
        "for ann in annotations:\n",
        "    ann_tokens, ann_triples, triple_labels = extract_triples(ann)\n",
        "    triples.append(ann_triples)\n",
        "    labels.append(triple_labels)\n",
        "    tokens.append([t for ts in ann_tokens for t in ts + ['<eos>']])\n",
        "\n",
        "j = random.choice(range(len(tokens)))\n",
        "print('tokens: ', tokens[j])\n",
        "print('triples:', triples[j])\n",
        "print('labels: ', labels[j])"
      ]
    },
    {
      "cell_type": "code",
      "execution_count": null,
      "metadata": {
        "colab": {
          "base_uri": "https://localhost:8080/"
        },
        "outputId": "78c8aa61-554f-4853-8bba-f385d3557df3",
        "id": "f2pA1LHJ3v3y"
      },
      "outputs": [
        {
          "output_type": "stream",
          "name": "stdout",
          "text": [
            "Class (im)balance:\n",
            "not entailed   6414\n",
            "entailed (pos) 6690\n",
            "entailed (neg) 5978\n"
          ]
        }
      ],
      "source": [
        "print('Class (im)balance:')\n",
        "print('not entailed  ', sum([np.sum(np.array(t) == 0) for t in labels]))\n",
        "print('entailed (pos)', sum([np.sum(np.array(t) == 1) for t in labels]))\n",
        "print('entailed (neg)', sum([np.sum(np.array(t) == 2) for t in labels]))"
      ]
    },
    {
      "cell_type": "markdown",
      "metadata": {
        "id": "BSnK4rvW3v3y"
      },
      "source": [
        "## Fine-tuning BERT for Triple Candidate Scoring"
      ]
    },
    {
      "cell_type": "code",
      "execution_count": null,
      "metadata": {
        "id": "SJgjEPxs3v3y"
      },
      "outputs": [],
      "source": [
        "class BertTripleScoring(torch.nn.Module):\n",
        "    def __init__(self, base_model='bert-base-uncased', path=root_dir, max_len=80, sep='<eos>'):\n",
        "        super().__init__()\n",
        "        # Base model\n",
        "        print('loading %s for triple scoring' % base_model)\n",
        "        # Load base model\n",
        "        self._model = AutoModel.from_pretrained(base_model)\n",
        "        self._max_len = max_len\n",
        "        self._base = base_model\n",
        "        self._sep = sep\n",
        "\n",
        "        # Load and extend tokenizer with SPEAKERS\n",
        "        self._tokenizer = AutoTokenizer.from_pretrained(base_model)\n",
        "        self._tokenizer.add_tokens(['SPEAKER1', 'SPEAKER2'], special_tokens=True)\n",
        "        self._model.resize_token_embeddings(len(self._tokenizer))\n",
        "\n",
        "        # SPO candidate scoring head\n",
        "        hidden_size = AutoConfig.from_pretrained(base_model).hidden_size\n",
        "        self._head = torch.nn.Linear(hidden_size, 3)\n",
        "        self._relu = torch.nn.ReLU()\n",
        "        self._softmax = torch.nn.Softmax(dim=-1)\n",
        "\n",
        "        # GPU support\n",
        "        self._device = torch.device('cuda') if torch.cuda.is_available() else torch.device('cpu')\n",
        "        self.to(self._device)\n",
        "\n",
        "        # Load model / tokenizer if pretrained model is given\n",
        "        if path:\n",
        "            print('\\t- Loading pretrained')\n",
        "            # model_path = glob.glob(path + '/candidate_scorer_' + base_model)[0]\n",
        "            # self.load_state_dict(torch.load(model_path, map_location=self._device))\n",
        "            self.load_state_dict(torch.load(root_dir+'/scorer_'+base_model+'.pt')) #gdrive doesn't seem to save files without extension\n",
        "\n",
        "    def forward(self, input_ids, speaker_ids, attn_mask):\n",
        "        \"\"\" Computes the forward pass through the model\n",
        "        \"\"\"\n",
        "        out = self._model(input_ids=input_ids, token_type_ids=speaker_ids, attention_mask=attn_mask)\n",
        "        h = self._relu(out.last_hidden_state[:, 0])\n",
        "        return self._softmax(self._head(h))\n",
        "\n",
        "    def _retokenize_dialogue(self, tokens, speaker=1):\n",
        "        # Tokenize each token individually (keeping track of subwords)\n",
        "        f_input_ids = [self._tokenizer.cls_token_id]\n",
        "        speaker_ids = [speaker]\n",
        "        for turn in ' '.join(tokens).split(self._sep):\n",
        "            token_ids = self._tokenizer.encode(turn, add_special_tokens=True)[1:]  # strip [CLS]\n",
        "            f_input_ids += token_ids\n",
        "            speaker_ids += [speaker] * len(token_ids)\n",
        "            speaker = 1 - speaker\n",
        "\n",
        "        return f_input_ids, speaker_ids\n",
        "\n",
        "    def _retokenize_triple(self, triple):\n",
        "        # Append triple\n",
        "        f_input_ids = self._tokenizer.encode(' '.join(triple), add_special_tokens=False)\n",
        "        speaker_ids = [0] * len(f_input_ids)\n",
        "        return f_input_ids, speaker_ids\n",
        "\n",
        "    def _add_padding(self, sequence, pad_token):\n",
        "        # If sequence is too long, cut off end\n",
        "        sequence = sequence[:self._max_len]\n",
        "\n",
        "        # Pad remainder to max_len\n",
        "        padding = self._max_len - len(sequence)\n",
        "        new_sequence = sequence + [pad_token] * padding\n",
        "\n",
        "        # Mask out [PAD] tokens\n",
        "        attn_mask = [1] * len(sequence) + [0] * padding\n",
        "        return new_sequence, attn_mask\n",
        "\n",
        "    def fit(self, tokens, triples, labels, epochs=2, lr=1e-6):\n",
        "        \"\"\" Fits the model to the annotations\n",
        "        \"\"\"\n",
        "        X = []\n",
        "        for tokens, triple_lst, triple_labels in zip(tokens, triples, labels):\n",
        "\n",
        "            # Tokenize dialogue\n",
        "            dialog_input_ids, dialog_speakers = self._retokenize_dialogue(tokens)\n",
        "\n",
        "            for triple, label in zip(triple_lst, triple_labels):\n",
        "                # Tokenize triple\n",
        "                triple_input_ids, triple_speakers = self._retokenize_triple(triple)\n",
        "\n",
        "                # Concatenate dialogue + [UNK] + triple\n",
        "                input_ids = dialog_input_ids[:-1] + [self._tokenizer.unk_token_id] + triple_input_ids\n",
        "                speakers = dialog_speakers[:-1] + [0] + triple_speakers\n",
        "\n",
        "                # Pad sequence with [PAD] to max_len\n",
        "                input_ids, _ = self._add_padding(input_ids, self._tokenizer.pad_token_id)\n",
        "                speakers, attn_mask = self._add_padding(speakers, 0)\n",
        "\n",
        "                # Push Tensor to GPU\n",
        "                input_ids = torch.LongTensor([input_ids]).to(self._device)\n",
        "                speakers = torch.LongTensor([speakers]).to(self._device)\n",
        "                attn_mask = torch.FloatTensor([attn_mask]).to(self._device)\n",
        "                label_ids = torch.LongTensor([label]).to(self._device)\n",
        "\n",
        "                X.append((input_ids, speakers, attn_mask, label_ids))\n",
        "\n",
        "        # Set up optimizer and objective\n",
        "        optimizer = torch.optim.Adam(self.parameters(), lr=lr)\n",
        "        criterion = torch.nn.CrossEntropyLoss()\n",
        "\n",
        "        for epoch in range(epochs):\n",
        "            random.shuffle(X)\n",
        "\n",
        "            losses = []\n",
        "            for input_ids, speaker_ids, attn_mask, y in tqdm(X):\n",
        "                # Was the triple entailed? Positively? Negatively?\n",
        "                y_hat = self(input_ids, speaker_ids, attn_mask)\n",
        "                loss = criterion(y_hat, y)\n",
        "                losses.append(loss.item())\n",
        "\n",
        "                optimizer.zero_grad()\n",
        "                loss.backward()\n",
        "                optimizer.step()\n",
        "\n",
        "            print(\"mean loss =\", np.mean(losses))\n",
        "\n",
        "        # Save model to file\n",
        "        torch.save(self.state_dict(), 'candidate_scorer_%s.pt' % self._base) #if saving to gdrive seems to need file extension\n",
        "\n",
        "    def predict(self, tokens, triples):\n",
        "        # Tokenize dialogue\n",
        "        dialog_input_ids, dialog_speakers = self._retokenize_dialogue(tokens)\n",
        "\n",
        "        batch_input_ids = []\n",
        "        batch_speakers = []\n",
        "        batch_attn_mask = []\n",
        "\n",
        "        for triple in triples:\n",
        "            # Tokenize triple\n",
        "            triple_input_ids, triple_speakers = self._retokenize_triple(triple)\n",
        "\n",
        "            # Concatenate dialogue + [UNK] + triple\n",
        "            input_ids = dialog_input_ids + [self._tokenizer.unk_token_id] + triple_input_ids\n",
        "            speakers = dialog_speakers + [0] + triple_speakers\n",
        "\n",
        "            # Pad sequence with [PAD] to max_len\n",
        "            input_ids, _ = self._add_padding(input_ids, self._tokenizer.pad_token_id)\n",
        "            speakers, attn_mask = self._add_padding(speakers, 0)\n",
        "\n",
        "            batch_input_ids.append(input_ids)\n",
        "            batch_speakers.append(speakers)\n",
        "            batch_attn_mask.append(attn_mask)\n",
        "\n",
        "        # Push batches to GPU\n",
        "        batch_input_ids = torch.LongTensor(batch_input_ids).to(self._device)\n",
        "        batch_speakers = torch.LongTensor(batch_speakers).to(self._device)\n",
        "        batch_attn_mask = torch.FloatTensor(batch_attn_mask).to(self._device)\n",
        "\n",
        "        label = self(batch_input_ids, batch_speakers, batch_attn_mask)\n",
        "        label = label.cpu().detach().numpy()\n",
        "        return label"
      ]
    },
    {
      "cell_type": "code",
      "execution_count": null,
      "metadata": {
        "colab": {
          "base_uri": "https://localhost:8080/"
        },
        "outputId": "54c19270-c921-4320-c438-204ad3437c07",
        "id": "0HAOq2tC3v3y"
      },
      "outputs": [
        {
          "output_type": "stream",
          "name": "stdout",
          "text": [
            "loading albert-base-v2 for triple scoring\n"
          ]
        },
        {
          "output_type": "stream",
          "name": "stderr",
          "text": [
            "100%|██████████| 19082/19082 [09:43<00:00, 32.69it/s]\n"
          ]
        },
        {
          "output_type": "stream",
          "name": "stdout",
          "text": [
            "mean loss = 0.8315123576386246\n"
          ]
        },
        {
          "output_type": "stream",
          "name": "stderr",
          "text": [
            "100%|██████████| 19082/19082 [09:39<00:00, 32.96it/s]\n"
          ]
        },
        {
          "output_type": "stream",
          "name": "stdout",
          "text": [
            "mean loss = 0.6663190892951917\n"
          ]
        },
        {
          "output_type": "stream",
          "name": "stderr",
          "text": [
            "100%|██████████| 19082/19082 [10:31<00:00, 30.22it/s]\n"
          ]
        },
        {
          "output_type": "stream",
          "name": "stdout",
          "text": [
            "mean loss = 0.629196528471462\n"
          ]
        },
        {
          "output_type": "stream",
          "name": "stderr",
          "text": [
            "100%|██████████| 19082/19082 [09:56<00:00, 32.00it/s]\n"
          ]
        },
        {
          "output_type": "stream",
          "name": "stdout",
          "text": [
            "mean loss = 0.6078200756335281\n"
          ]
        },
        {
          "output_type": "stream",
          "name": "stderr",
          "text": [
            "100%|██████████| 19082/19082 [09:43<00:00, 32.69it/s]\n"
          ]
        },
        {
          "output_type": "stream",
          "name": "stdout",
          "text": [
            "mean loss = 0.599275085726395\n"
          ]
        },
        {
          "output_type": "stream",
          "name": "stderr",
          "text": [
            "100%|██████████| 19082/19082 [09:37<00:00, 33.01it/s]\n"
          ]
        },
        {
          "output_type": "stream",
          "name": "stdout",
          "text": [
            "mean loss = 0.5935076415420091\n"
          ]
        },
        {
          "output_type": "stream",
          "name": "stderr",
          "text": [
            "100%|██████████| 19082/19082 [09:49<00:00, 32.35it/s]\n"
          ]
        },
        {
          "output_type": "stream",
          "name": "stdout",
          "text": [
            "mean loss = 0.5892000036623952\n"
          ]
        }
      ],
      "source": [
        "bert_scorer = BertTripleScoring()\n",
        "# scorer.fit(tokens, triples, labels, epochs=7) # don't train if there is a model to load"
      ]
    },
    {
      "cell_type": "code",
      "execution_count": null,
      "metadata": {
        "colab": {
          "base_uri": "https://localhost:8080/"
        },
        "outputId": "36ca7ad4-eb9b-4051-8916-d535142bc41e",
        "id": "jIgE_mW03v3z"
      },
      "outputs": [
        {
          "output_type": "execute_result",
          "data": {
            "text/plain": [
              "array([[0.001, 0.001, 0.999],\n",
              "       [0.015, 0.975, 0.01 ],\n",
              "       [0.02 , 0.64 , 0.34 ],\n",
              "       [0.001, 0.   , 0.999],\n",
              "       [0.   , 0.   , 1.   ],\n",
              "       [0.001, 0.   , 0.999],\n",
              "       [0.999, 0.001, 0.   ],\n",
              "       [0.002, 0.   , 0.998],\n",
              "       [0.217, 0.001, 0.782]], dtype=float32)"
            ]
          },
          "metadata": {},
          "execution_count": 81
        }
      ],
      "source": [
        "inputs = 'SPEAKER1 adore unicorns but not photography <eos> What do SPEAKER1 like ? <eos> dogs and gaming, but not cats or elephants . <eos>'.split()\n",
        "triple_examples = [['SPEAKER1', 'adore', 'unicorns'],\n",
        "                   ['SPEAKER1', 'like', 'dogs'],\n",
        "                   ['SPEAKER1', 'like', 'gaming'],\n",
        "                   ['SPEAKER1', 'adore', 'photography'],\n",
        "                   ['SPEAKER1', 'like', 'cats'],\n",
        "                   ['SPEAKER1', 'like', 'elephants'],\n",
        "                   ['SPEAKER1', 'adore', 'elephants'],\n",
        "                   ['SPEAKER1', 'like', 'photography'],\n",
        "                   ['SPEAKER1', 'like', 'unicorns']]\n",
        "\n",
        "np.round(bert_scorer.predict(inputs, triple_examples), 3)"
      ]
    },
    {
      "cell_type": "markdown",
      "metadata": {
        "id": "ZrISu1RU3v3z"
      },
      "source": [
        "We move the resulting model to Drive:"
      ]
    },
    {
      "cell_type": "code",
      "execution_count": null,
      "metadata": {
        "colab": {
          "base_uri": "https://localhost:8080/",
          "height": 36
        },
        "outputId": "fd9fbdea-d6bb-44b9-e6cd-a0e0eaf9395c",
        "id": "rxFTiLdg3v3z"
      },
      "outputs": [
        {
          "output_type": "execute_result",
          "data": {
            "text/plain": [
              "'/content/gdrive/MyDrive/Combots Triple Extraction and Normalization/models/2022-12-14/candidate_scorer_albert-base-v2'"
            ],
            "application/vnd.google.colaboratory.intrinsic+json": {
              "type": "string"
            }
          },
          "metadata": {},
          "execution_count": 82
        }
      ],
      "source": [
        "import os, shutil\n",
        "\n",
        "out_dir = root_dir + '/models/' + str(date.today())\n",
        "if not os.path.exists(out_dir):\n",
        "    os.mkdir(out_dir)\n",
        "\n",
        "shutil.copy('candidate_scorer_albert-base-v2', out_dir)"
      ]
    }
  ],
  "metadata": {
    "accelerator": "GPU",
    "colab": {
      "collapsed_sections": [
        "u6XnlD6P5Tl2",
        "CvSlrU9dH2xp",
        "fyTxtPxtVag6",
        "3s1ntCYkYdyV",
        "FVzgZi9evArA",
        "eG2lnhVZvGpq",
        "W4-S-jSQu5U7",
        "xvv9Im0nqiNM",
        "u1hBZlAQrGUO",
        "D_GyAqbPKvFE"
      ],
      "provenance": []
    },
    "gpuClass": "standard",
    "kernelspec": {
      "display_name": "Python 3",
      "name": "python3"
    },
    "language_info": {
      "name": "python"
    }
  },
  "nbformat": 4,
  "nbformat_minor": 0
}